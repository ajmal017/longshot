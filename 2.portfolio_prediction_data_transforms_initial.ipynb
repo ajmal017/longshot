{
 "cells": [
  {
   "cell_type": "code",
   "execution_count": 1,
   "metadata": {},
   "outputs": [],
   "source": [
    "from database.market import Market\n",
    "from transformer.column_transformer import ColumnTransformer\n",
    "from transformer.date_transformer import DateTransformer\n",
    "from utils.date_utils import DateUtils\n",
    "import pandas as pd\n",
    "import matplotlib.pyplot as plt\n",
    "from datetime import datetime, timedelta, timezone\n",
    "from tqdm import tqdm\n",
    "import math\n",
    "import numpy as np\n",
    "import statistics"
   ]
  },
  {
   "cell_type": "code",
   "execution_count": 2,
   "metadata": {},
   "outputs": [],
   "source": [
    "## Loading Constants\n",
    "start = (datetime.now() - timedelta(days=730)).strftime(\"%Y-%m-%d\")\n",
    "end = datetime.now().strftime(\"%Y-%m-%d\")\n",
    "# Loading Databases\n",
    "market = Market()\n",
    "market.connect()\n",
    "tickers = market.retrieve_data(\"sp500\").sort_values(\"Symbol\")\n",
    "market.close()\n",
    "model_range = range(len(tickers))\n",
    "datasets = [\n",
    "#                 \"pdr\",\n",
    "            \"tiingo\"\n",
    "            ,\"finnhub\"\n",
    "           ]"
   ]
  },
  {
   "cell_type": "code",
   "execution_count": 3,
   "metadata": {
    "scrolled": true
   },
   "outputs": [
    {
     "name": "stderr",
     "output_type": "stream",
     "text": [
      "  0%|                                                                     | 0/505 [00:00<?, ?it/s]<ipython-input-3-1932727f8913>:21: SettingWithCopyWarning: \n",
      "A value is trying to be set on a copy of a slice from a DataFrame.\n",
      "Try using .loc[row_indexer,col_indexer] = value instead\n",
      "\n",
      "See the caveats in the documentation: https://pandas.pydata.org/pandas-docs/stable/user_guide/indexing.html#returning-a-view-versus-a-copy\n",
      "  relev[\"ticker\"] = ticker\n",
      "<ipython-input-3-1932727f8913>:22: SettingWithCopyWarning: \n",
      "A value is trying to be set on a copy of a slice from a DataFrame\n",
      "\n",
      "See the caveats in the documentation: https://pandas.pydata.org/pandas-docs/stable/user_guide/indexing.html#returning-a-view-versus-a-copy\n",
      "  relev.sort_values(\"date\",inplace=True)\n",
      "c:\\users\\eric\\appdata\\local\\programs\\python\\python38\\lib\\site-packages\\pandas\\core\\frame.py:4125: SettingWithCopyWarning: \n",
      "A value is trying to be set on a copy of a slice from a DataFrame\n",
      "\n",
      "See the caveats in the documentation: https://pandas.pydata.org/pandas-docs/stable/user_guide/indexing.html#returning-a-view-versus-a-copy\n",
      "  return super().rename(\n",
      "<ipython-input-3-1932727f8913>:24: SettingWithCopyWarning: \n",
      "A value is trying to be set on a copy of a slice from a DataFrame.\n",
      "Try using .loc[row_indexer,col_indexer] = value instead\n",
      "\n",
      "See the caveats in the documentation: https://pandas.pydata.org/pandas-docs/stable/user_guide/indexing.html#returning-a-view-versus-a-copy\n",
      "  relev[\"date\"] = [datetime.strptime(str(x).split(\" \")[0],\"%Y-%m-%d\") for x in relev[\"date\"]]\n",
      "100%|███████████████████████████████████████████████████████████| 505/505 [00:54<00:00,  9.34it/s]"
     ]
    },
    {
     "name": "stdout",
     "output_type": "stream",
     "text": [
      "'t' YUM\n",
      "'t' ZBRA\n",
      "'t' ZBH\n",
      "'t' ZION\n",
      "'t' ZTS\n"
     ]
    },
    {
     "name": "stderr",
     "output_type": "stream",
     "text": [
      "\n"
     ]
    }
   ],
   "source": [
    "refined_daily_classification = []\n",
    "refined_quarterly_classification = []\n",
    "refined_weekly_classification = []\n",
    "refined_model_regression = []\n",
    "market.connect()\n",
    "for i in tqdm(model_range):\n",
    "    try:\n",
    "        refined_regression = []\n",
    "        for dataset in datasets:\n",
    "            ticker = tickers[\"Symbol\"][i]\n",
    "            if \".\" in ticker:\n",
    "                ticker = ticker.replace(\".\",\"-\")\n",
    "            prices = market.retrieve_price_data(\"portfolio_{}_prices\".format(dataset),ticker)\n",
    "            if dataset == \"pdr\":\n",
    "                prices = ColumnTransformer.rename_columns(prices, \" \")\n",
    "            else:\n",
    "                prices = ColumnTransformer.rename_columns(prices, \"_\")\n",
    "            prices = DateTransformer.convert_to_date(dataset,prices,\"date\")\n",
    "            prices.reset_index(inplace=True)\n",
    "            relev = prices[[\"date\",\"adjclose\"]]\n",
    "            relev[\"ticker\"] = ticker\n",
    "            relev.sort_values(\"date\",inplace=True)\n",
    "            relev.rename(columns={\"adjclose\":dataset},inplace=True) \n",
    "            relev[\"date\"] = [datetime.strptime(str(x).split(\" \")[0],\"%Y-%m-%d\") for x in relev[\"date\"]]\n",
    "            ## daily transformations\n",
    "            refined_regression.append(relev)\n",
    "        base = refined_regression[0]\n",
    "        for rr in refined_regression[1:]:\n",
    "            base = base.merge(rr,on=[\"date\",\"ticker\"],how=\"left\")\n",
    "        adjclose = []\n",
    "        for row in base.iterrows():\n",
    "            values = []\n",
    "            for x in datasets:\n",
    "                try:\n",
    "                    values.append(row[1][x])\n",
    "                except:\n",
    "                    continue\n",
    "            adjclose.append(np.nanmean(values))\n",
    "        base[\"adjclose\"] = adjclose\n",
    "        relev = base.copy()\n",
    "        relev[\"week\"] = [x.week for x in relev[\"date\"]]\n",
    "        relev[\"quarter\"] = [x.quarter for x in relev[\"date\"]]\n",
    "        relev[\"year\"] = [x.year for x in relev[\"date\"]]\n",
    "        refined_model_regression.append(relev.copy())\n",
    "    except Exception as e:\n",
    "        print(str(e),ticker)\n",
    "market.close()"
   ]
  },
  {
   "cell_type": "code",
   "execution_count": 4,
   "metadata": {},
   "outputs": [],
   "source": [
    "base = pd.concat(refined_model_regression)"
   ]
  },
  {
   "cell_type": "code",
   "execution_count": 5,
   "metadata": {},
   "outputs": [
    {
     "data": {
      "text/plain": [
       "Timestamp('2021-07-30 00:00:00')"
      ]
     },
     "execution_count": 5,
     "metadata": {},
     "output_type": "execute_result"
    }
   ],
   "source": [
    "base[\"date\"].max()"
   ]
  },
  {
   "cell_type": "code",
   "execution_count": 6,
   "metadata": {},
   "outputs": [],
   "source": [
    "daily_base = base[base[\"date\"]>datetime(2021,7,28)]"
   ]
  },
  {
   "cell_type": "code",
   "execution_count": 7,
   "metadata": {
    "scrolled": true
   },
   "outputs": [
    {
     "data": {
      "text/plain": [
       "Timestamp('2021-07-29 00:00:00')"
      ]
     },
     "execution_count": 7,
     "metadata": {},
     "output_type": "execute_result"
    }
   ],
   "source": [
    "daily_base[\"date\"].min()"
   ]
  },
  {
   "cell_type": "code",
   "execution_count": 8,
   "metadata": {},
   "outputs": [],
   "source": [
    "market.connect()\n",
    "prices = market.retrieve_price_data(\"portfolio_{}_prices\".format(dataset),\"AAPL\")\n",
    "market.close()"
   ]
  },
  {
   "cell_type": "code",
   "execution_count": 8,
   "metadata": {},
   "outputs": [
    {
     "data": {
      "text/html": [
       "<div>\n",
       "<style scoped>\n",
       "    .dataframe tbody tr th:only-of-type {\n",
       "        vertical-align: middle;\n",
       "    }\n",
       "\n",
       "    .dataframe tbody tr th {\n",
       "        vertical-align: top;\n",
       "    }\n",
       "\n",
       "    .dataframe thead th {\n",
       "        text-align: right;\n",
       "    }\n",
       "</style>\n",
       "<table border=\"1\" class=\"dataframe\">\n",
       "  <thead>\n",
       "    <tr style=\"text-align: right;\">\n",
       "      <th></th>\n",
       "      <th>date</th>\n",
       "      <th>tiingo</th>\n",
       "      <th>ticker</th>\n",
       "      <th>finnhub</th>\n",
       "      <th>adjclose</th>\n",
       "      <th>week</th>\n",
       "      <th>quarter</th>\n",
       "      <th>year</th>\n",
       "    </tr>\n",
       "  </thead>\n",
       "  <tbody>\n",
       "    <tr>\n",
       "      <th>596</th>\n",
       "      <td>2021-07-29</td>\n",
       "      <td>198.17</td>\n",
       "      <td>MMM</td>\n",
       "      <td>197.94</td>\n",
       "      <td>198.055</td>\n",
       "      <td>30</td>\n",
       "      <td>3</td>\n",
       "      <td>2021</td>\n",
       "    </tr>\n",
       "    <tr>\n",
       "      <th>597</th>\n",
       "      <td>2021-07-30</td>\n",
       "      <td>197.94</td>\n",
       "      <td>MMM</td>\n",
       "      <td>NaN</td>\n",
       "      <td>197.940</td>\n",
       "      <td>30</td>\n",
       "      <td>3</td>\n",
       "      <td>2021</td>\n",
       "    </tr>\n",
       "    <tr>\n",
       "      <th>596</th>\n",
       "      <td>2021-07-29</td>\n",
       "      <td>121.09</td>\n",
       "      <td>ABT</td>\n",
       "      <td>120.98</td>\n",
       "      <td>121.035</td>\n",
       "      <td>30</td>\n",
       "      <td>3</td>\n",
       "      <td>2021</td>\n",
       "    </tr>\n",
       "    <tr>\n",
       "      <th>597</th>\n",
       "      <td>2021-07-30</td>\n",
       "      <td>120.98</td>\n",
       "      <td>ABT</td>\n",
       "      <td>NaN</td>\n",
       "      <td>120.980</td>\n",
       "      <td>30</td>\n",
       "      <td>3</td>\n",
       "      <td>2021</td>\n",
       "    </tr>\n",
       "    <tr>\n",
       "      <th>596</th>\n",
       "      <td>2021-07-29</td>\n",
       "      <td>118.87</td>\n",
       "      <td>ABBV</td>\n",
       "      <td>116.30</td>\n",
       "      <td>117.585</td>\n",
       "      <td>30</td>\n",
       "      <td>3</td>\n",
       "      <td>2021</td>\n",
       "    </tr>\n",
       "    <tr>\n",
       "      <th>...</th>\n",
       "      <td>...</td>\n",
       "      <td>...</td>\n",
       "      <td>...</td>\n",
       "      <td>...</td>\n",
       "      <td>...</td>\n",
       "      <td>...</td>\n",
       "      <td>...</td>\n",
       "      <td>...</td>\n",
       "    </tr>\n",
       "    <tr>\n",
       "      <th>597</th>\n",
       "      <td>2021-07-30</td>\n",
       "      <td>68.25</td>\n",
       "      <td>XEL</td>\n",
       "      <td>NaN</td>\n",
       "      <td>68.250</td>\n",
       "      <td>30</td>\n",
       "      <td>3</td>\n",
       "      <td>2021</td>\n",
       "    </tr>\n",
       "    <tr>\n",
       "      <th>596</th>\n",
       "      <td>2021-07-29</td>\n",
       "      <td>147.25</td>\n",
       "      <td>XLNX</td>\n",
       "      <td>149.84</td>\n",
       "      <td>148.545</td>\n",
       "      <td>30</td>\n",
       "      <td>3</td>\n",
       "      <td>2021</td>\n",
       "    </tr>\n",
       "    <tr>\n",
       "      <th>597</th>\n",
       "      <td>2021-07-30</td>\n",
       "      <td>149.84</td>\n",
       "      <td>XLNX</td>\n",
       "      <td>NaN</td>\n",
       "      <td>149.840</td>\n",
       "      <td>30</td>\n",
       "      <td>3</td>\n",
       "      <td>2021</td>\n",
       "    </tr>\n",
       "    <tr>\n",
       "      <th>596</th>\n",
       "      <td>2021-07-29</td>\n",
       "      <td>125.06</td>\n",
       "      <td>XYL</td>\n",
       "      <td>125.85</td>\n",
       "      <td>125.455</td>\n",
       "      <td>30</td>\n",
       "      <td>3</td>\n",
       "      <td>2021</td>\n",
       "    </tr>\n",
       "    <tr>\n",
       "      <th>597</th>\n",
       "      <td>2021-07-30</td>\n",
       "      <td>125.85</td>\n",
       "      <td>XYL</td>\n",
       "      <td>NaN</td>\n",
       "      <td>125.850</td>\n",
       "      <td>30</td>\n",
       "      <td>3</td>\n",
       "      <td>2021</td>\n",
       "    </tr>\n",
       "  </tbody>\n",
       "</table>\n",
       "<p>998 rows × 8 columns</p>\n",
       "</div>"
      ],
      "text/plain": [
       "          date  tiingo ticker  finnhub  adjclose  week  quarter  year\n",
       "596 2021-07-29  198.17    MMM   197.94   198.055    30        3  2021\n",
       "597 2021-07-30  197.94    MMM      NaN   197.940    30        3  2021\n",
       "596 2021-07-29  121.09    ABT   120.98   121.035    30        3  2021\n",
       "597 2021-07-30  120.98    ABT      NaN   120.980    30        3  2021\n",
       "596 2021-07-29  118.87   ABBV   116.30   117.585    30        3  2021\n",
       "..         ...     ...    ...      ...       ...   ...      ...   ...\n",
       "597 2021-07-30   68.25    XEL      NaN    68.250    30        3  2021\n",
       "596 2021-07-29  147.25   XLNX   149.84   148.545    30        3  2021\n",
       "597 2021-07-30  149.84   XLNX      NaN   149.840    30        3  2021\n",
       "596 2021-07-29  125.06    XYL   125.85   125.455    30        3  2021\n",
       "597 2021-07-30  125.85    XYL      NaN   125.850    30        3  2021\n",
       "\n",
       "[998 rows x 8 columns]"
      ]
     },
     "execution_count": 8,
     "metadata": {},
     "output_type": "execute_result"
    }
   ],
   "source": [
    "daily_base"
   ]
  },
  {
   "cell_type": "code",
   "execution_count": 9,
   "metadata": {},
   "outputs": [],
   "source": [
    "market.connect()\n",
    "market.store_data(\"portfolio_prices\",daily_base.groupby([\"date\",\"ticker\"]).mean().reset_index())\n",
    "market.close()"
   ]
  },
  {
   "cell_type": "code",
   "execution_count": 10,
   "metadata": {},
   "outputs": [],
   "source": [
    "final = base.pivot_table(index=[\"year\",\"quarter\",\"week\"],values=\"adjclose\",columns=\"ticker\").reset_index()\n",
    "final.fillna(-99999,inplace=True)\n",
    "for timeframe in [\"week\"]:\n",
    "    if timeframe == \"week\":\n",
    "        relev = final.groupby([\"year\",\"quarter\",\"week\"]).mean().reset_index()\n",
    "    else:\n",
    "        relev = final.groupby([\"year\",\"quarter\"]).mean().reset_index()\n",
    "    relev.reset_index(drop=True,inplace=True)\n",
    "    name = \"portfolio_dataset_{}_regression\".format(timeframe)"
   ]
  },
  {
   "cell_type": "code",
   "execution_count": 11,
   "metadata": {},
   "outputs": [],
   "source": [
    "weekly_set = relev[(relev[\"year\"]==2021) & (relev[\"week\"] > 28)]"
   ]
  },
  {
   "cell_type": "code",
   "execution_count": 12,
   "metadata": {},
   "outputs": [
    {
     "data": {
      "text/html": [
       "<div>\n",
       "<style scoped>\n",
       "    .dataframe tbody tr th:only-of-type {\n",
       "        vertical-align: middle;\n",
       "    }\n",
       "\n",
       "    .dataframe tbody tr th {\n",
       "        vertical-align: top;\n",
       "    }\n",
       "\n",
       "    .dataframe thead th {\n",
       "        text-align: right;\n",
       "    }\n",
       "</style>\n",
       "<table border=\"1\" class=\"dataframe\">\n",
       "  <thead>\n",
       "    <tr style=\"text-align: right;\">\n",
       "      <th>ticker</th>\n",
       "      <th>year</th>\n",
       "      <th>quarter</th>\n",
       "      <th>week</th>\n",
       "      <th>A</th>\n",
       "      <th>AAL</th>\n",
       "      <th>AAP</th>\n",
       "      <th>AAPL</th>\n",
       "      <th>ABBV</th>\n",
       "      <th>ABC</th>\n",
       "      <th>ABMD</th>\n",
       "      <th>...</th>\n",
       "      <th>WRK</th>\n",
       "      <th>WST</th>\n",
       "      <th>WU</th>\n",
       "      <th>WY</th>\n",
       "      <th>WYNN</th>\n",
       "      <th>XEL</th>\n",
       "      <th>XLNX</th>\n",
       "      <th>XOM</th>\n",
       "      <th>XRAY</th>\n",
       "      <th>XYL</th>\n",
       "    </tr>\n",
       "  </thead>\n",
       "  <tbody>\n",
       "    <tr>\n",
       "      <th>118</th>\n",
       "      <td>2021</td>\n",
       "      <td>3</td>\n",
       "      <td>29</td>\n",
       "      <td>149.922222</td>\n",
       "      <td>20.845556</td>\n",
       "      <td>210.601111</td>\n",
       "      <td>146.252222</td>\n",
       "      <td>116.995556</td>\n",
       "      <td>118.257778</td>\n",
       "      <td>323.513333</td>\n",
       "      <td>...</td>\n",
       "      <td>48.305556</td>\n",
       "      <td>373.578983</td>\n",
       "      <td>23.026667</td>\n",
       "      <td>33.990</td>\n",
       "      <td>106.555556</td>\n",
       "      <td>67.747778</td>\n",
       "      <td>134.538889</td>\n",
       "      <td>56.787778</td>\n",
       "      <td>63.016667</td>\n",
       "      <td>121.741111</td>\n",
       "    </tr>\n",
       "    <tr>\n",
       "      <th>119</th>\n",
       "      <td>2021</td>\n",
       "      <td>3</td>\n",
       "      <td>30</td>\n",
       "      <td>151.810000</td>\n",
       "      <td>21.174000</td>\n",
       "      <td>213.229000</td>\n",
       "      <td>146.135000</td>\n",
       "      <td>117.745000</td>\n",
       "      <td>121.822000</td>\n",
       "      <td>324.756000</td>\n",
       "      <td>...</td>\n",
       "      <td>49.477000</td>\n",
       "      <td>394.732000</td>\n",
       "      <td>23.255000</td>\n",
       "      <td>34.395</td>\n",
       "      <td>100.383000</td>\n",
       "      <td>68.696000</td>\n",
       "      <td>141.854000</td>\n",
       "      <td>58.115000</td>\n",
       "      <td>65.247000</td>\n",
       "      <td>124.551000</td>\n",
       "    </tr>\n",
       "  </tbody>\n",
       "</table>\n",
       "<p>2 rows × 503 columns</p>\n",
       "</div>"
      ],
      "text/plain": [
       "ticker  year  quarter  week           A        AAL         AAP        AAPL  \\\n",
       "118     2021        3    29  149.922222  20.845556  210.601111  146.252222   \n",
       "119     2021        3    30  151.810000  21.174000  213.229000  146.135000   \n",
       "\n",
       "ticker        ABBV         ABC        ABMD  ...        WRK         WST  \\\n",
       "118     116.995556  118.257778  323.513333  ...  48.305556  373.578983   \n",
       "119     117.745000  121.822000  324.756000  ...  49.477000  394.732000   \n",
       "\n",
       "ticker         WU      WY        WYNN        XEL        XLNX        XOM  \\\n",
       "118     23.026667  33.990  106.555556  67.747778  134.538889  56.787778   \n",
       "119     23.255000  34.395  100.383000  68.696000  141.854000  58.115000   \n",
       "\n",
       "ticker       XRAY         XYL  \n",
       "118     63.016667  121.741111  \n",
       "119     65.247000  124.551000  \n",
       "\n",
       "[2 rows x 503 columns]"
      ]
     },
     "execution_count": 12,
     "metadata": {},
     "output_type": "execute_result"
    }
   ],
   "source": [
    "weekly_set"
   ]
  },
  {
   "cell_type": "code",
   "execution_count": 13,
   "metadata": {},
   "outputs": [
    {
     "data": {
      "text/plain": [
       "'portfolio_dataset_week_regression'"
      ]
     },
     "execution_count": 13,
     "metadata": {},
     "output_type": "execute_result"
    }
   ],
   "source": [
    "name"
   ]
  },
  {
   "cell_type": "code",
   "execution_count": 14,
   "metadata": {},
   "outputs": [],
   "source": [
    "market.connect()\n",
    "market.store_data(name,weekly_set)\n",
    "market.close()"
   ]
  }
 ],
 "metadata": {
  "kernelspec": {
   "display_name": "Python 3",
   "language": "python",
   "name": "python3"
  },
  "language_info": {
   "codemirror_mode": {
    "name": "ipython",
    "version": 3
   },
   "file_extension": ".py",
   "mimetype": "text/x-python",
   "name": "python",
   "nbconvert_exporter": "python",
   "pygments_lexer": "ipython3",
   "version": "3.8.0"
  }
 },
 "nbformat": 4,
 "nbformat_minor": 4
}
