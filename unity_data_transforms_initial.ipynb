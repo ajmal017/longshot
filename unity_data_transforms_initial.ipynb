{
 "cells": [
  {
   "cell_type": "code",
   "execution_count": 4,
   "metadata": {},
   "outputs": [],
   "source": [
    "from database.strategy import Strategy\n",
    "from database.sec import SEC\n",
    "from database.market import Market\n",
    "from transformer.column_transformer import ColumnTransformer\n",
    "from transformer.date_transformer import DateTransformer\n",
    "from utils.date_utils import DateUtils\n",
    "import pandas as pd\n",
    "import matplotlib.pyplot as plt\n",
    "from datetime import datetime, timedelta, timezone\n",
    "from tqdm import tqdm\n",
    "import math"
   ]
  },
  {
   "cell_type": "code",
   "execution_count": 5,
   "metadata": {},
   "outputs": [],
   "source": [
    "## Loading Constants\n",
    "start = \"2008-01-01\"\n",
    "end = datetime.now().strftime(\"%Y-%m-%d\")\n",
    "# Loading Databases\n",
    "strat_db = Strategy(\"unity\")\n",
    "market = Market()\n",
    "sec = SEC(\"sec\")\n",
    "market.connect()\n",
    "tickers = market.retrieve_data(\"sp500\").sort_values(\"Symbol\")\n",
    "market.close()\n",
    "reload = True\n",
    "model_range = range(len(tickers))\n",
    "datasets = [\n",
    "                \"pdr\"\n",
    "            ,\"tiingo\"\n",
    "            ,\"finnhub\"\n",
    "           ]"
   ]
  },
  {
   "cell_type": "code",
   "execution_count": 6,
   "metadata": {
    "scrolled": true
   },
   "outputs": [
    {
     "name": "stderr",
     "output_type": "stream",
     "text": [
      "  0%|                                                                                                                                              | 0/506 [00:00<?, ?it/s]<ipython-input-6-35e10f3e184b>:22: SettingWithCopyWarning: \n",
      "A value is trying to be set on a copy of a slice from a DataFrame.\n",
      "Try using .loc[row_indexer,col_indexer] = value instead\n",
      "\n",
      "See the caveats in the documentation: https://pandas.pydata.org/pandas-docs/stable/user_guide/indexing.html#returning-a-view-versus-a-copy\n",
      "  relev[\"ticker\"] = ticker\n",
      "<ipython-input-6-35e10f3e184b>:23: SettingWithCopyWarning: \n",
      "A value is trying to be set on a copy of a slice from a DataFrame.\n",
      "Try using .loc[row_indexer,col_indexer] = value instead\n",
      "\n",
      "See the caveats in the documentation: https://pandas.pydata.org/pandas-docs/stable/user_guide/indexing.html#returning-a-view-versus-a-copy\n",
      "  relev[\"week\"] = [x.week for x in relev[\"date\"]]\n",
      "<ipython-input-6-35e10f3e184b>:24: SettingWithCopyWarning: \n",
      "A value is trying to be set on a copy of a slice from a DataFrame.\n",
      "Try using .loc[row_indexer,col_indexer] = value instead\n",
      "\n",
      "See the caveats in the documentation: https://pandas.pydata.org/pandas-docs/stable/user_guide/indexing.html#returning-a-view-versus-a-copy\n",
      "  relev[\"quarter\"] = [x.quarter for x in relev[\"date\"]]\n",
      "<ipython-input-6-35e10f3e184b>:25: SettingWithCopyWarning: \n",
      "A value is trying to be set on a copy of a slice from a DataFrame.\n",
      "Try using .loc[row_indexer,col_indexer] = value instead\n",
      "\n",
      "See the caveats in the documentation: https://pandas.pydata.org/pandas-docs/stable/user_guide/indexing.html#returning-a-view-versus-a-copy\n",
      "  relev[\"year\"] = [x.year for x in relev[\"date\"]]\n",
      "<ipython-input-6-35e10f3e184b>:26: SettingWithCopyWarning: \n",
      "A value is trying to be set on a copy of a slice from a DataFrame\n",
      "\n",
      "See the caveats in the documentation: https://pandas.pydata.org/pandas-docs/stable/user_guide/indexing.html#returning-a-view-versus-a-copy\n",
      "  relev.sort_values(\"date\",inplace=True)\n",
      "<ipython-input-6-35e10f3e184b>:33: SettingWithCopyWarning: \n",
      "A value is trying to be set on a copy of a slice from a DataFrame.\n",
      "Try using .loc[row_indexer,col_indexer] = value instead\n",
      "\n",
      "See the caveats in the documentation: https://pandas.pydata.org/pandas-docs/stable/user_guide/indexing.html#returning-a-view-versus-a-copy\n",
      "  relev[\"week\"] = [x.week for x in relev[\"date\"]]\n",
      "<ipython-input-6-35e10f3e184b>:34: SettingWithCopyWarning: \n",
      "A value is trying to be set on a copy of a slice from a DataFrame.\n",
      "Try using .loc[row_indexer,col_indexer] = value instead\n",
      "\n",
      "See the caveats in the documentation: https://pandas.pydata.org/pandas-docs/stable/user_guide/indexing.html#returning-a-view-versus-a-copy\n",
      "  relev[\"quarter\"] = [x.quarter for x in relev[\"date\"]]\n",
      "<ipython-input-6-35e10f3e184b>:35: SettingWithCopyWarning: \n",
      "A value is trying to be set on a copy of a slice from a DataFrame.\n",
      "Try using .loc[row_indexer,col_indexer] = value instead\n",
      "\n",
      "See the caveats in the documentation: https://pandas.pydata.org/pandas-docs/stable/user_guide/indexing.html#returning-a-view-versus-a-copy\n",
      "  relev[\"year\"] = [x.year for x in relev[\"date\"]]\n",
      " 24%|███████████████████████████████▌                                                                                                    | 121/506 [02:13<06:53,  1.07s/it]"
     ]
    },
    {
     "name": "stdout",
     "output_type": "stream",
     "text": [
      "'t' CXO\n"
     ]
    },
    {
     "name": "stderr",
     "output_type": "stream",
     "text": [
      " 88%|███████████████████████████████████████████████████████████████████████████████████████████████████████████████████▌                | 443/506 [05:05<00:06,  9.91it/s]"
     ]
    },
    {
     "name": "stdout",
     "output_type": "stream",
     "text": [
      "'t' TIF\n"
     ]
    },
    {
     "name": "stderr",
     "output_type": "stream",
     "text": [
      "100%|████████████████████████████████████████████████████████████████████████████████████████████████████████████████████████████████████| 506/506 [05:12<00:00,  1.62it/s]\n",
      " 24%|███████████████████████████████▊                                                                                                    | 122/506 [00:15<00:42,  8.94it/s]"
     ]
    },
    {
     "name": "stdout",
     "output_type": "stream",
     "text": [
      "'t' CXO\n"
     ]
    },
    {
     "name": "stderr",
     "output_type": "stream",
     "text": [
      " 88%|███████████████████████████████████████████████████████████████████████████████████████████████████████████████████▌                | 443/506 [00:58<00:07,  8.47it/s]"
     ]
    },
    {
     "name": "stdout",
     "output_type": "stream",
     "text": [
      "'t' TIF\n"
     ]
    },
    {
     "name": "stderr",
     "output_type": "stream",
     "text": [
      "100%|████████████████████████████████████████████████████████████████████████████████████████████████████████████████████████████████████| 506/506 [01:06<00:00,  7.65it/s]\n"
     ]
    },
    {
     "name": "stdout",
     "output_type": "stream",
     "text": [
      "'t' ZBRA\n",
      "'t' ZBH\n",
      "'t' ZION\n",
      "'t' ZTS\n"
     ]
    },
    {
     "name": "stderr",
     "output_type": "stream",
     "text": [
      " 24%|███████████████████████████████▊                                                                                                    | 122/506 [00:13<00:40,  9.52it/s]"
     ]
    },
    {
     "name": "stdout",
     "output_type": "stream",
     "text": [
      "'t' CXO\n"
     ]
    },
    {
     "name": "stderr",
     "output_type": "stream",
     "text": [
      " 46%|████████████████████████████████████████████████████████████▎                                                                       | 231/506 [00:25<00:22, 11.98it/s]"
     ]
    },
    {
     "name": "stdout",
     "output_type": "stream",
     "text": [
      "'t' HOLX\n"
     ]
    },
    {
     "name": "stderr",
     "output_type": "stream",
     "text": [
      " 62%|█████████████████████████████████████████████████████████████████████████████████▋                                                  | 313/506 [00:34<00:20,  9.35it/s]"
     ]
    },
    {
     "name": "stdout",
     "output_type": "stream",
     "text": [
      "'t' MET\n",
      "'t' MGM\n"
     ]
    },
    {
     "name": "stderr",
     "output_type": "stream",
     "text": [
      " 88%|███████████████████████████████████████████████████████████████████████████████████████████████████████████████████▌                | 443/506 [00:49<00:05, 10.54it/s]"
     ]
    },
    {
     "name": "stdout",
     "output_type": "stream",
     "text": [
      "'t' TIF\n"
     ]
    },
    {
     "name": "stderr",
     "output_type": "stream",
     "text": [
      "100%|████████████████████████████████████████████████████████████████████████████████████████████████████████████████████████████████████| 506/506 [00:55<00:00,  9.04it/s]\n"
     ]
    },
    {
     "name": "stdout",
     "output_type": "stream",
     "text": [
      "'t' ZBRA\n",
      "'t' ZBH\n",
      "'t' ZION\n",
      "'t' ZTS\n"
     ]
    }
   ],
   "source": [
    "refined_regression = []\n",
    "refined_daily_classification = []\n",
    "refined_quarterly_classification = []\n",
    "refined_weekly_classification = []\n",
    "market.connect()\n",
    "if reload:\n",
    "    for dataset in datasets:\n",
    "        for i in tqdm(model_range):\n",
    "            try:\n",
    "                ticker = tickers[\"Symbol\"][i]\n",
    "                if \".\" in ticker:\n",
    "                    ticker = ticker.replace(\".\",\"-\")\n",
    "                prices = market.retrieve_price_data(\"{}_prices\".format(dataset),ticker)\n",
    "                if dataset == \"pdr\":\n",
    "                    prices = ColumnTransformer.rename_columns(prices, \" \")\n",
    "                else:\n",
    "                    prices = ColumnTransformer.rename_columns(prices, \"_\")\n",
    "                prices = DateTransformer.convert_to_date(dataset,prices,\"date\")\n",
    "                prices.reset_index(inplace=True)\n",
    "                relev = prices[[\"date\",\"adjclose\"]]\n",
    "    #             relev[\"date\"] = [datetime.strptime(x.split(\"T\")[0],\"%Y-%m-%d\") for x in relev[\"date\"]]\n",
    "                relev[\"ticker\"] = ticker\n",
    "                relev[\"week\"] = [x.week for x in relev[\"date\"]]\n",
    "                relev[\"quarter\"] = [x.quarter for x in relev[\"date\"]]\n",
    "                relev[\"year\"] = [x.year for x in relev[\"date\"]]\n",
    "                relev.sort_values(\"date\",inplace=True)\n",
    "                ## daily transformations\n",
    "                refined_regression.append(relev)\n",
    "                relev_classification = relev.copy()\n",
    "                relev_classification[\"adjclose\"] = [1 if x > 0 else 0 for x in relev_classification[\"adjclose\"].diff()]\n",
    "                refined_daily_classification.append(relev_classification)\n",
    "                ## weekly transformations\n",
    "                relev[\"week\"] = [x.week for x in relev[\"date\"]]\n",
    "                relev[\"quarter\"] = [x.quarter for x in relev[\"date\"]]\n",
    "                relev[\"year\"] = [x.year for x in relev[\"date\"]]\n",
    "                relev_weekly_classification = relev.groupby([\"year\",\"quarter\",\"week\"]).mean().reset_index()\n",
    "                relev_weekly_classification[\"adjclose\"] = [1 if x > 0 else 0 for x in relev_weekly_classification[\"adjclose\"].diff()]\n",
    "                relev_weekly_classification[\"ticker\"] = ticker\n",
    "                refined_weekly_classification.append(relev_weekly_classification)\n",
    "                ## quarterly transformations\n",
    "                relev_quarterly_classification = relev.groupby([\"year\",\"quarter\"]).mean().reset_index().drop(\"week\",axis=1)\n",
    "                relev_quarterly_classification[\"adjclose\"] = [1 if x > 0 else 0 for x in relev_quarterly_classification[\"adjclose\"].diff()]\n",
    "                relev_quarterly_classification[\"ticker\"] = ticker\n",
    "                refined_quarterly_classification.append(relev_quarterly_classification)\n",
    "            except Exception as e:\n",
    "                print(str(e),ticker)\n",
    "        classification_sets = {\"date\":refined_daily_classification,\n",
    "                               \"quarter\":refined_quarterly_classification,\n",
    "                              \"week\":refined_weekly_classification}\n",
    "        for ds in classification_sets:\n",
    "            base = pd.concat(classification_sets[ds])\n",
    "            if ds == \"date\":\n",
    "                base[\"year\"] = [x.year for x in base[\"date\"]]\n",
    "                base[\"quarter\"] = [x.quarter for x in base[\"date\"]]\n",
    "                base[\"week\"] = [x.week for x in base[\"date\"]]\n",
    "                final = base.pivot_table(index=ds,values=\"adjclose\",columns=\"ticker\").reset_index()\n",
    "            else:\n",
    "                if ds == \"week\":\n",
    "                    final = base.pivot_table(index=[\"year\",\"quarter\",\"week\"],values=\"adjclose\",columns=\"ticker\").reset_index()\n",
    "                else:\n",
    "                    final = base.pivot_table(index=[\"year\",ds],values=\"adjclose\",columns=\"ticker\").reset_index()\n",
    "            name = \"dataset_{}_{}_classification\".format(dataset,ds)\n",
    "            final.fillna(-99999,inplace=True)\n",
    "            market.drop_table(name)\n",
    "            market.store_data(name,final)\n",
    "        base = pd.concat(refined_regression)\n",
    "        final = base.pivot_table(index=[\"year\",\"quarter\",\"week\"],values=\"adjclose\",columns=\"ticker\").reset_index()\n",
    "        final.fillna(-99999,inplace=True)\n",
    "        for timeframe in [\"week\",\"quarter\"]:\n",
    "            if timeframe == \"week\":\n",
    "                relev = final.groupby([\"year\",\"quarter\",\"week\"]).mean().reset_index()\n",
    "            else:\n",
    "                relev = final.groupby([\"year\",\"quarter\"]).mean().reset_index()\n",
    "            relev.reset_index(drop=True,inplace=True)\n",
    "            name = \"dataset_{}_{}_regression\".format(dataset,timeframe)\n",
    "            market.drop_table(name)\n",
    "            market.store_data(name,relev)"
   ]
  }
 ],
 "metadata": {
  "kernelspec": {
   "display_name": "Python 3",
   "language": "python",
   "name": "python3"
  },
  "language_info": {
   "codemirror_mode": {
    "name": "ipython",
    "version": 3
   },
   "file_extension": ".py",
   "mimetype": "text/x-python",
   "name": "python",
   "nbconvert_exporter": "python",
   "pygments_lexer": "ipython3",
   "version": "3.8.0"
  }
 },
 "nbformat": 4,
 "nbformat_minor": 4
}
