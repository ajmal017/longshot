{
 "cells": [
  {
   "cell_type": "code",
   "execution_count": 58,
   "metadata": {
    "scrolled": true
   },
   "outputs": [],
   "source": [
    "from database.strategy import Strategy\n",
    "from database.sec import SEC\n",
    "from database.market import Market\n",
    "from database.merrill import Merrill\n",
    "from transformer.date_transformer import DateTransformer\n",
    "from transformer.column_transformer import ColumnTransformer\n",
    "from transformer.model_transformer import ModelTransformer\n",
    "from transformer.product_transformer import ProductTransformer\n",
    "from transformer.predictor_transformer import PredictorTransformer\n",
    "from preprocessor.model_preprocessor import ModelPreprocessor\n",
    "from preprocessor.predictor_preprocessor import PredictorPreprocessor\n",
    "from modeler.modeler import Modeler as sp\n",
    "from utils.date_utils import DateUtils\n",
    "import pandas as pd\n",
    "import matplotlib.pyplot as plt\n",
    "from datetime import datetime, timedelta, timezone\n",
    "from tqdm import tqdm\n",
    "import math\n",
    "import requests as r\n",
    "import os\n",
    "from dotenv import load_dotenv\n",
    "load_dotenv()\n",
    "token=os.getenv(\"QUANDL\")\n",
    "import pickle"
   ]
  },
  {
   "cell_type": "code",
   "execution_count": 59,
   "metadata": {
    "scrolled": true
   },
   "outputs": [],
   "source": [
    "## Loading Constants\n",
    "start = \"2008-01-01\"\n",
    "end = datetime.now().strftime(\"%Y-%m-%d\")\n",
    "# Loading Databases\n",
    "strat_db = Strategy(\"portfolio\")\n",
    "market = Market()\n",
    "merrill = Merrill()\n",
    "sec = SEC(\"sec\")\n",
    "market.connect()\n",
    "tickers = market.retrieve_data(\"sp500\").sort_values(\"Symbol\")\n",
    "market.close()\n",
    "reload = False\n",
    "model_range = range(len(tickers[\"Symbol\"]))\n",
    "bonds = [\"A\",\"AAA\",\"B\",\"BBB\"]\n",
    "datasets = [\"pdr\"\n",
    "#             ,\"tiingo\"\n",
    "#             ,\"finnhub\"\n",
    "           ]\n",
    "year = datetime.now().year\n",
    "quarter = math.ceil((datetime.now().month - 1) // 3) + 1\n",
    "m = Merrill()\n",
    "FED = pd.read_csv(\"FED_metadata.csv\")"
   ]
  },
  {
   "cell_type": "code",
   "execution_count": 60,
   "metadata": {},
   "outputs": [
    {
     "data": {
      "text/plain": [
       "2"
      ]
     },
     "execution_count": 60,
     "metadata": {},
     "output_type": "execute_result"
    }
   ],
   "source": [
    "quarter"
   ]
  },
  {
   "cell_type": "code",
   "execution_count": 61,
   "metadata": {
    "scrolled": true
   },
   "outputs": [],
   "source": [
    "ds = []\n",
    "if reload:\n",
    "    FED[\"name_simplified\"] = [\" \".join(row[1][\"name\"].split(\" \")[:5]) for row in FED.iterrows()]\n",
    "    ml = pd.read_csv(\"ML_metadata.csv\")\n",
    "    relevant = ml[ml[\"name\"].str.contains(\"yield\")]\n",
    "    m.connect()\n",
    "    for code in relevant[\"code\"]:\n",
    "        name = code.split(\"E\")[0]\n",
    "        print(code,name)\n",
    "        url = \"https://www.quandl.com/api/v3/datasets/ML/{}\".format(code)\n",
    "        params ={\"start_date\":\"1997-1-1\",\n",
    "                 \"end_date\":end,\n",
    "                 \"api_key\":token}\n",
    "        data = r.get(url,params)\n",
    "        yields = pd.DataFrame(data.json()[\"dataset\"][\"data\"]).rename(columns={0:\"date\",1:\"yield\"})\n",
    "        m.drop_table(name)\n",
    "        m.store_data(name,yields)\n",
    "    m.close()   \n",
    "    merrill.connect()\n",
    "    for bond in bonds:\n",
    "        data = merrill.retrieve_data(bond)\n",
    "        ds.append(data)\n",
    "    merrill.close()\n",
    "else:\n",
    "    merrill.connect()\n",
    "    for bond in bonds:\n",
    "        data = merrill.retrieve_data(bond)\n",
    "        ds.append(data)\n",
    "    merrill.close()"
   ]
  },
  {
   "cell_type": "code",
   "execution_count": 62,
   "metadata": {
    "scrolled": true
   },
   "outputs": [],
   "source": [
    "base = ds[0]\n",
    "base.rename(columns={\"yield\":bonds[0]},inplace=True)\n",
    "for i in range(1,len(bonds)):\n",
    "    data = ds[i]\n",
    "    data.rename(columns={\"yield\":bonds[i]},inplace=True)\n",
    "    base = base.merge(data.drop(\"_id\",axis=1),on=\"date\",how=\"left\")"
   ]
  },
  {
   "cell_type": "code",
   "execution_count": 63,
   "metadata": {
    "scrolled": true
   },
   "outputs": [],
   "source": [
    "base = DateTransformer.convert_to_date(\"pdr\",base,\"date\")\n",
    "base[\"year\"] = [x.year for x in base[\"date\"]]\n",
    "base[\"quarter\"] = [x.quarter for x in base[\"date\"]]\n",
    "base[\"week\"] = [x.week for x in base[\"date\"]]\n",
    "bond_weekly = base.groupby([\"year\",\"quarter\",\"week\"]).mean().reset_index()"
   ]
  },
  {
   "cell_type": "code",
   "execution_count": 64,
   "metadata": {
    "scrolled": true
   },
   "outputs": [
    {
     "name": "stderr",
     "output_type": "stream",
     "text": [
      "\r",
      "  0%|                                                                                                                                                                                            | 0/506 [00:00<?, ?it/s]"
     ]
    },
    {
     "name": "stdout",
     "output_type": "stream",
     "text": [
      "2021 2\n",
      "['2020-04-01', '2021-03-31', '2021-04-01', '2021-06-30']\n"
     ]
    },
    {
     "name": "stderr",
     "output_type": "stream",
     "text": [
      " 25%|████████████████████████████████████████████▎                                                                                                                                     | 126/506 [00:09<00:24, 15.47it/s]"
     ]
    },
    {
     "name": "stdout",
     "output_type": "stream",
     "text": [
      "{'status': 'quarterly modeling', 'ticker': 'CXO', 'year': '2021', 'quarter': '2', 'message': \"'t'\"}\n"
     ]
    },
    {
     "name": "stderr",
     "output_type": "stream",
     "text": [
      " 86%|█████████████████████████████████████████████████████████████████████████████████████████████████████████████████████████████████████████████████████████▋                        | 437/506 [00:31<00:04, 14.65it/s]"
     ]
    },
    {
     "name": "stdout",
     "output_type": "stream",
     "text": [
      "{'status': 'quarterly modeling', 'ticker': 'TIF', 'year': '2021', 'quarter': '2', 'message': \"'t'\"}\n"
     ]
    },
    {
     "name": "stderr",
     "output_type": "stream",
     "text": [
      " 97%|█████████████████████████████████████████████████████████████████████████████████████████████████████████████████████████████████████████████████████████████████████████████     | 492/506 [00:35<00:00, 15.19it/s]"
     ]
    },
    {
     "name": "stdout",
     "output_type": "stream",
     "text": [
      "{'status': 'quarterly modeling', 'ticker': 'WRK', 'year': '2021', 'quarter': '2', 'message': 'single positional indexer is out-of-bounds'}\n"
     ]
    },
    {
     "name": "stderr",
     "output_type": "stream",
     "text": [
      "100%|██████████████████████████████████████████████████████████████████████████████████████████████████████████████████████████████████████████████████████████████████████████████████| 506/506 [00:36<00:00, 13.78it/s]\n"
     ]
    }
   ],
   "source": [
    "sims = []\n",
    "gap = 7\n",
    "training_years = 1\n",
    "sec.connect()\n",
    "strat_db.connect()\n",
    "market.connect()\n",
    "for dataset in datasets:\n",
    "    strat_db.drop_table(\"{}_bond_weekly_sim\".format(dataset))\n",
    "    try:\n",
    "        ## Setting Up\n",
    "        print(year,quarter)\n",
    "        date_ranges = DateUtils.create_quarterly_training_range_rec(year,quarter,training_years,gap)\n",
    "        training_start,training_end,prediction_start,prediction_end = date_ranges\n",
    "        dates = pd.to_datetime(date_ranges)\n",
    "        quarters = [x.quarter for x in dates]\n",
    "        years = [x.year for x in dates]\n",
    "        models = strat_db.retrieve_data(\"{}_bond_models\".format(dataset))\n",
    "        print(date_ranges)\n",
    "        ### switch to all tickers\n",
    "        for i in tqdm(model_range):\n",
    "            try:\n",
    "                ticker = tickers.iloc[i][\"Symbol\"].replace(\".\",\"-\")\n",
    "                price = market.retrieve_price_data(\"{}_prices\".format(dataset),ticker)\n",
    "                if dataset == \"pdr\":\n",
    "                    price = ColumnTransformer.rename_columns(price,\" \")\n",
    "                else:\n",
    "                    price = ColumnTransformer.rename_columns(price,\"\")\n",
    "                price = DateTransformer.convert_to_date(dataset,price,\"date\")\n",
    "                mt = ModelTransformer(ticker,training_start,training_end,gap)\n",
    "                pt = ModelTransformer(ticker,prediction_start,prediction_end,gap)\n",
    "                mr = ModelPreprocessor(ticker)\n",
    "                prot = ProductTransformer(ticker,prediction_start,prediction_end)\n",
    "                fundamental_results = models[models[\"ticker\"]==ticker]\n",
    "                product_refineds = []\n",
    "                product_qpds = []\n",
    "                fundamental_results[\"model\"] = [pickle.loads(x) for x in fundamental_results[\"model\"]]\n",
    "                for i in range(2):\n",
    "                    fundamental_result = fundamental_results.iloc[i]\n",
    "                    if fundamental_result[\"model_type\"] == \"regression\":\n",
    "                        fundamental_data = bond_weekly.tail(1)\n",
    "                    else:\n",
    "                        fundamental_data = bond_weekly.tail(1)\n",
    "                    product_refined = mr.fundamental_preprocess_rec(fundamental_data.copy())\n",
    "                    product_refineds.append(product_refined)\n",
    "                sim = prot.merge_weeklies_v2(product_refineds,fundamental_results.iloc[0:2],year,quarter,\"bond\")\n",
    "                strat_db.store_data(\"{}_bond_weekly_sim\".format(dataset),pd.DataFrame(sim).tail(1))\n",
    "            except Exception as e:\n",
    "                message = {\"status\":\"quarterly modeling\",\"ticker\":ticker,\"year\":str(year),\"quarter\":str(quarter),\"message\":str(e)}\n",
    "                print(message)\n",
    "    except Exception as e:\n",
    "        print(year,quarter,str(e))\n",
    "sec.close()\n",
    "market.close()\n",
    "strat_db.close()"
   ]
  },
  {
   "cell_type": "code",
   "execution_count": 65,
   "metadata": {},
   "outputs": [
    {
     "data": {
      "text/html": [
       "<div>\n",
       "<style scoped>\n",
       "    .dataframe tbody tr th:only-of-type {\n",
       "        vertical-align: middle;\n",
       "    }\n",
       "\n",
       "    .dataframe tbody tr th {\n",
       "        vertical-align: top;\n",
       "    }\n",
       "\n",
       "    .dataframe thead th {\n",
       "        text-align: right;\n",
       "    }\n",
       "</style>\n",
       "<table border=\"1\" class=\"dataframe\">\n",
       "  <thead>\n",
       "    <tr style=\"text-align: right;\">\n",
       "      <th></th>\n",
       "      <th>year</th>\n",
       "      <th>quarter</th>\n",
       "      <th>week</th>\n",
       "      <th>weekly_bond_classification_prediction</th>\n",
       "      <th>weekly_bond_classification_score</th>\n",
       "      <th>weekly_bond_regression_prediction</th>\n",
       "      <th>weekly_bond_regression_score</th>\n",
       "      <th>ticker</th>\n",
       "    </tr>\n",
       "  </thead>\n",
       "  <tbody>\n",
       "    <tr>\n",
       "      <th>0</th>\n",
       "      <td>2021</td>\n",
       "      <td>2</td>\n",
       "      <td>13</td>\n",
       "      <td>0</td>\n",
       "      <td>0.8</td>\n",
       "      <td>166.615692</td>\n",
       "      <td>0.028311</td>\n",
       "      <td>ZTS</td>\n",
       "    </tr>\n",
       "  </tbody>\n",
       "</table>\n",
       "</div>"
      ],
      "text/plain": [
       "   year  quarter  week  weekly_bond_classification_prediction  \\\n",
       "0  2021        2    13                                      0   \n",
       "\n",
       "   weekly_bond_classification_score  weekly_bond_regression_prediction  \\\n",
       "0                               0.8                         166.615692   \n",
       "\n",
       "   weekly_bond_regression_score ticker  \n",
       "0                      0.028311    ZTS  "
      ]
     },
     "execution_count": 65,
     "metadata": {},
     "output_type": "execute_result"
    }
   ],
   "source": [
    "sim"
   ]
  }
 ],
 "metadata": {
  "kernelspec": {
   "display_name": "Python 3",
   "language": "python",
   "name": "python3"
  },
  "language_info": {
   "codemirror_mode": {
    "name": "ipython",
    "version": 3
   },
   "file_extension": ".py",
   "mimetype": "text/x-python",
   "name": "python",
   "nbconvert_exporter": "python",
   "pygments_lexer": "ipython3",
   "version": "3.8.0"
  }
 },
 "nbformat": 4,
 "nbformat_minor": 4
}
