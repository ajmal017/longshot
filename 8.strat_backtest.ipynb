{
 "cells": [
  {
   "cell_type": "code",
   "execution_count": 1,
   "metadata": {},
   "outputs": [],
   "source": [
    "import pandas as pd\n",
    "from tqdm import tqdm\n",
    "from database.market import Market\n",
    "from backtester.backtester import Backtester as b\n",
    "from transformer.column_transformer import ColumnTransformer\n",
    "from transformer.date_transformer import DateTransformer\n",
    "from strategy.weekly_price import WeeklyPrice\n",
    "from strategy.quarterly_financial_categorical import QuarterlyFinancialCategorical\n",
    "import warnings\n",
    "warnings.simplefilter(action='ignore', category=Warning)\n",
    "import matplotlib.pyplot as plt \n",
    "from datetime import datetime, timedelta, timezone\n",
    "import math\n",
    "import numpy as np"
   ]
  },
  {
   "cell_type": "code",
   "execution_count": 2,
   "metadata": {},
   "outputs": [],
   "source": [
    "market = Market()\n",
    "wp = WeeklyPrice()\n",
    "qfc = QuarterlyFinancialCategorical()"
   ]
  },
  {
   "cell_type": "code",
   "execution_count": 3,
   "metadata": {},
   "outputs": [],
   "source": [
    "weekly = wp.retrieve_data(\"sim_categorical\").drop(\"_id\",axis=1)\n",
    "quarterly = qfc.retrieve_data(\"sim\").drop(\"_id\",axis=1)"
   ]
  },
  {
   "cell_type": "code",
   "execution_count": 4,
   "metadata": {},
   "outputs": [],
   "source": [
    "market.connect()\n",
    "prices = market.retrieve_data(\"prices\")\n",
    "market.close()"
   ]
  },
  {
   "cell_type": "code",
   "execution_count": 5,
   "metadata": {},
   "outputs": [],
   "source": [
    "sim = weekly.merge(quarterly,on=[\"year\",\"quarter\",\"ticker\"],how=\"left\")"
   ]
  },
  {
   "cell_type": "code",
   "execution_count": 6,
   "metadata": {},
   "outputs": [],
   "source": [
    "sim = prices.drop(\"_id\",axis=1).merge(sim.dropna(),on = [\"year\",\"quarter\",\"week\",\"ticker\"], how=\"left\")"
   ]
  },
  {
   "cell_type": "code",
   "execution_count": 7,
   "metadata": {},
   "outputs": [],
   "source": [
    "sim[\"weekly_predicted_delta\"] = (sim[\"weekly_price_categorical_regression_prediction\"] - sim[\"adjclose\"]) / sim[\"adjclose\"]\n",
    "sim[\"quarterly_predicted_delta\"] = (sim[\"quarterly_financial_categorical_regression_prediction\"] - sim[\"adjclose\"]) / sim[\"adjclose\"]"
   ]
  },
  {
   "cell_type": "code",
   "execution_count": 8,
   "metadata": {},
   "outputs": [],
   "source": [
    "sim = sim.dropna()\n",
    "sim = sim.groupby([\"date\",\"ticker\"]).mean().reset_index()"
   ]
  },
  {
   "cell_type": "code",
   "execution_count": 9,
   "metadata": {},
   "outputs": [],
   "source": [
    "sim = sim.dropna()"
   ]
  },
  {
   "cell_type": "code",
   "execution_count": 10,
   "metadata": {},
   "outputs": [],
   "source": [
    "start = datetime(2013,1,1)\n",
    "end = datetime(2020,12,23)\n",
    "extreme = [True]\n",
    "ceiling_settings = [True]\n",
    "fixed = [True,False]\n",
    "classification = [True,False]\n",
    "weekly_value_settings = [True,False]\n",
    "quarterly_delta_range = range(10,40,10)\n",
    "weekly_delta_range = range(5,15,5)\n",
    "trade_signal_score_settings = range(60,90,10)\n",
    "initial = 100"
   ]
  },
  {
   "cell_type": "code",
   "execution_count": 16,
   "metadata": {
    "scrolled": true
   },
   "outputs": [
    {
     "name": "stderr",
     "output_type": "stream",
     "text": [
      "  0%|                                                                                                                                                                                                                                             | 0/1 [00:00<?, ?it/s]\n",
      "  0%|                                                                                                                                                                                                                                             | 0/1 [00:00<?, ?it/s]\u001b[A\n",
      "\n",
      "  0%|                                                                                                                                                                                                                                             | 0/2 [00:00<?, ?it/s]\u001b[A\u001b[A"
     ]
    },
    {
     "name": "stdout",
     "output_type": "stream",
     "text": [
      "2019-12-30 00:00:00 single positional indexer is out-of-bounds\n",
      "2019-12-30 00:00:00 single positional indexer is out-of-bounds\n",
      "2019-12-30 00:00:00 single positional indexer is out-of-bounds\n",
      "2019-12-30 00:00:00 single positional indexer is out-of-bounds\n",
      "2019-12-30 00:00:00 single positional indexer is out-of-bounds\n",
      "2017-03-30 00:00:00 single positional indexer is out-of-bounds\n",
      "2017-03-30 00:00:00 single positional indexer is out-of-bounds\n",
      "2017-03-30 00:00:00 single positional indexer is out-of-bounds\n",
      "2019-12-30 00:00:00 single positional indexer is out-of-bounds\n",
      "2019-12-30 00:00:00 single positional indexer is out-of-bounds\n",
      "2019-12-30 00:00:00 single positional indexer is out-of-bounds\n",
      "2019-12-30 00:00:00 single positional indexer is out-of-bounds\n",
      "2019-12-30 00:00:00 single positional indexer is out-of-bounds\n",
      "2017-03-30 00:00:00 single positional indexer is out-of-bounds\n",
      "2017-03-30 00:00:00 single positional indexer is out-of-bounds\n",
      "2017-03-30 00:00:00 single positional indexer is out-of-bounds\n",
      "2019-12-30 00:00:00 single positional indexer is out-of-bounds\n",
      "2019-12-30 00:00:00 single positional indexer is out-of-bounds\n",
      "2019-12-30 00:00:00 single positional indexer is out-of-bounds\n",
      "2019-12-30 00:00:00 single positional indexer is out-of-bounds\n",
      "2019-12-30 00:00:00 single positional indexer is out-of-bounds\n",
      "2019-12-30 00:00:00 single positional indexer is out-of-bounds\n",
      "2017-03-30 00:00:00 single positional indexer is out-of-bounds\n",
      "2017-03-30 00:00:00 single positional indexer is out-of-bounds\n",
      "2017-03-30 00:00:00 single positional indexer is out-of-bounds\n",
      "2016-03-30 00:00:00 single positional indexer is out-of-bounds\n",
      "2018-06-28 00:00:00 single positional indexer is out-of-bounds\n",
      "2018-06-28 00:00:00 single positional indexer is out-of-bounds\n",
      "2016-03-30 00:00:00 single positional indexer is out-of-bounds\n",
      "2019-12-30 00:00:00 single positional indexer is out-of-bounds\n",
      "2019-03-27 00:00:00 stock had no more listed prices\n",
      "2019-03-30 00:00:00 no more stock vets\n",
      "2018-06-28 00:00:00 single positional indexer is out-of-bounds\n",
      "2018-06-28 00:00:00 single positional indexer is out-of-bounds\n",
      "2018-06-28 00:00:00 single positional indexer is out-of-bounds\n"
     ]
    },
    {
     "name": "stderr",
     "output_type": "stream",
     "text": [
      "\n",
      "\n",
      " 50%|█████████████████████████████████████████████████████████████████████████████████████████████████████████████████▌                                                                                                                 | 1/2 [20:51<20:51, 1251.77s/it]\u001b[A\u001b[A"
     ]
    },
    {
     "name": "stdout",
     "output_type": "stream",
     "text": [
      "2020-03-31 00:00:00 single positional indexer is out-of-bounds\n",
      "2020-03-31 00:00:00 single positional indexer is out-of-bounds\n",
      "2020-03-31 00:00:00 single positional indexer is out-of-bounds\n",
      "2020-03-31 00:00:00 single positional indexer is out-of-bounds\n",
      "2020-03-31 00:00:00 single positional indexer is out-of-bounds\n",
      "2020-03-31 00:00:00 single positional indexer is out-of-bounds\n",
      "2019-03-28 00:00:00 single positional indexer is out-of-bounds\n",
      "2019-03-28 00:00:00 single positional indexer is out-of-bounds\n",
      "2020-04-02 00:00:00 no more stock vets\n",
      "2019-03-28 00:00:00 single positional indexer is out-of-bounds\n",
      "2019-03-28 00:00:00 single positional indexer is out-of-bounds\n",
      "2019-03-28 00:00:00 single positional indexer is out-of-bounds\n",
      "2019-03-28 00:00:00 single positional indexer is out-of-bounds\n",
      "2019-03-28 00:00:00 single positional indexer is out-of-bounds\n",
      "2020-04-02 00:00:00 no more stock vets\n",
      "2019-03-28 00:00:00 single positional indexer is out-of-bounds\n",
      "2019-03-28 00:00:00 single positional indexer is out-of-bounds\n",
      "2019-03-28 00:00:00 single positional indexer is out-of-bounds\n",
      "2019-03-28 00:00:00 single positional indexer is out-of-bounds\n",
      "2019-03-28 00:00:00 single positional indexer is out-of-bounds\n",
      "2019-03-28 00:00:00 single positional indexer is out-of-bounds\n",
      "2019-03-28 00:00:00 single positional indexer is out-of-bounds\n",
      "2019-03-28 00:00:00 single positional indexer is out-of-bounds\n",
      "2019-03-28 00:00:00 single positional indexer is out-of-bounds\n",
      "2019-03-28 00:00:00 single positional indexer is out-of-bounds\n",
      "2020-04-02 00:00:00 no more stock vets\n",
      "2019-03-28 00:00:00 single positional indexer is out-of-bounds\n",
      "2019-03-28 00:00:00 single positional indexer is out-of-bounds\n",
      "2019-03-28 00:00:00 single positional indexer is out-of-bounds\n",
      "2019-03-28 00:00:00 single positional indexer is out-of-bounds\n",
      "2019-03-28 00:00:00 single positional indexer is out-of-bounds\n",
      "2020-04-02 00:00:00 no more stock vets\n",
      "2019-03-28 00:00:00 single positional indexer is out-of-bounds\n",
      "2019-03-28 00:00:00 single positional indexer is out-of-bounds\n",
      "2019-03-28 00:00:00 single positional indexer is out-of-bounds\n",
      "2019-03-28 00:00:00 single positional indexer is out-of-bounds\n",
      "2019-03-28 00:00:00 single positional indexer is out-of-bounds\n",
      "2019-03-28 00:00:00 single positional indexer is out-of-bounds\n",
      "2019-03-28 00:00:00 single positional indexer is out-of-bounds\n",
      "2019-03-28 00:00:00 single positional indexer is out-of-bounds\n"
     ]
    },
    {
     "name": "stderr",
     "output_type": "stream",
     "text": [
      "\n",
      "\n",
      "100%|███████████████████████████████████████████████████████████████████████████████████████████████████████████████████████████████████████████████████████████████████████████████████████████████████████████████████████████████████| 2/2 [36:20<00:00, 1090.19s/it]\u001b[A\u001b[A\n",
      "\n",
      "100%|███████████████████████████████████████████████████████████████████████████████████████████████████████████████████████████████████████████████████████████████████████████████████████████████████████████████████████████████████| 1/1 [36:20<00:00, 2180.39s/it]\u001b[A\n",
      "100%|███████████████████████████████████████████████████████████████████████████████████████████████████████████████████████████████████████████████████████████████████████████████████████████████████████████████████████████████████| 1/1 [36:20<00:00, 2180.39s/it]\n"
     ]
    }
   ],
   "source": [
    "epoch = 0\n",
    "seats = 5\n",
    "wp.db.connect()\n",
    "# wp.db.drop_table(\"grouped_epochs\")\n",
    "# iterations = len(extreme) * len(ceiling_settings) * len(fixed) * len(classification) \\\n",
    "#                 * len(weekly_value_settings) * len(quarterly_delta_range) * len(weekly_delta_range) \\\n",
    "#                  * len(trade_signal_score_settings)\n",
    "# print(iterations)\n",
    "# for i in range(iterations):\n",
    "#     wp.db.drop_table(\"grouped_trades_{}\".format(i))\n",
    "for e in tqdm(extreme):\n",
    "    for ceiling in tqdm(ceiling_settings):\n",
    "        for f in tqdm(fixed):\n",
    "            for c in classification:\n",
    "                for weekly_value in weekly_value_settings:\n",
    "                    for quarterly_delta in quarterly_delta_range:\n",
    "                        for weekly_delta in weekly_delta_range:\n",
    "                            for score in trade_signal_score_settings:\n",
    "                                s = float(score/100)\n",
    "                                qd = float(quarterly_delta/100)\n",
    "                                wd = float(weekly_delta/100)\n",
    "                                epoch_dict = {\"epoch\":epoch\n",
    "                                              ,\"extreme\":e\n",
    "                                              ,\"ceiling\":ceiling\n",
    "                                              ,\"fixed\":f\n",
    "                                              ,\"classification\":c\n",
    "                                              ,\"weekly_value\":weekly_value\n",
    "                                              ,\"quarterly_delta\":qd\n",
    "                                              ,\"weekly_delta\":wd\n",
    "                                              ,\"score\":s\n",
    "                                             }\n",
    "                                ts = b.backtest_weekly_adaptive(start,end,sim.copy(),seats,e,ceiling,f,c,weekly_value,qd,wd,s)\n",
    "                                if len(ts) > 0:\n",
    "                                    wp.db.store_data(\"adaptive_epochs\",pd.DataFrame([epoch_dict]))\n",
    "                                    wp.db.store_data(\"adaptive_trades_{}\".format(epoch),pd.DataFrame(ts))\n",
    "                                epoch += 1\n",
    "wp.db.close()"
   ]
  }
 ],
 "metadata": {
  "kernelspec": {
   "display_name": "Python 3",
   "language": "python",
   "name": "python3"
  },
  "language_info": {
   "codemirror_mode": {
    "name": "ipython",
    "version": 3
   },
   "file_extension": ".py",
   "mimetype": "text/x-python",
   "name": "python",
   "nbconvert_exporter": "python",
   "pygments_lexer": "ipython3",
   "version": "3.8.0"
  }
 },
 "nbformat": 4,
 "nbformat_minor": 4
}
