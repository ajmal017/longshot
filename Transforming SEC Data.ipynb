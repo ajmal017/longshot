{
 "cells": [
  {
   "cell_type": "code",
   "execution_count": 1,
   "metadata": {},
   "outputs": [],
   "source": [
    "from database.sec import SEC\n",
    "from transformer.fundamental_transformer import FundamentalTransformer\n",
    "from tqdm import tqdm\n",
    "import pandas as pd\n",
    "from datetime import datetime"
   ]
  },
  {
   "cell_type": "code",
   "execution_count": 5,
   "metadata": {},
   "outputs": [],
   "source": [
    "sec = SEC(\"sec\")\n",
    "quarter = 4\n",
    "year = 2020\n",
    "#date of sec financial statement update\n",
    "cut_off =  datetime(2020,12,23)"
   ]
  },
  {
   "cell_type": "code",
   "execution_count": 6,
   "metadata": {},
   "outputs": [],
   "source": [
    "sec.connect()\n",
    "subs = sec.retrieve_ciks()\n",
    "sec.close()"
   ]
  },
  {
   "cell_type": "code",
   "execution_count": 7,
   "metadata": {},
   "outputs": [],
   "source": [
    "subs[\"filed\"] = [datetime.strptime(str(x),\"%Y%m%d\") for x in subs[\"filed\"]]"
   ]
  },
  {
   "cell_type": "code",
   "execution_count": 8,
   "metadata": {},
   "outputs": [
    {
     "name": "stderr",
     "output_type": "stream",
     "text": [
      " 13%|███████████████████████▎                                                                                                                                                                  | 43/343 [00:01<00:09, 32.73it/s]"
     ]
    },
    {
     "name": "stdout",
     "output_type": "stream",
     "text": [
      "'adsh'\n"
     ]
    },
    {
     "name": "stderr",
     "output_type": "stream",
     "text": [
      " 22%|█████████████████████████████████████████▏                                                                                                                                                | 76/343 [00:03<00:10, 25.44it/s]"
     ]
    },
    {
     "name": "stdout",
     "output_type": "stream",
     "text": [
      "'adsh'\n"
     ]
    },
    {
     "name": "stderr",
     "output_type": "stream",
     "text": [
      " 33%|████████████████████████████████████████████████████████████▍                                                                                                                            | 112/343 [00:05<00:13, 16.55it/s]"
     ]
    },
    {
     "name": "stdout",
     "output_type": "stream",
     "text": [
      "'adsh'\n"
     ]
    },
    {
     "name": "stderr",
     "output_type": "stream",
     "text": [
      "\r",
      " 34%|██████████████████████████████████████████████████████████████                                                                                                                           | 115/343 [00:05<00:12, 18.37it/s]"
     ]
    },
    {
     "name": "stdout",
     "output_type": "stream",
     "text": [
      "'adsh'\n"
     ]
    },
    {
     "name": "stderr",
     "output_type": "stream",
     "text": [
      "\r",
      " 34%|███████████████████████████████████████████████████████████████▋                                                                                                                         | 118/343 [00:05<00:11, 19.77it/s]"
     ]
    },
    {
     "name": "stdout",
     "output_type": "stream",
     "text": [
      "'adsh'\n"
     ]
    },
    {
     "name": "stderr",
     "output_type": "stream",
     "text": [
      " 38%|█████████████████████████████████████████████████████████████████████▌                                                                                                                   | 129/343 [00:06<00:11, 18.22it/s]"
     ]
    },
    {
     "name": "stdout",
     "output_type": "stream",
     "text": [
      "'adsh'\n"
     ]
    },
    {
     "name": "stderr",
     "output_type": "stream",
     "text": [
      " 42%|██████████████████████████████████████████████████████████████████████████████▏                                                                                                          | 145/343 [00:06<00:08, 23.42it/s]"
     ]
    },
    {
     "name": "stdout",
     "output_type": "stream",
     "text": [
      "'adsh'\n"
     ]
    },
    {
     "name": "stderr",
     "output_type": "stream",
     "text": [
      " 51%|██████████████████████████████████████████████████████████████████████████████████████████████▍                                                                                          | 175/343 [00:07<00:06, 27.39it/s]"
     ]
    },
    {
     "name": "stdout",
     "output_type": "stream",
     "text": [
      "'adsh'\n",
      "'adsh'\n"
     ]
    },
    {
     "name": "stderr",
     "output_type": "stream",
     "text": [
      " 65%|████████████████████████████████████████████████████████████████████████████████████████████████████████████████████████▎                                                                | 223/343 [00:10<00:05, 20.25it/s]"
     ]
    },
    {
     "name": "stdout",
     "output_type": "stream",
     "text": [
      "'adsh'\n"
     ]
    },
    {
     "name": "stderr",
     "output_type": "stream",
     "text": [
      " 68%|█████████████████████████████████████████████████████████████████████████████████████████████████████████████████████████████▋                                                           | 233/343 [00:10<00:04, 24.77it/s]"
     ]
    },
    {
     "name": "stdout",
     "output_type": "stream",
     "text": [
      "'adsh'\n"
     ]
    },
    {
     "name": "stderr",
     "output_type": "stream",
     "text": [
      " 72%|████████████████████████████████████████████████████████████████████████████████████████████████████████████████████████████████████▋                                                    | 246/343 [00:11<00:03, 24.95it/s]"
     ]
    },
    {
     "name": "stdout",
     "output_type": "stream",
     "text": [
      "'adsh'\n"
     ]
    },
    {
     "name": "stderr",
     "output_type": "stream",
     "text": [
      " 85%|████████████████████████████████████████████████████████████████████████████████████████████████████████████████████████████████████████████████████████████▉                            | 291/343 [00:12<00:01, 29.28it/s]"
     ]
    },
    {
     "name": "stdout",
     "output_type": "stream",
     "text": [
      "'adsh'\n"
     ]
    },
    {
     "name": "stderr",
     "output_type": "stream",
     "text": [
      " 95%|████████████████████████████████████████████████████████████████████████████████████████████████████████████████████████████████████████████████████████████████████████████████▎        | 327/343 [00:15<00:00, 16.52it/s]"
     ]
    },
    {
     "name": "stdout",
     "output_type": "stream",
     "text": [
      "'adsh'\n"
     ]
    },
    {
     "name": "stderr",
     "output_type": "stream",
     "text": [
      "100%|█████████████████████████████████████████████████████████████████████████████████████████████████████████████████████████████████████████████████████████████████████████████████████████| 343/343 [00:15<00:00, 21.61it/s]\n"
     ]
    }
   ],
   "source": [
    "ciks = subs[subs[\"filed\"] > cut_off][\"cik\"].unique()\n",
    "sec.connect()\n",
    "for i in tqdm(range(len(ciks))):\n",
    "    try:\n",
    "        cik = int(ciks[i])\n",
    "        values = subs[(subs[\"cik\"] == cik) & (subs[\"filed\"] > cut_off)]\n",
    "        existing_adsh = sec.retrieve_filing_data(cik)[\"adsh\"].unique()\n",
    "        all_adshs = values[\"adsh\"].unique()\n",
    "        adshs = [x for x in all_adshs if x not in existing_adsh]\n",
    "        tables = []\n",
    "        for adsh in adshs:\n",
    "            try:\n",
    "                num = sec.retrieve_num_data(adsh)\n",
    "                table = FundamentalTransformer.transform(values,num)\n",
    "                sec.store_data(\"filings\",table)\n",
    "            except:\n",
    "                continue\n",
    "    except Exception as e:\n",
    "        print(str(e))\n",
    "sec.close()"
   ]
  },
  {
   "cell_type": "code",
   "execution_count": 20,
   "metadata": {},
   "outputs": [
    {
     "data": {
      "text/plain": [
       "array([   2178,    2488,    2969, ..., 1793294,   60519, 1801368],\n",
       "      dtype=int64)"
      ]
     },
     "execution_count": 20,
     "metadata": {},
     "output_type": "execute_result"
    }
   ],
   "source": [
    "ciks"
   ]
  },
  {
   "cell_type": "code",
   "execution_count": 20,
   "metadata": {},
   "outputs": [
    {
     "name": "stderr",
     "output_type": "stream",
     "text": [
      "100%|███████████████████████████████████████████████████████████████████████████████████████████████████████████████████| 5742/5742 [03:41<00:00, 25.96it/s]\n"
     ]
    }
   ],
   "source": [
    "for cik in tqdm(ciks):\n",
    "    sec.connect()\n",
    "    test = sec.retrieve_filing_data(2178)\n",
    "    sec.close()\n",
    "    comparison = test.tail(2)\n",
    "    diff = comparison.iloc[1][\"filed\"]- comparison.iloc[0][\"filed\"]\n",
    "    if diff.days < 90:\n",
    "        print(cik,diff)"
   ]
  }
 ],
 "metadata": {
  "kernelspec": {
   "display_name": "Python 3",
   "language": "python",
   "name": "python3"
  },
  "language_info": {
   "codemirror_mode": {
    "name": "ipython",
    "version": 3
   },
   "file_extension": ".py",
   "mimetype": "text/x-python",
   "name": "python",
   "nbconvert_exporter": "python",
   "pygments_lexer": "ipython3",
   "version": "3.8.0"
  }
 },
 "nbformat": 4,
 "nbformat_minor": 4
}
