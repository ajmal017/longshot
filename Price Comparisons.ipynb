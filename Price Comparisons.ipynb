{
 "cells": [
  {
   "cell_type": "code",
   "execution_count": 2,
   "metadata": {},
   "outputs": [],
   "source": [
    "import pandas as pd\n",
    "from database.market import Market\n",
    "import matplotlib.pyplot as plt\n",
    "from datetime import datetime\n",
    "from transformer.date_transformer import DateTransformer\n",
    "from transformer.column_transformer import ColumnTransformer\n",
    "import math\n",
    "from tqdm import tqdm"
   ]
  },
  {
   "cell_type": "code",
   "execution_count": 3,
   "metadata": {},
   "outputs": [],
   "source": [
    "market = Market()"
   ]
  },
  {
   "cell_type": "code",
   "execution_count": 4,
   "metadata": {},
   "outputs": [],
   "source": [
    "market.connect()\n",
    "sp5 = market.retrieve_data(\"sp500\")\n",
    "market.close()"
   ]
  },
  {
   "cell_type": "code",
   "execution_count": 7,
   "metadata": {},
   "outputs": [
    {
     "name": "stderr",
     "output_type": "stream",
     "text": [
      "100%|██████████████████████████████████████████████████████████████████████████████████████████████████████████████████████████████████████████████████████████████████████████████████| 506/506 [01:59<00:00,  4.25it/s]\n"
     ]
    }
   ],
   "source": [
    "analysis = []\n",
    "prices = []\n",
    "fails = []\n",
    "datasets = [\"pdr\",\"finnhub\",\"tiingo\"]\n",
    "for ticker in tqdm(sp5[\"Symbol\"]):\n",
    "    try:\n",
    "        market.connect()\n",
    "        pdr = market.retrieve_price_data(\"pdr_prices\",ticker)\n",
    "        finnhub = market.retrieve_price_data(\"finnhub_prices\",ticker)\n",
    "        tiingo = market.retrieve_price_data(\"tiingo_prices\",ticker)\n",
    "        pdr = DateTransformer.convert_to_date(\"pdr\",ColumnTransformer.rename_columns(pdr,\" \"),\"date\")\n",
    "        finnhub = DateTransformer.convert_to_date(\"finnhub\",ColumnTransformer.rename_columns(finnhub,\"_\"),\"date\")\n",
    "        tiingo = DateTransformer.convert_to_date(\"tiingo\",ColumnTransformer.rename_columns(tiingo,\"_\"),\"date\")\n",
    "        market.close()\n",
    "        tiingo[\"date\"] = [str(x).split(\" \")[0] for x in tiingo[\"date\"]]\n",
    "        finnhub[\"date\"] = [str(x).split(\" \")[0] for x in finnhub[\"date\"]]\n",
    "        pdr[\"date\"] = [str(x).split(\" \")[0] for x in pdr[\"date\"]]\n",
    "        pdr.rename(columns={\"adjclose\":\"pdr\"},inplace=True)\n",
    "        finnhub.rename(columns={\"adjclose\":\"finnhub\"},inplace=True)\n",
    "        tiingo.rename(columns={\"adjclose\":\"tiingo\"},inplace=True)\n",
    "        ds = pdr.merge(finnhub,on=\"date\",how=\"left\").merge(tiingo,on=\"date\",how=\"left\")\n",
    "        ds[\"pf\"] = (ds[\"pdr\"]  - ds[\"finnhub\"]) / ds[\"pdr\"]\n",
    "        ds[\"pt\"] = (ds[\"pdr\"]  - ds[\"tiingo\"]) / ds[\"pdr\"]\n",
    "        ds[\"ft\"] = (ds[\"finnhub\"]  - ds[\"tiingo\"]) / ds[\"finnhub\"]\n",
    "        prices.append(ds)\n",
    "        analysis_dict = {\"ticker\":ticker}\n",
    "        for col in [\"pf\",\"pt\",\"ft\"]:\n",
    "            ds[col] = [abs(x) for x in ds[col]]\n",
    "            analysis_dict[col] = ds[col].mean()\n",
    "        analysis.append(analysis_dict)\n",
    "    except:\n",
    "        fails.append(ticker)\n",
    "        continue"
   ]
  },
  {
   "cell_type": "code",
   "execution_count": 8,
   "metadata": {},
   "outputs": [],
   "source": [
    "a = pd.DataFrame(analysis)"
   ]
  },
  {
   "cell_type": "code",
   "execution_count": 52,
   "metadata": {},
   "outputs": [],
   "source": [
    "a[\"diff\"] =[row[1][[\"pf\",\"pt\",\"ft\"]].mean() for row in a.iterrows()]\n",
    "accurate = a[(a[\"diff\"]<0.01) & (a[\"pt\"]<0.1) & (a[\"pf\"]<0.1) & (a[\"ft\"]<0.1)].sort_values(\"diff\")"
   ]
  },
  {
   "cell_type": "code",
   "execution_count": 54,
   "metadata": {},
   "outputs": [],
   "source": [
    "market.connect()\n",
    "market.store_data(\"accurate\",accurate)\n",
    "market.close()"
   ]
  }
 ],
 "metadata": {
  "kernelspec": {
   "display_name": "Python 3",
   "language": "python",
   "name": "python3"
  },
  "language_info": {
   "codemirror_mode": {
    "name": "ipython",
    "version": 3
   },
   "file_extension": ".py",
   "mimetype": "text/x-python",
   "name": "python",
   "nbconvert_exporter": "python",
   "pygments_lexer": "ipython3",
   "version": "3.8.0"
  }
 },
 "nbformat": 4,
 "nbformat_minor": 4
}
