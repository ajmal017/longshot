{
 "cells": [
  {
   "cell_type": "markdown",
   "metadata": {},
   "source": [
    "# Run Quarterly"
   ]
  },
  {
   "cell_type": "code",
   "execution_count": 7,
   "metadata": {},
   "outputs": [],
   "source": [
    "from database.market import Market\n",
    "import pandas as pd\n",
    "from tqdm import tqdm\n",
    "from datetime import datetime,timezone, timedelta\n",
    "import pandas_datareader as pdr\n",
    "from extractor.finnhub_extractor import FinnhubExtractor\n",
    "from extractor.tiingo_extractor import TiingoExtractor\n",
    "from time import sleep"
   ]
  },
  {
   "cell_type": "code",
   "execution_count": 11,
   "metadata": {},
   "outputs": [],
   "source": [
    "start = (datetime.now() - timedelta(days=730)).strftime(\"%Y-%m-%d\")\n",
    "end = datetime.now().strftime(\"%Y-%m-%d\")\n",
    "market = Market()"
   ]
  },
  {
   "cell_type": "code",
   "execution_count": 3,
   "metadata": {},
   "outputs": [],
   "source": [
    "sp5 = pd.read_html(\"https://en.wikipedia.org/wiki/List_of_S%26P_500_companies\")[0]"
   ]
  },
  {
   "cell_type": "code",
   "execution_count": 10,
   "metadata": {},
   "outputs": [],
   "source": [
    "market.connect()\n",
    "market.drop_table(\"sp500\")\n",
    "market.store_data(\"sp500\",sp5)\n",
    "market.close()"
   ]
  },
  {
   "cell_type": "code",
   "execution_count": 5,
   "metadata": {},
   "outputs": [],
   "source": [
    "market.connect()\n",
    "tickers = market.retrieve_data(\"sp500\").sort_values(\"Symbol\")[\"Symbol\"]\n",
    "market.close()"
   ]
  },
  {
   "cell_type": "code",
   "execution_count": 12,
   "metadata": {
    "scrolled": true
   },
   "outputs": [
    {
     "name": "stderr",
     "output_type": "stream",
     "text": [
      " 22%|██████████████████████████████████████▎                                                                                                                                    | 113/505 [16:43<42:01,  6.43s/it]"
     ]
    },
    {
     "name": "stdout",
     "output_type": "stream",
     "text": [
      "Expecting value: line 1 column 1 (char 0)\n",
      "{'status': 'tiingo', 'ticker': 'CRL', 'exception': \"'NoneType' object does not support item assignment\"} CRL\n"
     ]
    },
    {
     "name": "stderr",
     "output_type": "stream",
     "text": [
      " 99%|███████████████████████████████████████████████████████████████████████████████████████████████████████████████████████████████████████████████████████████████████████▋ | 501/505 [1:14:24<00:25,  6.45s/it]"
     ]
    },
    {
     "name": "stdout",
     "output_type": "stream",
     "text": [
      "Expecting value: line 1 column 1 (char 0)\n",
      "{'status': 'tiingo', 'ticker': 'YUM', 'exception': \"'NoneType' object does not support item assignment\"} YUM\n"
     ]
    },
    {
     "name": "stderr",
     "output_type": "stream",
     "text": [
      "\r",
      " 99%|███████████████████████████████████████████████████████████████████████████████████████████████████████████████████████████████████████████████████████████████████████▉ | 502/505 [1:14:24<00:13,  4.66s/it]"
     ]
    },
    {
     "name": "stdout",
     "output_type": "stream",
     "text": [
      "Expecting value: line 1 column 1 (char 0)\n",
      "{'status': 'tiingo', 'ticker': 'ZBH', 'exception': \"'NoneType' object does not support item assignment\"} ZBH\n"
     ]
    },
    {
     "name": "stderr",
     "output_type": "stream",
     "text": [
      "\r",
      "100%|████████████████████████████████████████████████████████████████████████████████████████████████████████████████████████████████████████████████████████████████████████▎| 503/505 [1:14:25<00:06,  3.46s/it]"
     ]
    },
    {
     "name": "stdout",
     "output_type": "stream",
     "text": [
      "Expecting value: line 1 column 1 (char 0)\n",
      "{'status': 'tiingo', 'ticker': 'ZBRA', 'exception': \"'NoneType' object does not support item assignment\"} ZBRA\n"
     ]
    },
    {
     "name": "stderr",
     "output_type": "stream",
     "text": [
      "\r",
      "100%|████████████████████████████████████████████████████████████████████████████████████████████████████████████████████████████████████████████████████████████████████████▋| 504/505 [1:14:26<00:02,  2.57s/it]"
     ]
    },
    {
     "name": "stdout",
     "output_type": "stream",
     "text": [
      "Expecting value: line 1 column 1 (char 0)\n",
      "{'status': 'tiingo', 'ticker': 'ZION', 'exception': \"'NoneType' object does not support item assignment\"} ZION\n"
     ]
    },
    {
     "name": "stderr",
     "output_type": "stream",
     "text": [
      "100%|█████████████████████████████████████████████████████████████████████████████████████████████████████████████████████████████████████████████████████████████████████████| 505/505 [1:14:26<00:00,  8.85s/it]"
     ]
    },
    {
     "name": "stdout",
     "output_type": "stream",
     "text": [
      "Expecting value: line 1 column 1 (char 0)\n",
      "{'status': 'tiingo', 'ticker': 'ZTS', 'exception': \"'NoneType' object does not support item assignment\"} ZTS\n"
     ]
    },
    {
     "name": "stderr",
     "output_type": "stream",
     "text": [
      "\n"
     ]
    }
   ],
   "source": [
    "market.connect()\n",
    "market.drop_table(\"portfolio_pdr_prices\")\n",
    "market.drop_table(\"portfolio_tiingo_prices\")\n",
    "market.drop_table(\"portfolio_finnhub_prices\")\n",
    "fails = []\n",
    "for ticker in tqdm(tickers):\n",
    "    try:\n",
    "        if \".\" in ticker:\n",
    "            ticker = ticker.replace(\".\",\"-\")\n",
    "        status = \"tiingo\"\n",
    "        price = pdr.DataReader(ticker, \n",
    "                       start=start, \n",
    "                       end=end, \n",
    "                       data_source='yahoo')\n",
    "        price[\"ticker\"] = ticker\n",
    "        market.store_data(\"portfolio_pdr_prices\",price.reset_index())\n",
    "        tp = TiingoExtractor(ticker,start,end).extract()\n",
    "        tp[\"ticker\"] = ticker\n",
    "        market.store_data(\"portfolio_tiingo_prices\",tp.reset_index())\n",
    "        fp = FinnhubExtractor.extract(ticker,start,end)\n",
    "        fp = pd.DataFrame(fp)\n",
    "        fp[\"ticker\"] = ticker\n",
    "        market.store_data(\"portfolio_finnhub_prices\",fp.reset_index())\n",
    "        sleep(8)\n",
    "    except Exception as e:\n",
    "        msg = {\"status\":status,\"ticker\":ticker,\"exception\":str(e)}\n",
    "        print(msg,ticker)\n",
    "        fails.append(ticker)\n",
    "market.close()"
   ]
  }
 ],
 "metadata": {
  "kernelspec": {
   "display_name": "Python 3",
   "language": "python",
   "name": "python3"
  },
  "language_info": {
   "codemirror_mode": {
    "name": "ipython",
    "version": 3
   },
   "file_extension": ".py",
   "mimetype": "text/x-python",
   "name": "python",
   "nbconvert_exporter": "python",
   "pygments_lexer": "ipython3",
   "version": "3.8.0"
  }
 },
 "nbformat": 4,
 "nbformat_minor": 4
}
