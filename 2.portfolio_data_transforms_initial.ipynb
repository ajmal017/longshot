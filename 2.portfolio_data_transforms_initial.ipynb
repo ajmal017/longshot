{
 "cells": [
  {
   "cell_type": "code",
   "execution_count": 4,
   "metadata": {},
   "outputs": [],
   "source": [
    "from database.market import Market\n",
    "from transformer.column_transformer import ColumnTransformer\n",
    "from transformer.date_transformer import DateTransformer\n",
    "from utils.date_utils import DateUtils\n",
    "import pandas as pd\n",
    "import matplotlib.pyplot as plt\n",
    "from datetime import datetime, timedelta, timezone\n",
    "from tqdm import tqdm\n",
    "import math\n",
    "import numpy as np\n",
    "import statistics"
   ]
  },
  {
   "cell_type": "code",
   "execution_count": 5,
   "metadata": {},
   "outputs": [],
   "source": [
    "## Loading Constants\n",
    "start = (datetime.now() - timedelta(days=730)).strftime(\"%Y-%m-%d\")\n",
    "end = datetime.now().strftime(\"%Y-%m-%d\")\n",
    "# Loading Databases\n",
    "market = Market()\n",
    "market.connect()\n",
    "tickers = market.retrieve_data(\"sp500\").sort_values(\"Symbol\")\n",
    "market.close()\n",
    "model_range = range(len(tickers))\n",
    "datasets = [\n",
    "                \"pdr\"\n",
    "            ,\"tiingo\"\n",
    "            ,\"finnhub\"\n",
    "           ]"
   ]
  },
  {
   "cell_type": "code",
   "execution_count": 7,
   "metadata": {
    "scrolled": true
   },
   "outputs": [
    {
     "name": "stderr",
     "output_type": "stream",
     "text": [
      "  0%|                                                                                                                                                                                     | 0/505 [00:00<?, ?it/s]<ipython-input-7-c2be8e4dbf2a>:21: SettingWithCopyWarning: \n",
      "A value is trying to be set on a copy of a slice from a DataFrame.\n",
      "Try using .loc[row_indexer,col_indexer] = value instead\n",
      "\n",
      "See the caveats in the documentation: https://pandas.pydata.org/pandas-docs/stable/user_guide/indexing.html#returning-a-view-versus-a-copy\n",
      "  relev[\"ticker\"] = ticker\n",
      "<ipython-input-7-c2be8e4dbf2a>:22: SettingWithCopyWarning: \n",
      "A value is trying to be set on a copy of a slice from a DataFrame\n",
      "\n",
      "See the caveats in the documentation: https://pandas.pydata.org/pandas-docs/stable/user_guide/indexing.html#returning-a-view-versus-a-copy\n",
      "  relev.sort_values(\"date\",inplace=True)\n",
      "<ipython-input-7-c2be8e4dbf2a>:24: SettingWithCopyWarning: \n",
      "A value is trying to be set on a copy of a slice from a DataFrame.\n",
      "Try using .loc[row_indexer,col_indexer] = value instead\n",
      "\n",
      "See the caveats in the documentation: https://pandas.pydata.org/pandas-docs/stable/user_guide/indexing.html#returning-a-view-versus-a-copy\n",
      "  relev[\"date\"] = [datetime.strptime(str(x).split(\" \")[0],\"%Y-%m-%d\") for x in relev[\"date\"]]\n",
      " 20%|██████████████████████████████████▏                                                                                                                                        | 101/505 [00:12<00:44,  9.03it/s]"
     ]
    },
    {
     "name": "stdout",
     "output_type": "stream",
     "text": [
      "'t' CRL\n"
     ]
    },
    {
     "name": "stderr",
     "output_type": "stream",
     "text": [
      "100%|███████████████████████████████████████████████████████████████████████████████████████████████████████████████████████████████████████████████████████████████████████████| 505/505 [01:03<00:00,  7.91it/s]\n"
     ]
    },
    {
     "name": "stdout",
     "output_type": "stream",
     "text": [
      "'t' YUM\n",
      "'t' ZBRA\n",
      "'t' ZBH\n",
      "'t' ZION\n",
      "'t' ZTS\n"
     ]
    }
   ],
   "source": [
    "refined_daily_classification = []\n",
    "refined_quarterly_classification = []\n",
    "refined_weekly_classification = []\n",
    "refined_model_regression = []\n",
    "market.connect()\n",
    "for i in tqdm(model_range):\n",
    "    try:\n",
    "        refined_regression = []\n",
    "        for dataset in datasets:\n",
    "            ticker = tickers[\"Symbol\"][i]\n",
    "            if \".\" in ticker:\n",
    "                ticker = ticker.replace(\".\",\"-\")\n",
    "            prices = market.retrieve_price_data(\"portfolio_{}_prices\".format(dataset),ticker)\n",
    "            if dataset == \"pdr\":\n",
    "                prices = ColumnTransformer.rename_columns(prices, \" \")\n",
    "            else:\n",
    "                prices = ColumnTransformer.rename_columns(prices, \"_\")\n",
    "            prices = DateTransformer.convert_to_date(dataset,prices,\"date\")\n",
    "            prices.reset_index(inplace=True)\n",
    "            relev = prices[[\"date\",\"adjclose\"]]\n",
    "            relev[\"ticker\"] = ticker\n",
    "            relev.sort_values(\"date\",inplace=True)\n",
    "            relev.rename(columns={\"adjclose\":dataset},inplace=True) \n",
    "            relev[\"date\"] = [datetime.strptime(str(x).split(\" \")[0],\"%Y-%m-%d\") for x in relev[\"date\"]]\n",
    "            ## daily transformations\n",
    "            refined_regression.append(relev)\n",
    "        base = refined_regression[0]\n",
    "        for rr in refined_regression[1:]:\n",
    "            base = base.merge(rr,on=[\"date\",\"ticker\"],how=\"left\")\n",
    "        adjclose = []\n",
    "        for row in base.iterrows():\n",
    "            values = []\n",
    "            for x in datasets:\n",
    "                try:\n",
    "                    values.append(row[1][x])\n",
    "                except:\n",
    "                    continue\n",
    "            adjclose.append(np.nanmean(values))\n",
    "        base[\"adjclose\"] = adjclose\n",
    "        relev = base.copy()\n",
    "        relev[\"week\"] = [x.week for x in relev[\"date\"]]\n",
    "        relev[\"quarter\"] = [x.quarter for x in relev[\"date\"]]\n",
    "        relev[\"year\"] = [x.year for x in relev[\"date\"]]\n",
    "        refined_model_regression.append(relev.copy())\n",
    "        relev_classification = relev.copy()\n",
    "        relev_classification[\"adjclose\"] = [1 if x > 0 else 0 for x in relev_classification[\"adjclose\"].diff()]\n",
    "        refined_daily_classification.append(relev_classification)\n",
    "        ## weekly transformations\n",
    "        relev[\"week\"] = [x.week for x in relev[\"date\"]]\n",
    "        relev[\"quarter\"] = [x.quarter for x in relev[\"date\"]]\n",
    "        relev[\"year\"] = [x.year for x in relev[\"date\"]]\n",
    "        relev_weekly_classification = relev.groupby([\"year\",\"quarter\",\"week\"]).mean().reset_index()\n",
    "        relev_weekly_classification[\"adjclose\"] = [1 if x > 0 else 0 for x in relev_weekly_classification[\"adjclose\"].diff()]\n",
    "        relev_weekly_classification[\"ticker\"] = ticker\n",
    "        refined_weekly_classification.append(relev_weekly_classification)\n",
    "        ## quarterly transformations\n",
    "        relev_quarterly_classification = relev.groupby([\"year\",\"quarter\"]).mean().reset_index().drop(\"week\",axis=1)\n",
    "        relev_quarterly_classification[\"adjclose\"] = [1 if x > 0 else 0 for x in relev_quarterly_classification[\"adjclose\"].diff()]\n",
    "        relev_quarterly_classification[\"ticker\"] = ticker\n",
    "        refined_quarterly_classification.append(relev_quarterly_classification)\n",
    "    except Exception as e:\n",
    "        print(str(e),ticker)\n",
    "classification_sets = {\"date\":refined_daily_classification,\n",
    "                       \"quarter\":refined_quarterly_classification,\n",
    "                      \"week\":refined_weekly_classification}\n",
    "for ds in classification_sets:\n",
    "    base = pd.concat(classification_sets[ds])\n",
    "    if ds == \"date\":\n",
    "        base[\"year\"] = [x.year for x in base[\"date\"]]\n",
    "        base[\"quarter\"] = [x.quarter for x in base[\"date\"]]\n",
    "        base[\"week\"] = [x.week for x in base[\"date\"]]\n",
    "        final = base.pivot_table(index=ds,values=\"adjclose\",columns=\"ticker\").reset_index()\n",
    "    else:\n",
    "        if ds == \"week\":\n",
    "            final = base.pivot_table(index=[\"year\",\"quarter\",\"week\"],values=\"adjclose\",columns=\"ticker\").reset_index()\n",
    "        else:\n",
    "            final = base.pivot_table(index=[\"year\",ds],values=\"adjclose\",columns=\"ticker\").reset_index()\n",
    "    name = \"portfolio_dataset_{}_classification\".format(ds)\n",
    "    final.fillna(-99999,inplace=True)\n",
    "    market.drop_table(name)\n",
    "    market.store_data(name,final)\n",
    "base = pd.concat(refined_model_regression)\n",
    "market.drop_table(\"portfolio_prices\")\n",
    "market.store_data(\"portfolio_prices\",base)\n",
    "final = base.pivot_table(index=[\"year\",\"quarter\",\"week\"],values=\"adjclose\",columns=\"ticker\").reset_index()\n",
    "final.fillna(-99999,inplace=True)\n",
    "for timeframe in [\"week\",\"quarter\"]:\n",
    "    if timeframe == \"week\":\n",
    "        relev = final.groupby([\"year\",\"quarter\",\"week\"]).mean().reset_index()\n",
    "    else:\n",
    "        relev = final.groupby([\"year\",\"quarter\"]).mean().reset_index()\n",
    "    relev.reset_index(drop=True,inplace=True)\n",
    "    name = \"portfolio_dataset_{}_regression\".format(timeframe)\n",
    "    market.drop_table(name)\n",
    "    market.store_data(name,relev)\n",
    "market.close()"
   ]
  }
 ],
 "metadata": {
  "kernelspec": {
   "display_name": "Python 3",
   "language": "python",
   "name": "python3"
  },
  "language_info": {
   "codemirror_mode": {
    "name": "ipython",
    "version": 3
   },
   "file_extension": ".py",
   "mimetype": "text/x-python",
   "name": "python",
   "nbconvert_exporter": "python",
   "pygments_lexer": "ipython3",
   "version": "3.8.0"
  }
 },
 "nbformat": 4,
 "nbformat_minor": 4
}
