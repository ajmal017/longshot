{
 "cells": [
  {
   "cell_type": "code",
   "execution_count": 1,
   "metadata": {},
   "outputs": [],
   "source": [
    "from tqdm import tqdm\n",
    "from database.sec import SEC\n",
    "from pandas import DataFrame\n",
    "from transformer.sec_transformer import SECTransformer\n",
    "import pandas as pd\n",
    "from datetime import datetime"
   ]
  },
  {
   "cell_type": "code",
   "execution_count": 2,
   "metadata": {},
   "outputs": [],
   "source": [
    "sec = SEC(\"sec\")"
   ]
  },
  {
   "cell_type": "code",
   "execution_count": 3,
   "metadata": {},
   "outputs": [
    {
     "name": "stdout",
     "output_type": "stream",
     "text": [
      "2010 1\n",
      "2010 2\n",
      "2010 3\n",
      "2010 4\n",
      "2011 1\n",
      "2011 2\n",
      "2011 3\n",
      "2011 4\n",
      "2012 1\n",
      "2012 2\n",
      "2012 3\n",
      "2012 4\n",
      "2013 1\n",
      "2013 2\n",
      "2013 3\n",
      "2013 4\n",
      "2014 1\n",
      "2014 2\n",
      "2014 3\n",
      "2014 4\n",
      "2015 1\n",
      "2015 2\n",
      "2015 3\n",
      "2015 4\n",
      "2016 1\n",
      "2016 2\n",
      "2016 3\n",
      "2016 4\n",
      "2017 1\n",
      "2017 2\n",
      "2017 3\n",
      "2017 4\n",
      "2018 1\n",
      "2018 2\n",
      "2018 3\n",
      "2018 4\n",
      "2019 1\n",
      "2019 2\n",
      "2019 3\n",
      "2019 4\n",
      "2020 1\n",
      "2020 2\n",
      "2020 3\n",
      "2020 4\n"
     ]
    }
   ],
   "source": [
    "sec.connect()\n",
    "for i in range(2021,2022):\n",
    "    for j in range(1,5):\n",
    "        print(i,j)\n",
    "        try:\n",
    "            sect = SECTransformer(i,j)\n",
    "            num = sect.transform(\"num\")\n",
    "            sub = sect.transform(\"sub\")\n",
    "            sec.store_data(\"nums\",num)\n",
    "            sec.store_data(\"subs\",sub)\n",
    "        except Exception as e:\n",
    "            print(i,j,str(e))\n",
    "            continue\n",
    "sec.close()"
   ]
  }
 ],
 "metadata": {
  "kernelspec": {
   "display_name": "Python 3",
   "language": "python",
   "name": "python3"
  },
  "language_info": {
   "codemirror_mode": {
    "name": "ipython",
    "version": 3
   },
   "file_extension": ".py",
   "mimetype": "text/x-python",
   "name": "python",
   "nbconvert_exporter": "python",
   "pygments_lexer": "ipython3",
   "version": "3.8.0"
  }
 },
 "nbformat": 4,
 "nbformat_minor": 4
}
