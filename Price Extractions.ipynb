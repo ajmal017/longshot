{
 "cells": [
  {
   "cell_type": "code",
   "execution_count": 1,
   "metadata": {},
   "outputs": [],
   "source": [
    "from database.market import Market\n",
    "import pandas as pd\n",
    "from extractor.tiingo_extractor import TiingoExtractor\n",
    "from tqdm import tqdm"
   ]
  },
  {
   "cell_type": "code",
   "execution_count": 2,
   "metadata": {},
   "outputs": [],
   "source": [
    "start = \"2020-07-01\"\n",
    "end = \"2020-09-30\"\n",
    "market = Market()"
   ]
  },
  {
   "cell_type": "code",
   "execution_count": 3,
   "metadata": {},
   "outputs": [],
   "source": [
    "market.connect()\n",
    "df = pd.read_html(\"https://en.wikipedia.org/wiki/List_of_S%26P_500_companies\",attrs={\"id\":\"constituents\"},header=0)[0]\n",
    "market.store_data(\"sp500\",df)\n",
    "market.close()"
   ]
  },
  {
   "cell_type": "code",
   "execution_count": 8,
   "metadata": {},
   "outputs": [],
   "source": [
    "market.connect()\n",
    "tickers = market.retrieve_data(\"sp500\")[\"Symbol\"]\n",
    "market.close()"
   ]
  },
  {
   "cell_type": "code",
   "execution_count": 11,
   "metadata": {},
   "outputs": [
    {
     "name": "stderr",
     "output_type": "stream",
     "text": [
      " 99%|████████████████████████████████████████████████████████████████████████████████████████████████▍| 502/505 [05:22<00:01,  2.87it/s]"
     ]
    },
    {
     "name": "stdout",
     "output_type": "stream",
     "text": [
      "If using all scalar values, you must pass an index\n",
      "{'status': 'tiingo', 'ticker': 'YUM', 'exception': \"'NoneType' object does not support item assignment\"}\n",
      "If using all scalar values, you must pass an index\n",
      "{'status': 'tiingo', 'ticker': 'ZBRA', 'exception': \"'NoneType' object does not support item assignment\"}\n"
     ]
    },
    {
     "name": "stderr",
     "output_type": "stream",
     "text": [
      "100%|████████████████████████████████████████████████████████████████████████████████████████████████▊| 504/505 [05:22<00:00,  4.19it/s]"
     ]
    },
    {
     "name": "stdout",
     "output_type": "stream",
     "text": [
      "If using all scalar values, you must pass an index\n",
      "{'status': 'tiingo', 'ticker': 'ZBH', 'exception': \"'NoneType' object does not support item assignment\"}\n",
      "If using all scalar values, you must pass an index\n",
      "{'status': 'tiingo', 'ticker': 'ZION', 'exception': \"'NoneType' object does not support item assignment\"}\n"
     ]
    },
    {
     "name": "stderr",
     "output_type": "stream",
     "text": [
      "100%|█████████████████████████████████████████████████████████████████████████████████████████████████| 505/505 [05:22<00:00,  1.56it/s]"
     ]
    },
    {
     "name": "stdout",
     "output_type": "stream",
     "text": [
      "If using all scalar values, you must pass an index\n",
      "{'status': 'tiingo', 'ticker': 'ZTS', 'exception': \"'NoneType' object does not support item assignment\"}\n"
     ]
    },
    {
     "name": "stderr",
     "output_type": "stream",
     "text": [
      "\n"
     ]
    }
   ],
   "source": [
    "market.connect()\n",
    "fails = []\n",
    "for ticker in tqdm(tickers):\n",
    "    try:\n",
    "        if \".\" in ticker:\n",
    "            ticker = ticker.replace(\".\",\"-\")\n",
    "        status = \"tiingo\"\n",
    "        tex = TiingoExtractor(ticker,start,end)\n",
    "        data = tex.extract()\n",
    "        data[\"ticker\"] = ticker\n",
    "        market.store_data(\"prices\",data)\n",
    "    except Exception as e:\n",
    "        msg = {\"status\":status,\"ticker\":ticker,\"exception\":str(e)}\n",
    "        print(msg)\n",
    "        fails.append(msg)\n",
    "market.close()"
   ]
  },
  {
   "cell_type": "code",
   "execution_count": 12,
   "metadata": {},
   "outputs": [
    {
     "data": {
      "text/plain": [
       "[{'status': 'tiingo',\n",
       "  'ticker': 'YUM',\n",
       "  'exception': \"'NoneType' object does not support item assignment\"},\n",
       " {'status': 'tiingo',\n",
       "  'ticker': 'ZBRA',\n",
       "  'exception': \"'NoneType' object does not support item assignment\"},\n",
       " {'status': 'tiingo',\n",
       "  'ticker': 'ZBH',\n",
       "  'exception': \"'NoneType' object does not support item assignment\"},\n",
       " {'status': 'tiingo',\n",
       "  'ticker': 'ZION',\n",
       "  'exception': \"'NoneType' object does not support item assignment\"},\n",
       " {'status': 'tiingo',\n",
       "  'ticker': 'ZTS',\n",
       "  'exception': \"'NoneType' object does not support item assignment\"}]"
      ]
     },
     "execution_count": 12,
     "metadata": {},
     "output_type": "execute_result"
    }
   ],
   "source": [
    "fails"
   ]
  },
  {
   "cell_type": "code",
   "execution_count": 19,
   "metadata": {},
   "outputs": [
    {
     "name": "stderr",
     "output_type": "stream",
     "text": [
      "100%|██████████████████████████████████████████████████████████████████████████████████████████████████████████████| 5/5 [00:00<?, ?it/s]"
     ]
    },
    {
     "name": "stdout",
     "output_type": "stream",
     "text": [
      "YUM\n",
      "ZBRA\n",
      "ZBH\n",
      "ZION\n",
      "ZTS\n"
     ]
    },
    {
     "name": "stderr",
     "output_type": "stream",
     "text": [
      "\n"
     ]
    }
   ],
   "source": [
    "\n",
    "for ticker in tqdm(fails):\n",
    "    try:\n",
    "        print(ticker)\n",
    "        if \".\" in ticker:\n",
    "            ticker = ticker.replace(\".\",\"-\")\n",
    "        tex = TiingoExtractor(ticker,start,end)\n",
    "        data = tex.extract()\n",
    "        data[\"ticker\"] = ticker\n",
    "        market.store_data(\"prices\",data)\n",
    "    except Exception as e:\n",
    "        msg = {\"status\":status,\"ticker\":ticker,\"exception\":str(e)}\n",
    "        fails.append(msg)"
   ]
  },
  {
   "cell_type": "code",
   "execution_count": 3,
   "metadata": {},
   "outputs": [],
   "source": [
    "fails = [\"YUM\",\"ZBRA\",\"ZBH\",\"ZION\",\"ZTS\"]\n",
    "ticker = \"YUM\"\n",
    "tex = TiingoExtractor(ticker,start,end)\n",
    "data = tex.extract()\n",
    "# data[\"ticker\"] = ticker\n",
    "# market.store_data(\"prices\",data)"
   ]
  },
  {
   "cell_type": "code",
   "execution_count": 7,
   "metadata": {},
   "outputs": [
    {
     "data": {
      "text/plain": [
       "b'You have run over your 500 symbol look up for this month. Please upgrade at https://api.tiingo.com/pricing to have your limits increased.'"
      ]
     },
     "execution_count": 7,
     "metadata": {},
     "output_type": "execute_result"
    }
   ],
   "source": [
    "data.content"
   ]
  }
 ],
 "metadata": {
  "kernelspec": {
   "display_name": "Python 3",
   "language": "python",
   "name": "python3"
  },
  "language_info": {
   "codemirror_mode": {
    "name": "ipython",
    "version": 3
   },
   "file_extension": ".py",
   "mimetype": "text/x-python",
   "name": "python",
   "nbconvert_exporter": "python",
   "pygments_lexer": "ipython3",
   "version": "3.8.5"
  }
 },
 "nbformat": 4,
 "nbformat_minor": 4
}
