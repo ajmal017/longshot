{
 "cells": [
  {
   "cell_type": "code",
   "execution_count": 1,
   "metadata": {},
   "outputs": [],
   "source": [
    "from database.market import Market\n",
    "import pandas as pd\n",
    "from tqdm import tqdm\n",
    "from datetime import datetime,timezone\n",
    "import pandas_datareader as pdr\n",
    "from extractor.finnhub_extractor import FinnhubExtractor\n",
    "from extractor.tiingo_extractor import TiingoExtractor\n",
    "from time import sleep"
   ]
  },
  {
   "cell_type": "code",
   "execution_count": 2,
   "metadata": {},
   "outputs": [],
   "source": [
    "start = \"2008-01-01\"\n",
    "end = datetime.now().strftime(\"%Y-%m-%d\")\n",
    "market = Market()"
   ]
  },
  {
   "cell_type": "code",
   "execution_count": 9,
   "metadata": {},
   "outputs": [],
   "source": [
    "# market.connect()\n",
    "# market.drop_table(\"sp500\")\n",
    "# df = pd.read_html(\"https://en.wikipedia.org/wiki/List_of_S%26P_500_companies\",attrs={\"id\":\"constituents\"},header=0)[0]\n",
    "# market.store_data(\"sp500\",df)\n",
    "# market.close()"
   ]
  },
  {
   "cell_type": "code",
   "execution_count": 3,
   "metadata": {},
   "outputs": [],
   "source": [
    "market.connect()\n",
    "tickers = market.retrieve_data(\"sp500\").sort_values(\"Symbol\")[\"Symbol\"]\n",
    "market.close()"
   ]
  },
  {
   "cell_type": "code",
   "execution_count": 5,
   "metadata": {},
   "outputs": [
    {
     "name": "stderr",
     "output_type": "stream",
     "text": [
      " 25%|███████████████████████████████████████████▌                                                                                                                                      | 124/506 [20:58<47:11,  7.41s/it]"
     ]
    },
    {
     "name": "stdout",
     "output_type": "stream",
     "text": [
      "{'status': 'tiingo', 'ticker': 'CXO', 'exception': 'No data fetched for symbol CXO using YahooDailyReader'} CXO\n"
     ]
    },
    {
     "name": "stderr",
     "output_type": "stream",
     "text": [
      "\r",
      " 25%|███████████████████████████████████████████▉                                                                                                                                      | 125/506 [21:09<52:57,  8.34s/it]"
     ]
    },
    {
     "name": "stdout",
     "output_type": "stream",
     "text": [
      "{'status': 'tiingo', 'ticker': 'D', 'exception': \"('Connection broken: IncompleteRead(0 bytes read)', IncompleteRead(0 bytes read))\"} D\n"
     ]
    },
    {
     "name": "stderr",
     "output_type": "stream",
     "text": [
      " 86%|███████████████████████████████████████████████████████████████████████████████████████████████████████████████████████████████████████████████████████▋                        | 436/506 [1:15:04<09:05,  7.79s/it]"
     ]
    },
    {
     "name": "stdout",
     "output_type": "stream",
     "text": [
      "{'status': 'tiingo', 'ticker': 'TIF', 'exception': 'No data fetched for symbol TIF using YahooDailyReader'} TIF\n"
     ]
    },
    {
     "name": "stderr",
     "output_type": "stream",
     "text": [
      "100%|███████████████████████████████████████████████████████████████████████████████████████████████████████████████████████████████████████████████████████████████████████████████▎| 504/506 [1:27:12<00:15,  7.81s/it]"
     ]
    },
    {
     "name": "stdout",
     "output_type": "stream",
     "text": [
      "Expecting value: line 1 column 1 (char 0)\n",
      "{'status': 'tiingo', 'ticker': 'ZBRA', 'exception': \"'NoneType' object does not support item assignment\"} ZBRA\n"
     ]
    },
    {
     "name": "stderr",
     "output_type": "stream",
     "text": [
      "\r",
      "100%|███████████████████████████████████████████████████████████████████████████████████████████████████████████████████████████████████████████████████████████████████████████████▋| 505/506 [1:27:13<00:05,  5.74s/it]"
     ]
    },
    {
     "name": "stdout",
     "output_type": "stream",
     "text": [
      "Expecting value: line 1 column 1 (char 0)\n",
      "{'status': 'tiingo', 'ticker': 'ZION', 'exception': \"'NoneType' object does not support item assignment\"} ZION\n"
     ]
    },
    {
     "name": "stderr",
     "output_type": "stream",
     "text": [
      "100%|████████████████████████████████████████████████████████████████████████████████████████████████████████████████████████████████████████████████████████████████████████████████| 506/506 [1:27:14<00:00, 10.35s/it]"
     ]
    },
    {
     "name": "stdout",
     "output_type": "stream",
     "text": [
      "Expecting value: line 1 column 1 (char 0)\n",
      "{'status': 'tiingo', 'ticker': 'ZTS', 'exception': \"'NoneType' object does not support item assignment\"} ZTS\n"
     ]
    },
    {
     "name": "stderr",
     "output_type": "stream",
     "text": [
      "\n"
     ]
    }
   ],
   "source": [
    "market.connect()\n",
    "market.drop_table(\"new_pdr_prices\")\n",
    "market.drop_table(\"new_tiingo_prices\")\n",
    "market.drop_table(\"new_finnhub_prices\")\n",
    "fails = []\n",
    "for ticker in tqdm(tickers):\n",
    "    try:\n",
    "        if \".\" in ticker:\n",
    "            ticker = ticker.replace(\".\",\"-\")\n",
    "        status = \"tiingo\"\n",
    "        price = pdr.DataReader(ticker, \n",
    "                       start=start, \n",
    "                       end=end, \n",
    "                       data_source='yahoo')\n",
    "        price[\"ticker\"] = ticker\n",
    "        market.store_data(\"new_pdr_prices\",price.reset_index())\n",
    "        tp = TiingoExtractor(ticker,start,end).extract()\n",
    "        tp[\"ticker\"] = ticker\n",
    "        market.store_data(\"new_tiingo_prices\",tp.reset_index())\n",
    "        fp = FinnhubExtractor.extract(ticker,start,end)\n",
    "        fp = pd.DataFrame(fp)\n",
    "        fp[\"ticker\"] = ticker\n",
    "        market.store_data(\"new_finnhub_prices\",fp.reset_index())\n",
    "        sleep(8)\n",
    "    except Exception as e:\n",
    "        msg = {\"status\":status,\"ticker\":ticker,\"exception\":str(e)}\n",
    "        print(msg,ticker)\n",
    "        fails.append(ticker)\n",
    "market.close()"
   ]
  }
 ],
 "metadata": {
  "kernelspec": {
   "display_name": "Python 3",
   "language": "python",
   "name": "python3"
  },
  "language_info": {
   "codemirror_mode": {
    "name": "ipython",
    "version": 3
   },
   "file_extension": ".py",
   "mimetype": "text/x-python",
   "name": "python",
   "nbconvert_exporter": "python",
   "pygments_lexer": "ipython3",
   "version": "3.8.0"
  }
 },
 "nbformat": 4,
 "nbformat_minor": 4
}
