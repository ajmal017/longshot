{
 "cells": [
  {
   "cell_type": "code",
   "execution_count": 3,
   "metadata": {},
   "outputs": [],
   "source": [
    "import pandas as pd\n",
    "from tqdm import tqdm\n",
    "from database.strategy import Strategy\n",
    "from database.market import Market\n",
    "import warnings\n",
    "warnings.simplefilter(action='ignore', category=Warning)\n",
    "import matplotlib.pyplot as plt\n",
    "from datetime import datetime, timedelta\n",
    "import math\n",
    "import numpy as np\n",
    "from sklearn.preprocessing import normalize"
   ]
  },
  {
   "cell_type": "code",
   "execution_count": 4,
   "metadata": {},
   "outputs": [],
   "source": [
    "strat_db = Strategy(\"unity\")\n",
    "market = Market()"
   ]
  },
  {
   "cell_type": "code",
   "execution_count": 5,
   "metadata": {},
   "outputs": [],
   "source": [
    "market.connect()\n",
    "sp5 = market.retrieve_data(\"sp500\")\n",
    "market.close()"
   ]
  },
  {
   "cell_type": "code",
   "execution_count": 6,
   "metadata": {},
   "outputs": [],
   "source": [
    "strat_db.connect()\n",
    "tse = strat_db.retrieve_data(\"tsmc_epochs\")\n",
    "strat_db.close()"
   ]
  },
  {
   "cell_type": "code",
   "execution_count": 7,
   "metadata": {},
   "outputs": [],
   "source": [
    "seats = 10\n",
    "strat_db.connect()\n",
    "analysis = []\n",
    "for epoch in tse[\"epoch\"].unique():\n",
    "    epoch_dict = tse.iloc[epoch]\n",
    "    trades = strat_db.retrieve_data(\"tsmc_{}\".format(epoch))\n",
    "    if trades.index.size < 1:\n",
    "        print(epoch,trades.index.size)\n",
    "        continue\n",
    "    else:\n",
    "        for seat in range(1,seats+1):\n",
    "            initial = 1000/seats\n",
    "            seat_trades = trades[trades[\"seat\"] == seat]\n",
    "            if seat_trades.index.size > 0:\n",
    "                for delta in seat_trades[\"sell_delta\"]:\n",
    "                    initial = initial * (1 + delta)\n",
    "                stg = seat_trades.groupby(\"seat\").mean().reset_index()[[\"adjclose\",\"sell_price\",\"seat\",\"sell_delta\"]]\n",
    "                stg[\"epoch\"] = epoch\n",
    "                stg[\"score\"] = epoch_dict[\"score\"]\n",
    "                stg[\"ascending\"] = epoch_dict[\"ascending\"]\n",
    "                stg[\"wdr\"] = epoch_dict[\"wdr\"]\n",
    "                stg[\"pv\"] = initial\n",
    "                stg[\"trades\"] = seat_trades.index.size\n",
    "                stg[\"winrate\"] = seat_trades[seat_trades[\"sell_delta\"] > 0].index.size / seat_trades.index.size\n",
    "                analysis.append(stg)\n",
    "strat_db.close()"
   ]
  },
  {
   "cell_type": "code",
   "execution_count": 8,
   "metadata": {},
   "outputs": [],
   "source": [
    "a = pd.concat(analysis)"
   ]
  },
  {
   "cell_type": "code",
   "execution_count": 9,
   "metadata": {},
   "outputs": [],
   "source": [
    "metric = \"pv\""
   ]
  },
  {
   "cell_type": "code",
   "execution_count": 10,
   "metadata": {
    "scrolled": true
   },
   "outputs": [
    {
     "data": {
      "text/html": [
       "<div>\n",
       "<style scoped>\n",
       "    .dataframe tbody tr th:only-of-type {\n",
       "        vertical-align: middle;\n",
       "    }\n",
       "\n",
       "    .dataframe tbody tr th {\n",
       "        vertical-align: top;\n",
       "    }\n",
       "\n",
       "    .dataframe thead th {\n",
       "        text-align: right;\n",
       "    }\n",
       "</style>\n",
       "<table border=\"1\" class=\"dataframe\">\n",
       "  <thead>\n",
       "    <tr style=\"text-align: right;\">\n",
       "      <th></th>\n",
       "      <th>adjclose</th>\n",
       "      <th>sell_price</th>\n",
       "      <th>seat</th>\n",
       "      <th>sell_delta</th>\n",
       "      <th>epoch</th>\n",
       "      <th>score</th>\n",
       "      <th>ascending</th>\n",
       "      <th>wdr</th>\n",
       "      <th>pv</th>\n",
       "      <th>trades</th>\n",
       "      <th>winrate</th>\n",
       "    </tr>\n",
       "  </thead>\n",
       "  <tbody>\n",
       "    <tr>\n",
       "      <th>0</th>\n",
       "      <td>53.875075</td>\n",
       "      <td>55.862970</td>\n",
       "      <td>1</td>\n",
       "      <td>0.039895</td>\n",
       "      <td>3</td>\n",
       "      <td>0.7</td>\n",
       "      <td>False</td>\n",
       "      <td>5</td>\n",
       "      <td>1.181309e+07</td>\n",
       "      <td>311</td>\n",
       "      <td>0.842444</td>\n",
       "    </tr>\n",
       "    <tr>\n",
       "      <th>0</th>\n",
       "      <td>51.426675</td>\n",
       "      <td>53.269012</td>\n",
       "      <td>3</td>\n",
       "      <td>0.039439</td>\n",
       "      <td>3</td>\n",
       "      <td>0.7</td>\n",
       "      <td>False</td>\n",
       "      <td>5</td>\n",
       "      <td>1.136696e+07</td>\n",
       "      <td>310</td>\n",
       "      <td>0.854839</td>\n",
       "    </tr>\n",
       "    <tr>\n",
       "      <th>0</th>\n",
       "      <td>75.754416</td>\n",
       "      <td>79.449644</td>\n",
       "      <td>2</td>\n",
       "      <td>0.036737</td>\n",
       "      <td>3</td>\n",
       "      <td>0.7</td>\n",
       "      <td>False</td>\n",
       "      <td>5</td>\n",
       "      <td>6.844546e+06</td>\n",
       "      <td>320</td>\n",
       "      <td>0.831250</td>\n",
       "    </tr>\n",
       "    <tr>\n",
       "      <th>0</th>\n",
       "      <td>96.223312</td>\n",
       "      <td>99.411646</td>\n",
       "      <td>7</td>\n",
       "      <td>0.033471</td>\n",
       "      <td>3</td>\n",
       "      <td>0.7</td>\n",
       "      <td>False</td>\n",
       "      <td>5</td>\n",
       "      <td>2.221964e+06</td>\n",
       "      <td>320</td>\n",
       "      <td>0.781250</td>\n",
       "    </tr>\n",
       "    <tr>\n",
       "      <th>0</th>\n",
       "      <td>66.694703</td>\n",
       "      <td>68.760944</td>\n",
       "      <td>5</td>\n",
       "      <td>0.032489</td>\n",
       "      <td>3</td>\n",
       "      <td>0.7</td>\n",
       "      <td>False</td>\n",
       "      <td>5</td>\n",
       "      <td>2.076261e+06</td>\n",
       "      <td>321</td>\n",
       "      <td>0.825545</td>\n",
       "    </tr>\n",
       "    <tr>\n",
       "      <th>0</th>\n",
       "      <td>73.297445</td>\n",
       "      <td>75.827243</td>\n",
       "      <td>4</td>\n",
       "      <td>0.032504</td>\n",
       "      <td>3</td>\n",
       "      <td>0.7</td>\n",
       "      <td>False</td>\n",
       "      <td>5</td>\n",
       "      <td>2.050029e+06</td>\n",
       "      <td>321</td>\n",
       "      <td>0.813084</td>\n",
       "    </tr>\n",
       "    <tr>\n",
       "      <th>0</th>\n",
       "      <td>89.409082</td>\n",
       "      <td>91.773301</td>\n",
       "      <td>8</td>\n",
       "      <td>0.028878</td>\n",
       "      <td>3</td>\n",
       "      <td>0.7</td>\n",
       "      <td>False</td>\n",
       "      <td>5</td>\n",
       "      <td>6.655458e+05</td>\n",
       "      <td>323</td>\n",
       "      <td>0.811146</td>\n",
       "    </tr>\n",
       "    <tr>\n",
       "      <th>0</th>\n",
       "      <td>84.444434</td>\n",
       "      <td>87.246232</td>\n",
       "      <td>6</td>\n",
       "      <td>0.028889</td>\n",
       "      <td>3</td>\n",
       "      <td>0.7</td>\n",
       "      <td>False</td>\n",
       "      <td>5</td>\n",
       "      <td>5.521970e+05</td>\n",
       "      <td>320</td>\n",
       "      <td>0.768750</td>\n",
       "    </tr>\n",
       "    <tr>\n",
       "      <th>0</th>\n",
       "      <td>80.437198</td>\n",
       "      <td>82.623652</td>\n",
       "      <td>10</td>\n",
       "      <td>0.029015</td>\n",
       "      <td>3</td>\n",
       "      <td>0.7</td>\n",
       "      <td>False</td>\n",
       "      <td>5</td>\n",
       "      <td>4.377297e+05</td>\n",
       "      <td>307</td>\n",
       "      <td>0.798046</td>\n",
       "    </tr>\n",
       "    <tr>\n",
       "      <th>0</th>\n",
       "      <td>85.145295</td>\n",
       "      <td>87.267504</td>\n",
       "      <td>9</td>\n",
       "      <td>0.025367</td>\n",
       "      <td>3</td>\n",
       "      <td>0.7</td>\n",
       "      <td>False</td>\n",
       "      <td>5</td>\n",
       "      <td>2.298439e+05</td>\n",
       "      <td>319</td>\n",
       "      <td>0.793103</td>\n",
       "    </tr>\n",
       "  </tbody>\n",
       "</table>\n",
       "</div>"
      ],
      "text/plain": [
       "    adjclose  sell_price  seat  sell_delta  epoch  score  ascending  wdr  \\\n",
       "0  53.875075   55.862970     1    0.039895      3    0.7      False    5   \n",
       "0  51.426675   53.269012     3    0.039439      3    0.7      False    5   \n",
       "0  75.754416   79.449644     2    0.036737      3    0.7      False    5   \n",
       "0  96.223312   99.411646     7    0.033471      3    0.7      False    5   \n",
       "0  66.694703   68.760944     5    0.032489      3    0.7      False    5   \n",
       "0  73.297445   75.827243     4    0.032504      3    0.7      False    5   \n",
       "0  89.409082   91.773301     8    0.028878      3    0.7      False    5   \n",
       "0  84.444434   87.246232     6    0.028889      3    0.7      False    5   \n",
       "0  80.437198   82.623652    10    0.029015      3    0.7      False    5   \n",
       "0  85.145295   87.267504     9    0.025367      3    0.7      False    5   \n",
       "\n",
       "             pv  trades   winrate  \n",
       "0  1.181309e+07     311  0.842444  \n",
       "0  1.136696e+07     310  0.854839  \n",
       "0  6.844546e+06     320  0.831250  \n",
       "0  2.221964e+06     320  0.781250  \n",
       "0  2.076261e+06     321  0.825545  \n",
       "0  2.050029e+06     321  0.813084  \n",
       "0  6.655458e+05     323  0.811146  \n",
       "0  5.521970e+05     320  0.768750  \n",
       "0  4.377297e+05     307  0.798046  \n",
       "0  2.298439e+05     319  0.793103  "
      ]
     },
     "execution_count": 10,
     "metadata": {},
     "output_type": "execute_result"
    }
   ],
   "source": [
    "a[a[\"epoch\"] == 3].sort_values(metric,ascending=False)"
   ]
  },
  {
   "cell_type": "code",
   "execution_count": 11,
   "metadata": {},
   "outputs": [],
   "source": [
    "apt = a.pivot_table(index=[\"epoch\",\"score\",\"ascending\",\"wdr\"],columns=\"seat\",values=metric)\n",
    "apt[metric] = [sum([row[1][i] for i in range(1,seats)]) for row in apt.iterrows()]\n",
    "apt.fillna(0,inplace=True)"
   ]
  },
  {
   "cell_type": "code",
   "execution_count": 12,
   "metadata": {},
   "outputs": [
    {
     "data": {
      "text/html": [
       "<div>\n",
       "<style scoped>\n",
       "    .dataframe tbody tr th:only-of-type {\n",
       "        vertical-align: middle;\n",
       "    }\n",
       "\n",
       "    .dataframe tbody tr th {\n",
       "        vertical-align: top;\n",
       "    }\n",
       "\n",
       "    .dataframe thead th {\n",
       "        text-align: right;\n",
       "    }\n",
       "</style>\n",
       "<table border=\"1\" class=\"dataframe\">\n",
       "  <thead>\n",
       "    <tr style=\"text-align: right;\">\n",
       "      <th></th>\n",
       "      <th></th>\n",
       "      <th></th>\n",
       "      <th>seat</th>\n",
       "      <th>1</th>\n",
       "      <th>2</th>\n",
       "      <th>3</th>\n",
       "      <th>4</th>\n",
       "      <th>5</th>\n",
       "      <th>6</th>\n",
       "      <th>7</th>\n",
       "      <th>8</th>\n",
       "      <th>9</th>\n",
       "      <th>10</th>\n",
       "      <th>pv</th>\n",
       "    </tr>\n",
       "    <tr>\n",
       "      <th>epoch</th>\n",
       "      <th>score</th>\n",
       "      <th>ascending</th>\n",
       "      <th>wdr</th>\n",
       "      <th></th>\n",
       "      <th></th>\n",
       "      <th></th>\n",
       "      <th></th>\n",
       "      <th></th>\n",
       "      <th></th>\n",
       "      <th></th>\n",
       "      <th></th>\n",
       "      <th></th>\n",
       "      <th></th>\n",
       "      <th></th>\n",
       "    </tr>\n",
       "  </thead>\n",
       "  <tbody>\n",
       "    <tr>\n",
       "      <th>3</th>\n",
       "      <th>0.7</th>\n",
       "      <th>False</th>\n",
       "      <th>5</th>\n",
       "      <td>1.181309e+07</td>\n",
       "      <td>6.844546e+06</td>\n",
       "      <td>1.136696e+07</td>\n",
       "      <td>2.050029e+06</td>\n",
       "      <td>2.076261e+06</td>\n",
       "      <td>552196.986734</td>\n",
       "      <td>2.221964e+06</td>\n",
       "      <td>665545.814143</td>\n",
       "      <td>229843.919836</td>\n",
       "      <td>4.377297e+05</td>\n",
       "      <td>3.782043e+07</td>\n",
       "    </tr>\n",
       "    <tr>\n",
       "      <th>1</th>\n",
       "      <th>0.7</th>\n",
       "      <th>False</th>\n",
       "      <th>0</th>\n",
       "      <td>1.026033e+07</td>\n",
       "      <td>6.748016e+06</td>\n",
       "      <td>6.543069e+06</td>\n",
       "      <td>2.476535e+06</td>\n",
       "      <td>3.436730e+06</td>\n",
       "      <td>482937.233467</td>\n",
       "      <td>3.230110e+06</td>\n",
       "      <td>670556.975625</td>\n",
       "      <td>349850.454923</td>\n",
       "      <td>1.015492e+06</td>\n",
       "      <td>3.419814e+07</td>\n",
       "    </tr>\n",
       "    <tr>\n",
       "      <th>5</th>\n",
       "      <th>0.7</th>\n",
       "      <th>False</th>\n",
       "      <th>10</th>\n",
       "      <td>1.396023e+07</td>\n",
       "      <td>6.154754e+06</td>\n",
       "      <td>3.540792e+06</td>\n",
       "      <td>4.673620e+06</td>\n",
       "      <td>4.889471e+05</td>\n",
       "      <td>808492.012701</td>\n",
       "      <td>3.994470e+05</td>\n",
       "      <td>398454.715080</td>\n",
       "      <td>216513.311809</td>\n",
       "      <td>2.756460e+05</td>\n",
       "      <td>3.064125e+07</td>\n",
       "    </tr>\n",
       "    <tr>\n",
       "      <th>4</th>\n",
       "      <th>0.7</th>\n",
       "      <th>True</th>\n",
       "      <th>10</th>\n",
       "      <td>1.748064e+05</td>\n",
       "      <td>2.351988e+05</td>\n",
       "      <td>3.186729e+05</td>\n",
       "      <td>3.888529e+05</td>\n",
       "      <td>1.755439e+05</td>\n",
       "      <td>112299.488327</td>\n",
       "      <td>9.664780e+04</td>\n",
       "      <td>59755.191991</td>\n",
       "      <td>80425.118309</td>\n",
       "      <td>7.302446e+04</td>\n",
       "      <td>1.642203e+06</td>\n",
       "    </tr>\n",
       "    <tr>\n",
       "      <th>7</th>\n",
       "      <th>0.8</th>\n",
       "      <th>False</th>\n",
       "      <th>0</th>\n",
       "      <td>2.402322e+05</td>\n",
       "      <td>9.623114e+04</td>\n",
       "      <td>1.294166e+05</td>\n",
       "      <td>1.115423e+05</td>\n",
       "      <td>4.763336e+04</td>\n",
       "      <td>53778.891116</td>\n",
       "      <td>3.019298e+04</td>\n",
       "      <td>40722.895761</td>\n",
       "      <td>62890.493607</td>\n",
       "      <td>4.528411e+04</td>\n",
       "      <td>8.126409e+05</td>\n",
       "    </tr>\n",
       "    <tr>\n",
       "      <th>9</th>\n",
       "      <th>0.8</th>\n",
       "      <th>False</th>\n",
       "      <th>5</th>\n",
       "      <td>2.344233e+05</td>\n",
       "      <td>7.166697e+04</td>\n",
       "      <td>5.780755e+04</td>\n",
       "      <td>1.005573e+05</td>\n",
       "      <td>3.505139e+04</td>\n",
       "      <td>32101.361293</td>\n",
       "      <td>4.458746e+04</td>\n",
       "      <td>18029.809588</td>\n",
       "      <td>51212.641854</td>\n",
       "      <td>3.040161e+04</td>\n",
       "      <td>6.454378e+05</td>\n",
       "    </tr>\n",
       "    <tr>\n",
       "      <th>2</th>\n",
       "      <th>0.7</th>\n",
       "      <th>True</th>\n",
       "      <th>5</th>\n",
       "      <td>3.473774e+04</td>\n",
       "      <td>6.990120e+04</td>\n",
       "      <td>3.608594e+04</td>\n",
       "      <td>4.928995e+04</td>\n",
       "      <td>8.893431e+04</td>\n",
       "      <td>60570.955471</td>\n",
       "      <td>1.188805e+05</td>\n",
       "      <td>88595.777625</td>\n",
       "      <td>81689.173352</td>\n",
       "      <td>1.209107e+05</td>\n",
       "      <td>6.286856e+05</td>\n",
       "    </tr>\n",
       "    <tr>\n",
       "      <th>11</th>\n",
       "      <th>0.8</th>\n",
       "      <th>False</th>\n",
       "      <th>10</th>\n",
       "      <td>1.174265e+05</td>\n",
       "      <td>3.082609e+04</td>\n",
       "      <td>2.502986e+04</td>\n",
       "      <td>3.422836e+04</td>\n",
       "      <td>3.272823e+04</td>\n",
       "      <td>12441.696441</td>\n",
       "      <td>8.849107e+03</td>\n",
       "      <td>11139.953928</td>\n",
       "      <td>9456.568611</td>\n",
       "      <td>7.357009e+03</td>\n",
       "      <td>2.821263e+05</td>\n",
       "    </tr>\n",
       "    <tr>\n",
       "      <th>8</th>\n",
       "      <th>0.8</th>\n",
       "      <th>True</th>\n",
       "      <th>5</th>\n",
       "      <td>2.299354e+04</td>\n",
       "      <td>1.305316e+04</td>\n",
       "      <td>2.967757e+04</td>\n",
       "      <td>5.852749e+04</td>\n",
       "      <td>1.292654e+04</td>\n",
       "      <td>63293.807325</td>\n",
       "      <td>1.421520e+04</td>\n",
       "      <td>23479.281379</td>\n",
       "      <td>20721.963494</td>\n",
       "      <td>2.447318e+04</td>\n",
       "      <td>2.588885e+05</td>\n",
       "    </tr>\n",
       "    <tr>\n",
       "      <th>10</th>\n",
       "      <th>0.8</th>\n",
       "      <th>True</th>\n",
       "      <th>10</th>\n",
       "      <td>2.564508e+04</td>\n",
       "      <td>2.772325e+04</td>\n",
       "      <td>2.646886e+04</td>\n",
       "      <td>2.235770e+04</td>\n",
       "      <td>6.303261e+03</td>\n",
       "      <td>11855.938567</td>\n",
       "      <td>1.466467e+04</td>\n",
       "      <td>5271.081896</td>\n",
       "      <td>2683.563119</td>\n",
       "      <td>3.877256e+03</td>\n",
       "      <td>1.429734e+05</td>\n",
       "    </tr>\n",
       "    <tr>\n",
       "      <th>0</th>\n",
       "      <th>0.7</th>\n",
       "      <th>True</th>\n",
       "      <th>0</th>\n",
       "      <td>6.619124e+03</td>\n",
       "      <td>7.768412e+03</td>\n",
       "      <td>1.924402e+04</td>\n",
       "      <td>4.907006e+03</td>\n",
       "      <td>8.513936e+03</td>\n",
       "      <td>5029.675797</td>\n",
       "      <td>2.493368e+04</td>\n",
       "      <td>8148.894971</td>\n",
       "      <td>12532.503934</td>\n",
       "      <td>4.095460e+04</td>\n",
       "      <td>9.769725e+04</td>\n",
       "    </tr>\n",
       "    <tr>\n",
       "      <th>6</th>\n",
       "      <th>0.8</th>\n",
       "      <th>True</th>\n",
       "      <th>0</th>\n",
       "      <td>1.009677e+04</td>\n",
       "      <td>1.268706e+04</td>\n",
       "      <td>4.380822e+03</td>\n",
       "      <td>1.206440e+04</td>\n",
       "      <td>9.540114e+03</td>\n",
       "      <td>9386.270683</td>\n",
       "      <td>7.557445e+03</td>\n",
       "      <td>12637.454654</td>\n",
       "      <td>17712.534557</td>\n",
       "      <td>1.818963e+04</td>\n",
       "      <td>9.606288e+04</td>\n",
       "    </tr>\n",
       "  </tbody>\n",
       "</table>\n",
       "</div>"
      ],
      "text/plain": [
       "seat                                  1             2             3  \\\n",
       "epoch score ascending wdr                                             \n",
       "3     0.7   False     5    1.181309e+07  6.844546e+06  1.136696e+07   \n",
       "1     0.7   False     0    1.026033e+07  6.748016e+06  6.543069e+06   \n",
       "5     0.7   False     10   1.396023e+07  6.154754e+06  3.540792e+06   \n",
       "4     0.7   True      10   1.748064e+05  2.351988e+05  3.186729e+05   \n",
       "7     0.8   False     0    2.402322e+05  9.623114e+04  1.294166e+05   \n",
       "9     0.8   False     5    2.344233e+05  7.166697e+04  5.780755e+04   \n",
       "2     0.7   True      5    3.473774e+04  6.990120e+04  3.608594e+04   \n",
       "11    0.8   False     10   1.174265e+05  3.082609e+04  2.502986e+04   \n",
       "8     0.8   True      5    2.299354e+04  1.305316e+04  2.967757e+04   \n",
       "10    0.8   True      10   2.564508e+04  2.772325e+04  2.646886e+04   \n",
       "0     0.7   True      0    6.619124e+03  7.768412e+03  1.924402e+04   \n",
       "6     0.8   True      0    1.009677e+04  1.268706e+04  4.380822e+03   \n",
       "\n",
       "seat                                  4             5              6  \\\n",
       "epoch score ascending wdr                                              \n",
       "3     0.7   False     5    2.050029e+06  2.076261e+06  552196.986734   \n",
       "1     0.7   False     0    2.476535e+06  3.436730e+06  482937.233467   \n",
       "5     0.7   False     10   4.673620e+06  4.889471e+05  808492.012701   \n",
       "4     0.7   True      10   3.888529e+05  1.755439e+05  112299.488327   \n",
       "7     0.8   False     0    1.115423e+05  4.763336e+04   53778.891116   \n",
       "9     0.8   False     5    1.005573e+05  3.505139e+04   32101.361293   \n",
       "2     0.7   True      5    4.928995e+04  8.893431e+04   60570.955471   \n",
       "11    0.8   False     10   3.422836e+04  3.272823e+04   12441.696441   \n",
       "8     0.8   True      5    5.852749e+04  1.292654e+04   63293.807325   \n",
       "10    0.8   True      10   2.235770e+04  6.303261e+03   11855.938567   \n",
       "0     0.7   True      0    4.907006e+03  8.513936e+03    5029.675797   \n",
       "6     0.8   True      0    1.206440e+04  9.540114e+03    9386.270683   \n",
       "\n",
       "seat                                  7              8              9  \\\n",
       "epoch score ascending wdr                                               \n",
       "3     0.7   False     5    2.221964e+06  665545.814143  229843.919836   \n",
       "1     0.7   False     0    3.230110e+06  670556.975625  349850.454923   \n",
       "5     0.7   False     10   3.994470e+05  398454.715080  216513.311809   \n",
       "4     0.7   True      10   9.664780e+04   59755.191991   80425.118309   \n",
       "7     0.8   False     0    3.019298e+04   40722.895761   62890.493607   \n",
       "9     0.8   False     5    4.458746e+04   18029.809588   51212.641854   \n",
       "2     0.7   True      5    1.188805e+05   88595.777625   81689.173352   \n",
       "11    0.8   False     10   8.849107e+03   11139.953928    9456.568611   \n",
       "8     0.8   True      5    1.421520e+04   23479.281379   20721.963494   \n",
       "10    0.8   True      10   1.466467e+04    5271.081896    2683.563119   \n",
       "0     0.7   True      0    2.493368e+04    8148.894971   12532.503934   \n",
       "6     0.8   True      0    7.557445e+03   12637.454654   17712.534557   \n",
       "\n",
       "seat                                 10            pv  \n",
       "epoch score ascending wdr                              \n",
       "3     0.7   False     5    4.377297e+05  3.782043e+07  \n",
       "1     0.7   False     0    1.015492e+06  3.419814e+07  \n",
       "5     0.7   False     10   2.756460e+05  3.064125e+07  \n",
       "4     0.7   True      10   7.302446e+04  1.642203e+06  \n",
       "7     0.8   False     0    4.528411e+04  8.126409e+05  \n",
       "9     0.8   False     5    3.040161e+04  6.454378e+05  \n",
       "2     0.7   True      5    1.209107e+05  6.286856e+05  \n",
       "11    0.8   False     10   7.357009e+03  2.821263e+05  \n",
       "8     0.8   True      5    2.447318e+04  2.588885e+05  \n",
       "10    0.8   True      10   3.877256e+03  1.429734e+05  \n",
       "0     0.7   True      0    4.095460e+04  9.769725e+04  \n",
       "6     0.8   True      0    1.818963e+04  9.606288e+04  "
      ]
     },
     "execution_count": 12,
     "metadata": {},
     "output_type": "execute_result"
    }
   ],
   "source": [
    "apt.sort_values(metric,ascending=False)"
   ]
  },
  {
   "cell_type": "code",
   "execution_count": 13,
   "metadata": {},
   "outputs": [],
   "source": [
    "strat_db.connect()\n",
    "epoch = apt.sort_values(metric,ascending=False).reset_index().iloc[0][\"epoch\"]\n",
    "analysis = []\n",
    "trades = strat_db.retrieve_data(\"tsmc_{}\".format(epoch))\n",
    "strat_db.close()"
   ]
  },
  {
   "cell_type": "code",
   "execution_count": 14,
   "metadata": {},
   "outputs": [
    {
     "data": {
      "text/plain": [
       "Index(['_id', 'date', 'ticker', 'adjclose',\n",
       "       'weekly_price_regression_prediction',\n",
       "       'weekly_price_regression_prediction_delta',\n",
       "       'weekly_price_regression_score',\n",
       "       'trade_signal_classification_prediction',\n",
       "       'trade_signal_classification_score', 'week', 'year', 'category',\n",
       "       'predicted_delta', 'sell_price', 'sell_date', 'sell_delta', 'seat'],\n",
       "      dtype='object')"
      ]
     },
     "execution_count": 14,
     "metadata": {},
     "output_type": "execute_result"
    }
   ],
   "source": [
    "trades.columns"
   ]
  },
  {
   "cell_type": "code",
   "execution_count": 15,
   "metadata": {},
   "outputs": [],
   "source": [
    "trades.sort_values(\"date\")\n",
    "trades[\"date\"] = pd.to_datetime(trades[\"date\"])\n",
    "trades[\"sell_date\"] = pd.to_datetime(trades[\"sell_date\"])\n",
    "dta = \"date\"\n",
    "trades[\"week\"] = [x.week for x in trades[dta]]\n",
    "trades[\"quarter\"] = [x.quarter for x in trades[dta]]\n",
    "trades[\"dayofWeek\"] = [x.weekday() for x in trades[dta]]\n",
    "trades[\"month\"] = [x.month for x in trades[dta]]\n",
    "trades[\"year\"] = [x.year for x in trades[dta]]"
   ]
  },
  {
   "cell_type": "code",
   "execution_count": 16,
   "metadata": {},
   "outputs": [],
   "source": [
    "prices = trades\n",
    "daily = prices.groupby([\"year\",\"dayofWeek\"]).mean().reset_index()\n",
    "quarterly = prices.groupby([\"year\",\"quarter\"]).mean().reset_index()\n",
    "monthly = prices.groupby([\"year\",\"month\"]).mean().reset_index()\n",
    "weekly = prices.groupby([\"year\",\"week\"]).mean().reset_index()"
   ]
  },
  {
   "cell_type": "code",
   "execution_count": 17,
   "metadata": {},
   "outputs": [
    {
     "data": {
      "text/plain": [
       "[<matplotlib.lines.Line2D at 0x24942838880>]"
      ]
     },
     "execution_count": 17,
     "metadata": {},
     "output_type": "execute_result"
    },
    {
     "data": {
      "image/png": "[encoded data removed]",
      "text/plain": [
       "<Figure size 432x288 with 1 Axes>"
      ]
     },
     "metadata": {
      "needs_background": "light"
     },
     "output_type": "display_data"
    }
   ],
   "source": [
    "normalized = []\n",
    "for year in daily[\"year\"].unique():\n",
    "    subset = daily[daily[\"year\"] == year]\n",
    "    subset[\"sell_delta\"] = normalize([subset[\"sell_delta\"]])[0]\n",
    "    normalized.append(subset)\n",
    "grouped = pd.concat(normalized).groupby(\"dayofWeek\").mean().reset_index()\n",
    "plt.plot(grouped[\"sell_delta\"])"
   ]
  },
  {
   "cell_type": "code",
   "execution_count": 18,
   "metadata": {},
   "outputs": [
    {
     "data": {
      "text/plain": [
       "[<matplotlib.lines.Line2D at 0x2494290e550>]"
      ]
     },
     "execution_count": 18,
     "metadata": {},
     "output_type": "execute_result"
    },
    {
     "data": {
      "image/png": "[encoded data removed]",
      "text/plain": [
       "<Figure size 432x288 with 1 Axes>"
      ]
     },
     "metadata": {
      "needs_background": "light"
     },
     "output_type": "display_data"
    }
   ],
   "source": [
    "normalized = []\n",
    "for year in quarterly[\"year\"].unique():\n",
    "    try:\n",
    "        subset = quarterly[quarterly[\"year\"] == year]\n",
    "        subset[\"sell_delta\"] = normalize([subset[\"sell_delta\"]])[0]\n",
    "        normalized.append(subset)\n",
    "    except:\n",
    "        continue\n",
    "grouped = pd.concat(normalized).groupby(\"quarter\").mean().reset_index()\n",
    "plt.plot(grouped[\"sell_delta\"])"
   ]
  },
  {
   "cell_type": "code",
   "execution_count": 19,
   "metadata": {},
   "outputs": [
    {
     "data": {
      "text/plain": [
       "[<matplotlib.lines.Line2D at 0x249429bd100>]"
      ]
     },
     "execution_count": 19,
     "metadata": {},
     "output_type": "execute_result"
    },
    {
     "data": {
      "image/png": "[encoded data removed]",
      "text/plain": [
       "<Figure size 432x288 with 1 Axes>"
      ]
     },
     "metadata": {
      "needs_background": "light"
     },
     "output_type": "display_data"
    }
   ],
   "source": [
    "normalized = []\n",
    "for year in monthly[\"year\"].unique():\n",
    "    try:\n",
    "        subset = monthly[monthly[\"year\"] == year]\n",
    "        subset[\"sell_delta\"] = normalize([subset[\"sell_delta\"]])[0]\n",
    "        normalized.append(subset)\n",
    "    except:\n",
    "        continue\n",
    "grouped = pd.concat(normalized).groupby(\"month\").mean().reset_index()\n",
    "plt.plot(grouped[\"sell_delta\"])"
   ]
  },
  {
   "cell_type": "code",
   "execution_count": 20,
   "metadata": {},
   "outputs": [
    {
     "data": {
      "text/plain": [
       "[<matplotlib.lines.Line2D at 0x24942763a90>]"
      ]
     },
     "execution_count": 20,
     "metadata": {},
     "output_type": "execute_result"
    },
    {
     "data": {
      "image/png": "[encoded data removed]",
      "text/plain": [
       "<Figure size 432x288 with 1 Axes>"
      ]
     },
     "metadata": {
      "needs_background": "light"
     },
     "output_type": "display_data"
    }
   ],
   "source": [
    "normalized = []\n",
    "for year in weekly[\"year\"].unique():\n",
    "    try:\n",
    "        subset = weekly[weekly[\"year\"] == year]\n",
    "        subset[\"sell_delta\"] = normalize([subset[\"sell_delta\"]])[0]\n",
    "        normalized.append(subset)\n",
    "    except:\n",
    "        continue\n",
    "grouped = pd.concat(normalized).groupby(\"week\").mean().reset_index()\n",
    "plt.plot(grouped[\"sell_delta\"])"
   ]
  },
  {
   "cell_type": "code",
   "execution_count": 21,
   "metadata": {},
   "outputs": [],
   "source": [
    "ntrades = []\n",
    "trades.sort_values(\"date\",inplace=True)\n",
    "for year in trades[\"year\"].unique():\n",
    "    subset = trades[(trades[\"year\"] == year)]\n",
    "    for week in subset[\"week\"].unique():\n",
    "        ntrades.append(len(subset[(subset[\"week\"] == week)]))\n",
    "weekly[\"ntrades\"]= ntrades"
   ]
  },
  {
   "cell_type": "code",
   "execution_count": 22,
   "metadata": {},
   "outputs": [
    {
     "data": {
      "text/plain": [
       "22.01736111111111"
      ]
     },
     "execution_count": 22,
     "metadata": {},
     "output_type": "execute_result"
    }
   ],
   "source": [
    "weekly[\"ntrades\"].mean()"
   ]
  },
  {
   "cell_type": "code",
   "execution_count": null,
   "metadata": {},
   "outputs": [],
   "source": []
  }
 ],
 "metadata": {
  "kernelspec": {
   "display_name": "Python 3",
   "language": "python",
   "name": "python3"
  },
  "language_info": {
   "codemirror_mode": {
    "name": "ipython",
    "version": 3
   },
   "file_extension": ".py",
   "mimetype": "text/x-python",
   "name": "python",
   "nbconvert_exporter": "python",
   "pygments_lexer": "ipython3",
   "version": "3.8.5"
  }
 },
 "nbformat": 4,
 "nbformat_minor": 4
}
