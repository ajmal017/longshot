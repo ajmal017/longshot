{
 "cells": [
  {
   "cell_type": "markdown",
   "metadata": {},
   "source": [
    "# Quarterly\n",
    "## make sure you're only running the quarterly prediction component and pulling the existing model from the db"
   ]
  },
  {
   "cell_type": "code",
   "execution_count": 1,
   "metadata": {},
   "outputs": [],
   "source": [
    "import pandas as pd\n",
    "from database.market import Market\n",
    "from database.sec import SEC\n",
    "from modeler.modeler import Modeler as m\n",
    "from preprocessor.model_preprocessor import ModelPreprocessor as mp\n",
    "from strategy.quarterly_financial_categorical import QuarterlyFinancialCategorical\n",
    "from datetime import datetime, timedelta\n",
    "import numpy as np\n",
    "import math\n",
    "from tqdm import tqdm\n",
    "import matplotlib.pyplot as plt\n",
    "from sklearn.preprocessing import OneHotEncoder\n",
    "from datetime import datetime, timezone\n",
    "import pickle"
   ]
  },
  {
   "cell_type": "code",
   "execution_count": 2,
   "metadata": {},
   "outputs": [],
   "source": [
    "market = Market()\n",
    "sec = SEC(\"sec\")\n",
    "qfc = QuarterlyFinancialCategorical()"
   ]
  },
  {
   "cell_type": "code",
   "execution_count": 3,
   "metadata": {},
   "outputs": [],
   "source": [
    "market.connect()\n",
    "sp5 = market.retrieve_data(\"sp500\")\n",
    "prices = market.retrieve_data(\"portfolio_prices\")\n",
    "market.close()"
   ]
  },
  {
   "cell_type": "code",
   "execution_count": 4,
   "metadata": {},
   "outputs": [],
   "source": [
    "prices[\"year\"]  = [x.year for x in prices[\"date\"]]\n",
    "prices[\"quarter\"]  = [x.quarter for x in prices[\"date\"]]"
   ]
  },
  {
   "cell_type": "code",
   "execution_count": 5,
   "metadata": {},
   "outputs": [],
   "source": [
    "quarterly_grouped = prices.groupby([\"year\",\"quarter\",\"ticker\"]).max()\n",
    "quarterly_grouped[\"category\"] = [math.ceil(x / 100 ) * 100 for x in quarterly_grouped[\"adjclose\"]]\n",
    "quarterly_grouped[\"category\"] = [250 if x > 100 else x for x in quarterly_grouped[\"category\"]]\n",
    "quarterly_grouped[\"category\"] = [500 if x > 250 else x for x in quarterly_grouped[\"category\"]]\n",
    "quarterly_grouped[\"category\"] = [1000 if x > 500 else x for x in quarterly_grouped[\"category\"]]\n",
    "quarterly_grouped[\"category\"] = [2000 if x > 1000 else x for x in quarterly_grouped[\"category\"]]\n",
    "quarterly_grouped[\"category\"] = [3000 if x > 2000 else x for x in quarterly_grouped[\"category\"]]"
   ]
  },
  {
   "cell_type": "code",
   "execution_count": 6,
   "metadata": {},
   "outputs": [],
   "source": [
    "quarterly_grouped.reset_index(inplace=True)\n",
    "groups = quarterly_grouped.merge(sp5.rename(columns={\"Symbol\":\"ticker\"}), on = \"ticker\",how=\"left\")"
   ]
  },
  {
   "cell_type": "code",
   "execution_count": 7,
   "metadata": {},
   "outputs": [],
   "source": [
    "g = groups[[\"year\",\"quarter\",\"ticker\",\"adjclose\",\"category\",\"GICS Sector\",\"CIK\"]]\n",
    "g[\"string_category\"] = [str(x) for x in g[\"category\"]] \n",
    "g[\"classification\"] = g[\"string_category\"] + g[\"GICS Sector\"]"
   ]
  },
  {
   "cell_type": "code",
   "execution_count": 8,
   "metadata": {},
   "outputs": [],
   "source": [
    "enc = OneHotEncoder(handle_unknown='ignore')\n",
    "transformed = [[x] for x in g[\"classification\"]]\n",
    "encoding = enc.fit_transform(transformed)"
   ]
  },
  {
   "cell_type": "code",
   "execution_count": 9,
   "metadata": {},
   "outputs": [],
   "source": [
    "df_encoding = pd.DataFrame(encoding.toarray())"
   ]
  },
  {
   "cell_type": "code",
   "execution_count": 10,
   "metadata": {},
   "outputs": [],
   "source": [
    "for col in df_encoding.columns:\n",
    "    g[col] = df_encoding[col]"
   ]
  },
  {
   "cell_type": "code",
   "execution_count": 11,
   "metadata": {
    "scrolled": true
   },
   "outputs": [
    {
     "name": "stderr",
     "output_type": "stream",
     "text": [
      " 12%|████████████████▌                                                                                                                       | 60/494 [00:25<03:57,  1.83it/s]"
     ]
    },
    {
     "name": "stdout",
     "output_type": "stream",
     "text": [
      "prep BEN cannot convert float NaN to integer\n"
     ]
    },
    {
     "name": "stderr",
     "output_type": "stream",
     "text": [
      " 37%|██████████████████████████████████████████████████▌                                                                                    | 185/494 [01:19<01:46,  2.90it/s]"
     ]
    },
    {
     "name": "stdout",
     "output_type": "stream",
     "text": [
      "prep FRC 'filed'\n"
     ]
    },
    {
     "name": "stderr",
     "output_type": "stream",
     "text": [
      "100%|███████████████████████████████████████████████████████████████████████████████████████████████████████████████████████████████████████| 494/494 [03:29<00:00,  2.36it/s]\n",
      "100%|█████████████████████████████████████████████████████████████████████████████████████████████████████████████████████████████████████| 2406/2406 [03:40<00:00, 10.92it/s]"
     ]
    },
    {
     "name": "stdout",
     "output_type": "stream",
     "text": [
      "22\n"
     ]
    },
    {
     "name": "stderr",
     "output_type": "stream",
     "text": [
      "\n"
     ]
    }
   ],
   "source": [
    "yearly_gap = 1\n",
    "training_years = 1\n",
    "fails = []\n",
    "filings = []\n",
    "columns = []\n",
    "sec.connect()\n",
    "for cik in tqdm(list(g[\"CIK\"].unique())):\n",
    "    try:\n",
    "        filing = sec.retrieve_filing_data(int(cik))\n",
    "        symbols = sp5[sp5[\"CIK\"]==cik][\"Symbol\"]\n",
    "        if symbols.index.size > 1:\n",
    "            ticker = str(list(symbols)[0])\n",
    "        else:\n",
    "            ticker = symbols.item()\n",
    "        drop_columns = [\"cik\",\"filed\",\"_id\",\"adsh\"]\n",
    "        funds = filing.copy()\n",
    "        for column in funds.columns:\n",
    "            if str(column).islower() and str(column) != \"filed\":\n",
    "                drop_columns.append(column)\n",
    "        funds[\"filed\"] = [datetime.strptime(str(x),\"%Y%m%d\").replace(tzinfo=timezone.utc) if \"-\" not in str(x) else \\\n",
    "                            datetime.strptime(str(x).split(\" \")[0],\"%Y-%m-%d\").replace(tzinfo=timezone.utc) for x in funds[\"filed\"]]\n",
    "        funds[\"quarter\"] = [x.quarter for x in funds[\"filed\"]]\n",
    "        funds[\"year\"] = [x.year + yearly_gap for x in funds[\"filed\"]]\n",
    "        funds[\"ticker\"] = ticker\n",
    "        funds.drop(drop_columns,axis=1,inplace=True)\n",
    "        qa = funds.copy()\n",
    "        for col in qa.columns:\n",
    "            test = qa[col].fillna(-99999)\n",
    "            availability = 1 - (len([x for x in test if x == -99999]) / qa.index.size)\n",
    "            if availability < 0.95:\n",
    "                funds.drop(col,inplace=True,axis=1)\n",
    "        filings.append(funds)\n",
    "        columns.append(list(funds.columns))\n",
    "    except Exception as e:\n",
    "        print(\"prep\",ticker,str(e))\n",
    "        fails.append([ticker,str(e)])\n",
    "sec.close()\n",
    "try:\n",
    "    f = pd.concat(filings)\n",
    "    for col in tqdm(f.columns):\n",
    "        test = f[col].fillna(-99999)\n",
    "        availability = len([x for x in test != -99999 if x == True]) / test.index.size\n",
    "        if availability < 0.7:\n",
    "            f.drop(col,axis=1,inplace=True)\n",
    "except Exception as e:\n",
    "    print(\"mid\",str(e))\n",
    "try:\n",
    "    data = f.merge(g.drop([\"string_category\",\"classification\",\"adjclose\",\"category\",\"GICS Sector\",\"CIK\"],axis=1),on=[\"year\",\"quarter\",\"ticker\"],how=\"left\")\n",
    "    factors = list(data.columns)\n",
    "    factors = [x for x in factors if x not in [\"quarter\",\"year\",\"ticker\"]]\n",
    "    for i in range(22):\n",
    "        factors.remove(i)\n",
    "    for col in factors:\n",
    "        data[col].replace([np.inf, -np.inf,np.nan,np.NaN],f[col].mean(),inplace=True)\n",
    "except Exception as e:\n",
    "    print(str(e))\n"
   ]
  },
  {
   "cell_type": "code",
   "execution_count": 14,
   "metadata": {},
   "outputs": [
    {
     "data": {
      "text/plain": [
       "4"
      ]
     },
     "execution_count": 14,
     "metadata": {},
     "output_type": "execute_result"
    }
   ],
   "source": [
    "data[data[\"year\"]==2020][\"quarter\"].max()"
   ]
  },
  {
   "cell_type": "code",
   "execution_count": 15,
   "metadata": {},
   "outputs": [
    {
     "name": "stderr",
     "output_type": "stream",
     "text": [
      "100%|███████████████████████████████████████████████████████████████████████████████████████████████████████████████████████████████████████████| 1/1 [00:02<00:00,  2.21s/it]\n"
     ]
    }
   ],
   "source": [
    "year_range = range(2021,2022)\n",
    "year_gap = 1\n",
    "for year in tqdm(year_range):\n",
    "    try:\n",
    "        training_data = data[(data[\"year\"] < year) & (data[\"year\"] >= year - year_gap)]\n",
    "        factors = list(data.columns)\n",
    "        factors = [x for x in factors if x not in [\"quarter\",\"year\",\"ticker\"]]\n",
    "        for i in range(23):\n",
    "            factors.remove(i)\n",
    "        for col in factors:\n",
    "            training_data[col].replace([np.inf, -np.inf,np.nan,np.NaN],training_data[col].mean(),inplace=True)\n",
    "        training_data.dropna(inplace=True)\n",
    "        x = training_data[factors]\n",
    "        y = training_data[[x for x in range(23)]]\n",
    "        prediction_data = data[(data[\"year\"]==year)]\n",
    "        refined_data = {\"X\":x.reset_index(drop=True),\"y\":y.reset_index(drop=True)}\n",
    "        classification_models = m.classification(refined_data.copy(),deep=False,tf=False,sk=False,xgb=True,multioutput=True)\n",
    "        models = pd.DataFrame([classification_models])\n",
    "        model = models[\"model\"].item()\n",
    "        for col in factors:\n",
    "            prediction_data[col].replace([np.inf, -np.inf,np.nan,np.NaN],prediction_data[col].mean(),inplace=True)\n",
    "        prediction_data.dropna(inplace=True)\n",
    "        predictions = enc.inverse_transform(model.predict(prediction_data[factors]))\n",
    "        prediction_data[\"prediction\"] = [x[0] for x in predictions]\n",
    "        sim = prediction_data[[\"year\",\"quarter\",\"ticker\",\"prediction\"]]\n",
    "    except Exception as e:\n",
    "        print(str(e))"
   ]
  },
  {
   "cell_type": "code",
   "execution_count": 22,
   "metadata": {},
   "outputs": [],
   "source": [
    "qfc.db.connect()\n",
    "qfc.db.store_data(\"portfolio_stock_category_sim\",sim[sim[\"quarter\"]==3])\n",
    "qfc.db.close()"
   ]
  },
  {
   "cell_type": "code",
   "execution_count": 24,
   "metadata": {},
   "outputs": [],
   "source": [
    "models[\"model\"] = [pickle.dumps(x) for x in models[\"model\"]]"
   ]
  },
  {
   "cell_type": "code",
   "execution_count": 26,
   "metadata": {},
   "outputs": [],
   "source": [
    "qfc.db.connect()\n",
    "qfc.db.store_data(\"portfolio_stock_category_model\",models)\n",
    "qfc.db.close()"
   ]
  }
 ],
 "metadata": {
  "kernelspec": {
   "display_name": "Python 3",
   "language": "python",
   "name": "python3"
  },
  "language_info": {
   "codemirror_mode": {
    "name": "ipython",
    "version": 3
   },
   "file_extension": ".py",
   "mimetype": "text/x-python",
   "name": "python",
   "nbconvert_exporter": "python",
   "pygments_lexer": "ipython3",
   "version": "3.8.0"
  }
 },
 "nbformat": 4,
 "nbformat_minor": 4
}
