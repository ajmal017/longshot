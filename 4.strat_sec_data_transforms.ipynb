{
 "cells": [
  {
   "cell_type": "code",
   "execution_count": 4,
   "metadata": {},
   "outputs": [],
   "source": [
    "from database.sec import SEC\n",
    "from database.market import Market\n",
    "from transformer.fundamental_transformer import FundamentalTransformer\n",
    "from tqdm import tqdm\n",
    "import pandas as pd\n",
    "from datetime import datetime"
   ]
  },
  {
   "cell_type": "code",
   "execution_count": 5,
   "metadata": {},
   "outputs": [],
   "source": [
    "sec = SEC(\"sec\")\n",
    "market = Market()\n",
    "#date of sec financial statement update\n",
    "# cut_off =  datetime(2020,12,23)"
   ]
  },
  {
   "cell_type": "code",
   "execution_count": 6,
   "metadata": {},
   "outputs": [],
   "source": [
    "market.connect()\n",
    "ciks = market.retrieve_data(\"sp500\")[\"CIK\"]\n",
    "market.close()"
   ]
  },
  {
   "cell_type": "code",
   "execution_count": 9,
   "metadata": {},
   "outputs": [],
   "source": [
    "sec.connect()\n",
    "subs = sec.retrieve_data(\"subs\")\n",
    "sec.close()"
   ]
  },
  {
   "cell_type": "code",
   "execution_count": 13,
   "metadata": {},
   "outputs": [],
   "source": [
    "subs[\"cik\"] = [int(x) for x in subs[\"cik\"]]"
   ]
  },
  {
   "cell_type": "code",
   "execution_count": 14,
   "metadata": {},
   "outputs": [
    {
     "name": "stdout",
     "output_type": "stream",
     "text": [
      "76\n",
      "62\n",
      "69\n",
      "49\n",
      "54\n",
      "56\n",
      "56\n",
      "58\n",
      "61\n",
      "69\n",
      "69\n",
      "61\n",
      "56\n",
      "56\n",
      "84\n",
      "61\n",
      "69\n",
      "64\n",
      "56\n",
      "41\n",
      "58\n",
      "84\n",
      "39\n",
      "39\n",
      "68\n",
      "57\n",
      "11\n",
      "65\n",
      "102\n",
      "63\n",
      "76\n",
      "66\n",
      "88\n",
      "57\n",
      "53\n",
      "58\n",
      "56\n",
      "67\n",
      "62\n",
      "67\n",
      "60\n",
      "58\n",
      "65\n",
      "53\n",
      "61\n",
      "60\n",
      "61\n",
      "51\n",
      "60\n",
      "35\n",
      "59\n",
      "67\n",
      "96\n",
      "59\n",
      "60\n",
      "57\n",
      "60\n",
      "54\n",
      "54\n",
      "34\n",
      "59\n",
      "62\n",
      "73\n",
      "68\n",
      "65\n",
      "55\n",
      "62\n",
      "56\n",
      "58\n",
      "61\n",
      "70\n",
      "66\n",
      "78\n",
      "57\n",
      "81\n",
      "79\n",
      "37\n",
      "67\n",
      "57\n",
      "57\n",
      "55\n",
      "52\n",
      "68\n",
      "62\n",
      "97\n",
      "55\n",
      "59\n",
      "80\n",
      "19\n",
      "44\n",
      "80\n",
      "60\n",
      "58\n",
      "61\n",
      "63\n",
      "80\n",
      "82\n",
      "66\n",
      "62\n",
      "69\n",
      "66\n",
      "66\n",
      "52\n",
      "59\n",
      "58\n",
      "41\n",
      "74\n",
      "49\n",
      "64\n",
      "87\n",
      "58\n",
      "58\n",
      "63\n",
      "59\n",
      "60\n",
      "66\n",
      "57\n",
      "55\n",
      "66\n",
      "58\n",
      "61\n",
      "60\n",
      "64\n",
      "79\n",
      "54\n",
      "56\n",
      "55\n",
      "19\n",
      "64\n",
      "74\n",
      "67\n",
      "61\n",
      "78\n",
      "61\n",
      "75\n",
      "57\n",
      "72\n",
      "68\n",
      "79\n",
      "60\n",
      "57\n",
      "57\n",
      "54\n",
      "90\n",
      "70\n",
      "69\n",
      "69\n",
      "62\n",
      "50\n",
      "80\n",
      "85\n",
      "61\n",
      "65\n",
      "21\n",
      "86\n",
      "74\n",
      "69\n",
      "30\n",
      "38\n",
      "61\n",
      "48\n",
      "68\n",
      "69\n",
      "69\n",
      "50\n",
      "58\n",
      "70\n",
      "47\n",
      "56\n",
      "62\n",
      "54\n",
      "74\n",
      "59\n",
      "65\n",
      "55\n",
      "36\n",
      "28\n",
      "57\n",
      "58\n",
      "68\n",
      "75\n",
      "60\n",
      "57\n",
      "67\n",
      "58\n",
      "45\n",
      "59\n",
      "57\n",
      "62\n",
      "68\n",
      "91\n",
      "61\n",
      "0\n",
      "63\n",
      "52\n",
      "61\n",
      "59\n",
      "77\n",
      "55\n",
      "38\n",
      "53\n",
      "21\n",
      "21\n",
      "58\n",
      "69\n",
      "67\n",
      "54\n",
      "57\n",
      "50\n",
      "55\n",
      "82\n",
      "56\n",
      "55\n",
      "64\n",
      "61\n",
      "60\n",
      "61\n",
      "72\n",
      "58\n",
      "56\n",
      "60\n",
      "61\n",
      "61\n",
      "53\n",
      "74\n",
      "57\n",
      "64\n",
      "56\n",
      "44\n",
      "48\n",
      "77\n",
      "71\n",
      "59\n",
      "68\n",
      "55\n",
      "72\n",
      "85\n",
      "65\n",
      "74\n",
      "72\n",
      "53\n",
      "51\n",
      "54\n",
      "45\n",
      "52\n",
      "60\n",
      "50\n",
      "36\n",
      "70\n",
      "51\n",
      "74\n",
      "61\n",
      "60\n",
      "64\n",
      "56\n",
      "55\n",
      "79\n",
      "54\n",
      "50\n",
      "60\n",
      "53\n",
      "57\n",
      "60\n",
      "63\n",
      "62\n",
      "62\n",
      "90\n",
      "59\n",
      "70\n",
      "59\n",
      "60\n",
      "37\n",
      "61\n",
      "75\n",
      "65\n",
      "52\n",
      "53\n",
      "61\n",
      "72\n",
      "72\n",
      "79\n",
      "60\n",
      "28\n",
      "70\n",
      "61\n",
      "65\n",
      "55\n",
      "57\n",
      "61\n",
      "24\n",
      "54\n",
      "62\n",
      "60\n",
      "52\n",
      "65\n",
      "82\n",
      "59\n",
      "57\n",
      "60\n",
      "59\n",
      "58\n",
      "69\n",
      "56\n",
      "55\n",
      "58\n",
      "65\n",
      "55\n",
      "55\n",
      "67\n",
      "66\n",
      "43\n",
      "52\n",
      "78\n",
      "56\n",
      "79\n",
      "66\n",
      "59\n",
      "64\n",
      "70\n",
      "60\n",
      "67\n",
      "72\n",
      "50\n",
      "51\n",
      "63\n",
      "60\n",
      "57\n",
      "67\n",
      "66\n",
      "57\n",
      "57\n",
      "62\n",
      "70\n",
      "64\n",
      "45\n",
      "45\n",
      "68\n",
      "67\n",
      "60\n",
      "72\n",
      "72\n",
      "58\n",
      "64\n",
      "69\n",
      "73\n",
      "60\n",
      "62\n",
      "64\n",
      "59\n",
      "52\n",
      "32\n",
      "66\n",
      "81\n",
      "62\n",
      "56\n",
      "97\n",
      "55\n",
      "11\n",
      "53\n",
      "57\n",
      "49\n",
      "54\n",
      "39\n",
      "40\n",
      "68\n",
      "61\n",
      "58\n",
      "70\n",
      "57\n",
      "48\n",
      "71\n",
      "72\n",
      "57\n",
      "77\n",
      "70\n",
      "68\n",
      "59\n",
      "66\n",
      "71\n",
      "64\n",
      "76\n",
      "66\n",
      "71\n",
      "71\n",
      "66\n",
      "57\n",
      "64\n",
      "55\n",
      "68\n",
      "53\n",
      "59\n",
      "59\n",
      "65\n",
      "58\n",
      "74\n",
      "66\n",
      "72\n",
      "57\n",
      "55\n",
      "70\n",
      "68\n",
      "50\n",
      "52\n",
      "60\n",
      "79\n",
      "62\n",
      "64\n",
      "99\n",
      "69\n",
      "65\n",
      "57\n",
      "67\n",
      "59\n",
      "60\n",
      "67\n",
      "48\n",
      "59\n",
      "65\n",
      "56\n",
      "51\n",
      "62\n",
      "75\n",
      "67\n",
      "64\n",
      "68\n",
      "14\n",
      "66\n",
      "62\n",
      "54\n",
      "59\n",
      "65\n",
      "88\n",
      "50\n",
      "55\n",
      "69\n",
      "62\n",
      "58\n",
      "58\n",
      "54\n",
      "52\n",
      "65\n",
      "61\n",
      "58\n",
      "78\n",
      "62\n",
      "71\n",
      "66\n",
      "69\n",
      "57\n",
      "54\n",
      "73\n",
      "43\n",
      "47\n",
      "58\n",
      "70\n",
      "57\n",
      "66\n",
      "65\n",
      "65\n",
      "77\n",
      "99\n",
      "65\n",
      "61\n",
      "55\n",
      "59\n",
      "64\n",
      "62\n",
      "66\n",
      "54\n",
      "54\n",
      "73\n",
      "56\n",
      "63\n",
      "80\n",
      "13\n",
      "65\n",
      "64\n",
      "62\n",
      "58\n",
      "62\n",
      "65\n",
      "37\n",
      "34\n",
      "63\n",
      "61\n",
      "80\n",
      "213\n",
      "69\n",
      "59\n",
      "57\n",
      "61\n",
      "28\n",
      "73\n",
      "62\n",
      "65\n",
      "67\n",
      "77\n",
      "85\n",
      "57\n",
      "53\n",
      "66\n",
      "57\n",
      "60\n",
      "59\n",
      "51\n"
     ]
    }
   ],
   "source": [
    "for cik in ciks:\n",
    "    cik = int(cik)\n",
    "    print(len(subs[subs[\"cik\"]==cik]))"
   ]
  },
  {
   "cell_type": "code",
   "execution_count": 15,
   "metadata": {
    "scrolled": true
   },
   "outputs": [
    {
     "name": "stderr",
     "output_type": "stream",
     "text": [
      "\r",
      "  0%|          | 0/505 [00:00<?, ?it/s]"
     ]
    },
    {
     "name": "stdout",
     "output_type": "stream",
     "text": [
      "'value'\n",
      "'value'\n",
      "'value'\n",
      "'value'\n",
      "'value'\n",
      "'value'\n",
      "'value'\n",
      "'value'\n",
      "'value'\n",
      "'value'\n",
      "'value'\n",
      "'value'\n",
      "'value'\n",
      "'value'\n",
      "'value'\n",
      "'value'\n",
      "'value'\n",
      "'value'\n",
      "'value'\n",
      "'value'\n",
      "'value'\n",
      "'value'\n",
      "'value'\n"
     ]
    },
    {
     "name": "stderr",
     "output_type": "stream",
     "text": [
      "\r",
      "  0%|          | 1/505 [00:05<48:56,  5.83s/it]"
     ]
    },
    {
     "name": "stdout",
     "output_type": "stream",
     "text": [
      "'value'\n",
      "'value'\n",
      "'value'\n",
      "'value'\n",
      "'value'\n",
      "'value'\n",
      "'value'\n",
      "'value'\n",
      "'value'\n",
      "'value'\n",
      "'value'\n",
      "'value'\n",
      "'value'\n",
      "'value'\n",
      "'value'\n",
      "'value'\n",
      "'value'\n",
      "'value'\n",
      "'value'\n",
      "'value'\n"
     ]
    },
    {
     "name": "stderr",
     "output_type": "stream",
     "text": [
      "\r",
      "  0%|          | 2/505 [00:10<45:37,  5.44s/it]"
     ]
    },
    {
     "name": "stdout",
     "output_type": "stream",
     "text": [
      "'value'\n",
      "'value'\n",
      "'value'\n",
      "'value'\n",
      "'value'\n",
      "'value'\n",
      "'value'\n",
      "'value'\n",
      "'value'\n",
      "'value'\n",
      "'value'\n",
      "'value'\n",
      "'value'\n",
      "'value'\n",
      "'value'\n",
      "'value'\n",
      "'value'\n",
      "'value'\n",
      "'value'\n",
      "'value'\n",
      "'value'\n",
      "'value'\n",
      "'value'\n",
      "'value'\n",
      "'value'\n",
      "'value'\n",
      "'value'\n",
      "'value'\n",
      "'value'\n",
      "'value'\n",
      "'value'\n",
      "'value'\n",
      "'value'\n",
      "'value'\n",
      "'value'\n",
      "'value'\n",
      "'value'\n",
      "'value'\n"
     ]
    },
    {
     "name": "stderr",
     "output_type": "stream",
     "text": [
      "\r",
      "  1%|          | 3/505 [00:15<45:27,  5.43s/it]"
     ]
    },
    {
     "name": "stdout",
     "output_type": "stream",
     "text": [
      "'value'\n",
      "'value'\n",
      "'value'\n",
      "'value'\n",
      "'value'\n",
      "'value'\n",
      "'value'\n",
      "'value'\n",
      "'value'\n",
      "'value'\n",
      "'value'\n"
     ]
    },
    {
     "name": "stderr",
     "output_type": "stream",
     "text": [
      "\r",
      "  1%|          | 4/505 [00:23<51:14,  6.14s/it]"
     ]
    },
    {
     "name": "stdout",
     "output_type": "stream",
     "text": [
      "'value'\n",
      "'value'\n",
      "'value'\n",
      "'value'\n",
      "'value'\n",
      "'value'\n",
      "'value'\n",
      "'value'\n",
      "'value'\n",
      "'value'\n"
     ]
    },
    {
     "name": "stderr",
     "output_type": "stream",
     "text": [
      "\r",
      "  1%|          | 5/505 [00:29<50:58,  6.12s/it]"
     ]
    },
    {
     "name": "stdout",
     "output_type": "stream",
     "text": [
      "'value'\n",
      "'value'\n",
      "'value'\n",
      "'value'\n",
      "'value'\n",
      "'value'\n",
      "'value'\n",
      "'value'\n",
      "'value'\n",
      "'value'\n",
      "'value'\n",
      "'value'\n"
     ]
    },
    {
     "name": "stderr",
     "output_type": "stream",
     "text": [
      "\r",
      "  1%|          | 6/505 [00:35<50:26,  6.07s/it]"
     ]
    },
    {
     "name": "stdout",
     "output_type": "stream",
     "text": [
      "'value'\n",
      "'value'\n",
      "'value'\n",
      "'value'\n",
      "'value'\n",
      "'value'\n",
      "'value'\n",
      "'value'\n",
      "'value'\n"
     ]
    },
    {
     "name": "stderr",
     "output_type": "stream",
     "text": [
      "\r",
      "  1%|▏         | 7/505 [00:41<50:10,  6.05s/it]"
     ]
    },
    {
     "name": "stdout",
     "output_type": "stream",
     "text": [
      "'value'\n",
      "'value'\n",
      "'value'\n",
      "'value'\n",
      "'value'\n",
      "'value'\n",
      "'value'\n",
      "'value'\n",
      "'value'\n",
      "'value'\n",
      "'value'\n",
      "'value'\n",
      "'value'\n",
      "'value'\n",
      "'value'\n",
      "'value'\n",
      "'value'\n",
      "'value'\n"
     ]
    },
    {
     "name": "stderr",
     "output_type": "stream",
     "text": [
      "\r",
      "  2%|▏         | 8/505 [00:45<45:52,  5.54s/it]"
     ]
    },
    {
     "name": "stdout",
     "output_type": "stream",
     "text": [
      "'value'\n",
      "'value'\n",
      "'value'\n",
      "'value'\n",
      "'value'\n",
      "'value'\n",
      "'value'\n",
      "'value'\n",
      "'value'\n",
      "'value'\n",
      "'value'\n",
      "'value'\n",
      "'value'\n",
      "'value'\n",
      "'value'\n",
      "'value'\n",
      "'value'\n",
      "'value'\n",
      "'value'\n",
      "'value'\n"
     ]
    },
    {
     "name": "stderr",
     "output_type": "stream",
     "text": [
      "\r",
      "  2%|▏         | 9/505 [00:52<47:33,  5.75s/it]"
     ]
    },
    {
     "name": "stdout",
     "output_type": "stream",
     "text": [
      "'value'\n",
      "'value'\n",
      "'value'\n",
      "'value'\n",
      "'value'\n",
      "'value'\n",
      "'value'\n",
      "'value'\n",
      "'value'\n",
      "'value'\n",
      "'value'\n",
      "'value'\n",
      "'value'\n",
      "'value'\n",
      "'value'\n",
      "'value'\n",
      "'value'\n"
     ]
    },
    {
     "name": "stderr",
     "output_type": "stream",
     "text": [
      "\r",
      "  2%|▏         | 10/505 [00:59<51:18,  6.22s/it]"
     ]
    },
    {
     "name": "stdout",
     "output_type": "stream",
     "text": [
      "'value'\n",
      "'value'\n",
      "'value'\n",
      "'value'\n",
      "'value'\n",
      "'value'\n",
      "'value'\n",
      "'value'\n",
      "'value'\n",
      "'value'\n",
      "'value'\n",
      "'value'\n",
      "'value'\n",
      "'value'\n",
      "'value'\n",
      "'value'\n",
      "'value'\n",
      "'value'\n",
      "'value'\n",
      "'value'\n",
      "'value'\n",
      "'value'\n",
      "'value'\n",
      "'value'\n",
      "'value'\n",
      "'value'\n",
      "'value'\n",
      "'value'\n",
      "'value'\n",
      "'value'\n",
      "'value'\n",
      "'value'\n"
     ]
    },
    {
     "name": "stderr",
     "output_type": "stream",
     "text": [
      "\r",
      "  2%|▏         | 11/505 [01:05<49:41,  6.04s/it]"
     ]
    },
    {
     "name": "stdout",
     "output_type": "stream",
     "text": [
      "'value'\n",
      "'value'\n",
      "'value'\n",
      "'value'\n",
      "'value'\n",
      "'value'\n",
      "'value'\n",
      "'value'\n",
      "'value'\n",
      "'value'\n",
      "'value'\n",
      "'value'\n",
      "'value'\n",
      "'value'\n",
      "'value'\n",
      "'value'\n",
      "'value'\n",
      "'value'\n"
     ]
    },
    {
     "name": "stderr",
     "output_type": "stream",
     "text": [
      "\r",
      "  2%|▏         | 12/505 [01:11<49:59,  6.08s/it]"
     ]
    },
    {
     "name": "stdout",
     "output_type": "stream",
     "text": [
      "'value'\n",
      "'value'\n",
      "'value'\n",
      "'value'\n",
      "'value'\n",
      "'value'\n",
      "'value'\n",
      "'value'\n",
      "'value'\n",
      "'value'\n"
     ]
    },
    {
     "name": "stderr",
     "output_type": "stream",
     "text": [
      "\r",
      "  3%|▎         | 13/505 [01:16<48:28,  5.91s/it]"
     ]
    },
    {
     "name": "stdout",
     "output_type": "stream",
     "text": [
      "'value'\n",
      "'value'\n",
      "'value'\n",
      "'value'\n",
      "'value'\n",
      "'value'\n",
      "'value'\n",
      "'value'\n",
      "'value'\n",
      "'value'\n",
      "'value'\n",
      "'value'\n",
      "'value'\n"
     ]
    },
    {
     "name": "stderr",
     "output_type": "stream",
     "text": [
      "\r",
      "  3%|▎         | 14/505 [01:21<46:18,  5.66s/it]"
     ]
    },
    {
     "name": "stdout",
     "output_type": "stream",
     "text": [
      "'value'\n",
      "'value'\n",
      "'value'\n",
      "'value'\n",
      "'value'\n",
      "'value'\n",
      "'value'\n",
      "'value'\n",
      "'value'\n",
      "'value'\n",
      "'value'\n",
      "'value'\n",
      "'value'\n",
      "'value'\n",
      "'value'\n",
      "'value'\n",
      "'value'\n",
      "'value'\n",
      "'value'\n",
      "'value'\n",
      "'value'\n",
      "'value'\n",
      "'value'\n",
      "'value'\n",
      "'value'\n",
      "'value'\n",
      "'value'\n",
      "'value'\n",
      "'value'\n",
      "'value'\n",
      "'value'\n",
      "'value'\n",
      "'value'\n",
      "'value'\n",
      "'value'\n",
      "'value'\n"
     ]
    },
    {
     "name": "stderr",
     "output_type": "stream",
     "text": [
      "\r",
      "  3%|▎         | 15/505 [01:27<45:52,  5.62s/it]"
     ]
    },
    {
     "name": "stdout",
     "output_type": "stream",
     "text": [
      "'value'\n",
      "'value'\n",
      "'value'\n",
      "'value'\n",
      "'value'\n",
      "'value'\n",
      "'value'\n",
      "'value'\n",
      "'value'\n",
      "'value'\n",
      "'value'\n",
      "'value'\n",
      "'value'\n",
      "'value'\n",
      "'value'\n",
      "'value'\n",
      "'value'\n",
      "'value'\n",
      "'value'\n"
     ]
    },
    {
     "name": "stderr",
     "output_type": "stream",
     "text": [
      "\r",
      "  3%|▎         | 16/505 [01:33<46:14,  5.67s/it]"
     ]
    },
    {
     "name": "stdout",
     "output_type": "stream",
     "text": [
      "'value'\n",
      "'value'\n",
      "'value'\n",
      "'value'\n",
      "'value'\n",
      "'value'\n",
      "'value'\n",
      "'value'\n",
      "'value'\n",
      "'value'\n",
      "'value'\n",
      "'value'\n",
      "'value'\n",
      "'value'\n",
      "'value'\n",
      "'value'\n",
      "'value'\n",
      "'value'\n"
     ]
    },
    {
     "name": "stderr",
     "output_type": "stream",
     "text": [
      "\r",
      "  3%|▎         | 17/505 [01:38<44:53,  5.52s/it]"
     ]
    },
    {
     "name": "stdout",
     "output_type": "stream",
     "text": [
      "'value'\n",
      "'value'\n",
      "'value'\n",
      "'value'\n",
      "'value'\n",
      "'value'\n",
      "'value'\n",
      "'value'\n",
      "'value'\n",
      "'value'\n",
      "'value'\n",
      "'value'\n",
      "'value'\n",
      "'value'\n",
      "'value'\n",
      "'value'\n",
      "'value'\n",
      "'value'\n",
      "'value'\n",
      "'value'\n",
      "'value'\n",
      "'value'\n",
      "'value'\n",
      "'value'\n",
      "'value'\n",
      "'value'\n",
      "'value'\n",
      "'value'\n",
      "'value'\n",
      "'value'\n",
      "'value'\n"
     ]
    },
    {
     "name": "stderr",
     "output_type": "stream",
     "text": [
      "\r",
      "  4%|▎         | 18/505 [01:43<42:55,  5.29s/it]"
     ]
    },
    {
     "name": "stdout",
     "output_type": "stream",
     "text": [
      "'value'\n",
      "'value'\n",
      "'value'\n",
      "'value'\n",
      "'value'\n",
      "'value'\n",
      "'value'\n",
      "'value'\n",
      "'value'\n",
      "'value'\n"
     ]
    },
    {
     "name": "stderr",
     "output_type": "stream",
     "text": [
      "\r",
      "  4%|▍         | 19/505 [01:47<40:42,  5.03s/it]"
     ]
    },
    {
     "name": "stdout",
     "output_type": "stream",
     "text": [
      "'value'\n",
      "'value'\n",
      "'value'\n",
      "'value'\n",
      "'value'\n",
      "'value'\n",
      "'value'\n",
      "'value'\n",
      "'value'\n",
      "'value'\n",
      "'value'\n",
      "'value'\n",
      "'value'\n",
      "'value'\n",
      "'value'\n",
      "'value'\n",
      "'value'\n"
     ]
    },
    {
     "name": "stderr",
     "output_type": "stream",
     "text": [
      "\r",
      "  4%|▍         | 20/505 [01:50<35:35,  4.40s/it]"
     ]
    },
    {
     "name": "stdout",
     "output_type": "stream",
     "text": [
      "'value'\n",
      "'value'\n",
      "'value'\n",
      "'value'\n",
      "'value'\n",
      "'value'\n",
      "'value'\n",
      "'value'\n",
      "'value'\n",
      "'value'\n",
      "'value'\n",
      "'value'\n",
      "'value'\n",
      "'value'\n"
     ]
    },
    {
     "name": "stderr",
     "output_type": "stream",
     "text": [
      "\r",
      "  4%|▍         | 21/505 [01:55<36:37,  4.54s/it]"
     ]
    },
    {
     "name": "stdout",
     "output_type": "stream",
     "text": [
      "'value'\n",
      "'value'\n",
      "'value'\n",
      "'value'\n",
      "'value'\n",
      "'value'\n",
      "'value'\n",
      "'value'\n",
      "'value'\n",
      "'value'\n",
      "'value'\n",
      "'value'\n",
      "'value'\n",
      "'value'\n",
      "'value'\n",
      "'value'\n",
      "'value'\n",
      "'value'\n",
      "'value'\n",
      "'value'\n",
      "'value'\n",
      "'value'\n",
      "'value'\n",
      "'value'\n",
      "'value'\n",
      "'value'\n",
      "'value'\n",
      "'value'\n",
      "'value'\n",
      "'value'\n",
      "'value'\n",
      "'value'\n",
      "'value'\n",
      "'value'\n",
      "'value'\n",
      "'value'\n",
      "'value'\n",
      "'value'\n",
      "'value'\n"
     ]
    },
    {
     "name": "stderr",
     "output_type": "stream",
     "text": [
      "\r",
      "  4%|▍         | 22/505 [02:02<43:36,  5.42s/it]"
     ]
    },
    {
     "name": "stdout",
     "output_type": "stream",
     "text": [
      "'value'\n",
      "'value'\n",
      "'value'\n",
      "'value'\n",
      "'value'\n",
      "'value'\n",
      "'value'\n",
      "'value'\n",
      "'value'\n",
      "'value'\n",
      "'value'\n",
      "'value'\n",
      "'value'\n",
      "'value'\n",
      "'value'\n",
      "'value'\n"
     ]
    },
    {
     "name": "stderr",
     "output_type": "stream",
     "text": [
      "\r",
      "  5%|▍         | 23/505 [02:05<36:34,  4.55s/it]"
     ]
    },
    {
     "name": "stdout",
     "output_type": "stream",
     "text": [
      "'value'\n",
      "'value'\n",
      "'value'\n",
      "'value'\n",
      "'value'\n",
      "'value'\n",
      "'value'\n",
      "'value'\n",
      "'value'\n",
      "'value'\n",
      "'value'\n",
      "'value'\n",
      "'value'\n",
      "'value'\n",
      "'value'\n",
      "'value'\n",
      "'value'\n"
     ]
    },
    {
     "name": "stderr",
     "output_type": "stream",
     "text": [
      "\r",
      "  5%|▍         | 24/505 [02:06<28:36,  3.57s/it]"
     ]
    },
    {
     "name": "stdout",
     "output_type": "stream",
     "text": [
      "'value'\n",
      "'value'\n",
      "'value'\n",
      "'value'\n",
      "'value'\n",
      "'value'\n",
      "'value'\n",
      "'value'\n",
      "'value'\n",
      "'value'\n",
      "'value'\n",
      "'value'\n",
      "'value'\n",
      "'value'\n",
      "'value'\n",
      "'value'\n",
      "'value'\n",
      "'value'\n",
      "'value'\n",
      "'value'\n",
      "'value'\n",
      "'value'\n",
      "'value'\n"
     ]
    },
    {
     "name": "stderr",
     "output_type": "stream",
     "text": [
      "\r",
      "  5%|▍         | 25/505 [02:11<31:13,  3.90s/it]"
     ]
    },
    {
     "name": "stdout",
     "output_type": "stream",
     "text": [
      "'value'\n",
      "'value'\n",
      "'value'\n",
      "'value'\n",
      "'value'\n",
      "'value'\n",
      "'value'\n",
      "'value'\n",
      "'value'\n",
      "'value'\n",
      "'value'\n",
      "'value'\n",
      "'value'\n",
      "'value'\n",
      "'value'\n",
      "'value'\n"
     ]
    },
    {
     "name": "stderr",
     "output_type": "stream",
     "text": [
      "\r",
      "  5%|▌         | 26/505 [02:15<31:57,  4.00s/it]"
     ]
    },
    {
     "name": "stdout",
     "output_type": "stream",
     "text": [
      "'value'\n",
      "'value'\n",
      "'value'\n",
      "'value'\n",
      "'value'\n",
      "'value'\n"
     ]
    },
    {
     "name": "stderr",
     "output_type": "stream",
     "text": [
      "\r",
      "  5%|▌         | 27/505 [02:16<24:30,  3.08s/it]"
     ]
    },
    {
     "name": "stdout",
     "output_type": "stream",
     "text": [
      "'value'\n",
      "'value'\n",
      "'value'\n",
      "'value'\n",
      "'value'\n",
      "'value'\n",
      "'value'\n",
      "'value'\n",
      "'value'\n",
      "'value'\n",
      "'value'\n",
      "'value'\n",
      "'value'\n",
      "'value'\n",
      "'value'\n",
      "'value'\n"
     ]
    },
    {
     "name": "stderr",
     "output_type": "stream",
     "text": [
      "\r",
      "  6%|▌         | 28/505 [02:22<31:14,  3.93s/it]"
     ]
    },
    {
     "name": "stdout",
     "output_type": "stream",
     "text": [
      "'value'\n",
      "'value'\n",
      "'value'\n",
      "'value'\n",
      "'value'\n",
      "'value'\n",
      "'value'\n",
      "'value'\n",
      "'value'\n",
      "'value'\n",
      "'value'\n",
      "'value'\n",
      "'value'\n",
      "'value'\n",
      "'value'\n",
      "'value'\n",
      "'value'\n",
      "'value'\n",
      "'value'\n",
      "'value'\n",
      "'value'\n",
      "'value'\n",
      "'value'\n",
      "'value'\n",
      "'value'\n",
      "'value'\n",
      "'value'\n",
      "'value'\n",
      "'value'\n",
      "'value'\n",
      "'value'\n",
      "'value'\n",
      "'value'\n",
      "'value'\n",
      "'value'\n",
      "'value'\n",
      "'value'\n",
      "'value'\n",
      "'value'\n",
      "'value'\n",
      "'value'\n",
      "'value'\n",
      "'value'\n",
      "'value'\n",
      "'value'\n",
      "'value'\n",
      "'value'\n",
      "'value'\n",
      "'value'\n"
     ]
    },
    {
     "name": "stderr",
     "output_type": "stream",
     "text": [
      "\r",
      "  6%|▌         | 29/505 [02:27<34:20,  4.33s/it]"
     ]
    },
    {
     "name": "stdout",
     "output_type": "stream",
     "text": [
      "'value'\n",
      "'value'\n",
      "'value'\n",
      "'value'\n",
      "'value'\n",
      "'value'\n",
      "'value'\n",
      "'value'\n",
      "'value'\n",
      "'value'\n",
      "'value'\n",
      "'value'\n",
      "'value'\n",
      "'value'\n",
      "'value'\n",
      "'value'\n",
      "'value'\n",
      "'value'\n",
      "'value'\n",
      "'value'\n",
      "'value'\n",
      "'value'\n",
      "'value'\n",
      "'value'\n",
      "'value'\n",
      "'value'\n"
     ]
    },
    {
     "name": "stderr",
     "output_type": "stream",
     "text": [
      "\r",
      "  6%|▌         | 30/505 [02:34<41:19,  5.22s/it]"
     ]
    },
    {
     "name": "stdout",
     "output_type": "stream",
     "text": [
      "'value'\n",
      "'value'\n",
      "'value'\n",
      "'value'\n",
      "'value'\n",
      "'value'\n",
      "'value'\n",
      "'value'\n",
      "'value'\n",
      "'value'\n",
      "'value'\n",
      "'value'\n",
      "'value'\n",
      "'value'\n",
      "'value'\n",
      "'value'\n",
      "'value'\n",
      "'value'\n",
      "'value'\n",
      "'value'\n",
      "'value'\n",
      "'value'\n",
      "'value'\n",
      "'value'\n",
      "'value'\n",
      "'value'\n",
      "'value'\n",
      "'value'\n",
      "'value'\n",
      "'value'\n",
      "'value'\n",
      "'value'\n",
      "'value'\n"
     ]
    },
    {
     "name": "stderr",
     "output_type": "stream",
     "text": [
      "\r",
      "  6%|▌         | 31/505 [02:41<43:28,  5.50s/it]"
     ]
    },
    {
     "name": "stdout",
     "output_type": "stream",
     "text": [
      "'value'\n",
      "'value'\n",
      "'value'\n",
      "'value'\n",
      "'value'\n",
      "'value'\n",
      "'value'\n",
      "'value'\n",
      "'value'\n",
      "'value'\n",
      "'value'\n",
      "'value'\n",
      "'value'\n",
      "'value'\n",
      "'value'\n",
      "'value'\n",
      "'value'\n",
      "'value'\n",
      "'value'\n",
      "'value'\n",
      "'value'\n",
      "'value'\n",
      "'value'\n",
      "'value'\n",
      "'value'\n"
     ]
    },
    {
     "name": "stderr",
     "output_type": "stream",
     "text": [
      "\r",
      "  6%|▋         | 32/505 [02:47<46:05,  5.85s/it]"
     ]
    },
    {
     "name": "stdout",
     "output_type": "stream",
     "text": [
      "'value'\n",
      "'value'\n",
      "'value'\n",
      "'value'\n",
      "'value'\n",
      "'value'\n",
      "'value'\n",
      "'value'\n",
      "'value'\n",
      "'value'\n",
      "'value'\n",
      "'value'\n",
      "'value'\n",
      "'value'\n",
      "'value'\n",
      "'value'\n",
      "'value'\n",
      "'value'\n",
      "'value'\n",
      "'value'\n",
      "'value'\n",
      "'value'\n",
      "'value'\n",
      "'value'\n",
      "'value'\n",
      "'value'\n",
      "'value'\n",
      "'value'\n",
      "'value'\n",
      "'value'\n",
      "'value'\n",
      "'value'\n",
      "'value'\n",
      "'value'\n",
      "'value'\n",
      "'value'\n",
      "'value'\n",
      "'value'\n",
      "'value'\n",
      "'value'\n",
      "'value'\n",
      "'value'\n",
      "'value'\n"
     ]
    },
    {
     "name": "stderr",
     "output_type": "stream",
     "text": [
      "\r",
      "  7%|▋         | 33/505 [02:53<45:23,  5.77s/it]"
     ]
    },
    {
     "name": "stdout",
     "output_type": "stream",
     "text": [
      "'value'\n",
      "'value'\n",
      "'value'\n",
      "'value'\n",
      "'value'\n",
      "'value'\n",
      "'value'\n",
      "'value'\n",
      "'value'\n",
      "'value'\n",
      "'value'\n",
      "'value'\n",
      "'value'\n",
      "'value'\n",
      "'value'\n",
      "'value'\n"
     ]
    },
    {
     "name": "stderr",
     "output_type": "stream",
     "text": [
      "\r",
      "  7%|▋         | 34/505 [02:57<42:13,  5.38s/it]"
     ]
    },
    {
     "name": "stdout",
     "output_type": "stream",
     "text": [
      "'value'\n",
      "'value'\n",
      "'value'\n",
      "'value'\n",
      "'value'\n",
      "'value'\n",
      "'value'\n",
      "'value'\n",
      "'value'\n",
      "'value'\n",
      "'value'\n",
      "'value'\n",
      "'value'\n",
      "'value'\n",
      "'value'\n"
     ]
    },
    {
     "name": "stderr",
     "output_type": "stream",
     "text": [
      "\r",
      "  7%|▋         | 35/505 [03:04<45:12,  5.77s/it]"
     ]
    },
    {
     "name": "stdout",
     "output_type": "stream",
     "text": [
      "'value'\n",
      "'value'\n",
      "'value'\n",
      "'value'\n",
      "'value'\n",
      "'value'\n",
      "'value'\n",
      "'value'\n",
      "'value'\n",
      "'value'\n",
      "'value'\n"
     ]
    },
    {
     "name": "stderr",
     "output_type": "stream",
     "text": [
      "\r",
      "  7%|▋         | 36/505 [03:09<44:02,  5.63s/it]"
     ]
    },
    {
     "name": "stdout",
     "output_type": "stream",
     "text": [
      "'value'\n",
      "'value'\n",
      "'value'\n",
      "'value'\n",
      "'value'\n",
      "'value'\n",
      "'value'\n",
      "'value'\n",
      "'value'\n",
      "'value'\n",
      "'value'\n",
      "'value'\n",
      "'value'\n",
      "'value'\n"
     ]
    },
    {
     "name": "stderr",
     "output_type": "stream",
     "text": [
      "\r",
      "  7%|▋         | 37/505 [03:14<41:54,  5.37s/it]"
     ]
    },
    {
     "name": "stdout",
     "output_type": "stream",
     "text": [
      "'value'\n",
      "'value'\n",
      "'value'\n",
      "'value'\n",
      "'value'\n",
      "'value'\n",
      "'value'\n",
      "'value'\n",
      "'value'\n",
      "'value'\n",
      "'value'\n",
      "'value'\n",
      "'value'\n",
      "'value'\n",
      "'value'\n",
      "'value'\n",
      "'value'\n"
     ]
    },
    {
     "name": "stderr",
     "output_type": "stream",
     "text": [
      "\r",
      "  8%|▊         | 38/505 [03:19<40:00,  5.14s/it]"
     ]
    },
    {
     "name": "stdout",
     "output_type": "stream",
     "text": [
      "'value'\n",
      "'value'\n",
      "'value'\n",
      "'value'\n",
      "'value'\n",
      "'value'\n",
      "'value'\n",
      "'value'\n",
      "'value'\n",
      "'value'\n",
      "'value'\n",
      "'value'\n",
      "'value'\n",
      "'value'\n",
      "'value'\n",
      "'value'\n",
      "'value'\n",
      "'value'\n",
      "'value'\n",
      "'value'\n",
      "'value'\n"
     ]
    },
    {
     "name": "stderr",
     "output_type": "stream",
     "text": [
      "\r",
      "  8%|▊         | 39/505 [03:23<39:12,  5.05s/it]"
     ]
    },
    {
     "name": "stdout",
     "output_type": "stream",
     "text": [
      "'value'\n",
      "'value'\n",
      "'value'\n",
      "'value'\n",
      "'value'\n",
      "'value'\n",
      "'value'\n",
      "'value'\n",
      "'value'\n",
      "'value'\n",
      "'value'\n",
      "'value'\n",
      "'value'\n",
      "'value'\n",
      "'value'\n",
      "'value'\n",
      "'value'\n",
      "'value'\n",
      "'value'\n",
      "'value'\n",
      "'value'\n",
      "'value'\n",
      "'value'\n",
      "'value'\n",
      "'value'\n"
     ]
    },
    {
     "name": "stderr",
     "output_type": "stream",
     "text": [
      "\r",
      "  8%|▊         | 40/505 [03:30<42:05,  5.43s/it]"
     ]
    },
    {
     "name": "stdout",
     "output_type": "stream",
     "text": [
      "'value'\n",
      "'value'\n",
      "'value'\n",
      "'value'\n",
      "'value'\n",
      "'value'\n",
      "'value'\n",
      "'value'\n",
      "'value'\n",
      "'value'\n",
      "'value'\n",
      "'value'\n",
      "'value'\n",
      "'value'\n"
     ]
    },
    {
     "name": "stderr",
     "output_type": "stream",
     "text": [
      "\r",
      "  8%|▊         | 41/505 [03:34<39:27,  5.10s/it]"
     ]
    },
    {
     "name": "stdout",
     "output_type": "stream",
     "text": [
      "'value'\n",
      "'value'\n",
      "'value'\n",
      "'value'\n",
      "'value'\n",
      "'value'\n",
      "'value'\n",
      "'value'\n",
      "'value'\n",
      "'value'\n",
      "'value'\n",
      "'value'\n",
      "'value'\n",
      "'value'\n",
      "'value'\n",
      "'value'\n"
     ]
    },
    {
     "name": "stderr",
     "output_type": "stream",
     "text": [
      "\r",
      "  8%|▊         | 42/505 [03:40<41:33,  5.39s/it]"
     ]
    },
    {
     "name": "stdout",
     "output_type": "stream",
     "text": [
      "'value'\n",
      "'value'\n",
      "'value'\n",
      "'value'\n",
      "'value'\n",
      "'value'\n",
      "'value'\n",
      "'value'\n",
      "'value'\n",
      "'value'\n",
      "'value'\n",
      "'value'\n",
      "'value'\n",
      "'value'\n",
      "'value'\n",
      "'value'\n",
      "'value'\n",
      "'value'\n",
      "'value'\n",
      "'value'\n"
     ]
    },
    {
     "name": "stderr",
     "output_type": "stream",
     "text": [
      "\r",
      "  9%|▊         | 43/505 [03:46<42:15,  5.49s/it]"
     ]
    },
    {
     "name": "stdout",
     "output_type": "stream",
     "text": [
      "'value'\n",
      "'value'\n",
      "'value'\n",
      "'value'\n",
      "'value'\n",
      "'value'\n",
      "'value'\n",
      "'value'\n",
      "'value'\n",
      "'value'\n",
      "'value'\n"
     ]
    },
    {
     "name": "stderr",
     "output_type": "stream",
     "text": [
      "\r",
      "  9%|▊         | 44/505 [03:51<41:08,  5.35s/it]"
     ]
    },
    {
     "name": "stdout",
     "output_type": "stream",
     "text": [
      "'value'\n",
      "'value'\n",
      "'value'\n",
      "'value'\n",
      "'value'\n",
      "'value'\n",
      "'value'\n",
      "'value'\n",
      "'value'\n",
      "'value'\n",
      "'value'\n",
      "'value'\n",
      "'value'\n",
      "'value'\n",
      "'value'\n",
      "'value'\n"
     ]
    },
    {
     "name": "stderr",
     "output_type": "stream",
     "text": [
      "\r",
      "  9%|▉         | 45/505 [03:56<39:58,  5.21s/it]"
     ]
    },
    {
     "name": "stdout",
     "output_type": "stream",
     "text": [
      "'value'\n",
      "'value'\n",
      "'value'\n",
      "'value'\n",
      "'value'\n",
      "'value'\n",
      "'value'\n",
      "'value'\n",
      "'value'\n",
      "'value'\n",
      "'value'\n"
     ]
    },
    {
     "name": "stderr",
     "output_type": "stream",
     "text": [
      "\r",
      "  9%|▉         | 46/505 [04:01<39:07,  5.11s/it]"
     ]
    },
    {
     "name": "stdout",
     "output_type": "stream",
     "text": [
      "'value'\n",
      "'value'\n",
      "'value'\n",
      "'value'\n",
      "'value'\n",
      "'value'\n",
      "'value'\n",
      "'value'\n",
      "'value'\n",
      "'value'\n",
      "'value'\n",
      "'value'\n",
      "'value'\n",
      "'value'\n",
      "'value'\n",
      "'value'\n",
      "'value'\n",
      "'value'\n",
      "'value'\n",
      "'value'\n"
     ]
    },
    {
     "name": "stderr",
     "output_type": "stream",
     "text": [
      "\r",
      "  9%|▉         | 47/505 [04:07<41:52,  5.49s/it]"
     ]
    },
    {
     "name": "stdout",
     "output_type": "stream",
     "text": [
      "'value'\n",
      "'value'\n",
      "'value'\n",
      "'value'\n",
      "'value'\n",
      "'value'\n",
      "'value'\n",
      "'value'\n",
      "'value'\n",
      "'value'\n",
      "'value'\n",
      "'value'\n",
      "'value'\n",
      "'value'\n",
      "'value'\n"
     ]
    },
    {
     "name": "stderr",
     "output_type": "stream",
     "text": [
      "\r",
      " 10%|▉         | 48/505 [04:12<40:47,  5.36s/it]"
     ]
    },
    {
     "name": "stdout",
     "output_type": "stream",
     "text": [
      "'value'\n",
      "'value'\n",
      "'value'\n",
      "'value'\n",
      "'value'\n",
      "'value'\n",
      "'value'\n",
      "'value'\n",
      "'value'\n",
      "'value'\n",
      "'value'\n",
      "'value'\n",
      "'value'\n",
      "'value'\n",
      "'value'\n",
      "'value'\n",
      "'value'\n"
     ]
    },
    {
     "name": "stderr",
     "output_type": "stream",
     "text": [
      "\r",
      " 10%|▉         | 49/505 [04:17<39:33,  5.20s/it]"
     ]
    },
    {
     "name": "stdout",
     "output_type": "stream",
     "text": [
      "'value'\n",
      "'value'\n",
      "'value'\n",
      "'value'\n",
      "'value'\n",
      "'value'\n",
      "'value'\n"
     ]
    },
    {
     "name": "stderr",
     "output_type": "stream",
     "text": [
      "\r",
      " 10%|▉         | 50/505 [04:20<34:35,  4.56s/it]"
     ]
    },
    {
     "name": "stdout",
     "output_type": "stream",
     "text": [
      "'value'\n",
      "'value'\n",
      "'value'\n",
      "'value'\n",
      "'value'\n",
      "'value'\n",
      "'value'\n",
      "'value'\n",
      "'value'\n",
      "'value'\n",
      "'value'\n",
      "'value'\n",
      "'value'\n",
      "'value'\n"
     ]
    },
    {
     "name": "stderr",
     "output_type": "stream",
     "text": [
      "\r",
      " 10%|█         | 51/505 [04:25<35:44,  4.72s/it]"
     ]
    },
    {
     "name": "stdout",
     "output_type": "stream",
     "text": [
      "'value'\n",
      "'value'\n",
      "'value'\n",
      "'value'\n",
      "'value'\n",
      "'value'\n",
      "'value'\n",
      "'value'\n",
      "'value'\n",
      "'value'\n",
      "'value'\n",
      "'value'\n",
      "'value'\n",
      "'value'\n",
      "'value'\n",
      "'value'\n",
      "'value'\n",
      "'value'\n",
      "'value'\n",
      "'value'\n"
     ]
    },
    {
     "name": "stderr",
     "output_type": "stream",
     "text": [
      "\r",
      " 10%|█         | 52/505 [04:32<40:50,  5.41s/it]"
     ]
    },
    {
     "name": "stdout",
     "output_type": "stream",
     "text": [
      "'value'\n",
      "'value'\n",
      "'value'\n",
      "'value'\n",
      "'value'\n",
      "'value'\n",
      "'value'\n",
      "'value'\n",
      "'value'\n",
      "'value'\n",
      "'value'\n",
      "'value'\n",
      "'value'\n",
      "'value'\n",
      "'value'\n",
      "'value'\n",
      "'value'\n",
      "'value'\n",
      "'value'\n",
      "'value'\n",
      "'value'\n",
      "'value'\n",
      "'value'\n",
      "'value'\n",
      "'value'\n",
      "'value'\n",
      "'value'\n",
      "'value'\n",
      "'value'\n",
      "'value'\n",
      "'value'\n",
      "'value'\n",
      "'value'\n",
      "'value'\n",
      "'value'\n",
      "'value'\n",
      "'value'\n",
      "'value'\n",
      "'value'\n",
      "'value'\n",
      "'value'\n",
      "'value'\n",
      "'value'\n",
      "'value'\n",
      "'value'\n",
      "'value'\n",
      "'value'\n",
      "'value'\n"
     ]
    },
    {
     "name": "stderr",
     "output_type": "stream",
     "text": [
      "\r",
      " 10%|█         | 53/505 [04:38<41:08,  5.46s/it]"
     ]
    },
    {
     "name": "stdout",
     "output_type": "stream",
     "text": [
      "'value'\n",
      "'value'\n",
      "'value'\n",
      "'value'\n",
      "'value'\n",
      "'value'\n",
      "'value'\n",
      "'value'\n",
      "'value'\n",
      "'value'\n",
      "'value'\n",
      "'value'\n",
      "'value'\n",
      "'value'\n",
      "'value'\n",
      "'value'\n",
      "'value'\n",
      "'value'\n",
      "'value'\n",
      "'value'\n",
      "'value'\n",
      "'value'\n"
     ]
    },
    {
     "name": "stderr",
     "output_type": "stream",
     "text": [
      "\r",
      " 11%|█         | 54/505 [04:42<38:56,  5.18s/it]"
     ]
    },
    {
     "name": "stdout",
     "output_type": "stream",
     "text": [
      "'value'\n",
      "'value'\n",
      "'value'\n",
      "'value'\n",
      "'value'\n",
      "'value'\n",
      "'value'\n",
      "'value'\n",
      "'value'\n",
      "'value'\n",
      "'value'\n",
      "'value'\n",
      "'value'\n"
     ]
    },
    {
     "name": "stderr",
     "output_type": "stream",
     "text": [
      "\r",
      " 11%|█         | 55/505 [04:48<39:07,  5.22s/it]"
     ]
    },
    {
     "name": "stdout",
     "output_type": "stream",
     "text": [
      "'value'\n",
      "'value'\n",
      "'value'\n",
      "'value'\n",
      "'value'\n",
      "'value'\n",
      "'value'\n",
      "'value'\n",
      "'value'\n",
      "'value'\n",
      "'value'\n",
      "'value'\n",
      "'value'\n"
     ]
    },
    {
     "name": "stderr",
     "output_type": "stream",
     "text": [
      "\r",
      " 11%|█         | 56/505 [04:55<43:02,  5.75s/it]"
     ]
    },
    {
     "name": "stdout",
     "output_type": "stream",
     "text": [
      "'value'\n",
      "'value'\n",
      "'value'\n",
      "'value'\n",
      "'value'\n",
      "'value'\n",
      "'value'\n",
      "'value'\n",
      "'value'\n",
      "'value'\n",
      "'value'\n",
      "'value'\n",
      "'value'\n",
      "'value'\n",
      "'value'\n",
      "'value'\n",
      "'value'\n",
      "'value'\n",
      "'value'\n",
      "'value'\n"
     ]
    },
    {
     "name": "stderr",
     "output_type": "stream",
     "text": [
      "\r",
      " 11%|█▏        | 57/505 [04:59<40:13,  5.39s/it]"
     ]
    },
    {
     "name": "stdout",
     "output_type": "stream",
     "text": [
      "'value'\n",
      "'value'\n",
      "'value'\n",
      "'value'\n",
      "'value'\n",
      "'value'\n",
      "'value'\n",
      "'value'\n",
      "'value'\n"
     ]
    },
    {
     "name": "stderr",
     "output_type": "stream",
     "text": [
      "\r",
      " 11%|█▏        | 58/505 [05:04<38:37,  5.18s/it]"
     ]
    },
    {
     "name": "stdout",
     "output_type": "stream",
     "text": [
      "'value'\n",
      "'value'\n",
      "'value'\n",
      "'value'\n",
      "'value'\n",
      "'value'\n",
      "'value'\n",
      "'value'\n",
      "'value'\n",
      "'value'\n",
      "'value'\n",
      "'value'\n",
      "'value'\n",
      "'value'\n"
     ]
    },
    {
     "name": "stderr",
     "output_type": "stream",
     "text": [
      "\r",
      " 12%|█▏        | 59/505 [05:08<36:22,  4.89s/it]"
     ]
    },
    {
     "name": "stdout",
     "output_type": "stream",
     "text": [
      "'value'\n",
      "'value'\n",
      "'value'\n",
      "'value'\n",
      "'value'\n",
      "'value'\n",
      "'value'\n",
      "'value'\n",
      "'value'\n",
      "'value'\n",
      "'value'\n",
      "'value'\n",
      "'value'\n",
      "'value'\n",
      "'value'\n",
      "'value'\n",
      "'value'\n"
     ]
    },
    {
     "name": "stderr",
     "output_type": "stream",
     "text": [
      "\r",
      " 12%|█▏        | 60/505 [05:10<28:53,  3.90s/it]"
     ]
    },
    {
     "name": "stdout",
     "output_type": "stream",
     "text": [
      "'value'\n",
      "'value'\n",
      "'value'\n",
      "'value'\n",
      "'value'\n",
      "'value'\n",
      "'value'\n",
      "'value'\n",
      "'value'\n",
      "'value'\n",
      "'value'\n",
      "'value'\n",
      "'value'\n",
      "'value'\n",
      "'value'\n"
     ]
    },
    {
     "name": "stderr",
     "output_type": "stream",
     "text": [
      "\r",
      " 12%|█▏        | 61/505 [05:15<31:42,  4.28s/it]"
     ]
    },
    {
     "name": "stdout",
     "output_type": "stream",
     "text": [
      "'value'\n",
      "'value'\n",
      "'value'\n",
      "'value'\n",
      "'value'\n",
      "'value'\n",
      "'value'\n",
      "'value'\n",
      "'value'\n",
      "'value'\n",
      "'value'\n",
      "'value'\n",
      "'value'\n",
      "'value'\n"
     ]
    },
    {
     "name": "stderr",
     "output_type": "stream",
     "text": [
      "\r",
      " 12%|█▏        | 62/505 [05:22<38:36,  5.23s/it]"
     ]
    },
    {
     "name": "stdout",
     "output_type": "stream",
     "text": [
      "'value'\n",
      "'value'\n",
      "'value'\n",
      "'value'\n",
      "'value'\n",
      "'value'\n",
      "'value'\n",
      "'value'\n",
      "'value'\n",
      "'value'\n",
      "'value'\n",
      "'value'\n",
      "'value'\n",
      "'value'\n",
      "'value'\n",
      "'value'\n",
      "'value'\n",
      "'value'\n",
      "'value'\n",
      "'value'\n",
      "'value'\n",
      "'value'\n",
      "'value'\n",
      "'value'\n",
      "'value'\n",
      "'value'\n",
      "'value'\n",
      "'value'\n",
      "'value'\n",
      "'value'\n",
      "'value'\n",
      "'value'\n",
      "'value'\n",
      "'value'\n",
      "'value'\n",
      "'value'\n",
      "'value'\n",
      "'value'\n",
      "'value'\n",
      "'value'\n"
     ]
    },
    {
     "name": "stderr",
     "output_type": "stream",
     "text": [
      "\r",
      " 12%|█▏        | 63/505 [05:27<38:09,  5.18s/it]"
     ]
    },
    {
     "name": "stdout",
     "output_type": "stream",
     "text": [
      "'value'\n",
      "'value'\n",
      "'value'\n",
      "'value'\n",
      "'value'\n",
      "'value'\n",
      "'value'\n",
      "'value'\n",
      "'value'\n",
      "'value'\n",
      "'value'\n",
      "'value'\n",
      "'value'\n",
      "'value'\n",
      "'value'\n",
      "'value'\n",
      "'value'\n",
      "'value'\n"
     ]
    },
    {
     "name": "stderr",
     "output_type": "stream",
     "text": [
      "\r",
      " 13%|█▎        | 64/505 [05:32<37:58,  5.17s/it]"
     ]
    },
    {
     "name": "stdout",
     "output_type": "stream",
     "text": [
      "'value'\n",
      "'value'\n",
      "'value'\n",
      "'value'\n",
      "'value'\n",
      "'value'\n",
      "'value'\n",
      "'value'\n",
      "'value'\n",
      "'value'\n",
      "'value'\n",
      "'value'\n",
      "'value'\n",
      "'value'\n",
      "'value'\n",
      "'value'\n",
      "'value'\n",
      "'value'\n",
      "'value'\n",
      "'value'\n",
      "'value'\n",
      "'value'\n",
      "'value'\n",
      "'value'\n",
      "'value'\n",
      "'value'\n"
     ]
    },
    {
     "name": "stderr",
     "output_type": "stream",
     "text": [
      "\r",
      " 13%|█▎        | 65/505 [05:37<35:53,  4.89s/it]"
     ]
    },
    {
     "name": "stdout",
     "output_type": "stream",
     "text": [
      "'value'\n",
      "'value'\n",
      "'value'\n",
      "'value'\n",
      "'value'\n",
      "'value'\n",
      "'value'\n",
      "'value'\n",
      "'value'\n"
     ]
    },
    {
     "name": "stderr",
     "output_type": "stream",
     "text": [
      "\r",
      " 13%|█▎        | 66/505 [05:40<33:01,  4.51s/it]"
     ]
    },
    {
     "name": "stdout",
     "output_type": "stream",
     "text": [
      "'value'\n",
      "'value'\n",
      "'value'\n",
      "'value'\n",
      "'value'\n",
      "'value'\n",
      "'value'\n",
      "'value'\n",
      "'value'\n",
      "'value'\n",
      "'value'\n",
      "'value'\n",
      "'value'\n",
      "'value'\n",
      "'value'\n",
      "'value'\n"
     ]
    },
    {
     "name": "stderr",
     "output_type": "stream",
     "text": [
      "\r",
      " 13%|█▎        | 67/505 [05:45<33:39,  4.61s/it]"
     ]
    },
    {
     "name": "stdout",
     "output_type": "stream",
     "text": [
      "'value'\n",
      "'value'\n",
      "'value'\n",
      "'value'\n",
      "'value'\n",
      "'value'\n",
      "'value'\n",
      "'value'\n",
      "'value'\n",
      "'value'\n",
      "'value'\n",
      "'value'\n",
      "'value'\n",
      "'value'\n"
     ]
    },
    {
     "name": "stderr",
     "output_type": "stream",
     "text": [
      "\r",
      " 13%|█▎        | 68/505 [05:50<33:30,  4.60s/it]"
     ]
    },
    {
     "name": "stdout",
     "output_type": "stream",
     "text": [
      "'value'\n",
      "'value'\n",
      "'value'\n",
      "'value'\n",
      "'value'\n",
      "'value'\n",
      "'value'\n",
      "'value'\n",
      "'value'\n",
      "'value'\n",
      "'value'\n",
      "'value'\n",
      "'value'\n"
     ]
    },
    {
     "name": "stderr",
     "output_type": "stream",
     "text": [
      "\r",
      " 14%|█▎        | 69/505 [05:55<34:24,  4.74s/it]"
     ]
    },
    {
     "name": "stdout",
     "output_type": "stream",
     "text": [
      "'value'\n",
      "'value'\n",
      "'value'\n",
      "'value'\n",
      "'value'\n",
      "'value'\n",
      "'value'\n",
      "'value'\n",
      "'value'\n",
      "'value'\n",
      "'value'\n",
      "'value'\n",
      "'value'\n",
      "'value'\n",
      "'value'\n",
      "'value'\n",
      "'value'\n",
      "'value'\n"
     ]
    },
    {
     "name": "stderr",
     "output_type": "stream",
     "text": [
      "\r",
      " 14%|█▍        | 70/505 [06:00<35:40,  4.92s/it]"
     ]
    },
    {
     "name": "stdout",
     "output_type": "stream",
     "text": [
      "'value'\n",
      "'value'\n",
      "'value'\n",
      "'value'\n",
      "'value'\n",
      "'value'\n",
      "'value'\n",
      "'value'\n",
      "'value'\n",
      "'value'\n",
      "'value'\n",
      "'value'\n",
      "'value'\n",
      "'value'\n",
      "'value'\n",
      "'value'\n",
      "'value'\n",
      "'value'\n",
      "'value'\n",
      "'value'\n",
      "'value'\n",
      "'value'\n",
      "'value'\n"
     ]
    },
    {
     "name": "stderr",
     "output_type": "stream",
     "text": [
      "\r",
      " 14%|█▍        | 71/505 [06:05<36:27,  5.04s/it]"
     ]
    },
    {
     "name": "stdout",
     "output_type": "stream",
     "text": [
      "'value'\n",
      "'value'\n",
      "'value'\n",
      "'value'\n",
      "'value'\n",
      "'value'\n",
      "'value'\n",
      "'value'\n",
      "'value'\n",
      "'value'\n",
      "'value'\n",
      "'value'\n",
      "'value'\n",
      "'value'\n",
      "'value'\n",
      "'value'\n",
      "'value'\n",
      "'value'\n",
      "'value'\n",
      "'value'\n",
      "'value'\n",
      "'value'\n"
     ]
    },
    {
     "name": "stderr",
     "output_type": "stream",
     "text": [
      "\r",
      " 14%|█▍        | 72/505 [06:10<35:17,  4.89s/it]"
     ]
    },
    {
     "name": "stdout",
     "output_type": "stream",
     "text": [
      "'value'\n",
      "'value'\n",
      "'value'\n",
      "'value'\n",
      "'value'\n",
      "'value'\n",
      "'value'\n",
      "'value'\n",
      "'value'\n",
      "'value'\n",
      "'value'\n",
      "'value'\n",
      "'value'\n",
      "'value'\n",
      "'value'\n",
      "'value'\n",
      "'value'\n",
      "'value'\n",
      "'value'\n",
      "'value'\n",
      "'value'\n",
      "'value'\n",
      "'value'\n",
      "'value'\n",
      "'value'\n",
      "'value'\n",
      "'value'\n",
      "'value'\n",
      "'value'\n",
      "'value'\n"
     ]
    },
    {
     "name": "stderr",
     "output_type": "stream",
     "text": [
      "\r",
      " 14%|█▍        | 73/505 [06:15<35:49,  4.98s/it]"
     ]
    },
    {
     "name": "stdout",
     "output_type": "stream",
     "text": [
      "'value'\n",
      "'value'\n",
      "'value'\n",
      "'value'\n",
      "'value'\n",
      "'value'\n",
      "'value'\n",
      "'value'\n",
      "'value'\n",
      "'value'\n",
      "'value'\n",
      "'value'\n",
      "'value'\n",
      "'value'\n",
      "'value'\n",
      "'value'\n",
      "'value'\n",
      "'value'\n",
      "'value'\n",
      "'value'\n",
      "'value'\n"
     ]
    },
    {
     "name": "stderr",
     "output_type": "stream",
     "text": [
      "\r",
      " 15%|█▍        | 74/505 [06:20<36:04,  5.02s/it]"
     ]
    },
    {
     "name": "stdout",
     "output_type": "stream",
     "text": [
      "'value'\n",
      "'value'\n",
      "'value'\n",
      "'value'\n",
      "'value'\n",
      "'value'\n",
      "'value'\n",
      "'value'\n",
      "'value'\n",
      "'value'\n",
      "'value'\n",
      "'value'\n",
      "'value'\n",
      "'value'\n",
      "'value'\n",
      "'value'\n",
      "'value'\n",
      "'value'\n",
      "'value'\n",
      "'value'\n",
      "'value'\n",
      "'value'\n",
      "'value'\n",
      "'value'\n",
      "'value'\n",
      "'value'\n",
      "'value'\n",
      "'value'\n",
      "'value'\n",
      "'value'\n",
      "'value'\n"
     ]
    },
    {
     "name": "stderr",
     "output_type": "stream",
     "text": [
      "\r",
      " 15%|█▍        | 75/505 [06:25<36:15,  5.06s/it]"
     ]
    },
    {
     "name": "stdout",
     "output_type": "stream",
     "text": [
      "'value'\n",
      "'value'\n",
      "'value'\n",
      "'value'\n",
      "'value'\n",
      "'value'\n",
      "'value'\n",
      "'value'\n",
      "'value'\n",
      "'value'\n",
      "'value'\n",
      "'value'\n",
      "'value'\n",
      "'value'\n",
      "'value'\n",
      "'value'\n",
      "'value'\n",
      "'value'\n",
      "'value'\n",
      "'value'\n",
      "'value'\n",
      "'value'\n",
      "'value'\n",
      "'value'\n",
      "'value'\n",
      "'value'\n",
      "'value'\n",
      "'value'\n",
      "'value'\n",
      "'value'\n",
      "'value'\n",
      "'value'\n"
     ]
    },
    {
     "name": "stderr",
     "output_type": "stream",
     "text": [
      "\r",
      " 15%|█▌        | 76/505 [06:31<37:03,  5.18s/it]"
     ]
    },
    {
     "name": "stdout",
     "output_type": "stream",
     "text": [
      "'value'\n",
      "'value'\n",
      "'value'\n",
      "'value'\n",
      "'value'\n",
      "'value'\n",
      "'value'\n",
      "'value'\n",
      "'value'\n",
      "'value'\n",
      "'value'\n",
      "'value'\n",
      "'value'\n",
      "'value'\n",
      "'value'\n",
      "'value'\n",
      "'value'\n",
      "'value'\n",
      "'value'\n",
      "'value'\n",
      "'value'\n",
      "'value'\n",
      "'value'\n",
      "'value'\n",
      "'value'\n",
      "'value'\n",
      "'value'\n",
      "'value'\n",
      "'value'\n",
      "'value'\n",
      "'value'\n",
      "'value'\n",
      "'value'\n"
     ]
    },
    {
     "name": "stderr",
     "output_type": "stream",
     "text": [
      "\r",
      " 15%|█▌        | 77/505 [06:32<29:04,  4.08s/it]"
     ]
    },
    {
     "name": "stdout",
     "output_type": "stream",
     "text": [
      "'value'\n",
      "'value'\n",
      "'value'\n",
      "'value'\n",
      "'value'\n",
      "'value'\n",
      "'value'\n",
      "'value'\n",
      "'value'\n",
      "'value'\n",
      "'value'\n",
      "'value'\n",
      "'value'\n",
      "'value'\n",
      "'value'\n",
      "'value'\n",
      "'value'\n",
      "'value'\n",
      "'value'\n"
     ]
    },
    {
     "name": "stderr",
     "output_type": "stream",
     "text": [
      "\r",
      " 15%|█▌        | 78/505 [06:37<30:04,  4.23s/it]"
     ]
    },
    {
     "name": "stdout",
     "output_type": "stream",
     "text": [
      "'value'\n",
      "'value'\n",
      "'value'\n",
      "'value'\n",
      "'value'\n",
      "'value'\n",
      "'value'\n",
      "'value'\n",
      "'value'\n",
      "'value'\n",
      "'value'\n",
      "'value'\n",
      "'value'\n",
      "'value'\n",
      "'value'\n",
      "'value'\n",
      "'value'\n"
     ]
    },
    {
     "name": "stderr",
     "output_type": "stream",
     "text": [
      "\r",
      " 16%|█▌        | 79/505 [06:41<29:47,  4.20s/it]"
     ]
    },
    {
     "name": "stdout",
     "output_type": "stream",
     "text": [
      "'value'\n",
      "'value'\n",
      "'value'\n",
      "'value'\n",
      "'value'\n",
      "'value'\n",
      "'value'\n",
      "'value'\n",
      "'value'\n",
      "'value'\n",
      "'value'\n",
      "'value'\n"
     ]
    },
    {
     "name": "stderr",
     "output_type": "stream",
     "text": [
      "\r",
      " 16%|█▌        | 80/505 [06:46<30:20,  4.28s/it]"
     ]
    },
    {
     "name": "stdout",
     "output_type": "stream",
     "text": [
      "'value'\n",
      "'value'\n",
      "'value'\n",
      "'value'\n",
      "'value'\n",
      "'value'\n",
      "'value'\n",
      "'value'\n",
      "'value'\n",
      "'value'\n",
      "'value'\n",
      "'value'\n",
      "'value'\n",
      "'value'\n",
      "'value'\n"
     ]
    },
    {
     "name": "stderr",
     "output_type": "stream",
     "text": [
      "\r",
      " 16%|█▌        | 81/505 [06:51<31:42,  4.49s/it]"
     ]
    },
    {
     "name": "stdout",
     "output_type": "stream",
     "text": [
      "'value'\n",
      "'value'\n",
      "'value'\n",
      "'value'\n",
      "'value'\n",
      "'value'\n",
      "'value'\n",
      "'value'\n"
     ]
    },
    {
     "name": "stderr",
     "output_type": "stream",
     "text": [
      "\r",
      " 16%|█▌        | 82/505 [06:55<32:13,  4.57s/it]"
     ]
    },
    {
     "name": "stdout",
     "output_type": "stream",
     "text": [
      "'value'\n",
      "'value'\n",
      "'value'\n",
      "'value'\n",
      "'value'\n",
      "'value'\n",
      "'value'\n",
      "'value'\n",
      "'value'\n",
      "'value'\n",
      "'value'\n",
      "'value'\n",
      "'value'\n",
      "'value'\n",
      "'value'\n",
      "'value'\n",
      "'value'\n",
      "'value'\n",
      "'value'\n",
      "'value'\n",
      "'value'\n",
      "'value'\n",
      "'value'\n",
      "'value'\n",
      "'value'\n",
      "'value'\n",
      "'value'\n",
      "'value'\n",
      "'value'\n",
      "'value'\n",
      "'value'\n",
      "'value'\n",
      "'value'\n",
      "'value'\n",
      "'value'\n",
      "'value'\n"
     ]
    },
    {
     "name": "stderr",
     "output_type": "stream",
     "text": [
      "\r",
      " 16%|█▋        | 83/505 [06:58<28:23,  4.04s/it]"
     ]
    },
    {
     "name": "stdout",
     "output_type": "stream",
     "text": [
      "'value'\n",
      "'value'\n",
      "'value'\n",
      "'value'\n",
      "'value'\n",
      "'value'\n",
      "'value'\n",
      "'value'\n",
      "'value'\n",
      "'value'\n",
      "'value'\n",
      "'value'\n",
      "'value'\n",
      "'value'\n",
      "'value'\n",
      "'value'\n",
      "'value'\n",
      "'value'\n",
      "'value'\n"
     ]
    },
    {
     "name": "stderr",
     "output_type": "stream",
     "text": [
      "\r",
      " 17%|█▋        | 84/505 [07:03<31:01,  4.42s/it]"
     ]
    },
    {
     "name": "stdout",
     "output_type": "stream",
     "text": [
      "'value'\n",
      "'value'\n",
      "'value'\n",
      "'value'\n",
      "'value'\n",
      "'value'\n",
      "'value'\n",
      "'value'\n",
      "'value'\n",
      "'value'\n",
      "'value'\n",
      "'value'\n",
      "'value'\n",
      "'value'\n",
      "'value'\n",
      "'value'\n",
      "'value'\n",
      "'value'\n",
      "'value'\n",
      "'value'\n",
      "'value'\n",
      "'value'\n",
      "'value'\n",
      "'value'\n",
      "'value'\n",
      "'value'\n",
      "'value'\n",
      "'value'\n",
      "'value'\n",
      "'value'\n",
      "'value'\n",
      "'value'\n",
      "'value'\n",
      "'value'\n",
      "'value'\n",
      "'value'\n",
      "'value'\n",
      "'value'\n",
      "'value'\n",
      "'value'\n",
      "'value'\n",
      "'value'\n",
      "'value'\n",
      "'value'\n",
      "'value'\n",
      "'value'\n",
      "'value'\n",
      "'value'\n",
      "'value'\n",
      "'value'\n",
      "'value'\n",
      "'value'\n",
      "'value'\n",
      "'value'\n"
     ]
    },
    {
     "name": "stderr",
     "output_type": "stream",
     "text": [
      "\r",
      " 17%|█▋        | 85/505 [07:11<38:18,  5.47s/it]"
     ]
    },
    {
     "name": "stdout",
     "output_type": "stream",
     "text": [
      "'value'\n",
      "'value'\n",
      "'value'\n",
      "'value'\n",
      "'value'\n",
      "'value'\n",
      "'value'\n",
      "'value'\n",
      "'value'\n",
      "'value'\n",
      "'value'\n",
      "'value'\n",
      "'value'\n",
      "'value'\n",
      "'value'\n"
     ]
    },
    {
     "name": "stderr",
     "output_type": "stream",
     "text": [
      "\r",
      " 17%|█▋        | 86/505 [07:17<38:32,  5.52s/it]"
     ]
    },
    {
     "name": "stdout",
     "output_type": "stream",
     "text": [
      "'value'\n",
      "'value'\n",
      "'value'\n",
      "'value'\n",
      "'value'\n",
      "'value'\n",
      "'value'\n",
      "'value'\n",
      "'value'\n",
      "'value'\n",
      "'value'\n",
      "'value'\n"
     ]
    },
    {
     "name": "stderr",
     "output_type": "stream",
     "text": [
      "\r",
      " 17%|█▋        | 87/505 [07:22<36:38,  5.26s/it]"
     ]
    },
    {
     "name": "stdout",
     "output_type": "stream",
     "text": [
      "'value'\n",
      "'value'\n",
      "'value'\n",
      "'value'\n",
      "'value'\n",
      "'value'\n",
      "'value'\n",
      "'value'\n",
      "'value'\n",
      "'value'\n",
      "'value'\n",
      "'value'\n",
      "'value'\n",
      "'value'\n",
      "'value'\n",
      "'value'\n",
      "'value'\n",
      "'value'\n",
      "'value'\n",
      "'value'\n",
      "'value'\n",
      "'value'\n",
      "'value'\n",
      "'value'\n",
      "'value'\n",
      "'value'\n",
      "'value'\n",
      "'value'\n",
      "'value'\n",
      "'value'\n"
     ]
    },
    {
     "name": "stderr",
     "output_type": "stream",
     "text": [
      "\r",
      " 17%|█▋        | 88/505 [07:25<33:23,  4.80s/it]"
     ]
    },
    {
     "name": "stdout",
     "output_type": "stream",
     "text": [
      "'value'\n",
      "'value'\n",
      "'value'\n",
      "'value'\n",
      "'value'\n",
      "'value'\n",
      "'value'\n",
      "'value'\n",
      "'value'\n",
      "'value'\n",
      "'value'\n",
      "'value'\n",
      "'value'\n",
      "'value'\n",
      "'value'\n",
      "'value'\n",
      "'value'\n",
      "'value'\n",
      "'value'\n",
      "'value'\n"
     ]
    },
    {
     "name": "stderr",
     "output_type": "stream",
     "text": [
      "\r",
      " 18%|█▊        | 89/505 [07:26<24:20,  3.51s/it]"
     ]
    },
    {
     "name": "stdout",
     "output_type": "stream",
     "text": [
      "'value'\n",
      "'value'\n",
      "'value'\n",
      "'value'\n",
      "'value'\n",
      "'value'\n",
      "'value'\n",
      "'value'\n",
      "'value'\n",
      "'value'\n",
      "'value'\n",
      "'value'\n",
      "'value'\n",
      "'value'\n",
      "'value'\n",
      "'value'\n",
      "'value'\n",
      "'value'\n",
      "'value'\n",
      "'value'\n",
      "'value'\n",
      "'value'\n"
     ]
    },
    {
     "name": "stderr",
     "output_type": "stream",
     "text": [
      "\r",
      " 18%|█▊        | 90/505 [07:29<23:25,  3.39s/it]"
     ]
    },
    {
     "name": "stdout",
     "output_type": "stream",
     "text": [
      "'value'\n",
      "'value'\n",
      "'value'\n",
      "'value'\n",
      "'value'\n",
      "'value'\n",
      "'value'\n",
      "'value'\n",
      "'value'\n",
      "'value'\n",
      "'value'\n",
      "'value'\n",
      "'value'\n",
      "'value'\n",
      "'value'\n",
      "'value'\n",
      "'value'\n",
      "'value'\n",
      "'value'\n",
      "'value'\n",
      "'value'\n",
      "'value'\n",
      "'value'\n",
      "'value'\n",
      "'value'\n",
      "'value'\n",
      "'value'\n"
     ]
    },
    {
     "name": "stderr",
     "output_type": "stream",
     "text": [
      "\r",
      " 18%|█▊        | 91/505 [07:35<28:39,  4.15s/it]"
     ]
    },
    {
     "name": "stdout",
     "output_type": "stream",
     "text": [
      "'value'\n",
      "'value'\n",
      "'value'\n",
      "'value'\n",
      "'value'\n",
      "'value'\n",
      "'value'\n",
      "'value'\n",
      "'value'\n",
      "'value'\n",
      "'value'\n",
      "'value'\n",
      "'value'\n",
      "'value'\n",
      "'value'\n",
      "'value'\n",
      "'value'\n",
      "'value'\n",
      "'value'\n",
      "'value'\n",
      "'value'\n",
      "'value'\n",
      "'value'\n",
      "'value'\n"
     ]
    },
    {
     "name": "stderr",
     "output_type": "stream",
     "text": [
      "\r",
      " 18%|█▊        | 92/505 [07:40<29:47,  4.33s/it]"
     ]
    },
    {
     "name": "stdout",
     "output_type": "stream",
     "text": [
      "'value'\n",
      "'value'\n",
      "'value'\n",
      "'value'\n",
      "'value'\n",
      "'value'\n",
      "'value'\n",
      "'value'\n",
      "'value'\n",
      "'value'\n",
      "'value'\n",
      "'value'\n",
      "'value'\n",
      "'value'\n",
      "'value'\n",
      "'value'\n",
      "'value'\n",
      "'value'\n"
     ]
    },
    {
     "name": "stderr",
     "output_type": "stream",
     "text": [
      "\r",
      " 18%|█▊        | 93/505 [07:45<32:20,  4.71s/it]"
     ]
    },
    {
     "name": "stdout",
     "output_type": "stream",
     "text": [
      "'value'\n",
      "'value'\n",
      "'value'\n",
      "'value'\n",
      "'value'\n",
      "'value'\n",
      "'value'\n",
      "'value'\n",
      "'value'\n",
      "'value'\n",
      "'value'\n",
      "'value'\n",
      "'value'\n",
      "'value'\n",
      "'value'\n",
      "'value'\n"
     ]
    },
    {
     "name": "stderr",
     "output_type": "stream",
     "text": [
      "\r",
      " 19%|█▊        | 94/505 [07:51<33:24,  4.88s/it]"
     ]
    },
    {
     "name": "stdout",
     "output_type": "stream",
     "text": [
      "'value'\n",
      "'value'\n",
      "'value'\n",
      "'value'\n",
      "'value'\n",
      "'value'\n",
      "'value'\n",
      "'value'\n",
      "'value'\n",
      "'value'\n",
      "'value'\n",
      "'value'\n",
      "'value'\n",
      "'value'\n",
      "'value'\n",
      "'value'\n",
      "'value'\n",
      "'value'\n",
      "'value'\n",
      "'value'\n"
     ]
    },
    {
     "name": "stderr",
     "output_type": "stream",
     "text": [
      "\r",
      " 19%|█▉        | 95/505 [07:56<35:31,  5.20s/it]"
     ]
    },
    {
     "name": "stdout",
     "output_type": "stream",
     "text": [
      "'value'\n",
      "'value'\n",
      "'value'\n",
      "'value'\n",
      "'value'\n",
      "'value'\n",
      "'value'\n",
      "'value'\n",
      "'value'\n",
      "'value'\n",
      "'value'\n",
      "'value'\n",
      "'value'\n",
      "'value'\n",
      "'value'\n",
      "'value'\n",
      "'value'\n",
      "'value'\n",
      "'value'\n",
      "'value'\n",
      "'value'\n",
      "'value'\n",
      "'value'\n",
      "'value'\n",
      "'value'\n",
      "'value'\n",
      "'value'\n",
      "'value'\n",
      "'value'\n",
      "'value'\n",
      "'value'\n",
      "'value'\n",
      "'value'\n",
      "'value'\n",
      "'value'\n",
      "'value'\n"
     ]
    },
    {
     "name": "stderr",
     "output_type": "stream",
     "text": [
      "\r",
      " 19%|█▉        | 96/505 [08:01<34:23,  5.04s/it]"
     ]
    },
    {
     "name": "stdout",
     "output_type": "stream",
     "text": [
      "'value'\n",
      "'value'\n",
      "'value'\n",
      "'value'\n",
      "'value'\n",
      "'value'\n",
      "'value'\n",
      "'value'\n",
      "'value'\n",
      "'value'\n",
      "'value'\n",
      "'value'\n",
      "'value'\n",
      "'value'\n",
      "'value'\n",
      "'value'\n",
      "'value'\n",
      "'value'\n",
      "'value'\n",
      "'value'\n",
      "'value'\n",
      "'value'\n",
      "'value'\n",
      "'value'\n",
      "'value'\n",
      "'value'\n",
      "'value'\n",
      "'value'\n",
      "'value'\n",
      "'value'\n",
      "'value'\n",
      "'value'\n",
      "'value'\n",
      "'value'\n",
      "'value'\n",
      "'value'\n",
      "'value'\n",
      "'value'\n",
      "'value'\n",
      "'value'\n",
      "'value'\n"
     ]
    },
    {
     "name": "stderr",
     "output_type": "stream",
     "text": [
      "\r",
      " 19%|█▉        | 97/505 [08:07<35:59,  5.29s/it]"
     ]
    },
    {
     "name": "stdout",
     "output_type": "stream",
     "text": [
      "'value'\n",
      "'value'\n",
      "'value'\n",
      "'value'\n",
      "'value'\n",
      "'value'\n",
      "'value'\n",
      "'value'\n",
      "'value'\n",
      "'value'\n",
      "'value'\n",
      "'value'\n",
      "'value'\n",
      "'value'\n",
      "'value'\n",
      "'value'\n",
      "'value'\n",
      "'value'\n",
      "'value'\n",
      "'value'\n",
      "'value'\n"
     ]
    },
    {
     "name": "stderr",
     "output_type": "stream",
     "text": [
      "\r",
      " 19%|█▉        | 98/505 [08:12<35:26,  5.23s/it]"
     ]
    },
    {
     "name": "stdout",
     "output_type": "stream",
     "text": [
      "'value'\n",
      "'value'\n",
      "'value'\n",
      "'value'\n",
      "'value'\n",
      "'value'\n",
      "'value'\n",
      "'value'\n",
      "'value'\n",
      "'value'\n",
      "'value'\n",
      "'value'\n",
      "'value'\n",
      "'value'\n",
      "'value'\n",
      "'value'\n",
      "'value'\n",
      "'value'\n"
     ]
    },
    {
     "name": "stderr",
     "output_type": "stream",
     "text": [
      "\r",
      " 20%|█▉        | 99/505 [08:17<35:23,  5.23s/it]"
     ]
    },
    {
     "name": "stdout",
     "output_type": "stream",
     "text": [
      "'value'\n",
      "'value'\n",
      "'value'\n",
      "'value'\n",
      "'value'\n",
      "'value'\n",
      "'value'\n",
      "'value'\n",
      "'value'\n",
      "'value'\n",
      "'value'\n",
      "'value'\n",
      "'value'\n",
      "'value'\n",
      "'value'\n",
      "'value'\n",
      "'value'\n",
      "'value'\n",
      "'value'\n",
      "'value'\n",
      "'value'\n",
      "'value'\n"
     ]
    },
    {
     "name": "stderr",
     "output_type": "stream",
     "text": [
      "\r",
      " 20%|█▉        | 100/505 [08:23<36:54,  5.47s/it]"
     ]
    },
    {
     "name": "stdout",
     "output_type": "stream",
     "text": [
      "'value'\n",
      "'value'\n",
      "'value'\n",
      "'value'\n",
      "'value'\n",
      "'value'\n",
      "'value'\n",
      "'value'\n",
      "'value'\n",
      "'value'\n",
      "'value'\n",
      "'value'\n",
      "'value'\n",
      "'value'\n",
      "'value'\n",
      "'value'\n",
      "'value'\n",
      "'value'\n",
      "'value'\n",
      "'value'\n",
      "'value'\n",
      "'value'\n",
      "'value'\n",
      "'value'\n",
      "'value'\n",
      "'value'\n",
      "'value'\n",
      "'value'\n"
     ]
    },
    {
     "name": "stderr",
     "output_type": "stream",
     "text": [
      "\r",
      " 20%|██        | 101/505 [08:29<37:11,  5.52s/it]"
     ]
    },
    {
     "name": "stdout",
     "output_type": "stream",
     "text": [
      "'value'\n",
      "'value'\n",
      "'value'\n",
      "'value'\n",
      "'value'\n",
      "'value'\n",
      "'value'\n",
      "'value'\n",
      "'value'\n",
      "'value'\n",
      "'value'\n",
      "'value'\n",
      "'value'\n",
      "'value'\n",
      "'value'\n",
      "'value'\n"
     ]
    },
    {
     "name": "stderr",
     "output_type": "stream",
     "text": [
      "\r",
      " 20%|██        | 102/505 [08:37<41:29,  6.18s/it]"
     ]
    },
    {
     "name": "stdout",
     "output_type": "stream",
     "text": [
      "'value'\n",
      "'value'\n",
      "'value'\n",
      "'value'\n",
      "'value'\n",
      "'value'\n",
      "'value'\n",
      "'value'\n",
      "'value'\n",
      "'value'\n",
      "'value'\n",
      "'value'\n",
      "'value'\n",
      "'value'\n",
      "'value'\n",
      "'value'\n",
      "'value'\n",
      "'value'\n"
     ]
    },
    {
     "name": "stderr",
     "output_type": "stream",
     "text": [
      "\r",
      " 20%|██        | 103/505 [08:42<39:06,  5.84s/it]"
     ]
    },
    {
     "name": "stdout",
     "output_type": "stream",
     "text": [
      "'value'\n",
      "'value'\n",
      "'value'\n",
      "'value'\n",
      "'value'\n",
      "'value'\n",
      "'value'\n",
      "'value'\n",
      "'value'\n",
      "'value'\n",
      "'value'\n",
      "'value'\n",
      "'value'\n",
      "'value'\n",
      "'value'\n",
      "'value'\n",
      "'value'\n"
     ]
    },
    {
     "name": "stderr",
     "output_type": "stream",
     "text": [
      "\r",
      " 21%|██        | 104/505 [08:49<42:29,  6.36s/it]"
     ]
    },
    {
     "name": "stdout",
     "output_type": "stream",
     "text": [
      "'value'\n",
      "'value'\n",
      "'value'\n",
      "'value'\n",
      "'value'\n",
      "'value'\n",
      "'value'\n",
      "'value'\n",
      "'value'\n",
      "'value'\n",
      "'value'\n",
      "'value'\n",
      "'value'\n",
      "'value'\n",
      "'value'\n"
     ]
    },
    {
     "name": "stderr",
     "output_type": "stream",
     "text": [
      "\r",
      " 21%|██        | 105/505 [08:58<46:00,  6.90s/it]"
     ]
    },
    {
     "name": "stdout",
     "output_type": "stream",
     "text": [
      "'value'\n",
      "'value'\n",
      "'value'\n",
      "'value'\n",
      "'value'\n",
      "'value'\n",
      "'value'\n",
      "'value'\n",
      "'value'\n",
      "'value'\n",
      "'value'\n",
      "'value'\n",
      "'value'\n",
      "'value'\n",
      "'value'\n",
      "'value'\n",
      "'value'\n",
      "'value'\n",
      "'value'\n",
      "'value'\n",
      "'value'\n",
      "'value'\n",
      "'value'\n",
      "'value'\n",
      "'value'\n",
      "'value'\n",
      "'value'\n",
      "'value'\n",
      "'value'\n",
      "'value'\n"
     ]
    },
    {
     "name": "stderr",
     "output_type": "stream",
     "text": [
      "\r",
      " 21%|██        | 106/505 [08:59<34:24,  5.17s/it]"
     ]
    },
    {
     "name": "stdout",
     "output_type": "stream",
     "text": [
      "'value'\n",
      "'value'\n",
      "'value'\n",
      "'value'\n",
      "'value'\n",
      "'value'\n",
      "'value'\n",
      "'value'\n",
      "'value'\n",
      "'value'\n",
      "'value'\n",
      "'value'\n",
      "'value'\n",
      "'value'\n",
      "'value'\n",
      "'value'\n",
      "'value'\n",
      "'value'\n",
      "'value'\n",
      "'value'\n",
      "'value'\n",
      "'value'\n",
      "'value'\n",
      "'value'\n",
      "'value'\n",
      "'value'\n",
      "'value'\n",
      "'value'\n",
      "'value'\n",
      "'value'\n",
      "'value'\n"
     ]
    },
    {
     "name": "stderr",
     "output_type": "stream",
     "text": [
      "\r",
      " 21%|██        | 107/505 [09:04<34:29,  5.20s/it]"
     ]
    },
    {
     "name": "stdout",
     "output_type": "stream",
     "text": [
      "'value'\n",
      "'value'\n",
      "'value'\n",
      "'value'\n",
      "'value'\n",
      "'value'\n",
      "'value'\n",
      "'value'\n",
      "'value'\n",
      "'value'\n",
      "'value'\n"
     ]
    },
    {
     "name": "stderr",
     "output_type": "stream",
     "text": [
      "\r",
      " 21%|██▏       | 108/505 [09:10<35:50,  5.42s/it]"
     ]
    },
    {
     "name": "stdout",
     "output_type": "stream",
     "text": [
      "'value'\n",
      "'value'\n",
      "'value'\n",
      "'value'\n",
      "'value'\n",
      "'value'\n",
      "'value'\n",
      "'value'\n",
      "'value'\n",
      "'value'\n",
      "'value'\n",
      "'value'\n",
      "'value'\n",
      "'value'\n",
      "'value'\n",
      "'value'\n",
      "'value'\n",
      "'value'\n",
      "'value'\n"
     ]
    },
    {
     "name": "stderr",
     "output_type": "stream",
     "text": [
      "\r",
      " 22%|██▏       | 109/505 [09:18<40:46,  6.18s/it]"
     ]
    },
    {
     "name": "stdout",
     "output_type": "stream",
     "text": [
      "'value'\n",
      "'value'\n",
      "'value'\n",
      "'value'\n",
      "'value'\n",
      "'value'\n",
      "'value'\n",
      "'value'\n",
      "'value'\n",
      "'value'\n",
      "'value'\n",
      "'value'\n",
      "'value'\n",
      "'value'\n",
      "'value'\n",
      "'value'\n",
      "'value'\n",
      "'value'\n",
      "'value'\n",
      "'value'\n",
      "'value'\n",
      "'value'\n",
      "'value'\n",
      "'value'\n",
      "'value'\n",
      "'value'\n",
      "'value'\n",
      "'value'\n",
      "'value'\n",
      "'value'\n",
      "'value'\n",
      "'value'\n",
      "'value'\n",
      "'value'\n",
      "'value'\n",
      "'value'\n",
      "'value'\n",
      "'value'\n",
      "'value'\n",
      "'value'\n"
     ]
    },
    {
     "name": "stderr",
     "output_type": "stream",
     "text": [
      "\r",
      " 22%|██▏       | 110/505 [09:32<56:19,  8.56s/it]"
     ]
    },
    {
     "name": "stdout",
     "output_type": "stream",
     "text": [
      "'value'\n",
      "'value'\n",
      "'value'\n",
      "'value'\n",
      "'value'\n",
      "'value'\n",
      "'value'\n",
      "'value'\n",
      "'value'\n",
      "'value'\n",
      "'value'\n",
      "'value'\n",
      "'value'\n",
      "'value'\n",
      "'value'\n",
      "'value'\n",
      "'value'\n",
      "'value'\n",
      "'value'\n",
      "'value'\n",
      "'value'\n",
      "'value'\n",
      "'value'\n",
      "'value'\n",
      "'value'\n",
      "'value'\n",
      "'value'\n",
      "'value'\n",
      "'value'\n",
      "'value'\n",
      "'value'\n",
      "'value'\n"
     ]
    },
    {
     "name": "stderr",
     "output_type": "stream",
     "text": [
      "\r",
      " 22%|██▏       | 111/505 [09:38<52:05,  7.93s/it]"
     ]
    },
    {
     "name": "stdout",
     "output_type": "stream",
     "text": [
      "'value'\n",
      "'value'\n",
      "'value'\n",
      "'value'\n",
      "'value'\n",
      "'value'\n",
      "'value'\n",
      "'value'\n",
      "'value'\n",
      "'value'\n",
      "'value'\n",
      "'value'\n",
      "'value'\n",
      "'value'\n",
      "'value'\n",
      "'value'\n"
     ]
    },
    {
     "name": "stderr",
     "output_type": "stream",
     "text": [
      "\r",
      " 22%|██▏       | 112/505 [09:47<52:25,  8.00s/it]"
     ]
    },
    {
     "name": "stdout",
     "output_type": "stream",
     "text": [
      "'value'\n",
      "'value'\n",
      "'value'\n",
      "'value'\n",
      "'value'\n",
      "'value'\n",
      "'value'\n",
      "'value'\n",
      "'value'\n",
      "'value'\n",
      "'value'\n",
      "'value'\n",
      "'value'\n",
      "'value'\n"
     ]
    },
    {
     "name": "stderr",
     "output_type": "stream",
     "text": [
      "\r",
      " 22%|██▏       | 113/505 [09:53<49:17,  7.54s/it]"
     ]
    },
    {
     "name": "stdout",
     "output_type": "stream",
     "text": [
      "'value'\n",
      "'value'\n",
      "'value'\n",
      "'value'\n",
      "'value'\n",
      "'value'\n",
      "'value'\n",
      "'value'\n",
      "'value'\n",
      "'value'\n",
      "'value'\n",
      "'value'\n",
      "'value'\n",
      "'value'\n",
      "'value'\n",
      "'value'\n",
      "'value'\n"
     ]
    },
    {
     "name": "stderr",
     "output_type": "stream",
     "text": [
      "\r",
      " 23%|██▎       | 114/505 [10:01<50:58,  7.82s/it]"
     ]
    },
    {
     "name": "stdout",
     "output_type": "stream",
     "text": [
      "'value'\n",
      "'value'\n",
      "'value'\n",
      "'value'\n",
      "'value'\n",
      "'value'\n",
      "'value'\n",
      "'value'\n",
      "'value'\n",
      "'value'\n",
      "'value'\n",
      "'value'\n",
      "'value'\n",
      "'value'\n"
     ]
    },
    {
     "name": "stderr",
     "output_type": "stream",
     "text": [
      "\r",
      " 23%|██▎       | 115/505 [10:11<54:16,  8.35s/it]"
     ]
    },
    {
     "name": "stdout",
     "output_type": "stream",
     "text": [
      "'value'\n",
      "'value'\n",
      "'value'\n",
      "'value'\n",
      "'value'\n",
      "'value'\n",
      "'value'\n",
      "'value'\n",
      "'value'\n",
      "'value'\n",
      "'value'\n",
      "'value'\n",
      "'value'\n",
      "'value'\n",
      "'value'\n",
      "'value'\n",
      "'value'\n",
      "'value'\n",
      "'value'\n",
      "'value'\n",
      "'value'\n",
      "'value'\n",
      "'value'\n",
      "'value'\n",
      "'value'\n",
      "'value'\n"
     ]
    },
    {
     "name": "stderr",
     "output_type": "stream",
     "text": [
      "\r",
      " 23%|██▎       | 116/505 [10:21<58:04,  8.96s/it]"
     ]
    },
    {
     "name": "stdout",
     "output_type": "stream",
     "text": [
      "'value'\n",
      "'value'\n",
      "'value'\n",
      "'value'\n",
      "'value'\n",
      "'value'\n",
      "'value'\n",
      "'value'\n",
      "'value'\n",
      "'value'\n",
      "'value'\n"
     ]
    },
    {
     "name": "stderr",
     "output_type": "stream",
     "text": [
      "\r",
      " 23%|██▎       | 117/505 [10:30<56:22,  8.72s/it]"
     ]
    },
    {
     "name": "stdout",
     "output_type": "stream",
     "text": [
      "'value'\n",
      "'value'\n",
      "'value'\n",
      "'value'\n",
      "'value'\n",
      "'value'\n",
      "'value'\n",
      "'value'\n",
      "'value'\n"
     ]
    },
    {
     "name": "stderr",
     "output_type": "stream",
     "text": [
      "\r",
      " 23%|██▎       | 118/505 [10:38<55:40,  8.63s/it]"
     ]
    },
    {
     "name": "stdout",
     "output_type": "stream",
     "text": [
      "'value'\n",
      "'value'\n",
      "'value'\n",
      "'value'\n",
      "'value'\n",
      "'value'\n",
      "'value'\n",
      "'value'\n",
      "'value'\n",
      "'value'\n",
      "'value'\n",
      "'value'\n",
      "'value'\n",
      "'value'\n",
      "'value'\n",
      "'value'\n",
      "'value'\n",
      "'value'\n",
      "'value'\n",
      "'value'\n",
      "'value'\n",
      "'value'\n",
      "'value'\n",
      "'value'\n",
      "'value'\n"
     ]
    },
    {
     "name": "stderr",
     "output_type": "stream",
     "text": [
      "\r",
      " 24%|██▎       | 119/505 [10:49<1:00:33,  9.41s/it]"
     ]
    },
    {
     "name": "stdout",
     "output_type": "stream",
     "text": [
      "'value'\n",
      "'value'\n",
      "'value'\n",
      "'value'\n",
      "'value'\n",
      "'value'\n",
      "'value'\n",
      "'value'\n",
      "'value'\n",
      "'value'\n",
      "'value'\n",
      "'value'\n",
      "'value'\n"
     ]
    },
    {
     "name": "stderr",
     "output_type": "stream",
     "text": [
      "\r",
      " 24%|██▍       | 120/505 [10:58<59:09,  9.22s/it]  "
     ]
    },
    {
     "name": "stdout",
     "output_type": "stream",
     "text": [
      "'value'\n",
      "'value'\n",
      "'value'\n",
      "'value'\n",
      "'value'\n",
      "'value'\n",
      "'value'\n",
      "'value'\n",
      "'value'\n",
      "'value'\n",
      "'value'\n",
      "'value'\n",
      "'value'\n",
      "'value'\n",
      "'value'\n",
      "'value'\n",
      "'value'\n"
     ]
    },
    {
     "name": "stderr",
     "output_type": "stream",
     "text": [
      "\r",
      " 24%|██▍       | 121/505 [11:07<58:00,  9.06s/it]"
     ]
    },
    {
     "name": "stdout",
     "output_type": "stream",
     "text": [
      "'value'\n",
      "'value'\n",
      "'value'\n",
      "'value'\n",
      "'value'\n",
      "'value'\n",
      "'value'\n",
      "'value'\n",
      "'value'\n",
      "'value'\n",
      "'value'\n",
      "'value'\n",
      "'value'\n",
      "'value'\n",
      "'value'\n",
      "'value'\n",
      "'value'\n",
      "'value'\n",
      "'value'\n",
      "'value'\n"
     ]
    },
    {
     "name": "stderr",
     "output_type": "stream",
     "text": [
      "\r",
      " 24%|██▍       | 122/505 [11:14<54:57,  8.61s/it]"
     ]
    },
    {
     "name": "stdout",
     "output_type": "stream",
     "text": [
      "'value'\n",
      "'value'\n",
      "'value'\n",
      "'value'\n",
      "'value'\n",
      "'value'\n",
      "'value'\n",
      "'value'\n",
      "'value'\n",
      "'value'\n",
      "'value'\n",
      "'value'\n",
      "'value'\n",
      "'value'\n",
      "'value'\n",
      "'value'\n"
     ]
    },
    {
     "name": "stderr",
     "output_type": "stream",
     "text": [
      "\r",
      " 24%|██▍       | 123/505 [11:22<53:53,  8.47s/it]"
     ]
    },
    {
     "name": "stdout",
     "output_type": "stream",
     "text": [
      "'value'\n",
      "'value'\n",
      "'value'\n",
      "'value'\n",
      "'value'\n",
      "'value'\n",
      "'value'\n",
      "'value'\n",
      "'value'\n",
      "'value'\n",
      "'value'\n",
      "'value'\n",
      "'value'\n",
      "'value'\n",
      "'value'\n",
      "'value'\n",
      "'value'\n",
      "'value'\n",
      "'value'\n",
      "'value'\n",
      "'value'\n",
      "'value'\n",
      "'value'\n",
      "'value'\n",
      "'value'\n",
      "'value'\n",
      "'value'\n",
      "'value'\n",
      "'value'\n",
      "'value'\n",
      "'value'\n",
      "'value'\n",
      "'value'\n",
      "'value'\n",
      "'value'\n"
     ]
    },
    {
     "name": "stderr",
     "output_type": "stream",
     "text": [
      "\r",
      " 25%|██▍       | 124/505 [11:33<57:38,  9.08s/it]"
     ]
    },
    {
     "name": "stdout",
     "output_type": "stream",
     "text": [
      "'value'\n",
      "'value'\n",
      "'value'\n",
      "'value'\n",
      "'value'\n",
      "'value'\n",
      "'value'\n",
      "'value'\n",
      "'value'\n",
      "'value'\n",
      "'value'\n",
      "'value'\n",
      "'value'\n",
      "'value'\n",
      "'value'\n",
      "'value'\n",
      "'value'\n",
      "'value'\n",
      "'value'\n",
      "'value'\n"
     ]
    },
    {
     "name": "stderr",
     "output_type": "stream",
     "text": [
      "\r",
      " 25%|██▍       | 125/505 [11:40<53:28,  8.44s/it]"
     ]
    },
    {
     "name": "stdout",
     "output_type": "stream",
     "text": [
      "'value'\n",
      "'value'\n",
      "'value'\n",
      "'value'\n",
      "'value'\n",
      "'value'\n",
      "'value'\n",
      "'value'\n",
      "'value'\n",
      "'value'\n"
     ]
    },
    {
     "name": "stderr",
     "output_type": "stream",
     "text": [
      "\r",
      " 25%|██▍       | 126/505 [11:47<49:56,  7.91s/it]"
     ]
    },
    {
     "name": "stdout",
     "output_type": "stream",
     "text": [
      "'value'\n",
      "'value'\n",
      "'value'\n",
      "'value'\n",
      "'value'\n",
      "'value'\n",
      "'value'\n",
      "'value'\n",
      "'value'\n",
      "'value'\n",
      "'value'\n",
      "'value'\n",
      "'value'\n",
      "'value'\n",
      "'value'\n",
      "'value'\n"
     ]
    },
    {
     "name": "stderr",
     "output_type": "stream",
     "text": [
      "\r",
      " 25%|██▌       | 127/505 [11:57<54:22,  8.63s/it]"
     ]
    },
    {
     "name": "stdout",
     "output_type": "stream",
     "text": [
      "'value'\n",
      "'value'\n",
      "'value'\n",
      "'value'\n",
      "'value'\n",
      "'value'\n",
      "'value'\n",
      "'value'\n",
      "'value'\n",
      "'value'\n",
      "'value'\n"
     ]
    },
    {
     "name": "stderr",
     "output_type": "stream",
     "text": [
      "\r",
      " 25%|██▌       | 128/505 [11:58<40:49,  6.50s/it]"
     ]
    },
    {
     "name": "stdout",
     "output_type": "stream",
     "text": [
      "'value'\n",
      "'value'\n",
      "'value'\n",
      "'value'\n",
      "'value'\n",
      "'value'\n",
      "'value'\n",
      "'value'\n",
      "'value'\n",
      "'value'\n",
      "'value'\n",
      "'value'\n",
      "'value'\n",
      "'value'\n",
      "'value'\n",
      "'value'\n",
      "'value'\n",
      "'value'\n",
      "'value'\n",
      "'value'\n",
      "'value'\n"
     ]
    },
    {
     "name": "stderr",
     "output_type": "stream",
     "text": [
      "\r",
      " 26%|██▌       | 129/505 [12:08<45:53,  7.32s/it]"
     ]
    },
    {
     "name": "stdout",
     "output_type": "stream",
     "text": [
      "'value'\n",
      "'value'\n",
      "'value'\n",
      "'value'\n",
      "'value'\n",
      "'value'\n",
      "'value'\n",
      "'value'\n",
      "'value'\n",
      "'value'\n",
      "'value'\n",
      "'value'\n",
      "'value'\n",
      "'value'\n",
      "'value'\n",
      "'value'\n",
      "'value'\n",
      "'value'\n",
      "'value'\n",
      "'value'\n",
      "'value'\n",
      "'value'\n",
      "'value'\n"
     ]
    },
    {
     "name": "stderr",
     "output_type": "stream",
     "text": [
      "\r",
      " 26%|██▌       | 130/505 [12:19<52:50,  8.46s/it]"
     ]
    },
    {
     "name": "stdout",
     "output_type": "stream",
     "text": [
      "'value'\n",
      "'value'\n",
      "'value'\n",
      "'value'\n",
      "'value'\n",
      "'value'\n",
      "'value'\n",
      "'value'\n",
      "'value'\n",
      "'value'\n",
      "'value'\n",
      "'value'\n",
      "'value'\n",
      "'value'\n",
      "'value'\n",
      "'value'\n",
      "'value'\n",
      "'value'\n",
      "'value'\n",
      "'value'\n",
      "'value'\n",
      "'value'\n",
      "'value'\n",
      "'value'\n"
     ]
    },
    {
     "name": "stderr",
     "output_type": "stream",
     "text": [
      "\r",
      " 26%|██▌       | 131/505 [12:28<54:55,  8.81s/it]"
     ]
    },
    {
     "name": "stdout",
     "output_type": "stream",
     "text": [
      "'value'\n",
      "'value'\n",
      "'value'\n",
      "'value'\n",
      "'value'\n",
      "'value'\n",
      "'value'\n",
      "'value'\n",
      "'value'\n",
      "'value'\n",
      "'value'\n",
      "'value'\n",
      "'value'\n",
      "'value'\n",
      "'value'\n",
      "'value'\n",
      "'value'\n",
      "'value'\n",
      "'value'\n",
      "'value'\n",
      "'value'\n"
     ]
    },
    {
     "name": "stderr",
     "output_type": "stream",
     "text": [
      "\r",
      " 26%|██▌       | 132/505 [12:39<58:39,  9.43s/it]"
     ]
    },
    {
     "name": "stdout",
     "output_type": "stream",
     "text": [
      "'value'\n",
      "'value'\n",
      "'value'\n",
      "'value'\n",
      "'value'\n",
      "'value'\n",
      "'value'\n",
      "'value'\n",
      "'value'\n",
      "'value'\n",
      "'value'\n",
      "'value'\n",
      "'value'\n",
      "'value'\n",
      "'value'\n",
      "'value'\n",
      "'value'\n",
      "'value'\n",
      "'value'\n",
      "'value'\n",
      "'value'\n",
      "'value'\n"
     ]
    },
    {
     "name": "stderr",
     "output_type": "stream",
     "text": [
      "\r",
      " 26%|██▋       | 133/505 [12:46<53:33,  8.64s/it]"
     ]
    },
    {
     "name": "stdout",
     "output_type": "stream",
     "text": [
      "'value'\n",
      "'value'\n",
      "'value'\n",
      "'value'\n",
      "'value'\n",
      "'value'\n",
      "'value'\n",
      "'value'\n",
      "'value'\n",
      "'value'\n",
      "'value'\n",
      "'value'\n",
      "'value'\n",
      "'value'\n",
      "'value'\n",
      "'value'\n",
      "'value'\n",
      "'value'\n",
      "'value'\n",
      "'value'\n",
      "'value'\n",
      "'value'\n",
      "'value'\n",
      "'value'\n",
      "'value'\n",
      "'value'\n",
      "'value'\n",
      "'value'\n",
      "'value'\n",
      "'value'\n",
      "'value'\n",
      "'value'\n"
     ]
    },
    {
     "name": "stderr",
     "output_type": "stream",
     "text": [
      "\r",
      " 27%|██▋       | 134/505 [12:53<50:33,  8.18s/it]"
     ]
    },
    {
     "name": "stdout",
     "output_type": "stream",
     "text": [
      "'value'\n",
      "'value'\n",
      "'value'\n",
      "'value'\n",
      "'value'\n",
      "'value'\n",
      "'value'\n",
      "'value'\n",
      "'value'\n",
      "'value'\n",
      "'value'\n",
      "'value'\n",
      "'value'\n",
      "'value'\n",
      "'value'\n",
      "'value'\n",
      "'value'\n",
      "'value'\n",
      "'value'\n",
      "'value'\n",
      "'value'\n",
      "'value'\n",
      "'value'\n",
      "'value'\n",
      "'value'\n",
      "'value'\n",
      "'value'\n"
     ]
    },
    {
     "name": "stderr",
     "output_type": "stream",
     "text": [
      "\r",
      " 27%|██▋       | 135/505 [13:05<57:23,  9.31s/it]"
     ]
    },
    {
     "name": "stdout",
     "output_type": "stream",
     "text": [
      "'value'\n",
      "'value'\n",
      "'value'\n",
      "'value'\n",
      "'value'\n",
      "'value'\n",
      "'value'\n",
      "'value'\n",
      "'value'\n",
      "'value'\n",
      "'value'\n",
      "'value'\n"
     ]
    },
    {
     "name": "stderr",
     "output_type": "stream",
     "text": [
      "\r",
      " 27%|██▋       | 136/505 [13:14<56:28,  9.18s/it]"
     ]
    },
    {
     "name": "stdout",
     "output_type": "stream",
     "text": [
      "'value'\n",
      "'value'\n",
      "'value'\n",
      "'value'\n",
      "'value'\n",
      "'value'\n",
      "'value'\n",
      "'value'\n",
      "'value'\n",
      "'value'\n",
      "'value'\n",
      "'value'\n",
      "'value'\n",
      "'value'\n",
      "'value'\n",
      "'value'\n",
      "'value'\n",
      "'value'\n",
      "'value'\n",
      "'value'\n",
      "'value'\n",
      "'value'\n",
      "'value'\n",
      "'value'\n",
      "'value'\n",
      "'value'\n",
      "'value'\n"
     ]
    },
    {
     "name": "stderr",
     "output_type": "stream",
     "text": [
      "\r",
      " 27%|██▋       | 137/505 [13:23<56:32,  9.22s/it]"
     ]
    },
    {
     "name": "stdout",
     "output_type": "stream",
     "text": [
      "'value'\n",
      "'value'\n",
      "'value'\n",
      "'value'\n",
      "'value'\n",
      "'value'\n",
      "'value'\n",
      "'value'\n",
      "'value'\n",
      "'value'\n",
      "'value'\n",
      "'value'\n",
      "'value'\n",
      "'value'\n",
      "'value'\n",
      "'value'\n",
      "'value'\n",
      "'value'\n",
      "'value'\n",
      "'value'\n",
      "'value'\n",
      "'value'\n",
      "'value'\n",
      "'value'\n",
      "'value'\n",
      "'value'\n"
     ]
    },
    {
     "name": "stderr",
     "output_type": "stream",
     "text": [
      "\r",
      " 27%|██▋       | 138/505 [13:32<56:08,  9.18s/it]"
     ]
    },
    {
     "name": "stdout",
     "output_type": "stream",
     "text": [
      "'value'\n",
      "'value'\n",
      "'value'\n",
      "'value'\n",
      "'value'\n",
      "'value'\n",
      "'value'\n",
      "'value'\n",
      "'value'\n",
      "'value'\n",
      "'value'\n",
      "'value'\n",
      "'value'\n",
      "'value'\n",
      "'value'\n",
      "'value'\n",
      "'value'\n",
      "'value'\n",
      "'value'\n",
      "'value'\n",
      "'value'\n",
      "'value'\n",
      "'value'\n",
      "'value'\n",
      "'value'\n",
      "'value'\n"
     ]
    },
    {
     "name": "stderr",
     "output_type": "stream",
     "text": [
      "\r",
      " 28%|██▊       | 139/505 [13:38<49:04,  8.04s/it]"
     ]
    },
    {
     "name": "stdout",
     "output_type": "stream",
     "text": [
      "'value'\n",
      "'value'\n",
      "'value'\n",
      "'value'\n",
      "'value'\n",
      "'value'\n",
      "'value'\n",
      "'value'\n",
      "'value'\n",
      "'value'\n",
      "'value'\n",
      "'value'\n",
      "'value'\n",
      "'value'\n",
      "'value'\n",
      "'value'\n",
      "'value'\n",
      "'value'\n",
      "'value'\n",
      "'value'\n",
      "'value'\n",
      "'value'\n"
     ]
    },
    {
     "name": "stderr",
     "output_type": "stream",
     "text": [
      "\r",
      " 28%|██▊       | 140/505 [13:46<48:40,  8.00s/it]"
     ]
    },
    {
     "name": "stdout",
     "output_type": "stream",
     "text": [
      "'value'\n",
      "'value'\n",
      "'value'\n",
      "'value'\n",
      "'value'\n",
      "'value'\n",
      "'value'\n",
      "'value'\n",
      "'value'\n",
      "'value'\n",
      "'value'\n",
      "'value'\n",
      "'value'\n"
     ]
    },
    {
     "name": "stderr",
     "output_type": "stream",
     "text": [
      "\r",
      " 28%|██▊       | 141/505 [13:53<48:04,  7.92s/it]"
     ]
    },
    {
     "name": "stdout",
     "output_type": "stream",
     "text": [
      "'value'\n",
      "'value'\n",
      "'value'\n",
      "'value'\n",
      "'value'\n",
      "'value'\n",
      "'value'\n",
      "'value'\n",
      "'value'\n",
      "'value'\n",
      "'value'\n",
      "'value'\n",
      "'value'\n",
      "'value'\n",
      "'value'\n",
      "'value'\n",
      "'value'\n",
      "'value'\n",
      "'value'\n",
      "'value'\n",
      "'value'\n",
      "'value'\n"
     ]
    },
    {
     "name": "stderr",
     "output_type": "stream",
     "text": [
      "\r",
      " 28%|██▊       | 142/505 [14:01<46:38,  7.71s/it]"
     ]
    },
    {
     "name": "stdout",
     "output_type": "stream",
     "text": [
      "'value'\n",
      "'value'\n",
      "'value'\n",
      "'value'\n",
      "'value'\n",
      "'value'\n",
      "'value'\n",
      "'value'\n",
      "'value'\n",
      "'value'\n",
      "'value'\n",
      "'value'\n",
      "'value'\n",
      "'value'\n",
      "'value'\n",
      "'value'\n",
      "'value'\n",
      "'value'\n",
      "'value'\n",
      "'value'\n"
     ]
    },
    {
     "name": "stderr",
     "output_type": "stream",
     "text": [
      "\r",
      " 28%|██▊       | 143/505 [14:07<43:46,  7.26s/it]"
     ]
    },
    {
     "name": "stdout",
     "output_type": "stream",
     "text": [
      "'value'\n",
      "'value'\n",
      "'value'\n",
      "'value'\n",
      "'value'\n",
      "'value'\n",
      "'value'\n",
      "'value'\n",
      "'value'\n",
      "'value'\n",
      "'value'\n",
      "'value'\n",
      "'value'\n",
      "'value'\n",
      "'value'\n",
      "'value'\n",
      "'value'\n",
      "'value'\n",
      "'value'\n",
      "'value'\n",
      "'value'\n",
      "'value'\n",
      "'value'\n",
      "'value'\n",
      "'value'\n",
      "'value'\n",
      "'value'\n",
      "'value'\n",
      "'value'\n",
      "'value'\n",
      "'value'\n",
      "'value'\n",
      "'value'\n",
      "'value'\n",
      "'value'\n",
      "'value'\n",
      "'value'\n",
      "'value'\n",
      "'value'\n",
      "'value'\n",
      "'value'\n",
      "'value'\n",
      "'value'\n",
      "'value'\n",
      "'value'\n",
      "'value'\n"
     ]
    },
    {
     "name": "stderr",
     "output_type": "stream",
     "text": [
      "\r",
      " 29%|██▊       | 144/505 [14:15<45:20,  7.54s/it]"
     ]
    },
    {
     "name": "stdout",
     "output_type": "stream",
     "text": [
      "'value'\n",
      "'value'\n",
      "'value'\n",
      "'value'\n",
      "'value'\n",
      "'value'\n",
      "'value'\n",
      "'value'\n",
      "'value'\n",
      "'value'\n",
      "'value'\n",
      "'value'\n",
      "'value'\n",
      "'value'\n",
      "'value'\n",
      "'value'\n",
      "'value'\n",
      "'value'\n",
      "'value'\n",
      "'value'\n",
      "'value'\n",
      "'value'\n"
     ]
    },
    {
     "name": "stderr",
     "output_type": "stream",
     "text": [
      "\r",
      " 29%|██▊       | 145/505 [14:22<44:26,  7.41s/it]"
     ]
    },
    {
     "name": "stdout",
     "output_type": "stream",
     "text": [
      "'value'\n",
      "'value'\n",
      "'value'\n",
      "'value'\n",
      "'value'\n",
      "'value'\n",
      "'value'\n",
      "'value'\n",
      "'value'\n",
      "'value'\n",
      "'value'\n",
      "'value'\n",
      "'value'\n",
      "'value'\n",
      "'value'\n",
      "'value'\n",
      "'value'\n",
      "'value'\n",
      "'value'\n",
      "'value'\n",
      "'value'\n",
      "'value'\n",
      "'value'\n",
      "'value'\n",
      "'value'\n",
      "'value'\n",
      "'value'\n",
      "'value'\n"
     ]
    },
    {
     "name": "stderr",
     "output_type": "stream",
     "text": [
      "\r",
      " 29%|██▉       | 146/505 [14:31<46:25,  7.76s/it]"
     ]
    },
    {
     "name": "stdout",
     "output_type": "stream",
     "text": [
      "'value'\n",
      "'value'\n",
      "'value'\n",
      "'value'\n",
      "'value'\n",
      "'value'\n",
      "'value'\n",
      "'value'\n",
      "'value'\n",
      "'value'\n",
      "'value'\n",
      "'value'\n",
      "'value'\n",
      "'value'\n",
      "'value'\n",
      "'value'\n",
      "'value'\n",
      "'value'\n",
      "'value'\n",
      "'value'\n",
      "'value'\n",
      "'value'\n",
      "'value'\n",
      "'value'\n"
     ]
    },
    {
     "name": "stderr",
     "output_type": "stream",
     "text": [
      "\r",
      " 29%|██▉       | 147/505 [14:35<39:52,  6.68s/it]"
     ]
    },
    {
     "name": "stdout",
     "output_type": "stream",
     "text": [
      "'value'\n",
      "'value'\n",
      "'value'\n",
      "'value'\n",
      "'value'\n",
      "'value'\n",
      "'value'\n",
      "'value'\n",
      "'value'\n",
      "'value'\n",
      "'value'\n",
      "'value'\n",
      "'value'\n",
      "'value'\n",
      "'value'\n",
      "'value'\n"
     ]
    },
    {
     "name": "stderr",
     "output_type": "stream",
     "text": [
      "\r",
      " 29%|██▉       | 148/505 [14:42<40:49,  6.86s/it]"
     ]
    },
    {
     "name": "stdout",
     "output_type": "stream",
     "text": [
      "'value'\n",
      "'value'\n",
      "'value'\n",
      "'value'\n",
      "'value'\n",
      "'value'\n",
      "'value'\n",
      "'value'\n",
      "'value'\n",
      "'value'\n",
      "'value'\n",
      "'value'\n"
     ]
    },
    {
     "name": "stderr",
     "output_type": "stream",
     "text": [
      "\r",
      " 30%|██▉       | 149/505 [14:46<36:13,  6.10s/it]"
     ]
    },
    {
     "name": "stdout",
     "output_type": "stream",
     "text": [
      "'value'\n",
      "'value'\n",
      "'value'\n",
      "'value'\n",
      "'value'\n",
      "'value'\n",
      "'value'\n",
      "'value'\n",
      "'value'\n",
      "'value'\n",
      "'value'\n",
      "'value'\n",
      "'value'\n",
      "'value'\n",
      "'value'\n",
      "'value'\n",
      "'value'\n",
      "'value'\n",
      "'value'\n",
      "'value'\n",
      "'value'\n",
      "'value'\n",
      "'value'\n",
      "'value'\n",
      "'value'\n",
      "'value'\n",
      "'value'\n",
      "'value'\n",
      "'value'\n",
      "'value'\n",
      "'value'\n",
      "'value'\n",
      "'value'\n",
      "'value'\n",
      "'value'\n",
      "'value'\n",
      "'value'\n",
      "'value'\n"
     ]
    },
    {
     "name": "stderr",
     "output_type": "stream",
     "text": [
      "\r",
      " 30%|██▉       | 150/505 [14:51<33:04,  5.59s/it]"
     ]
    },
    {
     "name": "stdout",
     "output_type": "stream",
     "text": [
      "'value'\n",
      "'value'\n",
      "'value'\n",
      "'value'\n",
      "'value'\n",
      "'value'\n",
      "'value'\n",
      "'value'\n",
      "'value'\n",
      "'value'\n",
      "'value'\n",
      "'value'\n",
      "'value'\n",
      "'value'\n",
      "'value'\n",
      "'value'\n",
      "'value'\n",
      "'value'\n",
      "'value'\n",
      "'value'\n",
      "'value'\n",
      "'value'\n",
      "'value'\n",
      "'value'\n",
      "'value'\n",
      "'value'\n",
      "'value'\n",
      "'value'\n",
      "'value'\n",
      "'value'\n",
      "'value'\n",
      "'value'\n",
      "'value'\n",
      "'value'\n",
      "'value'\n",
      "'value'\n",
      "'value'\n",
      "'value'\n",
      "'value'\n"
     ]
    },
    {
     "name": "stderr",
     "output_type": "stream",
     "text": [
      "\r",
      " 30%|██▉       | 151/505 [14:59<36:57,  6.26s/it]"
     ]
    },
    {
     "name": "stdout",
     "output_type": "stream",
     "text": [
      "'value'\n",
      "'value'\n",
      "'value'\n",
      "'value'\n",
      "'value'\n",
      "'value'\n",
      "'value'\n",
      "'value'\n",
      "'value'\n",
      "'value'\n",
      "'value'\n",
      "'value'\n",
      "'value'\n",
      "'value'\n",
      "'value'\n"
     ]
    },
    {
     "name": "stderr",
     "output_type": "stream",
     "text": [
      "\r",
      " 30%|███       | 152/505 [15:04<35:01,  5.95s/it]"
     ]
    },
    {
     "name": "stdout",
     "output_type": "stream",
     "text": [
      "'value'\n",
      "'value'\n",
      "'value'\n",
      "'value'\n",
      "'value'\n",
      "'value'\n",
      "'value'\n",
      "'value'\n",
      "'value'\n",
      "'value'\n",
      "'value'\n",
      "'value'\n",
      "'value'\n",
      "'value'\n",
      "'value'\n",
      "'value'\n",
      "'value'\n",
      "'value'\n",
      "'value'\n",
      "'value'\n",
      "'value'\n",
      "'value'\n"
     ]
    },
    {
     "name": "stderr",
     "output_type": "stream",
     "text": [
      "\r",
      " 30%|███       | 153/505 [15:11<36:48,  6.28s/it]"
     ]
    },
    {
     "name": "stdout",
     "output_type": "stream",
     "text": [
      "'value'\n",
      "'value'\n",
      "'value'\n",
      "'value'\n",
      "'value'\n",
      "'value'\n",
      "'value'\n",
      "'value'\n",
      "'value'\n",
      "'value'\n",
      "'value'\n",
      "'value'\n",
      "'value'\n",
      "'value'\n",
      "'value'\n",
      "'value'\n",
      "'value'\n"
     ]
    },
    {
     "name": "stderr",
     "output_type": "stream",
     "text": [
      "\r",
      " 30%|███       | 154/505 [15:12<28:03,  4.80s/it]"
     ]
    },
    {
     "name": "stdout",
     "output_type": "stream",
     "text": [
      "'value'\n",
      "'value'\n",
      "'value'\n",
      "'value'\n",
      "'value'\n",
      "'value'\n",
      "'value'\n",
      "'value'\n",
      "'value'\n",
      "'value'\n",
      "'value'\n",
      "'value'\n",
      "'value'\n",
      "'value'\n",
      "'value'\n",
      "'value'\n",
      "'value'\n",
      "'value'\n",
      "'value'\n",
      "'value'\n",
      "'value'\n",
      "'value'\n",
      "'value'\n",
      "'value'\n",
      "'value'\n",
      "'value'\n",
      "'value'\n",
      "'value'\n",
      "'value'\n",
      "'value'\n",
      "'value'\n",
      "'value'\n",
      "'value'\n"
     ]
    },
    {
     "name": "stderr",
     "output_type": "stream",
     "text": [
      "\r",
      " 31%|███       | 155/505 [15:19<31:43,  5.44s/it]"
     ]
    },
    {
     "name": "stdout",
     "output_type": "stream",
     "text": [
      "'value'\n",
      "'value'\n",
      "'value'\n",
      "'value'\n",
      "'value'\n",
      "'value'\n",
      "'value'\n",
      "'value'\n",
      "'value'\n",
      "'value'\n",
      "'value'\n",
      "'value'\n",
      "'value'\n",
      "'value'\n",
      "'value'\n",
      "'value'\n",
      "'value'\n",
      "'value'\n",
      "'value'\n",
      "'value'\n",
      "'value'\n",
      "'value'\n",
      "'value'\n",
      "'value'\n",
      "'value'\n",
      "'value'\n",
      "'value'\n",
      "'value'\n",
      "'value'\n",
      "'value'\n",
      "'value'\n",
      "'value'\n",
      "'value'\n",
      "'value'\n",
      "'value'\n",
      "'value'\n",
      "'value'\n",
      "'value'\n",
      "'value'\n",
      "'value'\n",
      "'value'\n"
     ]
    },
    {
     "name": "stderr",
     "output_type": "stream",
     "text": [
      "\r",
      " 31%|███       | 156/505 [15:28<37:24,  6.43s/it]"
     ]
    },
    {
     "name": "stdout",
     "output_type": "stream",
     "text": [
      "'value'\n",
      "'value'\n",
      "'value'\n",
      "'value'\n",
      "'value'\n",
      "'value'\n",
      "'value'\n",
      "'value'\n",
      "'value'\n",
      "'value'\n",
      "'value'\n",
      "'value'\n",
      "'value'\n",
      "'value'\n",
      "'value'\n",
      "'value'\n",
      "'value'\n",
      "'value'\n",
      "'value'\n",
      "'value'\n",
      "'value'\n",
      "'value'\n",
      "'value'\n",
      "'value'\n"
     ]
    },
    {
     "name": "stderr",
     "output_type": "stream",
     "text": [
      "\r",
      " 31%|███       | 157/505 [15:33<35:43,  6.16s/it]"
     ]
    },
    {
     "name": "stdout",
     "output_type": "stream",
     "text": [
      "'value'\n",
      "'value'\n",
      "'value'\n",
      "'value'\n",
      "'value'\n",
      "'value'\n",
      "'value'\n",
      "'value'\n",
      "'value'\n",
      "'value'\n",
      "'value'\n",
      "'value'\n",
      "'value'\n",
      "'value'\n",
      "'value'\n",
      "'value'\n",
      "'value'\n",
      "'value'\n"
     ]
    },
    {
     "name": "stderr",
     "output_type": "stream",
     "text": [
      "\r",
      " 31%|███▏      | 158/505 [15:36<28:38,  4.95s/it]"
     ]
    },
    {
     "name": "stdout",
     "output_type": "stream",
     "text": [
      "'value'\n",
      "'value'\n",
      "'value'\n",
      "'value'\n",
      "'value'\n",
      "'value'\n",
      "'value'\n",
      "'value'\n",
      "'value'\n",
      "'value'\n",
      "'value'\n",
      "'value'\n",
      "'value'\n",
      "'value'\n",
      "'value'\n",
      "'value'\n",
      "'value'\n",
      "'value'\n",
      "'value'\n",
      "'value'\n",
      "'value'\n",
      "'value'\n",
      "'value'\n",
      "'value'\n"
     ]
    },
    {
     "name": "stderr",
     "output_type": "stream",
     "text": [
      "\r",
      " 31%|███▏      | 159/505 [15:38<24:52,  4.31s/it]"
     ]
    },
    {
     "name": "stdout",
     "output_type": "stream",
     "text": [
      "'value'\n",
      "'value'\n",
      "'value'\n",
      "'value'\n",
      "'value'\n",
      "'value'\n",
      "'value'\n",
      "'value'\n",
      "'value'\n",
      "'value'\n",
      "'value'\n",
      "'value'\n",
      "'value'\n",
      "'value'\n",
      "'value'\n"
     ]
    },
    {
     "name": "stderr",
     "output_type": "stream",
     "text": [
      "\r",
      " 32%|███▏      | 160/505 [15:46<30:23,  5.29s/it]"
     ]
    },
    {
     "name": "stdout",
     "output_type": "stream",
     "text": [
      "'value'\n",
      "'value'\n",
      "'value'\n",
      "'value'\n",
      "'value'\n",
      "'value'\n",
      "'value'\n",
      "'value'\n",
      "'value'\n",
      "'value'\n",
      "'value'\n",
      "'value'\n",
      "'value'\n"
     ]
    },
    {
     "name": "stderr",
     "output_type": "stream",
     "text": [
      "\r",
      " 32%|███▏      | 161/505 [15:51<29:37,  5.17s/it]"
     ]
    },
    {
     "name": "stdout",
     "output_type": "stream",
     "text": [
      "'value'\n",
      "'value'\n",
      "'value'\n",
      "'value'\n",
      "'value'\n",
      "'value'\n",
      "'value'\n",
      "'value'\n",
      "'value'\n",
      "'value'\n",
      "'value'\n",
      "'value'\n",
      "'value'\n",
      "'value'\n",
      "'value'\n",
      "'value'\n",
      "'value'\n"
     ]
    },
    {
     "name": "stderr",
     "output_type": "stream",
     "text": [
      "\r",
      " 32%|███▏      | 162/505 [15:56<29:43,  5.20s/it]"
     ]
    },
    {
     "name": "stdout",
     "output_type": "stream",
     "text": [
      "'value'\n",
      "'value'\n",
      "'value'\n",
      "'value'\n",
      "'value'\n",
      "'value'\n",
      "'value'\n",
      "'value'\n",
      "'value'\n",
      "'value'\n",
      "'value'\n",
      "'value'\n",
      "'value'\n",
      "'value'\n",
      "'value'\n",
      "'value'\n",
      "'value'\n",
      "'value'\n",
      "'value'\n",
      "'value'\n",
      "'value'\n",
      "'value'\n",
      "'value'\n",
      "'value'\n",
      "'value'\n",
      "'value'\n",
      "'value'\n",
      "'value'\n"
     ]
    },
    {
     "name": "stderr",
     "output_type": "stream",
     "text": [
      "\r",
      " 32%|███▏      | 163/505 [16:02<31:19,  5.49s/it]"
     ]
    },
    {
     "name": "stdout",
     "output_type": "stream",
     "text": [
      "'value'\n",
      "'value'\n",
      "'value'\n",
      "'value'\n",
      "'value'\n",
      "'value'\n",
      "'value'\n",
      "'value'\n",
      "'value'\n",
      "'value'\n",
      "'value'\n",
      "'value'\n",
      "'value'\n",
      "'value'\n",
      "'value'\n",
      "'value'\n",
      "'value'\n",
      "'value'\n",
      "'value'\n",
      "'value'\n",
      "'value'\n",
      "'value'\n",
      "'value'\n",
      "'value'\n",
      "'value'\n",
      "'value'\n",
      "'value'\n"
     ]
    },
    {
     "name": "stderr",
     "output_type": "stream",
     "text": [
      "\r",
      " 32%|███▏      | 164/505 [16:09<33:00,  5.81s/it]"
     ]
    },
    {
     "name": "stdout",
     "output_type": "stream",
     "text": [
      "'value'\n",
      "'value'\n",
      "'value'\n",
      "'value'\n",
      "'value'\n",
      "'value'\n",
      "'value'\n"
     ]
    },
    {
     "name": "stderr",
     "output_type": "stream",
     "text": [
      "\r",
      " 33%|███▎      | 165/505 [16:14<31:35,  5.58s/it]"
     ]
    },
    {
     "name": "stdout",
     "output_type": "stream",
     "text": [
      "'value'\n",
      "'value'\n",
      "'value'\n",
      "'value'\n",
      "'value'\n",
      "'value'\n",
      "'value'\n",
      "'value'\n",
      "'value'\n",
      "'value'\n",
      "'value'\n",
      "'value'\n",
      "'value'\n",
      "'value'\n"
     ]
    },
    {
     "name": "stderr",
     "output_type": "stream",
     "text": [
      "\r",
      " 33%|███▎      | 166/505 [16:19<31:19,  5.55s/it]"
     ]
    },
    {
     "name": "stdout",
     "output_type": "stream",
     "text": [
      "'value'\n",
      "'value'\n",
      "'value'\n",
      "'value'\n",
      "'value'\n",
      "'value'\n",
      "'value'\n",
      "'value'\n",
      "'value'\n",
      "'value'\n",
      "'value'\n",
      "'value'\n",
      "'value'\n",
      "'value'\n",
      "'value'\n",
      "'value'\n",
      "'value'\n",
      "'value'\n",
      "'value'\n"
     ]
    },
    {
     "name": "stderr",
     "output_type": "stream",
     "text": [
      "\r",
      " 33%|███▎      | 167/505 [16:26<32:15,  5.73s/it]"
     ]
    },
    {
     "name": "stdout",
     "output_type": "stream",
     "text": [
      "'value'\n",
      "'value'\n",
      "'value'\n",
      "'value'\n",
      "'value'\n",
      "'value'\n",
      "'value'\n",
      "'value'\n",
      "'value'\n",
      "'value'\n",
      "'value'\n",
      "'value'\n",
      "'value'\n",
      "'value'\n",
      "'value'\n",
      "'value'\n",
      "'value'\n",
      "'value'\n",
      "'value'\n",
      "'value'\n",
      "'value'\n"
     ]
    },
    {
     "name": "stderr",
     "output_type": "stream",
     "text": [
      "\r",
      " 33%|███▎      | 168/505 [16:30<29:35,  5.27s/it]"
     ]
    },
    {
     "name": "stdout",
     "output_type": "stream",
     "text": [
      "'value'\n",
      "'value'\n",
      "'value'\n",
      "'value'\n",
      "'value'\n",
      "'value'\n",
      "'value'\n",
      "'value'\n",
      "'value'\n",
      "'value'\n",
      "'value'\n",
      "'value'\n"
     ]
    },
    {
     "name": "stderr",
     "output_type": "stream",
     "text": [
      "\r",
      " 33%|███▎      | 169/505 [16:39<35:27,  6.33s/it]"
     ]
    },
    {
     "name": "stdout",
     "output_type": "stream",
     "text": [
      "'value'\n",
      "'value'\n",
      "'value'\n",
      "'value'\n",
      "'value'\n",
      "'value'\n",
      "'value'\n",
      "'value'\n",
      "'value'\n",
      "'value'\n",
      "'value'\n",
      "'value'\n",
      "'value'\n",
      "'value'\n",
      "'value'\n",
      "'value'\n",
      "'value'\n",
      "'value'\n",
      "'value'\n"
     ]
    },
    {
     "name": "stderr",
     "output_type": "stream",
     "text": [
      "\r",
      " 34%|███▎      | 170/505 [16:44<33:20,  5.97s/it]"
     ]
    },
    {
     "name": "stdout",
     "output_type": "stream",
     "text": [
      "'value'\n",
      "'value'\n",
      "'value'\n",
      "'value'\n",
      "'value'\n",
      "'value'\n",
      "'value'\n",
      "'value'\n",
      "'value'\n"
     ]
    },
    {
     "name": "stderr",
     "output_type": "stream",
     "text": [
      "\r",
      " 34%|███▍      | 171/505 [16:50<33:31,  6.02s/it]"
     ]
    },
    {
     "name": "stdout",
     "output_type": "stream",
     "text": [
      "'value'\n",
      "'value'\n",
      "'value'\n",
      "'value'\n",
      "'value'\n",
      "'value'\n",
      "'value'\n",
      "'value'\n",
      "'value'\n",
      "'value'\n",
      "'value'\n",
      "'value'\n",
      "'value'\n",
      "'value'\n",
      "'value'\n",
      "'value'\n",
      "'value'\n",
      "'value'\n",
      "'value'\n",
      "'value'\n",
      "'value'\n",
      "'value'\n",
      "'value'\n",
      "'value'\n",
      "'value'\n",
      "'value'\n",
      "'value'\n",
      "'value'\n",
      "'value'\n",
      "'value'\n"
     ]
    },
    {
     "name": "stderr",
     "output_type": "stream",
     "text": [
      "\r",
      " 34%|███▍      | 172/505 [16:58<36:42,  6.61s/it]"
     ]
    },
    {
     "name": "stdout",
     "output_type": "stream",
     "text": [
      "'value'\n",
      "'value'\n",
      "'value'\n",
      "'value'\n",
      "'value'\n",
      "'value'\n",
      "'value'\n",
      "'value'\n",
      "'value'\n",
      "'value'\n",
      "'value'\n",
      "'value'\n",
      "'value'\n"
     ]
    },
    {
     "name": "stderr",
     "output_type": "stream",
     "text": [
      "\r",
      " 34%|███▍      | 173/505 [17:08<42:36,  7.70s/it]"
     ]
    },
    {
     "name": "stdout",
     "output_type": "stream",
     "text": [
      "'value'\n",
      "'value'\n",
      "'value'\n",
      "'value'\n",
      "'value'\n",
      "'value'\n",
      "'value'\n",
      "'value'\n",
      "'value'\n",
      "'value'\n",
      "'value'\n",
      "'value'\n",
      "'value'\n",
      "'value'\n",
      "'value'\n",
      "'value'\n",
      "'value'\n",
      "'value'\n",
      "'value'\n",
      "'value'\n",
      "'value'\n"
     ]
    },
    {
     "name": "stderr",
     "output_type": "stream",
     "text": [
      "\r",
      " 34%|███▍      | 174/505 [17:13<37:53,  6.87s/it]"
     ]
    },
    {
     "name": "stdout",
     "output_type": "stream",
     "text": [
      "'value'\n",
      "'value'\n",
      "'value'\n",
      "'value'\n",
      "'value'\n",
      "'value'\n",
      "'value'\n",
      "'value'\n",
      "'value'\n",
      "'value'\n",
      "'value'\n",
      "'value'\n",
      "'value'\n",
      "'value'\n",
      "'value'\n",
      "'value'\n",
      "'value'\n",
      "'value'\n"
     ]
    },
    {
     "name": "stderr",
     "output_type": "stream",
     "text": [
      "\r",
      " 35%|███▍      | 175/505 [17:20<37:28,  6.81s/it]"
     ]
    },
    {
     "name": "stdout",
     "output_type": "stream",
     "text": [
      "'value'\n",
      "'value'\n",
      "'value'\n",
      "'value'\n",
      "'value'\n",
      "'value'\n",
      "'value'\n",
      "'value'\n",
      "'value'\n",
      "'value'\n",
      "'value'\n",
      "'value'\n",
      "'value'\n",
      "'value'\n"
     ]
    },
    {
     "name": "stderr",
     "output_type": "stream",
     "text": [
      "\r",
      " 35%|███▍      | 176/505 [17:23<31:17,  5.71s/it]"
     ]
    },
    {
     "name": "stdout",
     "output_type": "stream",
     "text": [
      "'value'\n",
      "'value'\n",
      "'value'\n",
      "'value'\n",
      "'value'\n",
      "'value'\n",
      "'value'\n",
      "'value'\n",
      "'value'\n",
      "'value'\n",
      "'value'\n",
      "'value'\n",
      "'value'\n",
      "'value'\n",
      "'value'\n"
     ]
    },
    {
     "name": "stderr",
     "output_type": "stream",
     "text": [
      "\r",
      " 35%|███▌      | 177/505 [17:24<24:20,  4.45s/it]"
     ]
    },
    {
     "name": "stdout",
     "output_type": "stream",
     "text": [
      "'value'\n",
      "'value'\n",
      "'value'\n",
      "'value'\n",
      "'value'\n",
      "'value'\n",
      "'value'\n",
      "'value'\n",
      "'value'\n",
      "'value'\n",
      "'value'\n",
      "'value'\n",
      "'value'\n",
      "'value'\n",
      "'value'\n"
     ]
    },
    {
     "name": "stderr",
     "output_type": "stream",
     "text": [
      "\r",
      " 35%|███▌      | 178/505 [17:31<27:38,  5.07s/it]"
     ]
    },
    {
     "name": "stdout",
     "output_type": "stream",
     "text": [
      "'value'\n",
      "'value'\n",
      "'value'\n",
      "'value'\n",
      "'value'\n",
      "'value'\n",
      "'value'\n",
      "'value'\n",
      "'value'\n",
      "'value'\n",
      "'value'\n",
      "'value'\n",
      "'value'\n",
      "'value'\n",
      "'value'\n"
     ]
    },
    {
     "name": "stderr",
     "output_type": "stream",
     "text": [
      "\r",
      " 35%|███▌      | 179/505 [17:38<30:53,  5.68s/it]"
     ]
    },
    {
     "name": "stdout",
     "output_type": "stream",
     "text": [
      "'value'\n",
      "'value'\n",
      "'value'\n",
      "'value'\n",
      "'value'\n",
      "'value'\n",
      "'value'\n",
      "'value'\n",
      "'value'\n",
      "'value'\n",
      "'value'\n",
      "'value'\n",
      "'value'\n",
      "'value'\n",
      "'value'\n",
      "'value'\n",
      "'value'\n",
      "'value'\n",
      "'value'\n",
      "'value'\n",
      "'value'\n",
      "'value'\n",
      "'value'\n",
      "'value'\n",
      "'value'\n",
      "'value'\n",
      "'value'\n",
      "'value'\n",
      "'value'\n",
      "'value'\n",
      "'value'\n",
      "'value'\n"
     ]
    },
    {
     "name": "stderr",
     "output_type": "stream",
     "text": [
      "\r",
      " 36%|███▌      | 180/505 [17:48<38:23,  7.09s/it]"
     ]
    },
    {
     "name": "stdout",
     "output_type": "stream",
     "text": [
      "'value'\n",
      "'value'\n",
      "'value'\n",
      "'value'\n",
      "'value'\n",
      "'value'\n",
      "'value'\n",
      "'value'\n",
      "'value'\n",
      "'value'\n",
      "'value'\n",
      "'value'\n",
      "'value'\n",
      "'value'\n",
      "'value'\n",
      "'value'\n",
      "'value'\n",
      "'value'\n",
      "'value'\n",
      "'value'\n",
      "'value'\n",
      "'value'\n",
      "'value'\n",
      "'value'\n",
      "'value'\n",
      "'value'\n",
      "'value'\n"
     ]
    },
    {
     "name": "stderr",
     "output_type": "stream",
     "text": [
      "\r",
      " 36%|███▌      | 181/505 [17:54<35:37,  6.60s/it]"
     ]
    },
    {
     "name": "stdout",
     "output_type": "stream",
     "text": [
      "'value'\n",
      "'value'\n",
      "'value'\n",
      "'value'\n",
      "'value'\n",
      "'value'\n",
      "'value'\n",
      "'value'\n",
      "'value'\n",
      "'value'\n",
      "'value'\n",
      "'value'\n",
      "'value'\n",
      "'value'\n",
      "'value'\n",
      "'value'\n",
      "'value'\n",
      "'value'\n"
     ]
    },
    {
     "name": "stderr",
     "output_type": "stream",
     "text": [
      "\r",
      " 36%|███▌      | 182/505 [17:58<32:25,  6.02s/it]"
     ]
    },
    {
     "name": "stdout",
     "output_type": "stream",
     "text": [
      "'value'\n",
      "'value'\n",
      "'value'\n",
      "'value'\n",
      "'value'\n",
      "'value'\n",
      "'value'\n",
      "'value'\n",
      "'value'\n",
      "'value'\n",
      "'value'\n",
      "'value'\n"
     ]
    },
    {
     "name": "stderr",
     "output_type": "stream",
     "text": [
      "\r",
      " 36%|███▌      | 183/505 [18:04<31:35,  5.89s/it]"
     ]
    },
    {
     "name": "stdout",
     "output_type": "stream",
     "text": [
      "'value'\n",
      "'value'\n",
      "'value'\n",
      "'value'\n",
      "'value'\n",
      "'value'\n",
      "'value'\n",
      "'value'\n",
      "'value'\n",
      "'value'\n",
      "'value'\n",
      "'value'\n",
      "'value'\n",
      "'value'\n",
      "'value'\n",
      "'value'\n",
      "'value'\n",
      "'value'\n",
      "'value'\n",
      "'value'\n",
      "'value'\n",
      "'value'\n"
     ]
    },
    {
     "name": "stderr",
     "output_type": "stream",
     "text": [
      "\r",
      " 36%|███▋      | 184/505 [18:11<32:35,  6.09s/it]"
     ]
    },
    {
     "name": "stdout",
     "output_type": "stream",
     "text": [
      "'value'\n",
      "'value'\n",
      "'value'\n",
      "'value'\n",
      "'value'\n",
      "'value'\n",
      "'value'\n",
      "'value'\n",
      "'value'\n",
      "'value'\n",
      "'value'\n",
      "'value'\n",
      "'value'\n",
      "'value'\n",
      "'value'\n",
      "'value'\n",
      "'value'\n",
      "'value'\n",
      "'value'\n",
      "'value'\n",
      "'value'\n"
     ]
    },
    {
     "name": "stderr",
     "output_type": "stream",
     "text": [
      "\r",
      " 37%|███▋      | 185/505 [18:16<31:34,  5.92s/it]"
     ]
    },
    {
     "name": "stdout",
     "output_type": "stream",
     "text": [
      "'value'\n",
      "'value'\n",
      "'value'\n",
      "'value'\n",
      "'value'\n",
      "'value'\n",
      "'value'\n",
      "'value'\n",
      "'value'\n",
      "'value'\n",
      "'value'\n"
     ]
    },
    {
     "name": "stderr",
     "output_type": "stream",
     "text": [
      "\r",
      " 37%|███▋      | 186/505 [18:20<28:26,  5.35s/it]"
     ]
    },
    {
     "name": "stdout",
     "output_type": "stream",
     "text": [
      "'value'\n",
      "'value'\n",
      "'value'\n",
      "'value'\n",
      "'value'\n",
      "'value'\n",
      "'value'\n",
      "'value'\n",
      "'value'\n",
      "'value'\n",
      "'value'\n"
     ]
    },
    {
     "name": "stderr",
     "output_type": "stream",
     "text": [
      "\r",
      " 37%|███▋      | 187/505 [18:25<28:01,  5.29s/it]"
     ]
    },
    {
     "name": "stdout",
     "output_type": "stream",
     "text": [
      "'value'\n",
      "'value'\n",
      "'value'\n",
      "'value'\n",
      "'value'\n",
      "'value'\n",
      "'value'\n",
      "'value'\n",
      "'value'\n",
      "'value'\n",
      "'value'\n",
      "'value'\n",
      "'value'\n",
      "'value'\n",
      "'value'\n"
     ]
    },
    {
     "name": "stderr",
     "output_type": "stream",
     "text": [
      "\r",
      " 37%|███▋      | 188/505 [18:31<29:09,  5.52s/it]"
     ]
    },
    {
     "name": "stdout",
     "output_type": "stream",
     "text": [
      "'value'\n",
      "'value'\n",
      "'value'\n",
      "'value'\n",
      "'value'\n",
      "'value'\n",
      "'value'\n",
      "'value'\n",
      "'value'\n",
      "'value'\n",
      "'value'\n",
      "'value'\n",
      "'value'\n",
      "'value'\n",
      "'value'\n",
      "'value'\n",
      "'value'\n",
      "'value'\n",
      "'value'\n"
     ]
    },
    {
     "name": "stderr",
     "output_type": "stream",
     "text": [
      "\r",
      " 37%|███▋      | 189/505 [18:37<29:48,  5.66s/it]"
     ]
    },
    {
     "name": "stdout",
     "output_type": "stream",
     "text": [
      "'value'\n",
      "'value'\n",
      "'value'\n",
      "'value'\n",
      "'value'\n",
      "'value'\n",
      "'value'\n",
      "'value'\n",
      "'value'\n",
      "'value'\n",
      "'value'\n",
      "'value'\n",
      "'value'\n",
      "'value'\n",
      "'value'\n",
      "'value'\n",
      "'value'\n",
      "'value'\n"
     ]
    },
    {
     "name": "stderr",
     "output_type": "stream",
     "text": [
      "\r",
      " 38%|███▊      | 190/505 [18:44<31:28,  5.99s/it]"
     ]
    },
    {
     "name": "stdout",
     "output_type": "stream",
     "text": [
      "'value'\n",
      "'value'\n",
      "'value'\n",
      "'value'\n",
      "'value'\n",
      "'value'\n",
      "'value'\n",
      "'value'\n",
      "'value'\n",
      "'value'\n",
      "'value'\n",
      "'value'\n",
      "'value'\n",
      "'value'\n",
      "'value'\n",
      "'value'\n",
      "'value'\n",
      "'value'\n",
      "'value'\n",
      "'value'\n",
      "'value'\n",
      "'value'\n",
      "'value'\n",
      "'value'\n",
      "'value'\n",
      "'value'\n",
      "'value'\n",
      "'value'\n",
      "'value'\n",
      "'value'\n",
      "'value'\n",
      "'value'\n",
      "'value'\n",
      "'value'\n",
      "'value'\n",
      "'value'\n",
      "'value'\n",
      "'value'\n",
      "'value'\n",
      "'value'\n",
      "'value'\n",
      "'value'\n",
      "'value'\n",
      "'value'\n",
      "'value'\n",
      "'value'\n",
      "'value'\n",
      "'value'\n",
      "'value'\n",
      "'value'\n",
      "'value'\n",
      "'value'\n",
      "'value'\n",
      "'value'\n",
      "'value'\n"
     ]
    },
    {
     "name": "stderr",
     "output_type": "stream",
     "text": [
      "\r",
      " 38%|███▊      | 191/505 [18:54<37:07,  7.09s/it]"
     ]
    },
    {
     "name": "stdout",
     "output_type": "stream",
     "text": [
      "'value'\n",
      "'value'\n",
      "'value'\n",
      "'value'\n",
      "'value'\n",
      "'value'\n",
      "'value'\n",
      "'value'\n",
      "'value'\n",
      "'value'\n",
      "'value'\n",
      "'value'\n",
      "'value'\n",
      "'value'\n",
      "'value'\n",
      "'value'\n",
      "'value'\n",
      "'value'\n",
      "'value'\n",
      "'value'\n",
      "'value'\n",
      "'value'\n",
      "'value'\n",
      "'value'\n"
     ]
    },
    {
     "name": "stderr",
     "output_type": "stream",
     "text": [
      "\r",
      " 38%|███▊      | 192/505 [19:00<35:46,  6.86s/it]"
     ]
    },
    {
     "name": "stdout",
     "output_type": "stream",
     "text": [
      "'value'\n",
      "'value'\n",
      "'value'\n",
      "'value'\n",
      "'value'\n",
      "'value'\n",
      "'value'\n",
      "'value'\n",
      "'value'\n",
      "'value'\n",
      "'value'\n",
      "'value'\n",
      "'value'\n",
      "'value'\n",
      "'value'\n",
      "'value'\n"
     ]
    },
    {
     "name": "stderr",
     "output_type": "stream",
     "text": [
      "\r",
      " 38%|███▊      | 194/505 [19:06<29:14,  5.64s/it]"
     ]
    },
    {
     "name": "stdout",
     "output_type": "stream",
     "text": [
      "'value'\n",
      "'value'\n",
      "'value'\n",
      "'value'\n",
      "'value'\n",
      "'value'\n",
      "'value'\n",
      "'value'\n",
      "'value'\n",
      "'value'\n",
      "'value'\n",
      "'value'\n",
      "'value'\n",
      "'value'\n"
     ]
    },
    {
     "name": "stderr",
     "output_type": "stream",
     "text": [
      "\r",
      " 39%|███▊      | 195/505 [19:12<29:38,  5.74s/it]"
     ]
    },
    {
     "name": "stdout",
     "output_type": "stream",
     "text": [
      "'value'\n",
      "'value'\n",
      "'value'\n",
      "'value'\n",
      "'value'\n",
      "'value'\n",
      "'value'\n",
      "'value'\n",
      "'value'\n",
      "'value'\n",
      "'value'\n",
      "'value'\n",
      "'value'\n",
      "'value'\n",
      "'value'\n"
     ]
    },
    {
     "name": "stderr",
     "output_type": "stream",
     "text": [
      "\r",
      " 39%|███▉      | 196/505 [19:17<29:22,  5.70s/it]"
     ]
    },
    {
     "name": "stdout",
     "output_type": "stream",
     "text": [
      "'value'\n",
      "'value'\n",
      "'value'\n",
      "'value'\n",
      "'value'\n",
      "'value'\n",
      "'value'\n",
      "'value'\n",
      "'value'\n",
      "'value'\n",
      "'value'\n",
      "'value'\n",
      "'value'\n",
      "'value'\n",
      "'value'\n",
      "'value'\n",
      "'value'\n",
      "'value'\n",
      "'value'\n",
      "'value'\n",
      "'value'\n"
     ]
    },
    {
     "name": "stderr",
     "output_type": "stream",
     "text": [
      "\r",
      " 39%|███▉      | 197/505 [19:26<34:11,  6.66s/it]"
     ]
    },
    {
     "name": "stdout",
     "output_type": "stream",
     "text": [
      "'value'\n",
      "'value'\n",
      "'value'\n",
      "'value'\n",
      "'value'\n",
      "'value'\n",
      "'value'\n",
      "'value'\n",
      "'value'\n",
      "'value'\n",
      "'value'\n",
      "'value'\n",
      "'value'\n",
      "'value'\n",
      "'value'\n",
      "'value'\n",
      "'value'\n",
      "'value'\n",
      "'value'\n",
      "'value'\n",
      "'value'\n",
      "'value'\n",
      "'value'\n",
      "'value'\n",
      "'value'\n",
      "'value'\n",
      "'value'\n",
      "'value'\n",
      "'value'\n",
      "'value'\n"
     ]
    },
    {
     "name": "stderr",
     "output_type": "stream",
     "text": [
      "\r",
      " 39%|███▉      | 198/505 [19:32<33:33,  6.56s/it]"
     ]
    },
    {
     "name": "stdout",
     "output_type": "stream",
     "text": [
      "'value'\n",
      "'value'\n",
      "'value'\n",
      "'value'\n",
      "'value'\n",
      "'value'\n",
      "'value'\n",
      "'value'\n",
      "'value'\n",
      "'value'\n",
      "'value'\n",
      "'value'\n",
      "'value'\n"
     ]
    },
    {
     "name": "stderr",
     "output_type": "stream",
     "text": [
      "\r",
      " 39%|███▉      | 199/505 [19:38<31:48,  6.24s/it]"
     ]
    },
    {
     "name": "stdout",
     "output_type": "stream",
     "text": [
      "'value'\n",
      "'value'\n",
      "'value'\n",
      "'value'\n",
      "'value'\n",
      "'value'\n",
      "'value'\n",
      "'value'\n",
      "'value'\n",
      "'value'\n",
      "'value'\n",
      "'value'\n",
      "'value'\n",
      "'value'\n",
      "'value'\n",
      "'value'\n",
      "'value'\n",
      "'value'\n"
     ]
    },
    {
     "name": "stderr",
     "output_type": "stream",
     "text": [
      "\r",
      " 40%|███▉      | 200/505 [19:40<25:41,  5.05s/it]"
     ]
    },
    {
     "name": "stdout",
     "output_type": "stream",
     "text": [
      "'value'\n",
      "'value'\n",
      "'value'\n",
      "'value'\n",
      "'value'\n",
      "'value'\n",
      "'value'\n",
      "'value'\n",
      "'value'\n",
      "'value'\n",
      "'value'\n",
      "'value'\n",
      "'value'\n",
      "'value'\n",
      "'value'\n",
      "'value'\n",
      "'value'\n",
      "'value'\n",
      "'value'\n"
     ]
    },
    {
     "name": "stderr",
     "output_type": "stream",
     "text": [
      "\r",
      " 40%|███▉      | 201/505 [19:45<24:54,  4.92s/it]"
     ]
    },
    {
     "name": "stdout",
     "output_type": "stream",
     "text": [
      "'value'\n",
      "'value'\n",
      "'value'\n",
      "'value'\n",
      "'value'\n",
      "'value'\n",
      "'value'\n",
      "'value'\n",
      "'value'\n",
      "'value'\n",
      "'value'\n",
      "'value'\n",
      "'value'\n",
      "'value'\n"
     ]
    },
    {
     "name": "stderr",
     "output_type": "stream",
     "text": [
      "\r",
      " 40%|████      | 202/505 [19:46<18:41,  3.70s/it]"
     ]
    },
    {
     "name": "stdout",
     "output_type": "stream",
     "text": [
      "'value'\n",
      "'value'\n",
      "'value'\n",
      "'value'\n",
      "'value'\n",
      "'value'\n",
      "'value'\n",
      "'value'\n",
      "'value'\n",
      "'value'\n",
      "'value'\n",
      "'value'\n",
      "'value'\n"
     ]
    },
    {
     "name": "stderr",
     "output_type": "stream",
     "text": [
      "\r",
      " 40%|████      | 203/505 [19:46<13:42,  2.72s/it]"
     ]
    },
    {
     "name": "stdout",
     "output_type": "stream",
     "text": [
      "'value'\n",
      "'value'\n",
      "'value'\n",
      "'value'\n",
      "'value'\n",
      "'value'\n",
      "'value'\n",
      "'value'\n",
      "'value'\n",
      "'value'\n",
      "'value'\n",
      "'value'\n",
      "'value'\n",
      "'value'\n",
      "'value'\n"
     ]
    },
    {
     "name": "stderr",
     "output_type": "stream",
     "text": [
      "\r",
      " 40%|████      | 204/505 [19:54<21:02,  4.19s/it]"
     ]
    },
    {
     "name": "stdout",
     "output_type": "stream",
     "text": [
      "'value'\n",
      "'value'\n",
      "'value'\n",
      "'value'\n",
      "'value'\n",
      "'value'\n",
      "'value'\n",
      "'value'\n",
      "'value'\n",
      "'value'\n",
      "'value'\n",
      "'value'\n",
      "'value'\n",
      "'value'\n",
      "'value'\n",
      "'value'\n",
      "'value'\n",
      "'value'\n",
      "'value'\n",
      "'value'\n"
     ]
    },
    {
     "name": "stderr",
     "output_type": "stream",
     "text": [
      "\r",
      " 41%|████      | 205/505 [20:01<25:23,  5.08s/it]"
     ]
    },
    {
     "name": "stdout",
     "output_type": "stream",
     "text": [
      "'value'\n",
      "'value'\n",
      "'value'\n",
      "'value'\n",
      "'value'\n",
      "'value'\n",
      "'value'\n",
      "'value'\n",
      "'value'\n",
      "'value'\n",
      "'value'\n",
      "'value'\n",
      "'value'\n",
      "'value'\n",
      "'value'\n",
      "'value'\n",
      "'value'\n",
      "'value'\n",
      "'value'\n",
      "'value'\n",
      "'value'\n",
      "'value'\n",
      "'value'\n",
      "'value'\n",
      "'value'\n",
      "'value'\n",
      "'value'\n"
     ]
    },
    {
     "name": "stderr",
     "output_type": "stream",
     "text": [
      "\r",
      " 41%|████      | 206/505 [20:07<27:25,  5.50s/it]"
     ]
    },
    {
     "name": "stdout",
     "output_type": "stream",
     "text": [
      "'value'\n",
      "'value'\n",
      "'value'\n",
      "'value'\n",
      "'value'\n",
      "'value'\n",
      "'value'\n",
      "'value'\n"
     ]
    },
    {
     "name": "stderr",
     "output_type": "stream",
     "text": [
      "\r",
      " 41%|████      | 207/505 [20:14<29:01,  5.84s/it]"
     ]
    },
    {
     "name": "stdout",
     "output_type": "stream",
     "text": [
      "'value'\n",
      "'value'\n",
      "'value'\n",
      "'value'\n",
      "'value'\n",
      "'value'\n",
      "'value'\n",
      "'value'\n",
      "'value'\n",
      "'value'\n",
      "'value'\n",
      "'value'\n",
      "'value'\n",
      "'value'\n",
      "'value'\n",
      "'value'\n",
      "'value'\n"
     ]
    },
    {
     "name": "stderr",
     "output_type": "stream",
     "text": [
      "\r",
      " 41%|████      | 208/505 [20:20<29:37,  5.99s/it]"
     ]
    },
    {
     "name": "stdout",
     "output_type": "stream",
     "text": [
      "'value'\n",
      "'value'\n",
      "'value'\n",
      "'value'\n",
      "'value'\n",
      "'value'\n",
      "'value'\n",
      "'value'\n",
      "'value'\n",
      "'value'\n",
      "'value'\n",
      "'value'\n"
     ]
    },
    {
     "name": "stderr",
     "output_type": "stream",
     "text": [
      "\r",
      " 41%|████▏     | 209/505 [20:26<28:42,  5.82s/it]"
     ]
    },
    {
     "name": "stdout",
     "output_type": "stream",
     "text": [
      "'value'\n",
      "'value'\n",
      "'value'\n",
      "'value'\n",
      "'value'\n",
      "'value'\n",
      "'value'\n",
      "'value'\n",
      "'value'\n",
      "'value'\n"
     ]
    },
    {
     "name": "stderr",
     "output_type": "stream",
     "text": [
      "\r",
      " 42%|████▏     | 210/505 [20:33<30:49,  6.27s/it]"
     ]
    },
    {
     "name": "stdout",
     "output_type": "stream",
     "text": [
      "'value'\n",
      "'value'\n",
      "'value'\n",
      "'value'\n",
      "'value'\n",
      "'value'\n",
      "'value'\n",
      "'value'\n",
      "'value'\n",
      "'value'\n",
      "'value'\n",
      "'value'\n",
      "'value'\n",
      "'value'\n",
      "'value'\n",
      "'value'\n",
      "'value'\n",
      "'value'\n",
      "'value'\n",
      "'value'\n",
      "'value'\n",
      "'value'\n",
      "'value'\n",
      "'value'\n",
      "'value'\n",
      "'value'\n",
      "'value'\n",
      "'value'\n",
      "'value'\n",
      "'value'\n"
     ]
    },
    {
     "name": "stderr",
     "output_type": "stream",
     "text": [
      "\r",
      " 42%|████▏     | 211/505 [20:44<37:35,  7.67s/it]"
     ]
    },
    {
     "name": "stdout",
     "output_type": "stream",
     "text": [
      "'value'\n",
      "'value'\n",
      "'value'\n",
      "'value'\n",
      "'value'\n",
      "'value'\n",
      "'value'\n",
      "'value'\n",
      "'value'\n",
      "'value'\n"
     ]
    },
    {
     "name": "stderr",
     "output_type": "stream",
     "text": [
      "\r",
      " 42%|████▏     | 212/505 [20:51<37:05,  7.60s/it]"
     ]
    },
    {
     "name": "stdout",
     "output_type": "stream",
     "text": [
      "'value'\n",
      "'value'\n",
      "'value'\n",
      "'value'\n",
      "'value'\n",
      "'value'\n",
      "'value'\n",
      "'value'\n",
      "'value'\n",
      "'value'\n",
      "'value'\n",
      "'value'\n",
      "'value'\n",
      "'value'\n",
      "'value'\n",
      "'value'\n",
      "'value'\n",
      "'value'\n"
     ]
    },
    {
     "name": "stderr",
     "output_type": "stream",
     "text": [
      "\r",
      " 42%|████▏     | 213/505 [20:58<35:16,  7.25s/it]"
     ]
    },
    {
     "name": "stdout",
     "output_type": "stream",
     "text": [
      "'value'\n",
      "'value'\n",
      "'value'\n",
      "'value'\n",
      "'value'\n",
      "'value'\n",
      "'value'\n",
      "'value'\n",
      "'value'\n",
      "'value'\n",
      "'value'\n",
      "'value'\n",
      "'value'\n",
      "'value'\n",
      "'value'\n",
      "'value'\n",
      "'value'\n"
     ]
    },
    {
     "name": "stderr",
     "output_type": "stream",
     "text": [
      "\r",
      " 42%|████▏     | 214/505 [21:03<32:39,  6.73s/it]"
     ]
    },
    {
     "name": "stdout",
     "output_type": "stream",
     "text": [
      "'value'\n",
      "'value'\n",
      "'value'\n",
      "'value'\n",
      "'value'\n",
      "'value'\n",
      "'value'\n",
      "'value'\n",
      "'value'\n",
      "'value'\n",
      "'value'\n",
      "'value'\n",
      "'value'\n",
      "'value'\n",
      "'value'\n",
      "'value'\n",
      "'value'\n",
      "'value'\n",
      "'value'\n"
     ]
    },
    {
     "name": "stderr",
     "output_type": "stream",
     "text": [
      "\r",
      " 43%|████▎     | 215/505 [21:11<33:07,  6.85s/it]"
     ]
    },
    {
     "name": "stdout",
     "output_type": "stream",
     "text": [
      "'value'\n",
      "'value'\n",
      "'value'\n",
      "'value'\n",
      "'value'\n",
      "'value'\n",
      "'value'\n",
      "'value'\n",
      "'value'\n",
      "'value'\n",
      "'value'\n",
      "'value'\n",
      "'value'\n",
      "'value'\n",
      "'value'\n",
      "'value'\n",
      "'value'\n"
     ]
    },
    {
     "name": "stderr",
     "output_type": "stream",
     "text": [
      "\r",
      " 43%|████▎     | 216/505 [21:19<35:13,  7.31s/it]"
     ]
    },
    {
     "name": "stdout",
     "output_type": "stream",
     "text": [
      "'value'\n",
      "'value'\n",
      "'value'\n",
      "'value'\n",
      "'value'\n",
      "'value'\n",
      "'value'\n",
      "'value'\n",
      "'value'\n",
      "'value'\n",
      "'value'\n",
      "'value'\n",
      "'value'\n",
      "'value'\n",
      "'value'\n"
     ]
    },
    {
     "name": "stderr",
     "output_type": "stream",
     "text": [
      "\r",
      " 43%|████▎     | 217/505 [21:26<34:45,  7.24s/it]"
     ]
    },
    {
     "name": "stdout",
     "output_type": "stream",
     "text": [
      "'value'\n",
      "'value'\n",
      "'value'\n",
      "'value'\n",
      "'value'\n",
      "'value'\n",
      "'value'\n",
      "'value'\n",
      "'value'\n",
      "'value'\n",
      "'value'\n",
      "'value'\n",
      "'value'\n",
      "'value'\n",
      "'value'\n",
      "'value'\n",
      "'value'\n",
      "'value'\n",
      "'value'\n",
      "'value'\n",
      "'value'\n",
      "'value'\n",
      "'value'\n",
      "'value'\n",
      "'value'\n",
      "'value'\n",
      "'value'\n",
      "'value'\n",
      "'value'\n",
      "'value'\n",
      "'value'\n",
      "'value'\n",
      "'value'\n",
      "'value'\n",
      "'value'\n"
     ]
    },
    {
     "name": "stderr",
     "output_type": "stream",
     "text": [
      "\r",
      " 43%|████▎     | 218/505 [21:34<35:35,  7.44s/it]"
     ]
    },
    {
     "name": "stdout",
     "output_type": "stream",
     "text": [
      "'value'\n",
      "'value'\n",
      "'value'\n",
      "'value'\n",
      "'value'\n",
      "'value'\n",
      "'value'\n",
      "'value'\n",
      "'value'\n",
      "'value'\n",
      "'value'\n",
      "'value'\n",
      "'value'\n"
     ]
    },
    {
     "name": "stderr",
     "output_type": "stream",
     "text": [
      "\r",
      " 43%|████▎     | 219/505 [21:41<34:34,  7.25s/it]"
     ]
    },
    {
     "name": "stdout",
     "output_type": "stream",
     "text": [
      "'value'\n",
      "'value'\n",
      "'value'\n",
      "'value'\n",
      "'value'\n",
      "'value'\n",
      "'value'\n",
      "'value'\n",
      "'value'\n",
      "'value'\n",
      "'value'\n",
      "'value'\n"
     ]
    },
    {
     "name": "stderr",
     "output_type": "stream",
     "text": [
      "\r",
      " 44%|████▎     | 220/505 [21:47<33:30,  7.06s/it]"
     ]
    },
    {
     "name": "stdout",
     "output_type": "stream",
     "text": [
      "'value'\n",
      "'value'\n",
      "'value'\n",
      "'value'\n",
      "'value'\n",
      "'value'\n",
      "'value'\n",
      "'value'\n",
      "'value'\n",
      "'value'\n",
      "'value'\n",
      "'value'\n",
      "'value'\n",
      "'value'\n",
      "'value'\n",
      "'value'\n",
      "'value'\n",
      "'value'\n"
     ]
    },
    {
     "name": "stderr",
     "output_type": "stream",
     "text": [
      "\r",
      " 44%|████▍     | 221/505 [21:54<32:14,  6.81s/it]"
     ]
    },
    {
     "name": "stdout",
     "output_type": "stream",
     "text": [
      "'value'\n",
      "'value'\n",
      "'value'\n",
      "'value'\n",
      "'value'\n",
      "'value'\n",
      "'value'\n",
      "'value'\n",
      "'value'\n",
      "'value'\n",
      "'value'\n",
      "'value'\n",
      "'value'\n",
      "'value'\n",
      "'value'\n",
      "'value'\n",
      "'value'\n",
      "'value'\n",
      "'value'\n",
      "'value'\n",
      "'value'\n",
      "'value'\n"
     ]
    },
    {
     "name": "stderr",
     "output_type": "stream",
     "text": [
      "\r",
      " 44%|████▍     | 222/505 [22:01<33:11,  7.04s/it]"
     ]
    },
    {
     "name": "stdout",
     "output_type": "stream",
     "text": [
      "'value'\n",
      "'value'\n",
      "'value'\n",
      "'value'\n",
      "'value'\n",
      "'value'\n",
      "'value'\n",
      "'value'\n",
      "'value'\n",
      "'value'\n",
      "'value'\n",
      "'value'\n",
      "'value'\n",
      "'value'\n",
      "'value'\n",
      "'value'\n",
      "'value'\n",
      "'value'\n"
     ]
    },
    {
     "name": "stderr",
     "output_type": "stream",
     "text": [
      "\r",
      " 44%|████▍     | 223/505 [22:08<32:22,  6.89s/it]"
     ]
    },
    {
     "name": "stdout",
     "output_type": "stream",
     "text": [
      "'value'\n",
      "'value'\n",
      "'value'\n",
      "'value'\n",
      "'value'\n",
      "'value'\n",
      "'value'\n",
      "'value'\n",
      "'value'\n",
      "'value'\n",
      "'value'\n",
      "'value'\n",
      "'value'\n",
      "'value'\n",
      "'value'\n",
      "'value'\n"
     ]
    },
    {
     "name": "stderr",
     "output_type": "stream",
     "text": [
      "\r",
      " 44%|████▍     | 224/505 [22:14<31:16,  6.68s/it]"
     ]
    },
    {
     "name": "stdout",
     "output_type": "stream",
     "text": [
      "'value'\n",
      "'value'\n",
      "'value'\n",
      "'value'\n",
      "'value'\n",
      "'value'\n",
      "'value'\n",
      "'value'\n",
      "'value'\n",
      "'value'\n",
      "'value'\n",
      "'value'\n",
      "'value'\n",
      "'value'\n",
      "'value'\n",
      "'value'\n",
      "'value'\n",
      "'value'\n",
      "'value'\n",
      "'value'\n",
      "'value'\n",
      "'value'\n",
      "'value'\n",
      "'value'\n",
      "'value'\n",
      "'value'\n",
      "'value'\n"
     ]
    },
    {
     "name": "stderr",
     "output_type": "stream",
     "text": [
      "\r",
      " 45%|████▍     | 225/505 [22:22<33:37,  7.21s/it]"
     ]
    },
    {
     "name": "stdout",
     "output_type": "stream",
     "text": [
      "'value'\n",
      "'value'\n",
      "'value'\n",
      "'value'\n",
      "'value'\n",
      "'value'\n",
      "'value'\n",
      "'value'\n",
      "'value'\n",
      "'value'\n",
      "'value'\n",
      "'value'\n",
      "'value'\n",
      "'value'\n",
      "'value'\n",
      "'value'\n"
     ]
    },
    {
     "name": "stderr",
     "output_type": "stream",
     "text": [
      "\r",
      " 45%|████▍     | 226/505 [22:28<31:23,  6.75s/it]"
     ]
    },
    {
     "name": "stdout",
     "output_type": "stream",
     "text": [
      "'value'\n",
      "'value'\n",
      "'value'\n",
      "'value'\n",
      "'value'\n",
      "'value'\n",
      "'value'\n",
      "'value'\n",
      "'value'\n",
      "'value'\n",
      "'value'\n",
      "'value'\n",
      "'value'\n",
      "'value'\n",
      "'value'\n",
      "'value'\n",
      "'value'\n",
      "'value'\n"
     ]
    },
    {
     "name": "stderr",
     "output_type": "stream",
     "text": [
      "\r",
      " 45%|████▍     | 227/505 [22:34<30:32,  6.59s/it]"
     ]
    },
    {
     "name": "stdout",
     "output_type": "stream",
     "text": [
      "'value'\n",
      "'value'\n",
      "'value'\n",
      "'value'\n",
      "'value'\n",
      "'value'\n",
      "'value'\n",
      "'value'\n",
      "'value'\n",
      "'value'\n",
      "'value'\n",
      "'value'\n"
     ]
    },
    {
     "name": "stderr",
     "output_type": "stream",
     "text": [
      "\r",
      " 45%|████▌     | 228/505 [22:40<29:07,  6.31s/it]"
     ]
    },
    {
     "name": "stdout",
     "output_type": "stream",
     "text": [
      "'value'\n",
      "'value'\n",
      "'value'\n",
      "'value'\n",
      "'value'\n",
      "'value'\n",
      "'value'\n",
      "'value'\n",
      "'value'\n",
      "'value'\n",
      "'value'\n",
      "'value'\n",
      "'value'\n",
      "'value'\n",
      "'value'\n",
      "'value'\n",
      "'value'\n",
      "'value'\n",
      "'value'\n",
      "'value'\n",
      "'value'\n",
      "'value'\n",
      "'value'\n",
      "'value'\n",
      "'value'\n",
      "'value'\n"
     ]
    },
    {
     "name": "stderr",
     "output_type": "stream",
     "text": [
      "\r",
      " 45%|████▌     | 229/505 [22:43<25:04,  5.45s/it]"
     ]
    },
    {
     "name": "stdout",
     "output_type": "stream",
     "text": [
      "'value'\n",
      "'value'\n",
      "'value'\n",
      "'value'\n",
      "'value'\n",
      "'value'\n",
      "'value'\n",
      "'value'\n",
      "'value'\n",
      "'value'\n",
      "'value'\n",
      "'value'\n",
      "'value'\n"
     ]
    },
    {
     "name": "stderr",
     "output_type": "stream",
     "text": [
      "\r",
      " 46%|████▌     | 230/505 [22:48<23:54,  5.22s/it]"
     ]
    },
    {
     "name": "stdout",
     "output_type": "stream",
     "text": [
      "'value'\n",
      "'value'\n",
      "'value'\n",
      "'value'\n",
      "'value'\n",
      "'value'\n",
      "'value'\n",
      "'value'\n",
      "'value'\n",
      "'value'\n",
      "'value'\n",
      "'value'\n",
      "'value'\n",
      "'value'\n",
      "'value'\n",
      "'value'\n",
      "'value'\n",
      "'value'\n",
      "'value'\n",
      "'value'\n",
      "'value'\n",
      "'value'\n",
      "'value'\n",
      "'value'\n",
      "'value'\n",
      "'value'\n",
      "'value'\n",
      "'value'\n",
      "'value'\n"
     ]
    },
    {
     "name": "stderr",
     "output_type": "stream",
     "text": [
      "\r",
      " 46%|████▌     | 231/505 [22:55<26:10,  5.73s/it]"
     ]
    },
    {
     "name": "stdout",
     "output_type": "stream",
     "text": [
      "'value'\n",
      "'value'\n",
      "'value'\n",
      "'value'\n",
      "'value'\n",
      "'value'\n",
      "'value'\n",
      "'value'\n",
      "'value'\n",
      "'value'\n",
      "'value'\n",
      "'value'\n",
      "'value'\n",
      "'value'\n",
      "'value'\n",
      "'value'\n",
      "'value'\n",
      "'value'\n",
      "'value'\n",
      "'value'\n",
      "'value'\n",
      "'value'\n",
      "'value'\n",
      "'value'\n",
      "'value'\n",
      "'value'\n",
      "'value'\n",
      "'value'\n",
      "'value'\n",
      "'value'\n",
      "'value'\n",
      "'value'\n",
      "'value'\n",
      "'value'\n",
      "'value'\n"
     ]
    },
    {
     "name": "stderr",
     "output_type": "stream",
     "text": [
      "\r",
      " 46%|████▌     | 232/505 [23:02<28:21,  6.23s/it]"
     ]
    },
    {
     "name": "stdout",
     "output_type": "stream",
     "text": [
      "'value'\n",
      "'value'\n",
      "'value'\n",
      "'value'\n",
      "'value'\n",
      "'value'\n",
      "'value'\n",
      "'value'\n",
      "'value'\n"
     ]
    },
    {
     "name": "stderr",
     "output_type": "stream",
     "text": [
      "\r",
      " 46%|████▌     | 233/505 [23:07<26:22,  5.82s/it]"
     ]
    },
    {
     "name": "stdout",
     "output_type": "stream",
     "text": [
      "'value'\n",
      "'value'\n",
      "'value'\n",
      "'value'\n",
      "'value'\n",
      "'value'\n",
      "'value'\n",
      "'value'\n",
      "'value'\n",
      "'value'\n",
      "'value'\n",
      "'value'\n",
      "'value'\n",
      "'value'\n",
      "'value'\n",
      "'value'\n",
      "'value'\n",
      "'value'\n",
      "'value'\n",
      "'value'\n",
      "'value'\n",
      "'value'\n",
      "'value'\n",
      "'value'\n",
      "'value'\n",
      "'value'\n"
     ]
    },
    {
     "name": "stderr",
     "output_type": "stream",
     "text": [
      "\r",
      " 46%|████▋     | 234/505 [23:14<27:36,  6.11s/it]"
     ]
    },
    {
     "name": "stdout",
     "output_type": "stream",
     "text": [
      "'value'\n",
      "'value'\n",
      "'value'\n",
      "'value'\n",
      "'value'\n",
      "'value'\n",
      "'value'\n",
      "'value'\n",
      "'value'\n",
      "'value'\n",
      "'value'\n",
      "'value'\n",
      "'value'\n",
      "'value'\n",
      "'value'\n",
      "'value'\n"
     ]
    },
    {
     "name": "stderr",
     "output_type": "stream",
     "text": [
      "\r",
      " 47%|████▋     | 235/505 [23:20<27:50,  6.19s/it]"
     ]
    },
    {
     "name": "stdout",
     "output_type": "stream",
     "text": [
      "'value'\n",
      "'value'\n",
      "'value'\n",
      "'value'\n",
      "'value'\n",
      "'value'\n",
      "'value'\n",
      "'value'\n",
      "'value'\n",
      "'value'\n",
      "'value'\n",
      "'value'\n",
      "'value'\n",
      "'value'\n",
      "'value'\n",
      "'value'\n",
      "'value'\n",
      "'value'\n",
      "'value'\n",
      "'value'\n",
      "'value'\n",
      "'value'\n"
     ]
    },
    {
     "name": "stderr",
     "output_type": "stream",
     "text": [
      "\r",
      " 47%|████▋     | 236/505 [23:26<27:34,  6.15s/it]"
     ]
    },
    {
     "name": "stdout",
     "output_type": "stream",
     "text": [
      "'value'\n",
      "'value'\n",
      "'value'\n",
      "'value'\n",
      "'value'\n",
      "'value'\n",
      "'value'\n",
      "'value'\n",
      "'value'\n",
      "'value'\n",
      "'value'\n",
      "'value'\n",
      "'value'\n",
      "'value'\n",
      "'value'\n",
      "'value'\n",
      "'value'\n",
      "'value'\n",
      "'value'\n",
      "'value'\n",
      "'value'\n",
      "'value'\n",
      "'value'\n",
      "'value'\n",
      "'value'\n",
      "'value'\n",
      "'value'\n",
      "'value'\n",
      "'value'\n",
      "'value'\n",
      "'value'\n",
      "'value'\n",
      "'value'\n",
      "'value'\n",
      "'value'\n",
      "'value'\n",
      "'value'\n",
      "'value'\n",
      "'value'\n",
      "'value'\n",
      "'value'\n",
      "'value'\n",
      "'value'\n",
      "'value'\n",
      "'value'\n",
      "'value'\n"
     ]
    },
    {
     "name": "stderr",
     "output_type": "stream",
     "text": [
      "\r",
      " 47%|████▋     | 237/505 [23:35<30:16,  6.78s/it]"
     ]
    },
    {
     "name": "stdout",
     "output_type": "stream",
     "text": [
      "'value'\n",
      "'value'\n",
      "'value'\n",
      "'value'\n",
      "'value'\n",
      "'value'\n",
      "'value'\n",
      "'value'\n",
      "'value'\n",
      "'value'\n",
      "'value'\n",
      "'value'\n",
      "'value'\n",
      "'value'\n",
      "'value'\n",
      "'value'\n",
      "'value'\n",
      "'value'\n",
      "'value'\n",
      "'value'\n",
      "'value'\n"
     ]
    },
    {
     "name": "stderr",
     "output_type": "stream",
     "text": [
      "\r",
      " 47%|████▋     | 238/505 [23:43<32:40,  7.34s/it]"
     ]
    },
    {
     "name": "stdout",
     "output_type": "stream",
     "text": [
      "'value'\n",
      "'value'\n",
      "'value'\n",
      "'value'\n",
      "'value'\n",
      "'value'\n",
      "'value'\n",
      "'value'\n",
      "'value'\n",
      "'value'\n",
      "'value'\n",
      "'value'\n",
      "'value'\n",
      "'value'\n",
      "'value'\n",
      "'value'\n",
      "'value'\n",
      "'value'\n",
      "'value'\n",
      "'value'\n",
      "'value'\n",
      "'value'\n",
      "'value'\n",
      "'value'\n",
      "'value'\n"
     ]
    },
    {
     "name": "stderr",
     "output_type": "stream",
     "text": [
      "\r",
      " 47%|████▋     | 239/505 [23:51<33:10,  7.48s/it]"
     ]
    },
    {
     "name": "stdout",
     "output_type": "stream",
     "text": [
      "'value'\n",
      "'value'\n",
      "'value'\n",
      "'value'\n",
      "'value'\n",
      "'value'\n",
      "'value'\n",
      "'value'\n",
      "'value'\n",
      "'value'\n",
      "'value'\n",
      "'value'\n",
      "'value'\n",
      "'value'\n",
      "'value'\n",
      "'value'\n",
      "'value'\n",
      "'value'\n",
      "'value'\n",
      "'value'\n",
      "'value'\n",
      "'value'\n",
      "'value'\n",
      "'value'\n",
      "'value'\n",
      "'value'\n"
     ]
    },
    {
     "name": "stderr",
     "output_type": "stream",
     "text": [
      "\r",
      " 48%|████▊     | 240/505 [24:01<36:49,  8.34s/it]"
     ]
    },
    {
     "name": "stdout",
     "output_type": "stream",
     "text": [
      "'value'\n",
      "'value'\n",
      "'value'\n",
      "'value'\n",
      "'value'\n",
      "'value'\n",
      "'value'\n",
      "'value'\n",
      "'value'\n",
      "'value'\n",
      "'value'\n",
      "'value'\n",
      "'value'\n",
      "'value'\n",
      "'value'\n"
     ]
    },
    {
     "name": "stderr",
     "output_type": "stream",
     "text": [
      "\r",
      " 48%|████▊     | 241/505 [24:07<33:10,  7.54s/it]"
     ]
    },
    {
     "name": "stdout",
     "output_type": "stream",
     "text": [
      "'value'\n",
      "'value'\n",
      "'value'\n",
      "'value'\n",
      "'value'\n",
      "'value'\n",
      "'value'\n",
      "'value'\n",
      "'value'\n"
     ]
    },
    {
     "name": "stderr",
     "output_type": "stream",
     "text": [
      "\r",
      " 48%|████▊     | 242/505 [24:14<32:14,  7.36s/it]"
     ]
    },
    {
     "name": "stdout",
     "output_type": "stream",
     "text": [
      "'value'\n",
      "'value'\n",
      "'value'\n",
      "'value'\n",
      "'value'\n",
      "'value'\n",
      "'value'\n",
      "'value'\n",
      "'value'\n",
      "'value'\n",
      "'value'\n"
     ]
    },
    {
     "name": "stderr",
     "output_type": "stream",
     "text": [
      "\r",
      " 48%|████▊     | 243/505 [24:24<34:54,  7.99s/it]"
     ]
    },
    {
     "name": "stdout",
     "output_type": "stream",
     "text": [
      "'value'\n",
      "'value'\n",
      "'value'\n",
      "'value'\n",
      "'value'\n",
      "'value'\n",
      "'value'\n",
      "'value'\n",
      "'value'\n",
      "'value'\n",
      "'value'\n",
      "'value'\n",
      "'value'\n",
      "'value'\n",
      "'value'\n",
      "'value'\n",
      "'value'\n",
      "'value'\n",
      "'value'\n",
      "'value'\n"
     ]
    },
    {
     "name": "stderr",
     "output_type": "stream",
     "text": [
      "\r",
      " 48%|████▊     | 244/505 [24:27<28:29,  6.55s/it]"
     ]
    },
    {
     "name": "stdout",
     "output_type": "stream",
     "text": [
      "'value'\n",
      "'value'\n",
      "'value'\n",
      "'value'\n",
      "'value'\n",
      "'value'\n",
      "'value'\n",
      "'value'\n",
      "'value'\n",
      "'value'\n",
      "'value'\n",
      "'value'\n",
      "'value'\n",
      "'value'\n",
      "'value'\n",
      "'value'\n",
      "'value'\n",
      "'value'\n"
     ]
    },
    {
     "name": "stderr",
     "output_type": "stream",
     "text": [
      "\r",
      " 49%|████▊     | 245/505 [24:34<28:40,  6.62s/it]"
     ]
    },
    {
     "name": "stdout",
     "output_type": "stream",
     "text": [
      "'value'\n",
      "'value'\n",
      "'value'\n",
      "'value'\n",
      "'value'\n",
      "'value'\n",
      "'value'\n",
      "'value'\n",
      "'value'\n",
      "'value'\n",
      "'value'\n",
      "'value'\n",
      "'value'\n",
      "'value'\n",
      "'value'\n",
      "'value'\n",
      "'value'\n",
      "'value'\n"
     ]
    },
    {
     "name": "stderr",
     "output_type": "stream",
     "text": [
      "\r",
      " 49%|████▊     | 246/505 [24:40<28:06,  6.51s/it]"
     ]
    },
    {
     "name": "stdout",
     "output_type": "stream",
     "text": [
      "'value'\n",
      "'value'\n",
      "'value'\n",
      "'value'\n",
      "'value'\n",
      "'value'\n",
      "'value'\n",
      "'value'\n",
      "'value'\n",
      "'value'\n",
      "'value'\n",
      "'value'\n"
     ]
    },
    {
     "name": "stderr",
     "output_type": "stream",
     "text": [
      "\r",
      " 49%|████▉     | 247/505 [25:56<1:58:03, 27.46s/it]"
     ]
    },
    {
     "name": "stdout",
     "output_type": "stream",
     "text": [
      "'value'\n",
      "'value'\n",
      "'value'\n",
      "'value'\n",
      "'value'\n",
      "'value'\n",
      "'value'\n",
      "'value'\n",
      "'value'\n",
      "'value'\n",
      "'value'\n",
      "'value'\n",
      "'value'\n",
      "'value'\n",
      "'value'\n",
      "'value'\n",
      "'value'\n",
      "'value'\n",
      "'value'\n"
     ]
    },
    {
     "name": "stderr",
     "output_type": "stream",
     "text": [
      "\r",
      " 49%|████▉     | 248/505 [25:59<1:26:06, 20.10s/it]"
     ]
    },
    {
     "name": "stdout",
     "output_type": "stream",
     "text": [
      "'value'\n",
      "'value'\n",
      "'value'\n",
      "'value'\n",
      "'value'\n",
      "'value'\n",
      "'value'\n",
      "'value'\n",
      "'value'\n",
      "'value'\n",
      "'value'\n",
      "'value'\n",
      "'value'\n",
      "'value'\n",
      "'value'\n",
      "'value'\n",
      "'value'\n",
      "'value'\n",
      "'value'\n",
      "'value'\n",
      "'value'\n"
     ]
    },
    {
     "name": "stderr",
     "output_type": "stream",
     "text": [
      "\r",
      " 49%|████▉     | 249/505 [26:06<1:08:41, 16.10s/it]"
     ]
    },
    {
     "name": "stdout",
     "output_type": "stream",
     "text": [
      "'value'\n",
      "'value'\n",
      "'value'\n",
      "'value'\n",
      "'value'\n",
      "'value'\n",
      "'value'\n",
      "'value'\n",
      "'value'\n",
      "'value'\n",
      "'value'\n",
      "'value'\n",
      "'value'\n",
      "'value'\n",
      "'value'\n",
      "'value'\n",
      "'value'\n",
      "'value'\n",
      "'value'\n",
      "'value'\n",
      "'value'\n",
      "'value'\n"
     ]
    },
    {
     "name": "stderr",
     "output_type": "stream",
     "text": [
      "\r",
      " 50%|████▉     | 250/505 [26:15<59:56, 14.10s/it]  "
     ]
    },
    {
     "name": "stdout",
     "output_type": "stream",
     "text": [
      "'value'\n",
      "'value'\n",
      "'value'\n",
      "'value'\n",
      "'value'\n",
      "'value'\n",
      "'value'\n",
      "'value'\n",
      "'value'\n",
      "'value'\n",
      "'value'\n",
      "'value'\n",
      "'value'\n",
      "'value'\n",
      "'value'\n",
      "'value'\n",
      "'value'\n",
      "'value'\n",
      "'value'\n",
      "'value'\n",
      "'value'\n",
      "'value'\n",
      "'value'\n",
      "'value'\n",
      "'value'\n",
      "'value'\n",
      "'value'\n",
      "'value'\n",
      "'value'\n"
     ]
    },
    {
     "name": "stderr",
     "output_type": "stream",
     "text": [
      "\r",
      " 50%|████▉     | 251/505 [26:28<57:33, 13.59s/it]"
     ]
    },
    {
     "name": "stdout",
     "output_type": "stream",
     "text": [
      "'value'\n",
      "'value'\n",
      "'value'\n",
      "'value'\n",
      "'value'\n",
      "'value'\n",
      "'value'\n",
      "'value'\n",
      "'value'\n",
      "'value'\n",
      "'value'\n",
      "'value'\n",
      "'value'\n",
      "'value'\n",
      "'value'\n"
     ]
    },
    {
     "name": "stderr",
     "output_type": "stream",
     "text": [
      "\r",
      " 50%|████▉     | 252/505 [26:34<47:59, 11.38s/it]"
     ]
    },
    {
     "name": "stdout",
     "output_type": "stream",
     "text": [
      "'value'\n",
      "'value'\n",
      "'value'\n",
      "'value'\n",
      "'value'\n",
      "'value'\n",
      "'value'\n",
      "'value'\n",
      "'value'\n",
      "'value'\n",
      "'value'\n",
      "'value'\n",
      "'value'\n",
      "'value'\n",
      "'value'\n",
      "'value'\n",
      "'value'\n",
      "'value'\n",
      "'value'\n",
      "'value'\n",
      "'value'\n"
     ]
    },
    {
     "name": "stderr",
     "output_type": "stream",
     "text": [
      "\r",
      " 50%|█████     | 253/505 [26:39<39:56,  9.51s/it]"
     ]
    },
    {
     "name": "stdout",
     "output_type": "stream",
     "text": [
      "'value'\n",
      "'value'\n",
      "'value'\n",
      "'value'\n",
      "'value'\n",
      "'value'\n",
      "'value'\n",
      "'value'\n",
      "'value'\n",
      "'value'\n",
      "'value'\n",
      "'value'\n",
      "'value'\n",
      "'value'\n",
      "'value'\n",
      "'value'\n",
      "'value'\n",
      "'value'\n"
     ]
    },
    {
     "name": "stderr",
     "output_type": "stream",
     "text": [
      "\r",
      " 50%|█████     | 254/505 [26:45<35:28,  8.48s/it]"
     ]
    },
    {
     "name": "stdout",
     "output_type": "stream",
     "text": [
      "'value'\n",
      "'value'\n",
      "'value'\n",
      "'value'\n",
      "'value'\n",
      "'value'\n",
      "'value'\n",
      "'value'\n",
      "'value'\n",
      "'value'\n",
      "'value'\n",
      "'value'\n",
      "'value'\n",
      "'value'\n"
     ]
    },
    {
     "name": "stderr",
     "output_type": "stream",
     "text": [
      "\r",
      " 50%|█████     | 255/505 [26:51<32:26,  7.79s/it]"
     ]
    },
    {
     "name": "stdout",
     "output_type": "stream",
     "text": [
      "'value'\n",
      "'value'\n",
      "'value'\n",
      "'value'\n",
      "'value'\n",
      "'value'\n",
      "'value'\n",
      "'value'\n",
      "'value'\n",
      "'value'\n",
      "'value'\n",
      "'value'\n",
      "'value'\n",
      "'value'\n"
     ]
    },
    {
     "name": "stderr",
     "output_type": "stream",
     "text": [
      "\r",
      " 51%|█████     | 256/505 [26:57<29:32,  7.12s/it]"
     ]
    },
    {
     "name": "stdout",
     "output_type": "stream",
     "text": [
      "'value'\n",
      "'value'\n",
      "'value'\n",
      "'value'\n",
      "'value'\n",
      "'value'\n",
      "'value'\n",
      "'value'\n",
      "'value'\n",
      "'value'\n",
      "'value'\n",
      "'value'\n",
      "'value'\n",
      "'value'\n",
      "'value'\n",
      "'value'\n",
      "'value'\n",
      "'value'\n",
      "'value'\n",
      "'value'\n",
      "'value'\n",
      "'value'\n",
      "'value'\n",
      "'value'\n",
      "'value'\n",
      "'value'\n",
      "'value'\n",
      "'value'\n",
      "'value'\n",
      "'value'\n",
      "'value'\n",
      "'value'\n",
      "'value'\n"
     ]
    },
    {
     "name": "stderr",
     "output_type": "stream",
     "text": [
      "\r",
      " 51%|█████     | 257/505 [27:04<29:03,  7.03s/it]"
     ]
    },
    {
     "name": "stdout",
     "output_type": "stream",
     "text": [
      "'value'\n",
      "'value'\n",
      "'value'\n",
      "'value'\n",
      "'value'\n",
      "'value'\n",
      "'value'\n",
      "'value'\n",
      "'value'\n",
      "'value'\n",
      "'value'\n",
      "'value'\n",
      "'value'\n",
      "'value'\n"
     ]
    },
    {
     "name": "stderr",
     "output_type": "stream",
     "text": [
      "\r",
      " 51%|█████     | 258/505 [27:09<26:31,  6.44s/it]"
     ]
    },
    {
     "name": "stdout",
     "output_type": "stream",
     "text": [
      "'value'\n",
      "'value'\n",
      "'value'\n",
      "'value'\n",
      "'value'\n",
      "'value'\n",
      "'value'\n",
      "'value'\n",
      "'value'\n",
      "'value'\n",
      "'value'\n",
      "'value'\n",
      "'value'\n",
      "'value'\n",
      "'value'\n",
      "'value'\n",
      "'value'\n",
      "'value'\n",
      "'value'\n",
      "'value'\n",
      "'value'\n",
      "'value'\n",
      "'value'\n",
      "'value'\n"
     ]
    },
    {
     "name": "stderr",
     "output_type": "stream",
     "text": [
      "\r",
      " 51%|█████▏    | 259/505 [27:13<23:57,  5.84s/it]"
     ]
    },
    {
     "name": "stdout",
     "output_type": "stream",
     "text": [
      "'value'\n",
      "'value'\n",
      "'value'\n",
      "'value'\n",
      "'value'\n",
      "'value'\n",
      "'value'\n",
      "'value'\n",
      "'value'\n",
      "'value'\n",
      "'value'\n",
      "'value'\n"
     ]
    },
    {
     "name": "stderr",
     "output_type": "stream",
     "text": [
      "\r",
      " 51%|█████▏    | 260/505 [27:23<28:31,  6.98s/it]"
     ]
    },
    {
     "name": "stdout",
     "output_type": "stream",
     "text": [
      "'value'\n",
      "'value'\n",
      "'value'\n",
      "'value'\n",
      "'value'\n",
      "'value'\n",
      "'value'\n",
      "'value'\n",
      "'value'\n",
      "'value'\n"
     ]
    },
    {
     "name": "stderr",
     "output_type": "stream",
     "text": [
      "\r",
      " 52%|█████▏    | 261/505 [27:28<25:52,  6.36s/it]"
     ]
    },
    {
     "name": "stdout",
     "output_type": "stream",
     "text": [
      "'value'\n",
      "'value'\n",
      "'value'\n",
      "'value'\n",
      "'value'\n",
      "'value'\n",
      "'value'\n",
      "'value'\n",
      "'value'\n",
      "'value'\n",
      "'value'\n",
      "'value'\n",
      "'value'\n"
     ]
    },
    {
     "name": "stderr",
     "output_type": "stream",
     "text": [
      "\r",
      " 52%|█████▏    | 262/505 [27:34<25:07,  6.20s/it]"
     ]
    },
    {
     "name": "stdout",
     "output_type": "stream",
     "text": [
      "'value'\n",
      "'value'\n",
      "'value'\n",
      "'value'\n",
      "'value'\n",
      "'value'\n",
      "'value'\n",
      "'value'\n",
      "'value'\n",
      "'value'\n",
      "'value'\n",
      "'value'\n",
      "'value'\n",
      "'value'\n",
      "'value'\n",
      "'value'\n",
      "'value'\n",
      "'value'\n"
     ]
    },
    {
     "name": "stderr",
     "output_type": "stream",
     "text": [
      "\r",
      " 52%|█████▏    | 263/505 [27:38<22:53,  5.68s/it]"
     ]
    },
    {
     "name": "stdout",
     "output_type": "stream",
     "text": [
      "'value'\n",
      "'value'\n",
      "'value'\n",
      "'value'\n",
      "'value'\n",
      "'value'\n",
      "'value'\n",
      "'value'\n",
      "'value'\n",
      "'value'\n",
      "'value'\n",
      "'value'\n",
      "'value'\n",
      "'value'\n",
      "'value'\n",
      "'value'\n",
      "'value'\n",
      "'value'\n",
      "'value'\n",
      "'value'\n",
      "'value'\n"
     ]
    },
    {
     "name": "stderr",
     "output_type": "stream",
     "text": [
      "\r",
      " 52%|█████▏    | 264/505 [27:47<26:27,  6.59s/it]"
     ]
    },
    {
     "name": "stdout",
     "output_type": "stream",
     "text": [
      "'value'\n",
      "'value'\n",
      "'value'\n",
      "'value'\n",
      "'value'\n",
      "'value'\n",
      "'value'\n",
      "'value'\n",
      "'value'\n",
      "'value'\n",
      "'value'\n",
      "'value'\n"
     ]
    },
    {
     "name": "stderr",
     "output_type": "stream",
     "text": [
      "\r",
      " 52%|█████▏    | 265/505 [27:53<25:50,  6.46s/it]"
     ]
    },
    {
     "name": "stdout",
     "output_type": "stream",
     "text": [
      "'value'\n",
      "'value'\n",
      "'value'\n",
      "'value'\n",
      "'value'\n",
      "'value'\n",
      "'value'\n",
      "'value'\n",
      "'value'\n",
      "'value'\n",
      "'value'\n",
      "'value'\n",
      "'value'\n",
      "'value'\n",
      "'value'\n",
      "'value'\n",
      "'value'\n",
      "'value'\n",
      "'value'\n",
      "'value'\n"
     ]
    },
    {
     "name": "stderr",
     "output_type": "stream",
     "text": [
      "\r",
      " 53%|█████▎    | 266/505 [28:01<28:04,  7.05s/it]"
     ]
    },
    {
     "name": "stdout",
     "output_type": "stream",
     "text": [
      "'value'\n",
      "'value'\n",
      "'value'\n",
      "'value'\n",
      "'value'\n",
      "'value'\n",
      "'value'\n",
      "'value'\n",
      "'value'\n",
      "'value'\n",
      "'value'\n",
      "'value'\n",
      "'value'\n",
      "'value'\n",
      "'value'\n",
      "'value'\n",
      "'value'\n",
      "'value'\n",
      "'value'\n",
      "'value'\n",
      "'value'\n",
      "'value'\n",
      "'value'\n",
      "'value'\n",
      "'value'\n",
      "'value'\n",
      "'value'\n",
      "'value'\n",
      "'value'\n",
      "'value'\n",
      "'value'\n",
      "'value'\n",
      "'value'\n",
      "'value'\n",
      "'value'\n",
      "'value'\n",
      "'value'\n"
     ]
    },
    {
     "name": "stderr",
     "output_type": "stream",
     "text": [
      "\r",
      " 53%|█████▎    | 267/505 [28:13<33:03,  8.33s/it]"
     ]
    },
    {
     "name": "stdout",
     "output_type": "stream",
     "text": [
      "'value'\n",
      "'value'\n",
      "'value'\n",
      "'value'\n",
      "'value'\n",
      "'value'\n",
      "'value'\n",
      "'value'\n",
      "'value'\n",
      "'value'\n",
      "'value'\n",
      "'value'\n",
      "'value'\n",
      "'value'\n",
      "'value'\n",
      "'value'\n"
     ]
    },
    {
     "name": "stderr",
     "output_type": "stream",
     "text": [
      "\r",
      " 53%|█████▎    | 268/505 [28:20<31:16,  7.92s/it]"
     ]
    },
    {
     "name": "stdout",
     "output_type": "stream",
     "text": [
      "'value'\n",
      "'value'\n",
      "'value'\n",
      "'value'\n",
      "'value'\n",
      "'value'\n",
      "'value'\n",
      "'value'\n",
      "'value'\n",
      "'value'\n",
      "'value'\n",
      "'value'\n",
      "'value'\n",
      "'value'\n",
      "'value'\n",
      "'value'\n",
      "'value'\n",
      "'value'\n",
      "'value'\n",
      "'value'\n",
      "'value'\n",
      "'value'\n",
      "'value'\n"
     ]
    },
    {
     "name": "stderr",
     "output_type": "stream",
     "text": [
      "\r",
      " 53%|█████▎    | 269/505 [28:25<28:29,  7.25s/it]"
     ]
    },
    {
     "name": "stdout",
     "output_type": "stream",
     "text": [
      "'value'\n",
      "'value'\n",
      "'value'\n",
      "'value'\n",
      "'value'\n",
      "'value'\n",
      "'value'\n",
      "'value'\n",
      "'value'\n",
      "'value'\n",
      "'value'\n",
      "'value'\n",
      "'value'\n",
      "'value'\n",
      "'value'\n",
      "'value'\n",
      "'value'\n",
      "'value'\n"
     ]
    },
    {
     "name": "stderr",
     "output_type": "stream",
     "text": [
      "\r",
      " 53%|█████▎    | 270/505 [28:33<28:34,  7.30s/it]"
     ]
    },
    {
     "name": "stdout",
     "output_type": "stream",
     "text": [
      "'value'\n",
      "'value'\n",
      "'value'\n",
      "'value'\n",
      "'value'\n",
      "'value'\n",
      "'value'\n",
      "'value'\n",
      "'value'\n",
      "'value'\n",
      "'value'\n",
      "'value'\n",
      "'value'\n",
      "'value'\n",
      "'value'\n",
      "'value'\n",
      "'value'\n",
      "'value'\n",
      "'value'\n",
      "'value'\n",
      "'value'\n",
      "'value'\n",
      "'value'\n",
      "'value'\n"
     ]
    },
    {
     "name": "stderr",
     "output_type": "stream",
     "text": [
      "\r",
      " 54%|█████▎    | 271/505 [28:50<40:03, 10.27s/it]"
     ]
    },
    {
     "name": "stdout",
     "output_type": "stream",
     "text": [
      "'value'\n",
      "'value'\n",
      "'value'\n",
      "'value'\n",
      "'value'\n",
      "'value'\n",
      "'value'\n",
      "'value'\n",
      "'value'\n",
      "'value'\n",
      "'value'\n",
      "'value'\n",
      "'value'\n"
     ]
    },
    {
     "name": "stderr",
     "output_type": "stream",
     "text": [
      "\r",
      " 54%|█████▍    | 272/505 [28:56<34:52,  8.98s/it]"
     ]
    },
    {
     "name": "stdout",
     "output_type": "stream",
     "text": [
      "'value'\n",
      "'value'\n",
      "'value'\n",
      "'value'\n",
      "'value'\n",
      "'value'\n",
      "'value'\n",
      "'value'\n",
      "'value'\n",
      "'value'\n",
      "'value'\n",
      "'value'\n",
      "'value'\n",
      "'value'\n",
      "'value'\n"
     ]
    },
    {
     "name": "stderr",
     "output_type": "stream",
     "text": [
      "\r",
      " 54%|█████▍    | 273/505 [29:03<32:44,  8.47s/it]"
     ]
    },
    {
     "name": "stdout",
     "output_type": "stream",
     "text": [
      "'value'\n",
      "'value'\n",
      "'value'\n",
      "'value'\n",
      "'value'\n",
      "'value'\n",
      "'value'\n",
      "'value'\n",
      "'value'\n",
      "'value'\n",
      "'value'\n",
      "'value'\n",
      "'value'\n",
      "'value'\n",
      "'value'\n",
      "'value'\n",
      "'value'\n",
      "'value'\n",
      "'value'\n",
      "'value'\n",
      "'value'\n",
      "'value'\n",
      "'value'\n"
     ]
    },
    {
     "name": "stderr",
     "output_type": "stream",
     "text": [
      "\r",
      " 54%|█████▍    | 274/505 [29:14<34:59,  9.09s/it]"
     ]
    },
    {
     "name": "stdout",
     "output_type": "stream",
     "text": [
      "'value'\n",
      "'value'\n",
      "'value'\n",
      "'value'\n",
      "'value'\n",
      "'value'\n",
      "'value'\n",
      "'value'\n",
      "'value'\n",
      "'value'\n",
      "'value'\n",
      "'value'\n",
      "'value'\n",
      "'value'\n",
      "'value'\n",
      "'value'\n",
      "'value'\n",
      "'value'\n",
      "'value'\n",
      "'value'\n",
      "'value'\n",
      "'value'\n",
      "'value'\n",
      "'value'\n",
      "'value'\n",
      "'value'\n",
      "'value'\n"
     ]
    },
    {
     "name": "stderr",
     "output_type": "stream",
     "text": [
      "\r",
      " 54%|█████▍    | 275/505 [29:23<35:10,  9.18s/it]"
     ]
    },
    {
     "name": "stdout",
     "output_type": "stream",
     "text": [
      "'value'\n",
      "'value'\n",
      "'value'\n",
      "'value'\n",
      "'value'\n",
      "'value'\n",
      "'value'\n",
      "'value'\n",
      "'value'\n",
      "'value'\n",
      "'value'\n",
      "'value'\n",
      "'value'\n"
     ]
    },
    {
     "name": "stderr",
     "output_type": "stream",
     "text": [
      "\r",
      " 55%|█████▍    | 276/505 [29:34<36:33,  9.58s/it]"
     ]
    },
    {
     "name": "stdout",
     "output_type": "stream",
     "text": [
      "'value'\n",
      "'value'\n",
      "'value'\n",
      "'value'\n",
      "'value'\n",
      "'value'\n",
      "'value'\n",
      "'value'\n",
      "'value'\n",
      "'value'\n",
      "'value'\n",
      "'value'\n",
      "'value'\n",
      "'value'\n",
      "'value'\n",
      "'value'\n",
      "'value'\n",
      "'value'\n",
      "'value'\n",
      "'value'\n",
      "'value'\n",
      "'value'\n",
      "'value'\n",
      "'value'\n",
      "'value'\n"
     ]
    },
    {
     "name": "stderr",
     "output_type": "stream",
     "text": [
      "\r",
      " 55%|█████▍    | 277/505 [29:40<32:15,  8.49s/it]"
     ]
    },
    {
     "name": "stdout",
     "output_type": "stream",
     "text": [
      "'value'\n",
      "'value'\n",
      "'value'\n",
      "'value'\n",
      "'value'\n",
      "'value'\n",
      "'value'\n",
      "'value'\n",
      "'value'\n",
      "'value'\n",
      "'value'\n",
      "'value'\n",
      "'value'\n",
      "'value'\n",
      "'value'\n"
     ]
    },
    {
     "name": "stderr",
     "output_type": "stream",
     "text": [
      "\r",
      " 55%|█████▌    | 278/505 [29:47<30:59,  8.19s/it]"
     ]
    },
    {
     "name": "stdout",
     "output_type": "stream",
     "text": [
      "'value'\n",
      "'value'\n",
      "'value'\n",
      "'value'\n",
      "'value'\n",
      "'value'\n",
      "'value'\n",
      "'value'\n",
      "'value'\n",
      "'value'\n",
      "'value'\n",
      "'value'\n",
      "'value'\n",
      "'value'\n",
      "'value'\n",
      "'value'\n",
      "'value'\n",
      "'value'\n",
      "'value'\n",
      "'value'\n",
      "'value'\n"
     ]
    },
    {
     "name": "stderr",
     "output_type": "stream",
     "text": [
      "\r",
      " 55%|█████▌    | 279/505 [29:53<28:31,  7.57s/it]"
     ]
    },
    {
     "name": "stdout",
     "output_type": "stream",
     "text": [
      "'value'\n",
      "'value'\n",
      "'value'\n",
      "'value'\n",
      "'value'\n",
      "'value'\n",
      "'value'\n",
      "'value'\n",
      "'value'\n",
      "'value'\n",
      "'value'\n",
      "'value'\n",
      "'value'\n",
      "'value'\n",
      "'value'\n",
      "'value'\n",
      "'value'\n",
      "'value'\n",
      "'value'\n",
      "'value'\n",
      "'value'\n",
      "'value'\n",
      "'value'\n",
      "'value'\n",
      "'value'\n",
      "'value'\n",
      "'value'\n",
      "'value'\n",
      "'value'\n",
      "'value'\n",
      "'value'\n"
     ]
    },
    {
     "name": "stderr",
     "output_type": "stream",
     "text": [
      "\r",
      " 55%|█████▌    | 280/505 [30:02<29:53,  7.97s/it]"
     ]
    },
    {
     "name": "stdout",
     "output_type": "stream",
     "text": [
      "'value'\n",
      "'value'\n",
      "'value'\n",
      "'value'\n",
      "'value'\n",
      "'value'\n",
      "'value'\n",
      "'value'\n",
      "'value'\n",
      "'value'\n",
      "'value'\n",
      "'value'\n",
      "'value'\n",
      "'value'\n",
      "'value'\n",
      "'value'\n",
      "'value'\n",
      "'value'\n",
      "'value'\n",
      "'value'\n",
      "'value'\n",
      "'value'\n",
      "'value'\n",
      "'value'\n",
      "'value'\n",
      "'value'\n",
      "'value'\n",
      "'value'\n",
      "'value'\n",
      "'value'\n",
      "'value'\n",
      "'value'\n",
      "'value'\n"
     ]
    },
    {
     "name": "stderr",
     "output_type": "stream",
     "text": [
      "\r",
      " 56%|█████▌    | 281/505 [30:11<30:41,  8.22s/it]"
     ]
    },
    {
     "name": "stdout",
     "output_type": "stream",
     "text": [
      "'value'\n",
      "'value'\n",
      "'value'\n",
      "'value'\n",
      "'value'\n",
      "'value'\n",
      "'value'\n",
      "'value'\n",
      "'value'\n",
      "'value'\n",
      "'value'\n",
      "'value'\n",
      "'value'\n",
      "'value'\n",
      "'value'\n"
     ]
    },
    {
     "name": "stderr",
     "output_type": "stream",
     "text": [
      "\r",
      " 56%|█████▌    | 282/505 [30:17<28:46,  7.74s/it]"
     ]
    },
    {
     "name": "stdout",
     "output_type": "stream",
     "text": [
      "'value'\n",
      "'value'\n",
      "'value'\n",
      "'value'\n",
      "'value'\n",
      "'value'\n",
      "'value'\n",
      "'value'\n",
      "'value'\n",
      "'value'\n",
      "'value'\n",
      "'value'\n",
      "'value'\n",
      "'value'\n",
      "'value'\n",
      "'value'\n",
      "'value'\n",
      "'value'\n"
     ]
    },
    {
     "name": "stderr",
     "output_type": "stream",
     "text": [
      "\r",
      " 56%|█████▌    | 283/505 [30:20<23:17,  6.29s/it]"
     ]
    },
    {
     "name": "stdout",
     "output_type": "stream",
     "text": [
      "'value'\n",
      "'value'\n",
      "'value'\n",
      "'value'\n",
      "'value'\n",
      "'value'\n",
      "'value'\n",
      "'value'\n",
      "'value'\n",
      "'value'\n",
      "'value'\n",
      "'value'\n",
      "'value'\n",
      "'value'\n",
      "'value'\n",
      "'value'\n",
      "'value'\n"
     ]
    },
    {
     "name": "stderr",
     "output_type": "stream",
     "text": [
      "\r",
      " 56%|█████▌    | 284/505 [30:28<24:40,  6.70s/it]"
     ]
    },
    {
     "name": "stdout",
     "output_type": "stream",
     "text": [
      "'value'\n",
      "'value'\n",
      "'value'\n",
      "'value'\n",
      "'value'\n",
      "'value'\n",
      "'value'\n",
      "'value'\n",
      "'value'\n",
      "'value'\n",
      "'value'\n",
      "'value'\n",
      "'value'\n",
      "'value'\n",
      "'value'\n",
      "'value'\n",
      "'value'\n",
      "'value'\n",
      "'value'\n",
      "'value'\n",
      "'value'\n",
      "'value'\n",
      "'value'\n",
      "'value'\n",
      "'value'\n",
      "'value'\n",
      "'value'\n"
     ]
    },
    {
     "name": "stderr",
     "output_type": "stream",
     "text": [
      "\r",
      " 56%|█████▋    | 285/505 [30:35<24:46,  6.76s/it]"
     ]
    },
    {
     "name": "stdout",
     "output_type": "stream",
     "text": [
      "'value'\n",
      "'value'\n",
      "'value'\n",
      "'value'\n",
      "'value'\n",
      "'value'\n",
      "'value'\n",
      "'value'\n",
      "'value'\n",
      "'value'\n",
      "'value'\n",
      "'value'\n",
      "'value'\n",
      "'value'\n",
      "'value'\n",
      "'value'\n",
      "'value'\n",
      "'value'\n"
     ]
    },
    {
     "name": "stderr",
     "output_type": "stream",
     "text": [
      "\r",
      " 57%|█████▋    | 286/505 [30:43<25:45,  7.06s/it]"
     ]
    },
    {
     "name": "stdout",
     "output_type": "stream",
     "text": [
      "'value'\n",
      "'value'\n",
      "'value'\n",
      "'value'\n",
      "'value'\n",
      "'value'\n",
      "'value'\n",
      "'value'\n",
      "'value'\n",
      "'value'\n",
      "'value'\n",
      "'value'\n",
      "'value'\n"
     ]
    },
    {
     "name": "stderr",
     "output_type": "stream",
     "text": [
      "\r",
      " 57%|█████▋    | 287/505 [30:48<23:16,  6.41s/it]"
     ]
    },
    {
     "name": "stdout",
     "output_type": "stream",
     "text": [
      "'value'\n",
      "'value'\n",
      "'value'\n",
      "'value'\n",
      "'value'\n",
      "'value'\n",
      "'value'\n",
      "'value'\n",
      "'value'\n",
      "'value'\n",
      "'value'\n",
      "'value'\n",
      "'value'\n"
     ]
    },
    {
     "name": "stderr",
     "output_type": "stream",
     "text": [
      "\r",
      " 57%|█████▋    | 288/505 [30:53<22:02,  6.09s/it]"
     ]
    },
    {
     "name": "stdout",
     "output_type": "stream",
     "text": [
      "'value'\n",
      "'value'\n",
      "'value'\n",
      "'value'\n",
      "'value'\n",
      "'value'\n",
      "'value'\n",
      "'value'\n",
      "'value'\n",
      "'value'\n",
      "'value'\n",
      "'value'\n",
      "'value'\n"
     ]
    },
    {
     "name": "stderr",
     "output_type": "stream",
     "text": [
      "\r",
      " 57%|█████▋    | 289/505 [30:59<22:17,  6.19s/it]"
     ]
    },
    {
     "name": "stdout",
     "output_type": "stream",
     "text": [
      "'value'\n",
      "'value'\n",
      "'value'\n",
      "'value'\n",
      "'value'\n",
      "'value'\n",
      "'value'\n",
      "'value'\n",
      "'value'\n",
      "'value'\n",
      "'value'\n",
      "'value'\n",
      "'value'\n"
     ]
    },
    {
     "name": "stderr",
     "output_type": "stream",
     "text": [
      "\r",
      " 57%|█████▋    | 290/505 [31:01<17:16,  4.82s/it]"
     ]
    },
    {
     "name": "stdout",
     "output_type": "stream",
     "text": [
      "'value'\n",
      "'value'\n",
      "'value'\n",
      "'value'\n",
      "'value'\n",
      "'value'\n",
      "'value'\n",
      "'value'\n",
      "'value'\n",
      "'value'\n",
      "'value'\n",
      "'value'\n",
      "'value'\n",
      "'value'\n",
      "'value'\n",
      "'value'\n",
      "'value'\n"
     ]
    },
    {
     "name": "stderr",
     "output_type": "stream",
     "text": [
      "\r",
      " 58%|█████▊    | 291/505 [31:08<19:25,  5.45s/it]"
     ]
    },
    {
     "name": "stdout",
     "output_type": "stream",
     "text": [
      "'value'\n",
      "'value'\n",
      "'value'\n",
      "'value'\n",
      "'value'\n",
      "'value'\n",
      "'value'\n",
      "'value'\n",
      "'value'\n",
      "'value'\n",
      "'value'\n",
      "'value'\n",
      "'value'\n",
      "'value'\n",
      "'value'\n",
      "'value'\n",
      "'value'\n"
     ]
    },
    {
     "name": "stderr",
     "output_type": "stream",
     "text": [
      "\r",
      " 58%|█████▊    | 292/505 [31:16<22:21,  6.30s/it]"
     ]
    },
    {
     "name": "stdout",
     "output_type": "stream",
     "text": [
      "'value'\n",
      "'value'\n",
      "'value'\n",
      "'value'\n",
      "'value'\n",
      "'value'\n",
      "'value'\n",
      "'value'\n",
      "'value'\n",
      "'value'\n",
      "'value'\n",
      "'value'\n",
      "'value'\n",
      "'value'\n",
      "'value'\n",
      "'value'\n"
     ]
    },
    {
     "name": "stderr",
     "output_type": "stream",
     "text": [
      "\r",
      " 58%|█████▊    | 293/505 [31:22<21:20,  6.04s/it]"
     ]
    },
    {
     "name": "stdout",
     "output_type": "stream",
     "text": [
      "'value'\n",
      "'value'\n",
      "'value'\n",
      "'value'\n",
      "'value'\n",
      "'value'\n",
      "'value'\n",
      "'value'\n",
      "'value'\n",
      "'value'\n"
     ]
    },
    {
     "name": "stderr",
     "output_type": "stream",
     "text": [
      "\r",
      " 58%|█████▊    | 294/505 [31:28<21:26,  6.10s/it]"
     ]
    },
    {
     "name": "stdout",
     "output_type": "stream",
     "text": [
      "'value'\n",
      "'value'\n",
      "'value'\n",
      "'value'\n",
      "'value'\n",
      "'value'\n",
      "'value'\n",
      "'value'\n",
      "'value'\n",
      "'value'\n",
      "'value'\n",
      "'value'\n",
      "'value'\n",
      "'value'\n",
      "'value'\n",
      "'value'\n",
      "'value'\n",
      "'value'\n",
      "'value'\n",
      "'value'\n"
     ]
    },
    {
     "name": "stderr",
     "output_type": "stream",
     "text": [
      "\r",
      " 58%|█████▊    | 295/505 [31:35<22:10,  6.34s/it]"
     ]
    },
    {
     "name": "stdout",
     "output_type": "stream",
     "text": [
      "'value'\n",
      "'value'\n",
      "'value'\n",
      "'value'\n",
      "'value'\n",
      "'value'\n",
      "'value'\n",
      "'value'\n",
      "'value'\n",
      "'value'\n",
      "'value'\n",
      "'value'\n",
      "'value'\n",
      "'value'\n",
      "'value'\n",
      "'value'\n",
      "'value'\n",
      "'value'\n",
      "'value'\n",
      "'value'\n",
      "'value'\n",
      "'value'\n",
      "'value'\n",
      "'value'\n",
      "'value'\n",
      "'value'\n",
      "'value'\n",
      "'value'\n"
     ]
    },
    {
     "name": "stderr",
     "output_type": "stream",
     "text": [
      "\r",
      " 59%|█████▊    | 296/505 [31:41<21:42,  6.23s/it]"
     ]
    },
    {
     "name": "stdout",
     "output_type": "stream",
     "text": [
      "'value'\n",
      "'value'\n",
      "'value'\n",
      "'value'\n",
      "'value'\n",
      "'value'\n",
      "'value'\n",
      "'value'\n",
      "'value'\n",
      "'value'\n",
      "'value'\n",
      "'value'\n",
      "'value'\n",
      "'value'\n",
      "'value'\n",
      "'value'\n",
      "'value'\n",
      "'value'\n",
      "'value'\n",
      "'value'\n",
      "'value'\n",
      "'value'\n",
      "'value'\n",
      "'value'\n",
      "'value'\n",
      "'value'\n",
      "'value'\n",
      "'value'\n",
      "'value'\n"
     ]
    },
    {
     "name": "stderr",
     "output_type": "stream",
     "text": [
      "\r",
      " 59%|█████▉    | 297/505 [31:46<20:17,  5.85s/it]"
     ]
    },
    {
     "name": "stdout",
     "output_type": "stream",
     "text": [
      "'value'\n",
      "'value'\n",
      "'value'\n",
      "'value'\n",
      "'value'\n",
      "'value'\n",
      "'value'\n",
      "'value'\n",
      "'value'\n",
      "'value'\n",
      "'value'\n",
      "'value'\n",
      "'value'\n",
      "'value'\n",
      "'value'\n",
      "'value'\n",
      "'value'\n",
      "'value'\n"
     ]
    },
    {
     "name": "stderr",
     "output_type": "stream",
     "text": [
      "\r",
      " 59%|█████▉    | 298/505 [31:55<23:53,  6.92s/it]"
     ]
    },
    {
     "name": "stdout",
     "output_type": "stream",
     "text": [
      "'value'\n",
      "'value'\n",
      "'value'\n",
      "'value'\n",
      "'value'\n",
      "'value'\n",
      "'value'\n",
      "'value'\n",
      "'value'\n",
      "'value'\n",
      "'value'\n",
      "'value'\n",
      "'value'\n",
      "'value'\n"
     ]
    },
    {
     "name": "stderr",
     "output_type": "stream",
     "text": [
      "\r",
      " 59%|█████▉    | 299/505 [32:04<25:23,  7.40s/it]"
     ]
    },
    {
     "name": "stdout",
     "output_type": "stream",
     "text": [
      "'value'\n",
      "'value'\n",
      "'value'\n",
      "'value'\n",
      "'value'\n",
      "'value'\n",
      "'value'\n",
      "'value'\n",
      "'value'\n",
      "'value'\n",
      "'value'\n",
      "'value'\n",
      "'value'\n",
      "'value'\n",
      "'value'\n",
      "'value'\n",
      "'value'\n",
      "'value'\n",
      "'value'\n",
      "'value'\n",
      "'value'\n",
      "'value'\n"
     ]
    },
    {
     "name": "stderr",
     "output_type": "stream",
     "text": [
      "\r",
      " 59%|█████▉    | 300/505 [32:10<24:08,  7.06s/it]"
     ]
    },
    {
     "name": "stdout",
     "output_type": "stream",
     "text": [
      "'value'\n",
      "'value'\n",
      "'value'\n",
      "'value'\n",
      "'value'\n",
      "'value'\n",
      "'value'\n",
      "'value'\n",
      "'value'\n",
      "'value'\n",
      "'value'\n",
      "'value'\n",
      "'value'\n",
      "'value'\n",
      "'value'\n"
     ]
    },
    {
     "name": "stderr",
     "output_type": "stream",
     "text": [
      "\r",
      " 60%|█████▉    | 301/505 [32:17<23:40,  6.96s/it]"
     ]
    },
    {
     "name": "stdout",
     "output_type": "stream",
     "text": [
      "'value'\n",
      "'value'\n",
      "'value'\n",
      "'value'\n",
      "'value'\n",
      "'value'\n",
      "'value'\n",
      "'value'\n",
      "'value'\n",
      "'value'\n",
      "'value'\n",
      "'value'\n",
      "'value'\n",
      "'value'\n",
      "'value'\n",
      "'value'\n",
      "'value'\n",
      "'value'\n",
      "'value'\n",
      "'value'\n",
      "'value'\n",
      "'value'\n",
      "'value'\n",
      "'value'\n",
      "'value'\n"
     ]
    },
    {
     "name": "stderr",
     "output_type": "stream",
     "text": [
      "\r",
      " 60%|█████▉    | 302/505 [32:23<22:37,  6.68s/it]"
     ]
    },
    {
     "name": "stdout",
     "output_type": "stream",
     "text": [
      "'value'\n",
      "'value'\n",
      "'value'\n",
      "'value'\n",
      "'value'\n",
      "'value'\n",
      "'value'\n",
      "'value'\n"
     ]
    },
    {
     "name": "stderr",
     "output_type": "stream",
     "text": [
      "\r",
      " 60%|██████    | 303/505 [32:31<24:05,  7.15s/it]"
     ]
    },
    {
     "name": "stdout",
     "output_type": "stream",
     "text": [
      "'value'\n",
      "'value'\n",
      "'value'\n",
      "'value'\n",
      "'value'\n",
      "'value'\n",
      "'value'\n",
      "'value'\n",
      "'value'\n",
      "'value'\n",
      "'value'\n",
      "'value'\n"
     ]
    },
    {
     "name": "stderr",
     "output_type": "stream",
     "text": [
      "\r",
      " 60%|██████    | 304/505 [32:37<23:12,  6.93s/it]"
     ]
    },
    {
     "name": "stdout",
     "output_type": "stream",
     "text": [
      "'value'\n",
      "'value'\n",
      "'value'\n",
      "'value'\n",
      "'value'\n",
      "'value'\n",
      "'value'\n",
      "'value'\n",
      "'value'\n",
      "'value'\n",
      "'value'\n",
      "'value'\n",
      "'value'\n"
     ]
    },
    {
     "name": "stderr",
     "output_type": "stream",
     "text": [
      "\r",
      " 60%|██████    | 305/505 [32:43<22:08,  6.64s/it]"
     ]
    },
    {
     "name": "stdout",
     "output_type": "stream",
     "text": [
      "'value'\n",
      "'value'\n",
      "'value'\n",
      "'value'\n",
      "'value'\n",
      "'value'\n",
      "'value'\n",
      "'value'\n",
      "'value'\n",
      "'value'\n",
      "'value'\n",
      "'value'\n",
      "'value'\n",
      "'value'\n",
      "'value'\n",
      "'value'\n",
      "'value'\n"
     ]
    },
    {
     "name": "stderr",
     "output_type": "stream",
     "text": [
      "\r",
      " 61%|██████    | 306/505 [32:49<21:02,  6.34s/it]"
     ]
    },
    {
     "name": "stdout",
     "output_type": "stream",
     "text": [
      "'value'\n",
      "'value'\n",
      "'value'\n",
      "'value'\n",
      "'value'\n",
      "'value'\n",
      "'value'\n",
      "'value'\n",
      "'value'\n",
      "'value'\n",
      "'value'\n",
      "'value'\n"
     ]
    },
    {
     "name": "stderr",
     "output_type": "stream",
     "text": [
      "\r",
      " 61%|██████    | 307/505 [32:54<20:05,  6.09s/it]"
     ]
    },
    {
     "name": "stdout",
     "output_type": "stream",
     "text": [
      "'value'\n",
      "'value'\n",
      "'value'\n",
      "'value'\n",
      "'value'\n",
      "'value'\n",
      "'value'\n",
      "'value'\n",
      "'value'\n",
      "'value'\n",
      "'value'\n",
      "'value'\n",
      "'value'\n",
      "'value'\n",
      "'value'\n",
      "'value'\n",
      "'value'\n"
     ]
    },
    {
     "name": "stderr",
     "output_type": "stream",
     "text": [
      "\r",
      " 61%|██████    | 308/505 [33:00<19:44,  6.01s/it]"
     ]
    },
    {
     "name": "stdout",
     "output_type": "stream",
     "text": [
      "'value'\n",
      "'value'\n",
      "'value'\n",
      "'value'\n",
      "'value'\n",
      "'value'\n",
      "'value'\n",
      "'value'\n",
      "'value'\n",
      "'value'\n",
      "'value'\n",
      "'value'\n",
      "'value'\n",
      "'value'\n",
      "'value'\n",
      "'value'\n",
      "'value'\n",
      "'value'\n",
      "'value'\n",
      "'value'\n",
      "'value'\n",
      "'value'\n",
      "'value'\n"
     ]
    },
    {
     "name": "stderr",
     "output_type": "stream",
     "text": [
      "\r",
      " 61%|██████    | 309/505 [33:05<18:03,  5.53s/it]"
     ]
    },
    {
     "name": "stdout",
     "output_type": "stream",
     "text": [
      "'value'\n",
      "'value'\n",
      "'value'\n",
      "'value'\n",
      "'value'\n",
      "'value'\n",
      "'value'\n",
      "'value'\n",
      "'value'\n",
      "'value'\n",
      "'value'\n",
      "'value'\n",
      "'value'\n",
      "'value'\n",
      "'value'\n",
      "'value'\n",
      "'value'\n",
      "'value'\n",
      "'value'\n",
      "'value'\n",
      "'value'\n",
      "'value'\n",
      "'value'\n",
      "'value'\n",
      "'value'\n"
     ]
    },
    {
     "name": "stderr",
     "output_type": "stream",
     "text": [
      "\r",
      " 61%|██████▏   | 310/505 [33:11<18:42,  5.75s/it]"
     ]
    },
    {
     "name": "stdout",
     "output_type": "stream",
     "text": [
      "'value'\n",
      "'value'\n",
      "'value'\n",
      "'value'\n",
      "'value'\n",
      "'value'\n",
      "'value'\n",
      "'value'\n",
      "'value'\n",
      "'value'\n",
      "'value'\n",
      "'value'\n",
      "'value'\n",
      "'value'\n",
      "'value'\n",
      "'value'\n",
      "'value'\n",
      "'value'\n",
      "'value'\n"
     ]
    },
    {
     "name": "stderr",
     "output_type": "stream",
     "text": [
      "\r",
      " 62%|██████▏   | 311/505 [33:16<17:40,  5.47s/it]"
     ]
    },
    {
     "name": "stdout",
     "output_type": "stream",
     "text": [
      "'value'\n",
      "'value'\n",
      "'value'\n",
      "'value'\n",
      "'value'\n",
      "'value'\n",
      "'value'\n",
      "'value'\n",
      "'value'\n"
     ]
    },
    {
     "name": "stderr",
     "output_type": "stream",
     "text": [
      "\r",
      " 62%|██████▏   | 312/505 [33:24<19:56,  6.20s/it]"
     ]
    },
    {
     "name": "stdout",
     "output_type": "stream",
     "text": [
      "'value'\n",
      "'value'\n",
      "'value'\n",
      "'value'\n",
      "'value'\n",
      "'value'\n",
      "'value'\n",
      "'value'\n",
      "'value'\n",
      "'value'\n",
      "'value'\n",
      "'value'\n",
      "'value'\n",
      "'value'\n",
      "'value'\n",
      "'value'\n",
      "'value'\n",
      "'value'\n",
      "'value'\n",
      "'value'\n",
      "'value'\n",
      "'value'\n",
      "'value'\n",
      "'value'\n",
      "'value'\n",
      "'value'\n",
      "'value'\n"
     ]
    },
    {
     "name": "stderr",
     "output_type": "stream",
     "text": [
      "\r",
      " 62%|██████▏   | 313/505 [33:37<27:00,  8.44s/it]"
     ]
    },
    {
     "name": "stdout",
     "output_type": "stream",
     "text": [
      "'value'\n",
      "'value'\n",
      "'value'\n",
      "'value'\n",
      "'value'\n",
      "'value'\n",
      "'value'\n",
      "'value'\n",
      "'value'\n",
      "'value'\n",
      "'value'\n",
      "'value'\n",
      "'value'\n",
      "'value'\n"
     ]
    },
    {
     "name": "stderr",
     "output_type": "stream",
     "text": [
      "\r",
      " 62%|██████▏   | 314/505 [33:44<24:44,  7.77s/it]"
     ]
    },
    {
     "name": "stdout",
     "output_type": "stream",
     "text": [
      "'value'\n",
      "'value'\n",
      "'value'\n",
      "'value'\n",
      "'value'\n",
      "'value'\n",
      "'value'\n",
      "'value'\n",
      "'value'\n",
      "'value'\n",
      "'value'\n",
      "'value'\n",
      "'value'\n",
      "'value'\n",
      "'value'\n",
      "'value'\n",
      "'value'\n",
      "'value'\n",
      "'value'\n",
      "'value'\n",
      "'value'\n",
      "'value'\n",
      "'value'\n",
      "'value'\n",
      "'value'\n",
      "'value'\n",
      "'value'\n",
      "'value'\n",
      "'value'\n",
      "'value'\n",
      "'value'\n",
      "'value'\n",
      "'value'\n",
      "'value'\n",
      "'value'\n"
     ]
    },
    {
     "name": "stderr",
     "output_type": "stream",
     "text": [
      "\r",
      " 62%|██████▏   | 315/505 [33:50<23:09,  7.31s/it]"
     ]
    },
    {
     "name": "stdout",
     "output_type": "stream",
     "text": [
      "'value'\n",
      "'value'\n",
      "'value'\n",
      "'value'\n",
      "'value'\n",
      "'value'\n",
      "'value'\n",
      "'value'\n",
      "'value'\n",
      "'value'\n",
      "'value'\n",
      "'value'\n",
      "'value'\n",
      "'value'\n",
      "'value'\n",
      "'value'\n",
      "'value'\n",
      "'value'\n"
     ]
    },
    {
     "name": "stderr",
     "output_type": "stream",
     "text": [
      "\r",
      " 63%|██████▎   | 316/505 [33:58<24:07,  7.66s/it]"
     ]
    },
    {
     "name": "stdout",
     "output_type": "stream",
     "text": [
      "'value'\n",
      "'value'\n",
      "'value'\n",
      "'value'\n",
      "'value'\n",
      "'value'\n",
      "'value'\n",
      "'value'\n",
      "'value'\n",
      "'value'\n",
      "'value'\n",
      "'value'\n",
      "'value'\n",
      "'value'\n",
      "'value'\n",
      "'value'\n",
      "'value'\n",
      "'value'\n",
      "'value'\n",
      "'value'\n"
     ]
    },
    {
     "name": "stderr",
     "output_type": "stream",
     "text": [
      "\r",
      " 63%|██████▎   | 317/505 [34:05<23:14,  7.42s/it]"
     ]
    },
    {
     "name": "stdout",
     "output_type": "stream",
     "text": [
      "'value'\n",
      "'value'\n",
      "'value'\n",
      "'value'\n",
      "'value'\n",
      "'value'\n",
      "'value'\n",
      "'value'\n",
      "'value'\n",
      "'value'\n",
      "'value'\n",
      "'value'\n",
      "'value'\n",
      "'value'\n",
      "'value'\n",
      "'value'\n",
      "'value'\n",
      "'value'\n"
     ]
    },
    {
     "name": "stderr",
     "output_type": "stream",
     "text": [
      "\r",
      " 63%|██████▎   | 318/505 [34:13<23:28,  7.53s/it]"
     ]
    },
    {
     "name": "stdout",
     "output_type": "stream",
     "text": [
      "'value'\n",
      "'value'\n",
      "'value'\n",
      "'value'\n",
      "'value'\n",
      "'value'\n",
      "'value'\n",
      "'value'\n",
      "'value'\n",
      "'value'\n",
      "'value'\n",
      "'value'\n",
      "'value'\n",
      "'value'\n",
      "'value'\n",
      "'value'\n",
      "'value'\n",
      "'value'\n",
      "'value'\n",
      "'value'\n",
      "'value'\n",
      "'value'\n",
      "'value'\n",
      "'value'\n",
      "'value'\n",
      "'value'\n",
      "'value'\n",
      "'value'\n"
     ]
    },
    {
     "name": "stderr",
     "output_type": "stream",
     "text": [
      "\r",
      " 63%|██████▎   | 319/505 [34:19<22:00,  7.10s/it]"
     ]
    },
    {
     "name": "stdout",
     "output_type": "stream",
     "text": [
      "'value'\n",
      "'value'\n",
      "'value'\n",
      "'value'\n",
      "'value'\n",
      "'value'\n",
      "'value'\n",
      "'value'\n",
      "'value'\n",
      "'value'\n",
      "'value'\n",
      "'value'\n",
      "'value'\n",
      "'value'\n",
      "'value'\n",
      "'value'\n"
     ]
    },
    {
     "name": "stderr",
     "output_type": "stream",
     "text": [
      "\r",
      " 63%|██████▎   | 320/505 [34:25<20:58,  6.81s/it]"
     ]
    },
    {
     "name": "stdout",
     "output_type": "stream",
     "text": [
      "'value'\n",
      "'value'\n",
      "'value'\n",
      "'value'\n",
      "'value'\n",
      "'value'\n",
      "'value'\n",
      "'value'\n",
      "'value'\n",
      "'value'\n",
      "'value'\n",
      "'value'\n",
      "'value'\n",
      "'value'\n",
      "'value'\n",
      "'value'\n",
      "'value'\n",
      "'value'\n"
     ]
    },
    {
     "name": "stderr",
     "output_type": "stream",
     "text": [
      "\r",
      " 64%|██████▎   | 321/505 [34:36<24:43,  8.06s/it]"
     ]
    },
    {
     "name": "stdout",
     "output_type": "stream",
     "text": [
      "'value'\n",
      "'value'\n",
      "'value'\n",
      "'value'\n",
      "'value'\n",
      "'value'\n",
      "'value'\n",
      "'value'\n",
      "'value'\n",
      "'value'\n",
      "'value'\n",
      "'value'\n",
      "'value'\n",
      "'value'\n",
      "'value'\n",
      "'value'\n",
      "'value'\n",
      "'value'\n",
      "'value'\n",
      "'value'\n"
     ]
    },
    {
     "name": "stderr",
     "output_type": "stream",
     "text": [
      "\r",
      " 64%|██████▍   | 322/505 [34:43<23:52,  7.83s/it]"
     ]
    },
    {
     "name": "stdout",
     "output_type": "stream",
     "text": [
      "'value'\n",
      "'value'\n",
      "'value'\n",
      "'value'\n",
      "'value'\n",
      "'value'\n",
      "'value'\n",
      "'value'\n",
      "'value'\n",
      "'value'\n",
      "'value'\n",
      "'value'\n",
      "'value'\n",
      "'value'\n",
      "'value'\n",
      "'value'\n",
      "'value'\n",
      "'value'\n",
      "'value'\n",
      "'value'\n",
      "'value'\n"
     ]
    },
    {
     "name": "stderr",
     "output_type": "stream",
     "text": [
      "\r",
      " 64%|██████▍   | 323/505 [34:49<21:46,  7.18s/it]"
     ]
    },
    {
     "name": "stdout",
     "output_type": "stream",
     "text": [
      "'value'\n",
      "'value'\n",
      "'value'\n",
      "'value'\n",
      "'value'\n",
      "'value'\n",
      "'value'\n",
      "'value'\n",
      "'value'\n",
      "'value'\n"
     ]
    },
    {
     "name": "stderr",
     "output_type": "stream",
     "text": [
      "\r",
      " 64%|██████▍   | 324/505 [34:56<21:15,  7.04s/it]"
     ]
    },
    {
     "name": "stdout",
     "output_type": "stream",
     "text": [
      "'value'\n",
      "'value'\n",
      "'value'\n",
      "'value'\n",
      "'value'\n",
      "'value'\n",
      "'value'\n",
      "'value'\n",
      "'value'\n",
      "'value'\n",
      "'value'\n",
      "'value'\n",
      "'value'\n",
      "'value'\n"
     ]
    },
    {
     "name": "stderr",
     "output_type": "stream",
     "text": [
      "\r",
      " 64%|██████▍   | 325/505 [35:04<21:58,  7.33s/it]"
     ]
    },
    {
     "name": "stdout",
     "output_type": "stream",
     "text": [
      "'value'\n",
      "'value'\n",
      "'value'\n",
      "'value'\n",
      "'value'\n",
      "'value'\n",
      "'value'\n",
      "'value'\n",
      "'value'\n",
      "'value'\n",
      "'value'\n",
      "'value'\n",
      "'value'\n",
      "'value'\n",
      "'value'\n",
      "'value'\n",
      "'value'\n",
      "'value'\n",
      "'value'\n",
      "'value'\n",
      "'value'\n",
      "'value'\n",
      "'value'\n"
     ]
    },
    {
     "name": "stderr",
     "output_type": "stream",
     "text": [
      "\r",
      " 65%|██████▍   | 326/505 [35:13<23:25,  7.85s/it]"
     ]
    },
    {
     "name": "stdout",
     "output_type": "stream",
     "text": [
      "'value'\n",
      "'value'\n",
      "'value'\n",
      "'value'\n",
      "'value'\n",
      "'value'\n",
      "'value'\n",
      "'value'\n",
      "'value'\n",
      "'value'\n",
      "'value'\n",
      "'value'\n",
      "'value'\n",
      "'value'\n",
      "'value'\n"
     ]
    },
    {
     "name": "stderr",
     "output_type": "stream",
     "text": [
      "\r",
      " 65%|██████▍   | 327/505 [35:20<23:05,  7.78s/it]"
     ]
    },
    {
     "name": "stdout",
     "output_type": "stream",
     "text": [
      "'value'\n",
      "'value'\n",
      "'value'\n",
      "'value'\n",
      "'value'\n",
      "'value'\n",
      "'value'\n",
      "'value'\n",
      "'value'\n",
      "'value'\n",
      "'value'\n",
      "'value'\n",
      "'value'\n",
      "'value'\n",
      "'value'\n",
      "'value'\n",
      "'value'\n",
      "'value'\n"
     ]
    },
    {
     "name": "stderr",
     "output_type": "stream",
     "text": [
      "\r",
      " 65%|██████▍   | 328/505 [35:30<24:37,  8.35s/it]"
     ]
    },
    {
     "name": "stdout",
     "output_type": "stream",
     "text": [
      "'value'\n",
      "'value'\n",
      "'value'\n",
      "'value'\n",
      "'value'\n",
      "'value'\n",
      "'value'\n",
      "'value'\n",
      "'value'\n",
      "'value'\n",
      "'value'\n",
      "'value'\n",
      "'value'\n",
      "'value'\n",
      "'value'\n",
      "'value'\n",
      "'value'\n",
      "'value'\n",
      "'value'\n",
      "'value'\n",
      "'value'\n",
      "'value'\n",
      "'value'\n"
     ]
    },
    {
     "name": "stderr",
     "output_type": "stream",
     "text": [
      "\r",
      " 65%|██████▌   | 329/505 [35:36<22:30,  7.67s/it]"
     ]
    },
    {
     "name": "stdout",
     "output_type": "stream",
     "text": [
      "'value'\n",
      "'value'\n",
      "'value'\n",
      "'value'\n",
      "'value'\n",
      "'value'\n",
      "'value'\n",
      "'value'\n",
      "'value'\n",
      "'value'\n",
      "'value'\n",
      "'value'\n",
      "'value'\n"
     ]
    },
    {
     "name": "stderr",
     "output_type": "stream",
     "text": [
      "\r",
      " 65%|██████▌   | 330/505 [35:45<23:19,  8.00s/it]"
     ]
    },
    {
     "name": "stdout",
     "output_type": "stream",
     "text": [
      "'value'\n",
      "'value'\n",
      "'value'\n",
      "'value'\n",
      "'value'\n",
      "'value'\n",
      "'value'\n",
      "'value'\n",
      "'value'\n",
      "'value'\n",
      "'value'\n",
      "'value'\n",
      "'value'\n",
      "'value'\n",
      "'value'\n",
      "'value'\n",
      "'value'\n",
      "'value'\n",
      "'value'\n"
     ]
    },
    {
     "name": "stderr",
     "output_type": "stream",
     "text": [
      "\r",
      " 66%|██████▌   | 331/505 [35:53<23:33,  8.12s/it]"
     ]
    },
    {
     "name": "stdout",
     "output_type": "stream",
     "text": [
      "'value'\n",
      "'value'\n",
      "'value'\n",
      "'value'\n",
      "'value'\n",
      "'value'\n",
      "'value'\n",
      "'value'\n",
      "'value'\n",
      "'value'\n",
      "'value'\n",
      "'value'\n",
      "'value'\n"
     ]
    },
    {
     "name": "stderr",
     "output_type": "stream",
     "text": [
      "\r",
      " 66%|██████▌   | 332/505 [35:59<21:34,  7.49s/it]"
     ]
    },
    {
     "name": "stdout",
     "output_type": "stream",
     "text": [
      "'value'\n",
      "'value'\n",
      "'value'\n",
      "'value'\n",
      "'value'\n",
      "'value'\n",
      "'value'\n",
      "'value'\n",
      "'value'\n",
      "'value'\n",
      "'value'\n",
      "'value'\n",
      "'value'\n",
      "'value'\n",
      "'value'\n",
      "'value'\n",
      "'value'\n",
      "'value'\n",
      "'value'\n",
      "'value'\n",
      "'value'\n",
      "'value'\n"
     ]
    },
    {
     "name": "stderr",
     "output_type": "stream",
     "text": [
      "\r",
      " 66%|██████▌   | 333/505 [36:07<21:52,  7.63s/it]"
     ]
    },
    {
     "name": "stdout",
     "output_type": "stream",
     "text": [
      "'value'\n",
      "'value'\n",
      "'value'\n",
      "'value'\n",
      "'value'\n",
      "'value'\n",
      "'value'\n",
      "'value'\n",
      "'value'\n",
      "'value'\n",
      "'value'\n",
      "'value'\n",
      "'value'\n",
      "'value'\n",
      "'value'\n",
      "'value'\n",
      "'value'\n",
      "'value'\n",
      "'value'\n",
      "'value'\n",
      "'value'\n",
      "'value'\n",
      "'value'\n",
      "'value'\n",
      "'value'\n",
      "'value'\n",
      "'value'\n",
      "'value'\n"
     ]
    },
    {
     "name": "stderr",
     "output_type": "stream",
     "text": [
      "\r",
      " 66%|██████▌   | 334/505 [36:16<22:20,  7.84s/it]"
     ]
    },
    {
     "name": "stdout",
     "output_type": "stream",
     "text": [
      "'value'\n",
      "'value'\n",
      "'value'\n",
      "'value'\n",
      "'value'\n",
      "'value'\n",
      "'value'\n",
      "'value'\n",
      "'value'\n",
      "'value'\n",
      "'value'\n"
     ]
    },
    {
     "name": "stderr",
     "output_type": "stream",
     "text": [
      "\r",
      " 66%|██████▋   | 335/505 [36:20<19:25,  6.86s/it]"
     ]
    },
    {
     "name": "stdout",
     "output_type": "stream",
     "text": [
      "'value'\n",
      "'value'\n",
      "'value'\n",
      "'value'\n",
      "'value'\n",
      "'value'\n",
      "'value'\n",
      "'value'\n",
      "'value'\n",
      "'value'\n",
      "'value'\n",
      "'value'\n",
      "'value'\n",
      "'value'\n",
      "'value'\n",
      "'value'\n"
     ]
    },
    {
     "name": "stderr",
     "output_type": "stream",
     "text": [
      "\r",
      " 67%|██████▋   | 336/505 [36:23<15:29,  5.50s/it]"
     ]
    },
    {
     "name": "stdout",
     "output_type": "stream",
     "text": [
      "'value'\n",
      "'value'\n",
      "'value'\n",
      "'value'\n",
      "'value'\n",
      "'value'\n",
      "'value'\n",
      "'value'\n",
      "'value'\n",
      "'value'\n",
      "'value'\n",
      "'value'\n",
      "'value'\n",
      "'value'\n",
      "'value'\n",
      "'value'\n",
      "'value'\n",
      "'value'\n",
      "'value'\n",
      "'value'\n",
      "'value'\n",
      "'value'\n",
      "'value'\n",
      "'value'\n",
      "'value'\n"
     ]
    },
    {
     "name": "stderr",
     "output_type": "stream",
     "text": [
      "\r",
      " 67%|██████▋   | 337/505 [36:30<16:44,  5.98s/it]"
     ]
    },
    {
     "name": "stdout",
     "output_type": "stream",
     "text": [
      "'value'\n",
      "'value'\n",
      "'value'\n",
      "'value'\n",
      "'value'\n",
      "'value'\n",
      "'value'\n",
      "'value'\n",
      "'value'\n",
      "'value'\n",
      "'value'\n",
      "'value'\n",
      "'value'\n",
      "'value'\n",
      "'value'\n",
      "'value'\n",
      "'value'\n",
      "'value'\n",
      "'value'\n",
      "'value'\n",
      "'value'\n",
      "'value'\n",
      "'value'\n",
      "'value'\n",
      "'value'\n",
      "'value'\n",
      "'value'\n",
      "'value'\n",
      "'value'\n",
      "'value'\n",
      "'value'\n"
     ]
    },
    {
     "name": "stderr",
     "output_type": "stream",
     "text": [
      "\r",
      " 67%|██████▋   | 338/505 [36:37<18:04,  6.50s/it]"
     ]
    },
    {
     "name": "stdout",
     "output_type": "stream",
     "text": [
      "'value'\n",
      "'value'\n",
      "'value'\n",
      "'value'\n",
      "'value'\n",
      "'value'\n",
      "'value'\n",
      "'value'\n",
      "'value'\n",
      "'value'\n",
      "'value'\n",
      "'value'\n",
      "'value'\n",
      "'value'\n",
      "'value'\n",
      "'value'\n",
      "'value'\n"
     ]
    },
    {
     "name": "stderr",
     "output_type": "stream",
     "text": [
      "\r",
      " 67%|██████▋   | 339/505 [36:44<17:40,  6.39s/it]"
     ]
    },
    {
     "name": "stdout",
     "output_type": "stream",
     "text": [
      "'value'\n",
      "'value'\n",
      "'value'\n",
      "'value'\n",
      "'value'\n",
      "'value'\n",
      "'value'\n",
      "'value'\n",
      "'value'\n",
      "'value'\n",
      "'value'\n",
      "'value'\n",
      "'value'\n",
      "'value'\n",
      "'value'\n",
      "'value'\n",
      "'value'\n",
      "'value'\n",
      "'value'\n",
      "'value'\n",
      "'value'\n",
      "'value'\n",
      "'value'\n",
      "'value'\n",
      "'value'\n",
      "'value'\n",
      "'value'\n",
      "'value'\n",
      "'value'\n",
      "'value'\n",
      "'value'\n"
     ]
    },
    {
     "name": "stderr",
     "output_type": "stream",
     "text": [
      "\r",
      " 67%|██████▋   | 340/505 [36:52<19:25,  7.07s/it]"
     ]
    },
    {
     "name": "stdout",
     "output_type": "stream",
     "text": [
      "'value'\n",
      "'value'\n",
      "'value'\n",
      "'value'\n",
      "'value'\n",
      "'value'\n",
      "'value'\n",
      "'value'\n",
      "'value'\n",
      "'value'\n",
      "'value'\n",
      "'value'\n",
      "'value'\n",
      "'value'\n",
      "'value'\n",
      "'value'\n",
      "'value'\n",
      "'value'\n",
      "'value'\n",
      "'value'\n",
      "'value'\n",
      "'value'\n",
      "'value'\n",
      "'value'\n"
     ]
    },
    {
     "name": "stderr",
     "output_type": "stream",
     "text": [
      "\r",
      " 68%|██████▊   | 341/505 [36:58<18:10,  6.65s/it]"
     ]
    },
    {
     "name": "stdout",
     "output_type": "stream",
     "text": [
      "'value'\n",
      "'value'\n",
      "'value'\n",
      "'value'\n",
      "'value'\n",
      "'value'\n",
      "'value'\n",
      "'value'\n",
      "'value'\n",
      "'value'\n",
      "'value'\n",
      "'value'\n",
      "'value'\n",
      "'value'\n",
      "'value'\n",
      "'value'\n",
      "'value'\n",
      "'value'\n",
      "'value'\n",
      "'value'\n",
      "'value'\n"
     ]
    },
    {
     "name": "stderr",
     "output_type": "stream",
     "text": [
      "\r",
      " 68%|██████▊   | 342/505 [37:06<19:21,  7.13s/it]"
     ]
    },
    {
     "name": "stdout",
     "output_type": "stream",
     "text": [
      "'value'\n",
      "'value'\n",
      "'value'\n",
      "'value'\n",
      "'value'\n",
      "'value'\n",
      "'value'\n",
      "'value'\n",
      "'value'\n",
      "'value'\n",
      "'value'\n",
      "'value'\n",
      "'value'\n",
      "'value'\n",
      "'value'\n",
      "'value'\n"
     ]
    },
    {
     "name": "stderr",
     "output_type": "stream",
     "text": [
      "\r",
      " 68%|██████▊   | 343/505 [37:12<18:20,  6.79s/it]"
     ]
    },
    {
     "name": "stdout",
     "output_type": "stream",
     "text": [
      "'value'\n",
      "'value'\n",
      "'value'\n",
      "'value'\n",
      "'value'\n",
      "'value'\n",
      "'value'\n",
      "'value'\n",
      "'value'\n",
      "'value'\n",
      "'value'\n",
      "'value'\n",
      "'value'\n",
      "'value'\n",
      "'value'\n",
      "'value'\n",
      "'value'\n",
      "'value'\n",
      "'value'\n",
      "'value'\n",
      "'value'\n",
      "'value'\n",
      "'value'\n",
      "'value'\n",
      "'value'\n"
     ]
    },
    {
     "name": "stderr",
     "output_type": "stream",
     "text": [
      "\r",
      " 68%|██████▊   | 344/505 [37:20<18:44,  6.99s/it]"
     ]
    },
    {
     "name": "stdout",
     "output_type": "stream",
     "text": [
      "'value'\n",
      "'value'\n",
      "'value'\n",
      "'value'\n",
      "'value'\n",
      "'value'\n",
      "'value'\n",
      "'value'\n",
      "'value'\n",
      "'value'\n",
      "'value'\n",
      "'value'\n",
      "'value'\n",
      "'value'\n",
      "'value'\n",
      "'value'\n",
      "'value'\n",
      "'value'\n",
      "'value'\n",
      "'value'\n",
      "'value'\n",
      "'value'\n",
      "'value'\n",
      "'value'\n",
      "'value'\n",
      "'value'\n",
      "'value'\n",
      "'value'\n"
     ]
    },
    {
     "name": "stderr",
     "output_type": "stream",
     "text": [
      "\r",
      " 68%|██████▊   | 345/505 [37:25<17:01,  6.39s/it]"
     ]
    },
    {
     "name": "stdout",
     "output_type": "stream",
     "text": [
      "'value'\n",
      "'value'\n",
      "'value'\n",
      "'value'\n",
      "'value'\n",
      "'value'\n",
      "'value'\n",
      "'value'\n",
      "'value'\n",
      "'value'\n",
      "'value'\n",
      "'value'\n",
      "'value'\n",
      "'value'\n",
      "'value'\n",
      "'value'\n",
      "'value'\n",
      "'value'\n",
      "'value'\n",
      "'value'\n",
      "'value'\n",
      "'value'\n"
     ]
    },
    {
     "name": "stderr",
     "output_type": "stream",
     "text": [
      "\r",
      " 69%|██████▊   | 346/505 [37:32<18:01,  6.80s/it]"
     ]
    },
    {
     "name": "stdout",
     "output_type": "stream",
     "text": [
      "'value'\n",
      "'value'\n",
      "'value'\n",
      "'value'\n",
      "'value'\n",
      "'value'\n",
      "'value'\n",
      "'value'\n",
      "'value'\n",
      "'value'\n",
      "'value'\n",
      "'value'\n",
      "'value'\n",
      "'value'\n",
      "'value'\n",
      "'value'\n"
     ]
    },
    {
     "name": "stderr",
     "output_type": "stream",
     "text": [
      "\r",
      " 69%|██████▊   | 347/505 [37:43<20:54,  7.94s/it]"
     ]
    },
    {
     "name": "stdout",
     "output_type": "stream",
     "text": [
      "'value'\n",
      "'value'\n",
      "'value'\n",
      "'value'\n",
      "'value'\n",
      "'value'\n",
      "'value'\n",
      "'value'\n",
      "'value'\n",
      "'value'\n",
      "'value'\n",
      "'value'\n",
      "'value'\n",
      "'value'\n",
      "'value'\n",
      "'value'\n",
      "'value'\n",
      "'value'\n"
     ]
    },
    {
     "name": "stderr",
     "output_type": "stream",
     "text": [
      "\r",
      " 69%|██████▉   | 348/505 [37:50<20:08,  7.70s/it]"
     ]
    },
    {
     "name": "stdout",
     "output_type": "stream",
     "text": [
      "'value'\n",
      "'value'\n",
      "'value'\n",
      "'value'\n",
      "'value'\n",
      "'value'\n",
      "'value'\n",
      "'value'\n",
      "'value'\n",
      "'value'\n",
      "'value'\n",
      "'value'\n",
      "'value'\n",
      "'value'\n",
      "'value'\n",
      "'value'\n",
      "'value'\n",
      "'value'\n",
      "'value'\n",
      "'value'\n"
     ]
    },
    {
     "name": "stderr",
     "output_type": "stream",
     "text": [
      "\r",
      " 69%|██████▉   | 349/505 [37:58<19:51,  7.64s/it]"
     ]
    },
    {
     "name": "stdout",
     "output_type": "stream",
     "text": [
      "'value'\n",
      "'value'\n",
      "'value'\n",
      "'value'\n",
      "'value'\n",
      "'value'\n",
      "'value'\n"
     ]
    },
    {
     "name": "stderr",
     "output_type": "stream",
     "text": [
      "\r",
      " 69%|██████▉   | 350/505 [38:03<18:04,  7.00s/it]"
     ]
    },
    {
     "name": "stdout",
     "output_type": "stream",
     "text": [
      "'value'\n",
      "'value'\n",
      "'value'\n",
      "'value'\n",
      "'value'\n",
      "'value'\n",
      "'value'\n",
      "'value'\n",
      "'value'\n",
      "'value'\n",
      "'value'\n",
      "'value'\n",
      "'value'\n",
      "'value'\n",
      "'value'\n",
      "'value'\n",
      "'value'\n"
     ]
    },
    {
     "name": "stderr",
     "output_type": "stream",
     "text": [
      "\r",
      " 70%|██████▉   | 351/505 [38:06<14:58,  5.84s/it]"
     ]
    },
    {
     "name": "stdout",
     "output_type": "stream",
     "text": [
      "'value'\n",
      "'value'\n",
      "'value'\n",
      "'value'\n",
      "'value'\n",
      "'value'\n",
      "'value'\n",
      "'value'\n",
      "'value'\n",
      "'value'\n",
      "'value'\n",
      "'value'\n",
      "'value'\n",
      "'value'\n",
      "'value'\n",
      "'value'\n",
      "'value'\n",
      "'value'\n",
      "'value'\n",
      "'value'\n",
      "'value'\n",
      "'value'\n",
      "'value'\n",
      "'value'\n",
      "'value'\n",
      "'value'\n"
     ]
    },
    {
     "name": "stderr",
     "output_type": "stream",
     "text": [
      "\r",
      " 70%|██████▉   | 352/505 [38:12<15:07,  5.93s/it]"
     ]
    },
    {
     "name": "stdout",
     "output_type": "stream",
     "text": [
      "'value'\n",
      "'value'\n",
      "'value'\n",
      "'value'\n",
      "'value'\n",
      "'value'\n",
      "'value'\n",
      "'value'\n",
      "'value'\n",
      "'value'\n",
      "'value'\n",
      "'value'\n",
      "'value'\n",
      "'value'\n",
      "'value'\n",
      "'value'\n",
      "'value'\n",
      "'value'\n",
      "'value'\n",
      "'value'\n",
      "'value'\n",
      "'value'\n",
      "'value'\n",
      "'value'\n",
      "'value'\n",
      "'value'\n",
      "'value'\n",
      "'value'\n",
      "'value'\n",
      "'value'\n",
      "'value'\n",
      "'value'\n",
      "'value'\n",
      "'value'\n"
     ]
    },
    {
     "name": "stderr",
     "output_type": "stream",
     "text": [
      "\r",
      " 70%|██████▉   | 353/505 [38:19<15:58,  6.30s/it]"
     ]
    },
    {
     "name": "stdout",
     "output_type": "stream",
     "text": [
      "'value'\n",
      "'value'\n",
      "'value'\n",
      "'value'\n",
      "'value'\n",
      "'value'\n",
      "'value'\n",
      "'value'\n",
      "'value'\n",
      "'value'\n",
      "'value'\n",
      "'value'\n",
      "'value'\n",
      "'value'\n",
      "'value'\n",
      "'value'\n",
      "'value'\n",
      "'value'\n"
     ]
    },
    {
     "name": "stderr",
     "output_type": "stream",
     "text": [
      "\r",
      " 70%|███████   | 354/505 [38:24<14:43,  5.85s/it]"
     ]
    },
    {
     "name": "stdout",
     "output_type": "stream",
     "text": [
      "'value'\n",
      "'value'\n",
      "'value'\n",
      "'value'\n",
      "'value'\n",
      "'value'\n",
      "'value'\n",
      "'value'\n",
      "'value'\n",
      "'value'\n",
      "'value'\n",
      "'value'\n",
      "'value'\n",
      "'value'\n"
     ]
    },
    {
     "name": "stderr",
     "output_type": "stream",
     "text": [
      "\r",
      " 70%|███████   | 355/505 [38:32<15:49,  6.33s/it]"
     ]
    },
    {
     "name": "stdout",
     "output_type": "stream",
     "text": [
      "'value'\n",
      "'value'\n",
      "'value'\n",
      "'value'\n",
      "'value'\n",
      "'value'\n",
      "'value'\n",
      "'value'\n",
      "'value'\n",
      "'value'\n",
      "'value'\n",
      "'value'\n",
      "'value'\n",
      "'value'\n",
      "'value'\n",
      "'value'\n",
      "'value'\n",
      "'value'\n",
      "'value'\n",
      "'value'\n",
      "'value'\n",
      "'value'\n",
      "'value'\n",
      "'value'\n",
      "'value'\n",
      "'value'\n",
      "'value'\n",
      "'value'\n",
      "'value'\n",
      "'value'\n",
      "'value'\n",
      "'value'\n",
      "'value'\n",
      "'value'\n",
      "'value'\n",
      "'value'\n",
      "'value'\n",
      "'value'\n",
      "'value'\n",
      "'value'\n",
      "'value'\n",
      "'value'\n",
      "'value'\n",
      "'value'\n",
      "'value'\n",
      "'value'\n",
      "'value'\n"
     ]
    },
    {
     "name": "stderr",
     "output_type": "stream",
     "text": [
      "\r",
      " 70%|███████   | 356/505 [38:39<16:24,  6.61s/it]"
     ]
    },
    {
     "name": "stdout",
     "output_type": "stream",
     "text": [
      "'value'\n",
      "'value'\n",
      "'value'\n",
      "'value'\n",
      "'value'\n",
      "'value'\n",
      "'value'\n",
      "'value'\n",
      "'value'\n",
      "'value'\n",
      "'value'\n",
      "'value'\n",
      "'value'\n",
      "'value'\n",
      "'value'\n"
     ]
    },
    {
     "name": "stderr",
     "output_type": "stream",
     "text": [
      "\r",
      " 71%|███████   | 357/505 [38:48<17:43,  7.18s/it]"
     ]
    },
    {
     "name": "stdout",
     "output_type": "stream",
     "text": [
      "'value'\n",
      "'value'\n",
      "'value'\n",
      "'value'\n",
      "'value'\n",
      "'value'\n"
     ]
    },
    {
     "name": "stderr",
     "output_type": "stream",
     "text": [
      "\r",
      " 71%|███████   | 358/505 [38:48<12:39,  5.17s/it]"
     ]
    },
    {
     "name": "stdout",
     "output_type": "stream",
     "text": [
      "'value'\n",
      "'value'\n",
      "'value'\n",
      "'value'\n",
      "'value'\n",
      "'value'\n",
      "'value'\n",
      "'value'\n",
      "'value'\n",
      "'value'\n",
      "'value'\n"
     ]
    },
    {
     "name": "stderr",
     "output_type": "stream",
     "text": [
      "\r",
      " 71%|███████   | 359/505 [38:54<12:55,  5.31s/it]"
     ]
    },
    {
     "name": "stdout",
     "output_type": "stream",
     "text": [
      "'value'\n",
      "'value'\n",
      "'value'\n",
      "'value'\n",
      "'value'\n",
      "'value'\n",
      "'value'\n",
      "'value'\n",
      "'value'\n",
      "'value'\n",
      "'value'\n",
      "'value'\n"
     ]
    },
    {
     "name": "stderr",
     "output_type": "stream",
     "text": [
      "\r",
      " 71%|███████▏  | 360/505 [39:00<13:56,  5.77s/it]"
     ]
    },
    {
     "name": "stdout",
     "output_type": "stream",
     "text": [
      "'value'\n",
      "'value'\n",
      "'value'\n",
      "'value'\n",
      "'value'\n"
     ]
    },
    {
     "name": "stderr",
     "output_type": "stream",
     "text": [
      "\r",
      " 71%|███████▏  | 361/505 [39:08<14:56,  6.23s/it]"
     ]
    },
    {
     "name": "stdout",
     "output_type": "stream",
     "text": [
      "'value'\n",
      "'value'\n",
      "'value'\n",
      "'value'\n",
      "'value'\n",
      "'value'\n",
      "'value'\n",
      "'value'\n",
      "'value'\n",
      "'value'\n",
      "'value'\n",
      "'value'\n"
     ]
    },
    {
     "name": "stderr",
     "output_type": "stream",
     "text": [
      "\r",
      " 72%|███████▏  | 362/505 [39:14<14:50,  6.23s/it]"
     ]
    },
    {
     "name": "stdout",
     "output_type": "stream",
     "text": [
      "'value'\n",
      "'value'\n",
      "'value'\n",
      "'value'\n",
      "'value'\n",
      "'value'\n",
      "'value'\n",
      "'value'\n",
      "'value'\n",
      "'value'\n"
     ]
    },
    {
     "name": "stderr",
     "output_type": "stream",
     "text": [
      "\r",
      " 72%|███████▏  | 363/505 [39:18<13:02,  5.51s/it]"
     ]
    },
    {
     "name": "stdout",
     "output_type": "stream",
     "text": [
      "'value'\n",
      "'value'\n",
      "'value'\n",
      "'value'\n",
      "'value'\n",
      "'value'\n",
      "'value'\n",
      "'value'\n",
      "'value'\n",
      "'value'\n",
      "'value'\n",
      "'value'\n",
      "'value'\n",
      "'value'\n",
      "'value'\n",
      "'value'\n",
      "'value'\n"
     ]
    },
    {
     "name": "stderr",
     "output_type": "stream",
     "text": [
      "\r",
      " 72%|███████▏  | 364/505 [39:21<11:26,  4.87s/it]"
     ]
    },
    {
     "name": "stdout",
     "output_type": "stream",
     "text": [
      "'value'\n",
      "'value'\n",
      "'value'\n",
      "'value'\n",
      "'value'\n",
      "'value'\n",
      "'value'\n",
      "'value'\n",
      "'value'\n",
      "'value'\n",
      "'value'\n",
      "'value'\n",
      "'value'\n",
      "'value'\n",
      "'value'\n",
      "'value'\n",
      "'value'\n",
      "'value'\n",
      "'value'"
     ]
    },
    {
     "name": "stderr",
     "output_type": "stream",
     "text": [
      "\r",
      " 72%|███████▏  | 365/505 [39:29<13:25,  5.75s/it]"
     ]
    },
    {
     "name": "stdout",
     "output_type": "stream",
     "text": [
      "\n",
      "'value'\n",
      "'value'\n",
      "'value'\n",
      "'value'\n",
      "'value'\n",
      "'value'\n",
      "'value'\n",
      "'value'\n",
      "'value'\n",
      "'value'\n",
      "'value'\n",
      "'value'\n",
      "'value'\n",
      "'value'\n",
      "'value'\n",
      "'value'\n",
      "'value'\n"
     ]
    },
    {
     "name": "stderr",
     "output_type": "stream",
     "text": [
      "\r",
      " 72%|███████▏  | 366/505 [39:38<15:51,  6.85s/it]"
     ]
    },
    {
     "name": "stdout",
     "output_type": "stream",
     "text": [
      "'value'\n",
      "'value'\n",
      "'value'\n",
      "'value'\n",
      "'value'\n",
      "'value'\n",
      "'value'\n",
      "'value'\n",
      "'value'\n",
      "'value'\n",
      "'value'\n",
      "'value'\n",
      "'value'\n",
      "'value'\n",
      "'value'\n",
      "'value'\n",
      "'value'\n",
      "'value'\n"
     ]
    },
    {
     "name": "stderr",
     "output_type": "stream",
     "text": [
      "\r",
      " 73%|███████▎  | 367/505 [39:50<18:54,  8.22s/it]"
     ]
    },
    {
     "name": "stdout",
     "output_type": "stream",
     "text": [
      "'value'\n",
      "'value'\n",
      "'value'\n",
      "'value'\n",
      "'value'\n",
      "'value'\n",
      "'value'\n",
      "'value'\n",
      "'value'\n",
      "'value'\n",
      "'value'\n",
      "'value'\n",
      "'value'\n",
      "'value'\n",
      "'value'\n",
      "'value'\n",
      "'value'\n",
      "'value'\n",
      "'value'\n",
      "'value'\n"
     ]
    },
    {
     "name": "stderr",
     "output_type": "stream",
     "text": [
      "\r",
      " 73%|███████▎  | 368/505 [39:59<19:10,  8.40s/it]"
     ]
    },
    {
     "name": "stdout",
     "output_type": "stream",
     "text": [
      "'value'\n",
      "'value'\n",
      "'value'\n",
      "'value'\n",
      "'value'\n",
      "'value'\n",
      "'value'\n",
      "'value'\n",
      "'value'\n",
      "'value'\n",
      "'value'\n",
      "'value'\n",
      "'value'\n",
      "'value'\n",
      "'value'\n",
      "'value'\n",
      "'value'\n",
      "'value'\n",
      "'value'\n"
     ]
    },
    {
     "name": "stderr",
     "output_type": "stream",
     "text": [
      "\r",
      " 73%|███████▎  | 369/505 [40:06<18:21,  8.10s/it]"
     ]
    },
    {
     "name": "stdout",
     "output_type": "stream",
     "text": [
      "'value'\n",
      "'value'\n",
      "'value'\n",
      "'value'\n",
      "'value'\n",
      "'value'\n",
      "'value'\n",
      "'value'\n",
      "'value'\n",
      "'value'\n",
      "'value'\n",
      "'value'\n",
      "'value'\n",
      "'value'\n",
      "'value'\n"
     ]
    },
    {
     "name": "stderr",
     "output_type": "stream",
     "text": [
      "\r",
      " 73%|███████▎  | 370/505 [40:11<16:11,  7.19s/it]"
     ]
    },
    {
     "name": "stdout",
     "output_type": "stream",
     "text": [
      "'value'\n",
      "'value'\n",
      "'value'\n",
      "'value'\n",
      "'value'\n",
      "'value'\n",
      "'value'\n",
      "'value'\n",
      "'value'\n",
      "'value'\n",
      "'value'\n",
      "'value'\n",
      "'value'\n",
      "'value'\n",
      "'value'\n",
      "'value'\n",
      "'value'\n",
      "'value'\n",
      "'value'\n",
      "'value'\n",
      "'value'\n",
      "'value'\n",
      "'value'\n"
     ]
    },
    {
     "name": "stderr",
     "output_type": "stream",
     "text": [
      "\r",
      " 73%|███████▎  | 371/505 [40:18<15:54,  7.12s/it]"
     ]
    },
    {
     "name": "stdout",
     "output_type": "stream",
     "text": [
      "'value'\n",
      "'value'\n",
      "'value'\n",
      "'value'\n",
      "'value'\n",
      "'value'\n",
      "'value'\n",
      "'value'\n",
      "'value'\n",
      "'value'\n",
      "'value'\n",
      "'value'\n",
      "'value'\n",
      "'value'\n",
      "'value'\n",
      "'value'\n",
      "'value'\n",
      "'value'\n",
      "'value'\n",
      "'value'\n",
      "'value'\n",
      "'value'\n",
      "'value'\n",
      "'value'\n",
      "'value'\n",
      "'value'\n",
      "'value'\n",
      "'value'\n",
      "'value'\n",
      "'value'\n",
      "'value'\n"
     ]
    },
    {
     "name": "stderr",
     "output_type": "stream",
     "text": [
      "\r",
      " 74%|███████▎  | 372/505 [40:26<16:00,  7.23s/it]"
     ]
    },
    {
     "name": "stdout",
     "output_type": "stream",
     "text": [
      "'value'\n",
      "'value'\n",
      "'value'\n",
      "'value'\n",
      "'value'\n",
      "'value'\n",
      "'value'\n",
      "'value'\n",
      "'value'\n",
      "'value'\n",
      "'value'\n",
      "'value'\n",
      "'value'\n",
      "'value'\n",
      "'value'\n",
      "'value'\n",
      "'value'\n",
      "'value'\n",
      "'value'\n"
     ]
    },
    {
     "name": "stderr",
     "output_type": "stream",
     "text": [
      "\r",
      " 74%|███████▍  | 373/505 [40:35<17:29,  7.95s/it]"
     ]
    },
    {
     "name": "stdout",
     "output_type": "stream",
     "text": [
      "'value'\n",
      "'value'\n",
      "'value'\n",
      "'value'\n",
      "'value'\n",
      "'value'\n",
      "'value'\n",
      "'value'\n",
      "'value'\n",
      "'value'\n",
      "'value'\n",
      "'value'\n",
      "'value'\n",
      "'value'\n",
      "'value'\n",
      "'value'\n",
      "'value'\n",
      "'value'\n",
      "'value'\n",
      "'value'\n",
      "'value'\n",
      "'value'\n",
      "'value'\n",
      "'value'\n",
      "'value'\n",
      "'value'\n",
      "'value'\n",
      "'value'\n",
      "'value'\n",
      "'value'\n",
      "'value'\n",
      "'value'\n",
      "'value'\n",
      "'value'\n",
      "'value'\n",
      "'value'\n",
      "'value'\n"
     ]
    },
    {
     "name": "stderr",
     "output_type": "stream",
     "text": [
      "\r",
      " 74%|███████▍  | 374/505 [40:43<17:02,  7.81s/it]"
     ]
    },
    {
     "name": "stdout",
     "output_type": "stream",
     "text": [
      "'value'\n",
      "'value'\n",
      "'value'\n",
      "'value'\n",
      "'value'\n",
      "'value'\n",
      "'value'\n",
      "'value'\n",
      "'value'\n",
      "'value'\n",
      "'value'\n",
      "'value'\n",
      "'value'\n",
      "'value'\n",
      "'value'\n",
      "'value'\n",
      "'value'\n",
      "'value'\n",
      "'value'\n",
      "'value'\n",
      "'value'\n"
     ]
    },
    {
     "name": "stderr",
     "output_type": "stream",
     "text": [
      "\r",
      " 74%|███████▍  | 375/505 [40:49<16:15,  7.51s/it]"
     ]
    },
    {
     "name": "stdout",
     "output_type": "stream",
     "text": [
      "'value'\n",
      "'value'\n",
      "'value'\n",
      "'value'\n",
      "'value'\n",
      "'value'\n",
      "'value'\n",
      "'value'\n",
      "'value'\n",
      "'value'\n",
      "'value'\n",
      "'value'\n",
      "'value'\n",
      "'value'\n",
      "'value'\n",
      "'value'\n",
      "'value'\n",
      "'value'\n",
      "'value'\n",
      "'value'\n",
      "'value'\n",
      "'value'\n",
      "'value'\n",
      "'value'\n",
      "'value'\n",
      "'value'\n",
      "'value'\n",
      "'value'\n",
      "'value'\n",
      "'value'\n",
      "'value'\n",
      "'value'\n",
      "'value'\n",
      "'value'\n",
      "'value'\n"
     ]
    },
    {
     "name": "stderr",
     "output_type": "stream",
     "text": [
      "\r",
      " 74%|███████▍  | 376/505 [40:57<15:58,  7.43s/it]"
     ]
    },
    {
     "name": "stdout",
     "output_type": "stream",
     "text": [
      "'value'\n",
      "'value'\n",
      "'value'\n",
      "'value'\n",
      "'value'\n",
      "'value'\n",
      "'value'\n",
      "'value'\n",
      "'value'\n",
      "'value'\n",
      "'value'\n",
      "'value'\n",
      "'value'\n",
      "'value'\n",
      "'value'\n",
      "'value'\n",
      "'value'\n",
      "'value'\n",
      "'value'\n",
      "'value'\n",
      "'value'\n"
     ]
    },
    {
     "name": "stderr",
     "output_type": "stream",
     "text": [
      "\r",
      " 75%|███████▍  | 377/505 [41:01<14:03,  6.59s/it]"
     ]
    },
    {
     "name": "stdout",
     "output_type": "stream",
     "text": [
      "'value'\n",
      "'value'\n",
      "'value'\n",
      "'value'\n",
      "'value'\n",
      "'value'\n",
      "'value'\n",
      "'value'\n",
      "'value'\n",
      "'value'\n",
      "'value'\n",
      "'value'\n",
      "'value'\n",
      "'value'\n",
      "'value'\n",
      "'value'\n",
      "'value'\n",
      "'value'\n",
      "'value'\n",
      "'value'\n"
     ]
    },
    {
     "name": "stderr",
     "output_type": "stream",
     "text": [
      "\r",
      " 75%|███████▍  | 378/505 [41:10<15:22,  7.26s/it]"
     ]
    },
    {
     "name": "stdout",
     "output_type": "stream",
     "text": [
      "'value'\n",
      "'value'\n",
      "'value'\n",
      "'value'\n",
      "'value'\n",
      "'value'\n",
      "'value'\n",
      "'value'\n",
      "'value'\n",
      "'value'\n",
      "'value'\n",
      "'value'\n",
      "'value'\n",
      "'value'\n",
      "'value'\n",
      "'value'\n",
      "'value'\n",
      "'value'\n",
      "'value'\n",
      "'value'\n",
      "'value'\n",
      "'value'\n",
      "'value'\n",
      "'value'\n",
      "'value'\n",
      "'value'\n",
      "'value'\n",
      "'value'\n",
      "'value'\n"
     ]
    },
    {
     "name": "stderr",
     "output_type": "stream",
     "text": [
      "\r",
      " 75%|███████▌  | 379/505 [41:19<16:01,  7.63s/it]"
     ]
    },
    {
     "name": "stdout",
     "output_type": "stream",
     "text": [
      "'value'\n",
      "'value'\n",
      "'value'\n",
      "'value'\n",
      "'value'\n",
      "'value'\n",
      "'value'\n",
      "'value'\n",
      "'value'\n",
      "'value'\n",
      "'value'\n",
      "'value'\n",
      "'value'\n",
      "'value'\n",
      "'value'\n",
      "'value'\n",
      "'value'\n",
      "'value'\n",
      "'value'\n",
      "'value'\n",
      "'value'\n",
      "'value'\n",
      "'value'\n",
      "'value'\n",
      "'value'\n",
      "'value'\n",
      "'value'\n",
      "'value'\n",
      "'value'\n",
      "'value'\n",
      "'value'\n",
      "'value'\n",
      "'value'\n"
     ]
    },
    {
     "name": "stderr",
     "output_type": "stream",
     "text": [
      "\r",
      " 75%|███████▌  | 380/505 [41:24<14:35,  7.00s/it]"
     ]
    },
    {
     "name": "stdout",
     "output_type": "stream",
     "text": [
      "'value'\n",
      "'value'\n",
      "'value'\n",
      "'value'\n",
      "'value'\n",
      "'value'\n",
      "'value'\n",
      "'value'\n",
      "'value'\n",
      "'value'\n",
      "'value'\n",
      "'value'\n",
      "'value'\n",
      "'value'\n",
      "'value'\n",
      "'value'\n"
     ]
    },
    {
     "name": "stderr",
     "output_type": "stream",
     "text": [
      "\r",
      " 75%|███████▌  | 381/505 [41:32<15:09,  7.33s/it]"
     ]
    },
    {
     "name": "stdout",
     "output_type": "stream",
     "text": [
      "'value'\n",
      "'value'\n",
      "'value'\n",
      "'value'\n",
      "'value'\n",
      "'value'\n",
      "'value'\n",
      "'value'\n",
      "'value'\n",
      "'value'\n",
      "'value'\n",
      "'value'\n",
      "'value'\n",
      "'value'\n",
      "'value'\n",
      "'value'\n",
      "'value'\n",
      "'value'\n",
      "'value'\n",
      "'value'\n",
      "'value'\n",
      "'value'\n",
      "'value'\n",
      "'value'\n",
      "'value'\n",
      "'value'\n",
      "'value'\n",
      "'value'\n"
     ]
    },
    {
     "name": "stderr",
     "output_type": "stream",
     "text": [
      "\r",
      " 76%|███████▌  | 382/505 [41:40<14:57,  7.30s/it]"
     ]
    },
    {
     "name": "stdout",
     "output_type": "stream",
     "text": [
      "'value'\n",
      "'value'\n",
      "'value'\n",
      "'value'\n",
      "'value'\n",
      "'value'\n",
      "'value'\n",
      "'value'\n",
      "'value'\n",
      "'value'\n",
      "'value'\n",
      "'value'\n",
      "'value'\n",
      "'value'\n",
      "'value'\n",
      "'value'\n",
      "'value'\n",
      "'value'\n",
      "'value'\n",
      "'value'\n",
      "'value'\n",
      "'value'\n",
      "'value'\n",
      "'value'\n",
      "'value'\n",
      "'value'\n",
      "'value'\n",
      "'value'\n",
      "'value'\n",
      "'value'\n",
      "'value'\n",
      "'value'\n",
      "'value'\n"
     ]
    },
    {
     "name": "stderr",
     "output_type": "stream",
     "text": [
      "\r",
      " 76%|███████▌  | 383/505 [41:48<15:28,  7.61s/it]"
     ]
    },
    {
     "name": "stdout",
     "output_type": "stream",
     "text": [
      "'value'\n",
      "'value'\n",
      "'value'\n",
      "'value'\n",
      "'value'\n",
      "'value'\n",
      "'value'\n",
      "'value'\n",
      "'value'\n",
      "'value'\n",
      "'value'\n",
      "'value'\n",
      "'value'\n",
      "'value'\n",
      "'value'\n",
      "'value'\n",
      "'value'\n",
      "'value'\n",
      "'value'\n",
      "'value'\n",
      "'value'\n",
      "'value'\n",
      "'value'\n",
      "'value'\n",
      "'value'\n",
      "'value'\n",
      "'value'\n",
      "'value'\n",
      "'value'\n",
      "'value'\n",
      "'value'\n"
     ]
    },
    {
     "name": "stderr",
     "output_type": "stream",
     "text": [
      "\r",
      " 76%|███████▌  | 384/505 [41:57<15:59,  7.93s/it]"
     ]
    },
    {
     "name": "stdout",
     "output_type": "stream",
     "text": [
      "'value'\n",
      "'value'\n",
      "'value'\n",
      "'value'\n",
      "'value'\n",
      "'value'\n",
      "'value'\n",
      "'value'\n",
      "'value'\n",
      "'value'\n",
      "'value'\n",
      "'value'\n",
      "'value'\n",
      "'value'\n",
      "'value'\n",
      "'value'\n",
      "'value'\n",
      "'value'\n",
      "'value'\n",
      "'value'\n",
      "'value'\n",
      "'value'\n",
      "'value'\n"
     ]
    },
    {
     "name": "stderr",
     "output_type": "stream",
     "text": [
      "\r",
      " 76%|███████▌  | 385/505 [42:03<15:08,  7.57s/it]"
     ]
    },
    {
     "name": "stdout",
     "output_type": "stream",
     "text": [
      "'value'\n",
      "'value'\n",
      "'value'\n",
      "'value'\n",
      "'value'\n",
      "'value'\n",
      "'value'\n",
      "'value'\n",
      "'value'\n",
      "'value'\n",
      "'value'\n",
      "'value'\n",
      "'value'\n"
     ]
    },
    {
     "name": "stderr",
     "output_type": "stream",
     "text": [
      "\r",
      " 76%|███████▋  | 386/505 [42:13<16:04,  8.10s/it]"
     ]
    },
    {
     "name": "stdout",
     "output_type": "stream",
     "text": [
      "'value'\n",
      "'value'\n",
      "'value'\n",
      "'value'\n",
      "'value'\n",
      "'value'\n",
      "'value'\n",
      "'value'\n",
      "'value'\n",
      "'value'\n",
      "'value'\n",
      "'value'\n",
      "'value'\n",
      "'value'\n",
      "'value'\n",
      "'value'\n",
      "'value'\n",
      "'value'\n",
      "'value'\n",
      "'value'\n",
      "'value'\n",
      "'value'\n",
      "'value'\n"
     ]
    },
    {
     "name": "stderr",
     "output_type": "stream",
     "text": [
      "\r",
      " 77%|███████▋  | 387/505 [42:20<15:24,  7.84s/it]"
     ]
    },
    {
     "name": "stdout",
     "output_type": "stream",
     "text": [
      "'value'\n",
      "'value'\n",
      "'value'\n",
      "'value'\n",
      "'value'\n",
      "'value'\n",
      "'value'\n",
      "'value'\n",
      "'value'\n",
      "'value'\n",
      "'value'\n",
      "'value'\n"
     ]
    },
    {
     "name": "stderr",
     "output_type": "stream",
     "text": [
      "\r",
      " 77%|███████▋  | 388/505 [42:26<14:18,  7.34s/it]"
     ]
    },
    {
     "name": "stdout",
     "output_type": "stream",
     "text": [
      "'value'\n",
      "'value'\n",
      "'value'\n",
      "'value'\n",
      "'value'\n",
      "'value'\n",
      "'value'\n",
      "'value'\n",
      "'value'\n",
      "'value'\n",
      "'value'\n",
      "'value'\n",
      "'value'\n",
      "'value'\n",
      "'value'\n",
      "'value'\n",
      "'value'\n",
      "'value'\n",
      "'value'\n",
      "'value'\n",
      "'value'\n",
      "'value'\n",
      "'value'\n",
      "'value'\n",
      "'value'\n",
      "'value'\n",
      "'value'\n",
      "'value'\n",
      "'value'\n"
     ]
    },
    {
     "name": "stderr",
     "output_type": "stream",
     "text": [
      "\r",
      " 77%|███████▋  | 389/505 [42:36<15:31,  8.03s/it]"
     ]
    },
    {
     "name": "stdout",
     "output_type": "stream",
     "text": [
      "'value'\n",
      "'value'\n",
      "'value'\n",
      "'value'\n",
      "'value'\n",
      "'value'\n",
      "'value'\n",
      "'value'\n",
      "'value'\n",
      "'value'\n",
      "'value'\n",
      "'value'\n",
      "'value'\n",
      "'value'\n",
      "'value'\n",
      "'value'\n",
      "'value'\n",
      "'value'\n",
      "'value'\n",
      "'value'\n",
      "'value'\n",
      "'value'\n",
      "'value'\n",
      "'value'\n",
      "'value'\n",
      "'value'\n"
     ]
    },
    {
     "name": "stderr",
     "output_type": "stream",
     "text": [
      "\r",
      " 77%|███████▋  | 390/505 [42:41<13:37,  7.11s/it]"
     ]
    },
    {
     "name": "stdout",
     "output_type": "stream",
     "text": [
      "'value'\n",
      "'value'\n",
      "'value'\n",
      "'value'\n",
      "'value'\n",
      "'value'\n",
      "'value'\n",
      "'value'\n",
      "'value'\n",
      "'value'\n",
      "'value'\n",
      "'value'\n"
     ]
    },
    {
     "name": "stderr",
     "output_type": "stream",
     "text": [
      "\r",
      " 77%|███████▋  | 391/505 [42:48<13:29,  7.10s/it]"
     ]
    },
    {
     "name": "stdout",
     "output_type": "stream",
     "text": [
      "'value'\n",
      "'value'\n",
      "'value'\n",
      "'value'\n",
      "'value'\n",
      "'value'\n",
      "'value'\n",
      "'value'\n",
      "'value'\n",
      "'value'\n",
      "'value'\n",
      "'value'\n",
      "'value'\n",
      "'value'\n"
     ]
    },
    {
     "name": "stderr",
     "output_type": "stream",
     "text": [
      "\r",
      " 78%|███████▊  | 392/505 [42:56<13:50,  7.35s/it]"
     ]
    },
    {
     "name": "stdout",
     "output_type": "stream",
     "text": [
      "'value'\n",
      "'value'\n",
      "'value'\n",
      "'value'\n",
      "'value'\n",
      "'value'\n",
      "'value'\n",
      "'value'\n",
      "'value'\n",
      "'value'\n",
      "'value'\n",
      "'value'\n",
      "'value'\n",
      "'value'\n",
      "'value'\n",
      "'value'\n",
      "'value'\n",
      "'value'\n"
     ]
    },
    {
     "name": "stderr",
     "output_type": "stream",
     "text": [
      "\r",
      " 78%|███████▊  | 393/505 [43:02<13:01,  6.98s/it]"
     ]
    },
    {
     "name": "stdout",
     "output_type": "stream",
     "text": [
      "'value'\n",
      "'value'\n",
      "'value'\n",
      "'value'\n",
      "'value'\n",
      "'value'\n",
      "'value'\n",
      "'value'\n",
      "'value'\n",
      "'value'\n",
      "'value'\n",
      "'value'\n",
      "'value'\n",
      "'value'\n",
      "'value'\n",
      "'value'\n",
      "'value'\n",
      "'value'\n",
      "'value'\n",
      "'value'\n",
      "'value'\n"
     ]
    },
    {
     "name": "stderr",
     "output_type": "stream",
     "text": [
      "\r",
      " 78%|███████▊  | 394/505 [43:08<12:15,  6.63s/it]"
     ]
    },
    {
     "name": "stdout",
     "output_type": "stream",
     "text": [
      "'value'\n",
      "'value'\n",
      "'value'\n",
      "'value'\n",
      "'value'\n",
      "'value'\n",
      "'value'\n",
      "'value'\n",
      "'value'\n",
      "'value'\n",
      "'value'\n",
      "'value'\n",
      "'value'\n",
      "'value'\n",
      "'value'\n",
      "'value'\n",
      "'value'\n",
      "'value'\n",
      "'value'\n",
      "'value'\n",
      "'value'\n",
      "'value'\n",
      "'value'\n",
      "'value'\n",
      "'value'\n",
      "'value'\n",
      "'value'\n",
      "'value'\n",
      "'value'\n",
      "'value'\n",
      "'value'\n",
      "'value'\n",
      "'value'\n",
      "'value'\n",
      "'value'\n",
      "'value'\n"
     ]
    },
    {
     "name": "stderr",
     "output_type": "stream",
     "text": [
      "\r",
      " 78%|███████▊  | 395/505 [43:15<12:24,  6.77s/it]"
     ]
    },
    {
     "name": "stdout",
     "output_type": "stream",
     "text": [
      "'value'\n",
      "'value'\n",
      "'value'\n",
      "'value'\n",
      "'value'\n",
      "'value'\n",
      "'value'\n",
      "'value'\n",
      "'value'\n",
      "'value'\n",
      "'value'\n",
      "'value'\n",
      "'value'\n",
      "'value'\n",
      "'value'\n",
      "'value'\n",
      "'value'\n",
      "'value'\n",
      "'value'\n",
      "'value'\n",
      "'value'\n",
      "'value'\n",
      "'value'\n",
      "'value'\n",
      "'value'\n"
     ]
    },
    {
     "name": "stderr",
     "output_type": "stream",
     "text": [
      "\r",
      " 78%|███████▊  | 396/505 [43:22<12:19,  6.79s/it]"
     ]
    },
    {
     "name": "stdout",
     "output_type": "stream",
     "text": [
      "'value'\n",
      "'value'\n",
      "'value'\n",
      "'value'\n",
      "'value'\n",
      "'value'\n",
      "'value'\n",
      "'value'\n",
      "'value'\n",
      "'value'\n",
      "'value'\n",
      "'value'\n",
      "'value'\n",
      "'value'\n",
      "'value'\n",
      "'value'\n",
      "'value'\n"
     ]
    },
    {
     "name": "stderr",
     "output_type": "stream",
     "text": [
      "\r",
      " 79%|███████▊  | 397/505 [43:27<11:21,  6.31s/it]"
     ]
    },
    {
     "name": "stdout",
     "output_type": "stream",
     "text": [
      "'value'\n",
      "'value'\n",
      "'value'\n",
      "'value'\n",
      "'value'\n",
      "'value'\n",
      "'value'\n",
      "'value'\n",
      "'value'\n",
      "'value'\n",
      "'value'\n",
      "'value'\n",
      "'value'\n",
      "'value'\n",
      "'value'\n",
      "'value'\n",
      "'value'\n",
      "'value'\n",
      "'value'\n",
      "'value'\n",
      "'value'\n",
      "'value'\n",
      "'value'\n"
     ]
    },
    {
     "name": "stderr",
     "output_type": "stream",
     "text": [
      "\r",
      " 79%|███████▉  | 398/505 [43:33<11:16,  6.32s/it]"
     ]
    },
    {
     "name": "stdout",
     "output_type": "stream",
     "text": [
      "'value'\n",
      "'value'\n",
      "'value'\n",
      "'value'\n",
      "'value'\n",
      "'value'\n",
      "'value'\n",
      "'value'\n",
      "'value'\n",
      "'value'\n",
      "'value'\n",
      "'value'\n",
      "'value'\n",
      "'value'\n"
     ]
    },
    {
     "name": "stderr",
     "output_type": "stream",
     "text": [
      "\r",
      " 79%|███████▉  | 399/505 [43:39<11:10,  6.33s/it]"
     ]
    },
    {
     "name": "stdout",
     "output_type": "stream",
     "text": [
      "'value'\n",
      "'value'\n",
      "'value'\n",
      "'value'\n",
      "'value'\n",
      "'value'\n",
      "'value'\n",
      "'value'\n",
      "'value'\n",
      "'value'\n",
      "'value'\n",
      "'value'\n",
      "'value'\n",
      "'value'\n",
      "'value'\n",
      "'value'\n",
      "'value'\n",
      "'value'\n",
      "'value'\n",
      "'value'\n",
      "'value'\n",
      "'value'\n",
      "'value'\n",
      "'value'\n",
      "'value'\n",
      "'value'\n",
      "'value'\n",
      "'value'\n",
      "'value'\n"
     ]
    },
    {
     "name": "stderr",
     "output_type": "stream",
     "text": [
      "\r",
      " 79%|███████▉  | 400/505 [43:47<11:40,  6.67s/it]"
     ]
    },
    {
     "name": "stdout",
     "output_type": "stream",
     "text": [
      "'value'\n",
      "'value'\n",
      "'value'\n",
      "'value'\n",
      "'value'\n",
      "'value'\n",
      "'value'\n",
      "'value'\n",
      "'value'\n",
      "'value'\n",
      "'value'\n",
      "'value'\n",
      "'value'\n",
      "'value'\n",
      "'value'\n",
      "'value'\n",
      "'value'\n",
      "'value'\n",
      "'value'\n",
      "'value'\n",
      "'value'\n",
      "'value'\n"
     ]
    },
    {
     "name": "stderr",
     "output_type": "stream",
     "text": [
      "\r",
      " 79%|███████▉  | 401/505 [43:54<11:53,  6.87s/it]"
     ]
    },
    {
     "name": "stdout",
     "output_type": "stream",
     "text": [
      "'value'\n",
      "'value'\n",
      "'value'\n",
      "'value'\n",
      "'value'\n",
      "'value'\n",
      "'value'\n",
      "'value'\n",
      "'value'\n",
      "'value'\n",
      "'value'\n"
     ]
    },
    {
     "name": "stderr",
     "output_type": "stream",
     "text": [
      "\r",
      " 80%|███████▉  | 402/505 [44:00<11:26,  6.66s/it]"
     ]
    },
    {
     "name": "stdout",
     "output_type": "stream",
     "text": [
      "'value'\n",
      "'value'\n",
      "'value'\n",
      "'value'\n",
      "'value'\n",
      "'value'\n",
      "'value'\n",
      "'value'\n",
      "'value'\n",
      "'value'\n",
      "'value'\n",
      "'value'\n"
     ]
    },
    {
     "name": "stderr",
     "output_type": "stream",
     "text": [
      "\r",
      " 80%|███████▉  | 403/505 [44:06<10:43,  6.31s/it]"
     ]
    },
    {
     "name": "stdout",
     "output_type": "stream",
     "text": [
      "'value'\n",
      "'value'\n",
      "'value'\n",
      "'value'\n",
      "'value'\n",
      "'value'\n",
      "'value'\n",
      "'value'\n",
      "'value'\n",
      "'value'\n",
      "'value'\n",
      "'value'\n",
      "'value'\n",
      "'value'\n",
      "'value'\n",
      "'value'\n",
      "'value'\n"
     ]
    },
    {
     "name": "stderr",
     "output_type": "stream",
     "text": [
      "\r",
      " 80%|████████  | 404/505 [44:14<11:23,  6.77s/it]"
     ]
    },
    {
     "name": "stdout",
     "output_type": "stream",
     "text": [
      "'value'\n",
      "'value'\n",
      "'value'\n",
      "'value'\n",
      "'value'\n",
      "'value'\n",
      "'value'\n",
      "'value'\n",
      "'value'\n",
      "'value'\n",
      "'value'\n",
      "'value'\n",
      "'value'\n",
      "'value'\n",
      "'value'\n",
      "'value'\n",
      "'value'\n",
      "'value'\n",
      "'value'\n",
      "'value'\n",
      "'value'\n",
      "'value'\n",
      "'value'\n",
      "'value'\n",
      "'value'\n",
      "'value'\n",
      "'value'\n",
      "'value'\n",
      "'value'\n",
      "'value'\n",
      "'value'\n",
      "'value'\n",
      "'value'\n",
      "'value'\n"
     ]
    },
    {
     "name": "stderr",
     "output_type": "stream",
     "text": [
      "\r",
      " 80%|████████  | 405/505 [44:18<10:04,  6.05s/it]"
     ]
    },
    {
     "name": "stdout",
     "output_type": "stream",
     "text": [
      "'value'\n",
      "'value'\n",
      "'value'\n",
      "'value'\n",
      "'value'\n",
      "'value'\n",
      "'value'\n",
      "'value'\n",
      "'value'\n",
      "'value'\n",
      "'value'\n"
     ]
    },
    {
     "name": "stderr",
     "output_type": "stream",
     "text": [
      "\r",
      " 80%|████████  | 406/505 [44:23<09:33,  5.80s/it]"
     ]
    },
    {
     "name": "stdout",
     "output_type": "stream",
     "text": [
      "'value'\n",
      "'value'\n",
      "'value'\n",
      "'value'\n",
      "'value'\n",
      "'value'\n",
      "'value'\n",
      "'value'\n",
      "'value'\n",
      "'value'\n",
      "'value'\n",
      "'value'\n",
      "'value'\n",
      "'value'\n",
      "'value'\n",
      "'value'\n",
      "'value'\n",
      "'value'\n",
      "'value'\n",
      "'value'\n",
      "'value'\n",
      "'value'\n"
     ]
    },
    {
     "name": "stderr",
     "output_type": "stream",
     "text": [
      "\r",
      " 81%|████████  | 407/505 [44:29<09:29,  5.81s/it]"
     ]
    },
    {
     "name": "stdout",
     "output_type": "stream",
     "text": [
      "'value'\n",
      "'value'\n",
      "'value'\n",
      "'value'\n",
      "'value'\n",
      "'value'\n",
      "'value'\n",
      "'value'\n",
      "'value'\n",
      "'value'\n",
      "'value'\n",
      "'value'\n",
      "'value'\n",
      "'value'\n",
      "'value'\n",
      "'value'\n",
      "'value'\n",
      "'value'\n",
      "'value'\n",
      "'value'\n",
      "'value'\n",
      "'value'\n",
      "'value'\n",
      "'value'\n",
      "'value'\n",
      "'value'\n",
      "'value'\n",
      "'value'\n",
      "'value'\n",
      "'value'\n",
      "'value'\n",
      "'value'\n",
      "'value'\n",
      "'value'\n",
      "'value'\n",
      "'value'\n",
      "'value'\n",
      "'value'\n",
      "'value'\n"
     ]
    },
    {
     "name": "stderr",
     "output_type": "stream",
     "text": [
      "\r",
      " 81%|████████  | 408/505 [44:34<09:10,  5.68s/it]"
     ]
    },
    {
     "name": "stdout",
     "output_type": "stream",
     "text": [
      "'value'\n",
      "'value'\n",
      "'value'\n",
      "'value'\n",
      "'value'\n",
      "'value'\n",
      "'value'\n",
      "'value'\n",
      "'value'\n",
      "'value'\n",
      "'value'\n",
      "'value'\n",
      "'value'\n",
      "'value'\n",
      "'value'\n",
      "'value'\n",
      "'value'\n",
      "'value'\n",
      "'value'\n",
      "'value'\n",
      "'value'\n",
      "'value'\n",
      "'value'\n",
      "'value'\n",
      "'value'\n",
      "'value'\n",
      "'value'\n",
      "'value'\n",
      "'value'\n",
      "'value'\n",
      "'value'\n",
      "'value'\n",
      "'value'\n",
      "'value'\n",
      "'value'\n",
      "'value'\n",
      "'value'\n",
      "'value'\n",
      "'value'\n",
      "'value'\n",
      "'value'\n",
      "'value'\n"
     ]
    },
    {
     "name": "stderr",
     "output_type": "stream",
     "text": [
      "\r",
      " 81%|████████  | 409/505 [44:40<09:10,  5.74s/it]"
     ]
    },
    {
     "name": "stdout",
     "output_type": "stream",
     "text": [
      "'value'\n",
      "'value'\n",
      "'value'\n",
      "'value'\n",
      "'value'\n",
      "'value'\n",
      "'value'\n",
      "'value'\n",
      "'value'\n",
      "'value'\n",
      "'value'\n",
      "'value'\n",
      "'value'\n",
      "'value'\n",
      "'value'\n",
      "'value'\n",
      "'value'\n",
      "'value'\n",
      "'value'\n",
      "'value'\n",
      "'value'\n",
      "'value'\n"
     ]
    },
    {
     "name": "stderr",
     "output_type": "stream",
     "text": [
      "\r",
      " 81%|████████  | 410/505 [44:47<09:27,  5.98s/it]"
     ]
    },
    {
     "name": "stdout",
     "output_type": "stream",
     "text": [
      "'value'\n",
      "'value'\n",
      "'value'\n",
      "'value'\n",
      "'value'\n",
      "'value'\n",
      "'value'\n",
      "'value'\n",
      "'value'\n",
      "'value'\n",
      "'value'\n",
      "'value'\n",
      "'value'\n",
      "'value'\n",
      "'value'\n",
      "'value'\n"
     ]
    },
    {
     "name": "stderr",
     "output_type": "stream",
     "text": [
      "\r",
      " 81%|████████▏ | 411/505 [44:56<10:54,  6.96s/it]"
     ]
    },
    {
     "name": "stdout",
     "output_type": "stream",
     "text": [
      "'value'\n",
      "'value'\n",
      "'value'\n",
      "'value'\n",
      "'value'\n",
      "'value'\n",
      "'value'\n",
      "'value'\n",
      "'value'\n",
      "'value'\n",
      "'value'\n",
      "'value'\n",
      "'value'\n",
      "'value'\n",
      "'value'\n",
      "'value'\n",
      "'value'\n",
      "'value'\n",
      "'value'\n",
      "'value'\n",
      "'value'\n"
     ]
    },
    {
     "name": "stderr",
     "output_type": "stream",
     "text": [
      "\r",
      " 82%|████████▏ | 412/505 [45:03<10:32,  6.80s/it]"
     ]
    },
    {
     "name": "stdout",
     "output_type": "stream",
     "text": [
      "'value'\n",
      "'value'\n",
      "'value'\n",
      "'value'\n",
      "'value'\n",
      "'value'\n",
      "'value'\n",
      "'value'\n",
      "'value'\n",
      "'value'\n",
      "'value'\n",
      "'value'\n",
      "'value'\n"
     ]
    },
    {
     "name": "stderr",
     "output_type": "stream",
     "text": [
      "\r",
      " 82%|████████▏ | 413/505 [45:08<09:53,  6.45s/it]"
     ]
    },
    {
     "name": "stdout",
     "output_type": "stream",
     "text": [
      "'value'\n",
      "'value'\n",
      "'value'\n",
      "'value'\n",
      "'value'\n",
      "'value'\n",
      "'value'\n",
      "'value'\n",
      "'value'\n",
      "'value'\n",
      "'value'\n",
      "'value'\n",
      "'value'\n",
      "'value'\n",
      "'value'\n",
      "'value'\n",
      "'value'\n",
      "'value'\n",
      "'value'\n"
     ]
    },
    {
     "name": "stderr",
     "output_type": "stream",
     "text": [
      "\r",
      " 82%|████████▏ | 414/505 [45:16<10:34,  6.97s/it]"
     ]
    },
    {
     "name": "stdout",
     "output_type": "stream",
     "text": [
      "'value'\n",
      "'value'\n",
      "'value'\n",
      "'value'\n",
      "'value'\n",
      "'value'\n",
      "'value'\n",
      "'value'\n",
      "'value'\n",
      "'value'\n",
      "'value'\n",
      "'value'\n",
      "'value'\n",
      "'value'\n",
      "'value'\n",
      "'value'\n",
      "'value'\n",
      "'value'\n",
      "'value'\n",
      "'value'\n",
      "'value'\n",
      "'value'\n",
      "'value'\n",
      "'value'\n",
      "'value'\n",
      "'value'\n",
      "'value'\n",
      "'value'\n"
     ]
    },
    {
     "name": "stderr",
     "output_type": "stream",
     "text": [
      "\r",
      " 82%|████████▏ | 415/505 [45:25<11:12,  7.47s/it]"
     ]
    },
    {
     "name": "stdout",
     "output_type": "stream",
     "text": [
      "'value'\n",
      "'value'\n",
      "'value'\n",
      "'value'\n",
      "'value'\n",
      "'value'\n",
      "'value'\n",
      "'value'\n",
      "'value'\n",
      "'value'\n"
     ]
    },
    {
     "name": "stderr",
     "output_type": "stream",
     "text": [
      "\r",
      " 82%|████████▏ | 416/505 [45:32<10:56,  7.38s/it]"
     ]
    },
    {
     "name": "stdout",
     "output_type": "stream",
     "text": [
      "'value'\n",
      "'value'\n",
      "'value'\n",
      "'value'\n",
      "'value'\n",
      "'value'\n",
      "'value'\n",
      "'value'\n",
      "'value'\n",
      "'value'\n",
      "'value'\n"
     ]
    },
    {
     "name": "stderr",
     "output_type": "stream",
     "text": [
      "\r",
      " 83%|████████▎ | 417/505 [45:40<10:53,  7.43s/it]"
     ]
    },
    {
     "name": "stdout",
     "output_type": "stream",
     "text": [
      "'value'\n",
      "'value'\n",
      "'value'\n",
      "'value'\n",
      "'value'\n",
      "'value'\n",
      "'value'\n",
      "'value'\n",
      "'value'\n",
      "'value'\n",
      "'value'\n",
      "'value'\n",
      "'value'\n",
      "'value'\n",
      "'value'\n",
      "'value'\n",
      "'value'\n",
      "'value'\n",
      "'value'\n"
     ]
    },
    {
     "name": "stderr",
     "output_type": "stream",
     "text": [
      "\r",
      " 83%|████████▎ | 418/505 [45:46<10:04,  6.95s/it]"
     ]
    },
    {
     "name": "stdout",
     "output_type": "stream",
     "text": [
      "'value'\n",
      "'value'\n",
      "'value'\n",
      "'value'\n",
      "'value'\n",
      "'value'\n",
      "'value'\n",
      "'value'\n",
      "'value'\n",
      "'value'\n",
      "'value'\n",
      "'value'\n",
      "'value'\n",
      "'value'\n",
      "'value'\n",
      "'value'\n",
      "'value'\n",
      "'value'\n"
     ]
    },
    {
     "name": "stderr",
     "output_type": "stream",
     "text": [
      "\r",
      " 83%|████████▎ | 419/505 [45:52<09:55,  6.93s/it]"
     ]
    },
    {
     "name": "stdout",
     "output_type": "stream",
     "text": [
      "'value'\n",
      "'value'\n",
      "'value'\n",
      "'value'\n",
      "'value'\n",
      "'value'\n",
      "'value'\n",
      "'value'\n",
      "'value'\n"
     ]
    },
    {
     "name": "stderr",
     "output_type": "stream",
     "text": [
      "\r",
      " 83%|████████▎ | 420/505 [46:01<10:35,  7.48s/it]"
     ]
    },
    {
     "name": "stdout",
     "output_type": "stream",
     "text": [
      "'value'\n",
      "'value'\n",
      "'value'\n",
      "'value'\n",
      "'value'\n",
      "'value'\n",
      "'value'\n",
      "'value'\n",
      "'value'\n",
      "'value'\n",
      "'value'\n",
      "'value'\n",
      "'value'\n",
      "'value'\n",
      "'value'\n",
      "'value'\n",
      "'value'\n",
      "'value'\n",
      "'value'\n"
     ]
    },
    {
     "name": "stderr",
     "output_type": "stream",
     "text": [
      "\r",
      " 83%|████████▎ | 421/505 [46:11<11:36,  8.30s/it]"
     ]
    },
    {
     "name": "stdout",
     "output_type": "stream",
     "text": [
      "'value'\n",
      "'value'\n",
      "'value'\n",
      "'value'\n",
      "'value'\n",
      "'value'\n",
      "'value'\n",
      "'value'\n",
      "'value'\n",
      "'value'\n",
      "'value'\n",
      "'value'\n",
      "'value'\n",
      "'value'\n",
      "'value'\n",
      "'value'\n",
      "'value'\n",
      "'value'\n",
      "'value'\n",
      "'value'\n",
      "'value'\n",
      "'value'\n"
     ]
    },
    {
     "name": "stderr",
     "output_type": "stream",
     "text": [
      "\r",
      " 84%|████████▎ | 422/505 [46:19<11:07,  8.04s/it]"
     ]
    },
    {
     "name": "stdout",
     "output_type": "stream",
     "text": [
      "'value'\n",
      "'value'\n",
      "'value'\n",
      "'value'\n",
      "'value'\n",
      "'value'\n",
      "'value'\n",
      "'value'\n",
      "'value'\n",
      "'value'\n",
      "'value'\n",
      "'value'\n",
      "'value'\n",
      "'value'\n",
      "'value'\n",
      "'value'\n",
      "'value'\n",
      "'value'\n",
      "'value'\n",
      "'value'\n",
      "'value'\n",
      "'value'\n",
      "'value'\n",
      "'value'\n",
      "'value'\n",
      "'value'\n",
      "'value'\n"
     ]
    },
    {
     "name": "stderr",
     "output_type": "stream",
     "text": [
      "\r",
      " 84%|████████▍ | 423/505 [46:26<10:41,  7.82s/it]"
     ]
    },
    {
     "name": "stdout",
     "output_type": "stream",
     "text": [
      "'value'\n",
      "'value'\n",
      "'value'\n",
      "'value'\n",
      "'value'\n",
      "'value'\n",
      "'value'\n",
      "'value'\n",
      "'value'\n",
      "'value'\n",
      "'value'\n",
      "'value'\n",
      "'value'\n",
      "'value'\n",
      "'value'\n",
      "'value'\n",
      "'value'\n",
      "'value'\n",
      "'value'\n",
      "'value'\n",
      "'value'\n",
      "'value'\n",
      "'value'\n"
     ]
    },
    {
     "name": "stderr",
     "output_type": "stream",
     "text": [
      "\r",
      " 84%|████████▍ | 424/505 [46:34<10:38,  7.88s/it]"
     ]
    },
    {
     "name": "stdout",
     "output_type": "stream",
     "text": [
      "'value'\n",
      "'value'\n",
      "'value'\n",
      "'value'\n",
      "'value'\n",
      "'value'\n",
      "'value'\n",
      "'value'\n",
      "'value'\n",
      "'value'\n",
      "'value'\n",
      "'value'\n",
      "'value'\n",
      "'value'\n",
      "'value'\n",
      "'value'\n",
      "'value'\n",
      "'value'\n",
      "'value'\n",
      "'value'\n",
      "'value'\n",
      "'value'\n",
      "'value'\n",
      "'value'\n",
      "'value'\n",
      "'value'\n",
      "'value'\n",
      "'value'\n",
      "'value'\n",
      "'value'\n",
      "'value'\n",
      "'value'\n"
     ]
    },
    {
     "name": "stderr",
     "output_type": "stream",
     "text": [
      "\r",
      " 84%|████████▍ | 425/505 [46:42<10:28,  7.85s/it]"
     ]
    },
    {
     "name": "stdout",
     "output_type": "stream",
     "text": [
      "'value'\n",
      "'value'\n",
      "'value'\n",
      "'value'\n",
      "'value'\n",
      "'value'\n",
      "'value'\n",
      "'value'\n"
     ]
    },
    {
     "name": "stderr",
     "output_type": "stream",
     "text": [
      "\r",
      " 84%|████████▍ | 426/505 [46:43<07:45,  5.89s/it]"
     ]
    },
    {
     "name": "stdout",
     "output_type": "stream",
     "text": [
      "'value'\n",
      "'value'\n",
      "'value'\n",
      "'value'\n",
      "'value'\n",
      "'value'\n",
      "'value'\n",
      "'value'\n",
      "'value'\n",
      "'value'\n",
      "'value'\n",
      "'value'\n",
      "'value'\n",
      "'value'\n",
      "'value'\n",
      "'value'\n",
      "'value'\n",
      "'value'\n"
     ]
    },
    {
     "name": "stderr",
     "output_type": "stream",
     "text": [
      "\r",
      " 85%|████████▍ | 427/505 [46:50<07:55,  6.10s/it]"
     ]
    },
    {
     "name": "stdout",
     "output_type": "stream",
     "text": [
      "'value'\n",
      "'value'\n",
      "'value'\n",
      "'value'\n",
      "'value'\n",
      "'value'\n",
      "'value'\n",
      "'value'\n",
      "'value'\n",
      "'value'\n",
      "'value'\n",
      "'value'\n",
      "'value'\n",
      "'value'\n",
      "'value'\n",
      "'value'\n",
      "'value'\n",
      "'value'\n",
      "'value'\n",
      "'value'\n",
      "'value'\n",
      "'value'\n",
      "'value'\n",
      "'value'\n",
      "'value'\n",
      "'value'\n"
     ]
    },
    {
     "name": "stderr",
     "output_type": "stream",
     "text": [
      "\r",
      " 85%|████████▍ | 428/505 [46:58<08:43,  6.79s/it]"
     ]
    },
    {
     "name": "stdout",
     "output_type": "stream",
     "text": [
      "'value'\n",
      "'value'\n",
      "'value'\n",
      "'value'\n",
      "'value'\n",
      "'value'\n",
      "'value'\n",
      "'value'\n",
      "'value'\n",
      "'value'\n",
      "'value'\n",
      "'value'\n",
      "'value'\n",
      "'value'\n",
      "'value'\n",
      "'value'\n",
      "'value'\n",
      "'value'\n",
      "'value'\n",
      "'value'\n",
      "'value'\n"
     ]
    },
    {
     "name": "stderr",
     "output_type": "stream",
     "text": [
      "\r",
      " 85%|████████▍ | 429/505 [47:02<07:26,  5.87s/it]"
     ]
    },
    {
     "name": "stdout",
     "output_type": "stream",
     "text": [
      "'value'\n",
      "'value'\n",
      "'value'\n",
      "'value'\n",
      "'value'\n",
      "'value'\n",
      "'value'\n",
      "'value'\n",
      "'value'\n",
      "'value'\n",
      "'value'\n",
      "'value'\n",
      "'value'\n",
      "'value'\n",
      "'value'\n",
      "'value'\n",
      "'value'\n",
      "'value'\n",
      "'value'\n",
      "'value'\n",
      "'value'\n"
     ]
    },
    {
     "name": "stderr",
     "output_type": "stream",
     "text": [
      "\r",
      " 85%|████████▌ | 430/505 [47:10<08:07,  6.51s/it]"
     ]
    },
    {
     "name": "stdout",
     "output_type": "stream",
     "text": [
      "'value'\n",
      "'value'\n",
      "'value'\n",
      "'value'\n",
      "'value'\n",
      "'value'\n",
      "'value'\n",
      "'value'\n",
      "'value'\n",
      "'value'\n",
      "'value'\n",
      "'value'\n"
     ]
    },
    {
     "name": "stderr",
     "output_type": "stream",
     "text": [
      "\r",
      " 85%|████████▌ | 431/505 [47:18<08:24,  6.82s/it]"
     ]
    },
    {
     "name": "stdout",
     "output_type": "stream",
     "text": [
      "'value'\n",
      "'value'\n",
      "'value'\n",
      "'value'\n",
      "'value'\n",
      "'value'\n",
      "'value'\n",
      "'value'\n",
      "'value'\n",
      "'value'\n",
      "'value'\n",
      "'value'\n",
      "'value'\n",
      "'value'\n",
      "'value'\n",
      "'value'\n",
      "'value'\n",
      "'value'\n",
      "'value'\n",
      "'value'\n",
      "'value'\n",
      "'value'\n",
      "'value'\n",
      "'value'\n",
      "'value'\n",
      "'value'\n",
      "'value'\n",
      "'value'\n",
      "'value'\n",
      "'value'\n",
      "'value'\n",
      "'value'\n",
      "'value'\n",
      "'value'\n",
      "'value'\n",
      "'value'\n",
      "'value'\n",
      "'value'\n",
      "'value'\n",
      "'value'\n",
      "'value'\n",
      "'value'\n",
      "'value'\n",
      "'value'\n",
      "'value'\n",
      "'value'\n",
      "'value'\n",
      "'value'\n",
      "'value'\n",
      "'value'\n"
     ]
    },
    {
     "name": "stderr",
     "output_type": "stream",
     "text": [
      "\r",
      " 86%|████████▌ | 432/505 [47:26<08:58,  7.38s/it]"
     ]
    },
    {
     "name": "stdout",
     "output_type": "stream",
     "text": [
      "'value'\n",
      "'value'\n",
      "'value'\n",
      "'value'\n",
      "'value'\n",
      "'value'\n",
      "'value'\n"
     ]
    },
    {
     "name": "stderr",
     "output_type": "stream",
     "text": [
      "\r",
      " 86%|████████▌ | 433/505 [47:34<08:59,  7.49s/it]"
     ]
    },
    {
     "name": "stdout",
     "output_type": "stream",
     "text": [
      "'value'\n",
      "'value'\n",
      "'value'\n",
      "'value'\n",
      "'value'\n",
      "'value'\n",
      "'value'\n",
      "'value'\n",
      "'value'\n",
      "'value'\n",
      "'value'\n",
      "'value'\n",
      "'value'\n",
      "'value'\n"
     ]
    },
    {
     "name": "stderr",
     "output_type": "stream",
     "text": [
      "\r",
      " 86%|████████▌ | 434/505 [47:41<08:41,  7.35s/it]"
     ]
    },
    {
     "name": "stdout",
     "output_type": "stream",
     "text": [
      "'value'\n",
      "'value'\n",
      "'value'\n",
      "'value'\n",
      "'value'\n",
      "'value'\n",
      "'value'\n",
      "'value'\n",
      "'value'\n",
      "'value'\n",
      "'value'\n",
      "'value'\n",
      "'value'\n",
      "'value'\n",
      "'value'\n",
      "'value'\n",
      "'value'\n",
      "'value'\n"
     ]
    },
    {
     "name": "stderr",
     "output_type": "stream",
     "text": [
      "\r",
      " 86%|████████▌ | 435/505 [47:49<08:48,  7.55s/it]"
     ]
    },
    {
     "name": "stdout",
     "output_type": "stream",
     "text": [
      "'value'\n",
      "'value'\n",
      "'value'\n",
      "'value'\n",
      "'value'\n",
      "'value'\n",
      "'value'\n",
      "'value'\n",
      "'value'\n",
      "'value'\n",
      "'value'\n",
      "'value'\n",
      "'value'\n",
      "'value'\n",
      "'value'\n",
      "'value'\n",
      "'value'\n",
      "'value'\n",
      "'value'\n"
     ]
    },
    {
     "name": "stderr",
     "output_type": "stream",
     "text": [
      "\r",
      " 86%|████████▋ | 436/505 [47:58<09:06,  7.92s/it]"
     ]
    },
    {
     "name": "stdout",
     "output_type": "stream",
     "text": [
      "'value'\n",
      "'value'\n",
      "'value'\n",
      "'value'\n",
      "'value'\n",
      "'value'\n",
      "'value'\n",
      "'value'\n",
      "'value'\n",
      "'value'\n",
      "'value'\n",
      "'value'\n",
      "'value'\n",
      "'value'\n",
      "'value'\n",
      "'value'\n",
      "'value'\n",
      "'value'\n",
      "'value'\n"
     ]
    },
    {
     "name": "stderr",
     "output_type": "stream",
     "text": [
      "\r",
      " 87%|████████▋ | 437/505 [48:06<09:09,  8.09s/it]"
     ]
    },
    {
     "name": "stdout",
     "output_type": "stream",
     "text": [
      "'value'\n",
      "'value'\n",
      "'value'\n",
      "'value'\n",
      "'value'\n",
      "'value'\n",
      "'value'\n",
      "'value'\n",
      "'value'\n",
      "'value'\n",
      "'value'\n",
      "'value'\n",
      "'value'\n",
      "'value'\n",
      "'value'\n"
     ]
    },
    {
     "name": "stderr",
     "output_type": "stream",
     "text": [
      "\r",
      " 87%|████████▋ | 438/505 [48:13<08:43,  7.81s/it]"
     ]
    },
    {
     "name": "stdout",
     "output_type": "stream",
     "text": [
      "'value'\n",
      "'value'\n",
      "'value'\n",
      "'value'\n",
      "'value'\n",
      "'value'\n",
      "'value'\n",
      "'value'\n",
      "'value'\n",
      "'value'\n",
      "'value'\n",
      "'value'\n"
     ]
    },
    {
     "name": "stderr",
     "output_type": "stream",
     "text": [
      "\r",
      " 87%|████████▋ | 439/505 [48:23<09:15,  8.41s/it]"
     ]
    },
    {
     "name": "stdout",
     "output_type": "stream",
     "text": [
      "'value'\n",
      "'value'\n",
      "'value'\n",
      "'value'\n",
      "'value'\n",
      "'value'\n",
      "'value'\n",
      "'value'\n",
      "'value'\n"
     ]
    },
    {
     "name": "stderr",
     "output_type": "stream",
     "text": [
      "\r",
      " 87%|████████▋ | 440/505 [48:32<09:21,  8.65s/it]"
     ]
    },
    {
     "name": "stdout",
     "output_type": "stream",
     "text": [
      "'value'\n",
      "'value'\n",
      "'value'\n",
      "'value'\n",
      "'value'\n",
      "'value'\n",
      "'value'\n",
      "'value'\n",
      "'value'\n",
      "'value'\n",
      "'value'\n",
      "'value'\n",
      "'value'\n",
      "'value'\n",
      "'value'\n",
      "'value'\n",
      "'value'\n",
      "'value'\n",
      "'value'\n",
      "'value'\n",
      "'value'\n",
      "'value'\n",
      "'value'\n",
      "'value'\n"
     ]
    },
    {
     "name": "stderr",
     "output_type": "stream",
     "text": [
      "\r",
      " 87%|████████▋ | 441/505 [48:41<09:06,  8.53s/it]"
     ]
    },
    {
     "name": "stdout",
     "output_type": "stream",
     "text": [
      "'value'\n",
      "'value'\n",
      "'value'\n",
      "'value'\n",
      "'value'\n",
      "'value'\n",
      "'value'\n",
      "'value'\n",
      "'value'\n",
      "'value'\n",
      "'value'\n",
      "'value'\n",
      "'value'\n"
     ]
    },
    {
     "name": "stderr",
     "output_type": "stream",
     "text": [
      "\r",
      " 88%|████████▊ | 442/505 [48:47<08:18,  7.92s/it]"
     ]
    },
    {
     "name": "stdout",
     "output_type": "stream",
     "text": [
      "'value'\n",
      "'value'\n",
      "'value'\n",
      "'value'\n",
      "'value'\n",
      "'value'\n",
      "'value'\n",
      "'value'\n",
      "'value'\n",
      "'value'\n",
      "'value'\n",
      "'value'\n",
      "'value'\n",
      "'value'\n",
      "'value'\n",
      "'value'\n"
     ]
    },
    {
     "name": "stderr",
     "output_type": "stream",
     "text": [
      "\r",
      " 88%|████████▊ | 443/505 [48:54<07:43,  7.47s/it]"
     ]
    },
    {
     "name": "stdout",
     "output_type": "stream",
     "text": [
      "'value'\n",
      "'value'\n",
      "'value'\n",
      "'value'\n",
      "'value'\n",
      "'value'\n",
      "'value'\n",
      "'value'\n",
      "'value'\n",
      "'value'\n",
      "'value'\n",
      "'value'\n",
      "'value'\n",
      "'value'\n",
      "'value'\n",
      "'value'\n",
      "'value'\n",
      "'value'\n",
      "'value'\n",
      "'value'\n",
      "'value'\n",
      "'value'\n",
      "'value'\n"
     ]
    },
    {
     "name": "stderr",
     "output_type": "stream",
     "text": [
      "\r",
      " 88%|████████▊ | 444/505 [49:01<07:31,  7.40s/it]"
     ]
    },
    {
     "name": "stdout",
     "output_type": "stream",
     "text": [
      "'value'\n",
      "'value'\n",
      "'value'\n",
      "'value'\n",
      "'value'\n",
      "'value'\n",
      "'value'\n",
      "'value'\n",
      "'value'\n",
      "'value'\n",
      "'value'\n",
      "'value'\n",
      "'value'\n",
      "'value'\n",
      "'value'\n",
      "'value'\n",
      "'value'\n",
      "'value'\n",
      "'value'\n"
     ]
    },
    {
     "name": "stderr",
     "output_type": "stream",
     "text": [
      "\r",
      " 88%|████████▊ | 445/505 [49:06<06:46,  6.78s/it]"
     ]
    },
    {
     "name": "stdout",
     "output_type": "stream",
     "text": [
      "'value'\n",
      "'value'\n",
      "'value'\n",
      "'value'\n",
      "'value'\n",
      "'value'\n",
      "'value'\n",
      "'value'\n",
      "'value'\n",
      "'value'\n",
      "'value'\n",
      "'value'\n",
      "'value'\n",
      "'value'\n",
      "'value'\n",
      "'value'\n",
      "'value'\n",
      "'value'\n",
      "'value'\n",
      "'value'\n",
      "'value'\n",
      "'value'\n",
      "'value'\n",
      "'value'\n",
      "'value'\n",
      "'value'\n",
      "'value'\n",
      "'value'\n",
      "'value'\n",
      "'value'\n",
      "'value'\n",
      "'value'\n",
      "'value'\n"
     ]
    },
    {
     "name": "stderr",
     "output_type": "stream",
     "text": [
      "\r",
      " 88%|████████▊ | 446/505 [49:11<06:01,  6.13s/it]"
     ]
    },
    {
     "name": "stdout",
     "output_type": "stream",
     "text": [
      "'value'\n",
      "'value'\n",
      "'value'\n",
      "'value'\n",
      "'value'\n",
      "'value'\n",
      "'value'\n",
      "'value'\n",
      "'value'\n",
      "'value'\n",
      "'value'\n",
      "'value'\n",
      "'value'\n",
      "'value'\n",
      "'value'\n",
      "'value'\n",
      "'value'\n",
      "'value'\n",
      "'value'\n",
      "'value'\n",
      "'value'\n",
      "'value'\n",
      "'value'\n",
      "'value'\n",
      "'value'\n",
      "'value'\n"
     ]
    },
    {
     "name": "stderr",
     "output_type": "stream",
     "text": [
      "\r",
      " 89%|████████▊ | 447/505 [49:17<06:02,  6.25s/it]"
     ]
    },
    {
     "name": "stdout",
     "output_type": "stream",
     "text": [
      "'value'\n",
      "'value'\n",
      "'value'\n",
      "'value'\n",
      "'value'\n",
      "'value'\n",
      "'value'\n",
      "'value'\n",
      "'value'\n",
      "'value'\n",
      "'value'\n",
      "'value'\n",
      "'value'\n",
      "'value'\n",
      "'value'\n",
      "'value'\n",
      "'value'\n",
      "'value'\n",
      "'value'\n",
      "'value'\n",
      "'value'\n",
      "'value'\n",
      "'value'\n",
      "'value'\n",
      "'value'\n",
      "'value'\n",
      "'value'\n"
     ]
    },
    {
     "name": "stderr",
     "output_type": "stream",
     "text": [
      "\r",
      " 89%|████████▊ | 448/505 [49:22<05:36,  5.90s/it]"
     ]
    },
    {
     "name": "stdout",
     "output_type": "stream",
     "text": [
      "'value'\n",
      "'value'\n",
      "'value'\n",
      "'value'\n",
      "'value'\n",
      "'value'\n",
      "'value'\n",
      "'value'\n",
      "'value'\n",
      "'value'\n"
     ]
    },
    {
     "name": "stderr",
     "output_type": "stream",
     "text": [
      "\r",
      " 89%|████████▉ | 449/505 [49:29<05:36,  6.01s/it]"
     ]
    },
    {
     "name": "stdout",
     "output_type": "stream",
     "text": [
      "'value'\n",
      "'value'\n",
      "'value'\n",
      "'value'\n",
      "'value'\n",
      "'value'\n",
      "'value'\n",
      "'value'\n",
      "'value'\n",
      "'value'\n",
      "'value'\n"
     ]
    },
    {
     "name": "stderr",
     "output_type": "stream",
     "text": [
      "\r",
      " 89%|████████▉ | 450/505 [49:34<05:24,  5.91s/it]"
     ]
    },
    {
     "name": "stdout",
     "output_type": "stream",
     "text": [
      "'value'\n",
      "'value'\n",
      "'value'\n",
      "'value'\n",
      "'value'\n",
      "'value'\n",
      "'value'\n",
      "'value'\n",
      "'value'\n",
      "'value'\n",
      "'value'\n",
      "'value'\n",
      "'value'\n",
      "'value'\n",
      "'value'\n",
      "'value'\n",
      "'value'\n",
      "'value'\n",
      "'value'\n",
      "'value'\n",
      "'value'\n",
      "'value'\n",
      "'value'\n",
      "'value'\n",
      "'value'\n",
      "'value'\n",
      "'value'\n",
      "'value'\n",
      "'value'\n",
      "'value'\n",
      "'value'\n",
      "'value'\n",
      "'value'\n",
      "'value'\n",
      "'value'\n",
      "'value'\n"
     ]
    },
    {
     "name": "stderr",
     "output_type": "stream",
     "text": [
      "\r",
      " 89%|████████▉ | 451/505 [49:40<05:22,  5.97s/it]"
     ]
    },
    {
     "name": "stdout",
     "output_type": "stream",
     "text": [
      "'value'\n",
      "'value'\n",
      "'value'\n",
      "'value'\n",
      "'value'\n",
      "'value'\n",
      "'value'\n",
      "'value'\n",
      "'value'\n",
      "'value'\n",
      "'value'\n",
      "'value'\n",
      "'value'\n",
      "'value'\n"
     ]
    },
    {
     "name": "stderr",
     "output_type": "stream",
     "text": [
      "\r",
      " 90%|████████▉ | 452/505 [49:44<04:37,  5.23s/it]"
     ]
    },
    {
     "name": "stdout",
     "output_type": "stream",
     "text": [
      "'value'\n",
      "'value'\n",
      "'value'\n",
      "'value'\n",
      "'value'\n",
      "'value'\n",
      "'value'\n",
      "'value'\n",
      "'value'\n",
      "'value'\n",
      "'value'\n"
     ]
    },
    {
     "name": "stderr",
     "output_type": "stream",
     "text": [
      "\r",
      " 90%|████████▉ | 453/505 [49:48<04:14,  4.90s/it]"
     ]
    },
    {
     "name": "stdout",
     "output_type": "stream",
     "text": [
      "'value'\n"
     ]
    },
    {
     "name": "stderr",
     "output_type": "stream",
     "text": [
      "\r",
      " 90%|████████▉ | 454/505 [49:54<04:18,  5.08s/it]"
     ]
    },
    {
     "name": "stdout",
     "output_type": "stream",
     "text": [
      "'value'\n",
      "'value'\n",
      "'value'\n",
      "'value'\n",
      "'value'\n",
      "'value'\n",
      "'value'\n",
      "'value'\n",
      "'value'\n",
      "'value'\n",
      "'value'\n",
      "'value'\n",
      "'value'\n",
      "'value'\n",
      "'value'\n",
      "'value'\n",
      "'value'\n",
      "'value'\n",
      "'value'\n",
      "'value'\n",
      "'value'\n",
      "'value'\n",
      "'value'\n"
     ]
    },
    {
     "name": "stderr",
     "output_type": "stream",
     "text": [
      "\r",
      " 90%|█████████ | 455/505 [50:00<04:36,  5.54s/it]"
     ]
    },
    {
     "name": "stdout",
     "output_type": "stream",
     "text": [
      "'value'\n",
      "'value'\n",
      "'value'\n",
      "'value'\n",
      "'value'\n",
      "'value'\n",
      "'value'\n",
      "'value'\n",
      "'value'\n",
      "'value'\n",
      "'value'\n",
      "'value'\n",
      "'value'\n",
      "'value'\n",
      "'value'\n"
     ]
    },
    {
     "name": "stderr",
     "output_type": "stream",
     "text": [
      "\r",
      " 90%|█████████ | 456/505 [50:04<04:05,  5.01s/it]"
     ]
    },
    {
     "name": "stdout",
     "output_type": "stream",
     "text": [
      "'value'\n",
      "'value'\n",
      "'value'\n",
      "'value'\n",
      "'value'\n",
      "'value'\n",
      "'value'\n",
      "'value'\n",
      "'value'\n",
      "'value'\n",
      "'value'\n",
      "'value'\n",
      "'value'\n",
      "'value'\n",
      "'value'\n",
      "'value'\n",
      "'value'\n",
      "'value'\n",
      "'value'\n",
      "'value'\n",
      "'value'\n",
      "'value'\n",
      "'value'\n",
      "'value'\n",
      "'value'\n",
      "'value'\n",
      "'value'\n",
      "'value'\n"
     ]
    },
    {
     "name": "stderr",
     "output_type": "stream",
     "text": [
      "\r",
      " 90%|█████████ | 457/505 [50:11<04:29,  5.62s/it]"
     ]
    },
    {
     "name": "stdout",
     "output_type": "stream",
     "text": [
      "'value'\n",
      "'value'\n",
      "'value'\n",
      "'value'\n",
      "'value'\n",
      "'value'\n",
      "'value'\n",
      "'value'\n",
      "'value'\n",
      "'value'\n",
      "'value'\n",
      "'value'\n",
      "'value'\n",
      "'value'\n",
      "'value'\n",
      "'value'\n",
      "'value'\n",
      "'value'\n",
      "'value'\n",
      "'value'\n",
      "'value'\n",
      "'value'\n",
      "'value'\n"
     ]
    },
    {
     "name": "stderr",
     "output_type": "stream",
     "text": [
      "\r",
      " 91%|█████████ | 458/505 [50:16<04:07,  5.27s/it]"
     ]
    },
    {
     "name": "stdout",
     "output_type": "stream",
     "text": [
      "'value'\n",
      "'value'\n",
      "'value'\n",
      "'value'\n",
      "'value'\n",
      "'value'\n",
      "'value'\n",
      "'value'\n",
      "'value'\n",
      "'value'\n",
      "'value'\n",
      "'value'\n",
      "'value'\n",
      "'value'\n",
      "'value'\n",
      "'value'\n",
      "'value'\n",
      "'value'\n",
      "'value'\n",
      "'value'\n"
     ]
    },
    {
     "name": "stderr",
     "output_type": "stream",
     "text": [
      "\r",
      " 91%|█████████ | 459/505 [50:18<03:26,  4.48s/it]"
     ]
    },
    {
     "name": "stdout",
     "output_type": "stream",
     "text": [
      "'value'\n",
      "'value'\n",
      "'value'\n",
      "'value'\n",
      "'value'\n",
      "'value'\n",
      "'value'\n",
      "'value'\n",
      "'value'\n",
      "'value'\n",
      "'value'\n",
      "'value'\n",
      "'value'\n",
      "'value'\n",
      "'value'\n",
      "'value'\n",
      "'value'\n",
      "'value'\n",
      "'value'\n",
      "'value'\n",
      "'value'\n",
      "'value'\n",
      "'value'\n",
      "'value'\n",
      "'value'\n",
      "'value'\n",
      "'value'\n",
      "'value'\n",
      "'value'\n"
     ]
    },
    {
     "name": "stderr",
     "output_type": "stream",
     "text": [
      "\r",
      " 91%|█████████ | 460/505 [50:23<03:33,  4.74s/it]"
     ]
    },
    {
     "name": "stdout",
     "output_type": "stream",
     "text": [
      "'value'\n",
      "'value'\n",
      "'value'\n",
      "'value'\n",
      "'value'\n",
      "'value'\n",
      "'value'\n",
      "'value'\n",
      "'value'\n",
      "'value'\n",
      "'value'\n",
      "'value'\n",
      "'value'\n",
      "'value'\n",
      "'value'\n",
      "'value'\n",
      "'value'\n",
      "'value'\n",
      "'value'\n",
      "'value'\n",
      "'value'\n",
      "'value'\n",
      "'value'\n",
      "'value'\n",
      "'value'\n",
      "'value'\n",
      "'value'\n",
      "'value'\n",
      "'value'\n",
      "'value'\n",
      "'value'\n",
      "'value'\n",
      "'value'\n",
      "'value'\n",
      "'value'\n",
      "'value'\n",
      "'value'\n",
      "'value'\n",
      "'value'\n",
      "'value'\n",
      "'value'\n",
      "'value'\n",
      "'value'\n",
      "'value'\n",
      "'value'\n",
      "'value'\n",
      "'value'\n",
      "'value'\n",
      "'value'\n",
      "'value'\n",
      "'value'\n",
      "'value'\n",
      "'value'\n",
      "'value'\n",
      "'value'\n",
      "'value'\n",
      "'value'\n",
      "'value'\n",
      "'value'\n",
      "'value'\n"
     ]
    },
    {
     "name": "stderr",
     "output_type": "stream",
     "text": [
      "\r",
      " 91%|█████████▏| 461/505 [50:29<03:36,  4.93s/it]"
     ]
    },
    {
     "name": "stdout",
     "output_type": "stream",
     "text": [
      "'value'\n",
      "'value'\n",
      "'value'\n",
      "'value'\n",
      "'value'\n",
      "'value'\n",
      "'value'\n",
      "'value'\n",
      "'value'\n",
      "'value'\n",
      "'value'\n",
      "'value'\n",
      "'value'\n",
      "'value'\n",
      "'value'\n",
      "'value'\n",
      "'value'\n",
      "'value'\n",
      "'value'\n",
      "'value'\n",
      "'value'\n",
      "'value'\n"
     ]
    },
    {
     "name": "stderr",
     "output_type": "stream",
     "text": [
      "\r",
      " 91%|█████████▏| 462/505 [50:35<03:44,  5.22s/it]"
     ]
    },
    {
     "name": "stdout",
     "output_type": "stream",
     "text": [
      "'value'\n",
      "'value'\n",
      "'value'\n",
      "'value'\n",
      "'value'\n",
      "'value'\n",
      "'value'\n",
      "'value'\n",
      "'value'\n",
      "'value'\n",
      "'value'\n",
      "'value'\n",
      "'value'\n",
      "'value'\n",
      "'value'\n",
      "'value'\n",
      "'value'\n",
      "'value'\n",
      "'value'\n"
     ]
    },
    {
     "name": "stderr",
     "output_type": "stream",
     "text": [
      "\r",
      " 92%|█████████▏| 463/505 [50:40<03:40,  5.26s/it]"
     ]
    },
    {
     "name": "stdout",
     "output_type": "stream",
     "text": [
      "'value'\n",
      "'value'\n",
      "'value'\n",
      "'value'\n",
      "'value'\n",
      "'value'\n",
      "'value'\n",
      "'value'\n",
      "'value'\n",
      "'value'\n",
      "'value'\n"
     ]
    },
    {
     "name": "stderr",
     "output_type": "stream",
     "text": [
      "\r",
      " 92%|█████████▏| 464/505 [50:44<03:23,  4.95s/it]"
     ]
    },
    {
     "name": "stdout",
     "output_type": "stream",
     "text": [
      "'value'\n",
      "'value'\n",
      "'value'\n",
      "'value'\n",
      "'value'\n",
      "'value'\n",
      "'value'\n",
      "'value'\n",
      "'value'\n",
      "'value'\n",
      "'value'\n",
      "'value'\n",
      "'value'\n",
      "'value'\n",
      "'value'\n",
      "'value'\n",
      "'value'\n",
      "'value'\n",
      "'value'\n",
      "'value'\n",
      "'value'\n",
      "'value'\n",
      "'value'\n",
      "'value'\n",
      "'value'\n"
     ]
    },
    {
     "name": "stderr",
     "output_type": "stream",
     "text": [
      "\r",
      " 92%|█████████▏| 465/505 [50:49<03:16,  4.91s/it]"
     ]
    },
    {
     "name": "stdout",
     "output_type": "stream",
     "text": [
      "'value'\n",
      "'value'\n",
      "'value'\n",
      "'value'\n",
      "'value'\n",
      "'value'\n",
      "'value'\n",
      "'value'\n",
      "'value'\n",
      "'value'\n",
      "'value'\n",
      "'value'\n",
      "'value'\n",
      "'value'\n",
      "'value'\n",
      "'value'\n"
     ]
    },
    {
     "name": "stderr",
     "output_type": "stream",
     "text": [
      "\r",
      " 92%|█████████▏| 466/505 [50:55<03:17,  5.07s/it]"
     ]
    },
    {
     "name": "stdout",
     "output_type": "stream",
     "text": [
      "'value'\n",
      "'value'\n",
      "'value'\n",
      "'value'\n",
      "'value'\n",
      "'value'\n",
      "'value'\n",
      "'value'\n",
      "'value'\n",
      "'value'\n",
      "'value'\n",
      "'value'\n",
      "'value'\n",
      "'value'\n",
      "'value'\n",
      "'value'\n",
      "'value'\n",
      "'value'\n",
      "'value'\n",
      "'value'\n",
      "'value'\n",
      "'value'\n"
     ]
    },
    {
     "name": "stderr",
     "output_type": "stream",
     "text": [
      "\r",
      " 92%|█████████▏| 467/505 [50:59<03:07,  4.92s/it]"
     ]
    },
    {
     "name": "stdout",
     "output_type": "stream",
     "text": [
      "'value'\n",
      "'value'\n",
      "'value'\n",
      "'value'\n",
      "'value'\n",
      "'value'\n",
      "'value'\n",
      "'value'\n",
      "'value'\n",
      "'value'\n",
      "'value'\n",
      "'value'\n",
      "'value'\n",
      "'value'\n",
      "'value'\n",
      "'value'\n",
      "'value'\n",
      "'value'\n"
     ]
    },
    {
     "name": "stderr",
     "output_type": "stream",
     "text": [
      "\r",
      " 93%|█████████▎| 468/505 [51:08<03:43,  6.03s/it]"
     ]
    },
    {
     "name": "stdout",
     "output_type": "stream",
     "text": [
      "'value'\n",
      "'value'\n",
      "'value'\n",
      "'value'\n",
      "'value'\n",
      "'value'\n"
     ]
    },
    {
     "name": "stderr",
     "output_type": "stream",
     "text": [
      "\r",
      " 93%|█████████▎| 469/505 [51:13<03:29,  5.82s/it]"
     ]
    },
    {
     "name": "stdout",
     "output_type": "stream",
     "text": [
      "'value'\n",
      "'value'\n",
      "'value'\n",
      "'value'\n",
      "'value'\n",
      "'value'\n",
      "'value'\n",
      "'value'\n",
      "'value'\n",
      "'value'\n",
      "'value'\n",
      "'value'\n",
      "'value'\n",
      "'value'\n",
      "'value'\n",
      "'value'\n",
      "'value'\n",
      "'value'\n"
     ]
    },
    {
     "name": "stderr",
     "output_type": "stream",
     "text": [
      "\r",
      " 93%|█████████▎| 470/505 [51:19<03:28,  5.95s/it]"
     ]
    },
    {
     "name": "stdout",
     "output_type": "stream",
     "text": [
      "'value'\n",
      "'value'\n",
      "'value'\n",
      "'value'\n",
      "'value'\n",
      "'value'\n",
      "'value'\n",
      "'value'\n",
      "'value'\n",
      "'value'\n",
      "'value'\n",
      "'value'\n",
      "'value'\n",
      "'value'\n",
      "'value'\n",
      "'value'\n",
      "'value'\n",
      "'value'\n",
      "'value'\n",
      "'value'\n",
      "'value'\n",
      "'value'\n",
      "'value'\n"
     ]
    },
    {
     "name": "stderr",
     "output_type": "stream",
     "text": [
      "\r",
      " 93%|█████████▎| 471/505 [51:27<03:36,  6.37s/it]"
     ]
    },
    {
     "name": "stdout",
     "output_type": "stream",
     "text": [
      "'value'\n",
      "'value'\n",
      "'value'\n",
      "'value'\n",
      "'value'\n",
      "'value'\n",
      "'value'\n",
      "'value'\n",
      "'value'\n",
      "'value'\n",
      "'value'\n",
      "'value'\n"
     ]
    },
    {
     "name": "stderr",
     "output_type": "stream",
     "text": [
      "\r",
      " 93%|█████████▎| 472/505 [51:33<03:27,  6.29s/it]"
     ]
    },
    {
     "name": "stdout",
     "output_type": "stream",
     "text": [
      "'value'\n",
      "'value'\n",
      "'value'\n",
      "'value'\n",
      "'value'\n",
      "'value'\n",
      "'value'\n",
      "'value'\n",
      "'value'\n",
      "'value'\n",
      "'value'\n",
      "'value'\n",
      "'value'\n",
      "'value'\n",
      "'value'\n",
      "'value'\n",
      "'value'\n",
      "'value'\n",
      "'value'\n",
      "'value'\n"
     ]
    },
    {
     "name": "stderr",
     "output_type": "stream",
     "text": [
      "\r",
      " 94%|█████████▎| 473/505 [51:39<03:24,  6.40s/it]"
     ]
    },
    {
     "name": "stdout",
     "output_type": "stream",
     "text": [
      "'value'\n",
      "'value'\n",
      "'value'\n",
      "'value'\n",
      "'value'\n",
      "'value'\n",
      "'value'\n",
      "'value'\n",
      "'value'\n",
      "'value'\n",
      "'value'\n",
      "'value'\n",
      "'value'\n",
      "'value'\n",
      "'value'\n",
      "'value'\n",
      "'value'\n",
      "'value'\n",
      "'value'\n",
      "'value'\n",
      "'value'\n",
      "'value'\n",
      "'value'\n",
      "'value'\n",
      "'value'\n",
      "'value'\n",
      "'value'\n",
      "'value'\n",
      "'value'\n",
      "'value'\n",
      "'value'\n",
      "'value'\n",
      "'value'\n"
     ]
    },
    {
     "name": "stderr",
     "output_type": "stream",
     "text": [
      "\r",
      " 94%|█████████▍| 474/505 [51:46<03:22,  6.53s/it]"
     ]
    },
    {
     "name": "stdout",
     "output_type": "stream",
     "text": [
      "'value'\n",
      "'value'\n",
      "'value'\n",
      "'value'\n",
      "'value'\n",
      "'value'\n",
      "'value'\n",
      "'value'\n"
     ]
    },
    {
     "name": "stderr",
     "output_type": "stream",
     "text": [
      "\r",
      " 94%|█████████▍| 475/505 [51:47<02:19,  4.65s/it]"
     ]
    },
    {
     "name": "stdout",
     "output_type": "stream",
     "text": [
      "'value'\n",
      "'value'\n",
      "'value'\n",
      "'value'\n",
      "'value'\n",
      "'value'\n",
      "'value'\n",
      "'value'\n",
      "'value'\n",
      "'value'\n",
      "'value'\n",
      "'value'\n",
      "'value'\n",
      "'value'\n",
      "'value'\n",
      "'value'\n",
      "'value'\n",
      "'value'\n",
      "'value'\n",
      "'value'\n",
      "'value'\n",
      "'value'\n",
      "'value'\n"
     ]
    },
    {
     "name": "stderr",
     "output_type": "stream",
     "text": [
      "\r",
      " 94%|█████████▍| 476/505 [51:52<02:21,  4.88s/it]"
     ]
    },
    {
     "name": "stdout",
     "output_type": "stream",
     "text": [
      "'value'\n",
      "'value'\n",
      "'value'\n",
      "'value'\n",
      "'value'\n",
      "'value'\n",
      "'value'\n",
      "'value'\n",
      "'value'\n",
      "'value'\n",
      "'value'\n",
      "'value'\n",
      "'value'\n",
      "'value'\n",
      "'value'\n",
      "'value'\n"
     ]
    },
    {
     "name": "stderr",
     "output_type": "stream",
     "text": [
      "\r",
      " 94%|█████████▍| 477/505 [51:59<02:37,  5.63s/it]"
     ]
    },
    {
     "name": "stdout",
     "output_type": "stream",
     "text": [
      "'value'\n",
      "'value'\n",
      "'value'\n",
      "'value'\n",
      "'value'\n",
      "'value'\n",
      "'value'\n",
      "'value'\n",
      "'value'\n",
      "'value'\n",
      "'value'\n",
      "'value'\n",
      "'value'\n",
      "'value'\n",
      "'value'\n",
      "'value'\n",
      "'value'\n",
      "'value'\n",
      "'value'\n",
      "'value'\n",
      "'value'\n"
     ]
    },
    {
     "name": "stderr",
     "output_type": "stream",
     "text": [
      "\r",
      " 95%|█████████▍| 478/505 [52:06<02:43,  6.06s/it]"
     ]
    },
    {
     "name": "stdout",
     "output_type": "stream",
     "text": [
      "'value'\n",
      "'value'\n",
      "'value'\n",
      "'value'\n",
      "'value'\n",
      "'value'\n",
      "'value'\n",
      "'value'\n",
      "'value'\n",
      "'value'\n",
      "'value'\n",
      "'value'\n",
      "'value'\n",
      "'value'\n",
      "'value'\n",
      "'value'\n",
      "'value'\n",
      "'value'\n"
     ]
    },
    {
     "name": "stderr",
     "output_type": "stream",
     "text": [
      "\r",
      " 95%|█████████▍| 479/505 [52:12<02:37,  6.04s/it]"
     ]
    },
    {
     "name": "stdout",
     "output_type": "stream",
     "text": [
      "'value'\n",
      "'value'\n",
      "'value'\n",
      "'value'\n",
      "'value'\n",
      "'value'\n",
      "'value'\n",
      "'value'\n",
      "'value'\n",
      "'value'\n",
      "'value'\n",
      "'value'\n",
      "'value'\n",
      "'value'\n",
      "'value'\n",
      "'value'\n",
      "'value'\n"
     ]
    },
    {
     "name": "stderr",
     "output_type": "stream",
     "text": [
      "\r",
      " 95%|█████████▌| 480/505 [52:18<02:27,  5.89s/it]"
     ]
    },
    {
     "name": "stdout",
     "output_type": "stream",
     "text": [
      "'value'\n",
      "'value'\n",
      "'value'\n",
      "'value'\n",
      "'value'\n",
      "'value'\n",
      "'value'\n",
      "'value'\n",
      "'value'\n",
      "'value'\n",
      "'value'\n",
      "'value'\n",
      "'value'\n",
      "'value'\n",
      "'value'\n",
      "'value'\n"
     ]
    },
    {
     "name": "stderr",
     "output_type": "stream",
     "text": [
      "\r",
      " 95%|█████████▌| 481/505 [52:23<02:16,  5.68s/it]"
     ]
    },
    {
     "name": "stdout",
     "output_type": "stream",
     "text": [
      "'value'\n",
      "'value'\n",
      "'value'\n",
      "'value'\n",
      "'value'\n",
      "'value'\n",
      "'value'\n",
      "'value'\n",
      "'value'\n",
      "'value'\n",
      "'value'\n",
      "'value'\n",
      "'value'\n",
      "'value'\n",
      "'value'\n"
     ]
    },
    {
     "name": "stderr",
     "output_type": "stream",
     "text": [
      "\r",
      " 95%|█████████▌| 482/505 [52:26<01:51,  4.85s/it]"
     ]
    },
    {
     "name": "stdout",
     "output_type": "stream",
     "text": [
      "'value'\n",
      "'value'\n",
      "'value'\n",
      "'value'\n",
      "'value'\n",
      "'value'\n",
      "'value'\n",
      "'value'\n",
      "'value'\n",
      "'value'\n",
      "'value'\n",
      "'value'\n",
      "'value'\n",
      "'value'\n",
      "'value'\n",
      "'value'\n",
      "'value'\n",
      "'value'\n",
      "'value'\n",
      "'value'\n",
      "'value'\n",
      "'value'\n",
      "'value'\n",
      "'value'\n",
      "'value'\n",
      "'value'\n",
      "'value'\n",
      "'value'\n"
     ]
    },
    {
     "name": "stderr",
     "output_type": "stream",
     "text": [
      "\r",
      " 96%|█████████▌| 483/505 [52:27<01:23,  3.80s/it]"
     ]
    },
    {
     "name": "stdout",
     "output_type": "stream",
     "text": [
      "'value'\n",
      "'value'\n",
      "'value'\n",
      "'value'\n",
      "'value'\n",
      "'value'\n",
      "'value'\n",
      "'value'\n",
      "'value'\n",
      "'value'\n",
      "'value'\n",
      "'value'\n",
      "'value'\n",
      "'value'\n",
      "'value'\n",
      "'value'\n",
      "'value'\n"
     ]
    },
    {
     "name": "stderr",
     "output_type": "stream",
     "text": [
      "\r",
      " 96%|█████████▌| 484/505 [52:33<01:28,  4.22s/it]"
     ]
    },
    {
     "name": "stdout",
     "output_type": "stream",
     "text": [
      "'value'\n",
      "'value'\n",
      "'value'\n",
      "'value'\n",
      "'value'\n",
      "'value'\n",
      "'value'\n",
      "'value'\n",
      "'value'\n",
      "'value'\n",
      "'value'\n",
      "'value'\n"
     ]
    },
    {
     "name": "stderr",
     "output_type": "stream",
     "text": [
      "\r",
      " 96%|█████████▌| 485/505 [52:38<01:33,  4.67s/it]"
     ]
    },
    {
     "name": "stdout",
     "output_type": "stream",
     "text": [
      "'value'\n",
      "'value'\n",
      "'value'\n",
      "'value'\n",
      "'value'\n",
      "'value'\n",
      "'value'\n",
      "'value'\n",
      "'value'\n",
      "'value'\n",
      "'value'\n",
      "'value'\n",
      "'value'\n",
      "'value'\n",
      "'value'\n",
      "'value'\n",
      "'value'\n",
      "'value'\n",
      "'value'\n",
      "'value'\n",
      "'value'\n",
      "'value'\n",
      "'value'\n",
      "'value'\n",
      "'value'\n",
      "'value'\n",
      "'value'\n",
      "'value'\n",
      "'value'\n",
      "'value'\n",
      "'value'\n",
      "'value'\n"
     ]
    },
    {
     "name": "stderr",
     "output_type": "stream",
     "text": [
      "\r",
      " 96%|█████████▌| 486/505 [52:43<01:29,  4.73s/it]"
     ]
    },
    {
     "name": "stdout",
     "output_type": "stream",
     "text": [
      "'value'\n",
      "'value'\n",
      "'value'\n",
      "'value'\n",
      "'value'\n",
      "'value'\n",
      "'value'\n",
      "'value'\n",
      "'value'\n",
      "'value'\n",
      "'value'\n",
      "'value'\n",
      "'value'\n",
      "'value'\n",
      "'value'\n",
      "'value'\n",
      "'value'\n",
      "'value'\n",
      "'value'\n",
      "'value'\n",
      "'value'\n",
      "'value'\n",
      "'value'\n",
      "'value'\n",
      "'value'\n",
      "'value'\n",
      "'value'\n",
      "'value'\n",
      "'value'\n",
      "'value'\n",
      "'value'\n",
      "'value'\n",
      "'value'\n",
      "'value'\n",
      "'value'\n",
      "'value'\n",
      "'value'\n",
      "'value'\n",
      "'value'\n",
      "'value'\n",
      "'value'\n",
      "'value'\n",
      "'value'\n",
      "'value'\n",
      "'value'\n",
      "'value'\n",
      "'value'\n",
      "'value'\n",
      "'value'\n",
      "'value'\n",
      "'value'\n",
      "'value'\n",
      "'value'\n",
      "'value'\n",
      "'value'\n",
      "'value'\n",
      "'value'\n",
      "'value'\n",
      "'value'\n",
      "'value'\n",
      "'value'\n",
      "'value'\n",
      "'value'\n",
      "'value'\n",
      "'value'\n",
      "'value'\n",
      "'value'\n",
      "'value'\n",
      "'value'\n",
      "'value'\n",
      "'value'\n",
      "'value'\n",
      "'value'\n",
      "'value'\n",
      "'value'\n",
      "'value'\n",
      "'value'\n",
      "'value'\n",
      "'value'\n",
      "'value'\n",
      "'value'\n",
      "'value'\n",
      "'value'\n",
      "'value'\n",
      "'value'\n",
      "'value'\n",
      "'value'\n",
      "'value'\n",
      "'value'\n",
      "'value'\n",
      "'value'\n",
      "'value'\n",
      "'value'\n",
      "'value'\n",
      "'value'\n",
      "'value'\n",
      "'value'\n",
      "'value'\n",
      "'value'\n",
      "'value'\n",
      "'value'\n",
      "'value'\n",
      "'value'\n",
      "'value'\n",
      "'value'\n",
      "'value'\n",
      "'value'\n",
      "'value'\n",
      "'value'\n",
      "'value'\n",
      "'value'\n",
      "'value'\n",
      "'value'\n",
      "'value'\n",
      "'value'\n",
      "'value'\n",
      "'value'\n",
      "'value'\n",
      "'value'\n",
      "'value'\n",
      "'value'\n",
      "'value'\n",
      "'value'\n",
      "'value'\n",
      "'value'\n",
      "'value'\n",
      "'value'\n",
      "'value'\n",
      "'value'\n",
      "'value'\n",
      "'value'\n",
      "'value'\n",
      "'value'\n",
      "'value'\n",
      "'value'\n",
      "'value'\n",
      "'value'\n",
      "'value'\n",
      "'value'\n",
      "'value'\n",
      "'value'\n",
      "'value'\n",
      "'value'\n",
      "'value'\n",
      "'value'\n",
      "'value'\n",
      "'value'\n",
      "'value'\n",
      "'value'\n",
      "'value'\n",
      "'value'\n",
      "'value'\n",
      "'value'\n",
      "'value'\n",
      "'value'\n",
      "'value'\n",
      "'value'\n",
      "'value'\n",
      "'value'\n",
      "'value'\n",
      "'value'\n",
      "'value'\n",
      "'value'\n",
      "'value'\n",
      "'value'\n",
      "'value'\n",
      "'value'\n",
      "'value'\n",
      "'value'\n",
      "'value'\n",
      "'value'\n",
      "'value'\n",
      "'value'\n",
      "'value'\n"
     ]
    },
    {
     "name": "stderr",
     "output_type": "stream",
     "text": [
      "\r",
      " 96%|█████████▋| 487/505 [52:54<01:58,  6.60s/it]"
     ]
    },
    {
     "name": "stdout",
     "output_type": "stream",
     "text": [
      "'value'\n",
      "'value'\n",
      "'value'\n",
      "'value'\n",
      "'value'\n",
      "'value'\n",
      "'value'\n",
      "'value'\n",
      "'value'\n",
      "'value'\n",
      "'value'\n",
      "'value'\n",
      "'value'\n",
      "'value'\n",
      "'value'\n",
      "'value'\n",
      "'value'\n",
      "'value'\n",
      "'value'\n"
     ]
    },
    {
     "name": "stderr",
     "output_type": "stream",
     "text": [
      "\r",
      " 97%|█████████▋| 488/505 [53:03<02:02,  7.22s/it]"
     ]
    },
    {
     "name": "stdout",
     "output_type": "stream",
     "text": [
      "'value'\n",
      "'value'\n",
      "'value'\n",
      "'value'\n",
      "'value'\n",
      "'value'\n",
      "'value'\n",
      "'value'\n",
      "'value'\n",
      "'value'\n",
      "'value'\n",
      "'value'\n",
      "'value'\n",
      "'value'\n",
      "'value'\n",
      "'value'\n",
      "'value'\n"
     ]
    },
    {
     "name": "stderr",
     "output_type": "stream",
     "text": [
      "\r",
      " 97%|█████████▋| 489/505 [53:09<01:49,  6.86s/it]"
     ]
    },
    {
     "name": "stdout",
     "output_type": "stream",
     "text": [
      "'value'\n",
      "'value'\n",
      "'value'\n",
      "'value'\n",
      "'value'\n",
      "'value'\n",
      "'value'\n",
      "'value'\n",
      "'value'\n",
      "'value'\n",
      "'value'\n",
      "'value'\n",
      "'value'\n"
     ]
    },
    {
     "name": "stderr",
     "output_type": "stream",
     "text": [
      "\r",
      " 97%|█████████▋| 490/505 [53:15<01:38,  6.55s/it]"
     ]
    },
    {
     "name": "stdout",
     "output_type": "stream",
     "text": [
      "'value'\n",
      "'value'\n",
      "'value'\n",
      "'value'\n",
      "'value'\n",
      "'value'\n",
      "'value'\n",
      "'value'\n",
      "'value'\n",
      "'value'\n",
      "'value'\n",
      "'value'\n",
      "'value'\n",
      "'value'\n",
      "'value'\n",
      "'value'\n",
      "'value'\n",
      "'value'\n",
      "'value'\n"
     ]
    },
    {
     "name": "stderr",
     "output_type": "stream",
     "text": [
      "\r",
      " 97%|█████████▋| 491/505 [53:20<01:27,  6.25s/it]"
     ]
    },
    {
     "name": "stdout",
     "output_type": "stream",
     "text": [
      "'value'\n",
      "'value'\n",
      "'value'\n",
      "'value'\n",
      "'value'\n",
      "'value'\n",
      "'value'\n",
      "'value'\n",
      "'value'\n",
      "'value'\n",
      "'value'\n",
      "'value'\n",
      "'value'\n",
      "'value'\n",
      "'value'\n",
      "'value'\n",
      "'value'\n",
      "'value'\n"
     ]
    },
    {
     "name": "stderr",
     "output_type": "stream",
     "text": [
      "\r",
      " 97%|█████████▋| 492/505 [53:22<01:04,  4.94s/it]"
     ]
    },
    {
     "name": "stdout",
     "output_type": "stream",
     "text": [
      "'value'\n",
      "'value'\n",
      "'value'\n",
      "'value'\n",
      "'value'\n",
      "'value'\n",
      "'value'\n",
      "'value'\n",
      "'value'\n",
      "'value'\n",
      "'value'\n",
      "'value'\n",
      "'value'\n",
      "'value'\n",
      "'value'\n",
      "'value'\n",
      "'value'\n",
      "'value'\n"
     ]
    },
    {
     "name": "stderr",
     "output_type": "stream",
     "text": [
      "\r",
      " 98%|█████████▊| 493/505 [53:28<01:02,  5.20s/it]"
     ]
    },
    {
     "name": "stdout",
     "output_type": "stream",
     "text": [
      "'value'\n",
      "'value'\n",
      "'value'\n",
      "'value'\n",
      "'value'\n",
      "'value'\n",
      "'value'\n",
      "'value'\n",
      "'value'\n",
      "'value'\n",
      "'value'\n",
      "'value'\n",
      "'value'\n",
      "'value'\n",
      "'value'\n",
      "'value'\n",
      "'value'\n",
      "'value'\n",
      "'value'\n",
      "'value'\n",
      "'value'\n",
      "'value'\n",
      "'value'\n",
      "'value'\n",
      "'value'\n",
      "'value'\n"
     ]
    },
    {
     "name": "stderr",
     "output_type": "stream",
     "text": [
      "\r",
      " 98%|█████████▊| 494/505 [53:33<00:57,  5.22s/it]"
     ]
    },
    {
     "name": "stdout",
     "output_type": "stream",
     "text": [
      "'value'\n",
      "'value'\n",
      "'value'\n",
      "'value'\n",
      "'value'\n",
      "'value'\n",
      "'value'\n",
      "'value'\n",
      "'value'\n",
      "'value'\n",
      "'value'\n",
      "'value'\n",
      "'value'\n",
      "'value'\n"
     ]
    },
    {
     "name": "stderr",
     "output_type": "stream",
     "text": [
      "\r",
      " 98%|█████████▊| 495/505 [53:40<00:57,  5.71s/it]"
     ]
    },
    {
     "name": "stdout",
     "output_type": "stream",
     "text": [
      "'value'\n",
      "'value'\n",
      "'value'\n",
      "'value'\n",
      "'value'\n",
      "'value'\n",
      "'value'\n",
      "'value'\n",
      "'value'\n",
      "'value'\n",
      "'value'\n",
      "'value'\n",
      "'value'\n",
      "'value'\n",
      "'value'\n",
      "'value'\n",
      "'value'\n",
      "'value'\n",
      "'value'\n",
      "'value'\n",
      "'value'\n",
      "'value'\n",
      "'value'\n",
      "'value'\n",
      "'value'\n"
     ]
    },
    {
     "name": "stderr",
     "output_type": "stream",
     "text": [
      "\r",
      " 98%|█████████▊| 496/505 [53:47<00:54,  6.06s/it]"
     ]
    },
    {
     "name": "stdout",
     "output_type": "stream",
     "text": [
      "'value'\n",
      "'value'\n",
      "'value'\n",
      "'value'\n",
      "'value'\n",
      "'value'\n",
      "'value'\n",
      "'value'\n",
      "'value'\n",
      "'value'\n",
      "'value'\n",
      "'value'\n",
      "'value'\n",
      "'value'\n",
      "'value'\n",
      "'value'\n",
      "'value'\n",
      "'value'\n",
      "'value'\n",
      "'value'\n",
      "'value'\n",
      "'value'\n",
      "'value'\n",
      "'value'\n",
      "'value'\n",
      "'value'\n",
      "'value'\n",
      "'value'\n",
      "'value'\n",
      "'value'\n",
      "'value'\n",
      "'value'\n"
     ]
    },
    {
     "name": "stderr",
     "output_type": "stream",
     "text": [
      "\r",
      " 98%|█████████▊| 497/505 [53:53<00:48,  6.03s/it]"
     ]
    },
    {
     "name": "stdout",
     "output_type": "stream",
     "text": [
      "'value'\n",
      "'value'\n",
      "'value'\n",
      "'value'\n",
      "'value'\n",
      "'value'\n",
      "'value'\n",
      "'value'\n",
      "'value'\n",
      "'value'\n",
      "'value'\n",
      "'value'\n",
      "'value'\n",
      "'value'\n",
      "'value'\n",
      "'value'\n",
      "'value'\n",
      "'value'\n",
      "'value'\n",
      "'value'\n",
      "'value'\n",
      "'value'\n",
      "'value'\n",
      "'value'\n",
      "'value'\n",
      "'value'\n",
      "'value'\n",
      "'value'\n",
      "'value'\n",
      "'value'\n",
      "'value'\n",
      "'value'\n",
      "'value'\n",
      "'value'\n",
      "'value'\n"
     ]
    },
    {
     "name": "stderr",
     "output_type": "stream",
     "text": [
      "\r",
      " 99%|█████████▊| 498/505 [53:58<00:39,  5.67s/it]"
     ]
    },
    {
     "name": "stdout",
     "output_type": "stream",
     "text": [
      "'value'\n",
      "'value'\n",
      "'value'\n",
      "'value'\n",
      "'value'\n",
      "'value'\n",
      "'value'\n",
      "'value'\n",
      "'value'\n",
      "'value'\n",
      "'value'\n",
      "'value'\n",
      "'value'\n",
      "'value'\n",
      "'value'\n",
      "'value'\n",
      "'value'\n",
      "'value'\n",
      "'value'\n"
     ]
    },
    {
     "name": "stderr",
     "output_type": "stream",
     "text": [
      "\r",
      " 99%|█████████▉| 499/505 [54:02<00:31,  5.30s/it]"
     ]
    },
    {
     "name": "stdout",
     "output_type": "stream",
     "text": [
      "'value'\n",
      "'value'\n",
      "'value'\n",
      "'value'\n",
      "'value'\n",
      "'value'\n",
      "'value'\n",
      "'value'\n",
      "'value'\n",
      "'value'\n",
      "'value'\n",
      "'value'\n",
      "'value'\n",
      "'value'\n",
      "'value'\n",
      "'value'\n",
      "'value'\n",
      "'value'\n",
      "'value'\n",
      "'value'\n",
      "'value'\n",
      "'value'\n"
     ]
    },
    {
     "name": "stderr",
     "output_type": "stream",
     "text": [
      "\r",
      " 99%|█████████▉| 500/505 [54:07<00:25,  5.02s/it]"
     ]
    },
    {
     "name": "stdout",
     "output_type": "stream",
     "text": [
      "'value'\n",
      "'value'\n",
      "'value'\n",
      "'value'\n",
      "'value'\n",
      "'value'\n",
      "'value'\n",
      "'value'\n",
      "'value'\n",
      "'value'\n",
      "'value'\n",
      "'value'\n",
      "'value'\n",
      "'value'\n",
      "'value'\n",
      "'value'\n",
      "'value'\n",
      "'value'\n",
      "'value'\n",
      "'value'\n",
      "'value'\n",
      "'value'\n"
     ]
    },
    {
     "name": "stderr",
     "output_type": "stream",
     "text": [
      "\r",
      " 99%|█████████▉| 501/505 [54:11<00:19,  4.76s/it]"
     ]
    },
    {
     "name": "stdout",
     "output_type": "stream",
     "text": [
      "'value'\n",
      "'value'\n",
      "'value'\n",
      "'value'\n",
      "'value'\n",
      "'value'\n",
      "'value'\n",
      "'value'\n",
      "'value'\n",
      "'value'\n",
      "'value'\n",
      "'value'\n",
      "'value'\n"
     ]
    },
    {
     "name": "stderr",
     "output_type": "stream",
     "text": [
      "\r",
      " 99%|█████████▉| 502/505 [54:15<00:14,  4.72s/it]"
     ]
    },
    {
     "name": "stdout",
     "output_type": "stream",
     "text": [
      "'value'\n",
      "'value'\n",
      "'value'\n",
      "'value'\n",
      "'value'\n",
      "'value'\n",
      "'value'\n",
      "'value'\n",
      "'value'\n",
      "'value'\n",
      "'value'\n",
      "'value'\n",
      "'value'\n",
      "'value'\n",
      "'value'\n",
      "'value'\n"
     ]
    },
    {
     "name": "stderr",
     "output_type": "stream",
     "text": [
      "\r",
      "100%|█████████▉| 503/505 [54:20<00:09,  4.62s/it]"
     ]
    },
    {
     "name": "stdout",
     "output_type": "stream",
     "text": [
      "'value'\n",
      "'value'\n",
      "'value'\n",
      "'value'\n",
      "'value'\n",
      "'value'\n",
      "'value'\n",
      "'value'\n",
      "'value'\n",
      "'value'\n",
      "'value'\n",
      "'value'\n",
      "'value'\n",
      "'value'\n",
      "'value'\n",
      "'value'\n"
     ]
    },
    {
     "name": "stderr",
     "output_type": "stream",
     "text": [
      "\r",
      "100%|█████████▉| 504/505 [54:26<00:05,  5.08s/it]"
     ]
    },
    {
     "name": "stdout",
     "output_type": "stream",
     "text": [
      "'value'\n",
      "'value'\n",
      "'value'\n",
      "'value'\n",
      "'value'\n",
      "'value'\n",
      "'value'\n",
      "'value'\n",
      "'value'\n",
      "'value'\n",
      "'value'\n",
      "'value'\n",
      "'value'\n",
      "'value'\n",
      "'value'\n",
      "'value'\n",
      "'value'\n",
      "'value'\n",
      "'value'\n",
      "'value'\n",
      "'value'\n"
     ]
    },
    {
     "name": "stderr",
     "output_type": "stream",
     "text": [
      "100%|██████████| 505/505 [54:30<00:00,  6.48s/it]"
     ]
    },
    {
     "name": "stdout",
     "output_type": "stream",
     "text": [
      "'value'\n"
     ]
    },
    {
     "name": "stderr",
     "output_type": "stream",
     "text": [
      "\n"
     ]
    }
   ],
   "source": [
    "sec.connect()\n",
    "for i in tqdm(range(len(ciks))):\n",
    "    try:\n",
    "        cik = int(ciks[i])\n",
    "        values = subs[(subs[\"cik\"] == cik)]\n",
    "        all_adshs = values[\"adsh\"].unique()\n",
    "        tables = []\n",
    "        for adsh in all_adshs:\n",
    "            try:\n",
    "                num = sec.retrieve_num_data(adsh)\n",
    "                table = FundamentalTransformer.transform(values,num)\n",
    "                sec.store_data(\"filings\",table)\n",
    "            except Exception as e:\n",
    "                print(str(e))\n",
    "                continue\n",
    "    except Exception as e:\n",
    "        print(str(e))\n",
    "sec.close()"
   ]
  }
 ],
 "metadata": {
  "kernelspec": {
   "display_name": "Python 3",
   "language": "python",
   "name": "python3"
  },
  "language_info": {
   "codemirror_mode": {
    "name": "ipython",
    "version": 3
   },
   "file_extension": ".py",
   "mimetype": "text/x-python",
   "name": "python",
   "nbconvert_exporter": "python",
   "pygments_lexer": "ipython3",
   "version": "3.8.0"
  }
 },
 "nbformat": 4,
 "nbformat_minor": 4
}
