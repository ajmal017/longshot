{
 "cells": [
  {
   "cell_type": "code",
   "execution_count": 12,
   "metadata": {},
   "outputs": [],
   "source": [
    "from strategy.weekly_price import WeeklyPrice\n",
    "from strategy.quarterly_financial_categorical import QuarterlyFinancialCategorical\n",
    "from backtester.backtester import Backtester as b\n",
    "from database.market import Market\n",
    "from preprocessor.model_preprocessor import ModelPreprocessor as mp\n",
    "from modeler.modeler import Modeler as m\n",
    "import pandas as pd\n",
    "from tqdm import tqdm\n",
    "from datetime import datetime, timedelta\n",
    "import numpy as np\n",
    "import math\n",
    "import pickle"
   ]
  },
  {
   "cell_type": "code",
   "execution_count": 13,
   "metadata": {},
   "outputs": [],
   "source": [
    "## Loading Constants\n",
    "start = (datetime.now() - timedelta(days=730)).strftime(\"%Y-%m-%d\")\n",
    "end = datetime.now().strftime(\"%Y-%m-%d\")\n",
    "market = Market()\n",
    "market.connect()\n",
    "tickers = market.retrieve_data(\"sp500\").sort_values(\"Symbol\")\n",
    "market.close()\n",
    "strat = WeeklyPrice()\n",
    "qfc = QuarterlyFinancialCategorical()"
   ]
  },
  {
   "cell_type": "code",
   "execution_count": 14,
   "metadata": {},
   "outputs": [],
   "source": [
    "categories = qfc.retrieve_data(\"portfolio_stock_category_sim\")"
   ]
  },
  {
   "cell_type": "code",
   "execution_count": 15,
   "metadata": {},
   "outputs": [
    {
     "data": {
      "text/plain": [
       "Index(['_id', 'year', 'quarter', 'ticker', 'prediction'], dtype='object')"
      ]
     },
     "execution_count": 15,
     "metadata": {},
     "output_type": "execute_result"
    }
   ],
   "source": [
    "categories.columns"
   ]
  },
  {
   "cell_type": "code",
   "execution_count": 16,
   "metadata": {},
   "outputs": [],
   "source": [
    "market.connect()\n",
    "classification = market.retrieve_data(\"portfolio_dataset_week_classification\")\n",
    "regression = market.retrieve_data(\"portfolio_dataset_week_regression\")\n",
    "market.close()"
   ]
  },
  {
   "cell_type": "code",
   "execution_count": 17,
   "metadata": {},
   "outputs": [],
   "source": [
    "gap = 5\n",
    "week_gap = int(gap/5)\n",
    "training_years = 1\n",
    "quarterly_range = range(3,4)\n",
    "yearly_range = range(2021,2022)"
   ]
  },
  {
   "cell_type": "code",
   "execution_count": 18,
   "metadata": {
    "scrolled": true
   },
   "outputs": [
    {
     "name": "stderr",
     "output_type": "stream",
     "text": [
      "  0%|                                                                                                                                                   | 0/1 [00:00<?, ?it/s]\n",
      "  0%|                                                                                                                                                   | 0/1 [00:00<?, ?it/s]\u001b[A\n",
      "\n",
      "  0%|                                                                                                                                                  | 0/23 [00:00<?, ?it/s]\u001b[A\u001b[A\n",
      "\n",
      "  9%|████████████                                                                                                                              | 2/23 [00:03<00:41,  1.98s/it]\u001b[A\u001b[A\n",
      "\n",
      " 13%|██████████████████                                                                                                                        | 3/23 [00:09<01:03,  3.18s/it]\u001b[A\u001b[A\n",
      "\n",
      " 17%|████████████████████████                                                                                                                  | 4/23 [00:17<01:26,  4.56s/it]\u001b[A\u001b[A\n",
      "\n",
      " 22%|██████████████████████████████                                                                                                            | 5/23 [00:23<01:30,  5.04s/it]\u001b[A\u001b[A\n",
      "\n",
      " 26%|████████████████████████████████████                                                                                                      | 6/23 [00:27<01:16,  4.50s/it]\u001b[A\u001b[A\n",
      "\n",
      " 30%|██████████████████████████████████████████                                                                                                | 7/23 [00:31<01:10,  4.40s/it]\u001b[A\u001b[A\n",
      "\n",
      " 35%|████████████████████████████████████████████████                                                                                          | 8/23 [00:36<01:10,  4.71s/it]\u001b[A\u001b[A\n",
      "\n",
      " 39%|██████████████████████████████████████████████████████                                                                                    | 9/23 [00:43<01:16,  5.46s/it]\u001b[A\u001b[A\n",
      "\n",
      " 43%|███████████████████████████████████████████████████████████▌                                                                             | 10/23 [00:49<01:11,  5.53s/it]\u001b[A\u001b[A\n",
      "\n",
      " 48%|█████████████████████████████████████████████████████████████████▌                                                                       | 11/23 [00:54<01:02,  5.22s/it]\u001b[A\u001b[A\n",
      "\n",
      " 52%|███████████████████████████████████████████████████████████████████████▍                                                                 | 12/23 [00:56<00:49,  4.51s/it]\u001b[A\u001b[A\n",
      "\n",
      " 57%|█████████████████████████████████████████████████████████████████████████████▍                                                           | 13/23 [01:00<00:42,  4.22s/it]\u001b[A\u001b[A\n",
      "\n",
      " 61%|███████████████████████████████████████████████████████████████████████████████████▍                                                     | 14/23 [01:05<00:40,  4.47s/it]\u001b[A\u001b[A\n",
      "\n",
      " 65%|█████████████████████████████████████████████████████████████████████████████████████████▎                                               | 15/23 [01:09<00:33,  4.24s/it]\u001b[A\u001b[A\n",
      "\n",
      " 70%|███████████████████████████████████████████████████████████████████████████████████████████████▎                                         | 16/23 [01:15<00:34,  4.97s/it]\u001b[A\u001b[A\n",
      "\n",
      " 74%|█████████████████████████████████████████████████████████████████████████████████████████████████████▎                                   | 17/23 [01:21<00:31,  5.19s/it]\u001b[A\u001b[A\n",
      "\n",
      " 78%|███████████████████████████████████████████████████████████████████████████████████████████████████████████▏                             | 18/23 [01:24<00:22,  4.49s/it]\u001b[A\u001b[A\n",
      "\n",
      " 83%|█████████████████████████████████████████████████████████████████████████████████████████████████████████████████▏                       | 19/23 [01:27<00:16,  4.18s/it]\u001b[A\u001b[A\n",
      "\n",
      " 87%|███████████████████████████████████████████████████████████████████████████████████████████████████████████████████████▏                 | 20/23 [01:32<00:12,  4.18s/it]\u001b[A\u001b[A\n",
      "\n",
      " 91%|█████████████████████████████████████████████████████████████████████████████████████████████████████████████████████████████            | 21/23 [01:34<00:07,  3.70s/it]\u001b[A\u001b[A\n",
      "\n",
      " 96%|███████████████████████████████████████████████████████████████████████████████████████████████████████████████████████████████████      | 22/23 [01:36<00:03,  3.11s/it]\u001b[A\u001b[A\n",
      "\n",
      "100%|█████████████████████████████████████████████████████████████████████████████████████████████████████████████████████████████████████████| 23/23 [01:38<00:00,  4.26s/it]\u001b[A\u001b[A\n",
      "\n",
      "100%|███████████████████████████████████████████████████████████████████████████████████████████████████████████████████████████████████████████| 1/1 [01:38<00:00, 98.07s/it]\u001b[A\n",
      "100%|███████████████████████████████████████████████████████████████████████████████████████████████████████████████████████████████████████████| 1/1 [01:38<00:00, 98.07s/it]\n"
     ]
    }
   ],
   "source": [
    "for year in tqdm(yearly_range):\n",
    "    for quarter in tqdm(quarterly_range):\n",
    "        quarter_categories = categories[(categories[\"year\"] == year) & (categories[\"quarter\"] == quarter)]\n",
    "        for category in tqdm(quarter_categories[\"prediction\"].unique()):\n",
    "            try:\n",
    "                group_tickers = quarter_categories[(quarter_categories[\"prediction\"] == category)]\n",
    "                prices = []\n",
    "                if group_tickers.index.size > 0:\n",
    "                    for ticker in group_tickers[\"ticker\"].unique():\n",
    "                        try:\n",
    "                            ticker_class = classification.copy()[[\"year\",\"quarter\",\"week\",ticker]].rename(columns={ticker:\"y_class\"})\n",
    "                            ticker_regr = regression.copy()[[\"year\",\"quarter\",\"week\",ticker]].rename(columns={ticker:str(0)})\n",
    "                            test = ticker_regr.merge(ticker_class,on=[\"year\",\"quarter\",\"week\"])\n",
    "                            for i in range(1,14):\n",
    "                                test[str(i)] = test[str(0)].shift(1)\n",
    "                            test[\"y\"] = test[str(0)].shift(-1)\n",
    "                            test[\"y_class\"] = test[\"y_class\"].shift(-1)\n",
    "                            f = test.dropna()\n",
    "                            for col in [\"year\",\"quarter\",\"week\"]:\n",
    "                                f[col] = [int(x) for x in f[col]]\n",
    "                            f[\"date\"] = [datetime(int(row[1][\"year\"]),int((row[1][\"quarter\"] * 3) - 2),1) for row in f.iterrows()]\n",
    "                            f[\"ticker\"] = ticker\n",
    "                            prices.append(f)\n",
    "                        except Exception as e:\n",
    "                            print(str(e))\n",
    "                            continue\n",
    "                if len(prices) > 0:\n",
    "                    p = pd.concat(prices)\n",
    "                    training_data = p[(p[\"date\"] < datetime(year,int((quarter*3)-2),1)) & (p[\"date\"]>= datetime(year-training_years,int((quarter*3)-2),1))]\n",
    "                    prediction_data = p[p[\"date\"]==datetime(year,int((quarter*3)-2),1)]\n",
    "                    X = training_data.drop([\"quarter\",\"year\",\"y_class\",\"y\",\"date\",\"ticker\"],axis=1)\n",
    "                    y = training_data[[\"y_class\",\"y\"]]\n",
    "                    refined_data = {\"X\":X,\"y\":y}\n",
    "                    regression_models = m.regression(refined_data.copy(),ranked=False,tf=False,xgb=True,sk=False,deep=False)\n",
    "                    classification_models = m.classification(refined_data.copy(),tf=False,xgb=True,sk=False,deep=False,multioutput=False)\n",
    "                    models = pd.DataFrame([regression_models,classification_models])\n",
    "                    factors = refined_data[\"X\"].columns\n",
    "                    models[\"category\"] = category\n",
    "                    models[\"year\"] = year\n",
    "                    models[\"quarter\"] = quarter\n",
    "                    models[\"model\"] = [pickle.dumps(x) for x in models[\"model\"]]\n",
    "                    strat.db.connect()\n",
    "                    strat.db.store_data(\"portfolio_weekly_models\",models)\n",
    "                    strat.db.close()\n",
    "            except Exception as e:\n",
    "                print(str(e))\n",
    "                continue"
   ]
  },
  {
   "cell_type": "code",
   "execution_count": 19,
   "metadata": {},
   "outputs": [
    {
     "data": {
      "text/plain": [
       "3"
      ]
     },
     "execution_count": 19,
     "metadata": {},
     "output_type": "execute_result"
    }
   ],
   "source": [
    "categories[\"quarter\"].max()"
   ]
  }
 ],
 "metadata": {
  "kernelspec": {
   "display_name": "Python 3",
   "language": "python",
   "name": "python3"
  },
  "language_info": {
   "codemirror_mode": {
    "name": "ipython",
    "version": 3
   },
   "file_extension": ".py",
   "mimetype": "text/x-python",
   "name": "python",
   "nbconvert_exporter": "python",
   "pygments_lexer": "ipython3",
   "version": "3.8.0"
  }
 },
 "nbformat": 4,
 "nbformat_minor": 4
}
