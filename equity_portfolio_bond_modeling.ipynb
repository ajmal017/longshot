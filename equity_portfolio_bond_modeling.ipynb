{
 "cells": [
  {
   "cell_type": "code",
   "execution_count": 29,
   "metadata": {
    "scrolled": true
   },
   "outputs": [],
   "source": [
    "from database.strategy import Strategy\n",
    "from database.sec import SEC\n",
    "from database.market import Market\n",
    "from database.merrill import Merrill\n",
    "from transformer.date_transformer import DateTransformer\n",
    "from transformer.column_transformer import ColumnTransformer\n",
    "from transformer.model_transformer import ModelTransformer\n",
    "from transformer.product_transformer import ProductTransformer\n",
    "from transformer.predictor_transformer import PredictorTransformer\n",
    "from preprocessor.model_preprocessor import ModelPreprocessor\n",
    "from preprocessor.predictor_preprocessor import PredictorPreprocessor\n",
    "from modeler.modeler import Modeler as sp\n",
    "from utils.date_utils import DateUtils\n",
    "import pandas as pd\n",
    "import matplotlib.pyplot as plt\n",
    "from datetime import datetime, timedelta, timezone\n",
    "from tqdm import tqdm\n",
    "import math\n",
    "import requests as r\n",
    "import os\n",
    "from dotenv import load_dotenv\n",
    "load_dotenv()\n",
    "token=os.getenv(\"QUANDL\")\n",
    "import pickle"
   ]
  },
  {
   "cell_type": "code",
   "execution_count": 30,
   "metadata": {
    "scrolled": true
   },
   "outputs": [],
   "source": [
    "## Loading Constants\n",
    "start = \"2008-01-01\"\n",
    "end = datetime.now().strftime(\"%Y-%m-%d\")\n",
    "# Loading Databases\n",
    "strat_db = Strategy(\"portfolio\")\n",
    "market = Market()\n",
    "merrill = Merrill()\n",
    "sec = SEC(\"sec\")\n",
    "market.connect()\n",
    "tickers = market.retrieve_data(\"sp500\").sort_values(\"Symbol\")\n",
    "market.close()\n",
    "reload = True\n",
    "model_range = range(len(tickers[\"Symbol\"]))\n",
    "bonds = [\"A\",\"AAA\",\"B\",\"BBB\"]\n",
    "datasets = [\"pdr\"\n",
    "#             ,\"tiingo\"\n",
    "#             ,\"finnhub\"\n",
    "           ]\n",
    "year = datetime.now().year\n",
    "quarter = math.ceil((datetime.now().month - 1) // 3) + 1\n",
    "m = Merrill()\n",
    "FED = pd.read_csv(\"FED_metadata.csv\")"
   ]
  },
  {
   "cell_type": "code",
   "execution_count": 31,
   "metadata": {
    "scrolled": true
   },
   "outputs": [
    {
     "name": "stdout",
     "output_type": "stream",
     "text": [
      "AAAEY AAA\n",
      "AEY A\n",
      "BBBEY BBB\n",
      "BEY B\n"
     ]
    }
   ],
   "source": [
    "ds = []\n",
    "if reload:\n",
    "    FED[\"name_simplified\"] = [\" \".join(row[1][\"name\"].split(\" \")[:5]) for row in FED.iterrows()]\n",
    "    ml = pd.read_csv(\"ML_metadata.csv\")\n",
    "    relevant = ml[ml[\"name\"].str.contains(\"yield\")]\n",
    "    m.connect()\n",
    "    for code in relevant[\"code\"]:\n",
    "        name = code.split(\"E\")[0]\n",
    "        print(code,name)\n",
    "        url = \"https://www.quandl.com/api/v3/datasets/ML/{}\".format(code)\n",
    "        params ={\"start_date\":\"1997-1-1\",\n",
    "                 \"end_date\":end,\n",
    "                 \"api_key\":token}\n",
    "        data = r.get(url,params)\n",
    "        yields = pd.DataFrame(data.json()[\"dataset\"][\"data\"]).rename(columns={0:\"date\",1:\"yield\"})\n",
    "        m.drop_table(name)\n",
    "        m.store_data(name,yields)\n",
    "    m.close()   \n",
    "    merrill.connect()\n",
    "    for bond in bonds:\n",
    "        data = merrill.retrieve_data(bond)\n",
    "        ds.append(data)\n",
    "    merrill.close()\n",
    "else:\n",
    "    merrill.connect()\n",
    "    for bond in bonds:\n",
    "        data = merrill.retrieve_data(bond)\n",
    "        ds.append(data)\n",
    "    merrill.close()"
   ]
  },
  {
   "cell_type": "code",
   "execution_count": 32,
   "metadata": {
    "scrolled": true
   },
   "outputs": [],
   "source": [
    "base = ds[0]\n",
    "base.rename(columns={\"yield\":bonds[0]},inplace=True)\n",
    "for i in range(1,len(bonds)):\n",
    "    data = ds[i]\n",
    "    data.rename(columns={\"yield\":bonds[i]},inplace=True)\n",
    "    base = base.merge(data.drop(\"_id\",axis=1),on=\"date\",how=\"left\")"
   ]
  },
  {
   "cell_type": "code",
   "execution_count": 33,
   "metadata": {
    "scrolled": true
   },
   "outputs": [],
   "source": [
    "base = DateTransformer.convert_to_date(\"pdr\",base,\"date\")\n",
    "base[\"year\"] = [x.year for x in base[\"date\"]]\n",
    "base[\"quarter\"] = [x.quarter for x in base[\"date\"]]\n",
    "base[\"week\"] = [x.week for x in base[\"date\"]]\n",
    "bond_weekly = base.groupby([\"year\",\"quarter\",\"week\"]).mean().reset_index()"
   ]
  },
  {
   "cell_type": "code",
   "execution_count": 34,
   "metadata": {
    "scrolled": true
   },
   "outputs": [
    {
     "name": "stdout",
     "output_type": "stream",
     "text": [
      "2021 2\n",
      "['2020-04-01', '2021-03-31', '2021-04-01', '2021-06-30']\n",
      "{'status': 'quarterly modeling', 'ticker': 'CXO', 'year': '2021', 'quarter': '2', 'message': \"'t'\"}\n",
      "{'status': 'quarterly modeling', 'ticker': 'TIF', 'year': '2021', 'quarter': '2', 'message': \"'t'\"}\n",
      "{'status': 'quarterly modeling', 'ticker': 'WRK', 'year': '2021', 'quarter': '2', 'message': 'With n_samples=1, test_size=0.25 and train_size=0.75, the resulting train set will be empty. Adjust any of the aforementioned parameters.'}\n"
     ]
    }
   ],
   "source": [
    "sims = []\n",
    "gap = 7\n",
    "training_years = 1\n",
    "sec.connect()\n",
    "strat_db.connect()\n",
    "market.connect()\n",
    "for dataset in datasets:\n",
    "    strat_db.drop_table(\"{}_bond_models\".format(dataset))\n",
    "    try:\n",
    "        ## Setting Up\n",
    "        print(year,quarter)\n",
    "        date_ranges = DateUtils.create_quarterly_training_range_rec(year,quarter,training_years,gap)\n",
    "        training_start,training_end,prediction_start,prediction_end = date_ranges\n",
    "        dates = pd.to_datetime(date_ranges)\n",
    "        quarters = [x.quarter for x in dates]\n",
    "        years = [x.year for x in dates]\n",
    "        print(date_ranges)\n",
    "        ### switch to all tickers\n",
    "        for i in model_range:\n",
    "            try:\n",
    "                ticker = tickers.iloc[i][\"Symbol\"].replace(\".\",\"-\")\n",
    "                price = market.retrieve_price_data(\"{}_prices\".format(dataset),ticker)\n",
    "                if dataset == \"pdr\":\n",
    "                    price = ColumnTransformer.rename_columns(price,\" \")\n",
    "                else:\n",
    "                    price = ColumnTransformer.rename_columns(price,\"\")\n",
    "                price = DateTransformer.convert_to_date(dataset,price,\"date\")\n",
    "                mt = ModelTransformer(ticker,training_start,training_end,gap)\n",
    "                pt = ModelTransformer(ticker,prediction_start,prediction_end,gap)\n",
    "                mr = ModelPreprocessor(ticker)\n",
    "                prot = ProductTransformer(ticker,prediction_start,prediction_end)\n",
    "                ## regression_model\n",
    "                rfd = mt.bond_merge(price.copy(),bond_weekly.copy(),True,classify=False).reset_index()\n",
    "                refined = mr.fundamental_preprocess(rfd.copy())\n",
    "                rfr = sp.regression(refined,ranked=False,tf=False,deep=False)\n",
    "                # classification_model\n",
    "                cfd = mt.bond_merge(price.copy(),bond_weekly.copy(),True,classify=True).reset_index()\n",
    "                refined = mr.fundamental_preprocess(cfd.copy())\n",
    "                cfr = sp.classification(refined,tf=False,deep=False)\n",
    "                fundamental_results = pd.DataFrame([cfr,rfr])\n",
    "                fundamental_results[\"ticker\"] = ticker\n",
    "                fundamental_results[\"model\"] = [pickle.dumps(x) for x in fundamental_results[\"model\"]]\n",
    "                strat_db.store_data(\"{}_bond_models\".format(dataset),fundamental_results)\n",
    "            except Exception as e:\n",
    "                message = {\"status\":\"quarterly modeling\",\"ticker\":ticker,\"year\":str(year),\"quarter\":str(quarter),\"message\":str(e)}\n",
    "                print(message)\n",
    "    except Exception as e:\n",
    "        print(year,quarter,str(e))\n",
    "sec.close()\n",
    "market.close()\n",
    "strat_db.close()"
   ]
  },
  {
   "cell_type": "code",
   "execution_count": 35,
   "metadata": {},
   "outputs": [
    {
     "data": {
      "text/html": [
       "<div>\n",
       "<style scoped>\n",
       "    .dataframe tbody tr th:only-of-type {\n",
       "        vertical-align: middle;\n",
       "    }\n",
       "\n",
       "    .dataframe tbody tr th {\n",
       "        vertical-align: top;\n",
       "    }\n",
       "\n",
       "    .dataframe thead th {\n",
       "        text-align: right;\n",
       "    }\n",
       "</style>\n",
       "<table border=\"1\" class=\"dataframe\">\n",
       "  <thead>\n",
       "    <tr style=\"text-align: right;\">\n",
       "      <th></th>\n",
       "      <th>api</th>\n",
       "      <th>model</th>\n",
       "      <th>score</th>\n",
       "      <th>model_type</th>\n",
       "      <th>ticker</th>\n",
       "    </tr>\n",
       "  </thead>\n",
       "  <tbody>\n",
       "    <tr>\n",
       "      <th>5</th>\n",
       "      <td>skl</td>\n",
       "      <td>b'\\x80\\x04\\x95\\xfd\\x02\\x00\\x00\\x00\\x00\\x00\\x00...</td>\n",
       "      <td>0.800000</td>\n",
       "      <td>classification</td>\n",
       "      <td>ZTS</td>\n",
       "    </tr>\n",
       "    <tr>\n",
       "      <th>0</th>\n",
       "      <td>xgb</td>\n",
       "      <td>b'\\x80\\x04\\x95w\\x02\\x00\\x00\\x00\\x00\\x00\\x00\\x8...</td>\n",
       "      <td>0.028311</td>\n",
       "      <td>regression</td>\n",
       "      <td>ZTS</td>\n",
       "    </tr>\n",
       "  </tbody>\n",
       "</table>\n",
       "</div>"
      ],
      "text/plain": [
       "   api                                              model     score  \\\n",
       "5  skl  b'\\x80\\x04\\x95\\xfd\\x02\\x00\\x00\\x00\\x00\\x00\\x00...  0.800000   \n",
       "0  xgb  b'\\x80\\x04\\x95w\\x02\\x00\\x00\\x00\\x00\\x00\\x00\\x8...  0.028311   \n",
       "\n",
       "       model_type ticker  \n",
       "5  classification    ZTS  \n",
       "0      regression    ZTS  "
      ]
     },
     "execution_count": 35,
     "metadata": {},
     "output_type": "execute_result"
    }
   ],
   "source": [
    "fundamental_results"
   ]
  }
 ],
 "metadata": {
  "kernelspec": {
   "display_name": "Python 3",
   "language": "python",
   "name": "python3"
  },
  "language_info": {
   "codemirror_mode": {
    "name": "ipython",
    "version": 3
   },
   "file_extension": ".py",
   "mimetype": "text/x-python",
   "name": "python",
   "nbconvert_exporter": "python",
   "pygments_lexer": "ipython3",
   "version": "3.8.0"
  }
 },
 "nbformat": 4,
 "nbformat_minor": 4
}
