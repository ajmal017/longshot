{
 "cells": [
  {
   "cell_type": "code",
   "execution_count": 1,
   "metadata": {
    "scrolled": true
   },
   "outputs": [],
   "source": [
    "from database.strategy import Strategy\n",
    "from database.sec import SEC\n",
    "from database.market import Market\n",
    "from database.merrill import Merrill\n",
    "from transformer.date_transformer import DateTransformer\n",
    "from transformer.column_transformer import ColumnTransformer\n",
    "from transformer.model_transformer import ModelTransformer\n",
    "from transformer.product_transformer import ProductTransformer\n",
    "from transformer.predictor_transformer import PredictorTransformer\n",
    "from preprocessor.model_preprocessor import ModelPreprocessor\n",
    "from preprocessor.predictor_preprocessor import PredictorPreprocessor\n",
    "from modeler.modeler import Modeler as sp\n",
    "from utils.date_utils import DateUtils\n",
    "import pandas as pd\n",
    "import matplotlib.pyplot as plt\n",
    "from datetime import datetime, timedelta, timezone\n",
    "from tqdm import tqdm\n",
    "import math"
   ]
  },
  {
   "cell_type": "code",
   "execution_count": 7,
   "metadata": {
    "scrolled": true
   },
   "outputs": [],
   "source": [
    "## Loading Constants\n",
    "start = \"2008-01-01\"\n",
    "end = datetime(2021,1,1).strftime(\"%Y-%m-%d\")\n",
    "# Loading Databases\n",
    "strat_db = Strategy(\"unity\")\n",
    "market = Market()\n",
    "merrill = Merrill()\n",
    "sec = SEC(\"sec\")\n",
    "market.connect()\n",
    "tickers = market.retrieve_data(\"sp500\").sort_values(\"Symbol\")\n",
    "accurate = market.retrieve_data(\"accurate\")\n",
    "relevant_tickers = list(accurate[\"ticker\"])\n",
    "market.close()\n",
    "reload = True\n",
    "quarterly_range = range(1,5)\n",
    "yearly_range = range(2017,2021)\n",
    "model_range = range(len(tickers[\"Symbol\"]))\n",
    "bonds = [\"A\",\"AAA\",\"B\",\"BBB\"]\n",
    "dataset = \"pdr\""
   ]
  },
  {
   "cell_type": "code",
   "execution_count": 3,
   "metadata": {
    "scrolled": true
   },
   "outputs": [],
   "source": [
    "ds = []\n",
    "if reload:\n",
    "    merrill.connect()\n",
    "    for bond in bonds:\n",
    "        data = merrill.retrieve_data(bond)\n",
    "        ds.append(data)\n",
    "    merrill.close()"
   ]
  },
  {
   "cell_type": "code",
   "execution_count": 4,
   "metadata": {
    "scrolled": true
   },
   "outputs": [],
   "source": [
    "base = ds[0]\n",
    "base.rename(columns={\"yield\":bonds[0]},inplace=True)\n",
    "for i in range(1,len(bonds)):\n",
    "    data = ds[i]\n",
    "    data.rename(columns={\"yield\":bonds[i]},inplace=True)\n",
    "    base = base.merge(data.drop(\"_id\",axis=1),on=\"date\",how=\"left\")"
   ]
  },
  {
   "cell_type": "code",
   "execution_count": 5,
   "metadata": {
    "scrolled": true
   },
   "outputs": [],
   "source": [
    "base = DateTransformer.convert_to_date(\"pdr\",base,\"date\")\n",
    "base[\"year\"] = [x.year for x in base[\"date\"]]\n",
    "base[\"quarter\"] = [x.quarter for x in base[\"date\"]]\n",
    "base[\"week\"] = [x.week for x in base[\"date\"]]\n",
    "bond_weekly = base.groupby([\"year\",\"quarter\",\"week\"]).mean().reset_index()"
   ]
  },
  {
   "cell_type": "code",
   "execution_count": 8,
   "metadata": {
    "scrolled": true
   },
   "outputs": [
    {
     "name": "stderr",
     "output_type": "stream",
     "text": [
      "  0%|                                                                                                                                                                                              | 0/4 [00:00<?, ?it/s]\n",
      "  0%|                                                                                                                                                                                              | 0/4 [00:00<?, ?it/s]\u001b[A"
     ]
    },
    {
     "name": "stdout",
     "output_type": "stream",
     "text": [
      "2017 1\n",
      "['2010-01-01', '2017-01-02', '2017-01-02', '2017-03-31']\n",
      "{'status': 'quarterly modeling', 'ticker': 'KEYS', 'year': '2017', 'quarter': '1', 'message': 'single positional indexer is out-of-bounds'}\n",
      "{'status': 'quarterly modeling', 'ticker': 'INFO', 'year': '2017', 'quarter': '1', 'message': 'single positional indexer is out-of-bounds'}\n"
     ]
    },
    {
     "name": "stderr",
     "output_type": "stream",
     "text": [
      "\n",
      " 25%|█████████████████████████████████████████████▌                                                                                                                                        | 1/4 [01:39<04:57, 99.15s/it]\u001b[A"
     ]
    },
    {
     "name": "stdout",
     "output_type": "stream",
     "text": [
      "2017 2\n",
      "['2010-04-01', '2017-03-31', '2017-04-03', '2017-06-30']\n",
      "{'status': 'quarterly modeling', 'ticker': 'KEYS', 'year': '2017', 'quarter': '2', 'message': 'single positional indexer is out-of-bounds'}\n",
      "{'status': 'quarterly modeling', 'ticker': 'INFO', 'year': '2017', 'quarter': '2', 'message': 'single positional indexer is out-of-bounds'}\n"
     ]
    },
    {
     "name": "stderr",
     "output_type": "stream",
     "text": [
      "\n",
      " 50%|███████████████████████████████████████████████████████████████████████████████████████████                                                                                           | 2/4 [03:18<03:18, 99.09s/it]\u001b[A"
     ]
    },
    {
     "name": "stdout",
     "output_type": "stream",
     "text": [
      "2017 3\n",
      "['2010-07-01', '2017-06-30', '2017-07-03', '2017-10-02']\n",
      "{'status': 'quarterly modeling', 'ticker': 'IQV', 'year': '2017', 'quarter': '3', 'message': 'single positional indexer is out-of-bounds'}\n",
      "{'status': 'quarterly modeling', 'ticker': 'EW', 'year': '2017', 'quarter': '3', 'message': 'single positional indexer is out-of-bounds'}\n",
      "{'status': 'quarterly modeling', 'ticker': 'INFO', 'year': '2017', 'quarter': '3', 'message': 'single positional indexer is out-of-bounds'}\n"
     ]
    },
    {
     "name": "stderr",
     "output_type": "stream",
     "text": [
      "\n",
      " 75%|████████████████████████████████████████████████████████████████████████████████████████████████████████████████████████████████████████▌                                             | 3/4 [04:52<01:37, 97.64s/it]\u001b[A"
     ]
    },
    {
     "name": "stdout",
     "output_type": "stream",
     "text": [
      "2017 4\n",
      "['2010-10-01', '2017-10-02', '2017-10-02', '2018-01-01']\n",
      "{'status': 'quarterly modeling', 'ticker': 'SNPS', 'year': '2017', 'quarter': '4', 'message': 'single positional indexer is out-of-bounds'}\n",
      "{'status': 'quarterly modeling', 'ticker': 'IQV', 'year': '2017', 'quarter': '4', 'message': 'single positional indexer is out-of-bounds'}\n",
      "{'status': 'quarterly modeling', 'ticker': 'IDXX', 'year': '2017', 'quarter': '4', 'message': 'single positional indexer is out-of-bounds'}\n",
      "{'status': 'quarterly modeling', 'ticker': 'EW', 'year': '2017', 'quarter': '4', 'message': 'single positional indexer is out-of-bounds'}\n",
      "{'status': 'quarterly modeling', 'ticker': 'INFO', 'year': '2017', 'quarter': '4', 'message': 'single positional indexer is out-of-bounds'}\n"
     ]
    },
    {
     "name": "stderr",
     "output_type": "stream",
     "text": [
      "\n",
      "100%|██████████████████████████████████████████████████████████████████████████████████████████████████████████████████████████████████████████████████████████████████████████████████████| 4/4 [06:22<00:00, 95.58s/it]\u001b[A\n",
      " 25%|█████████████████████████████████████████████▎                                                                                                                                       | 1/4 [06:22<19:06, 382.32s/it]\n",
      "  0%|                                                                                                                                                                                              | 0/4 [00:00<?, ?it/s]\u001b[A"
     ]
    },
    {
     "name": "stdout",
     "output_type": "stream",
     "text": [
      "2018 1\n",
      "['2011-01-03', '2018-01-01', '2018-01-01', '2018-04-02']\n",
      "{'status': 'quarterly modeling', 'ticker': 'SNPS', 'year': '2018', 'quarter': '1', 'message': 'single positional indexer is out-of-bounds'}\n",
      "{'status': 'quarterly modeling', 'ticker': 'IQV', 'year': '2018', 'quarter': '1', 'message': 'single positional indexer is out-of-bounds'}\n",
      "{'status': 'quarterly modeling', 'ticker': 'CHTR', 'year': '2018', 'quarter': '1', 'message': 'single positional indexer is out-of-bounds'}\n",
      "{'status': 'quarterly modeling', 'ticker': 'IDXX', 'year': '2018', 'quarter': '1', 'message': 'single positional indexer is out-of-bounds'}\n",
      "{'status': 'quarterly modeling', 'ticker': 'EW', 'year': '2018', 'quarter': '1', 'message': 'single positional indexer is out-of-bounds'}\n",
      "{'status': 'quarterly modeling', 'ticker': 'DLTR', 'year': '2018', 'quarter': '1', 'message': 'single positional indexer is out-of-bounds'}\n",
      "{'status': 'quarterly modeling', 'ticker': 'INFO', 'year': '2018', 'quarter': '1', 'message': 'single positional indexer is out-of-bounds'}\n"
     ]
    },
    {
     "name": "stderr",
     "output_type": "stream",
     "text": [
      "\n",
      " 25%|█████████████████████████████████████████████▌                                                                                                                                        | 1/4 [01:29<04:27, 89.06s/it]\u001b[A"
     ]
    },
    {
     "name": "stdout",
     "output_type": "stream",
     "text": [
      "2018 2\n",
      "['2011-04-01', '2018-04-02', '2018-04-02', '2018-07-02']\n",
      "{'status': 'quarterly modeling', 'ticker': 'IQV', 'year': '2018', 'quarter': '2', 'message': 'single positional indexer is out-of-bounds'}\n",
      "{'status': 'quarterly modeling', 'ticker': 'INFO', 'year': '2018', 'quarter': '2', 'message': 'single positional indexer is out-of-bounds'}\n",
      "{'status': 'quarterly modeling', 'ticker': 'NVR', 'year': '2018', 'quarter': '2', 'message': 'single positional indexer is out-of-bounds'}\n"
     ]
    },
    {
     "name": "stderr",
     "output_type": "stream",
     "text": [
      "\n",
      " 50%|███████████████████████████████████████████████████████████████████████████████████████████                                                                                           | 2/4 [03:01<03:00, 90.11s/it]\u001b[A"
     ]
    },
    {
     "name": "stdout",
     "output_type": "stream",
     "text": [
      "2018 3\n",
      "['2011-07-01', '2018-07-02', '2018-07-02', '2018-10-01']\n",
      "{'status': 'quarterly modeling', 'ticker': 'IQV', 'year': '2018', 'quarter': '3', 'message': 'single positional indexer is out-of-bounds'}\n",
      "{'status': 'quarterly modeling', 'ticker': 'INFO', 'year': '2018', 'quarter': '3', 'message': 'single positional indexer is out-of-bounds'}\n"
     ]
    },
    {
     "name": "stderr",
     "output_type": "stream",
     "text": [
      "\n",
      " 75%|████████████████████████████████████████████████████████████████████████████████████████████████████████████████████████████████████████▌                                             | 3/4 [04:43<01:33, 93.72s/it]\u001b[A"
     ]
    },
    {
     "name": "stdout",
     "output_type": "stream",
     "text": [
      "2018 4\n",
      "['2011-10-03', '2018-10-01', '2018-10-01', '2018-12-31']\n",
      "{'status': 'quarterly modeling', 'ticker': 'LH', 'year': '2018', 'quarter': '4', 'message': 'single positional indexer is out-of-bounds'}\n",
      "{'status': 'quarterly modeling', 'ticker': 'AZO', 'year': '2018', 'quarter': '4', 'message': 'single positional indexer is out-of-bounds'}\n",
      "{'status': 'quarterly modeling', 'ticker': 'CPRT', 'year': '2018', 'quarter': '4', 'message': 'single positional indexer is out-of-bounds'}\n",
      "{'status': 'quarterly modeling', 'ticker': 'DVA', 'year': '2018', 'quarter': '4', 'message': 'single positional indexer is out-of-bounds'}\n",
      "{'status': 'quarterly modeling', 'ticker': 'IQV', 'year': '2018', 'quarter': '4', 'message': 'single positional indexer is out-of-bounds'}\n",
      "{'status': 'quarterly modeling', 'ticker': 'WAT', 'year': '2018', 'quarter': '4', 'message': 'single positional indexer is out-of-bounds'}\n",
      "{'status': 'quarterly modeling', 'ticker': 'EW', 'year': '2018', 'quarter': '4', 'message': 'single positional indexer is out-of-bounds'}\n",
      "{'status': 'quarterly modeling', 'ticker': 'DLTR', 'year': '2018', 'quarter': '4', 'message': 'single positional indexer is out-of-bounds'}\n",
      "{'status': 'quarterly modeling', 'ticker': 'KEYS', 'year': '2018', 'quarter': '4', 'message': 'single positional indexer is out-of-bounds'}\n",
      "{'status': 'quarterly modeling', 'ticker': 'NVR', 'year': '2018', 'quarter': '4', 'message': 'single positional indexer is out-of-bounds'}\n"
     ]
    },
    {
     "name": "stderr",
     "output_type": "stream",
     "text": [
      "\n",
      "100%|██████████████████████████████████████████████████████████████████████████████████████████████████████████████████████████████████████████████████████████████████████████████████████| 4/4 [06:06<00:00, 91.55s/it]\u001b[A\n",
      " 50%|██████████████████████████████████████████████████████████████████████████████████████████▌                                                                                          | 2/4 [12:28<12:34, 377.48s/it]\n",
      "  0%|                                                                                                                                                                                              | 0/4 [00:00<?, ?it/s]\u001b[A"
     ]
    },
    {
     "name": "stdout",
     "output_type": "stream",
     "text": [
      "2019 1\n",
      "['2012-01-02', '2018-12-31', '2019-01-01', '2019-04-01']\n",
      "{'status': 'quarterly modeling', 'ticker': 'AZO', 'year': '2019', 'quarter': '1', 'message': 'single positional indexer is out-of-bounds'}\n",
      "{'status': 'quarterly modeling', 'ticker': 'ORLY', 'year': '2019', 'quarter': '1', 'message': 'single positional indexer is out-of-bounds'}\n",
      "{'status': 'quarterly modeling', 'ticker': 'TYL', 'year': '2019', 'quarter': '1', 'message': 'single positional indexer is out-of-bounds'}\n",
      "{'status': 'quarterly modeling', 'ticker': 'EW', 'year': '2019', 'quarter': '1', 'message': 'single positional indexer is out-of-bounds'}\n",
      "{'status': 'quarterly modeling', 'ticker': 'DLTR', 'year': '2019', 'quarter': '1', 'message': 'single positional indexer is out-of-bounds'}\n",
      "{'status': 'quarterly modeling', 'ticker': 'NVR', 'year': '2019', 'quarter': '1', 'message': 'single positional indexer is out-of-bounds'}\n"
     ]
    },
    {
     "name": "stderr",
     "output_type": "stream",
     "text": [
      "\n",
      " 25%|█████████████████████████████████████████████▌                                                                                                                                        | 1/4 [01:30<04:31, 90.62s/it]\u001b[A"
     ]
    },
    {
     "name": "stdout",
     "output_type": "stream",
     "text": [
      "2019 2\n",
      "['2012-04-02', '2019-04-01', '2019-04-01', '2019-07-01']\n",
      "{'status': 'quarterly modeling', 'ticker': 'AZO', 'year': '2019', 'quarter': '2', 'message': 'single positional indexer is out-of-bounds'}\n"
     ]
    },
    {
     "name": "stderr",
     "output_type": "stream",
     "text": [
      "\n",
      " 50%|███████████████████████████████████████████████████████████████████████████████████████████                                                                                           | 2/4 [03:02<03:01, 90.94s/it]\u001b[A"
     ]
    },
    {
     "name": "stdout",
     "output_type": "stream",
     "text": [
      "2019 3\n",
      "['2012-07-02', '2019-07-01', '2019-07-01', '2019-09-30']\n",
      "{'status': 'quarterly modeling', 'ticker': 'CPRT', 'year': '2019', 'quarter': '3', 'message': 'single positional indexer is out-of-bounds'}\n",
      "{'status': 'quarterly modeling', 'ticker': 'DVA', 'year': '2019', 'quarter': '3', 'message': 'single positional indexer is out-of-bounds'}\n",
      "{'status': 'quarterly modeling', 'ticker': 'SBAC', 'year': '2019', 'quarter': '3', 'message': 'single positional indexer is out-of-bounds'}\n",
      "{'status': 'quarterly modeling', 'ticker': 'TDY', 'year': '2019', 'quarter': '3', 'message': 'single positional indexer is out-of-bounds'}\n",
      "{'status': 'quarterly modeling', 'ticker': 'KEYS', 'year': '2019', 'quarter': '3', 'message': 'single positional indexer is out-of-bounds'}\n",
      "{'status': 'quarterly modeling', 'ticker': 'INFO', 'year': '2019', 'quarter': '3', 'message': 'single positional indexer is out-of-bounds'}\n"
     ]
    },
    {
     "name": "stderr",
     "output_type": "stream",
     "text": [
      "\n",
      " 75%|████████████████████████████████████████████████████████████████████████████████████████████████████████████████████████████████████████▌                                             | 3/4 [04:17<01:26, 86.34s/it]\u001b[A"
     ]
    },
    {
     "name": "stdout",
     "output_type": "stream",
     "text": [
      "2019 4\n",
      "['2012-10-01', '2019-09-30', '2019-10-01', '2019-12-31']\n",
      "{'status': 'quarterly modeling', 'ticker': 'LH', 'year': '2019', 'quarter': '4', 'message': 'single positional indexer is out-of-bounds'}\n",
      "{'status': 'quarterly modeling', 'ticker': 'AZO', 'year': '2019', 'quarter': '4', 'message': 'single positional indexer is out-of-bounds'}\n",
      "{'status': 'quarterly modeling', 'ticker': 'HSIC', 'year': '2019', 'quarter': '4', 'message': 'single positional indexer is out-of-bounds'}\n",
      "{'status': 'quarterly modeling', 'ticker': 'SNPS', 'year': '2019', 'quarter': '4', 'message': 'single positional indexer is out-of-bounds'}\n",
      "{'status': 'quarterly modeling', 'ticker': 'FISV', 'year': '2019', 'quarter': '4', 'message': 'single positional indexer is out-of-bounds'}\n",
      "{'status': 'quarterly modeling', 'ticker': 'CPRT', 'year': '2019', 'quarter': '4', 'message': 'single positional indexer is out-of-bounds'}\n",
      "{'status': 'quarterly modeling', 'ticker': 'DVA', 'year': '2019', 'quarter': '4', 'message': 'single positional indexer is out-of-bounds'}\n",
      "{'status': 'quarterly modeling', 'ticker': 'IQV', 'year': '2019', 'quarter': '4', 'message': 'single positional indexer is out-of-bounds'}\n",
      "{'status': 'quarterly modeling', 'ticker': 'BIO', 'year': '2019', 'quarter': '4', 'message': 'single positional indexer is out-of-bounds'}\n",
      "{'status': 'quarterly modeling', 'ticker': 'ORLY', 'year': '2019', 'quarter': '4', 'message': 'single positional indexer is out-of-bounds'}\n",
      "{'status': 'quarterly modeling', 'ticker': 'SBAC', 'year': '2019', 'quarter': '4', 'message': 'single positional indexer is out-of-bounds'}\n",
      "{'status': 'quarterly modeling', 'ticker': 'MTD', 'year': '2019', 'quarter': '4', 'message': 'single positional indexer is out-of-bounds'}\n",
      "{'status': 'quarterly modeling', 'ticker': 'IDXX', 'year': '2019', 'quarter': '4', 'message': 'single positional indexer is out-of-bounds'}\n",
      "{'status': 'quarterly modeling', 'ticker': 'FLT', 'year': '2019', 'quarter': '4', 'message': 'single positional indexer is out-of-bounds'}\n",
      "{'status': 'quarterly modeling', 'ticker': 'EW', 'year': '2019', 'quarter': '4', 'message': 'single positional indexer is out-of-bounds'}\n",
      "{'status': 'quarterly modeling', 'ticker': 'DLTR', 'year': '2019', 'quarter': '4', 'message': 'single positional indexer is out-of-bounds'}\n",
      "{'status': 'quarterly modeling', 'ticker': 'TDY', 'year': '2019', 'quarter': '4', 'message': 'single positional indexer is out-of-bounds'}\n",
      "{'status': 'quarterly modeling', 'ticker': 'KEYS', 'year': '2019', 'quarter': '4', 'message': 'single positional indexer is out-of-bounds'}\n",
      "{'status': 'quarterly modeling', 'ticker': 'ANSS', 'year': '2019', 'quarter': '4', 'message': 'single positional indexer is out-of-bounds'}\n",
      "{'status': 'quarterly modeling', 'ticker': 'COO', 'year': '2019', 'quarter': '4', 'message': 'single positional indexer is out-of-bounds'}\n",
      "{'status': 'quarterly modeling', 'ticker': 'INFO', 'year': '2019', 'quarter': '4', 'message': 'single positional indexer is out-of-bounds'}\n",
      "{'status': 'quarterly modeling', 'ticker': 'NVR', 'year': '2019', 'quarter': '4', 'message': 'single positional indexer is out-of-bounds'}\n",
      "{'status': 'quarterly modeling', 'ticker': 'ADBE', 'year': '2019', 'quarter': '4', 'message': 'single positional indexer is out-of-bounds'}\n"
     ]
    },
    {
     "name": "stderr",
     "output_type": "stream",
     "text": [
      "\n",
      "100%|██████████████████████████████████████████████████████████████████████████████████████████████████████████████████████████████████████████████████████████████████████████████████████| 4/4 [05:03<00:00, 75.76s/it]\u001b[A\n",
      " 75%|███████████████████████████████████████████████████████████████████████████████████████████████████████████████████████████████████████▊                                             | 3/4 [17:31<05:55, 355.15s/it]\n",
      "  0%|                                                                                                                                                                                              | 0/4 [00:00<?, ?it/s]\u001b[A"
     ]
    },
    {
     "name": "stdout",
     "output_type": "stream",
     "text": [
      "{'status': 'quarterly modeling', 'ticker': 'BSX', 'year': '2019', 'quarter': '4', 'message': 'single positional indexer is out-of-bounds'}\n",
      "2020 1\n",
      "['2013-01-01', '2019-12-31', '2020-01-01', '2020-03-31']\n",
      "{'status': 'quarterly modeling', 'ticker': 'BRK-B', 'year': '2020', 'quarter': '1', 'message': 'single positional indexer is out-of-bounds'}\n",
      "{'status': 'quarterly modeling', 'ticker': 'LH', 'year': '2020', 'quarter': '1', 'message': 'single positional indexer is out-of-bounds'}\n",
      "{'status': 'quarterly modeling', 'ticker': 'AZO', 'year': '2020', 'quarter': '1', 'message': 'single positional indexer is out-of-bounds'}\n",
      "{'status': 'quarterly modeling', 'ticker': 'HSIC', 'year': '2020', 'quarter': '1', 'message': 'single positional indexer is out-of-bounds'}\n",
      "{'status': 'quarterly modeling', 'ticker': 'SNPS', 'year': '2020', 'quarter': '1', 'message': 'single positional indexer is out-of-bounds'}\n",
      "{'status': 'quarterly modeling', 'ticker': 'FISV', 'year': '2020', 'quarter': '1', 'message': 'single positional indexer is out-of-bounds'}\n",
      "{'status': 'quarterly modeling', 'ticker': 'CPRT', 'year': '2020', 'quarter': '1', 'message': 'single positional indexer is out-of-bounds'}\n",
      "{'status': 'quarterly modeling', 'ticker': 'DVA', 'year': '2020', 'quarter': '1', 'message': 'single positional indexer is out-of-bounds'}\n",
      "{'status': 'quarterly modeling', 'ticker': 'IQV', 'year': '2020', 'quarter': '1', 'message': 'single positional indexer is out-of-bounds'}\n",
      "{'status': 'quarterly modeling', 'ticker': 'CHTR', 'year': '2020', 'quarter': '1', 'message': 'single positional indexer is out-of-bounds'}\n",
      "{'status': 'quarterly modeling', 'ticker': 'BIO', 'year': '2020', 'quarter': '1', 'message': 'single positional indexer is out-of-bounds'}\n",
      "{'status': 'quarterly modeling', 'ticker': 'ORLY', 'year': '2020', 'quarter': '1', 'message': 'single positional indexer is out-of-bounds'}\n",
      "{'status': 'quarterly modeling', 'ticker': 'SBAC', 'year': '2020', 'quarter': '1', 'message': 'single positional indexer is out-of-bounds'}\n",
      "{'status': 'quarterly modeling', 'ticker': 'WAT', 'year': '2020', 'quarter': '1', 'message': 'single positional indexer is out-of-bounds'}\n",
      "{'status': 'quarterly modeling', 'ticker': 'GOOGL', 'year': '2020', 'quarter': '1', 'message': 'single positional indexer is out-of-bounds'}\n",
      "{'status': 'quarterly modeling', 'ticker': 'MTD', 'year': '2020', 'quarter': '1', 'message': 'single positional indexer is out-of-bounds'}\n",
      "{'status': 'quarterly modeling', 'ticker': 'IDXX', 'year': '2020', 'quarter': '1', 'message': 'single positional indexer is out-of-bounds'}\n",
      "{'status': 'quarterly modeling', 'ticker': 'TYL', 'year': '2020', 'quarter': '1', 'message': 'single positional indexer is out-of-bounds'}\n",
      "{'status': 'quarterly modeling', 'ticker': 'FLT', 'year': '2020', 'quarter': '1', 'message': 'single positional indexer is out-of-bounds'}\n",
      "{'status': 'quarterly modeling', 'ticker': 'EW', 'year': '2020', 'quarter': '1', 'message': 'single positional indexer is out-of-bounds'}\n",
      "{'status': 'quarterly modeling', 'ticker': 'DLTR', 'year': '2020', 'quarter': '1', 'message': 'single positional indexer is out-of-bounds'}\n",
      "{'status': 'quarterly modeling', 'ticker': 'TDY', 'year': '2020', 'quarter': '1', 'message': 'single positional indexer is out-of-bounds'}\n",
      "{'status': 'quarterly modeling', 'ticker': 'KEYS', 'year': '2020', 'quarter': '1', 'message': 'single positional indexer is out-of-bounds'}\n",
      "{'status': 'quarterly modeling', 'ticker': 'ANSS', 'year': '2020', 'quarter': '1', 'message': 'single positional indexer is out-of-bounds'}\n",
      "{'status': 'quarterly modeling', 'ticker': 'IT', 'year': '2020', 'quarter': '1', 'message': 'single positional indexer is out-of-bounds'}\n",
      "{'status': 'quarterly modeling', 'ticker': 'COO', 'year': '2020', 'quarter': '1', 'message': 'single positional indexer is out-of-bounds'}\n",
      "{'status': 'quarterly modeling', 'ticker': 'INFO', 'year': '2020', 'quarter': '1', 'message': 'single positional indexer is out-of-bounds'}\n",
      "{'status': 'quarterly modeling', 'ticker': 'NVR', 'year': '2020', 'quarter': '1', 'message': 'single positional indexer is out-of-bounds'}\n",
      "{'status': 'quarterly modeling', 'ticker': 'ADBE', 'year': '2020', 'quarter': '1', 'message': 'single positional indexer is out-of-bounds'}\n"
     ]
    },
    {
     "name": "stderr",
     "output_type": "stream",
     "text": [
      "\n",
      " 25%|█████████████████████████████████████████████▌                                                                                                                                        | 1/4 [00:37<01:51, 37.24s/it]\u001b[A"
     ]
    },
    {
     "name": "stdout",
     "output_type": "stream",
     "text": [
      "{'status': 'quarterly modeling', 'ticker': 'BSX', 'year': '2020', 'quarter': '1', 'message': 'single positional indexer is out-of-bounds'}\n",
      "2020 2\n",
      "['2013-04-01', '2020-03-31', '2020-04-01', '2020-06-30']\n",
      "{'status': 'quarterly modeling', 'ticker': 'BRK-B', 'year': '2020', 'quarter': '2', 'message': 'single positional indexer is out-of-bounds'}\n",
      "{'status': 'quarterly modeling', 'ticker': 'LH', 'year': '2020', 'quarter': '2', 'message': 'single positional indexer is out-of-bounds'}\n",
      "{'status': 'quarterly modeling', 'ticker': 'AZO', 'year': '2020', 'quarter': '2', 'message': 'single positional indexer is out-of-bounds'}\n",
      "{'status': 'quarterly modeling', 'ticker': 'HSIC', 'year': '2020', 'quarter': '2', 'message': 'single positional indexer is out-of-bounds'}\n",
      "{'status': 'quarterly modeling', 'ticker': 'SNPS', 'year': '2020', 'quarter': '2', 'message': 'single positional indexer is out-of-bounds'}\n",
      "{'status': 'quarterly modeling', 'ticker': 'FISV', 'year': '2020', 'quarter': '2', 'message': 'single positional indexer is out-of-bounds'}\n",
      "{'status': 'quarterly modeling', 'ticker': 'CPRT', 'year': '2020', 'quarter': '2', 'message': 'single positional indexer is out-of-bounds'}\n",
      "{'status': 'quarterly modeling', 'ticker': 'DVA', 'year': '2020', 'quarter': '2', 'message': 'single positional indexer is out-of-bounds'}\n",
      "{'status': 'quarterly modeling', 'ticker': 'IQV', 'year': '2020', 'quarter': '2', 'message': 'single positional indexer is out-of-bounds'}\n",
      "{'status': 'quarterly modeling', 'ticker': 'CHTR', 'year': '2020', 'quarter': '2', 'message': 'single positional indexer is out-of-bounds'}\n",
      "{'status': 'quarterly modeling', 'ticker': 'BIO', 'year': '2020', 'quarter': '2', 'message': 'single positional indexer is out-of-bounds'}\n",
      "{'status': 'quarterly modeling', 'ticker': 'ORLY', 'year': '2020', 'quarter': '2', 'message': 'single positional indexer is out-of-bounds'}\n",
      "{'status': 'quarterly modeling', 'ticker': 'SBAC', 'year': '2020', 'quarter': '2', 'message': 'single positional indexer is out-of-bounds'}\n",
      "{'status': 'quarterly modeling', 'ticker': 'GOOGL', 'year': '2020', 'quarter': '2', 'message': 'single positional indexer is out-of-bounds'}\n",
      "{'status': 'quarterly modeling', 'ticker': 'MTD', 'year': '2020', 'quarter': '2', 'message': 'single positional indexer is out-of-bounds'}\n",
      "{'status': 'quarterly modeling', 'ticker': 'IDXX', 'year': '2020', 'quarter': '2', 'message': 'single positional indexer is out-of-bounds'}\n",
      "{'status': 'quarterly modeling', 'ticker': 'TYL', 'year': '2020', 'quarter': '2', 'message': 'single positional indexer is out-of-bounds'}\n",
      "{'status': 'quarterly modeling', 'ticker': 'FLT', 'year': '2020', 'quarter': '2', 'message': 'single positional indexer is out-of-bounds'}\n",
      "{'status': 'quarterly modeling', 'ticker': 'EW', 'year': '2020', 'quarter': '2', 'message': 'single positional indexer is out-of-bounds'}\n",
      "{'status': 'quarterly modeling', 'ticker': 'DLTR', 'year': '2020', 'quarter': '2', 'message': 'single positional indexer is out-of-bounds'}\n",
      "{'status': 'quarterly modeling', 'ticker': 'TDY', 'year': '2020', 'quarter': '2', 'message': 'single positional indexer is out-of-bounds'}\n",
      "{'status': 'quarterly modeling', 'ticker': 'KEYS', 'year': '2020', 'quarter': '2', 'message': 'single positional indexer is out-of-bounds'}\n",
      "{'status': 'quarterly modeling', 'ticker': 'ANSS', 'year': '2020', 'quarter': '2', 'message': 'single positional indexer is out-of-bounds'}\n",
      "{'status': 'quarterly modeling', 'ticker': 'IT', 'year': '2020', 'quarter': '2', 'message': 'single positional indexer is out-of-bounds'}\n",
      "{'status': 'quarterly modeling', 'ticker': 'COO', 'year': '2020', 'quarter': '2', 'message': 'single positional indexer is out-of-bounds'}\n",
      "{'status': 'quarterly modeling', 'ticker': 'INFO', 'year': '2020', 'quarter': '2', 'message': 'single positional indexer is out-of-bounds'}\n",
      "{'status': 'quarterly modeling', 'ticker': 'NVR', 'year': '2020', 'quarter': '2', 'message': 'single positional indexer is out-of-bounds'}\n",
      "{'status': 'quarterly modeling', 'ticker': 'ADBE', 'year': '2020', 'quarter': '2', 'message': 'single positional indexer is out-of-bounds'}\n",
      "{'status': 'quarterly modeling', 'ticker': 'LKQ', 'year': '2020', 'quarter': '2', 'message': 'single positional indexer is out-of-bounds'}\n"
     ]
    },
    {
     "name": "stderr",
     "output_type": "stream",
     "text": [
      "\n",
      " 50%|███████████████████████████████████████████████████████████████████████████████████████████                                                                                           | 2/4 [01:13<01:14, 37.10s/it]\u001b[A"
     ]
    },
    {
     "name": "stdout",
     "output_type": "stream",
     "text": [
      "{'status': 'quarterly modeling', 'ticker': 'BSX', 'year': '2020', 'quarter': '2', 'message': 'single positional indexer is out-of-bounds'}\n",
      "2020 3\n",
      "['2013-07-01', '2020-06-30', '2020-07-01', '2020-09-30']\n",
      "{'status': 'quarterly modeling', 'ticker': 'BRK-B', 'year': '2020', 'quarter': '3', 'message': 'single positional indexer is out-of-bounds'}\n",
      "{'status': 'quarterly modeling', 'ticker': 'LH', 'year': '2020', 'quarter': '3', 'message': 'single positional indexer is out-of-bounds'}\n",
      "{'status': 'quarterly modeling', 'ticker': 'AZO', 'year': '2020', 'quarter': '3', 'message': 'single positional indexer is out-of-bounds'}\n",
      "{'status': 'quarterly modeling', 'ticker': 'HSIC', 'year': '2020', 'quarter': '3', 'message': 'single positional indexer is out-of-bounds'}\n",
      "{'status': 'quarterly modeling', 'ticker': 'SNPS', 'year': '2020', 'quarter': '3', 'message': 'single positional indexer is out-of-bounds'}\n",
      "{'status': 'quarterly modeling', 'ticker': 'FISV', 'year': '2020', 'quarter': '3', 'message': 'single positional indexer is out-of-bounds'}\n",
      "{'status': 'quarterly modeling', 'ticker': 'GOOG', 'year': '2020', 'quarter': '3', 'message': 'single positional indexer is out-of-bounds'}\n",
      "{'status': 'quarterly modeling', 'ticker': 'CPRT', 'year': '2020', 'quarter': '3', 'message': 'single positional indexer is out-of-bounds'}\n",
      "{'status': 'quarterly modeling', 'ticker': 'DVA', 'year': '2020', 'quarter': '3', 'message': 'single positional indexer is out-of-bounds'}\n",
      "{'status': 'quarterly modeling', 'ticker': 'IQV', 'year': '2020', 'quarter': '3', 'message': 'single positional indexer is out-of-bounds'}\n",
      "{'status': 'quarterly modeling', 'ticker': 'CHTR', 'year': '2020', 'quarter': '3', 'message': 'single positional indexer is out-of-bounds'}\n",
      "{'status': 'quarterly modeling', 'ticker': 'BIO', 'year': '2020', 'quarter': '3', 'message': 'single positional indexer is out-of-bounds'}\n",
      "{'status': 'quarterly modeling', 'ticker': 'ORLY', 'year': '2020', 'quarter': '3', 'message': 'single positional indexer is out-of-bounds'}\n",
      "{'status': 'quarterly modeling', 'ticker': 'SBAC', 'year': '2020', 'quarter': '3', 'message': 'single positional indexer is out-of-bounds'}\n",
      "{'status': 'quarterly modeling', 'ticker': 'WAT', 'year': '2020', 'quarter': '3', 'message': 'single positional indexer is out-of-bounds'}\n",
      "{'status': 'quarterly modeling', 'ticker': 'GOOGL', 'year': '2020', 'quarter': '3', 'message': 'single positional indexer is out-of-bounds'}\n",
      "{'status': 'quarterly modeling', 'ticker': 'MTD', 'year': '2020', 'quarter': '3', 'message': 'single positional indexer is out-of-bounds'}\n",
      "{'status': 'quarterly modeling', 'ticker': 'IDXX', 'year': '2020', 'quarter': '3', 'message': 'single positional indexer is out-of-bounds'}\n",
      "{'status': 'quarterly modeling', 'ticker': 'TYL', 'year': '2020', 'quarter': '3', 'message': 'single positional indexer is out-of-bounds'}\n",
      "{'status': 'quarterly modeling', 'ticker': 'FLT', 'year': '2020', 'quarter': '3', 'message': 'single positional indexer is out-of-bounds'}\n",
      "{'status': 'quarterly modeling', 'ticker': 'EW', 'year': '2020', 'quarter': '3', 'message': 'single positional indexer is out-of-bounds'}\n",
      "{'status': 'quarterly modeling', 'ticker': 'DLTR', 'year': '2020', 'quarter': '3', 'message': 'single positional indexer is out-of-bounds'}\n",
      "{'status': 'quarterly modeling', 'ticker': 'TDY', 'year': '2020', 'quarter': '3', 'message': 'single positional indexer is out-of-bounds'}\n",
      "{'status': 'quarterly modeling', 'ticker': 'KEYS', 'year': '2020', 'quarter': '3', 'message': 'single positional indexer is out-of-bounds'}\n",
      "{'status': 'quarterly modeling', 'ticker': 'ANSS', 'year': '2020', 'quarter': '3', 'message': 'single positional indexer is out-of-bounds'}\n",
      "{'status': 'quarterly modeling', 'ticker': 'IT', 'year': '2020', 'quarter': '3', 'message': 'single positional indexer is out-of-bounds'}\n",
      "{'status': 'quarterly modeling', 'ticker': 'COO', 'year': '2020', 'quarter': '3', 'message': 'single positional indexer is out-of-bounds'}\n",
      "{'status': 'quarterly modeling', 'ticker': 'BKNG', 'year': '2020', 'quarter': '3', 'message': 'single positional indexer is out-of-bounds'}\n",
      "{'status': 'quarterly modeling', 'ticker': 'INFO', 'year': '2020', 'quarter': '3', 'message': 'single positional indexer is out-of-bounds'}\n",
      "{'status': 'quarterly modeling', 'ticker': 'NVR', 'year': '2020', 'quarter': '3', 'message': 'single positional indexer is out-of-bounds'}\n",
      "{'status': 'quarterly modeling', 'ticker': 'ADBE', 'year': '2020', 'quarter': '3', 'message': 'single positional indexer is out-of-bounds'}\n",
      "{'status': 'quarterly modeling', 'ticker': 'LKQ', 'year': '2020', 'quarter': '3', 'message': 'single positional indexer is out-of-bounds'}\n"
     ]
    },
    {
     "name": "stderr",
     "output_type": "stream",
     "text": [
      "\n",
      " 75%|████████████████████████████████████████████████████████████████████████████████████████████████████████████████████████████████████████▌                                             | 3/4 [01:47<00:35, 36.00s/it]\u001b[A"
     ]
    },
    {
     "name": "stdout",
     "output_type": "stream",
     "text": [
      "{'status': 'quarterly modeling', 'ticker': 'BSX', 'year': '2020', 'quarter': '3', 'message': 'single positional indexer is out-of-bounds'}\n",
      "2020 4\n",
      "['2013-10-01', '2020-09-30', '2020-10-01', '2020-12-31']\n",
      "{'status': 'quarterly modeling', 'ticker': 'BRK-B', 'year': '2020', 'quarter': '4', 'message': 'single positional indexer is out-of-bounds'}\n",
      "{'status': 'quarterly modeling', 'ticker': 'LH', 'year': '2020', 'quarter': '4', 'message': 'single positional indexer is out-of-bounds'}\n",
      "{'status': 'quarterly modeling', 'ticker': 'AZO', 'year': '2020', 'quarter': '4', 'message': 'single positional indexer is out-of-bounds'}\n",
      "{'status': 'quarterly modeling', 'ticker': 'HSIC', 'year': '2020', 'quarter': '4', 'message': 'single positional indexer is out-of-bounds'}\n",
      "{'status': 'quarterly modeling', 'ticker': 'SNPS', 'year': '2020', 'quarter': '4', 'message': 'single positional indexer is out-of-bounds'}\n",
      "{'status': 'quarterly modeling', 'ticker': 'FISV', 'year': '2020', 'quarter': '4', 'message': 'single positional indexer is out-of-bounds'}\n",
      "{'status': 'quarterly modeling', 'ticker': 'GOOG', 'year': '2020', 'quarter': '4', 'message': 'single positional indexer is out-of-bounds'}\n",
      "{'status': 'quarterly modeling', 'ticker': 'CPRT', 'year': '2020', 'quarter': '4', 'message': 'single positional indexer is out-of-bounds'}\n",
      "{'status': 'quarterly modeling', 'ticker': 'DVA', 'year': '2020', 'quarter': '4', 'message': 'single positional indexer is out-of-bounds'}\n",
      "{'status': 'quarterly modeling', 'ticker': 'IQV', 'year': '2020', 'quarter': '4', 'message': 'single positional indexer is out-of-bounds'}\n",
      "{'status': 'quarterly modeling', 'ticker': 'CHTR', 'year': '2020', 'quarter': '4', 'message': 'single positional indexer is out-of-bounds'}\n",
      "{'status': 'quarterly modeling', 'ticker': 'BIO', 'year': '2020', 'quarter': '4', 'message': 'single positional indexer is out-of-bounds'}\n",
      "{'status': 'quarterly modeling', 'ticker': 'ORLY', 'year': '2020', 'quarter': '4', 'message': 'single positional indexer is out-of-bounds'}\n",
      "{'status': 'quarterly modeling', 'ticker': 'SBAC', 'year': '2020', 'quarter': '4', 'message': 'single positional indexer is out-of-bounds'}\n",
      "{'status': 'quarterly modeling', 'ticker': 'WAT', 'year': '2020', 'quarter': '4', 'message': 'single positional indexer is out-of-bounds'}\n",
      "{'status': 'quarterly modeling', 'ticker': 'GOOGL', 'year': '2020', 'quarter': '4', 'message': 'single positional indexer is out-of-bounds'}\n",
      "{'status': 'quarterly modeling', 'ticker': 'MTD', 'year': '2020', 'quarter': '4', 'message': 'single positional indexer is out-of-bounds'}\n",
      "{'status': 'quarterly modeling', 'ticker': 'IDXX', 'year': '2020', 'quarter': '4', 'message': 'single positional indexer is out-of-bounds'}\n",
      "{'status': 'quarterly modeling', 'ticker': 'TYL', 'year': '2020', 'quarter': '4', 'message': 'single positional indexer is out-of-bounds'}\n",
      "{'status': 'quarterly modeling', 'ticker': 'FLT', 'year': '2020', 'quarter': '4', 'message': 'single positional indexer is out-of-bounds'}\n",
      "{'status': 'quarterly modeling', 'ticker': 'EW', 'year': '2020', 'quarter': '4', 'message': 'single positional indexer is out-of-bounds'}\n",
      "{'status': 'quarterly modeling', 'ticker': 'DLTR', 'year': '2020', 'quarter': '4', 'message': 'single positional indexer is out-of-bounds'}\n",
      "{'status': 'quarterly modeling', 'ticker': 'TDY', 'year': '2020', 'quarter': '4', 'message': 'single positional indexer is out-of-bounds'}\n",
      "{'status': 'quarterly modeling', 'ticker': 'KEYS', 'year': '2020', 'quarter': '4', 'message': 'single positional indexer is out-of-bounds'}\n",
      "{'status': 'quarterly modeling', 'ticker': 'ANSS', 'year': '2020', 'quarter': '4', 'message': 'single positional indexer is out-of-bounds'}\n",
      "{'status': 'quarterly modeling', 'ticker': 'IT', 'year': '2020', 'quarter': '4', 'message': 'single positional indexer is out-of-bounds'}\n",
      "{'status': 'quarterly modeling', 'ticker': 'COO', 'year': '2020', 'quarter': '4', 'message': 'single positional indexer is out-of-bounds'}\n",
      "{'status': 'quarterly modeling', 'ticker': 'BKNG', 'year': '2020', 'quarter': '4', 'message': 'single positional indexer is out-of-bounds'}\n",
      "{'status': 'quarterly modeling', 'ticker': 'INFO', 'year': '2020', 'quarter': '4', 'message': 'single positional indexer is out-of-bounds'}\n",
      "{'status': 'quarterly modeling', 'ticker': 'NVR', 'year': '2020', 'quarter': '4', 'message': 'single positional indexer is out-of-bounds'}\n",
      "{'status': 'quarterly modeling', 'ticker': 'ADBE', 'year': '2020', 'quarter': '4', 'message': 'single positional indexer is out-of-bounds'}\n",
      "{'status': 'quarterly modeling', 'ticker': 'LKQ', 'year': '2020', 'quarter': '4', 'message': 'single positional indexer is out-of-bounds'}\n"
     ]
    },
    {
     "name": "stderr",
     "output_type": "stream",
     "text": [
      "\n",
      "100%|██████████████████████████████████████████████████████████████████████████████████████████████████████████████████████████████████████████████████████████████████████████████████████| 4/4 [02:21<00:00, 35.40s/it]\u001b[A\n",
      "100%|█████████████████████████████████████████████████████████████████████████████████████████████████████████████████████████████████████████████████████████████████████████████████████| 4/4 [19:53<00:00, 298.30s/it]"
     ]
    },
    {
     "name": "stdout",
     "output_type": "stream",
     "text": [
      "{'status': 'quarterly modeling', 'ticker': 'BSX', 'year': '2020', 'quarter': '4', 'message': 'single positional indexer is out-of-bounds'}\n"
     ]
    },
    {
     "name": "stderr",
     "output_type": "stream",
     "text": [
      "\n"
     ]
    }
   ],
   "source": [
    "sims = []\n",
    "gap = 7\n",
    "training_years = 7\n",
    "sec.connect()\n",
    "strat_db.connect()\n",
    "market.connect()\n",
    "diff = market.retrieve_data(\"diff\")\n",
    "# strat_db.drop_table(\"{}_weekly_sim\".format(dataset))\n",
    "inaccuracy = diff[diff[\"diff\"] > 0.1][\"ticker\"]\n",
    "strat_db.drop_table(\"{}_bond_quarterly_sim\".format(dataset))\n",
    "for year in tqdm(yearly_range):\n",
    "    for quarter in tqdm(quarterly_range):\n",
    "        try:\n",
    "            ## Setting Up\n",
    "            print(year,quarter)\n",
    "            date_ranges = DateUtils.create_quarterly_training_range_rec(year,quarter,training_years,gap)\n",
    "            training_start,training_end,prediction_start,prediction_end = date_ranges\n",
    "            dates = pd.to_datetime(date_ranges)\n",
    "            quarters = [x.quarter for x in dates]\n",
    "            years = [x.year for x in dates]\n",
    "            print(date_ranges)\n",
    "            ### switch to all tickers\n",
    "            for ticker in list(accurate[\"ticker\"]):\n",
    "                try:\n",
    "                    price = market.retrieve_price_data(\"{}_prices\".format(dataset),ticker)\n",
    "                    if dataset == \"pdr\":\n",
    "                        price = ColumnTransformer.rename_columns(price,\" \")\n",
    "                    else:\n",
    "                        price = ColumnTransformer.rename_columns(price,\"\")\n",
    "                    price = DateTransformer.convert_to_date(dataset,price,\"date\")\n",
    "                    mt = ModelTransformer(ticker,training_start,training_end,gap)\n",
    "                    pt = ModelTransformer(ticker,prediction_start,prediction_end,gap)\n",
    "                    mr = ModelPreprocessor(ticker)\n",
    "                    prot = ProductTransformer(ticker,prediction_start,prediction_end)\n",
    "                    ## regression_model\n",
    "                    rfd = mt.bond_merge(price.copy(),bond_weekly.copy(),True,classify=False).reset_index()\n",
    "                    refined = mr.fundamental_preprocess(rfd.copy())\n",
    "                    rfr = sp.regression(refined,ranked=False,tf=False,deep=False)\n",
    "                    # classification_model\n",
    "                    cfd = mt.bond_merge(price.copy(),bond_weekly.copy(),True,classify=True).reset_index()\n",
    "                    refined = mr.fundamental_preprocess(cfd.copy())\n",
    "                    cfr = sp.classification(refined,tf=False,deep=False)\n",
    "                    fundamental_results = pd.DataFrame([cfr,rfr])\n",
    "                    product_refineds = []\n",
    "                    product_qpds = []\n",
    "                    for i in range(len(fundamental_results)):\n",
    "                        fundamental_result = fundamental_results.iloc[i]\n",
    "                        if fundamental_result[\"model_type\"] == \"regression\":\n",
    "                            fundamental_data = pt.bond_merge(price.copy(),bond_weekly.copy(),True,classify=False).reset_index()\n",
    "#                                 fundamental_data = fundamental_data[(fundamental_data[\"year\"] == year) & (fundamental_data[\"quarter\"] == quarter)]\n",
    "                        else:\n",
    "                            fundamental_data = pt.bond_merge(price.copy(),bond_weekly.copy(),True,classify=True).reset_index()\n",
    "#                                 fundamental_data = fundamental_data[(fundamental_data[\"year\"] == year) & (fundamental_data[\"quarter\"] == quarter)]\n",
    "                        product_refined = mr.fundamental_preprocess_rec(fundamental_data.copy())\n",
    "                        product_refineds.append(product_refined)\n",
    "                    sim = prot.merge_weeklies_v2(product_refineds,fundamental_results,year,quarter,\"bond\")\n",
    "                    strat_db.store_data(\"{}_bond_weekly_sim\".format(dataset),pd.DataFrame(sim))\n",
    "                except Exception as e:\n",
    "                    message = {\"status\":\"quarterly modeling\",\"ticker\":ticker,\"year\":str(year),\"quarter\":str(quarter),\"message\":str(e)}\n",
    "                    print(message)\n",
    "        except Exception as e:\n",
    "            print(year,quarter,str(e))\n",
    "sec.close()\n",
    "market.close()\n",
    "strat_db.close()"
   ]
  }
 ],
 "metadata": {
  "kernelspec": {
   "display_name": "Python 3",
   "language": "python",
   "name": "python3"
  },
  "language_info": {
   "codemirror_mode": {
    "name": "ipython",
    "version": 3
   },
   "file_extension": ".py",
   "mimetype": "text/x-python",
   "name": "python",
   "nbconvert_exporter": "python",
   "pygments_lexer": "ipython3",
   "version": "3.8.0"
  }
 },
 "nbformat": 4,
 "nbformat_minor": 4
}
