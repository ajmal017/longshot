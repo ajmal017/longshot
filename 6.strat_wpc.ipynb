{
 "cells": [
  {
   "cell_type": "code",
   "execution_count": 1,
   "metadata": {},
   "outputs": [],
   "source": [
    "from strategy.weekly_price import WeeklyPrice\n",
    "from strategy.quarterly_financial_categorical import QuarterlyFinancialCategorical\n",
    "from backtester.backtester import Backtester as b\n",
    "from database.market import Market\n",
    "from preprocessor.model_preprocessor import ModelPreprocessor as mp\n",
    "from modeler.modeler import Modeler as m\n",
    "import pandas as pd\n",
    "from tqdm import tqdm\n",
    "from datetime import datetime, timedelta\n",
    "import numpy as np\n",
    "import math"
   ]
  },
  {
   "cell_type": "code",
   "execution_count": 2,
   "metadata": {},
   "outputs": [],
   "source": [
    "## Loading Constants\n",
    "start = \"2008-01-01\"\n",
    "end = datetime(2021,1,1).strftime(\"%Y-%m-%d\")\n",
    "market = Market()\n",
    "market.connect()\n",
    "tickers = market.retrieve_data(\"sp500\").sort_values(\"Symbol\")\n",
    "market.close()\n",
    "strat = WeeklyPrice()\n",
    "qfc = QuarterlyFinancialCategorical()"
   ]
  },
  {
   "cell_type": "code",
   "execution_count": 3,
   "metadata": {},
   "outputs": [],
   "source": [
    "categories = qfc.retrieve_data(\"stock_category_sim\")"
   ]
  },
  {
   "cell_type": "code",
   "execution_count": 4,
   "metadata": {},
   "outputs": [
    {
     "data": {
      "text/plain": [
       "Index(['_id', 'year', 'quarter', 'ticker', 'prediction'], dtype='object')"
      ]
     },
     "execution_count": 4,
     "metadata": {},
     "output_type": "execute_result"
    }
   ],
   "source": [
    "categories.columns"
   ]
  },
  {
   "cell_type": "code",
   "execution_count": 5,
   "metadata": {},
   "outputs": [],
   "source": [
    "market.connect()\n",
    "classification = market.retrieve_data(\"dataset_week_classification\")\n",
    "regression = market.retrieve_data(\"dataset_week_regression\")\n",
    "market.close()\n",
    "classification = classification[:-2]\n",
    "regression = regression[:-2]"
   ]
  },
  {
   "cell_type": "code",
   "execution_count": 6,
   "metadata": {},
   "outputs": [],
   "source": [
    "gap = 5\n",
    "week_gap = int(gap/5)\n",
    "training_years = 1\n",
    "quarterly_range = range(1,5)\n",
    "yearly_range = range(2012,2021)"
   ]
  },
  {
   "cell_type": "code",
   "execution_count": null,
   "metadata": {
    "scrolled": true
   },
   "outputs": [],
   "source": [
    "for year in tqdm(yearly_range):\n",
    "    for quarter in tqdm(quarterly_range):\n",
    "        quarter_categories = categories[(categories[\"year\"] == year) & (categories[\"quarter\"] == quarter)]\n",
    "        for category in tqdm(quarter_categories[\"prediction\"].unique()):\n",
    "            try:\n",
    "                group_tickers = quarter_categories[(quarter_categories[\"prediction\"] == category)]\n",
    "                prices = []\n",
    "                if group_tickers.index.size > 0:\n",
    "                    for ticker in group_tickers[\"ticker\"].unique():\n",
    "                        try:\n",
    "                            ticker_class = classification.copy()[[\"year\",\"quarter\",\"week\",ticker]].rename(columns={ticker:\"y_class\"})\n",
    "                            ticker_regr = regression.copy()[[\"year\",\"quarter\",\"week\",ticker]].rename(columns={ticker:str(0)})\n",
    "                            test = ticker_regr.merge(ticker_class,on=[\"year\",\"quarter\",\"week\"])\n",
    "                            for i in range(1,14):\n",
    "                                test[str(i)] = test[str(0)].shift(1)\n",
    "                            test[\"y\"] = test[str(0)].shift(-1)\n",
    "                            test[\"y_class\"] = test[\"y_class\"].shift(-1)\n",
    "                            f = test.dropna()\n",
    "                            for col in [\"year\",\"quarter\",\"week\"]:\n",
    "                                f[col] = [int(x) for x in f[col]]\n",
    "                            f[\"date\"] = [datetime(int(row[1][\"year\"]),int((row[1][\"quarter\"] * 3) - 2),1) for row in f.iterrows()]\n",
    "                            f[\"ticker\"] = ticker\n",
    "                            prices.append(f)\n",
    "                        except Exception as e:\n",
    "                            print(str(e))\n",
    "                            continue\n",
    "                if len(prices) > 0:\n",
    "                    p = pd.concat(prices)\n",
    "                    training_data = p[(p[\"date\"] < datetime(year,int((quarter*3)-2),1)) & (p[\"date\"]>= datetime(year-training_years,int((quarter*3)-2),1))]\n",
    "                    prediction_data = p[p[\"date\"]==datetime(year,int((quarter*3)-2),1)]\n",
    "                    X = training_data.drop([\"quarter\",\"year\",\"y_class\",\"y\",\"date\",\"ticker\"],axis=1)\n",
    "                    y = training_data[[\"y_class\",\"y\"]]\n",
    "                    refined_data = {\"X\":X,\"y\":y}\n",
    "                    regression_models = m.regression(refined_data.copy(),ranked=False,tf=False,xgb=True,sk=False,deep=False)\n",
    "                    classification_models = m.classification(refined_data.copy(),tf=False,xgb=True,sk=False,deep=False,multioutput=False)\n",
    "                    models = pd.DataFrame([regression_models,classification_models])\n",
    "                    factors = refined_data[\"X\"].columns\n",
    "                    product = prediction_data[[\"year\",\"quarter\",\"week\",\"ticker\"]]\n",
    "                    for i in range(models.index.size):\n",
    "                        model = models.iloc[i][\"model\"]\n",
    "                        model_type = models.iloc[i][\"model_type\"]\n",
    "                        score = models.iloc[i][\"score\"]\n",
    "                        predictions = model.predict(prediction_data[factors])\n",
    "                        product[f\"weekly_price_categorical_{model_type}_prediction\"] = predictions\n",
    "                        product[f\"weekly_price_categorical_{model_type}_score\"] = score\n",
    "                    product[\"ticker\"]\n",
    "                    strat.db.connect()\n",
    "                    strat.db.store_data(\"sim_categorical\",product)\n",
    "                    strat.db.close()\n",
    "            except Exception as e:\n",
    "                print(str(e))\n",
    "                continue"
   ]
  },
  {
   "cell_type": "code",
   "execution_count": 5,
   "metadata": {},
   "outputs": [],
   "source": [
    "strat.db.connect()\n",
    "sim = strat.db.retrieve_data(\"sim_categorical\")\n",
    "strat.db.close()"
   ]
  },
  {
   "cell_type": "code",
   "execution_count": 6,
   "metadata": {},
   "outputs": [],
   "source": [
    "market.connect()\n",
    "price = market.retrieve_data(\"prices\").drop(\"_id\",axis=1)\n",
    "market.close()"
   ]
  },
  {
   "cell_type": "code",
   "execution_count": 7,
   "metadata": {},
   "outputs": [],
   "source": [
    "price[\"year\"] = [x.year for x in price[\"date\"]]\n",
    "price[\"quarter\"] = [x.quarter for x in price[\"date\"]]"
   ]
  },
  {
   "cell_type": "code",
   "execution_count": 8,
   "metadata": {},
   "outputs": [],
   "source": [
    "sim = sim.merge(price[[\"date\",\"year\",\"quarter\",\"ticker\",\"adjclose\"]],on=[\"year\",\"quarter\",\"ticker\"],how=\"left\")\n",
    "sim[\"weekly_predicted_delta\"]  = (sim[\"weekly_price_categorical_regression_prediction\"] - sim[\"adjclose\"]) / sim[\"adjclose\"]"
   ]
  },
  {
   "cell_type": "code",
   "execution_count": 9,
   "metadata": {},
   "outputs": [],
   "source": [
    "sim.drop(\"_id\",axis=1,inplace=True)"
   ]
  },
  {
   "cell_type": "code",
   "execution_count": 10,
   "metadata": {},
   "outputs": [],
   "source": [
    "# strat.db.connect()\n",
    "# strat.db.store_data(\"weekly_sim\",sim)\n",
    "# strat.db.close()"
   ]
  },
  {
   "cell_type": "code",
   "execution_count": 11,
   "metadata": {},
   "outputs": [
    {
     "data": {
      "text/plain": [
       "datetime.datetime(2021, 7, 26, 7, 55, 21, 386715)"
      ]
     },
     "execution_count": 11,
     "metadata": {},
     "output_type": "execute_result"
    }
   ],
   "source": [
    "datetime.now() - timedelta(days=datetime.now().weekday())"
   ]
  },
  {
   "cell_type": "code",
   "execution_count": 12,
   "metadata": {},
   "outputs": [],
   "source": [
    "# strat.db.connect()\n",
    "# sim = strat.db.retrieve_data(\"weekly_sim\")\n",
    "# strat.db.close()"
   ]
  },
  {
   "cell_type": "code",
   "execution_count": 13,
   "metadata": {},
   "outputs": [],
   "source": [
    "start = datetime(2013,1,7)\n",
    "end = datetime(2020,12,23)\n",
    "extreme = [True]\n",
    "ceiling_settings = [True]\n",
    "fixed = [True]\n",
    "classification = [False]\n",
    "weekly_value_settings = [True]\n",
    "weekly_delta_range = range(0,12,3)\n",
    "trade_signal_score_settings = range(81,104,5)\n",
    "initial = 100"
   ]
  },
  {
   "cell_type": "code",
   "execution_count": 14,
   "metadata": {},
   "outputs": [
    {
     "data": {
      "text/plain": [
       "0    0.996983\n",
       "dtype: float64"
      ]
     },
     "execution_count": 14,
     "metadata": {},
     "output_type": "execute_result"
    }
   ],
   "source": [
    "sim[\"weekly_price_categorical_regression_score\"].mode()"
   ]
  },
  {
   "cell_type": "code",
   "execution_count": 15,
   "metadata": {},
   "outputs": [],
   "source": [
    "sim = sim.groupby([\"date\",\"ticker\"]).mean().reset_index()"
   ]
  },
  {
   "cell_type": "code",
   "execution_count": 16,
   "metadata": {},
   "outputs": [],
   "source": [
    "sim = sim[sim[\"date\"] >= start]"
   ]
  },
  {
   "cell_type": "code",
   "execution_count": null,
   "metadata": {
    "scrolled": true
   },
   "outputs": [
    {
     "name": "stderr",
     "output_type": "stream",
     "text": [
      "  0%|                                                                                                                                                               | 0/5 [00:00<?, ?it/s]\n",
      "  0%|                                                                                                                                                               | 0/4 [00:00<?, ?it/s]\u001b[A"
     ]
    },
    {
     "name": "stdout",
     "output_type": "stream",
     "text": [
      "20\n",
      "2018-12-31 00:00:00 stock had no more listed prices\n"
     ]
    }
   ],
   "source": [
    "epoch = 0\n",
    "seats = 3\n",
    "strat.db.connect()\n",
    "strat.db.drop_table(\"m_epochs\")\n",
    "iterations = len(weekly_delta_range) * len(trade_signal_score_settings)\n",
    "print(iterations)\n",
    "for i in range(iterations):\n",
    "    strat.db.drop_table(\"m_trades_{}\".format(i))\n",
    "for score in tqdm(trade_signal_score_settings):\n",
    "    for delta in tqdm(weekly_delta_range):\n",
    "        s = float(score/100)\n",
    "        d = float(delta/100)\n",
    "        epoch_dict = {\"epoch\":epoch\n",
    "                      ,\"score\":s\n",
    "                      ,\"delta\":d\n",
    "                     }\n",
    "        ts = b.backtest_weekly_adaptive(start,end,sim.copy(),seats,s,d)\n",
    "        if len(ts) > 0:\n",
    "            strat.db.store_data(\"m_epochs\",pd.DataFrame([epoch_dict]))\n",
    "            strat.db.store_data(\"m_trades_{}\".format(epoch),pd.DataFrame(ts))\n",
    "        epoch += 1\n",
    "strat.db.close()"
   ]
  }
 ],
 "metadata": {
  "kernelspec": {
   "display_name": "Python 3",
   "language": "python",
   "name": "python3"
  },
  "language_info": {
   "codemirror_mode": {
    "name": "ipython",
    "version": 3
   },
   "file_extension": ".py",
   "mimetype": "text/x-python",
   "name": "python",
   "nbconvert_exporter": "python",
   "pygments_lexer": "ipython3",
   "version": "3.8.0"
  }
 },
 "nbformat": 4,
 "nbformat_minor": 4
}
