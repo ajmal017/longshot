{
 "cells": [
  {
   "cell_type": "code",
   "execution_count": 1,
   "metadata": {},
   "outputs": [],
   "source": [
    "from strategy.sector_specific import SectorSpecific\n",
    "from strategy.quarterly_financial_categorical import QuarterlyFinancialCategorical\n",
    "from backtester.backtester import Backtester as b\n",
    "from database.market import Market\n",
    "from preprocessor.model_preprocessor import ModelPreprocessor as mp\n",
    "from modeler.modeler import Modeler as m\n",
    "import pandas as pd\n",
    "from tqdm import tqdm\n",
    "from datetime import datetime, timedelta\n",
    "import numpy as np\n",
    "import math"
   ]
  },
  {
   "cell_type": "code",
   "execution_count": 2,
   "metadata": {},
   "outputs": [],
   "source": [
    "## Loading Constants\n",
    "start = \"2008-01-01\"\n",
    "end = datetime(2021,1,1).strftime(\"%Y-%m-%d\")\n",
    "market = Market()\n",
    "market.connect()\n",
    "tickers = market.retrieve_data(\"sp500\").sort_values(\"Symbol\")\n",
    "market.close()\n",
    "strat = SectorSpecific()\n",
    "qfc = QuarterlyFinancialCategorical()"
   ]
  },
  {
   "cell_type": "code",
   "execution_count": 3,
   "metadata": {},
   "outputs": [],
   "source": [
    "categories = qfc.retrieve_data(\"stock_category_sim\")"
   ]
  },
  {
   "cell_type": "code",
   "execution_count": 4,
   "metadata": {},
   "outputs": [
    {
     "data": {
      "text/plain": [
       "Index(['_id', 'year', 'quarter', 'ticker', 'prediction'], dtype='object')"
      ]
     },
     "execution_count": 4,
     "metadata": {},
     "output_type": "execute_result"
    }
   ],
   "source": [
    "categories.columns"
   ]
  },
  {
   "cell_type": "code",
   "execution_count": 16,
   "metadata": {},
   "outputs": [],
   "source": [
    "market.connect()\n",
    "classification = market.retrieve_data(\"dataset_week_classification\")\n",
    "regression = market.retrieve_data(\"dataset_week_regression\")\n",
    "market.close()\n",
    "classification = classification[:-2]\n",
    "regression = regression[:-2]"
   ]
  },
  {
   "cell_type": "code",
   "execution_count": 28,
   "metadata": {},
   "outputs": [],
   "source": [
    "gap = 5\n",
    "week_gap = int(gap/5)\n",
    "training_years = 1\n",
    "quarterly_range = range(1,5)\n",
    "yearly_range = range(2012,2021)"
   ]
  },
  {
   "cell_type": "code",
   "execution_count": 30,
   "metadata": {
    "scrolled": true
   },
   "outputs": [
    {
     "name": "stderr",
     "output_type": "stream",
     "text": [
      "  0%|                                                                                                                                                                                                                    | 0/9 [00:00<?, ?it/s]\n",
      "  0%|                                                                                                                                                                                                                    | 0/4 [00:00<?, ?it/s]\u001b[A"
     ]
    },
    {
     "name": "stdout",
     "output_type": "stream",
     "text": [
      "can only convert an array of size 1 to a Python scalar\n",
      "can only convert an array of size 1 to a Python scalar\n",
      "\"['CRL'] not in index\"\n",
      "\"['CZR'] not in index\"\n",
      "\"['D'] not in index\"\n",
      "\"['ENPH'] not in index\"\n",
      "\"['GNRC'] not in index\"\n",
      "\"['MPWR'] not in index\"\n",
      "\"['NXPI'] not in index\"\n",
      "\"['PENN'] not in index\"\n",
      "\"['PTC'] not in index\"\n",
      "\"['TRMB'] not in index\"\n"
     ]
    },
    {
     "name": "stderr",
     "output_type": "stream",
     "text": [
      "\n",
      " 25%|██████████████████████████████████████████████████                                                                                                                                                      | 1/4 [20:09<1:00:28, 1209.50s/it]\u001b[A"
     ]
    },
    {
     "name": "stdout",
     "output_type": "stream",
     "text": [
      "\"['ZBRA'] not in index\"\n",
      "\"['ZION'] not in index\"\n",
      "\"['ZTS'] not in index\"\n",
      "can only convert an array of size 1 to a Python scalar\n",
      "can only convert an array of size 1 to a Python scalar\n",
      "\"['CRL'] not in index\"\n",
      "\"['CZR'] not in index\"\n",
      "\"['D'] not in index\"\n",
      "\"['ENPH'] not in index\"\n",
      "\"['GNRC'] not in index\"\n",
      "\"['MPWR'] not in index\"\n",
      "\"['NXPI'] not in index\"\n",
      "\"['PENN'] not in index\"\n",
      "\"['PTC'] not in index\"\n",
      "\"['TRMB'] not in index\"\n"
     ]
    },
    {
     "name": "stderr",
     "output_type": "stream",
     "text": [
      "\n",
      " 50%|█████████████████████████████████████████████████████████████████████████████████████████████████████                                                                                                     | 2/4 [40:21<40:20, 1210.30s/it]\u001b[A"
     ]
    },
    {
     "name": "stdout",
     "output_type": "stream",
     "text": [
      "\"['ZBRA'] not in index\"\n",
      "\"['ZION'] not in index\"\n",
      "\"['ZTS'] not in index\"\n",
      "can only convert an array of size 1 to a Python scalar\n",
      "can only convert an array of size 1 to a Python scalar\n",
      "\"['CRL'] not in index\"\n",
      "\"['CZR'] not in index\"\n",
      "\"['D'] not in index\"\n",
      "\"['ENPH'] not in index\"\n",
      "\"['GNRC'] not in index\"\n",
      "\"['MPWR'] not in index\"\n",
      "\"['NXPI'] not in index\"\n",
      "\"['PENN'] not in index\"\n",
      "\"['PTC'] not in index\"\n",
      "\"['TRMB'] not in index\"\n"
     ]
    },
    {
     "name": "stderr",
     "output_type": "stream",
     "text": [
      "\n",
      " 75%|███████████████████████████████████████████████████████████████████████████████████████████████████████████████████████████████████████████████████████▌                                                  | 3/4 [59:45<19:56, 1196.42s/it]\u001b[A"
     ]
    },
    {
     "name": "stdout",
     "output_type": "stream",
     "text": [
      "\"['ZBRA'] not in index\"\n",
      "\"['ZION'] not in index\"\n",
      "\"['ZTS'] not in index\"\n",
      "can only convert an array of size 1 to a Python scalar\n",
      "can only convert an array of size 1 to a Python scalar\n",
      "\"['CRL'] not in index\"\n",
      "\"['CZR'] not in index\"\n",
      "\"['D'] not in index\"\n",
      "\"['ENPH'] not in index\"\n",
      "\"['GNRC'] not in index\"\n",
      "\"['MPWR'] not in index\"\n",
      "\"['NXPI'] not in index\"\n",
      "\"['PENN'] not in index\"\n",
      "\"['PTC'] not in index\"\n",
      "\"['TRMB'] not in index\"\n"
     ]
    },
    {
     "name": "stderr",
     "output_type": "stream",
     "text": [
      "\n",
      "100%|████████████████████████████████████████████████████████████████████████████████████████████████████████████████████████████████████████████████████████████████████████████████████████████████████████| 4/4 [1:19:11<00:00, 1187.99s/it]\u001b[A\n",
      " 11%|█████████████████████▉                                                                                                                                                                               | 1/9 [1:19:11<10:33:35, 4751.95s/it]\n",
      "  0%|                                                                                                                                                                                                                    | 0/4 [00:00<?, ?it/s]\u001b[A"
     ]
    },
    {
     "name": "stdout",
     "output_type": "stream",
     "text": [
      "\"['ZBRA'] not in index\"\n",
      "\"['ZION'] not in index\"\n",
      "\"['ZTS'] not in index\"\n",
      "can only convert an array of size 1 to a Python scalar\n",
      "can only convert an array of size 1 to a Python scalar\n",
      "\"['CRL'] not in index\"\n",
      "\"['CZR'] not in index\"\n",
      "\"['D'] not in index\"\n",
      "\"['ENPH'] not in index\"\n",
      "\"['GNRC'] not in index\"\n",
      "\"['MPWR'] not in index\"\n",
      "\"['NXPI'] not in index\"\n",
      "\"['PENN'] not in index\"\n",
      "\"['PTC'] not in index\"\n",
      "\"['TRMB'] not in index\"\n"
     ]
    },
    {
     "name": "stderr",
     "output_type": "stream",
     "text": [
      "\n",
      " 25%|██████████████████████████████████████████████████                                                                                                                                                      | 1/4 [21:36<1:04:49, 1296.57s/it]\u001b[A"
     ]
    },
    {
     "name": "stdout",
     "output_type": "stream",
     "text": [
      "\"['ZBRA'] not in index\"\n",
      "\"['ZION'] not in index\"\n",
      "\"['ZTS'] not in index\"\n",
      "can only convert an array of size 1 to a Python scalar\n",
      "can only convert an array of size 1 to a Python scalar\n",
      "\"['CRL'] not in index\"\n",
      "\"['CZR'] not in index\"\n",
      "\"['D'] not in index\"\n",
      "\"['ENPH'] not in index\"\n",
      "\"['GNRC'] not in index\"\n",
      "\"['MPWR'] not in index\"\n",
      "\"['NXPI'] not in index\"\n",
      "\"['PENN'] not in index\"\n",
      "\"['PTC'] not in index\"\n",
      "\"['TRMB'] not in index\"\n"
     ]
    },
    {
     "name": "stderr",
     "output_type": "stream",
     "text": [
      "\n",
      " 50%|█████████████████████████████████████████████████████████████████████████████████████████████████████                                                                                                     | 2/4 [43:24<43:19, 1299.91s/it]\u001b[A"
     ]
    },
    {
     "name": "stdout",
     "output_type": "stream",
     "text": [
      "\"['ZBRA'] not in index\"\n",
      "\"['ZION'] not in index\"\n",
      "\"['ZTS'] not in index\"\n",
      "can only convert an array of size 1 to a Python scalar\n",
      "can only convert an array of size 1 to a Python scalar\n",
      "\"['CRL'] not in index\"\n",
      "\"['CZR'] not in index\"\n",
      "\"['D'] not in index\"\n",
      "\"['ENPH'] not in index\"\n",
      "\"['GNRC'] not in index\"\n",
      "\"['MPWR'] not in index\"\n",
      "\"['NXPI'] not in index\"\n",
      "\"['PENN'] not in index\"\n",
      "\"['PTC'] not in index\"\n",
      "\"['TRMB'] not in index\"\n"
     ]
    },
    {
     "name": "stderr",
     "output_type": "stream",
     "text": [
      "\n",
      " 75%|██████████████████████████████████████████████████████████████████████████████████████████████████████████████████████████████████████████████████████                                                  | 3/4 [1:08:55<22:49, 1369.17s/it]\u001b[A"
     ]
    },
    {
     "name": "stdout",
     "output_type": "stream",
     "text": [
      "\"['ZBRA'] not in index\"\n",
      "\"['ZION'] not in index\"\n",
      "\"['ZTS'] not in index\"\n",
      "can only convert an array of size 1 to a Python scalar\n",
      "can only convert an array of size 1 to a Python scalar\n",
      "\"['CRL'] not in index\"\n",
      "\"['CZR'] not in index\"\n",
      "\"['D'] not in index\"\n",
      "\"['ENPH'] not in index\"\n",
      "\"['GNRC'] not in index\"\n",
      "\"['MPWR'] not in index\"\n",
      "\"['NXPI'] not in index\"\n",
      "\"['PENN'] not in index\"\n",
      "\"['PTC'] not in index\"\n",
      "\"['TRMB'] not in index\"\n"
     ]
    },
    {
     "name": "stderr",
     "output_type": "stream",
     "text": [
      "\n",
      "100%|████████████████████████████████████████████████████████████████████████████████████████████████████████████████████████████████████████████████████████████████████████████████████████████████████████| 4/4 [1:34:48<00:00, 1422.19s/it]\u001b[A\n",
      " 22%|████████████████████████████████████████████                                                                                                                                                          | 2/9 [2:54:00<9:47:11, 5033.00s/it]\n",
      "  0%|                                                                                                                                                                                                                    | 0/4 [00:00<?, ?it/s]\u001b[A"
     ]
    },
    {
     "name": "stdout",
     "output_type": "stream",
     "text": [
      "\"['ZBRA'] not in index\"\n",
      "\"['ZION'] not in index\"\n",
      "\"['ZTS'] not in index\"\n",
      "can only convert an array of size 1 to a Python scalar\n",
      "can only convert an array of size 1 to a Python scalar\n",
      "\"['CRL'] not in index\"\n",
      "\"['CZR'] not in index\"\n",
      "\"['D'] not in index\"\n",
      "\"['ENPH'] not in index\"\n",
      "\"['GNRC'] not in index\"\n",
      "\"['MPWR'] not in index\"\n",
      "\"['NXPI'] not in index\"\n",
      "\"['PENN'] not in index\"\n",
      "\"['PTC'] not in index\"\n",
      "\"['TRMB'] not in index\"\n"
     ]
    },
    {
     "name": "stderr",
     "output_type": "stream",
     "text": [
      "\n",
      " 25%|██████████████████████████████████████████████████                                                                                                                                                      | 1/4 [26:13<1:18:41, 1573.76s/it]\u001b[A"
     ]
    },
    {
     "name": "stdout",
     "output_type": "stream",
     "text": [
      "\"['ZBRA'] not in index\"\n",
      "\"['ZION'] not in index\"\n",
      "\"['ZTS'] not in index\"\n",
      "can only convert an array of size 1 to a Python scalar\n",
      "can only convert an array of size 1 to a Python scalar\n",
      "\"['CRL'] not in index\"\n",
      "\"['CZR'] not in index\"\n",
      "\"['D'] not in index\"\n",
      "\"['ENPH'] not in index\"\n",
      "\"['GNRC'] not in index\"\n",
      "\"['MPWR'] not in index\"\n",
      "\"['NXPI'] not in index\"\n",
      "\"['PENN'] not in index\"\n",
      "\"['PTC'] not in index\"\n",
      "\"['TRMB'] not in index\"\n"
     ]
    },
    {
     "name": "stderr",
     "output_type": "stream",
     "text": [
      "\n",
      " 50%|█████████████████████████████████████████████████████████████████████████████████████████████████████                                                                                                     | 2/4 [49:25<50:38, 1519.20s/it]\u001b[A"
     ]
    },
    {
     "name": "stdout",
     "output_type": "stream",
     "text": [
      "\"['ZBRA'] not in index\"\n",
      "\"['ZION'] not in index\"\n",
      "\"['ZTS'] not in index\"\n",
      "can only convert an array of size 1 to a Python scalar\n",
      "can only convert an array of size 1 to a Python scalar\n",
      "\"['CRL'] not in index\"\n",
      "\"['CZR'] not in index\"\n",
      "\"['D'] not in index\"\n",
      "\"['ENPH'] not in index\"\n",
      "\"['GNRC'] not in index\"\n",
      "\"['MPWR'] not in index\"\n",
      "\"['NXPI'] not in index\"\n",
      "\"['PENN'] not in index\"\n",
      "\"['PTC'] not in index\"\n",
      "\"['TRMB'] not in index\"\n"
     ]
    },
    {
     "name": "stderr",
     "output_type": "stream",
     "text": [
      "\n",
      " 75%|██████████████████████████████████████████████████████████████████████████████████████████████████████████████████████████████████████████████████████                                                  | 3/4 [1:09:39<23:47, 1427.66s/it]\u001b[A"
     ]
    },
    {
     "name": "stdout",
     "output_type": "stream",
     "text": [
      "\"['ZBRA'] not in index\"\n",
      "\"['ZION'] not in index\"\n",
      "\"['ZTS'] not in index\"\n",
      "can only convert an array of size 1 to a Python scalar\n",
      "can only convert an array of size 1 to a Python scalar\n",
      "\"['CRL'] not in index\"\n",
      "\"['CZR'] not in index\"\n",
      "\"['D'] not in index\"\n",
      "\"['ENPH'] not in index\"\n",
      "\"['GNRC'] not in index\"\n",
      "\"['MPWR'] not in index\"\n",
      "\"['NXPI'] not in index\"\n",
      "\"['PENN'] not in index\"\n",
      "\"['PTC'] not in index\"\n",
      "\"['TRMB'] not in index\"\n"
     ]
    },
    {
     "name": "stderr",
     "output_type": "stream",
     "text": [
      "\n",
      "100%|████████████████████████████████████████████████████████████████████████████████████████████████████████████████████████████████████████████████████████████████████████████████████████████████████████| 4/4 [1:29:56<00:00, 1349.08s/it]\u001b[A\n",
      " 33%|██████████████████████████████████████████████████████████████████                                                                                                                                    | 3/9 [4:23:57<8:34:12, 5142.00s/it]\n",
      "  0%|                                                                                                                                                                                                                    | 0/4 [00:00<?, ?it/s]\u001b[A"
     ]
    },
    {
     "name": "stdout",
     "output_type": "stream",
     "text": [
      "\"['ZBRA'] not in index\"\n",
      "\"['ZION'] not in index\"\n",
      "\"['ZTS'] not in index\"\n",
      "can only convert an array of size 1 to a Python scalar\n",
      "can only convert an array of size 1 to a Python scalar\n",
      "\"['CRL'] not in index\"\n",
      "\"['CZR'] not in index\"\n",
      "\"['D'] not in index\"\n",
      "\"['ENPH'] not in index\"\n",
      "\"['GNRC'] not in index\"\n",
      "\"['MPWR'] not in index\"\n",
      "\"['NXPI'] not in index\"\n",
      "\"['PENN'] not in index\"\n",
      "\"['PTC'] not in index\"\n",
      "\"['TRMB'] not in index\"\n"
     ]
    },
    {
     "name": "stderr",
     "output_type": "stream",
     "text": [
      "\n",
      " 25%|██████████████████████████████████████████████████                                                                                                                                                      | 1/4 [20:16<1:00:49, 1216.35s/it]\u001b[A"
     ]
    },
    {
     "name": "stdout",
     "output_type": "stream",
     "text": [
      "\"['ZBRA'] not in index\"\n",
      "\"['ZION'] not in index\"\n",
      "\"['ZTS'] not in index\"\n",
      "can only convert an array of size 1 to a Python scalar\n",
      "can only convert an array of size 1 to a Python scalar\n",
      "\"['CRL'] not in index\"\n",
      "\"['CZR'] not in index\"\n",
      "\"['D'] not in index\"\n",
      "\"['ENPH'] not in index\"\n",
      "\"['GNRC'] not in index\"\n",
      "\"['MPWR'] not in index\"\n",
      "\"['NXPI'] not in index\"\n",
      "\"['PENN'] not in index\"\n",
      "\"['PTC'] not in index\"\n",
      "\"['TRMB'] not in index\"\n"
     ]
    },
    {
     "name": "stderr",
     "output_type": "stream",
     "text": [
      "\n",
      " 50%|█████████████████████████████████████████████████████████████████████████████████████████████████████                                                                                                     | 2/4 [40:32<40:32, 1216.16s/it]\u001b[A"
     ]
    },
    {
     "name": "stdout",
     "output_type": "stream",
     "text": [
      "\"['ZBRA'] not in index\"\n",
      "\"['ZION'] not in index\"\n",
      "\"['ZTS'] not in index\"\n",
      "can only convert an array of size 1 to a Python scalar\n",
      "can only convert an array of size 1 to a Python scalar\n",
      "\"['CRL'] not in index\"\n",
      "\"['CZR'] not in index\"\n",
      "\"['D'] not in index\"\n",
      "\"['ENPH'] not in index\"\n",
      "\"['GNRC'] not in index\"\n",
      "\"['MPWR'] not in index\"\n",
      "\"['NXPI'] not in index\"\n",
      "\"['PENN'] not in index\"\n",
      "\"['PTC'] not in index\"\n",
      "\"['TRMB'] not in index\"\n"
     ]
    },
    {
     "name": "stderr",
     "output_type": "stream",
     "text": [
      "\n",
      " 75%|██████████████████████████████████████████████████████████████████████████████████████████████████████████████████████████████████████████████████████                                                  | 3/4 [1:00:45<20:15, 1215.35s/it]\u001b[A"
     ]
    },
    {
     "name": "stdout",
     "output_type": "stream",
     "text": [
      "\"['ZBRA'] not in index\"\n",
      "\"['ZION'] not in index\"\n",
      "\"['ZTS'] not in index\"\n",
      "can only convert an array of size 1 to a Python scalar\n",
      "can only convert an array of size 1 to a Python scalar\n",
      "\"['CRL'] not in index\"\n",
      "\"['CZR'] not in index\"\n",
      "\"['D'] not in index\"\n",
      "\"['ENPH'] not in index\"\n",
      "\"['GNRC'] not in index\"\n",
      "\"['MPWR'] not in index\"\n",
      "\"['NXPI'] not in index\"\n",
      "\"['PENN'] not in index\"\n",
      "\"['PTC'] not in index\"\n",
      "\"['TRMB'] not in index\"\n"
     ]
    },
    {
     "name": "stderr",
     "output_type": "stream",
     "text": [
      "\n",
      "100%|████████████████████████████████████████████████████████████████████████████████████████████████████████████████████████████████████████████████████████████████████████████████████████████████████████| 4/4 [1:20:49<00:00, 1212.31s/it]\u001b[A\n",
      " 44%|████████████████████████████████████████████████████████████████████████████████████████                                                                                                              | 4/9 [5:44:46<7:01:10, 5054.17s/it]\n",
      "  0%|                                                                                                                                                                                                                    | 0/4 [00:00<?, ?it/s]\u001b[A"
     ]
    },
    {
     "name": "stdout",
     "output_type": "stream",
     "text": [
      "\"['ZBRA'] not in index\"\n",
      "\"['ZION'] not in index\"\n",
      "\"['ZTS'] not in index\"\n",
      "can only convert an array of size 1 to a Python scalar\n",
      "can only convert an array of size 1 to a Python scalar\n",
      "\"['CRL'] not in index\"\n",
      "\"['CZR'] not in index\"\n",
      "\"['D'] not in index\"\n",
      "\"['ENPH'] not in index\"\n",
      "\"['GNRC'] not in index\"\n",
      "\"['MPWR'] not in index\"\n",
      "\"['NXPI'] not in index\"\n",
      "\"['PENN'] not in index\"\n",
      "\"['PTC'] not in index\"\n",
      "\"['TRMB'] not in index\"\n"
     ]
    },
    {
     "name": "stderr",
     "output_type": "stream",
     "text": [
      "\n",
      " 25%|██████████████████████████████████████████████████                                                                                                                                                      | 1/4 [20:02<1:00:07, 1202.44s/it]\u001b[A"
     ]
    },
    {
     "name": "stdout",
     "output_type": "stream",
     "text": [
      "\"['ZBRA'] not in index\"\n",
      "\"['ZION'] not in index\"\n",
      "\"['ZTS'] not in index\"\n",
      "can only convert an array of size 1 to a Python scalar\n",
      "can only convert an array of size 1 to a Python scalar\n",
      "\"['CRL'] not in index\"\n",
      "\"['CZR'] not in index\"\n",
      "\"['D'] not in index\"\n",
      "\"['ENPH'] not in index\"\n",
      "\"['GNRC'] not in index\"\n",
      "\"['MPWR'] not in index\"\n",
      "\"['NXPI'] not in index\"\n",
      "\"['PENN'] not in index\"\n",
      "\"['PTC'] not in index\"\n",
      "\"['TRMB'] not in index\"\n"
     ]
    },
    {
     "name": "stderr",
     "output_type": "stream",
     "text": [
      "\n",
      " 50%|█████████████████████████████████████████████████████████████████████████████████████████████████████                                                                                                     | 2/4 [39:58<40:00, 1200.42s/it]\u001b[A"
     ]
    },
    {
     "name": "stdout",
     "output_type": "stream",
     "text": [
      "\"['ZBRA'] not in index\"\n",
      "\"['ZION'] not in index\"\n",
      "\"['ZTS'] not in index\"\n",
      "can only convert an array of size 1 to a Python scalar\n",
      "can only convert an array of size 1 to a Python scalar\n",
      "\"['CRL'] not in index\"\n",
      "\"['CZR'] not in index\"\n",
      "\"['D'] not in index\"\n",
      "\"['ENPH'] not in index\"\n",
      "\"['GNRC'] not in index\"\n",
      "\"['MPWR'] not in index\"\n",
      "\"['NXPI'] not in index\"\n",
      "\"['PENN'] not in index\"\n",
      "\"['PTC'] not in index\"\n",
      "\"['TRMB'] not in index\"\n"
     ]
    },
    {
     "name": "stderr",
     "output_type": "stream",
     "text": [
      "\n",
      " 75%|███████████████████████████████████████████████████████████████████████████████████████████████████████████████████████████████████████████████████████▌                                                  | 3/4 [59:52<19:58, 1198.68s/it]\u001b[A"
     ]
    },
    {
     "name": "stdout",
     "output_type": "stream",
     "text": [
      "\"['ZBRA'] not in index\"\n",
      "\"['ZION'] not in index\"\n",
      "\"['ZTS'] not in index\"\n",
      "can only convert an array of size 1 to a Python scalar\n",
      "can only convert an array of size 1 to a Python scalar\n",
      "\"['CRL'] not in index\"\n",
      "\"['CZR'] not in index\"\n",
      "\"['D'] not in index\"\n",
      "\"['ENPH'] not in index\"\n",
      "\"['GNRC'] not in index\"\n",
      "\"['MPWR'] not in index\"\n",
      "\"['NXPI'] not in index\"\n",
      "\"['PENN'] not in index\"\n",
      "\"['PTC'] not in index\"\n",
      "\"['TRMB'] not in index\"\n"
     ]
    },
    {
     "name": "stderr",
     "output_type": "stream",
     "text": [
      "\n",
      "100%|████████████████████████████████████████████████████████████████████████████████████████████████████████████████████████████████████████████████████████████████████████████████████████████████████████| 4/4 [1:19:52<00:00, 1198.04s/it]\u001b[A\n",
      " 56%|██████████████████████████████████████████████████████████████████████████████████████████████████████████████                                                                                        | 5/9 [7:04:38<5:31:42, 4975.57s/it]\n",
      "  0%|                                                                                                                                                                                                                    | 0/4 [00:00<?, ?it/s]\u001b[A"
     ]
    },
    {
     "name": "stdout",
     "output_type": "stream",
     "text": [
      "\"['ZBRA'] not in index\"\n",
      "\"['ZION'] not in index\"\n",
      "\"['ZTS'] not in index\"\n",
      "can only convert an array of size 1 to a Python scalar\n",
      "can only convert an array of size 1 to a Python scalar\n",
      "\"['CRL'] not in index\"\n",
      "\"['CZR'] not in index\"\n",
      "\"['D'] not in index\"\n",
      "\"['ENPH'] not in index\"\n",
      "\"['GNRC'] not in index\"\n",
      "\"['MPWR'] not in index\"\n",
      "\"['NXPI'] not in index\"\n",
      "\"['PENN'] not in index\"\n",
      "\"['PTC'] not in index\"\n",
      "\"['TRMB'] not in index\"\n"
     ]
    },
    {
     "name": "stderr",
     "output_type": "stream",
     "text": [
      "\n",
      " 25%|██████████████████████████████████████████████████▌                                                                                                                                                       | 1/4 [19:46<59:18, 1186.13s/it]\u001b[A"
     ]
    },
    {
     "name": "stdout",
     "output_type": "stream",
     "text": [
      "\"['ZBRA'] not in index\"\n",
      "\"['ZION'] not in index\"\n",
      "\"['ZTS'] not in index\"\n",
      "can only convert an array of size 1 to a Python scalar\n",
      "can only convert an array of size 1 to a Python scalar\n",
      "\"['CRL'] not in index\"\n",
      "\"['CZR'] not in index\"\n",
      "\"['D'] not in index\"\n",
      "\"['ENPH'] not in index\"\n",
      "\"['GNRC'] not in index\"\n",
      "\"['MPWR'] not in index\"\n",
      "\"['NXPI'] not in index\"\n",
      "\"['PENN'] not in index\"\n",
      "\"['PTC'] not in index\"\n",
      "\"['TRMB'] not in index\"\n"
     ]
    },
    {
     "name": "stderr",
     "output_type": "stream",
     "text": [
      "\n",
      " 50%|█████████████████████████████████████████████████████████████████████████████████████████████████████                                                                                                     | 2/4 [39:25<39:27, 1183.96s/it]\u001b[A"
     ]
    },
    {
     "name": "stdout",
     "output_type": "stream",
     "text": [
      "\"['ZBRA'] not in index\"\n",
      "\"['ZION'] not in index\"\n",
      "\"['ZTS'] not in index\"\n",
      "can only convert an array of size 1 to a Python scalar\n",
      "can only convert an array of size 1 to a Python scalar\n",
      "\"['CRL'] not in index\"\n",
      "\"['CZR'] not in index\"\n",
      "\"['D'] not in index\"\n",
      "\"['ENPH'] not in index\"\n",
      "\"['GNRC'] not in index\"\n",
      "\"['MPWR'] not in index\"\n",
      "\"['NXPI'] not in index\"\n",
      "\"['PENN'] not in index\"\n",
      "\"['PTC'] not in index\"\n",
      "\"['TRMB'] not in index\"\n"
     ]
    },
    {
     "name": "stderr",
     "output_type": "stream",
     "text": [
      "\n",
      " 75%|███████████████████████████████████████████████████████████████████████████████████████████████████████████████████████████████████████████████████████▌                                                  | 3/4 [58:52<19:39, 1179.01s/it]\u001b[A"
     ]
    },
    {
     "name": "stdout",
     "output_type": "stream",
     "text": [
      "\"['ZBRA'] not in index\"\n",
      "\"['ZION'] not in index\"\n",
      "\"['ZTS'] not in index\"\n",
      "can only convert an array of size 1 to a Python scalar\n",
      "can only convert an array of size 1 to a Python scalar\n",
      "\"['CRL'] not in index\"\n",
      "\"['CZR'] not in index\"\n",
      "\"['D'] not in index\"\n",
      "\"['ENPH'] not in index\"\n",
      "\"['GNRC'] not in index\"\n",
      "\"['MPWR'] not in index\"\n",
      "\"['NXPI'] not in index\"\n",
      "\"['PENN'] not in index\"\n",
      "\"['PTC'] not in index\"\n",
      "\"['TRMB'] not in index\"\n"
     ]
    },
    {
     "name": "stderr",
     "output_type": "stream",
     "text": [
      "\n",
      "100%|████████████████████████████████████████████████████████████████████████████████████████████████████████████████████████████████████████████████████████████████████████████████████████████████████████| 4/4 [1:18:20<00:00, 1175.03s/it]\u001b[A\n",
      " 67%|████████████████████████████████████████████████████████████████████████████████████████████████████████████████████████████████████                                                                  | 6/9 [8:22:58<4:04:38, 4892.93s/it]\n",
      "  0%|                                                                                                                                                                                                                    | 0/4 [00:00<?, ?it/s]\u001b[A"
     ]
    },
    {
     "name": "stdout",
     "output_type": "stream",
     "text": [
      "\"['ZBRA'] not in index\"\n",
      "\"['ZION'] not in index\"\n",
      "\"['ZTS'] not in index\"\n",
      "can only convert an array of size 1 to a Python scalar\n",
      "can only convert an array of size 1 to a Python scalar\n",
      "\"['CRL'] not in index\"\n",
      "\"['CZR'] not in index\"\n",
      "\"['D'] not in index\"\n",
      "\"['ENPH'] not in index\"\n",
      "\"['GNRC'] not in index\"\n",
      "\"['MPWR'] not in index\"\n",
      "\"['NXPI'] not in index\"\n",
      "\"['PENN'] not in index\"\n",
      "\"['PTC'] not in index\"\n",
      "\"['TRMB'] not in index\"\n"
     ]
    },
    {
     "name": "stderr",
     "output_type": "stream",
     "text": [
      "\n",
      " 25%|██████████████████████████████████████████████████▌                                                                                                                                                       | 1/4 [19:35<58:46, 1175.61s/it]\u001b[A"
     ]
    },
    {
     "name": "stdout",
     "output_type": "stream",
     "text": [
      "\"['ZBRA'] not in index\"\n",
      "\"['ZION'] not in index\"\n",
      "\"['ZTS'] not in index\"\n",
      "can only convert an array of size 1 to a Python scalar\n",
      "can only convert an array of size 1 to a Python scalar\n",
      "\"['CRL'] not in index\"\n",
      "\"['CZR'] not in index\"\n",
      "\"['D'] not in index\"\n",
      "\"['ENPH'] not in index\"\n",
      "\"['GNRC'] not in index\"\n",
      "\"['MPWR'] not in index\"\n",
      "\"['NXPI'] not in index\"\n",
      "\"['PENN'] not in index\"\n",
      "\"['PTC'] not in index\"\n",
      "\"['TRMB'] not in index\"\n"
     ]
    },
    {
     "name": "stderr",
     "output_type": "stream",
     "text": [
      "\n",
      " 50%|█████████████████████████████████████████████████████████████████████████████████████████████████████                                                                                                     | 2/4 [39:05<39:07, 1173.98s/it]\u001b[A"
     ]
    },
    {
     "name": "stdout",
     "output_type": "stream",
     "text": [
      "\"['ZBRA'] not in index\"\n",
      "\"['ZION'] not in index\"\n",
      "\"['ZTS'] not in index\"\n",
      "can only convert an array of size 1 to a Python scalar\n",
      "can only convert an array of size 1 to a Python scalar\n",
      "\"['CRL'] not in index\"\n",
      "\"['CZR'] not in index\"\n",
      "\"['D'] not in index\"\n",
      "\"['ENPH'] not in index\"\n",
      "\"['GNRC'] not in index\"\n",
      "\"['MPWR'] not in index\"\n",
      "\"['NXPI'] not in index\"\n",
      "\"['PENN'] not in index\"\n",
      "\"['PTC'] not in index\"\n",
      "\"['TRMB'] not in index\"\n"
     ]
    },
    {
     "name": "stderr",
     "output_type": "stream",
     "text": [
      "\n",
      " 75%|███████████████████████████████████████████████████████████████████████████████████████████████████████████████████████████████████████████████████████▌                                                  | 3/4 [58:37<19:33, 1173.45s/it]\u001b[A"
     ]
    },
    {
     "name": "stdout",
     "output_type": "stream",
     "text": [
      "\"['ZBRA'] not in index\"\n",
      "\"['ZION'] not in index\"\n",
      "\"['ZTS'] not in index\"\n",
      "can only convert an array of size 1 to a Python scalar\n",
      "can only convert an array of size 1 to a Python scalar\n",
      "\"['CRL'] not in index\"\n",
      "\"['CZR'] not in index\"\n",
      "\"['D'] not in index\"\n",
      "\"['ENPH'] not in index\"\n",
      "\"['GNRC'] not in index\"\n",
      "\"['MPWR'] not in index\"\n",
      "\"['NXPI'] not in index\"\n",
      "\"['PENN'] not in index\"\n",
      "\"['PTC'] not in index\"\n",
      "\"['TRMB'] not in index\"\n"
     ]
    },
    {
     "name": "stderr",
     "output_type": "stream",
     "text": [
      "\n",
      "100%|████████████████████████████████████████████████████████████████████████████████████████████████████████████████████████████████████████████████████████████████████████████████████████████████████████| 4/4 [1:18:11<00:00, 1172.82s/it]\u001b[A\n",
      " 78%|██████████████████████████████████████████████████████████████████████████████████████████████████████████████████████████████████████████████████████████                                            | 7/9 [9:41:09<2:41:04, 4832.43s/it]\n",
      "  0%|                                                                                                                                                                                                                    | 0/4 [00:00<?, ?it/s]\u001b[A"
     ]
    },
    {
     "name": "stdout",
     "output_type": "stream",
     "text": [
      "\"['ZBRA'] not in index\"\n",
      "\"['ZION'] not in index\"\n",
      "\"['ZTS'] not in index\"\n",
      "can only convert an array of size 1 to a Python scalar\n",
      "can only convert an array of size 1 to a Python scalar\n",
      "\"['CRL'] not in index\"\n",
      "\"['CZR'] not in index\"\n",
      "\"['D'] not in index\"\n",
      "\"['ENPH'] not in index\"\n",
      "\"['GNRC'] not in index\"\n",
      "\"['MPWR'] not in index\"\n",
      "\"['NXPI'] not in index\"\n",
      "\"['PENN'] not in index\"\n",
      "\"['PTC'] not in index\"\n",
      "\"['TRMB'] not in index\"\n"
     ]
    },
    {
     "name": "stderr",
     "output_type": "stream",
     "text": [
      "\n",
      " 25%|██████████████████████████████████████████████████▌                                                                                                                                                       | 1/4 [19:26<58:20, 1166.87s/it]\u001b[A"
     ]
    },
    {
     "name": "stdout",
     "output_type": "stream",
     "text": [
      "\"['ZBRA'] not in index\"\n",
      "\"['ZION'] not in index\"\n",
      "\"['ZTS'] not in index\"\n",
      "can only convert an array of size 1 to a Python scalar\n",
      "can only convert an array of size 1 to a Python scalar\n",
      "\"['CRL'] not in index\"\n",
      "\"['CZR'] not in index\"\n",
      "\"['D'] not in index\"\n",
      "\"['ENPH'] not in index\"\n",
      "\"['GNRC'] not in index\"\n",
      "\"['MPWR'] not in index\"\n",
      "\"['NXPI'] not in index\"\n",
      "\"['PENN'] not in index\"\n",
      "\"['PTC'] not in index\"\n",
      "\"['TRMB'] not in index\"\n"
     ]
    },
    {
     "name": "stderr",
     "output_type": "stream",
     "text": [
      "\n",
      " 50%|█████████████████████████████████████████████████████████████████████████████████████████████████████                                                                                                     | 2/4 [38:53<38:53, 1166.86s/it]\u001b[A"
     ]
    },
    {
     "name": "stdout",
     "output_type": "stream",
     "text": [
      "\"['ZBRA'] not in index\"\n",
      "\"['ZION'] not in index\"\n",
      "\"['ZTS'] not in index\"\n",
      "can only convert an array of size 1 to a Python scalar\n",
      "can only convert an array of size 1 to a Python scalar\n",
      "\"['CRL'] not in index\"\n",
      "\"['CZR'] not in index\"\n",
      "\"['D'] not in index\"\n",
      "\"['ENPH'] not in index\"\n",
      "\"['GNRC'] not in index\"\n",
      "\"['MPWR'] not in index\"\n",
      "\"['NXPI'] not in index\"\n",
      "\"['PENN'] not in index\"\n",
      "\"['PTC'] not in index\"\n",
      "\"['TRMB'] not in index\"\n"
     ]
    },
    {
     "name": "stderr",
     "output_type": "stream",
     "text": [
      "\n",
      " 75%|███████████████████████████████████████████████████████████████████████████████████████████████████████████████████████████████████████████████████████▌                                                  | 3/4 [58:27<19:28, 1168.98s/it]\u001b[A"
     ]
    },
    {
     "name": "stdout",
     "output_type": "stream",
     "text": [
      "\"['ZBRA'] not in index\"\n",
      "\"['ZION'] not in index\"\n",
      "\"['ZTS'] not in index\"\n",
      "can only convert an array of size 1 to a Python scalar\n",
      "can only convert an array of size 1 to a Python scalar\n",
      "\"['CRL'] not in index\"\n",
      "\"['CZR'] not in index\"\n",
      "\"['D'] not in index\"\n",
      "\"['ENPH'] not in index\"\n",
      "\"['GNRC'] not in index\"\n",
      "\"['MPWR'] not in index\"\n",
      "\"['NXPI'] not in index\"\n",
      "\"['PENN'] not in index\"\n",
      "\"['PTC'] not in index\"\n",
      "\"['TRMB'] not in index\"\n"
     ]
    },
    {
     "name": "stderr",
     "output_type": "stream",
     "text": [
      "\n",
      "100%|████████████████████████████████████████████████████████████████████████████████████████████████████████████████████████████████████████████████████████████████████████████████████████████████████████| 4/4 [1:18:09<00:00, 1172.35s/it]\u001b[A\n",
      " 89%|███████████████████████████████████████████████████████████████████████████████████████████████████████████████████████████████████████████████████████████████████████████████                      | 8/9 [10:59:19<1:19:49, 4789.53s/it]\n",
      "  0%|                                                                                                                                                                                                                    | 0/4 [00:00<?, ?it/s]\u001b[A"
     ]
    },
    {
     "name": "stdout",
     "output_type": "stream",
     "text": [
      "\"['ZBRA'] not in index\"\n",
      "\"['ZION'] not in index\"\n",
      "\"['ZTS'] not in index\"\n",
      "can only convert an array of size 1 to a Python scalar\n",
      "can only convert an array of size 1 to a Python scalar\n",
      "\"['CRL'] not in index\"\n",
      "\"['CZR'] not in index\"\n",
      "\"['D'] not in index\"\n",
      "\"['ENPH'] not in index\"\n",
      "\"['GNRC'] not in index\"\n",
      "\"['MPWR'] not in index\"\n",
      "\"['NXPI'] not in index\"\n",
      "\"['PENN'] not in index\"\n",
      "\"['PTC'] not in index\"\n",
      "\"['TRMB'] not in index\"\n"
     ]
    },
    {
     "name": "stderr",
     "output_type": "stream",
     "text": [
      "\n",
      " 25%|██████████████████████████████████████████████████▌                                                                                                                                                       | 1/4 [19:42<59:08, 1182.83s/it]\u001b[A"
     ]
    },
    {
     "name": "stdout",
     "output_type": "stream",
     "text": [
      "\"['ZBRA'] not in index\"\n",
      "\"['ZION'] not in index\"\n",
      "\"['ZTS'] not in index\"\n",
      "can only convert an array of size 1 to a Python scalar\n",
      "can only convert an array of size 1 to a Python scalar\n",
      "\"['CRL'] not in index\"\n",
      "\"['CZR'] not in index\"\n",
      "\"['D'] not in index\"\n",
      "\"['ENPH'] not in index\"\n",
      "\"['GNRC'] not in index\"\n",
      "\"['MPWR'] not in index\"\n",
      "\"['NXPI'] not in index\"\n",
      "\"['PENN'] not in index\"\n",
      "\"['PTC'] not in index\"\n",
      "\"['TRMB'] not in index\"\n"
     ]
    },
    {
     "name": "stderr",
     "output_type": "stream",
     "text": [
      "\n",
      " 50%|█████████████████████████████████████████████████████████████████████████████████████████████████████                                                                                                     | 2/4 [39:46<39:38, 1189.22s/it]\u001b[A"
     ]
    },
    {
     "name": "stdout",
     "output_type": "stream",
     "text": [
      "\"['ZBRA'] not in index\"\n",
      "\"['ZION'] not in index\"\n",
      "\"['ZTS'] not in index\"\n",
      "can only convert an array of size 1 to a Python scalar\n",
      "can only convert an array of size 1 to a Python scalar\n",
      "\"['CRL'] not in index\"\n",
      "\"['CZR'] not in index\"\n",
      "\"['D'] not in index\"\n",
      "\"['ENPH'] not in index\"\n",
      "\"['GNRC'] not in index\"\n",
      "\"['MPWR'] not in index\"\n",
      "\"['NXPI'] not in index\"\n",
      "\"['PENN'] not in index\"\n",
      "\"['PTC'] not in index\"\n",
      "\"['TRMB'] not in index\"\n"
     ]
    },
    {
     "name": "stderr",
     "output_type": "stream",
     "text": [
      "\n",
      " 75%|██████████████████████████████████████████████████████████████████████████████████████████████████████████████████████████████████████████████████████                                                  | 3/4 [1:00:07<19:58, 1198.74s/it]\u001b[A"
     ]
    },
    {
     "name": "stdout",
     "output_type": "stream",
     "text": [
      "\"['ZBRA'] not in index\"\n",
      "\"['ZION'] not in index\"\n",
      "\"['ZTS'] not in index\"\n",
      "can only convert an array of size 1 to a Python scalar\n",
      "can only convert an array of size 1 to a Python scalar\n",
      "\"['CRL'] not in index\"\n",
      "\"['CZR'] not in index\"\n",
      "\"['D'] not in index\"\n",
      "\"['ENPH'] not in index\"\n",
      "\"['GNRC'] not in index\"\n",
      "\"['MPWR'] not in index\"\n",
      "\"['NXPI'] not in index\"\n",
      "\"['PENN'] not in index\"\n",
      "\"['PTC'] not in index\"\n",
      "\"['TRMB'] not in index\"\n"
     ]
    },
    {
     "name": "stderr",
     "output_type": "stream",
     "text": [
      "\n",
      "100%|████████████████████████████████████████████████████████████████████████████████████████████████████████████████████████████████████████████████████████████████████████████████████████████████████████| 4/4 [1:20:26<00:00, 1206.56s/it]\u001b[A\n",
      "100%|███████████████████████████████████████████████████████████████████████████████████████████████████████████████████████████████████████████████████████████████████████████████████████████████████████| 9/9 [12:19:45<00:00, 4931.72s/it]"
     ]
    },
    {
     "name": "stdout",
     "output_type": "stream",
     "text": [
      "\"['ZBRA'] not in index\"\n",
      "\"['ZION'] not in index\"\n",
      "\"['ZTS'] not in index\"\n"
     ]
    },
    {
     "name": "stderr",
     "output_type": "stream",
     "text": [
      "\n"
     ]
    }
   ],
   "source": [
    "for year in tqdm(yearly_range):\n",
    "    for quarter in tqdm(quarterly_range):\n",
    "        for ticker in tickers[\"Symbol\"].unique():\n",
    "            try:\n",
    "                if \".\" in ticker:\n",
    "                    ticker = ticker.replace(\".\",\"-\")\n",
    "                category = tickers[tickers[\"Symbol\"]==ticker][\"GICS Sector\"]\n",
    "                if len(category) > 1:\n",
    "                    category = category.iloc[0]\n",
    "                group_tickers = tickers[(tickers[\"GICS Sector\"] == category.item())]\n",
    "                try:\n",
    "                    factors = list(group_tickers[\"Symbol\"].unique())\n",
    "                    factors = [x if \".\" not in x else x.replace(\".\",\"-\") for x in factors]\n",
    "                    factors = [x for x in factors if x in list(regression.columns)]\n",
    "                    factors.extend([\"year\",\"quarter\",\"week\"])\n",
    "                    ticker_class = classification.copy()[[\"year\",\"quarter\",\"week\",ticker]].rename(columns={ticker:\"y_class\"})\n",
    "                    ticker_regr = regression.copy()[[\"year\",\"quarter\",\"week\",ticker]].rename(columns={ticker:str(0)})\n",
    "                    test = ticker_regr.merge(ticker_class,on=[\"year\",\"quarter\",\"week\"])\n",
    "                    test = test.merge(regression[factors].drop(ticker,axis=1,errors=\"ignore\"),on=[\"year\",\"quarter\",\"week\"])\n",
    "                    for i in range(1,14):\n",
    "                        test[str(i)] = test[str(0)].shift(1)\n",
    "                    test[\"y\"] = test[str(0)].shift(-1)\n",
    "                    test[\"y_class\"] = test[\"y_class\"].shift(-1)\n",
    "                    f = test.dropna()\n",
    "                    for col in [\"year\",\"quarter\",\"week\"]:\n",
    "                        f[col] = [int(x) for x in f[col]]\n",
    "                    f[\"date\"] = [datetime(int(row[1][\"year\"]),int((row[1][\"quarter\"] * 3) - 2),1) for row in f.iterrows()]\n",
    "                    f[\"ticker\"] = ticker\n",
    "                except Exception as e:\n",
    "                    print(str(e))\n",
    "                    continue\n",
    "                if len(f) > 0:\n",
    "                    p = f.copy()\n",
    "                    training_data = p[(p[\"date\"] < datetime(year,int((quarter*3)-2),1)) & (p[\"date\"]>= datetime(year-training_years,int((quarter*3)-2),1))]\n",
    "                    prediction_data = p[p[\"date\"]==datetime(year,int((quarter*3)-2),1)]\n",
    "                    X = training_data.drop([\"quarter\",\"year\",\"y_class\",\"y\",\"date\",\"ticker\"],axis=1)\n",
    "                    y = training_data[[\"y_class\",\"y\"]]\n",
    "                    refined_data = {\"X\":X,\"y\":y}\n",
    "                    regression_models = m.regression(refined_data.copy(),ranked=False,tf=False,xgb=True,sk=False,deep=False)\n",
    "                    classification_models = m.classification(refined_data.copy(),tf=False,xgb=True,sk=False,deep=False,multioutput=False)\n",
    "                    models = pd.DataFrame([regression_models,classification_models])\n",
    "                    factors = refined_data[\"X\"].columns\n",
    "                    product = prediction_data[[\"year\",\"quarter\",\"week\",\"ticker\"]]\n",
    "                    for i in range(models.index.size):\n",
    "                        model = models.iloc[i][\"model\"]\n",
    "                        model_type = models.iloc[i][\"model_type\"]\n",
    "                        score = models.iloc[i][\"score\"]\n",
    "                        predictions = model.predict(prediction_data[factors])\n",
    "                        product[f\"weekly_price_categorical_{model_type}_prediction\"] = predictions\n",
    "                        product[f\"weekly_price_categorical_{model_type}_score\"] = score\n",
    "                    product[\"ticker\"]\n",
    "                    strat.db.connect()\n",
    "                    strat.db.store_data(\"sim\",product)\n",
    "                    strat.db.close()\n",
    "            except Exception as e:\n",
    "                print(str(e))\n",
    "                continue"
   ]
  },
  {
   "cell_type": "code",
   "execution_count": 5,
   "metadata": {},
   "outputs": [],
   "source": [
    "strat.db.connect()\n",
    "sim = strat.db.retrieve_data(\"sim\")\n",
    "strat.db.close()"
   ]
  },
  {
   "cell_type": "code",
   "execution_count": 6,
   "metadata": {},
   "outputs": [],
   "source": [
    "market.connect()\n",
    "price = market.retrieve_data(\"prices\").drop(\"_id\",axis=1)\n",
    "market.close()"
   ]
  },
  {
   "cell_type": "code",
   "execution_count": 7,
   "metadata": {},
   "outputs": [],
   "source": [
    "price[\"year\"] = [x.year for x in price[\"date\"]]\n",
    "price[\"quarter\"] = [x.quarter for x in price[\"date\"]]"
   ]
  },
  {
   "cell_type": "code",
   "execution_count": 8,
   "metadata": {},
   "outputs": [],
   "source": [
    "sim = sim.merge(price[[\"date\",\"year\",\"quarter\",\"ticker\",\"adjclose\"]],on=[\"year\",\"quarter\",\"ticker\"],how=\"left\")\n",
    "sim[\"weekly_predicted_delta\"]  = (sim[\"weekly_price_categorical_regression_prediction\"] - sim[\"adjclose\"]) / sim[\"adjclose\"]"
   ]
  },
  {
   "cell_type": "code",
   "execution_count": 9,
   "metadata": {},
   "outputs": [],
   "source": [
    "sim.drop(\"_id\",axis=1,inplace=True)"
   ]
  },
  {
   "cell_type": "code",
   "execution_count": 10,
   "metadata": {},
   "outputs": [],
   "source": [
    "start = datetime(2013,1,7)\n",
    "end = datetime(2020,12,23)\n",
    "extreme = [True]\n",
    "ceiling_settings = [True]\n",
    "fixed = [True]\n",
    "classification = [False]\n",
    "weekly_value_settings = [True]\n",
    "weekly_delta_range = range(0,12,3)\n",
    "trade_signal_score_settings = range(81,104,5)\n",
    "initial = 100"
   ]
  },
  {
   "cell_type": "code",
   "execution_count": 11,
   "metadata": {},
   "outputs": [
    {
     "data": {
      "text/plain": [
       "0    0.0\n",
       "dtype: float64"
      ]
     },
     "execution_count": 11,
     "metadata": {},
     "output_type": "execute_result"
    }
   ],
   "source": [
    "sim[\"weekly_price_categorical_regression_score\"].mode()"
   ]
  },
  {
   "cell_type": "code",
   "execution_count": 12,
   "metadata": {},
   "outputs": [],
   "source": [
    "sim = sim.groupby([\"date\",\"ticker\"]).mean().reset_index()"
   ]
  },
  {
   "cell_type": "code",
   "execution_count": 13,
   "metadata": {},
   "outputs": [],
   "source": [
    "sim = sim[sim[\"date\"] >= start]"
   ]
  },
  {
   "cell_type": "code",
   "execution_count": 14,
   "metadata": {
    "scrolled": true
   },
   "outputs": [
    {
     "name": "stderr",
     "output_type": "stream",
     "text": [
      "\r",
      "  0%|                                                                                                                                                                                                                    | 0/5 [00:00<?, ?it/s]"
     ]
    },
    {
     "name": "stdout",
     "output_type": "stream",
     "text": [
      "20\n"
     ]
    },
    {
     "name": "stderr",
     "output_type": "stream",
     "text": [
      "100%|████████████████████████████████████████████████████████████████████████████████████████████████████████████████████████████████████████████████████████████████████████████████████████████████████████████| 5/5 [04:23<00:00, 52.61s/it]\n",
      "100%|████████████████████████████████████████████████████████████████████████████████████████████████████████████████████████████████████████████████████████████████████████████████████████████████████████████| 5/5 [04:21<00:00, 52.38s/it]\n",
      "100%|████████████████████████████████████████████████████████████████████████████████████████████████████████████████████████████████████████████████████████████████████████████████████████████████████████████| 5/5 [04:21<00:00, 52.34s/it]\n",
      "100%|████████████████████████████████████████████████████████████████████████████████████████████████████████████████████████████████████████████████████████████████████████████████████████████████████████████| 5/5 [04:24<00:00, 52.93s/it]\n"
     ]
    }
   ],
   "source": [
    "epoch = 0\n",
    "seats = 3\n",
    "strat.db.connect()\n",
    "strat.db.drop_table(\"epochs\")\n",
    "iterations = len(weekly_delta_range) * len(trade_signal_score_settings)\n",
    "print(iterations)\n",
    "for i in range(iterations):\n",
    "    strat.db.drop_table(\"trades_{}\".format(i))\n",
    "for delta in range(0,12,3):\n",
    "    d = delta/100\n",
    "    for score in tqdm(trade_signal_score_settings):\n",
    "        s = float(score/100)\n",
    "        epoch_dict = {\"epoch\":epoch\n",
    "                      ,\"score\":s\n",
    "                      ,\"d\":d\n",
    "                     }\n",
    "        ts = b.backtest_weekly_adaptive(start,end,sim.copy(),seats,s,d)\n",
    "        if len(ts) > 0:\n",
    "            strat.db.store_data(\"epochs\",pd.DataFrame([epoch_dict]))\n",
    "            strat.db.store_data(\"trades_{}\".format(epoch),pd.DataFrame(ts))\n",
    "        epoch += 1\n",
    "    strat.db.close()"
   ]
  }
 ],
 "metadata": {
  "kernelspec": {
   "display_name": "Python 3",
   "language": "python",
   "name": "python3"
  },
  "language_info": {
   "codemirror_mode": {
    "name": "ipython",
    "version": 3
   },
   "file_extension": ".py",
   "mimetype": "text/x-python",
   "name": "python",
   "nbconvert_exporter": "python",
   "pygments_lexer": "ipython3",
   "version": "3.8.0"
  }
 },
 "nbformat": 4,
 "nbformat_minor": 4
}
