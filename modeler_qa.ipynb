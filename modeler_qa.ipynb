{
 "cells": [
  {
   "cell_type": "code",
   "execution_count": 24,
   "metadata": {},
   "outputs": [],
   "source": [
    "from database.strategy import Strategy\n",
    "from database.market import Market\n",
    "from transformer.date_transformer import DateTransformer\n",
    "from transformer.column_transformer import ColumnTransformer\n",
    "from transformer.model_transformer import ModelTransformer\n",
    "from transformer.product_transformer import ProductTransformer\n",
    "from transformer.predictor_transformer import PredictorTransformer\n",
    "from preprocessor.model_preprocessor import ModelPreprocessor\n",
    "from preprocessor.predictor_preprocessor import PredictorPreprocessor\n",
    "from modeler.modeler import Modeler as sp\n",
    "from utils.date_utils import DateUtils\n",
    "import pandas as pd\n",
    "import matplotlib.pyplot as plt\n",
    "from datetime import datetime, timedelta, timezone\n",
    "from tqdm import tqdm\n",
    "import math\n",
    "import numpy as np\n",
    "from sklearn.neighbors import KNeighborsClassifier\n",
    "from sklearn.tree import DecisionTreeClassifier\n",
    "from sklearn.ensemble import RandomForestClassifier, VotingClassifier\n",
    "from sklearn.naive_bayes import GaussianNB\n",
    "from sklearn.linear_model import LinearRegression, SGDRegressor, RidgeCV, SGDClassifier, RidgeClassifier, LogisticRegression\n",
    "from sklearn.metrics import mean_squared_error, r2_score, mean_squared_log_error, accuracy_score, mean_absolute_percentage_error\n",
    "from sklearn.model_selection import GridSearchCV, StratifiedKFold, train_test_split, HalvingGridSearchCV"
   ]
  },
  {
   "cell_type": "code",
   "execution_count": 2,
   "metadata": {},
   "outputs": [],
   "source": [
    "## Loading Constants\n",
    "start = \"2008-01-01\"\n",
    "end = datetime(2021,1,7).strftime(\"%Y-%m-%d\")\n",
    "# Loading Databases\n",
    "strat_db = Strategy(\"unity\")\n",
    "market = Market()\n",
    "market.connect()\n",
    "tickers = market.retrieve_data(\"sp500\").sort_values(\"Symbol\")\n",
    "market.close()\n",
    "reload = True\n",
    "quarterly_range = range(1,2)\n",
    "yearly_range = range(2018,2019)\n",
    "dataset = \"pdr\""
   ]
  },
  {
   "cell_type": "code",
   "execution_count": 3,
   "metadata": {},
   "outputs": [],
   "source": [
    "market.connect()\n",
    "classification = market.retrieve_data(\"dataset_pdr_week_classification\")\n",
    "regression = market.retrieve_data(\"dataset_pdr_week_regression\")\n",
    "market.close()\n",
    "for col in regression.columns:\n",
    "    if -99999 == regression[col].min():\n",
    "        regression.drop(col,axis=1,inplace=True)\n",
    "for col in classification.columns:\n",
    "    if -99999 == classification[col].min():\n",
    "        classification.drop(col,axis=1,inplace=True)"
   ]
  },
  {
   "cell_type": "code",
   "execution_count": 4,
   "metadata": {},
   "outputs": [
    {
     "name": "stderr",
     "output_type": "stream",
     "text": [
      "  0%|                                                                                                                                                | 0/1 [00:00<?, ?it/s]\n",
      "  0%|                                                                                                                                                | 0/1 [00:00<?, ?it/s]\u001b[A"
     ]
    },
    {
     "name": "stdout",
     "output_type": "stream",
     "text": [
      "sgd\n",
      "r\n",
      "Invalid parameter alpha for estimator RidgeCV(alphas=array([ 0.1,  1. , 10. ])). Check the list of available parameters with `estimator.get_params().keys()`.\n",
      "lr\n",
      "logr\n",
      "Unknown label type: 'continuous'\n",
      "WARNING:tensorflow:Layer dense is casting an input tensor from dtype float32 to the layer's dtype of float64, which is new behavior in TensorFlow 2.  The layer has dtype float64 because its dtype defaults to floatx.\n",
      "\n",
      "If you intended to run this layer in float64, you can safely ignore this warning. If in doubt, this warning is likely only an issue if you are porting a TensorFlow 1.X model to TensorFlow 2.\n",
      "\n",
      "To change all layers to have dtype float32 by default, call `tf.keras.backend.set_floatx('float32')`. To change just this layer, pass dtype='float32' to the layer constructor. If you are the author of this layer, you can disable autocasting by passing autocast=False to the base Layer constructor.\n",
      "\n",
      "3/3 [==============================] - 0s 1ms/step - loss: 21.9956 - mean_absolute_percentage_error: 21.9956\n"
     ]
    },
    {
     "name": "stderr",
     "output_type": "stream",
     "text": [
      "\n",
      "100%|████████████████████████████████████████████████████████████████████████████████████████████████████████████████████████████████████████| 1/1 [00:13<00:00, 13.87s/it]\u001b[A\n",
      "100%|████████████████████████████████████████████████████████████████████████████████████████████████████████████████████████████████████████| 1/1 [00:13<00:00, 13.87s/it]\n"
     ]
    }
   ],
   "source": [
    "sims = []\n",
    "gap = 5\n",
    "week_gap = int(gap/5)\n",
    "training_years = 7\n",
    "timeline = DateUtils.create_timeline(start,end)\n",
    "sims = []\n",
    "strat_db.connect()\n",
    "market.connect()\n",
    "market.drop_table(\"pdr_weekly_sim\")\n",
    "for year in tqdm(yearly_range):\n",
    "    for quarter in tqdm(quarterly_range):\n",
    "        try:\n",
    "            for ticker in tickers[\"Symbol\"][0:1]:\n",
    "                try:\n",
    "                    if ticker in regression.columns:\n",
    "                        price = market.retrieve_price_data(\"{}_prices\".format(dataset),ticker)\n",
    "                        if dataset == \"pdr\":\n",
    "                            price = ColumnTransformer.rename_columns(price,\" \")\n",
    "                        else:\n",
    "                            price = ColumnTransformer.rename_columns(price,\"\")\n",
    "                        price = DateTransformer.convert_to_date(dataset,price,\"date\")\n",
    "                        mr = ModelPreprocessor(ticker)\n",
    "                        prot = ProductTransformer(ticker,start,end)\n",
    "                        ticker_regression = regression\n",
    "                        ## regression_model\n",
    "                        first = ticker_regression[(ticker_regression[\"year\"] == year - training_years) & (ticker_regression[\"quarter\"] == quarter)].index.values.tolist()[0]\n",
    "                        last = ticker_regression[(ticker_regression[\"year\"] == year) & (ticker_regression[\"quarter\"] == quarter)].index.values.tolist()[0]\n",
    "                        rqpd = ticker_regression.iloc[first:last-1]\n",
    "                        rqpd[\"y\"] = rqpd[ticker]\n",
    "                        rqpd[\"y\"] = rqpd[\"y\"].shift(-week_gap)\n",
    "                        rqpd = rqpd[:-week_gap]\n",
    "                        qpd = mr.day_trade_preprocess_regression(rqpd.copy(),ticker,True)\n",
    "                        rpr = sp.regression(qpd,ranked=False,tf=True,deep=True)\n",
    "#                         ## classification_model\n",
    "#                         ticker_classification = classification\n",
    "#                         first = ticker_classification[(ticker_classification[\"year\"] == year - training_years) & (ticker_classification[\"quarter\"] == quarter)].index.values.tolist()[0]\n",
    "#                         last = ticker_classification[(ticker_classification[\"year\"] == year) & (ticker_classification[\"quarter\"] == quarter)].index.values.tolist()[0]\n",
    "#                         cqpd = ticker_classification.iloc[first:last-1]\n",
    "#                         cqpd[\"y\"] = cqpd[ticker]\n",
    "#                         cqpd[\"y\"] = cqpd[\"y\"].shift(-week_gap)\n",
    "#                         cqpd = cqpd[:-week_gap]\n",
    "#                         qpd = mr.day_trade_preprocess_classify(cqpd.copy(),ticker)\n",
    "#                         q2c = qpd[\"X\"].columns\n",
    "#                         cpr = sp.classification(qpd,tf=False,deep=False)\n",
    "#                         price_results = pd.DataFrame([cpr,rpr])\n",
    "#                         product_qpds = []\n",
    "#                         current_sets = []\n",
    "                except Exception as e:\n",
    "                    message = {\"status\":\"weekly modeling\",\"ticker\":ticker,\"year\":str(year),\"quarter\":str(quarter),\"message\":str(e)}\n",
    "                    print(message)\n",
    "        except Exception as e:\n",
    "            print(year,week,str(e))\n",
    "market.close()\n",
    "strat_db.close()"
   ]
  },
  {
   "cell_type": "code",
   "execution_count": 56,
   "metadata": {},
   "outputs": [],
   "source": [
    "stuff = {\n",
    "    \"sgd\" : {\"model\":SGDRegressor(),\"params\":{\"loss\":[\"squared_loss\",\"huber\"]\n",
    "                                                    ,\"learning_rate\":[\"constant\",\"optimal\",\"adaptive\"]\n",
    "                                                    ,\"alpha\" : [0.0001,0.001, 0.01, 0.1, 0.2, 0.5, 1]}},\n",
    "        \"r\" : {\"model\":RidgeCV(alphas=[0.0001,0.001, 0.01, 0.1, 0.2, 0.5, 1]),\"params\":{}},\n",
    "        \"lr\" : {\"model\":LinearRegression(),\"params\":{\"fit_intercept\":[True,False]}}\n",
    "        }"
   ]
  },
  {
   "cell_type": "code",
   "execution_count": 57,
   "metadata": {},
   "outputs": [
    {
     "name": "stdout",
     "output_type": "stream",
     "text": [
      "sgd\n",
      "r\n",
      "lr\n"
     ]
    }
   ],
   "source": [
    "data = qpd\n",
    "X_train, X_test, y_train, y_test = train_test_split(data[\"X\"], data[\"y\"],train_size=0.75, test_size=0.25, random_state=42)\n",
    "deep = True\n",
    "results = []\n",
    "for regressor in stuff:\n",
    "    print(regressor)\n",
    "    try:\n",
    "        model = stuff[regressor][\"model\"].fit(X_train,y_train)\n",
    "        params = stuff[regressor][\"params\"]\n",
    "        if not deep:\n",
    "            model.fit(X_train,y_train)\n",
    "        else:\n",
    "            gs = HalvingGridSearchCV(model,params,cv=10,scoring=\"neg_mean_squared_error\")\n",
    "            gs.fit(X_train,y_train)\n",
    "            model = gs.best_estimator_\n",
    "        y_pred = model.predict(X_test)\n",
    "        accuracy = r2_score(y_test,y_pred)\n",
    "        result = {\"api\":\"skl\",\"model\":model,\"score\":accuracy}\n",
    "        results.append(result)\n",
    "    except Exception as e:\n",
    "        print(str(e))\n",
    "        result = {\"api\":\"skl\",\"model\":str(e),\"score\":-99999}\n",
    "        results.append(result)\n",
    "        continue"
   ]
  },
  {
   "cell_type": "code",
   "execution_count": 55,
   "metadata": {},
   "outputs": [
    {
     "data": {
      "text/plain": [
       "[{'api': 'skl',\n",
       "  'model': RidgeCV(alphas=array([1.e-04, 1.e-03, 1.e-02, 1.e-01, 2.e-01, 5.e-01, 1.e+00])),\n",
       "  'score': 0.9940353269711533},\n",
       " {'api': 'skl', 'model': LinearRegression(), 'score': 0.9792617895065339}]"
      ]
     },
     "execution_count": 55,
     "metadata": {},
     "output_type": "execute_result"
    }
   ],
   "source": [
    "results"
   ]
  }
 ],
 "metadata": {
  "kernelspec": {
   "display_name": "Python 3",
   "language": "python",
   "name": "python3"
  },
  "language_info": {
   "codemirror_mode": {
    "name": "ipython",
    "version": 3
   },
   "file_extension": ".py",
   "mimetype": "text/x-python",
   "name": "python",
   "nbconvert_exporter": "python",
   "pygments_lexer": "ipython3",
   "version": "3.8.0"
  }
 },
 "nbformat": 4,
 "nbformat_minor": 4
}
