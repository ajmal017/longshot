{
 "cells": [
  {
   "cell_type": "code",
   "execution_count": 26,
   "metadata": {},
   "outputs": [],
   "source": [
    "from database.strategy import Strategy\n",
    "from database.sec import SEC\n",
    "from database.market import Market\n",
    "from database.merrill import Merrill\n",
    "from transformer.date_transformer import DateTransformer\n",
    "from transformer.model_transformer import ModelTransformer\n",
    "from transformer.product_transformer import ProductTransformer\n",
    "from transformer.predictor_transformer import PredictorTransformer\n",
    "from preprocessor.model_preprocessor import ModelPreprocessor\n",
    "from preprocessor.predictor_preprocessor import PredictorPreprocessor\n",
    "from transformer.column_transformer import ColumnTransformer\n",
    "from transformer.date_transformer import DateTransformer\n",
    "from extractor.finnhub_extractor import FinnhubExtractor\n",
    "from extractor.tiingo_extractor import TiingoExtractor\n",
    "from modeler.modeler import Modeler as sp\n",
    "from utils.date_utils import DateUtils\n",
    "import pandas as pd\n",
    "import matplotlib.pyplot as plt\n",
    "from datetime import datetime, timedelta, timezone\n",
    "from tqdm import tqdm\n",
    "import math\n",
    "import pandas_datareader as pdr\n",
    "from time import sleep\n",
    "from trader.IBApp import IBApp\n",
    "import asyncio\n",
    "import numpy as np"
   ]
  },
  {
   "cell_type": "code",
   "execution_count": 27,
   "metadata": {},
   "outputs": [],
   "source": [
    "## Loading Constants\n",
    "end = datetime.now().strftime(\"%Y-%m-%d\")\n",
    "start = (datetime.now() - timedelta(days=1)).strftime(\"%Y-%m-%d\")\n",
    "# Loading Databases\n",
    "strat_db = Strategy(\"portfolio\")\n",
    "back_db = Strategy(\"unity\")\n",
    "market = Market()\n",
    "merrill = Merrill()\n",
    "sec = SEC(\"sec\")\n",
    "market.connect()\n",
    "tickers = market.retrieve_data(\"sp500\").sort_values(\"Symbol\")\n",
    "market.close()\n",
    "reload = True\n",
    "year = datetime.now().year\n",
    "quarter = math.ceil((datetime.now().month - 1) // 3) + 1\n",
    "datasets = [\"pdr\"\n",
    "#             ,\"tiingo\"\n",
    "#             ,\"finnhub\"\n",
    "           ]\n",
    "delta_req = 1.05\n",
    "daily_delta_req = float(np.log(1+delta_req)/365)\n",
    "epoch = 77\n",
    "dr = 1.05\n",
    "bond = False\n",
    "bond_value = False\n",
    "bond_classification = False\n",
    "ceiling = True\n",
    "weekly = True\n",
    "weekly_value = False\n",
    "weekly_classification = False\n",
    "fundamental = True\n",
    "fundamental_value = False\n",
    "fundamental_classification = False"
   ]
  },
  {
   "cell_type": "code",
   "execution_count": 25,
   "metadata": {
    "scrolled": true
   },
   "outputs": [
    {
     "name": "stderr",
     "output_type": "stream",
     "text": [
      "\r",
      "  0%|                                                                                                                                                                                            | 0/506 [00:00<?, ?it/s]"
     ]
    },
    {
     "name": "stdout",
     "output_type": "stream",
     "text": [
      "A\n"
     ]
    },
    {
     "name": "stderr",
     "output_type": "stream",
     "text": [
      "\r",
      "  0%|▎                                                                                                                                                                                 | 1/506 [00:08<1:07:55,  8.07s/it]"
     ]
    },
    {
     "name": "stdout",
     "output_type": "stream",
     "text": [
      "AAL\n"
     ]
    },
    {
     "name": "stderr",
     "output_type": "stream",
     "text": [
      "\r",
      "  0%|▋                                                                                                                                                                                   | 2/506 [00:09<50:24,  6.00s/it]"
     ]
    },
    {
     "name": "stdout",
     "output_type": "stream",
     "text": [
      "AAP\n"
     ]
    },
    {
     "name": "stderr",
     "output_type": "stream",
     "text": [
      "\r",
      "  1%|█                                                                                                                                                                                   | 3/506 [00:10<38:04,  4.54s/it]"
     ]
    },
    {
     "name": "stdout",
     "output_type": "stream",
     "text": [
      "AAPL\n"
     ]
    },
    {
     "name": "stderr",
     "output_type": "stream",
     "text": [
      "\r",
      "  1%|█▍                                                                                                                                                                                  | 4/506 [00:11<29:32,  3.53s/it]"
     ]
    },
    {
     "name": "stdout",
     "output_type": "stream",
     "text": [
      "ABBV\n"
     ]
    },
    {
     "name": "stderr",
     "output_type": "stream",
     "text": [
      "\r",
      "  1%|█▊                                                                                                                                                                                  | 5/506 [00:12<24:06,  2.89s/it]"
     ]
    },
    {
     "name": "stdout",
     "output_type": "stream",
     "text": [
      "ABC\n"
     ]
    },
    {
     "name": "stderr",
     "output_type": "stream",
     "text": [
      "\r",
      "  1%|██▏                                                                                                                                                                                 | 6/506 [00:14<19:45,  2.37s/it]"
     ]
    },
    {
     "name": "stdout",
     "output_type": "stream",
     "text": [
      "ABMD\n"
     ]
    },
    {
     "name": "stderr",
     "output_type": "stream",
     "text": [
      "\r",
      "  1%|██▍                                                                                                                                                                                 | 7/506 [00:15<17:18,  2.08s/it]"
     ]
    },
    {
     "name": "stdout",
     "output_type": "stream",
     "text": [
      "ABT\n"
     ]
    },
    {
     "name": "stderr",
     "output_type": "stream",
     "text": [
      "\r",
      "  2%|██▊                                                                                                                                                                                 | 8/506 [00:16<14:58,  1.80s/it]"
     ]
    },
    {
     "name": "stdout",
     "output_type": "stream",
     "text": [
      "ACN\n"
     ]
    },
    {
     "name": "stderr",
     "output_type": "stream",
     "text": [
      "\r",
      "  2%|███▏                                                                                                                                                                                | 9/506 [00:17<13:33,  1.64s/it]"
     ]
    },
    {
     "name": "stdout",
     "output_type": "stream",
     "text": [
      "ADBE\n"
     ]
    },
    {
     "name": "stderr",
     "output_type": "stream",
     "text": [
      "\r",
      "  2%|███▌                                                                                                                                                                               | 10/506 [00:19<12:18,  1.49s/it]"
     ]
    },
    {
     "name": "stdout",
     "output_type": "stream",
     "text": [
      "ADI\n"
     ]
    },
    {
     "name": "stderr",
     "output_type": "stream",
     "text": [
      "\r",
      "  2%|███▉                                                                                                                                                                               | 11/506 [00:20<11:32,  1.40s/it]"
     ]
    },
    {
     "name": "stdout",
     "output_type": "stream",
     "text": [
      "ADM\n"
     ]
    },
    {
     "name": "stderr",
     "output_type": "stream",
     "text": [
      "\r",
      "  2%|████▏                                                                                                                                                                              | 12/506 [00:21<11:26,  1.39s/it]"
     ]
    },
    {
     "name": "stdout",
     "output_type": "stream",
     "text": [
      "ADP\n"
     ]
    },
    {
     "name": "stderr",
     "output_type": "stream",
     "text": [
      "\r",
      "  3%|████▌                                                                                                                                                                              | 13/506 [00:22<11:00,  1.34s/it]"
     ]
    },
    {
     "name": "stdout",
     "output_type": "stream",
     "text": [
      "ADSK\n"
     ]
    },
    {
     "name": "stderr",
     "output_type": "stream",
     "text": [
      "\r",
      "  3%|████▉                                                                                                                                                                              | 14/506 [00:24<11:13,  1.37s/it]"
     ]
    },
    {
     "name": "stdout",
     "output_type": "stream",
     "text": [
      "AEE\n"
     ]
    },
    {
     "name": "stderr",
     "output_type": "stream",
     "text": [
      "\r",
      "  3%|█████▎                                                                                                                                                                             | 15/506 [00:25<10:40,  1.30s/it]"
     ]
    },
    {
     "name": "stdout",
     "output_type": "stream",
     "text": [
      "AEP\n"
     ]
    },
    {
     "name": "stderr",
     "output_type": "stream",
     "text": [
      "\r",
      "  3%|█████▋                                                                                                                                                                             | 16/506 [00:26<10:57,  1.34s/it]"
     ]
    },
    {
     "name": "stdout",
     "output_type": "stream",
     "text": [
      "AES\n"
     ]
    },
    {
     "name": "stderr",
     "output_type": "stream",
     "text": [
      "\r",
      "  3%|██████                                                                                                                                                                             | 17/506 [00:28<10:36,  1.30s/it]"
     ]
    },
    {
     "name": "stdout",
     "output_type": "stream",
     "text": [
      "AFL\n"
     ]
    },
    {
     "name": "stderr",
     "output_type": "stream",
     "text": [
      "\r",
      "  4%|██████▎                                                                                                                                                                            | 18/506 [00:29<10:16,  1.26s/it]"
     ]
    },
    {
     "name": "stdout",
     "output_type": "stream",
     "text": [
      "AIG\n"
     ]
    },
    {
     "name": "stderr",
     "output_type": "stream",
     "text": [
      "\r",
      "  4%|██████▋                                                                                                                                                                            | 19/506 [00:30<10:37,  1.31s/it]"
     ]
    },
    {
     "name": "stdout",
     "output_type": "stream",
     "text": [
      "AIZ\n"
     ]
    },
    {
     "name": "stderr",
     "output_type": "stream",
     "text": [
      "\r",
      "  4%|███████                                                                                                                                                                            | 20/506 [00:32<10:50,  1.34s/it]"
     ]
    },
    {
     "name": "stdout",
     "output_type": "stream",
     "text": [
      "AJG\n"
     ]
    },
    {
     "name": "stderr",
     "output_type": "stream",
     "text": [
      "\r",
      "  4%|███████▍                                                                                                                                                                           | 21/506 [00:33<12:11,  1.51s/it]"
     ]
    },
    {
     "name": "stdout",
     "output_type": "stream",
     "text": [
      "AKAM\n"
     ]
    },
    {
     "name": "stderr",
     "output_type": "stream",
     "text": [
      "\r",
      "  4%|███████▊                                                                                                                                                                           | 22/506 [00:35<11:19,  1.40s/it]"
     ]
    },
    {
     "name": "stdout",
     "output_type": "stream",
     "text": [
      "ALB\n"
     ]
    },
    {
     "name": "stderr",
     "output_type": "stream",
     "text": [
      "\r",
      "  5%|████████▏                                                                                                                                                                          | 23/506 [00:36<12:24,  1.54s/it]"
     ]
    },
    {
     "name": "stdout",
     "output_type": "stream",
     "text": [
      "ALGN\n"
     ]
    },
    {
     "name": "stderr",
     "output_type": "stream",
     "text": [
      "\r",
      "  5%|████████▍                                                                                                                                                                          | 24/506 [00:38<11:24,  1.42s/it]"
     ]
    },
    {
     "name": "stdout",
     "output_type": "stream",
     "text": [
      "ALK\n"
     ]
    },
    {
     "name": "stderr",
     "output_type": "stream",
     "text": [
      "\r",
      "  5%|████████▊                                                                                                                                                                          | 25/506 [00:39<10:51,  1.35s/it]"
     ]
    },
    {
     "name": "stdout",
     "output_type": "stream",
     "text": [
      "ALL\n"
     ]
    },
    {
     "name": "stderr",
     "output_type": "stream",
     "text": [
      "\r",
      "  5%|█████████▏                                                                                                                                                                         | 26/506 [00:40<10:21,  1.29s/it]"
     ]
    },
    {
     "name": "stdout",
     "output_type": "stream",
     "text": [
      "ALLE\n"
     ]
    },
    {
     "name": "stderr",
     "output_type": "stream",
     "text": [
      "\r",
      "  5%|█████████▌                                                                                                                                                                         | 27/506 [00:41<10:01,  1.26s/it]"
     ]
    },
    {
     "name": "stdout",
     "output_type": "stream",
     "text": [
      "ALXN\n"
     ]
    },
    {
     "name": "stderr",
     "output_type": "stream",
     "text": [
      "\r",
      "  6%|█████████▉                                                                                                                                                                         | 28/506 [00:42<09:45,  1.23s/it]"
     ]
    },
    {
     "name": "stdout",
     "output_type": "stream",
     "text": [
      "AMAT\n"
     ]
    },
    {
     "name": "stderr",
     "output_type": "stream",
     "text": [
      "\r",
      "  6%|██████████▎                                                                                                                                                                        | 29/506 [00:43<09:33,  1.20s/it]"
     ]
    },
    {
     "name": "stdout",
     "output_type": "stream",
     "text": [
      "AMC\n"
     ]
    },
    {
     "name": "stderr",
     "output_type": "stream",
     "text": [
      "\r",
      "  6%|██████████▌                                                                                                                                                                        | 30/506 [00:45<09:25,  1.19s/it]"
     ]
    },
    {
     "name": "stdout",
     "output_type": "stream",
     "text": [
      "AMCR\n"
     ]
    },
    {
     "name": "stderr",
     "output_type": "stream",
     "text": [
      "\r",
      "  6%|██████████▉                                                                                                                                                                        | 31/506 [00:46<09:16,  1.17s/it]"
     ]
    },
    {
     "name": "stdout",
     "output_type": "stream",
     "text": [
      "AMD\n"
     ]
    },
    {
     "name": "stderr",
     "output_type": "stream",
     "text": [
      "\r",
      "  6%|███████████▎                                                                                                                                                                       | 32/506 [00:47<09:08,  1.16s/it]"
     ]
    },
    {
     "name": "stdout",
     "output_type": "stream",
     "text": [
      "AME\n"
     ]
    },
    {
     "name": "stderr",
     "output_type": "stream",
     "text": [
      "\r",
      "  7%|███████████▋                                                                                                                                                                       | 33/506 [00:48<09:45,  1.24s/it]"
     ]
    },
    {
     "name": "stdout",
     "output_type": "stream",
     "text": [
      "AMGN\n"
     ]
    },
    {
     "name": "stderr",
     "output_type": "stream",
     "text": [
      "\r",
      "  7%|████████████                                                                                                                                                                       | 34/506 [00:49<09:32,  1.21s/it]"
     ]
    },
    {
     "name": "stdout",
     "output_type": "stream",
     "text": [
      "AMP\n"
     ]
    },
    {
     "name": "stderr",
     "output_type": "stream",
     "text": [
      "\r",
      "  7%|████████████▍                                                                                                                                                                      | 35/506 [00:52<11:43,  1.49s/it]"
     ]
    },
    {
     "name": "stdout",
     "output_type": "stream",
     "text": [
      "AMT\n"
     ]
    },
    {
     "name": "stderr",
     "output_type": "stream",
     "text": [
      "\r",
      "  7%|████████████▋                                                                                                                                                                      | 36/506 [00:53<10:56,  1.40s/it]"
     ]
    },
    {
     "name": "stdout",
     "output_type": "stream",
     "text": [
      "AMZN\n"
     ]
    },
    {
     "name": "stderr",
     "output_type": "stream",
     "text": [
      "\r",
      "  7%|█████████████                                                                                                                                                                      | 37/506 [00:54<10:18,  1.32s/it]"
     ]
    },
    {
     "name": "stdout",
     "output_type": "stream",
     "text": [
      "ANET\n"
     ]
    },
    {
     "name": "stderr",
     "output_type": "stream",
     "text": [
      "\r",
      "  8%|█████████████▍                                                                                                                                                                     | 38/506 [00:55<09:53,  1.27s/it]"
     ]
    },
    {
     "name": "stdout",
     "output_type": "stream",
     "text": [
      "ANSS\n"
     ]
    },
    {
     "name": "stderr",
     "output_type": "stream",
     "text": [
      "\r",
      "  8%|█████████████▊                                                                                                                                                                     | 39/506 [00:56<09:32,  1.23s/it]"
     ]
    },
    {
     "name": "stdout",
     "output_type": "stream",
     "text": [
      "ANTM\n"
     ]
    },
    {
     "name": "stderr",
     "output_type": "stream",
     "text": [
      "\r",
      "  8%|██████████████▏                                                                                                                                                                    | 40/506 [00:57<09:29,  1.22s/it]"
     ]
    },
    {
     "name": "stdout",
     "output_type": "stream",
     "text": [
      "AON\n"
     ]
    },
    {
     "name": "stderr",
     "output_type": "stream",
     "text": [
      "\r",
      "  8%|██████████████▌                                                                                                                                                                    | 41/506 [00:59<09:14,  1.19s/it]"
     ]
    },
    {
     "name": "stdout",
     "output_type": "stream",
     "text": [
      "AOS\n"
     ]
    },
    {
     "name": "stderr",
     "output_type": "stream",
     "text": [
      "\r",
      "  8%|██████████████▊                                                                                                                                                                    | 42/506 [01:00<09:10,  1.19s/it]"
     ]
    },
    {
     "name": "stdout",
     "output_type": "stream",
     "text": [
      "APA\n"
     ]
    },
    {
     "name": "stderr",
     "output_type": "stream",
     "text": [
      "\r",
      "  8%|███████████████▏                                                                                                                                                                   | 43/506 [01:01<09:04,  1.18s/it]"
     ]
    },
    {
     "name": "stdout",
     "output_type": "stream",
     "text": [
      "APD\n"
     ]
    },
    {
     "name": "stderr",
     "output_type": "stream",
     "text": [
      "\r",
      "  9%|███████████████▌                                                                                                                                                                   | 44/506 [01:02<09:02,  1.17s/it]"
     ]
    },
    {
     "name": "stdout",
     "output_type": "stream",
     "text": [
      "APH\n"
     ]
    },
    {
     "name": "stderr",
     "output_type": "stream",
     "text": [
      "\r",
      "  9%|███████████████▉                                                                                                                                                                   | 45/506 [01:03<08:58,  1.17s/it]"
     ]
    },
    {
     "name": "stdout",
     "output_type": "stream",
     "text": [
      "APTV\n"
     ]
    },
    {
     "name": "stderr",
     "output_type": "stream",
     "text": [
      "\r",
      "  9%|████████████████▎                                                                                                                                                                  | 46/506 [01:04<08:54,  1.16s/it]"
     ]
    },
    {
     "name": "stdout",
     "output_type": "stream",
     "text": [
      "ARE\n"
     ]
    },
    {
     "name": "stderr",
     "output_type": "stream",
     "text": [
      "\r",
      "  9%|████████████████▋                                                                                                                                                                  | 47/506 [01:05<08:54,  1.16s/it]"
     ]
    },
    {
     "name": "stdout",
     "output_type": "stream",
     "text": [
      "ATO\n"
     ]
    },
    {
     "name": "stderr",
     "output_type": "stream",
     "text": [
      "\r",
      "  9%|████████████████▉                                                                                                                                                                  | 48/506 [01:07<08:55,  1.17s/it]"
     ]
    },
    {
     "name": "stdout",
     "output_type": "stream",
     "text": [
      "ATVI\n"
     ]
    },
    {
     "name": "stderr",
     "output_type": "stream",
     "text": [
      "\r",
      " 10%|█████████████████▎                                                                                                                                                                 | 49/506 [01:08<08:49,  1.16s/it]"
     ]
    },
    {
     "name": "stdout",
     "output_type": "stream",
     "text": [
      "AVB\n"
     ]
    },
    {
     "name": "stderr",
     "output_type": "stream",
     "text": [
      "\r",
      " 10%|█████████████████▋                                                                                                                                                                 | 50/506 [01:09<09:17,  1.22s/it]"
     ]
    },
    {
     "name": "stdout",
     "output_type": "stream",
     "text": [
      "AVGO\n"
     ]
    },
    {
     "name": "stderr",
     "output_type": "stream",
     "text": [
      "\r",
      " 10%|██████████████████                                                                                                                                                                 | 51/506 [01:11<09:43,  1.28s/it]"
     ]
    },
    {
     "name": "stdout",
     "output_type": "stream",
     "text": [
      "AVY\n"
     ]
    },
    {
     "name": "stderr",
     "output_type": "stream",
     "text": [
      "\r",
      " 10%|██████████████████▍                                                                                                                                                                | 52/506 [01:12<09:22,  1.24s/it]"
     ]
    },
    {
     "name": "stdout",
     "output_type": "stream",
     "text": [
      "AWK\n"
     ]
    },
    {
     "name": "stderr",
     "output_type": "stream",
     "text": [
      "\r",
      " 10%|██████████████████▋                                                                                                                                                                | 53/506 [01:13<09:42,  1.29s/it]"
     ]
    },
    {
     "name": "stdout",
     "output_type": "stream",
     "text": [
      "AXP\n"
     ]
    },
    {
     "name": "stderr",
     "output_type": "stream",
     "text": [
      "\r",
      " 11%|███████████████████                                                                                                                                                                | 54/506 [01:15<09:58,  1.32s/it]"
     ]
    },
    {
     "name": "stdout",
     "output_type": "stream",
     "text": [
      "AZO\n"
     ]
    },
    {
     "name": "stderr",
     "output_type": "stream",
     "text": [
      "\r",
      " 11%|███████████████████▍                                                                                                                                                               | 55/506 [01:16<09:32,  1.27s/it]"
     ]
    },
    {
     "name": "stdout",
     "output_type": "stream",
     "text": [
      "BA\n"
     ]
    },
    {
     "name": "stderr",
     "output_type": "stream",
     "text": [
      " 11%|███████████████████▍                                                                                                                                                               | 55/506 [01:17<10:33,  1.41s/it]\n"
     ]
    },
    {
     "ename": "KeyboardInterrupt",
     "evalue": "",
     "output_type": "error",
     "traceback": [
      "\u001b[1;31m---------------------------------------------------------------------------\u001b[0m",
      "\u001b[1;31mKeyboardInterrupt\u001b[0m                         Traceback (most recent call last)",
      "\u001b[1;32m<ipython-input-25-174dbaa94328>\u001b[0m in \u001b[0;36m<module>\u001b[1;34m\u001b[0m\n\u001b[0;32m     14\u001b[0m         \u001b[0mfp\u001b[0m \u001b[1;33m=\u001b[0m \u001b[0mFinnhubExtractor\u001b[0m\u001b[1;33m.\u001b[0m\u001b[0mquote\u001b[0m\u001b[1;33m(\u001b[0m\u001b[0mticker\u001b[0m\u001b[1;33m)\u001b[0m\u001b[1;33m\u001b[0m\u001b[1;33m\u001b[0m\u001b[0m\n\u001b[0;32m     15\u001b[0m         \u001b[0mprice\u001b[0m \u001b[1;33m=\u001b[0m \u001b[0mpd\u001b[0m\u001b[1;33m.\u001b[0m\u001b[0mDataFrame\u001b[0m\u001b[1;33m(\u001b[0m\u001b[1;33m[\u001b[0m\u001b[0mfp\u001b[0m\u001b[1;33m]\u001b[0m\u001b[1;33m)\u001b[0m\u001b[1;33m\u001b[0m\u001b[1;33m\u001b[0m\u001b[0m\n\u001b[1;32m---> 16\u001b[1;33m         \u001b[0msleep\u001b[0m\u001b[1;33m(\u001b[0m\u001b[1;36m1\u001b[0m\u001b[1;33m)\u001b[0m\u001b[1;33m\u001b[0m\u001b[1;33m\u001b[0m\u001b[0m\n\u001b[0m\u001b[0;32m     17\u001b[0m         \u001b[0mprice\u001b[0m\u001b[1;33m[\u001b[0m\u001b[1;34m\"ticker\"\u001b[0m\u001b[1;33m]\u001b[0m \u001b[1;33m=\u001b[0m \u001b[0mticker\u001b[0m\u001b[1;33m\u001b[0m\u001b[1;33m\u001b[0m\u001b[0m\n\u001b[0;32m     18\u001b[0m         \u001b[1;32mif\u001b[0m \u001b[0mdataset\u001b[0m \u001b[1;33m==\u001b[0m \u001b[1;34m\"pdr\"\u001b[0m\u001b[1;33m:\u001b[0m\u001b[1;33m\u001b[0m\u001b[1;33m\u001b[0m\u001b[0m\n",
      "\u001b[1;31mKeyboardInterrupt\u001b[0m: "
     ]
    }
   ],
   "source": [
    "recs = []\n",
    "fails = []\n",
    "price_dataframes = []\n",
    "strat_db.connect()\n",
    "dataset = \"pdr\"\n",
    "fundamental_prices = strat_db.retrieve_data(\"{}_fundamental_quarterly_sim\".format(dataset)).drop(\"_id\",axis=1)\n",
    "bond_prices = strat_db.retrieve_data(\"{}_bond_weekly_sim\".format(dataset)).drop(\"_id\",axis=1)\n",
    "weekly_prices = strat_db.retrieve_data(\"{}_weekly_recs\".format(dataset)).drop(\"_id\",axis=1)\n",
    "for ticker in tqdm(tickers[\"Symbol\"]):\n",
    "    try:\n",
    "        if \".\" in ticker:\n",
    "            ticker = ticker.replace(\".\",\"-\")\n",
    "        print(ticker)\n",
    "        fp = FinnhubExtractor.quote(ticker)\n",
    "        price = pd.DataFrame([fp])\n",
    "        sleep(1)\n",
    "        price[\"ticker\"] = ticker\n",
    "        if dataset == \"pdr\":\n",
    "            price = ColumnTransformer.rename_columns(price, \" \")\n",
    "        else:\n",
    "            price = ColumnTransformer.rename_columns(price, \"_\")\n",
    "        price_dataframes.append(price)\n",
    "    except Exception as e:\n",
    "        msg = {\"dataset\":dataset,\"ticker\":ticker,\"exception\":str(e)}\n",
    "        print(msg)\n",
    "        fails.append(ticker)\n",
    "        continue\n",
    "prices = pd.concat(price_dataframes)\n",
    "prices[\"date\"] = datetime.now()\n",
    "prices[\"adjclose\"]  = prices[\"c\"]\n",
    "test = prices[[\"date\",\"ticker\",\"adjclose\"]].merge(weekly_prices,on=\"ticker\",how=\"left\").merge(fundamental_prices,on=\"ticker\",how=\"left\")\n",
    "test = test.merge(bond_prices,on=\"ticker\",how=\"left\")\n",
    "test[\"fundamental_predicted_delta\"] = (test[\"quarterly_fundamental_regression_prediction\"] - test[\"adjclose\"]) / test[\"adjclose\"]\n",
    "test[\"weekly_predicted_delta\"] = (test[\"weekly_price_regression_prediction\"] - test[\"adjclose\"]) / test[\"adjclose\"]\n",
    "test[\"bond_predicted_delta\"] = (test[\"weekly_bond_regression_prediction\"] - test[\"adjclose\"]) / test[\"adjclose\"]\n",
    "test[\"dataset\"] = dataset\n",
    "recs.append(test)\n",
    "r = pd.concat(recs).sort_values(\"weekly_predicted_delta\",ascending=False).dropna()\n",
    "r[\"calculation_date\"] = datetime.now()\n",
    "strat_db.connect()\n",
    "strat_db.store_data(\"recommendations\",r)\n",
    "strat_db.close()"
   ]
  },
  {
   "cell_type": "code",
   "execution_count": null,
   "metadata": {},
   "outputs": [],
   "source": [
    "test = prices[[\"date\",\"ticker\",\"adjclose\"]].merge(weekly_prices,on=\"ticker\",how=\"left\").merge(fundamental_prices,on=\"ticker\",how=\"left\")\n",
    "test = test.merge(bond_prices,on=\"ticker\",how=\"left\")\n",
    "test[\"fundamental_predicted_delta\"] = (test[\"quarterly_fundamental_regression_prediction\"] - test[\"adjclose\"]) / test[\"adjclose\"]\n",
    "test[\"weekly_predicted_delta\"] = (test[\"weekly_price_regression_prediction\"] - test[\"adjclose\"]) / test[\"adjclose\"]\n",
    "test[\"bond_predicted_delta\"] = (test[\"weekly_bond_regression_prediction\"] - test[\"adjclose\"]) / test[\"adjclose\"]\n",
    "test[\"dataset\"] = dataset\n",
    "r = test.sort_values(\"weekly_predicted_delta\",ascending=False)\n",
    "r[\"calculation_date\"] = datetime.now()"
   ]
  },
  {
   "cell_type": "code",
   "execution_count": null,
   "metadata": {
    "scrolled": true
   },
   "outputs": [],
   "source": [
    "sim = r"
   ]
  },
  {
   "cell_type": "code",
   "execution_count": null,
   "metadata": {},
   "outputs": [],
   "source": [
    "sim"
   ]
  },
  {
   "cell_type": "code",
   "execution_count": null,
   "metadata": {},
   "outputs": [],
   "source": [
    "daily_delta_req = float(np.log(1+delta_req)/365)\n",
    "if weekly:\n",
    "    delta_column = \"weekly_predicted_delta\"\n",
    "    hpr = 7\n",
    "if fundamental and not weekly:\n",
    "    delta_column = \"fundamental_predicted_delta\"\n",
    "    hpr = 90\n",
    "if bond and not weekly and not fundamental:\n",
    "    delta_column = \"bond_predicted_delta\"\n",
    "    hpr = 7\n",
    "if not weekly_value:\n",
    "    sim[\"weekly_predicted_delta\"] = sim[\"weekly_predicted_delta\"] * -1\n",
    "    sim[\"weekly_price_classification_prediction\"] = [not x for x in sim[\"weekly_price_classification_prediction\"]]\n",
    "if not bond_value:\n",
    "    sim[\"bond_predicted_delta\"] = sim[\"bond_predicted_delta\"] * -1\n",
    "    sim[\"weekly_bond_classification_prediction\"] = [not x for x in sim[\"weekly_bond_classification_prediction\"]]\n",
    "if not fundamental_value:\n",
    "    sim[\"fundamental_predicted_delta\"] = sim[\"fundamental_predicted_delta\"] * -1\n",
    "    sim[\"quarterly_fundamental_classification_prediction\"] = [not x for x in sim[\"quarterly_fundamental_classification_prediction\"]]\n",
    "if ceiling:\n",
    "    for col in sim.columns:\n",
    "            if 'delta' in col:\n",
    "                sim[\"{}_abs\".format(col)] = [abs(x) for x in sim[col]]\n",
    "                filtered_sim = sim[(sim[\"{}_abs\".format(col)] <= 1)]\n",
    "else:\n",
    "    filtered_sim = sim\n",
    "filtered_sim = filtered_sim[(filtered_sim[delta_column] >= float((1+daily_delta_req)**hpr) - 1)]\n",
    "if fundamental_classification:\n",
    "    filtered_sim = filtered_sim[filtered_sim[\"quarterly_fundamental_classification_prediction\"] == 1]\n",
    "    filtered_sim = filtered_sim[filtered_sim[\"quarterly_fundamental_classification_score\"] >= 0.7]\n",
    "if weekly_classification:\n",
    "    filtered_sim = filtered_sim[filtered_sim[\"weekly_price_classification_prediction\"] == 1]\n",
    "    filtered_sim = filtered_sim[filtered_sim[\"weekly_price_classification_score\"] >= 0.7]\n",
    "if bond_classification:\n",
    "    filtered_sim = filtered_sim[filtered_sim[\"weekly_bond_classification_prediction\"] == 1]\n",
    "    filtered_sim = filtered_sim[filtered_sim[\"weekly_bond_classification_score\"] >= 0.7]\n",
    "if fundamental:\n",
    "    filtered_sim = filtered_sim[filtered_sim[\"fundamental_predicted_delta\"] >= float((1+daily_delta_req)**90 - 1)]\n",
    "    filtered_sim = filtered_sim[(filtered_sim[\"quarterly_fundamental_regression_score\"] > 0) & (filtered_sim[\"quarterly_fundamental_regression_score\"] < 0.1)]\n",
    "if weekly:\n",
    "    filtered_sim = filtered_sim[filtered_sim[\"weekly_predicted_delta\"] >= float((1+daily_delta_req)**7 - 1)]\n",
    "    filtered_sim = filtered_sim[(filtered_sim[\"weekly_price_regression_score\"] > 0) & (filtered_sim[\"weekly_price_regression_score\"] < 0.1)]\n",
    "if bond:\n",
    "    filtered_sim = filtered_sim[filtered_sim[\"bond_predicted_delta\"] >= float((1+daily_delta_req)**7 - 1)]\n",
    "    filtered_sim = filtered_sim[(filtered_sim[\"weekly_bond_regression_score\"] > 0) & (filtered_sim[\"weekly_bond_regression_score\"] < 0.1)]"
   ]
  },
  {
   "cell_type": "code",
   "execution_count": null,
   "metadata": {
    "scrolled": true
   },
   "outputs": [],
   "source": [
    "filtered_sim.sort_values(\"weekly_predicted_delta\",ascending=False)"
   ]
  },
  {
   "cell_type": "code",
   "execution_count": null,
   "metadata": {},
   "outputs": [],
   "source": [
    "blacklist = [\"BRK-B\",\"AMZN\",\"GOOGL\",\"MSFT\",\"AAPL\",\"NFLX\",\"PRGO\"]\n",
    "if reload:\n",
    "    for col in r.columns:\n",
    "        if \"delta\" in col:\n",
    "            r = r[(r[col]>=-1) & (r[col]<=1)]\n",
    "        else:\n",
    "            continue\n",
    "    available_seats = 9\n",
    "    offerings = filtered_sim.sort_values(\"weekly_predicted_delta\",ascending=False).head(available_seats)\n",
    "    trades = []\n",
    "    portfolio_pv = 180000\n",
    "    current_hpr = 7\n",
    "    for i in range(len(offerings)):\n",
    "        ticker_rec = offerings.iloc[i]\n",
    "        ticker_limit = ticker_rec[\"adjclose\"]\n",
    "        gainz = float((1+daily_delta_req)**current_hpr)\n",
    "        ticker_sell_limit = round(ticker_limit * gainz,2)\n",
    "        quantity = round(portfolio_pv / available_seats / ticker_limit)\n",
    "        trades.append({\"ticker\":ticker_rec[\"ticker\"]\n",
    "                       ,\"quantity\":quantity\n",
    "                       ,\"weekly_predicted_delta\":ticker_rec[\"weekly_predicted_delta\"]\n",
    "                       ,\"fundamental_predicted_delta\":ticker_rec[\"fundamental_predicted_delta\"]\n",
    "                       ,\"buy_price\":ticker_limit\n",
    "                       ,\"sell_price\":ticker_sell_limit,\"buy_date\":datetime.now(),\"calculation_date\":datetime.now()})\n",
    "    orders = pd.DataFrame(trades)\n",
    "    strat_db.connect()\n",
    "    strat_db.store_data(\"orders\",orders)\n",
    "    strat_db.close()\n",
    "else:\n",
    "    strat_db.connect()\n",
    "    orders = strat_db.retrieve_data(\"orders\")\n",
    "    strat_db.close()"
   ]
  },
  {
   "cell_type": "code",
   "execution_count": 35,
   "metadata": {},
   "outputs": [],
   "source": [
    "strat_db.connect()\n",
    "orders = strat_db.retrieve_data(\"orders\")\n",
    "strat_db.close()"
   ]
  },
  {
   "cell_type": "code",
   "execution_count": 36,
   "metadata": {},
   "outputs": [
    {
     "data": {
      "text/html": [
       "<div>\n",
       "<style scoped>\n",
       "    .dataframe tbody tr th:only-of-type {\n",
       "        vertical-align: middle;\n",
       "    }\n",
       "\n",
       "    .dataframe tbody tr th {\n",
       "        vertical-align: top;\n",
       "    }\n",
       "\n",
       "    .dataframe thead th {\n",
       "        text-align: right;\n",
       "    }\n",
       "</style>\n",
       "<table border=\"1\" class=\"dataframe\">\n",
       "  <thead>\n",
       "    <tr style=\"text-align: right;\">\n",
       "      <th></th>\n",
       "      <th>_id</th>\n",
       "      <th>ticker</th>\n",
       "      <th>quantity</th>\n",
       "      <th>weekly_delta</th>\n",
       "      <th>buy_price</th>\n",
       "      <th>sell_price</th>\n",
       "      <th>buy_date</th>\n",
       "      <th>calculation_date</th>\n",
       "      <th>weekly_predicted_delta</th>\n",
       "      <th>fundamental_predicted_delta</th>\n",
       "    </tr>\n",
       "  </thead>\n",
       "  <tbody>\n",
       "    <tr>\n",
       "      <th>0</th>\n",
       "      <td>6021359860be2acc951132fe</td>\n",
       "      <td>VZ</td>\n",
       "      <td>966.0</td>\n",
       "      <td>0.063665</td>\n",
       "      <td>55.32</td>\n",
       "      <td>55.75</td>\n",
       "      <td>2021-02-08 07:58:42.206</td>\n",
       "      <td>2021-02-08 07:58:42.206</td>\n",
       "      <td>NaN</td>\n",
       "      <td>NaN</td>\n",
       "    </tr>\n",
       "    <tr>\n",
       "      <th>1</th>\n",
       "      <td>6021359860be2acc951132ff</td>\n",
       "      <td>ATO</td>\n",
       "      <td>600.0</td>\n",
       "      <td>0.057075</td>\n",
       "      <td>89.05</td>\n",
       "      <td>89.74</td>\n",
       "      <td>2021-02-08 07:58:42.206</td>\n",
       "      <td>2021-02-08 07:58:42.206</td>\n",
       "      <td>NaN</td>\n",
       "      <td>NaN</td>\n",
       "    </tr>\n",
       "    <tr>\n",
       "      <th>2</th>\n",
       "      <td>6021359860be2acc95113300</td>\n",
       "      <td>CNP</td>\n",
       "      <td>2498.0</td>\n",
       "      <td>0.033336</td>\n",
       "      <td>21.40</td>\n",
       "      <td>21.57</td>\n",
       "      <td>2021-02-08 07:58:42.207</td>\n",
       "      <td>2021-02-08 07:58:42.207</td>\n",
       "      <td>NaN</td>\n",
       "      <td>NaN</td>\n",
       "    </tr>\n",
       "    <tr>\n",
       "      <th>3</th>\n",
       "      <td>6021359860be2acc95113301</td>\n",
       "      <td>ED</td>\n",
       "      <td>748.0</td>\n",
       "      <td>0.025170</td>\n",
       "      <td>71.50</td>\n",
       "      <td>72.06</td>\n",
       "      <td>2021-02-08 07:58:42.208</td>\n",
       "      <td>2021-02-08 07:58:42.208</td>\n",
       "      <td>NaN</td>\n",
       "      <td>NaN</td>\n",
       "    </tr>\n",
       "    <tr>\n",
       "      <th>4</th>\n",
       "      <td>6021359860be2acc95113302</td>\n",
       "      <td>NI</td>\n",
       "      <td>2344.0</td>\n",
       "      <td>-0.009964</td>\n",
       "      <td>22.80</td>\n",
       "      <td>22.98</td>\n",
       "      <td>2021-02-08 07:58:42.208</td>\n",
       "      <td>2021-02-08 07:58:42.208</td>\n",
       "      <td>NaN</td>\n",
       "      <td>NaN</td>\n",
       "    </tr>\n",
       "    <tr>\n",
       "      <th>...</th>\n",
       "      <td>...</td>\n",
       "      <td>...</td>\n",
       "      <td>...</td>\n",
       "      <td>...</td>\n",
       "      <td>...</td>\n",
       "      <td>...</td>\n",
       "      <td>...</td>\n",
       "      <td>...</td>\n",
       "      <td>...</td>\n",
       "      <td>...</td>\n",
       "    </tr>\n",
       "    <tr>\n",
       "      <th>117</th>\n",
       "      <td>607d2db08e1979b7b9502bb5</td>\n",
       "      <td>PKI</td>\n",
       "      <td>150.0</td>\n",
       "      <td>NaN</td>\n",
       "      <td>133.16</td>\n",
       "      <td>135.00</td>\n",
       "      <td>2021-04-19 03:13:52.777</td>\n",
       "      <td>2021-04-19 03:13:52.777</td>\n",
       "      <td>0.092441</td>\n",
       "      <td>0.328746</td>\n",
       "    </tr>\n",
       "    <tr>\n",
       "      <th>118</th>\n",
       "      <td>607d2db08e1979b7b9502bb6</td>\n",
       "      <td>CLX</td>\n",
       "      <td>105.0</td>\n",
       "      <td>NaN</td>\n",
       "      <td>190.73</td>\n",
       "      <td>193.37</td>\n",
       "      <td>2021-04-19 03:13:52.777</td>\n",
       "      <td>2021-04-19 03:13:52.777</td>\n",
       "      <td>0.052889</td>\n",
       "      <td>0.239654</td>\n",
       "    </tr>\n",
       "    <tr>\n",
       "      <th>119</th>\n",
       "      <td>607d2db08e1979b7b9502bb7</td>\n",
       "      <td>CL</td>\n",
       "      <td>248.0</td>\n",
       "      <td>NaN</td>\n",
       "      <td>80.70</td>\n",
       "      <td>81.82</td>\n",
       "      <td>2021-04-19 03:13:52.777</td>\n",
       "      <td>2021-04-19 03:13:52.777</td>\n",
       "      <td>0.045781</td>\n",
       "      <td>0.257945</td>\n",
       "    </tr>\n",
       "    <tr>\n",
       "      <th>120</th>\n",
       "      <td>607d2db08e1979b7b9502bb8</td>\n",
       "      <td>DVA</td>\n",
       "      <td>177.0</td>\n",
       "      <td>NaN</td>\n",
       "      <td>113.11</td>\n",
       "      <td>114.68</td>\n",
       "      <td>2021-04-19 03:13:52.778</td>\n",
       "      <td>2021-04-19 03:13:52.778</td>\n",
       "      <td>0.026312</td>\n",
       "      <td>0.418072</td>\n",
       "    </tr>\n",
       "    <tr>\n",
       "      <th>121</th>\n",
       "      <td>607d2db08e1979b7b9502bb9</td>\n",
       "      <td>TMO</td>\n",
       "      <td>41.0</td>\n",
       "      <td>NaN</td>\n",
       "      <td>492.92</td>\n",
       "      <td>499.75</td>\n",
       "      <td>2021-04-19 03:13:52.778</td>\n",
       "      <td>2021-04-19 03:13:52.778</td>\n",
       "      <td>0.024204</td>\n",
       "      <td>0.417336</td>\n",
       "    </tr>\n",
       "  </tbody>\n",
       "</table>\n",
       "<p>122 rows × 10 columns</p>\n",
       "</div>"
      ],
      "text/plain": [
       "                          _id ticker  quantity  weekly_delta  buy_price  \\\n",
       "0    6021359860be2acc951132fe     VZ     966.0      0.063665      55.32   \n",
       "1    6021359860be2acc951132ff    ATO     600.0      0.057075      89.05   \n",
       "2    6021359860be2acc95113300    CNP    2498.0      0.033336      21.40   \n",
       "3    6021359860be2acc95113301     ED     748.0      0.025170      71.50   \n",
       "4    6021359860be2acc95113302     NI    2344.0     -0.009964      22.80   \n",
       "..                        ...    ...       ...           ...        ...   \n",
       "117  607d2db08e1979b7b9502bb5    PKI     150.0           NaN     133.16   \n",
       "118  607d2db08e1979b7b9502bb6    CLX     105.0           NaN     190.73   \n",
       "119  607d2db08e1979b7b9502bb7     CL     248.0           NaN      80.70   \n",
       "120  607d2db08e1979b7b9502bb8    DVA     177.0           NaN     113.11   \n",
       "121  607d2db08e1979b7b9502bb9    TMO      41.0           NaN     492.92   \n",
       "\n",
       "     sell_price                buy_date        calculation_date  \\\n",
       "0         55.75 2021-02-08 07:58:42.206 2021-02-08 07:58:42.206   \n",
       "1         89.74 2021-02-08 07:58:42.206 2021-02-08 07:58:42.206   \n",
       "2         21.57 2021-02-08 07:58:42.207 2021-02-08 07:58:42.207   \n",
       "3         72.06 2021-02-08 07:58:42.208 2021-02-08 07:58:42.208   \n",
       "4         22.98 2021-02-08 07:58:42.208 2021-02-08 07:58:42.208   \n",
       "..          ...                     ...                     ...   \n",
       "117      135.00 2021-04-19 03:13:52.777 2021-04-19 03:13:52.777   \n",
       "118      193.37 2021-04-19 03:13:52.777 2021-04-19 03:13:52.777   \n",
       "119       81.82 2021-04-19 03:13:52.777 2021-04-19 03:13:52.777   \n",
       "120      114.68 2021-04-19 03:13:52.778 2021-04-19 03:13:52.778   \n",
       "121      499.75 2021-04-19 03:13:52.778 2021-04-19 03:13:52.778   \n",
       "\n",
       "     weekly_predicted_delta  fundamental_predicted_delta  \n",
       "0                       NaN                          NaN  \n",
       "1                       NaN                          NaN  \n",
       "2                       NaN                          NaN  \n",
       "3                       NaN                          NaN  \n",
       "4                       NaN                          NaN  \n",
       "..                      ...                          ...  \n",
       "117                0.092441                     0.328746  \n",
       "118                0.052889                     0.239654  \n",
       "119                0.045781                     0.257945  \n",
       "120                0.026312                     0.418072  \n",
       "121                0.024204                     0.417336  \n",
       "\n",
       "[122 rows x 10 columns]"
      ]
     },
     "execution_count": 36,
     "metadata": {},
     "output_type": "execute_result"
    }
   ],
   "source": [
    "orders"
   ]
  },
  {
   "cell_type": "code",
   "execution_count": 37,
   "metadata": {},
   "outputs": [
    {
     "data": {
      "text/html": [
       "<div>\n",
       "<style scoped>\n",
       "    .dataframe tbody tr th:only-of-type {\n",
       "        vertical-align: middle;\n",
       "    }\n",
       "\n",
       "    .dataframe tbody tr th {\n",
       "        vertical-align: top;\n",
       "    }\n",
       "\n",
       "    .dataframe thead th {\n",
       "        text-align: right;\n",
       "    }\n",
       "</style>\n",
       "<table border=\"1\" class=\"dataframe\">\n",
       "  <thead>\n",
       "    <tr style=\"text-align: right;\">\n",
       "      <th></th>\n",
       "      <th>_id</th>\n",
       "      <th>ticker</th>\n",
       "      <th>quantity</th>\n",
       "      <th>weekly_delta</th>\n",
       "      <th>buy_price</th>\n",
       "      <th>sell_price</th>\n",
       "      <th>buy_date</th>\n",
       "      <th>calculation_date</th>\n",
       "      <th>weekly_predicted_delta</th>\n",
       "      <th>fundamental_predicted_delta</th>\n",
       "      <th>GICS Sector</th>\n",
       "    </tr>\n",
       "  </thead>\n",
       "  <tbody>\n",
       "    <tr>\n",
       "      <th>107</th>\n",
       "      <td>607d2da08e1979b7b9502baa</td>\n",
       "      <td>LNT</td>\n",
       "      <td>534.0</td>\n",
       "      <td>NaN</td>\n",
       "      <td>56.160000</td>\n",
       "      <td>57.16</td>\n",
       "      <td>2021-04-19 03:13:36.904</td>\n",
       "      <td>2021-04-19 03:13:36.904</td>\n",
       "      <td>3635.498676</td>\n",
       "      <td>0.294627</td>\n",
       "      <td>Utilities</td>\n",
       "    </tr>\n",
       "    <tr>\n",
       "      <th>113</th>\n",
       "      <td>607d2db08e1979b7b9502bb1</td>\n",
       "      <td>LNT</td>\n",
       "      <td>356.0</td>\n",
       "      <td>NaN</td>\n",
       "      <td>56.160000</td>\n",
       "      <td>56.94</td>\n",
       "      <td>2021-04-19 03:13:52.776</td>\n",
       "      <td>2021-04-19 03:13:52.776</td>\n",
       "      <td>3635.498676</td>\n",
       "      <td>0.294627</td>\n",
       "      <td>Utilities</td>\n",
       "    </tr>\n",
       "    <tr>\n",
       "      <th>108</th>\n",
       "      <td>607d2da08e1979b7b9502bab</td>\n",
       "      <td>LLY</td>\n",
       "      <td>159.0</td>\n",
       "      <td>NaN</td>\n",
       "      <td>189.250000</td>\n",
       "      <td>192.63</td>\n",
       "      <td>2021-04-19 03:13:36.904</td>\n",
       "      <td>2021-04-19 03:13:36.904</td>\n",
       "      <td>3486.665125</td>\n",
       "      <td>0.382252</td>\n",
       "      <td>Health Care</td>\n",
       "    </tr>\n",
       "    <tr>\n",
       "      <th>114</th>\n",
       "      <td>607d2db08e1979b7b9502bb2</td>\n",
       "      <td>LLY</td>\n",
       "      <td>106.0</td>\n",
       "      <td>NaN</td>\n",
       "      <td>189.250000</td>\n",
       "      <td>191.87</td>\n",
       "      <td>2021-04-19 03:13:52.776</td>\n",
       "      <td>2021-04-19 03:13:52.776</td>\n",
       "      <td>3486.665125</td>\n",
       "      <td>0.382252</td>\n",
       "      <td>Health Care</td>\n",
       "    </tr>\n",
       "    <tr>\n",
       "      <th>115</th>\n",
       "      <td>607d2db08e1979b7b9502bb3</td>\n",
       "      <td>WEC</td>\n",
       "      <td>206.0</td>\n",
       "      <td>NaN</td>\n",
       "      <td>96.960000</td>\n",
       "      <td>98.30</td>\n",
       "      <td>2021-04-19 03:13:52.777</td>\n",
       "      <td>2021-04-19 03:13:52.777</td>\n",
       "      <td>2385.106384</td>\n",
       "      <td>0.210696</td>\n",
       "      <td>Utilities</td>\n",
       "    </tr>\n",
       "    <tr>\n",
       "      <th>...</th>\n",
       "      <td>...</td>\n",
       "      <td>...</td>\n",
       "      <td>...</td>\n",
       "      <td>...</td>\n",
       "      <td>...</td>\n",
       "      <td>...</td>\n",
       "      <td>...</td>\n",
       "      <td>...</td>\n",
       "      <td>...</td>\n",
       "      <td>...</td>\n",
       "      <td>...</td>\n",
       "    </tr>\n",
       "    <tr>\n",
       "      <th>87</th>\n",
       "      <td>606b280d14a9c5732c02e1ff</td>\n",
       "      <td>F</td>\n",
       "      <td>4371.0</td>\n",
       "      <td>0.383249</td>\n",
       "      <td>12.170000</td>\n",
       "      <td>12.34</td>\n",
       "      <td>2021-04-05 11:09:01.943</td>\n",
       "      <td>2021-04-05 11:09:01.943</td>\n",
       "      <td>NaN</td>\n",
       "      <td>NaN</td>\n",
       "      <td>Consumer Discretionary</td>\n",
       "    </tr>\n",
       "    <tr>\n",
       "      <th>88</th>\n",
       "      <td>606b280d14a9c5732c02e200</td>\n",
       "      <td>KIM</td>\n",
       "      <td>2770.0</td>\n",
       "      <td>0.379627</td>\n",
       "      <td>19.200001</td>\n",
       "      <td>19.47</td>\n",
       "      <td>2021-04-05 11:09:01.943</td>\n",
       "      <td>2021-04-05 11:09:01.943</td>\n",
       "      <td>NaN</td>\n",
       "      <td>NaN</td>\n",
       "      <td>Real Estate</td>\n",
       "    </tr>\n",
       "    <tr>\n",
       "      <th>89</th>\n",
       "      <td>606b280d14a9c5732c02e201</td>\n",
       "      <td>RF</td>\n",
       "      <td>2526.0</td>\n",
       "      <td>0.379292</td>\n",
       "      <td>21.059999</td>\n",
       "      <td>21.35</td>\n",
       "      <td>2021-04-05 11:09:01.943</td>\n",
       "      <td>2021-04-05 11:09:01.943</td>\n",
       "      <td>NaN</td>\n",
       "      <td>NaN</td>\n",
       "      <td>Financials</td>\n",
       "    </tr>\n",
       "    <tr>\n",
       "      <th>90</th>\n",
       "      <td>606b280d14a9c5732c02e202</td>\n",
       "      <td>RJF</td>\n",
       "      <td>420.0</td>\n",
       "      <td>0.377192</td>\n",
       "      <td>126.510002</td>\n",
       "      <td>128.26</td>\n",
       "      <td>2021-04-05 11:09:01.943</td>\n",
       "      <td>2021-04-05 11:09:01.943</td>\n",
       "      <td>NaN</td>\n",
       "      <td>NaN</td>\n",
       "      <td>Financials</td>\n",
       "    </tr>\n",
       "    <tr>\n",
       "      <th>91</th>\n",
       "      <td>606b280d14a9c5732c02e203</td>\n",
       "      <td>WFC</td>\n",
       "      <td>1342.0</td>\n",
       "      <td>0.376707</td>\n",
       "      <td>39.630001</td>\n",
       "      <td>40.18</td>\n",
       "      <td>2021-04-05 11:09:01.944</td>\n",
       "      <td>2021-04-05 11:09:01.944</td>\n",
       "      <td>NaN</td>\n",
       "      <td>NaN</td>\n",
       "      <td>Financials</td>\n",
       "    </tr>\n",
       "  </tbody>\n",
       "</table>\n",
       "<p>122 rows × 11 columns</p>\n",
       "</div>"
      ],
      "text/plain": [
       "                          _id ticker  quantity  weekly_delta   buy_price  \\\n",
       "107  607d2da08e1979b7b9502baa    LNT     534.0           NaN   56.160000   \n",
       "113  607d2db08e1979b7b9502bb1    LNT     356.0           NaN   56.160000   \n",
       "108  607d2da08e1979b7b9502bab    LLY     159.0           NaN  189.250000   \n",
       "114  607d2db08e1979b7b9502bb2    LLY     106.0           NaN  189.250000   \n",
       "115  607d2db08e1979b7b9502bb3    WEC     206.0           NaN   96.960000   \n",
       "..                        ...    ...       ...           ...         ...   \n",
       "87   606b280d14a9c5732c02e1ff      F    4371.0      0.383249   12.170000   \n",
       "88   606b280d14a9c5732c02e200    KIM    2770.0      0.379627   19.200001   \n",
       "89   606b280d14a9c5732c02e201     RF    2526.0      0.379292   21.059999   \n",
       "90   606b280d14a9c5732c02e202    RJF     420.0      0.377192  126.510002   \n",
       "91   606b280d14a9c5732c02e203    WFC    1342.0      0.376707   39.630001   \n",
       "\n",
       "     sell_price                buy_date        calculation_date  \\\n",
       "107       57.16 2021-04-19 03:13:36.904 2021-04-19 03:13:36.904   \n",
       "113       56.94 2021-04-19 03:13:52.776 2021-04-19 03:13:52.776   \n",
       "108      192.63 2021-04-19 03:13:36.904 2021-04-19 03:13:36.904   \n",
       "114      191.87 2021-04-19 03:13:52.776 2021-04-19 03:13:52.776   \n",
       "115       98.30 2021-04-19 03:13:52.777 2021-04-19 03:13:52.777   \n",
       "..          ...                     ...                     ...   \n",
       "87        12.34 2021-04-05 11:09:01.943 2021-04-05 11:09:01.943   \n",
       "88        19.47 2021-04-05 11:09:01.943 2021-04-05 11:09:01.943   \n",
       "89        21.35 2021-04-05 11:09:01.943 2021-04-05 11:09:01.943   \n",
       "90       128.26 2021-04-05 11:09:01.943 2021-04-05 11:09:01.943   \n",
       "91        40.18 2021-04-05 11:09:01.944 2021-04-05 11:09:01.944   \n",
       "\n",
       "     weekly_predicted_delta  fundamental_predicted_delta  \\\n",
       "107             3635.498676                     0.294627   \n",
       "113             3635.498676                     0.294627   \n",
       "108             3486.665125                     0.382252   \n",
       "114             3486.665125                     0.382252   \n",
       "115             2385.106384                     0.210696   \n",
       "..                      ...                          ...   \n",
       "87                      NaN                          NaN   \n",
       "88                      NaN                          NaN   \n",
       "89                      NaN                          NaN   \n",
       "90                      NaN                          NaN   \n",
       "91                      NaN                          NaN   \n",
       "\n",
       "                GICS Sector  \n",
       "107               Utilities  \n",
       "113               Utilities  \n",
       "108             Health Care  \n",
       "114             Health Care  \n",
       "115               Utilities  \n",
       "..                      ...  \n",
       "87   Consumer Discretionary  \n",
       "88              Real Estate  \n",
       "89               Financials  \n",
       "90               Financials  \n",
       "91               Financials  \n",
       "\n",
       "[122 rows x 11 columns]"
      ]
     },
     "execution_count": 37,
     "metadata": {},
     "output_type": "execute_result"
    }
   ],
   "source": [
    "orders.merge(tickers.rename(columns={\"Symbol\":\"ticker\"})[[\"ticker\",\"GICS Sector\"]],on=\"ticker\",how=\"left\").sort_values(\"weekly_predicted_delta\",ascending=False)"
   ]
  },
  {
   "cell_type": "code",
   "execution_count": 40,
   "metadata": {},
   "outputs": [],
   "source": [
    "orders = orders .sort_values(\"buy_date\",ascending=False).head(9)"
   ]
  },
  {
   "cell_type": "code",
   "execution_count": 41,
   "metadata": {},
   "outputs": [
    {
     "data": {
      "text/html": [
       "<div>\n",
       "<style scoped>\n",
       "    .dataframe tbody tr th:only-of-type {\n",
       "        vertical-align: middle;\n",
       "    }\n",
       "\n",
       "    .dataframe tbody tr th {\n",
       "        vertical-align: top;\n",
       "    }\n",
       "\n",
       "    .dataframe thead th {\n",
       "        text-align: right;\n",
       "    }\n",
       "</style>\n",
       "<table border=\"1\" class=\"dataframe\">\n",
       "  <thead>\n",
       "    <tr style=\"text-align: right;\">\n",
       "      <th></th>\n",
       "      <th>_id</th>\n",
       "      <th>ticker</th>\n",
       "      <th>quantity</th>\n",
       "      <th>weekly_delta</th>\n",
       "      <th>buy_price</th>\n",
       "      <th>sell_price</th>\n",
       "      <th>buy_date</th>\n",
       "      <th>calculation_date</th>\n",
       "      <th>weekly_predicted_delta</th>\n",
       "      <th>fundamental_predicted_delta</th>\n",
       "    </tr>\n",
       "  </thead>\n",
       "  <tbody>\n",
       "    <tr>\n",
       "      <th>121</th>\n",
       "      <td>607d2db08e1979b7b9502bb9</td>\n",
       "      <td>TMO</td>\n",
       "      <td>41.0</td>\n",
       "      <td>NaN</td>\n",
       "      <td>492.92</td>\n",
       "      <td>499.75</td>\n",
       "      <td>2021-04-19 03:13:52.778</td>\n",
       "      <td>2021-04-19 03:13:52.778</td>\n",
       "      <td>0.024204</td>\n",
       "      <td>0.417336</td>\n",
       "    </tr>\n",
       "    <tr>\n",
       "      <th>120</th>\n",
       "      <td>607d2db08e1979b7b9502bb8</td>\n",
       "      <td>DVA</td>\n",
       "      <td>177.0</td>\n",
       "      <td>NaN</td>\n",
       "      <td>113.11</td>\n",
       "      <td>114.68</td>\n",
       "      <td>2021-04-19 03:13:52.778</td>\n",
       "      <td>2021-04-19 03:13:52.778</td>\n",
       "      <td>0.026312</td>\n",
       "      <td>0.418072</td>\n",
       "    </tr>\n",
       "    <tr>\n",
       "      <th>119</th>\n",
       "      <td>607d2db08e1979b7b9502bb7</td>\n",
       "      <td>CL</td>\n",
       "      <td>248.0</td>\n",
       "      <td>NaN</td>\n",
       "      <td>80.70</td>\n",
       "      <td>81.82</td>\n",
       "      <td>2021-04-19 03:13:52.777</td>\n",
       "      <td>2021-04-19 03:13:52.777</td>\n",
       "      <td>0.045781</td>\n",
       "      <td>0.257945</td>\n",
       "    </tr>\n",
       "    <tr>\n",
       "      <th>118</th>\n",
       "      <td>607d2db08e1979b7b9502bb6</td>\n",
       "      <td>CLX</td>\n",
       "      <td>105.0</td>\n",
       "      <td>NaN</td>\n",
       "      <td>190.73</td>\n",
       "      <td>193.37</td>\n",
       "      <td>2021-04-19 03:13:52.777</td>\n",
       "      <td>2021-04-19 03:13:52.777</td>\n",
       "      <td>0.052889</td>\n",
       "      <td>0.239654</td>\n",
       "    </tr>\n",
       "    <tr>\n",
       "      <th>117</th>\n",
       "      <td>607d2db08e1979b7b9502bb5</td>\n",
       "      <td>PKI</td>\n",
       "      <td>150.0</td>\n",
       "      <td>NaN</td>\n",
       "      <td>133.16</td>\n",
       "      <td>135.00</td>\n",
       "      <td>2021-04-19 03:13:52.777</td>\n",
       "      <td>2021-04-19 03:13:52.777</td>\n",
       "      <td>0.092441</td>\n",
       "      <td>0.328746</td>\n",
       "    </tr>\n",
       "    <tr>\n",
       "      <th>116</th>\n",
       "      <td>607d2db08e1979b7b9502bb4</td>\n",
       "      <td>QCOM</td>\n",
       "      <td>145.0</td>\n",
       "      <td>NaN</td>\n",
       "      <td>138.21</td>\n",
       "      <td>140.12</td>\n",
       "      <td>2021-04-19 03:13:52.777</td>\n",
       "      <td>2021-04-19 03:13:52.777</td>\n",
       "      <td>0.118390</td>\n",
       "      <td>0.465898</td>\n",
       "    </tr>\n",
       "    <tr>\n",
       "      <th>115</th>\n",
       "      <td>607d2db08e1979b7b9502bb3</td>\n",
       "      <td>WEC</td>\n",
       "      <td>206.0</td>\n",
       "      <td>NaN</td>\n",
       "      <td>96.96</td>\n",
       "      <td>98.30</td>\n",
       "      <td>2021-04-19 03:13:52.777</td>\n",
       "      <td>2021-04-19 03:13:52.777</td>\n",
       "      <td>2385.106384</td>\n",
       "      <td>0.210696</td>\n",
       "    </tr>\n",
       "    <tr>\n",
       "      <th>114</th>\n",
       "      <td>607d2db08e1979b7b9502bb2</td>\n",
       "      <td>LLY</td>\n",
       "      <td>106.0</td>\n",
       "      <td>NaN</td>\n",
       "      <td>189.25</td>\n",
       "      <td>191.87</td>\n",
       "      <td>2021-04-19 03:13:52.776</td>\n",
       "      <td>2021-04-19 03:13:52.776</td>\n",
       "      <td>3486.665125</td>\n",
       "      <td>0.382252</td>\n",
       "    </tr>\n",
       "    <tr>\n",
       "      <th>113</th>\n",
       "      <td>607d2db08e1979b7b9502bb1</td>\n",
       "      <td>LNT</td>\n",
       "      <td>356.0</td>\n",
       "      <td>NaN</td>\n",
       "      <td>56.16</td>\n",
       "      <td>56.94</td>\n",
       "      <td>2021-04-19 03:13:52.776</td>\n",
       "      <td>2021-04-19 03:13:52.776</td>\n",
       "      <td>3635.498676</td>\n",
       "      <td>0.294627</td>\n",
       "    </tr>\n",
       "  </tbody>\n",
       "</table>\n",
       "</div>"
      ],
      "text/plain": [
       "                          _id ticker  quantity  weekly_delta  buy_price  \\\n",
       "121  607d2db08e1979b7b9502bb9    TMO      41.0           NaN     492.92   \n",
       "120  607d2db08e1979b7b9502bb8    DVA     177.0           NaN     113.11   \n",
       "119  607d2db08e1979b7b9502bb7     CL     248.0           NaN      80.70   \n",
       "118  607d2db08e1979b7b9502bb6    CLX     105.0           NaN     190.73   \n",
       "117  607d2db08e1979b7b9502bb5    PKI     150.0           NaN     133.16   \n",
       "116  607d2db08e1979b7b9502bb4   QCOM     145.0           NaN     138.21   \n",
       "115  607d2db08e1979b7b9502bb3    WEC     206.0           NaN      96.96   \n",
       "114  607d2db08e1979b7b9502bb2    LLY     106.0           NaN     189.25   \n",
       "113  607d2db08e1979b7b9502bb1    LNT     356.0           NaN      56.16   \n",
       "\n",
       "     sell_price                buy_date        calculation_date  \\\n",
       "121      499.75 2021-04-19 03:13:52.778 2021-04-19 03:13:52.778   \n",
       "120      114.68 2021-04-19 03:13:52.778 2021-04-19 03:13:52.778   \n",
       "119       81.82 2021-04-19 03:13:52.777 2021-04-19 03:13:52.777   \n",
       "118      193.37 2021-04-19 03:13:52.777 2021-04-19 03:13:52.777   \n",
       "117      135.00 2021-04-19 03:13:52.777 2021-04-19 03:13:52.777   \n",
       "116      140.12 2021-04-19 03:13:52.777 2021-04-19 03:13:52.777   \n",
       "115       98.30 2021-04-19 03:13:52.777 2021-04-19 03:13:52.777   \n",
       "114      191.87 2021-04-19 03:13:52.776 2021-04-19 03:13:52.776   \n",
       "113       56.94 2021-04-19 03:13:52.776 2021-04-19 03:13:52.776   \n",
       "\n",
       "     weekly_predicted_delta  fundamental_predicted_delta  \n",
       "121                0.024204                     0.417336  \n",
       "120                0.026312                     0.418072  \n",
       "119                0.045781                     0.257945  \n",
       "118                0.052889                     0.239654  \n",
       "117                0.092441                     0.328746  \n",
       "116                0.118390                     0.465898  \n",
       "115             2385.106384                     0.210696  \n",
       "114             3486.665125                     0.382252  \n",
       "113             3635.498676                     0.294627  "
      ]
     },
     "execution_count": 41,
     "metadata": {},
     "output_type": "execute_result"
    }
   ],
   "source": [
    "orders"
   ]
  },
  {
   "cell_type": "code",
   "execution_count": null,
   "metadata": {
    "scrolled": true
   },
   "outputs": [],
   "source": [
    "app = IBApp()\n",
    "app.connect(\"localhost\",7491,777)\n",
    "oid = 7777\n",
    "for ticker in orders[\"ticker\"]:\n",
    "    order = orders[orders[\"ticker\"] == ticker]\n",
    "    app.execute_order(oid,order[\"ticker\"].item(),\"BUY\",order[\"quantity\"].item(),order[\"buy_price\"].item())\n",
    "    oid +=1\n",
    "app.run()\n",
    "app.disconnect()"
   ]
  },
  {
   "cell_type": "code",
   "execution_count": 42,
   "metadata": {},
   "outputs": [
    {
     "name": "stderr",
     "output_type": "stream",
     "text": [
      "ERROR:ibapi.wrapper:ERROR -1 2104 Market data farm connection is OK:usfarm.nj\n",
      "ERROR:ibapi.wrapper:ERROR -1 2104 Market data farm connection is OK:cashfarm\n",
      "ERROR:ibapi.wrapper:ERROR -1 2104 Market data farm connection is OK:usfarm\n",
      "ERROR:ibapi.wrapper:ERROR -1 2106 HMDS data farm connection is OK:euhmds\n",
      "ERROR:ibapi.wrapper:ERROR -1 2106 HMDS data farm connection is OK:fundfarm\n",
      "ERROR:ibapi.wrapper:ERROR -1 2106 HMDS data farm connection is OK:ushmds\n",
      "ERROR:ibapi.wrapper:ERROR -1 2158 Sec-def data farm connection is OK:secdefil\n",
      "ERROR:ibapi.wrapper:ERROR 8000 354 You are trying to submit an order without having market data for this instrument.\n",
      "IB strongly recommends against this kind of blind trading\n",
      "which may result in erroneous or unexpected trades.\n",
      "Restriction is specified in Precautionary Settings of Global Configuration/Presets.\n",
      "ERROR:ibapi.wrapper:ERROR 8001 354 You are trying to submit an order without having market data for this instrument.\n",
      "IB strongly recommends against this kind of blind trading\n",
      "which may result in erroneous or unexpected trades.\n",
      "Restriction is specified in Precautionary Settings of Global Configuration/Presets.\n",
      "ERROR:ibapi.wrapper:ERROR 8002 354 You are trying to submit an order without having market data for this instrument.\n",
      "IB strongly recommends against this kind of blind trading\n",
      "which may result in erroneous or unexpected trades.\n",
      "Restriction is specified in Precautionary Settings of Global Configuration/Presets.\n",
      "ERROR:ibapi.wrapper:ERROR 8003 354 You are trying to submit an order without having market data for this instrument.\n",
      "IB strongly recommends against this kind of blind trading\n",
      "which may result in erroneous or unexpected trades.\n",
      "Restriction is specified in Precautionary Settings of Global Configuration/Presets.\n",
      "ERROR:ibapi.wrapper:ERROR 8004 354 You are trying to submit an order without having market data for this instrument.\n",
      "IB strongly recommends against this kind of blind trading\n",
      "which may result in erroneous or unexpected trades.\n",
      "Restriction is specified in Precautionary Settings of Global Configuration/Presets.\n",
      "ERROR:ibapi.wrapper:ERROR 8005 354 You are trying to submit an order without having market data for this instrument.\n",
      "IB strongly recommends against this kind of blind trading\n",
      "which may result in erroneous or unexpected trades.\n",
      "Restriction is specified in Precautionary Settings of Global Configuration/Presets.\n",
      "ERROR:ibapi.wrapper:ERROR 8006 354 You are trying to submit an order without having market data for this instrument.\n",
      "IB strongly recommends against this kind of blind trading\n",
      "which may result in erroneous or unexpected trades.\n",
      "Restriction is specified in Precautionary Settings of Global Configuration/Presets.\n",
      "ERROR:ibapi.wrapper:ERROR 8007 354 You are trying to submit an order without having market data for this instrument.\n",
      "IB strongly recommends against this kind of blind trading\n",
      "which may result in erroneous or unexpected trades.\n",
      "Restriction is specified in Precautionary Settings of Global Configuration/Presets.\n",
      "ERROR:ibapi.wrapper:ERROR 8008 354 You are trying to submit an order without having market data for this instrument.\n",
      "IB strongly recommends against this kind of blind trading\n",
      "which may result in erroneous or unexpected trades.\n",
      "Restriction is specified in Precautionary Settings of Global Configuration/Presets.\n"
     ]
    }
   ],
   "source": [
    "app.connect(\"localhost\",7491,777)\n",
    "oid = 8000\n",
    "for ticker in orders[\"ticker\"]:\n",
    "    order = orders[orders[\"ticker\"] == ticker]\n",
    "    app.execute_order(oid,order[\"ticker\"].item(),\"SELL\",order[\"quantity\"].item(),order[\"sell_price\"].item())\n",
    "    oid +=1\n",
    "app.run()\n",
    "app.disconnect()"
   ]
  }
 ],
 "metadata": {
  "kernelspec": {
   "display_name": "Python 3",
   "language": "python",
   "name": "python3"
  },
  "language_info": {
   "codemirror_mode": {
    "name": "ipython",
    "version": 3
   },
   "file_extension": ".py",
   "mimetype": "text/x-python",
   "name": "python",
   "nbconvert_exporter": "python",
   "pygments_lexer": "ipython3",
   "version": "3.8.0"
  }
 },
 "nbformat": 4,
 "nbformat_minor": 4
}
