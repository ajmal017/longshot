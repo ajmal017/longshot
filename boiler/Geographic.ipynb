{
 "cells": [
  {
   "cell_type": "code",
   "execution_count": 1,
   "metadata": {},
   "outputs": [],
   "source": [
    "from database.market import Market\n",
    "import pandas as pd"
   ]
  },
  {
   "cell_type": "code",
   "execution_count": 2,
   "metadata": {},
   "outputs": [],
   "source": [
    "market = Market()\n",
    "market.connect()\n",
    "sp5 = market.retrieve_data(\"sp500\")\n",
    "market.close()"
   ]
  },
  {
   "cell_type": "code",
   "execution_count": 12,
   "metadata": {},
   "outputs": [],
   "source": [
    "sp5[\"state\"] = [x.split(\",\")[1].strip() for x in sp5[\"Headquarters Location\"]]"
   ]
  },
  {
   "cell_type": "code",
   "execution_count": 13,
   "metadata": {},
   "outputs": [
    {
     "data": {
      "text/plain": [
       "array(['Minnesota', 'Illinois', 'Massachusetts', 'Ireland', 'California',\n",
       "       'North Carolina', 'Virginia', 'Georgia', 'Pennsylvania',\n",
       "       'Washington', 'Wisconsin', 'Bristol', 'Missouri', 'Texas', 'Ohio',\n",
       "       'New York', 'New Jersey', 'Connecticut', 'Indiana',\n",
       "       'United Kingdom', 'Tennessee', 'Virginia[3]', 'Colorado',\n",
       "       'Nebraska', 'Michigan', 'Massachusetts[4]', 'Kentucky', 'Florida',\n",
       "       'Switzerland', 'Rhode Island', 'Delaware', 'D.C.', 'Oklahoma',\n",
       "       'Louisiana', 'Bermuda', 'Utah', 'Maryland', 'Oregon', 'Arizona',\n",
       "       'Maine', 'Arkansas', 'Illinois; Pittsburgh', 'Idaho', 'Nevada',\n",
       "       'Surrey', 'Netherlands', 'UK', 'Iowa', 'Alabama',\n",
       "       'Kingdom of the Netherlands'], dtype=object)"
      ]
     },
     "execution_count": 13,
     "metadata": {},
     "output_type": "execute_result"
    }
   ],
   "source": [
    "sp5[\"state\"].unique()"
   ]
  },
  {
   "cell_type": "code",
   "execution_count": 14,
   "metadata": {},
   "outputs": [],
   "source": [
    "states = [\"Georgia\", \"Arizona\", \"Pennsylvania\", \"Michigan\", \"Wisconsin\"]"
   ]
  },
  {
   "cell_type": "code",
   "execution_count": 16,
   "metadata": {},
   "outputs": [
    {
     "data": {
      "text/plain": [
       "57"
      ]
     },
     "execution_count": 16,
     "metadata": {},
     "output_type": "execute_result"
    }
   ],
   "source": [
    "len(sp5[sp5[\"state\"].isin(states)])"
   ]
  }
 ],
 "metadata": {
  "kernelspec": {
   "display_name": "Python 3",
   "language": "python",
   "name": "python3"
  },
  "language_info": {
   "codemirror_mode": {
    "name": "ipython",
    "version": 3
   },
   "file_extension": ".py",
   "mimetype": "text/x-python",
   "name": "python",
   "nbconvert_exporter": "python",
   "pygments_lexer": "ipython3",
   "version": "3.8.0"
  }
 },
 "nbformat": 4,
 "nbformat_minor": 4
}
