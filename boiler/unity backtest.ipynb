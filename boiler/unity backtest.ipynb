{
 "cells": [
  {
   "cell_type": "code",
   "execution_count": 1,
   "metadata": {},
   "outputs": [],
   "source": [
    "import pandas as pd\n",
    "from tqdm import tqdm\n",
    "from database.strategy import Strategy\n",
    "from database.market import Market\n",
    "import warnings\n",
    "warnings.simplefilter(action='ignore', category=Warning)\n",
    "import matplotlib.pyplot as plt\n",
    "from datetime import datetime, timedelta\n",
    "import math\n",
    "import numpy as np"
   ]
  },
  {
   "cell_type": "code",
   "execution_count": 2,
   "metadata": {},
   "outputs": [],
   "source": [
    "strat_db = Strategy(\"unity\")\n",
    "market = Market()"
   ]
  },
  {
   "cell_type": "code",
   "execution_count": 3,
   "metadata": {},
   "outputs": [],
   "source": [
    "market.connect()\n",
    "sp5 = market.retrieve_data(\"sp500\")\n",
    "market.close()"
   ]
  },
  {
   "cell_type": "code",
   "execution_count": null,
   "metadata": {},
   "outputs": [],
   "source": [
    "strat_db.connect()\n",
    "sim = strat_db.retrieve_data(\"csim\")\n",
    "strat_db.close()"
   ]
  },
  {
   "cell_type": "code",
   "execution_count": null,
   "metadata": {},
   "outputs": [],
   "source": [
    "availability = []\n",
    "start = datetime(2018,6,1)\n",
    "end = datetime(2018,6,1)\n",
    "for ticker in list(sp5[\"Symbol\"]):\n",
    "    ticker = ticker.replace(\".\",\"-\")\n",
    "    td = sim[(sim[\"ticker\"]==ticker) & (sim[\"date\"]<=end)]\n",
    "    try:\n",
    "        availability.append({\"ticker\":ticker\n",
    "                             ,\"end_date\":end <= td.iloc[len(td)-1][\"date\"]\n",
    "                             ,\"days\":(td.iloc[len(td)-1][\"date\"]- td.iloc[0][\"date\"]).days\n",
    "                            ,\"records\":len(td[td[\"date\"] <= end])\n",
    "                            ,\"pct\":math.ceil(len(td[td[\"date\"] <= end])/(end - td.iloc[0][\"date\"]).days * 100)})\n",
    "    except Exception as e:\n",
    "        continue\n",
    "stuff = pd.DataFrame(availability)\n",
    "sp5_tickers = list(stuff[(stuff[\"pct\"] >= stuff[\"pct\"].mode().item() - 1) | (stuff[\"pct\"] <= stuff[\"pct\"].mode().item() + 1)][\"ticker\"].values)"
   ]
  },
  {
   "cell_type": "code",
   "execution_count": null,
   "metadata": {},
   "outputs": [],
   "source": [
    "sim[\"week\"] = [x.week for x in sim[\"date\"]]\n",
    "sim[\"year\"] = [x.year for x in sim[\"date\"]]"
   ]
  },
  {
   "cell_type": "code",
   "execution_count": null,
   "metadata": {},
   "outputs": [],
   "source": [
    "wgs = sim.groupby([\"year\",\"week\",\"ticker\"]).mean().reset_index()"
   ]
  },
  {
   "cell_type": "code",
   "execution_count": null,
   "metadata": {},
   "outputs": [],
   "source": [
    "ticker_categories_weeklys = []\n",
    "for ticker in wgs[\"ticker\"].unique():\n",
    "    ticker_wgs = wgs[wgs[\"ticker\"] == ticker]\n",
    "    ticker_wgs[\"actualclose\"] = (ticker_wgs[\"adjclose\"].shift(-1))\n",
    "    ticker_wgs = ticker_wgs[:-1]\n",
    "    ticker_wgs[\"actual_delta\"] = (ticker_wgs[\"actualclose\"] - ticker_wgs[\"adjclose\"]) / ticker_wgs[\"adjclose\"]\n",
    "#     ticker_wgs[\"sync\"] = [0 if row[1][\"actual_delta\"] * row[1][\"weekly_price_regression_prediction_delta\"] >= 0 else 1 for row in ticker_wgs.iterrows()]\n",
    "#     ticker_wgs[\"category\"] = ticker_wgs[\"sync\"].rolling(window=5).mean()\n",
    "#     ticker_wgs = ticker_wgs[5:]\n",
    "#     ticker_wgs[\"category\"] = [round(x) for x in ticker_wgs[\"category\"]]\n",
    "    ticker_wgs[\"rolling_performance\"] = ticker_wgs[\"actual_delta\"].rolling(window=14).mean()\n",
    "    ticker_categories_weeklys.append(ticker_wgs)\n",
    "tcw = pd.concat(ticker_categories_weeklys)"
   ]
  },
  {
   "cell_type": "code",
   "execution_count": null,
   "metadata": {},
   "outputs": [],
   "source": [
    "final_sim = sim.merge(tcw[[\"year\",\"week\",\"ticker\"\n",
    "#                            ,\"category\"\n",
    "                           ,\"rolling_performance\"]],on=[\"year\",\"week\",\"ticker\"],how=\"left\").dropna()\n",
    "final_sim.drop([\"weekly_btc_classification_score\",\"weekly_btc_regression_score\"],axis=1,inplace=True)\n",
    "# final_sim[\"predicted_delta\"] = [-1 * row[1][\"weekly_price_regression_prediction_delta\"] \\\n",
    "#                           if row[1][\"category\"] == 1 else row[1][\"weekly_price_regression_prediction_delta\"] \\\n",
    "#                           for row in final_sim.iterrows()]"
   ]
  },
  {
   "cell_type": "code",
   "execution_count": null,
   "metadata": {},
   "outputs": [],
   "source": [
    "final_sim.sort_values(\"date\")[[\"high\",\"low\",\"adjclose\"]].head(20)"
   ]
  },
  {
   "cell_type": "code",
   "execution_count": null,
   "metadata": {},
   "outputs": [],
   "source": [
    "def backtest(sim,trend,classifier,score,weekly_delta_req,ascending,seats,performance_filter):\n",
    "    trades = []\n",
    "    sim_columns = sim.columns\n",
    "    sorted_column = \"weekly_price_regression_prediction_delta\"\n",
    "    sc = [x for x in sim_columns if \"score\" in x]\n",
    "    rc = [x for x in sim_columns if \"regression_prediction\" in x]\n",
    "    blacklist = pd.DataFrame([{\"ticker\":\"ZZZZZ\",\"start\":datetime(2016,4,1),\"end\":datetime(2016,4,14)}])\n",
    "    for i in range(1,seats):\n",
    "        date = start\n",
    "        while date <= end:\n",
    "            if date.weekday() > 4:\n",
    "                date = date + timedelta(days=7-date.weekday())\n",
    "            blacklist_tickers = blacklist[(blacklist[\"start\"] <= date) & (blacklist[\"end\"] >= date)][\"ticker\"]\n",
    "            taken = []\n",
    "            for col in sc:\n",
    "                sim = sim[sim[col] >= score]\n",
    "            delta_column = \"weekly_price_regression_prediction_delta\"\n",
    "            todays_sim = sim[(~sim[\"ticker\"].isin(blacklist_tickers)) & (sim[\"ticker\"].isin(sp5_tickers))\n",
    "                            & (sim[\"date\"] == date)\n",
    "                             & (sim[delta_column] >= weekly_delta_req)\n",
    "                             & (sim[delta_column] <= 1)]\n",
    "            if performance_filter:\n",
    "                todays_sim = todays_sim.sort_values(\"rolling_performance\",ascending=False) \\\n",
    "                                .head(int(len(todays_sim[\"ticker\"].unique())/2))\n",
    "            if todays_sim.index.size >= 1:\n",
    "                offerings = todays_sim.sort_values(sorted_column,ascending=ascending)\n",
    "                offerings = offerings[(offerings[\"{}_classification_prediction\".format(classifier)] == trend)]\n",
    "#                 offerings = pd.concat([offerings[(offerings[\"category\"]==0) \\\n",
    "#                                                  & (offerings[\"{}_classification_prediction\".format(classifier)] == 1)], \\\n",
    "#                                        offerings[(offerings[\"category\"]==1) \\\n",
    "#                                                  & (offerings[\"{}_classification_prediction\".format(classifier)] == 0)]])\n",
    "                if offerings.index.size < 1:\n",
    "                    date = date + timedelta(days=1)\n",
    "                else:\n",
    "                    for offering in range(offerings.index.size):\n",
    "                        try:\n",
    "                            trade_ticker = offerings.iloc[offering][\"ticker\"]\n",
    "                            trade = sim[(sim[\"ticker\"] == trade_ticker) & (sim[\"date\"] > date)].iloc[0]                     \n",
    "                            sell_date = trade[\"date\"] + timedelta(days=1)\n",
    "                            sell_trades = sim[(sim[\"date\"] >= sell_date)  & (sim[\"date\"] <= sell_date + timedelta(days=4)) & (sim[\"ticker\"] == trade[\"ticker\"])]\n",
    "                            if sell_trades.index.size < 1:\n",
    "                                if offering == offerings.index.size - 1:\n",
    "                                    date = date + timedelta(days=1)\n",
    "                                    break\n",
    "                                else:\n",
    "                                    continue\n",
    "                            else:\n",
    "                                sell_trades[\"delta\"] = (sell_trades[\"adjclose\"] - trade[\"adjclose\"]) / trade[\"adjclose\"]\n",
    "                                sell_trade = sell_trades.sort_values(\"delta\",ascending=False).iloc[0]\n",
    "                                trade[\"sell_price\"] = sell_trade[\"adjclose\"]\n",
    "                                trade[\"sell_date\"] = sell_trade[\"date\"]\n",
    "                                trade[\"sell_delta\"] = float(sell_trade[\"delta\"])\n",
    "                                trade[\"seat\"] = i\n",
    "#                                 trade[\"category\"] = sell_trade[\"category\"]\n",
    "                                trade[\"predicted_delta\"] = sell_trade[delta_column]\n",
    "                                blacklist = blacklist.append([{\"ticker\":trade[\"ticker\"],\"start\":date,\"end\":trade[\"sell_date\"]}])\n",
    "                                trades.append(trade)\n",
    "                                date = sell_trade[\"date\"] + timedelta(days=1)\n",
    "                                break\n",
    "                        except Exception as e:\n",
    "                            print(\"packaging\",i,str(e))\n",
    "                            print(\"sell_trades\",trade_ticker, sell_trades.index.size)\n",
    "                            date = date + timedelta(days=1)\n",
    "            else:\n",
    "                date = date + timedelta(days=1)\n",
    "    return trades"
   ]
  },
  {
   "cell_type": "code",
   "execution_count": null,
   "metadata": {
    "scrolled": true
   },
   "outputs": [],
   "source": [
    "epoch = 0\n",
    "seats = 11\n",
    "score_range = range(70,90,10)\n",
    "wdr_range = range(0,15,5)\n",
    "ascending_list = [True,False]\n",
    "categories = [True,False]\n",
    "start = datetime(2016,6,1)\n",
    "end = datetime(2020,6,1)\n",
    "classifiers = [\"consolidated\",\"trade_signal\"]\n",
    "pf_list =  [True,False]\n",
    "strat_db.connect()\n",
    "strat_db.drop_table(\"tsmc_epochs\")\n",
    "for i in range(len(score_range)*len(wdr_range)*len(ascending_list) *len(pf_list) * len(sp5[\"GICS Sector\"].unique())):\n",
    "    strat_db.drop_table(\"tsmc_{}\".format(i))\n",
    "for trend in [0,1]:\n",
    "    for classifier in classifiers:\n",
    "        for pf in tqdm(pf_list):\n",
    "            for s in tqdm(score_range):\n",
    "                score = s/100\n",
    "                for wdr in wdr_range:\n",
    "                    for ascending in ascending_list:\n",
    "                        weekly_delta_req = wdr/100\n",
    "                        epoch_dict = {\"epoch\":epoch,\"trend\":trend,\"classifier\":classifier,\"score\":score,\"ascending\":ascending,\"wdr\":wdr,\"pf\":pf}\n",
    "                        ts = backtest(final_sim.copy(),trend,classifier,score,weekly_delta_req,ascending,seats,pf)\n",
    "                        if len(ts) > 0:\n",
    "                            strat_db.store_data(\"tsmc_epochs\",pd.DataFrame([epoch_dict]))\n",
    "                            strat_db.store_data(\"tsmc_{}\".format(epoch),pd.DataFrame(ts))\n",
    "                        epoch += 1\n",
    "strat_db.close()"
   ]
  }
 ],
 "metadata": {
  "kernelspec": {
   "display_name": "Python 3",
   "language": "python",
   "name": "python3"
  },
  "language_info": {
   "codemirror_mode": {
    "name": "ipython",
    "version": 3
   },
   "file_extension": ".py",
   "mimetype": "text/x-python",
   "name": "python",
   "nbconvert_exporter": "python",
   "pygments_lexer": "ipython3",
   "version": "3.8.0"
  }
 },
 "nbformat": 4,
 "nbformat_minor": 4
}
