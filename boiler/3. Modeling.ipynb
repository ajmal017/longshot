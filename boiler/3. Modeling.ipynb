{
 "cells": [
  {
   "cell_type": "code",
   "execution_count": 2,
   "metadata": {
    "scrolled": true
   },
   "outputs": [],
   "source": [
    "import pandas as pd\n",
    "from tqdm import tqdm\n",
    "from transformer.model_transformer import ModelTransformer\n",
    "from transformer.product_transformer import ProductTransformer\n",
    "from preprocessor.model_preprocessor import ModelPreprocessor\n",
    "from extractor.pdr_extractor import PDRExtractor\n",
    "from modeler.modeler import StockProphet\n",
    "from database.sec import SEC\n",
    "from database.market import Market\n",
    "from database.strategy import Strategy\n",
    "import warnings\n",
    "import pickle\n",
    "from statistics import variance\n",
    "warnings.simplefilter(action='ignore', category=Warning)\n",
    "from datetime import datetime, timedelta\n",
    "import pickle\n",
    "import matplotlib.pyplot as plt"
   ]
  },
  {
   "cell_type": "code",
   "execution_count": 21,
   "metadata": {},
   "outputs": [],
   "source": [
    "sec = SEC()\n",
    "market = Market()\n",
    "strat = Strategy(\"quarter_out\")\n",
    "end = \"2020-01-01\"\n",
    "start = \"2015-07-01\"\n",
    "reporting_gap = 90\n",
    "sec.connect()\n",
    "tickers = sec.retrieve_data(\"sp500\")\n",
    "sec.close()"
   ]
  },
  {
   "cell_type": "code",
   "execution_count": 22,
   "metadata": {},
   "outputs": [],
   "source": [
    "market.connect()\n",
    "strat.connect()\n",
    "i = 33\n",
    "ticker = tickers.iloc[i][\"Symbol\"]\n",
    "cik = int(tickers.iloc[i][\"CIK\"].item())\n",
    "price = market.retrieve_price_data(ticker)\n",
    "filing = sec.retrieve_filing_data(cik)\n",
    "mt = ModelTransformer(ticker,start,end,reporting_gap)\n",
    "mr = ModelPreprocessor(ticker)\n",
    "data = mt.merge(price.copy(),filing.copy())\n",
    "refined = mr.preprocess(data.copy())\n",
    "sp = Modeler(ticker)\n",
    "results = sp.model_boosted(refined)\n",
    "result_df = pd.DataFrame([results])\n",
    "# strat.store_data(\"models_boosted\",result_df)\n",
    "market.close()\n",
    "strat.close()"
   ]
  },
  {
   "cell_type": "code",
   "execution_count": 23,
   "metadata": {},
   "outputs": [],
   "source": [
    "model = pickle.loads(result_df[\"model\"].item())"
   ]
  },
  {
   "cell_type": "code",
   "execution_count": 24,
   "metadata": {},
   "outputs": [],
   "source": [
    "q = PDRExtractor(ticker,start,\"2020-07-24\")\n",
    "price = q.extract()\n",
    "filing = sec.retrieve_filing_data(cik)\n",
    "mt = ModelTransformer(ticker,start,\"2020-07-24\",reporting_gap)\n",
    "mr = ModelPreprocessor(ticker)\n",
    "data = mt.merge_pdr(price.copy(),filing.copy())\n",
    "refined = mr.preprocess(data)\n",
    "pt = ProductTransformer(ticker,start,end,reporting_gap)\n",
    "final = pt.merge(data.copy(),refined[\"X\"],model)"
   ]
  },
  {
   "cell_type": "code",
   "execution_count": 25,
   "metadata": {},
   "outputs": [
    {
     "data": {
      "text/plain": [
       "[<matplotlib.lines.Line2D at 0x29d6c7afdf0>]"
      ]
     },
     "execution_count": 25,
     "metadata": {},
     "output_type": "execute_result"
    },
    {
     "data": {
      "image/png": "[encoded data removed]",
      "text/plain": [
       "<Figure size 432x288 with 1 Axes>"
      ]
     },
     "metadata": {
      "needs_background": "light"
     },
     "output_type": "display_data"
    }
   ],
   "source": [
    "plt.plot(final[\"Date\"],final[\"Adj_Close\"])\n",
    "plt.plot(final[\"Date\"],final[\"predicted\"])"
   ]
  },
  {
   "cell_type": "code",
   "execution_count": 19,
   "metadata": {},
   "outputs": [
    {
     "data": {
      "text/html": [
       "<div>\n",
       "<style scoped>\n",
       "    .dataframe tbody tr th:only-of-type {\n",
       "        vertical-align: middle;\n",
       "    }\n",
       "\n",
       "    .dataframe tbody tr th {\n",
       "        vertical-align: top;\n",
       "    }\n",
       "\n",
       "    .dataframe thead th {\n",
       "        text-align: right;\n",
       "    }\n",
       "</style>\n",
       "<table border=\"1\" class=\"dataframe\">\n",
       "  <thead>\n",
       "    <tr style=\"text-align: right;\">\n",
       "      <th></th>\n",
       "      <th>Date</th>\n",
       "      <th>Adj_Close</th>\n",
       "      <th>predicted</th>\n",
       "      <th>ticker</th>\n",
       "    </tr>\n",
       "  </thead>\n",
       "  <tbody>\n",
       "    <tr>\n",
       "      <th>1</th>\n",
       "      <td>2010-01-04</td>\n",
       "      <td>37.186401</td>\n",
       "      <td>37.262112</td>\n",
       "      <td>AMT</td>\n",
       "    </tr>\n",
       "    <tr>\n",
       "      <th>2</th>\n",
       "      <td>2010-01-05</td>\n",
       "      <td>37.802460</td>\n",
       "      <td>37.262112</td>\n",
       "      <td>AMT</td>\n",
       "    </tr>\n",
       "    <tr>\n",
       "      <th>3</th>\n",
       "      <td>2010-01-06</td>\n",
       "      <td>37.999264</td>\n",
       "      <td>37.262112</td>\n",
       "      <td>AMT</td>\n",
       "    </tr>\n",
       "    <tr>\n",
       "      <th>4</th>\n",
       "      <td>2010-01-07</td>\n",
       "      <td>37.896584</td>\n",
       "      <td>37.262112</td>\n",
       "      <td>AMT</td>\n",
       "    </tr>\n",
       "    <tr>\n",
       "      <th>5</th>\n",
       "      <td>2010-01-08</td>\n",
       "      <td>37.973591</td>\n",
       "      <td>37.262112</td>\n",
       "      <td>AMT</td>\n",
       "    </tr>\n",
       "    <tr>\n",
       "      <th>...</th>\n",
       "      <td>...</td>\n",
       "      <td>...</td>\n",
       "      <td>...</td>\n",
       "      <td>...</td>\n",
       "    </tr>\n",
       "    <tr>\n",
       "      <th>2471</th>\n",
       "      <td>2019-10-25</td>\n",
       "      <td>213.913773</td>\n",
       "      <td>220.593323</td>\n",
       "      <td>AMT</td>\n",
       "    </tr>\n",
       "    <tr>\n",
       "      <th>2472</th>\n",
       "      <td>2019-10-28</td>\n",
       "      <td>208.069092</td>\n",
       "      <td>220.593323</td>\n",
       "      <td>AMT</td>\n",
       "    </tr>\n",
       "    <tr>\n",
       "      <th>2473</th>\n",
       "      <td>2019-10-29</td>\n",
       "      <td>213.410263</td>\n",
       "      <td>220.593323</td>\n",
       "      <td>AMT</td>\n",
       "    </tr>\n",
       "    <tr>\n",
       "      <th>2515</th>\n",
       "      <td>2019-12-30</td>\n",
       "      <td>226.948257</td>\n",
       "      <td>227.375839</td>\n",
       "      <td>AMT</td>\n",
       "    </tr>\n",
       "    <tr>\n",
       "      <th>2516</th>\n",
       "      <td>2019-12-31</td>\n",
       "      <td>227.910202</td>\n",
       "      <td>227.375839</td>\n",
       "      <td>AMT</td>\n",
       "    </tr>\n",
       "  </tbody>\n",
       "</table>\n",
       "<p>1040 rows × 4 columns</p>\n",
       "</div>"
      ],
      "text/plain": [
       "           Date   Adj_Close   predicted ticker\n",
       "1    2010-01-04   37.186401   37.262112    AMT\n",
       "2    2010-01-05   37.802460   37.262112    AMT\n",
       "3    2010-01-06   37.999264   37.262112    AMT\n",
       "4    2010-01-07   37.896584   37.262112    AMT\n",
       "5    2010-01-08   37.973591   37.262112    AMT\n",
       "...         ...         ...         ...    ...\n",
       "2471 2019-10-25  213.913773  220.593323    AMT\n",
       "2472 2019-10-28  208.069092  220.593323    AMT\n",
       "2473 2019-10-29  213.410263  220.593323    AMT\n",
       "2515 2019-12-30  226.948257  227.375839    AMT\n",
       "2516 2019-12-31  227.910202  227.375839    AMT\n",
       "\n",
       "[1040 rows x 4 columns]"
      ]
     },
     "execution_count": 19,
     "metadata": {},
     "output_type": "execute_result"
    }
   ],
   "source": [
    "final"
   ]
  },
  {
   "cell_type": "code",
   "execution_count": 26,
   "metadata": {},
   "outputs": [
    {
     "name": "stderr",
     "output_type": "stream",
     "text": [
      "  6%|███▏                                                      | 28/505 [01:23<17:46,  2.23s/it]"
     ]
    },
    {
     "name": "stdout",
     "output_type": "stream",
     "text": [
      "{'status': 'modeling', 'ticker': 'AMCR', 'message': \"Input contains NaN, infinity or a value too large for dtype('float32').\"}\n"
     ]
    },
    {
     "name": "stderr",
     "output_type": "stream",
     "text": [
      " 13%|███████▋                                                  | 67/505 [03:42<30:30,  4.18s/it]"
     ]
    },
    {
     "name": "stdout",
     "output_type": "stream",
     "text": [
      "{'status': 'modeling', 'ticker': 'BRK.B', 'message': \"'Date'\"}\n"
     ]
    },
    {
     "name": "stderr",
     "output_type": "stream",
     "text": [
      " 16%|█████████                                                 | 79/505 [04:22<21:36,  3.04s/it]"
     ]
    },
    {
     "name": "stdout",
     "output_type": "stream",
     "text": [
      "{'status': 'modeling', 'ticker': 'BF.B', 'message': \"'Date'\"}\n"
     ]
    },
    {
     "name": "stderr",
     "output_type": "stream",
     "text": [
      " 17%|██████████                                                | 88/505 [04:46<20:01,  2.88s/it]"
     ]
    },
    {
     "name": "stdout",
     "output_type": "stream",
     "text": [
      "{'status': 'modeling', 'ticker': 'CARR', 'message': \"'filed'\"}\n"
     ]
    },
    {
     "name": "stderr",
     "output_type": "stream",
     "text": [
      " 35%|███████████████████▊                                     | 176/505 [09:29<15:55,  2.90s/it]"
     ]
    },
    {
     "name": "stdout",
     "output_type": "stream",
     "text": [
      "{'status': 'modeling', 'ticker': 'ESS', 'message': '\"[\\'Close\\'] not found in axis\"'}\n"
     ]
    },
    {
     "name": "stderr",
     "output_type": "stream",
     "text": [
      " 35%|████████████████████                                     | 178/505 [09:32<12:42,  2.33s/it]"
     ]
    },
    {
     "name": "stdout",
     "output_type": "stream",
     "text": [
      "{'status': 'modeling', 'ticker': 'EVRG', 'message': \"Input contains NaN, infinity or a value too large for dtype('float32').\"}\n"
     ]
    },
    {
     "name": "stderr",
     "output_type": "stream",
     "text": [
      " 38%|█████████████████████▊                                   | 193/505 [10:22<19:35,  3.77s/it]"
     ]
    },
    {
     "name": "stdout",
     "output_type": "stream",
     "text": [
      "{'status': 'modeling', 'ticker': 'FRC', 'message': \"'filed'\"}\n"
     ]
    },
    {
     "name": "stderr",
     "output_type": "stream",
     "text": [
      " 58%|█████████████████████████████████▏                       | 294/505 [15:46<09:00,  2.56s/it]"
     ]
    },
    {
     "name": "stdout",
     "output_type": "stream",
     "text": [
      "{'status': 'modeling', 'ticker': 'LIN', 'message': \"Input contains NaN, infinity or a value too large for dtype('float32').\"}\n"
     ]
    },
    {
     "name": "stderr",
     "output_type": "stream",
     "text": [
      " 71%|████████████████████████████████████████▋                | 361/505 [19:18<08:15,  3.44s/it]"
     ]
    },
    {
     "name": "stdout",
     "output_type": "stream",
     "text": [
      "{'status': 'modeling', 'ticker': 'OTIS', 'message': \"'filed'\"}\n"
     ]
    },
    {
     "name": "stderr",
     "output_type": "stream",
     "text": [
      " 85%|████████████████████████████████████████████████▎        | 428/505 [22:49<03:38,  2.84s/it]"
     ]
    },
    {
     "name": "stdout",
     "output_type": "stream",
     "text": [
      "{'status': 'modeling', 'ticker': 'STE', 'message': \"Input contains NaN, infinity or a value too large for dtype('float32').\"}\n"
     ]
    },
    {
     "name": "stderr",
     "output_type": "stream",
     "text": [
      "100%|█████████████████████████████████████████████████████████| 505/505 [26:46<00:00,  3.18s/it]\n"
     ]
    }
   ],
   "source": [
    "market.connect()\n",
    "strat.connect()\n",
    "for i in tqdm(range(len(tickers))):\n",
    "    try:\n",
    "        ticker = tickers.iloc[i][\"Symbol\"]\n",
    "        cik = int(tickers.iloc[i][\"CIK\"].item())\n",
    "        price = market.retrieve_price_data(ticker)\n",
    "        filing = sec.retrieve_filing_data(cik)\n",
    "        mt = ModelTransformer(ticker,start,end,reporting_gap)\n",
    "        mr = ModelPreprocessor(ticker)\n",
    "        data = mt.merge(price.copy(),filing.copy())\n",
    "        refined = mr.preprocess(data.copy())\n",
    "        sp = Modeler(ticker)\n",
    "        results = sp.model_boosted(refined)\n",
    "        result_df = pd.DataFrame([results])\n",
    "        strat.store_data(\"models_boosted\",result_df)\n",
    "    except Exception as e:\n",
    "        message = {\"status\":\"modeling\",\"ticker\":ticker,\"message\":str(e)}\n",
    "        print(message)\n",
    "strat.connect()\n",
    "market.close()"
   ]
  }
 ],
 "metadata": {
  "kernelspec": {
   "display_name": "Python 3",
   "language": "python",
   "name": "python3"
  },
  "language_info": {
   "codemirror_mode": {
    "name": "ipython",
    "version": 3
   },
   "file_extension": ".py",
   "mimetype": "text/x-python",
   "name": "python",
   "nbconvert_exporter": "python",
   "pygments_lexer": "ipython3",
   "version": "3.8.3"
  }
 },
 "nbformat": 4,
 "nbformat_minor": 4
}
