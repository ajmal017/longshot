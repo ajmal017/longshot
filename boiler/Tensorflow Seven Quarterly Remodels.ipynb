{
 "cells": [
  {
   "cell_type": "code",
   "execution_count": 1,
   "metadata": {},
   "outputs": [],
   "source": [
    "from database.strategy import Strategy\n",
    "from database.sec import SEC\n",
    "from database.market import Market\n",
    "from strat_tf.premodel_transformer import PreModelTransformer\n",
    "from strat_tf.model_transformer import ModelTransformer\n",
    "from strat_tf.modeler import Modeler\n",
    "from strat_tf.sim_transformer import SimTransformer\n",
    "from strat_tf.preprocessor import Preprocessor\n",
    "from utils.date_utils import DateUtils\n",
    "import pandas as pd\n",
    "import matplotlib.pyplot as plt\n",
    "from datetime import datetime, timedelta\n",
    "from tqdm import tqdm\n",
    "import tensorflow as tf\n",
    "import numpy as np\n",
    "import math"
   ]
  },
  {
   "cell_type": "code",
   "execution_count": 2,
   "metadata": {},
   "outputs": [
    {
     "name": "stdout",
     "output_type": "stream",
     "text": [
      "Num GPUs Available:  1\n"
     ]
    }
   ],
   "source": [
    "## Loading Constants\n",
    "start = \"2008-01-01\"\n",
    "end = \"2020-07-01\"\n",
    "# Loading Databases\n",
    "strat_db = Strategy(\"predictive_series_quarterly\")\n",
    "market = Market()\n",
    "sec = SEC(\"sec\")\n",
    "market.connect()\n",
    "sp500 = market.retrieve_data(\"sp500\")\n",
    "market.close()\n",
    "reload = False\n",
    "print(\"Num GPUs Available: \", len(tf.config.experimental.list_physical_devices('GPU')))"
   ]
  },
  {
   "cell_type": "code",
   "execution_count": 3,
   "metadata": {},
   "outputs": [],
   "source": [
    "refined = []\n",
    "refined_quarterly = []\n",
    "market.connect()\n",
    "sec.connect()\n",
    "if reload:\n",
    "    market.drop_table(\"dataset_tf\")\n",
    "    for i in tqdm(range(46,47)):\n",
    "        try:\n",
    "            ticker = tickers[\"Symbol\"][i]\n",
    "            cik = int(tickers.iloc[i][\"CIK\"].item())\n",
    "            prices = market.retrieve_price_data(\"prices\",ticker)\n",
    "            filing = sec.retrieve_filing_data(cik)\n",
    "            prices.reset_index(inplace=True)\n",
    "            mt = PreModelTransformer(ticker,start,end,90)\n",
    "            final = mt.fundamental_daily_merge(prices.copy(),filing.copy())\n",
    "            market.store_data(\"dataset_tf\",final)\n",
    "        except Exception as e:\n",
    "            print(str(e),ticker)\n",
    "market.close()\n",
    "sec.close()"
   ]
  },
  {
   "cell_type": "code",
   "execution_count": null,
   "metadata": {
    "scrolled": true
   },
   "outputs": [
    {
     "name": "stderr",
     "output_type": "stream",
     "text": [
      "\r",
      "  0%|                                                                                                                                                                                | 0/1 [00:00<?, ?it/s]"
     ]
    },
    {
     "name": "stdout",
     "output_type": "stream",
     "text": [
      "1 2014-12-30 00:00:00 -2 days +13:37:17.837837\n",
      "1/1 [==============================] - 0s 2ms/step - loss: 87.9118 - mean_absolute_percentage_error: 87.9118\n",
      "1/1 [==============================] - 0s 999us/step - loss: 80.9755 - mean_absolute_percentage_error: 80.9755\n",
      "1/1 [==============================] - 0s 2ms/step - loss: 74.6404 - mean_absolute_percentage_error: 74.6404\n",
      "1/1 [==============================] - 0s 2ms/step - loss: 68.4227 - mean_absolute_percentage_error: 68.4227\n",
      "1/1 [==============================] - 0s 2ms/step - loss: 62.2144 - mean_absolute_percentage_error: 62.2143\n",
      "1/1 [==============================] - 0s 2ms/step - loss: 56.0065 - mean_absolute_percentage_error: 56.0065\n",
      "1/1 [==============================] - 0s 2ms/step - loss: 49.7986 - mean_absolute_percentage_error: 49.7986\n",
      "1/1 [==============================] - 0s 1ms/step - loss: 43.5908 - mean_absolute_percentage_error: 43.5908\n",
      "1/1 [==============================] - 0s 2ms/step - loss: 37.3829 - mean_absolute_percentage_error: 37.3829\n",
      "1/1 [==============================] - 0s 2ms/step - loss: 31.1751 - mean_absolute_percentage_error: 31.1751\n",
      "1/1 [==============================] - 0s 2ms/step - loss: 24.9673 - mean_absolute_percentage_error: 24.9673\n",
      "1 2015-12-29 00:00:00 -2 days +13:37:17.837837\n",
      "1/1 [==============================] - 0s 999us/step - loss: 88.0570 - mean_absolute_percentage_error: 88.0570\n",
      "1/1 [==============================] - 0s 999us/step - loss: 81.2641 - mean_absolute_percentage_error: 81.2641\n",
      "1/1 [==============================] - 0s 2ms/step - loss: 74.9643 - mean_absolute_percentage_error: 74.9643\n",
      "1/1 [==============================] - 0s 2ms/step - loss: 68.7814 - mean_absolute_percentage_error: 68.7814\n",
      "1/1 [==============================] - 0s 2ms/step - loss: 62.6114 - mean_absolute_percentage_error: 62.6114\n",
      "1/1 [==============================] - 0s 1ms/step - loss: 56.4417 - mean_absolute_percentage_error: 56.4417\n",
      "1/1 [==============================] - 0s 1ms/step - loss: 50.2720 - mean_absolute_percentage_error: 50.2720\n",
      "1/1 [==============================] - 0s 2ms/step - loss: 44.1024 - mean_absolute_percentage_error: 44.1024\n",
      "1/1 [==============================] - 0s 2ms/step - loss: 37.9327 - mean_absolute_percentage_error: 37.9327\n",
      "1/1 [==============================] - 0s 2ms/step - loss: 31.7631 - mean_absolute_percentage_error: 31.7631\n",
      "1/1 [==============================] - 0s 1000us/step - loss: 25.5934 - mean_absolute_percentage_error: 25.5934\n",
      "1 2016-12-28 00:00:00 -2 days +13:37:17.837837\n",
      "1/1 [==============================] - 0s 1ms/step - loss: 88.9558 - mean_absolute_percentage_error: 88.9558\n",
      "1/1 [==============================] - 0s 1000us/step - loss: 82.6914 - mean_absolute_percentage_error: 82.6914\n",
      "1/1 [==============================] - 0s 2ms/step - loss: 76.8151 - mean_absolute_percentage_error: 76.8151\n",
      "1/1 [==============================] - 0s 1ms/step - loss: 71.0453 - mean_absolute_percentage_error: 71.0453\n",
      "1/1 [==============================] - 0s 2ms/step - loss: 65.3066 - mean_absolute_percentage_error: 65.3066\n",
      "1/1 [==============================] - 0s 1ms/step - loss: 59.5683 - mean_absolute_percentage_error: 59.5683\n",
      "1/1 [==============================] - 0s 2ms/step - loss: 53.8301 - mean_absolute_percentage_error: 53.8301\n",
      "1/1 [==============================] - 0s 2ms/step - loss: 48.0919 - mean_absolute_percentage_error: 48.0919\n",
      "1/1 [==============================] - 0s 1000us/step - loss: 42.3537 - mean_absolute_percentage_error: 42.3537\n",
      "1/1 [==============================] - 0s 1ms/step - loss: 36.6155 - mean_absolute_percentage_error: 36.6155\n",
      "1/1 [==============================] - 0s 2ms/step - loss: 30.8773 - mean_absolute_percentage_error: 30.8773\n",
      "1 2017-12-28 00:00:00 -2 days +13:37:17.837837\n",
      "1/1 [==============================] - 0s 1ms/step - loss: 92.8594 - mean_absolute_percentage_error: 92.8594\n",
      "1/1 [==============================] - 0s 2ms/step - loss: 88.6985 - mean_absolute_percentage_error: 88.6985\n",
      "1/1 [==============================] - 0s 1000us/step - loss: 84.8515 - mean_absolute_percentage_error: 84.8515\n",
      "1/1 [==============================] - 0s 2ms/step - loss: 81.0549 - mean_absolute_percentage_error: 81.0549\n",
      "1/1 [==============================] - 0s 1ms/step - loss: 77.2860 - mean_absolute_percentage_error: 77.2860\n",
      "1/1 [==============================] - 0s 999us/step - loss: 73.5175 - mean_absolute_percentage_error: 73.5175\n",
      "1/1 [==============================] - 0s 1ms/step - loss: 69.7491 - mean_absolute_percentage_error: 69.7491\n",
      "1/1 [==============================] - 0s 2ms/step - loss: 65.9807 - mean_absolute_percentage_error: 65.9807\n",
      "1/1 [==============================] - 0s 1ms/step - loss: 62.2123 - mean_absolute_percentage_error: 62.2123\n",
      "1/1 [==============================] - 0s 1ms/step - loss: 58.4440 - mean_absolute_percentage_error: 58.4440\n",
      "1/1 [==============================] - 0s 1ms/step - loss: 54.6756 - mean_absolute_percentage_error: 54.6756\n",
      "1 2018-12-28 00:00:00 -2 days +12:38:55.135135\n",
      "1/1 [==============================] - 0s 2ms/step - loss: 92.0691 - mean_absolute_percentage_error: 92.0691\n",
      "1/1 [==============================] - 0s 2ms/step - loss: 87.6665 - mean_absolute_percentage_error: 87.6665\n",
      "1/1 [==============================] - 0s 2ms/step - loss: 83.6066 - mean_absolute_percentage_error: 83.6066\n",
      "1/1 [==============================] - 0s 1000us/step - loss: 79.6152 - mean_absolute_percentage_error: 79.6152\n",
      "1/1 [==============================] - 0s 1ms/step - loss: 75.6277 - mean_absolute_percentage_error: 75.6277\n",
      "1/1 [==============================] - 0s 1000us/step - loss: 71.6403 - mean_absolute_percentage_error: 71.6403\n",
      "1/1 [==============================] - 0s 1ms/step - loss: 67.6530 - mean_absolute_percentage_error: 67.6530\n",
      "1/1 [==============================] - 0s 2ms/step - loss: 63.6656 - mean_absolute_percentage_error: 63.6656\n",
      "1/1 [==============================] - 0s 2ms/step - loss: 59.6783 - mean_absolute_percentage_error: 59.6783\n",
      "1/1 [==============================] - 0s 2ms/step - loss: 55.6910 - mean_absolute_percentage_error: 55.6910\n",
      "1/1 [==============================] - 0s 2ms/step - loss: 51.7037 - mean_absolute_percentage_error: 51.7037\n",
      "1 2019-12-30 00:00:00 -2 days +13:37:17.837837\n",
      "1/1 [==============================] - 0s 998us/step - loss: 95.5221 - mean_absolute_percentage_error: 95.5221\n",
      "1/1 [==============================] - 0s 2ms/step - loss: 93.0056 - mean_absolute_percentage_error: 93.0056\n",
      "1/1 [==============================] - 0s 999us/step - loss: 90.6768 - mean_absolute_percentage_error: 90.6768\n",
      "1/1 [==============================] - 0s 3ms/step - loss: 88.3968 - mean_absolute_percentage_error: 88.3968\n",
      "1/1 [==============================] - 0s 999us/step - loss: 86.1282 - mean_absolute_percentage_error: 86.1282\n",
      "1/1 [==============================] - 0s 2ms/step - loss: 83.8599 - mean_absolute_percentage_error: 83.8599\n",
      "1/1 [==============================] - 0s 2ms/step - loss: 81.5916 - mean_absolute_percentage_error: 81.5916\n",
      "1/1 [==============================] - 0s 2ms/step - loss: 79.3234 - mean_absolute_percentage_error: 79.3234\n",
      "1/1 [==============================] - 0s 2ms/step - loss: 77.0551 - mean_absolute_percentage_error: 77.0551\n"
     ]
    }
   ],
   "source": [
    "prediction_days = 5\n",
    "batch_size = prediction_days * 3\n",
    "training_days = batch_size * 5\n",
    "trading_days = 252\n",
    "sims = []\n",
    "sec.connect()\n",
    "strat_db.connect()\n",
    "market.connect()\n",
    "simulation_start = \"2011-01-01\"\n",
    "timeline = DateUtils.create_timeline(simulation_start,end)\n",
    "prices = market.retrieve_data(\"dataset_regression\")\n",
    "simulation = []\n",
    "data = market.retrieve_data(\"dataset_regression\")\n",
    "tickers = [x for x in sp500[\"Symbol\"] if x in data.columns]\n",
    "training_years = 1\n",
    "for s in tqdm([1]):\n",
    "    shift = int(math.ceil(s * 0.69)) \n",
    "    for year in range(2015,2021):\n",
    "        for quarter in range(1,2):\n",
    "            try:\n",
    "                month = max(1,(quarter-1)*3)\n",
    "                prediction_start = datetime(year,quarter,1)\n",
    "                prediction_end = datetime(year,month+3,1)\n",
    "                for ticker in [\"AAPL\"]:\n",
    "                    try:\n",
    "                        pt = PreModelTransformer(ticker) \n",
    "                        ts = data[(data[\"date\"] <= prediction_start + timedelta(days=s))].iloc[-training_days-shift:-1]\n",
    "                        training_set = pt.daily_merge(ts,shift)\n",
    "                        print(shift,training_set[\"date\"].max(),(training_set[\"date\"]-training_set[\"label_date\"]).mean())\n",
    "                        m = Modeler(ticker,prediction_days)\n",
    "                        mr = Preprocessor(ticker)\n",
    "                        refined = mr.preprocess_price_regression(training_set,ticker,batch_size,prediction_days,shift)\n",
    "                        if len(refined[\"X\"]) > 0:\n",
    "                            results = m.tf_model(refined)\n",
    "                            for i in range(10):\n",
    "                                results_2 = m.tf_model(refined)\n",
    "                                if (results[\"results\"][1] - results_2[\"results\"][1]) < 0:\n",
    "                                    break\n",
    "                                if abs((results[\"results\"][1] - results_2[\"results\"][1]) / results[\"results\"][1]) < 0.01:\n",
    "                                    break\n",
    "                                else:\n",
    "                                    results = results_2\n",
    "                            model = results[\"model\"]\n",
    "                            for date in pd.date_range(prediction_start,prediction_end):\n",
    "                                ps = data[(data[\"date\"] >= date-timedelta(days=batch_size)) & (data[\"date\"] <= date)]\n",
    "                                prediction_set = pt.daily_prediction_merge(ps)\n",
    "                                prediction_refined = mr.preprocess_prediction(prediction_set)\n",
    "                                predictions = model.predict(tf.stack([prediction_refined]))\n",
    "                                packages = SimTransformer.transform(date,ticker,data,predictions,results,shift)\n",
    "                                simulation.extend(packages)\n",
    "#                                 if len(packages) > 0:\n",
    "#                                     strat_db.store_data(\"sim_tf\",pd.DataFrame(packages))\n",
    "                    except Exception as e:\n",
    "                        print(ticker,str(e))\n",
    "            except Exception as e:\n",
    "                print(str(e))\n",
    "sec.close()\n",
    "market.close()\n",
    "strat_db.close()"
   ]
  },
  {
   "cell_type": "code",
   "execution_count": null,
   "metadata": {},
   "outputs": [],
   "source": [
    "sim = pd.DataFrame(simulation)"
   ]
  },
  {
   "cell_type": "code",
   "execution_count": null,
   "metadata": {},
   "outputs": [],
   "source": [
    "sim"
   ]
  },
  {
   "cell_type": "code",
   "execution_count": null,
   "metadata": {},
   "outputs": [],
   "source": [
    "for shift in sim[\"shift\"].unique():\n",
    "    print(shift)\n",
    "    grouped = sim[(sim[\"sell_date\"] <= prediction_end) & (sim[\"shift\"] == shift)].groupby(\"sell_date\").max()\n",
    "    g = grouped.reset_index().set_index(\"sell_date\")\n",
    "    plt.plot(g[\"prediction\"])\n",
    "plt.plot(g[\"sell_price\"])\n",
    "legend = sim[\"shift\"].unique()\n",
    "plt.legend(legend)"
   ]
  },
  {
   "cell_type": "code",
   "execution_count": null,
   "metadata": {},
   "outputs": [],
   "source": [
    "predictions"
   ]
  },
  {
   "cell_type": "code",
   "execution_count": null,
   "metadata": {},
   "outputs": [],
   "source": [
    "sim"
   ]
  },
  {
   "cell_type": "code",
   "execution_count": null,
   "metadata": {},
   "outputs": [],
   "source": [
    "grouped"
   ]
  }
 ],
 "metadata": {
  "kernelspec": {
   "display_name": "Python 3",
   "language": "python",
   "name": "python3"
  },
  "language_info": {
   "codemirror_mode": {
    "name": "ipython",
    "version": 3
   },
   "file_extension": ".py",
   "mimetype": "text/x-python",
   "name": "python",
   "nbconvert_exporter": "python",
   "pygments_lexer": "ipython3",
   "version": "3.8.3"
  }
 },
 "nbformat": 4,
 "nbformat_minor": 4
}
