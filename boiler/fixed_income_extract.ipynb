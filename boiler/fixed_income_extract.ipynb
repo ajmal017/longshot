{
 "cells": [
  {
   "cell_type": "code",
   "execution_count": 2,
   "metadata": {},
   "outputs": [],
   "source": [
    "import pandas as pd\n",
    "import requests as r\n",
    "import os\n",
    "from database.merrill import Merrill\n",
    "from dotenv import load_dotenv\n",
    "load_dotenv()\n",
    "token=os.getenv(\"QUANDL\")"
   ]
  },
  {
   "cell_type": "code",
   "execution_count": 8,
   "metadata": {},
   "outputs": [],
   "source": [
    "m = Merrill()\n",
    "FED = pd.read_csv(\"FED_metadata.csv\")"
   ]
  },
  {
   "cell_type": "code",
   "execution_count": 9,
   "metadata": {},
   "outputs": [],
   "source": [
    "FED[\"name_simplified\"] = [\" \".join(row[1][\"name\"].split(\" \")[:5]) for row in FED.iterrows()]\n",
    "ml = pd.read_csv(\"ML_metadata.csv\")\n",
    "relevant = ml[ml[\"name\"].str.contains(\"yield\")]\n",
    "m.connect()\n",
    "for code in relevant[\"code\"]:\n",
    "    name = code.split(\"E\")[0]\n",
    "    print(code,name)\n",
    "    url = \"https://www.quandl.com/api/v3/datasets/ML/{}\".format(code)\n",
    "    params ={\"start_date\":\"1997-1-1\",\n",
    "             \"end_date\":\"2020-12-23\",\n",
    "             \"api_key\":token}\n",
    "    data = r.get(url,params)\n",
    "    yields = pd.DataFrame(data.json()[\"dataset\"][\"data\"]).rename(columns={0:\"date\",1:\"yield\"})\n",
    "    m.drop_table(name)\n",
    "    m.store_data(name,yields)\n",
    "m.close()    "
   ]
  },
  {
   "cell_type": "code",
   "execution_count": 16,
   "metadata": {},
   "outputs": [],
   "source": [
    "# for name in FED[\"name_simplified\"].unique():\n",
    "#     print(name)"
   ]
  },
  {
   "cell_type": "code",
   "execution_count": 11,
   "metadata": {},
   "outputs": [],
   "source": []
  },
  {
   "cell_type": "code",
   "execution_count": 12,
   "metadata": {},
   "outputs": [],
   "source": []
  },
  {
   "cell_type": "code",
   "execution_count": 13,
   "metadata": {},
   "outputs": [
    {
     "data": {
      "text/html": [
       "<div>\n",
       "<style scoped>\n",
       "    .dataframe tbody tr th:only-of-type {\n",
       "        vertical-align: middle;\n",
       "    }\n",
       "\n",
       "    .dataframe tbody tr th {\n",
       "        vertical-align: top;\n",
       "    }\n",
       "\n",
       "    .dataframe thead th {\n",
       "        text-align: right;\n",
       "    }\n",
       "</style>\n",
       "<table border=\"1\" class=\"dataframe\">\n",
       "  <thead>\n",
       "    <tr style=\"text-align: right;\">\n",
       "      <th></th>\n",
       "      <th>code</th>\n",
       "      <th>name</th>\n",
       "      <th>description</th>\n",
       "      <th>refreshed_at</th>\n",
       "      <th>from_date</th>\n",
       "      <th>to_date</th>\n",
       "    </tr>\n",
       "  </thead>\n",
       "  <tbody>\n",
       "    <tr>\n",
       "      <th>0</th>\n",
       "      <td>AAAEY</td>\n",
       "      <td>US AAA rated Bond Index (yield)</td>\n",
       "      <td>Based on the Merrill Lynch Bond Indices as pub...</td>\n",
       "      <td>2020-12-15 17:04:18</td>\n",
       "      <td>1996-12-31</td>\n",
       "      <td>2020-12-14</td>\n",
       "    </tr>\n",
       "    <tr>\n",
       "      <th>5</th>\n",
       "      <td>AEY</td>\n",
       "      <td>US Corporate Bond A rated Index (yield)</td>\n",
       "      <td>Based on the Merrill Lynch Bond Indices as pub...</td>\n",
       "      <td>2020-12-15 17:04:12</td>\n",
       "      <td>1996-12-31</td>\n",
       "      <td>2020-12-14</td>\n",
       "    </tr>\n",
       "    <tr>\n",
       "      <th>7</th>\n",
       "      <td>BBBEY</td>\n",
       "      <td>US BBB Bond Index (yield)</td>\n",
       "      <td>Based on the Merrill Lynch Bond Indices as pub...</td>\n",
       "      <td>2020-12-15 17:04:11</td>\n",
       "      <td>1996-12-31</td>\n",
       "      <td>2020-12-14</td>\n",
       "    </tr>\n",
       "    <tr>\n",
       "      <th>11</th>\n",
       "      <td>BEY</td>\n",
       "      <td>US B rated Corporate Bond Index (yield)</td>\n",
       "      <td>Based on the Merrill Lynch Bond Indices as pub...</td>\n",
       "      <td>2020-12-15 17:04:14</td>\n",
       "      <td>1996-12-31</td>\n",
       "      <td>2020-12-14</td>\n",
       "    </tr>\n",
       "  </tbody>\n",
       "</table>\n",
       "</div>"
      ],
      "text/plain": [
       "     code                                     name  \\\n",
       "0   AAAEY          US AAA rated Bond Index (yield)   \n",
       "5     AEY  US Corporate Bond A rated Index (yield)   \n",
       "7   BBBEY                US BBB Bond Index (yield)   \n",
       "11    BEY  US B rated Corporate Bond Index (yield)   \n",
       "\n",
       "                                          description         refreshed_at  \\\n",
       "0   Based on the Merrill Lynch Bond Indices as pub...  2020-12-15 17:04:18   \n",
       "5   Based on the Merrill Lynch Bond Indices as pub...  2020-12-15 17:04:12   \n",
       "7   Based on the Merrill Lynch Bond Indices as pub...  2020-12-15 17:04:11   \n",
       "11  Based on the Merrill Lynch Bond Indices as pub...  2020-12-15 17:04:14   \n",
       "\n",
       "     from_date     to_date  \n",
       "0   1996-12-31  2020-12-14  \n",
       "5   1996-12-31  2020-12-14  \n",
       "7   1996-12-31  2020-12-14  \n",
       "11  1996-12-31  2020-12-14  "
      ]
     },
     "execution_count": 13,
     "metadata": {},
     "output_type": "execute_result"
    }
   ],
   "source": [
    "relevant"
   ]
  },
  {
   "cell_type": "code",
   "execution_count": 17,
   "metadata": {},
   "outputs": [
    {
     "name": "stdout",
     "output_type": "stream",
     "text": [
      "AAAEY AAA\n",
      "AEY A\n",
      "BBBEY BBB\n",
      "BEY B\n"
     ]
    }
   ],
   "source": []
  },
  {
   "cell_type": "code",
   "execution_count": null,
   "metadata": {},
   "outputs": [],
   "source": []
  }
 ],
 "metadata": {
  "kernelspec": {
   "display_name": "Python 3",
   "language": "python",
   "name": "python3"
  },
  "language_info": {
   "codemirror_mode": {
    "name": "ipython",
    "version": 3
   },
   "file_extension": ".py",
   "mimetype": "text/x-python",
   "name": "python",
   "nbconvert_exporter": "python",
   "pygments_lexer": "ipython3",
   "version": "3.8.0"
  }
 },
 "nbformat": 4,
 "nbformat_minor": 4
}
