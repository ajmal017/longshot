{
 "cells": [
  {
   "cell_type": "code",
   "execution_count": 55,
   "metadata": {},
   "outputs": [],
   "source": [
    "from database.strategy import Strategy\n",
    "from database.market import Market\n",
    "from database.sec import SEC\n",
    "from utils.date_utils import DateUtils\n",
    "import pandas as pd\n",
    "import matplotlib.pyplot as plt\n",
    "from datetime import datetime, timedelta, timezone\n",
    "from tqdm import tqdm\n",
    "import math"
   ]
  },
  {
   "cell_type": "code",
   "execution_count": 56,
   "metadata": {},
   "outputs": [],
   "source": [
    "strat_db = Strategy(\"recs\")\n",
    "market = Market()"
   ]
  },
  {
   "cell_type": "code",
   "execution_count": 57,
   "metadata": {},
   "outputs": [],
   "source": [
    "market.connect()\n",
    "sp5 = market.retrieve_data(\"sp500\")\n",
    "market.close()"
   ]
  },
  {
   "cell_type": "code",
   "execution_count": 58,
   "metadata": {},
   "outputs": [],
   "source": [
    "strat_db.connect()\n",
    "sim = strat_db.retrieve_data(\"sim\")\n",
    "strat_db.close()"
   ]
  },
  {
   "cell_type": "code",
   "execution_count": 59,
   "metadata": {},
   "outputs": [],
   "source": [
    "strat_db.connect()\n",
    "recs = strat.retrieve_data(\"recs\")\n",
    "strat_db.close()"
   ]
  },
  {
   "cell_type": "code",
   "execution_count": 60,
   "metadata": {},
   "outputs": [],
   "source": [
    "sim[\"week\"] = [x.week for x in sim[\"date\"]]\n",
    "sim[\"year\"] = [x.year for x in sim[\"date\"]]"
   ]
  },
  {
   "cell_type": "code",
   "execution_count": 61,
   "metadata": {},
   "outputs": [],
   "source": [
    "recs[\"week\"] = [x.week for x in recs[\"date\"]]\n",
    "recs[\"year\"] = [x.year for x in recs[\"date\"]]"
   ]
  },
  {
   "cell_type": "code",
   "execution_count": 62,
   "metadata": {},
   "outputs": [],
   "source": [
    "wgs = sim.groupby([\"year\",\"week\",\"ticker\"]).mean().reset_index()"
   ]
  },
  {
   "cell_type": "code",
   "execution_count": 64,
   "metadata": {},
   "outputs": [
    {
     "name": "stderr",
     "output_type": "stream",
     "text": [
      "<ipython-input-64-2f40673f4a7a>:4: SettingWithCopyWarning: \n",
      "A value is trying to be set on a copy of a slice from a DataFrame.\n",
      "Try using .loc[row_indexer,col_indexer] = value instead\n",
      "\n",
      "See the caveats in the documentation: https://pandas.pydata.org/pandas-docs/stable/user_guide/indexing.html#returning-a-view-versus-a-copy\n",
      "  ticker_wgs[\"actualclose\"] = (ticker_wgs[\"adjclose\"].shift(-1))\n"
     ]
    }
   ],
   "source": [
    "ticker_categories_weeklys = []\n",
    "for ticker in wgs[\"ticker\"].unique():\n",
    "    ticker_wgs = wgs[wgs[\"ticker\"] == ticker]\n",
    "    ticker_wgs[\"actualclose\"] = (ticker_wgs[\"adjclose\"].shift(-1))\n",
    "    ticker_wgs = ticker_wgs[:-1]\n",
    "    ticker_wgs[\"actual_delta\"] = (ticker_wgs[\"actualclose\"] - ticker_wgs[\"adjclose\"]) / ticker_wgs[\"adjclose\"]\n",
    "    ticker_wgs[\"sync\"] = [0 if row[1][\"actual_delta\"] * row[1][\"weekly_price_regression_prediction_delta\"] >= 0 else 1 for row in ticker_wgs.iterrows()]\n",
    "    ticker_wgs[\"category\"] = ticker_wgs[\"sync\"].rolling(window=5).mean()\n",
    "    ticker_wgs = ticker_wgs[5:]\n",
    "    ticker_wgs[\"category\"] = [round(x) for x in ticker_wgs[\"category\"]]\n",
    "    ticker_categories_weeklys.append(ticker_wgs)\n",
    "tcw = pd.concat(ticker_categories_weeklys)"
   ]
  },
  {
   "cell_type": "code",
   "execution_count": 93,
   "metadata": {},
   "outputs": [],
   "source": [
    "final_sim = recs.merge(tcw[tcw[\"week\"] == tcw[\"week\"].max()][[\"year\",\"week\",\"ticker\",\"category\"]],on=\"ticker\",how=\"left\").dropna()\n",
    "final_sim[\"predicted_delta\"] = [-1 * row[1][\"weekly_price_regression_prediction_delta\"] \\\n",
    "                          if row[1][\"category\"] == 1 else row[1][\"weekly_price_regression_prediction_delta\"] \\\n",
    "                          for row in final_sim.iterrows()]"
   ]
  },
  {
   "cell_type": "code",
   "execution_count": 94,
   "metadata": {},
   "outputs": [
    {
     "data": {
      "text/plain": [
       "424"
      ]
     },
     "execution_count": 94,
     "metadata": {},
     "output_type": "execute_result"
    }
   ],
   "source": [
    "len(recs[\"ticker\"].unique())"
   ]
  },
  {
   "cell_type": "code",
   "execution_count": 96,
   "metadata": {},
   "outputs": [
    {
     "data": {
      "text/html": [
       "<div>\n",
       "<style scoped>\n",
       "    .dataframe tbody tr th:only-of-type {\n",
       "        vertical-align: middle;\n",
       "    }\n",
       "\n",
       "    .dataframe tbody tr th {\n",
       "        vertical-align: top;\n",
       "    }\n",
       "\n",
       "    .dataframe thead th {\n",
       "        text-align: right;\n",
       "    }\n",
       "</style>\n",
       "<table border=\"1\" class=\"dataframe\">\n",
       "  <thead>\n",
       "    <tr style=\"text-align: right;\">\n",
       "      <th></th>\n",
       "      <th>ticker</th>\n",
       "      <th>category</th>\n",
       "      <th>predicted_delta</th>\n",
       "    </tr>\n",
       "  </thead>\n",
       "  <tbody>\n",
       "    <tr>\n",
       "      <th>177</th>\n",
       "      <td>GE</td>\n",
       "      <td>0</td>\n",
       "      <td>7.118398</td>\n",
       "    </tr>\n",
       "    <tr>\n",
       "      <th>309</th>\n",
       "      <td>PBCT</td>\n",
       "      <td>0</td>\n",
       "      <td>4.414631</td>\n",
       "    </tr>\n",
       "    <tr>\n",
       "      <th>24</th>\n",
       "      <td>AAL</td>\n",
       "      <td>0</td>\n",
       "      <td>3.916141</td>\n",
       "    </tr>\n",
       "    <tr>\n",
       "      <th>229</th>\n",
       "      <td>KEY</td>\n",
       "      <td>0</td>\n",
       "      <td>3.605455</td>\n",
       "    </tr>\n",
       "    <tr>\n",
       "      <th>186</th>\n",
       "      <td>HBI</td>\n",
       "      <td>0</td>\n",
       "      <td>2.523514</td>\n",
       "    </tr>\n",
       "    <tr>\n",
       "      <th>200</th>\n",
       "      <td>HPQ</td>\n",
       "      <td>0</td>\n",
       "      <td>2.239716</td>\n",
       "    </tr>\n",
       "    <tr>\n",
       "      <th>72</th>\n",
       "      <td>COG</td>\n",
       "      <td>0</td>\n",
       "      <td>2.147529</td>\n",
       "    </tr>\n",
       "    <tr>\n",
       "      <th>399</th>\n",
       "      <td>UNM</td>\n",
       "      <td>0</td>\n",
       "      <td>2.094075</td>\n",
       "    </tr>\n",
       "    <tr>\n",
       "      <th>293</th>\n",
       "      <td>NLOK</td>\n",
       "      <td>0</td>\n",
       "      <td>1.972331</td>\n",
       "    </tr>\n",
       "    <tr>\n",
       "      <th>420</th>\n",
       "      <td>WU</td>\n",
       "      <td>0</td>\n",
       "      <td>1.819453</td>\n",
       "    </tr>\n",
       "  </tbody>\n",
       "</table>\n",
       "</div>"
      ],
      "text/plain": [
       "    ticker  category  predicted_delta\n",
       "177     GE         0         7.118398\n",
       "309   PBCT         0         4.414631\n",
       "24     AAL         0         3.916141\n",
       "229    KEY         0         3.605455\n",
       "186    HBI         0         2.523514\n",
       "200    HPQ         0         2.239716\n",
       "72     COG         0         2.147529\n",
       "399    UNM         0         2.094075\n",
       "293   NLOK         0         1.972331\n",
       "420     WU         0         1.819453"
      ]
     },
     "execution_count": 96,
     "metadata": {},
     "output_type": "execute_result"
    }
   ],
   "source": [
    "final_sim[(final_sim[\"trade_signal_prediction\"] == 1) & (final_sim[\"trade_signal_prediction_score\"] >= 0.7)] \\\n",
    "                .sort_values(\"predicted_delta\",ascending=False).head(10)[[\"ticker\",\"category\",\"predicted_delta\"]]"
   ]
  }
 ],
 "metadata": {
  "kernelspec": {
   "display_name": "Python 3",
   "language": "python",
   "name": "python3"
  },
  "language_info": {
   "codemirror_mode": {
    "name": "ipython",
    "version": 3
   },
   "file_extension": ".py",
   "mimetype": "text/x-python",
   "name": "python",
   "nbconvert_exporter": "python",
   "pygments_lexer": "ipython3",
   "version": "3.8.5"
  }
 },
 "nbformat": 4,
 "nbformat_minor": 4
}
