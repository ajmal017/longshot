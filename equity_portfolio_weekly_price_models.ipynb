{
 "cells": [
  {
   "cell_type": "code",
   "execution_count": 5,
   "metadata": {},
   "outputs": [],
   "source": [
    "from database.strategy import Strategy\n",
    "from database.sec import SEC\n",
    "from database.market import Market\n",
    "from database.weather import Weather\n",
    "from transformer.date_transformer import DateTransformer\n",
    "from transformer.model_transformer import ModelTransformer\n",
    "from transformer.product_transformer import ProductTransformer\n",
    "from transformer.predictor_transformer import PredictorTransformer\n",
    "from preprocessor.model_preprocessor import ModelPreprocessor\n",
    "from preprocessor.predictor_preprocessor import PredictorPreprocessor\n",
    "from modeler.modeler import Modeler as sp\n",
    "from utils.date_utils import DateUtils\n",
    "import pandas as pd\n",
    "import matplotlib.pyplot as plt\n",
    "from datetime import datetime, timedelta, timezone\n",
    "from tqdm import tqdm\n",
    "import math\n",
    "import pickle"
   ]
  },
  {
   "cell_type": "code",
   "execution_count": 6,
   "metadata": {},
   "outputs": [],
   "source": [
    "## Loading Constants\n",
    "start = \"2008-01-01\"\n",
    "end = datetime.now().strftime(\"%Y-%m-%d\")\n",
    "# Loading Databases\n",
    "strat_db = Strategy(\"portfolio\")\n",
    "market = Market()\n",
    "weather = Weather()\n",
    "sec = SEC(\"sec\")\n",
    "market.connect()\n",
    "tickers = market.retrieve_data(\"sp500\").sort_values(\"Symbol\")\n",
    "correlations = market.retrieve_data(\"coint\")\n",
    "market.close()\n",
    "reload = True\n",
    "year = datetime.now().year\n",
    "week = datetime.now().isocalendar()[1]\n",
    "model_range = range(len(tickers[\"Symbol\"]))\n",
    "quarter = math.ceil((datetime.now().month - 1) // 3) + 1"
   ]
  },
  {
   "cell_type": "code",
   "execution_count": 7,
   "metadata": {},
   "outputs": [
    {
     "data": {
      "text/plain": [
       "2"
      ]
     },
     "execution_count": 7,
     "metadata": {},
     "output_type": "execute_result"
    }
   ],
   "source": [
    "quarter"
   ]
  },
  {
   "cell_type": "code",
   "execution_count": 8,
   "metadata": {
    "scrolled": true
   },
   "outputs": [
    {
     "name": "stderr",
     "output_type": "stream",
     "text": [
      "  6%|██████████▌                                                                                                                                                                        | 30/506 [01:31<19:14,  2.43s/it]"
     ]
    },
    {
     "name": "stdout",
     "output_type": "stream",
     "text": [
      "{'status': 'weekly modeling', 'ticker': 'AMC', 'year': '2021', 'week': '13', 'message': \"'AMC'\"}\n"
     ]
    },
    {
     "name": "stderr",
     "output_type": "stream",
     "text": [
      " 21%|█████████████████████████████████████▎                                                                                                                                            | 106/506 [05:36<18:45,  2.81s/it]"
     ]
    },
    {
     "name": "stdout",
     "output_type": "stream",
     "text": [
      "{'status': 'weekly modeling', 'ticker': 'CNP', 'year': '2021', 'week': '13', 'message': \"'CNP'\"}\n"
     ]
    },
    {
     "name": "stderr",
     "output_type": "stream",
     "text": [
      "100%|██████████████████████████████████████████████████████████████████████████████████████████████████████████████████████████████████████████████████████████████████████████████████| 506/506 [25:08<00:00,  2.98s/it]\n"
     ]
    }
   ],
   "source": [
    "gap = 5\n",
    "week_gap = int(gap/5)\n",
    "training_years = 1\n",
    "sec.connect()\n",
    "strat_db.connect()\n",
    "classification = strat_db.retrieve_data(\"dataset_pdr_week_classification\")\n",
    "regression = strat_db.retrieve_data(\"dataset_pdr_week_regression\")\n",
    "strat_db.drop_table(\"weekly_models\")\n",
    "strat_db.drop_table(\"weekly_model_features\")\n",
    "for col in regression.columns:\n",
    "    if -99999 == regression[col].min():\n",
    "        regression.drop(col,axis=1,inplace=True)\n",
    "for col in classification.columns:\n",
    "    if -99999 == classification[col].min():\n",
    "        classification.drop(col,axis=1,inplace=True)\n",
    "try:\n",
    "    for i in tqdm(model_range):\n",
    "        try:\n",
    "            ticker = tickers.iloc[i][\"Symbol\"].replace(\".\",\"-\")\n",
    "            if ticker in regression.columns:\n",
    "                price = strat_db.retrieve_price_data(\"pdr_prices\",ticker)\n",
    "                mt = ModelTransformer(ticker,start,end,week_gap)\n",
    "                mr = ModelPreprocessor(ticker)\n",
    "                prot = ProductTransformer(ticker,start,end)\n",
    "                ## applying cointegration / correlations results\n",
    "                correlations[\"same\"] = [abs(x) for x in correlations[\"corr\"]]\n",
    "                tc = correlations[(correlations[\"t1\"]==ticker) | (correlations[\"t2\"]==ticker)]\n",
    "                tc = tc[tc[\"same\"] >= 0.8]\n",
    "                relevant_tickers = tc[\"t1\"].unique().tolist()\n",
    "                relevant_tickers.extend(tc[\"t2\"].unique().tolist())\n",
    "                rt = list(set(relevant_tickers))\n",
    "                regression_tickers = []\n",
    "                for relevant_ticker in rt:\n",
    "                    if relevant_ticker in regression.columns:\n",
    "                        regression_tickers.append(relevant_ticker)\n",
    "                regression_tickers.extend([\"year\",\"quarter\",\"week\"])\n",
    "                ticker_regression = regression[regression_tickers]\n",
    "                ## regression_model\n",
    "                first = ticker_regression[(ticker_regression[\"year\"] == year - training_years) & (ticker_regression[\"quarter\"] == quarter)].index.values.tolist()[0]\n",
    "                last = ticker_regression[(ticker_regression[\"year\"] == year) & (ticker_regression[\"quarter\"] == quarter)].index.values.tolist()[0]\n",
    "                rqpd = ticker_regression.iloc[first:last-1]\n",
    "                rqpd[\"y\"] = rqpd[ticker]\n",
    "                rqpd[\"y\"] = rqpd[\"y\"].shift(-week_gap)\n",
    "                rqpd = rqpd[:-week_gap]\n",
    "                qpd = mr.day_trade_preprocess_regression(rqpd.copy(),ticker,True)\n",
    "                q2c = qpd[\"X\"].columns\n",
    "                stuff = []\n",
    "                for col in q2c:\n",
    "                    stuff.append({\"ticker\":ticker,\"model\":\"regression\",\"feature\":col})\n",
    "                strat_db.store_data(\"weekly_model_features\",pd.DataFrame(stuff))\n",
    "                rpr = sp.regression(qpd,ranked=False,tf=False,deep=False)\n",
    "                ## classification_model\n",
    "                classification_tickers = []\n",
    "                for relevant_ticker in rt:\n",
    "                    if relevant_ticker in classification.columns:\n",
    "                        classification_tickers.append(relevant_ticker)\n",
    "                classification_tickers.extend([\"year\",\"quarter\",\"week\"])\n",
    "                ticker_classification = classification[classification_tickers]\n",
    "                first = ticker_classification[(ticker_classification[\"year\"] == year - training_years) & (ticker_classification[\"quarter\"] == quarter)].index.values.tolist()[0]\n",
    "                last = ticker_classification[(ticker_classification[\"year\"] == year) & (ticker_classification[\"quarter\"] == quarter)].index.values.tolist()[0]\n",
    "                cqpd = ticker_classification.iloc[first:last-1]\n",
    "                cqpd[\"y\"] = cqpd[ticker]\n",
    "                cqpd[\"y\"] = cqpd[\"y\"].shift(-week_gap)\n",
    "                cqpd = cqpd[:-week_gap]\n",
    "                qpd = mr.day_trade_preprocess_classify(cqpd.copy(),ticker)\n",
    "                q2c = qpd[\"X\"].columns\n",
    "                stuff = []\n",
    "                for col in q2c:\n",
    "                    stuff.append({\"ticker\":ticker,\"model\":\"classification\",\"feature\":col})\n",
    "                strat_db.store_data(\"weekly_model_features\",pd.DataFrame(stuff))\n",
    "                cpr = sp.classification(qpd,tf=False,deep=False)\n",
    "                price_results = pd.DataFrame([cpr,rpr])\n",
    "                price_results[\"ticker\"] = ticker\n",
    "                price_results[\"year\"] = year\n",
    "                price_results[\"quarter\"] = quarter\n",
    "                price_results[\"model\"] = [pickle.dumps(x) for x in price_results[\"model\"]]\n",
    "                strat_db.store_data(\"weekly_models\",price_results)\n",
    "        except Exception as e:\n",
    "            message = {\"status\":\"weekly modeling\",\"ticker\":ticker,\"year\":str(year),\"week\":str(week),\"message\":str(e)}\n",
    "            print(message)\n",
    "except Exception as e:\n",
    "    print(year,quarter,str(e))\n",
    "sec.close()\n",
    "strat_db.close()"
   ]
  },
  {
   "cell_type": "code",
   "execution_count": 9,
   "metadata": {},
   "outputs": [
    {
     "data": {
      "text/html": [
       "<div>\n",
       "<style scoped>\n",
       "    .dataframe tbody tr th:only-of-type {\n",
       "        vertical-align: middle;\n",
       "    }\n",
       "\n",
       "    .dataframe tbody tr th {\n",
       "        vertical-align: top;\n",
       "    }\n",
       "\n",
       "    .dataframe thead th {\n",
       "        text-align: right;\n",
       "    }\n",
       "</style>\n",
       "<table border=\"1\" class=\"dataframe\">\n",
       "  <thead>\n",
       "    <tr style=\"text-align: right;\">\n",
       "      <th></th>\n",
       "      <th>api</th>\n",
       "      <th>model</th>\n",
       "      <th>score</th>\n",
       "      <th>model_type</th>\n",
       "      <th>ticker</th>\n",
       "      <th>year</th>\n",
       "      <th>quarter</th>\n",
       "    </tr>\n",
       "  </thead>\n",
       "  <tbody>\n",
       "    <tr>\n",
       "      <th>2</th>\n",
       "      <td>skl</td>\n",
       "      <td>b\"\\x80\\x04\\x95\\xf2\\x08\\x00\\x00\\x00\\x00\\x00\\x00...</td>\n",
       "      <td>0.714286</td>\n",
       "      <td>classification</td>\n",
       "      <td>ZTS</td>\n",
       "      <td>2021</td>\n",
       "      <td>2</td>\n",
       "    </tr>\n",
       "    <tr>\n",
       "      <th>0</th>\n",
       "      <td>xgb</td>\n",
       "      <td>b'\\x80\\x04\\x95\\x0f#\\x00\\x00\\x00\\x00\\x00\\x00\\x8...</td>\n",
       "      <td>0.021333</td>\n",
       "      <td>regression</td>\n",
       "      <td>ZTS</td>\n",
       "      <td>2021</td>\n",
       "      <td>2</td>\n",
       "    </tr>\n",
       "  </tbody>\n",
       "</table>\n",
       "</div>"
      ],
      "text/plain": [
       "   api                                              model     score  \\\n",
       "2  skl  b\"\\x80\\x04\\x95\\xf2\\x08\\x00\\x00\\x00\\x00\\x00\\x00...  0.714286   \n",
       "0  xgb  b'\\x80\\x04\\x95\\x0f#\\x00\\x00\\x00\\x00\\x00\\x00\\x8...  0.021333   \n",
       "\n",
       "       model_type ticker  year  quarter  \n",
       "2  classification    ZTS  2021        2  \n",
       "0      regression    ZTS  2021        2  "
      ]
     },
     "execution_count": 9,
     "metadata": {},
     "output_type": "execute_result"
    }
   ],
   "source": [
    "price_results"
   ]
  }
 ],
 "metadata": {
  "kernelspec": {
   "display_name": "Python 3",
   "language": "python",
   "name": "python3"
  },
  "language_info": {
   "codemirror_mode": {
    "name": "ipython",
    "version": 3
   },
   "file_extension": ".py",
   "mimetype": "text/x-python",
   "name": "python",
   "nbconvert_exporter": "python",
   "pygments_lexer": "ipython3",
   "version": "3.8.0"
  }
 },
 "nbformat": 4,
 "nbformat_minor": 4
}
